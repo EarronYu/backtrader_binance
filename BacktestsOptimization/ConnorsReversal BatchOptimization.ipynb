{
 "cells": [
  {
   "cell_type": "markdown",
   "metadata": {},
   "source": [
    "# ConnorsReversal Strategy Batch Optimization\n",
    "\n",
    "这个notebook用于对多个交易对进行ConnorsReversal策略的批量优化。"
   ]
  },
  {
   "cell_type": "code",
   "execution_count": 1,
   "metadata": {},
   "outputs": [
    {
     "ename": "ModuleNotFoundError",
     "evalue": "No module named 'app'",
     "output_type": "error",
     "traceback": [
      "\u001b[1;31m---------------------------------------------------------------------------\u001b[0m",
      "\u001b[1;31mModuleNotFoundError\u001b[0m                       Traceback (most recent call last)",
      "Cell \u001b[1;32mIn[1], line 6\u001b[0m\n\u001b[0;32m      4\u001b[0m \u001b[38;5;28;01mimport\u001b[39;00m\u001b[38;5;250m \u001b[39m\u001b[38;5;21;01mnumpy\u001b[39;00m\u001b[38;5;250m \u001b[39m\u001b[38;5;28;01mas\u001b[39;00m\u001b[38;5;250m \u001b[39m\u001b[38;5;21;01mnp\u001b[39;00m\n\u001b[0;32m      5\u001b[0m \u001b[38;5;28;01mimport\u001b[39;00m\u001b[38;5;250m \u001b[39m\u001b[38;5;21;01mos\u001b[39;00m\n\u001b[1;32m----> 6\u001b[0m \u001b[38;5;28;01mfrom\u001b[39;00m\u001b[38;5;250m \u001b[39m\u001b[38;5;21;01mapp\u001b[39;00m\u001b[38;5;21;01m.\u001b[39;00m\u001b[38;5;21;01mplugins\u001b[39;00m\u001b[38;5;21;01m.\u001b[39;00m\u001b[38;5;21;01mconnors_reversal_plugin\u001b[39;00m\u001b[38;5;250m \u001b[39m\u001b[38;5;28;01mimport\u001b[39;00m Plugin\n",
      "\u001b[1;31mModuleNotFoundError\u001b[0m: No module named 'app'"
     ]
    }
   ],
   "source": [
    "import backtrader as bt\n",
    "import pandas as pd\n",
    "from datetime import datetime\n",
    "import numpy as np\n",
    "import os\n",
    "from app.plugins.connors_reversal_plugin import Plugin"
   ]
  },
  {
   "cell_type": "code",
   "execution_count": 2,
   "metadata": {},
   "outputs": [],
   "source": [
    "# 配置示例\n",
    "CONFIG = {\n",
    "    'data_path': r'\\\\znas\\Main\\futures',\n",
    "    'start_date': '2024-01-01',\n",
    "    'end_date': '2024-02-01',\n",
    "    'reports_path': 'reports',\n",
    "    'symbols_selection': {\n",
    "        'mode': 'specific',\n",
    "        'specific_symbols': ['BTC', 'ETH']\n",
    "    },\n",
    "    'score_weights': {\n",
    "        'ret_weight': 0.6,\n",
    "        'sqn_weight': 0.4,\n",
    "        'sharpe_weight': 0.2,\n",
    "        'win_rate_weight': 0.15,\n",
    "        'dd_weight': 0.1,\n",
    "        'min_trades': 50\n",
    "    }\n",
    "}"
   ]
  },
  {
   "cell_type": "code",
   "execution_count": 3,
   "metadata": {},
   "outputs": [],
   "source": [
    "class HeuristicBatchTester:\n",
    "    def __init__(self, config):\n",
    "        self.config = config\n",
    "        self.plugin = Plugin()\n",
    "        self.data_cache = {}\n",
    "        \n",
    "    def run_batch_test(self):\n",
    "        \"\"\"运行批量回测\"\"\"\n",
    "        # 确保报告目录存在\n",
    "        os.makedirs(self.config['reports_path'], exist_ok=True)\n",
    "        \n",
    "        # 获取要处理的交易对列表\n",
    "        symbols = self._get_symbols()\n",
    "        print(f\"将回测 {len(symbols)} 个交易对\")\n",
    "        \n",
    "        # 遍历每个交易对\n",
    "        for symbol in symbols:\n",
    "            self._test_single_symbol(symbol)\n",
    "            \n",
    "    def _test_single_symbol(self, symbol):\n",
    "        \"\"\"测试单个交易对\"\"\"\n",
    "        print(f\"\\n正在处理交易对: {symbol}\")\n",
    "        print(\"=\" * 50)\n",
    "        \n",
    "        # 遍历每个时间周期\n",
    "        for timeframe in ['30min', '15min', '5min', '1min']:\n",
    "            try:\n",
    "                # 准备配置\n",
    "                test_config = {\n",
    "                    'symbol': symbol,\n",
    "                    'target_timeframe': timeframe,\n",
    "                    'start_date': self.config['start_date'],\n",
    "                    'end_date': self.config['end_date'],\n",
    "                    'data_path': self.config['data_path'],\n",
    "                    'score_weights': self.config['score_weights']\n",
    "                }\n",
    "                \n",
    "                # 运行回测\n",
    "                results = self._run_single_test(test_config)\n",
    "                \n",
    "                # 保存结果\n",
    "                self._save_results(symbol, timeframe, results)\n",
    "                \n",
    "            except Exception as e:\n",
    "                print(f\"错误: 处理 {symbol}-{timeframe} 时发生异常: {str(e)}\")\n",
    "                continue\n",
    "                \n",
    "    def _run_single_test(self, config):\n",
    "        \"\"\"运行单个回测\"\"\"\n",
    "        # 使用插件的评估方法\n",
    "        individual = (\n",
    "            self.plugin.params['lowest_point_bars'],\n",
    "            self.plugin.params['rsi_length'],\n",
    "            self.plugin.params['sell_barrier'],\n",
    "            self.plugin.params['dca_parts']\n",
    "        )\n",
    "        \n",
    "        # 运行评估\n",
    "        score = self.plugin.evaluate_candidate(\n",
    "            individual=individual,\n",
    "            base_data=None,  # 这里不需要预测数据\n",
    "            hourly_predictions=None,\n",
    "            daily_predictions=None,\n",
    "            config=config\n",
    "        )\n",
    "        \n",
    "        return score\n",
    "\n",
    "    def _get_symbols(self):\n",
    "        \"\"\"获取要处理的交易对列表\"\"\"\n",
    "        if self.config['symbols_selection']['mode'] == 'specific':\n",
    "            return self.config['symbols_selection']['specific_symbols']\n",
    "        else:\n",
    "            # 实现获取所有交易对的逻辑\n",
    "            return self._get_all_symbols()\n",
    "            \n",
    "    def _save_results(self, symbol, timeframe, results):\n",
    "        \"\"\"保存回测结果\"\"\"\n",
    "        results_file = os.path.join(\n",
    "            self.config['reports_path'],\n",
    "            f\"backtest_results_{symbol}_{timeframe}.csv\"\n",
    "        )\n",
    "        \n",
    "        # 将结果保存为DataFrame\n",
    "        df = pd.DataFrame([results])\n",
    "        df.to_csv(results_file, index=False)\n"
   ]
  },
  {
   "cell_type": "code",
   "execution_count": 6,
   "metadata": {},
   "outputs": [],
   "source": [
    "# 使用示例\n",
    "def main():\n",
    "    batch_tester = HeuristicBatchTester(CONFIG)\n",
    "    batch_tester.run_batch_test()"
   ]
  },
  {
   "cell_type": "code",
   "execution_count": null,
   "metadata": {},
   "outputs": [
    {
     "name": "stdout",
     "output_type": "stream",
     "text": [
      "将优化 4 个交易对\n",
      "\n",
      "开始逐个处理交易对...\n",
      "\n",
      "正在处理交易对: BTCUSDT\n",
      "==================================================\n",
      "\n",
      "加载 BTCUSDT 的数据...\n",
      "加载 30min 时间周期...\n",
      "加载 15min 时间周期...\n",
      "加载 5min 时间周期...\n",
      "加载 1min 时间周期...\n",
      "\n",
      "成功加载 BTCUSDT 的 4 个时间周期数据\n",
      "\n",
      "开始优化 BTCUSDT-30min\n",
      "开始优化 BTCUSDT 在 30min 上的策略...\n"
     ]
    },
    {
     "name": "stderr",
     "output_type": "stream",
     "text": [
      "[I 2025-02-23 16:36:11,291] Using an existing study with name 'BTCUSDT_30min' instead of creating a new one.\n"
     ]
    },
    {
     "data": {
      "application/vnd.jupyter.widget-view+json": {
       "model_id": "394b90b0a7ab4c1a8a04d37d48948559",
       "version_major": 2,
       "version_minor": 0
      },
      "text/plain": [
       "  0%|          | 0/10 [00:00<?, ?it/s]"
      ]
     },
     "metadata": {},
     "output_type": "display_data"
    },
    {
     "name": "stdout",
     "output_type": "stream",
     "text": [
      "2025-02-01 策略启动 - Warmup: 110, MaxWindow: 50\n",
      "试验失败: {'params': {'lowest_point_bars': 45, 'rsi_length': 2, 'sell_barrier': 70, 'dca_parts': 4}, 'error': 'float division by zero', 'timestamp': Timestamp('2025-02-23 16:38:23.989707')}\n",
      "[I 2025-02-23 16:38:24,044] Trial 10 finished with value: -1000.0 and parameters: {'lowest_point_bars': 45, 'rsi_length': 2, 'sell_barrier': 70, 'dca_parts': 4}. Best is trial 0 with value: -1000.0.\n"
     ]
    },
    {
     "name": "stderr",
     "output_type": "stream",
     "text": [
      "[I 2025-02-23 16:39:10,560] Using an existing study with name 'BTCUSDT_15min' instead of creating a new one.\n"
     ]
    },
    {
     "name": "stdout",
     "output_type": "stream",
     "text": [
      "[W 2025-02-23 16:39:10,484] Trial 11 failed with parameters: {'lowest_point_bars': 45, 'rsi_length': 37, 'sell_barrier': 75, 'dca_parts': 8} because of the following error: KeyboardInterrupt().\n",
      "Traceback (most recent call last):\n",
      "  File \"c:\\Users\\x7498\\anaconda3\\envs\\backtesting\\lib\\site-packages\\optuna\\study\\_optimize.py\", line 197, in _run_trial\n",
      "    value_or_values = func(trial)\n",
      "  File \"C:\\Users\\x7498\\AppData\\Local\\Temp\\ipykernel_20804\\312880326.py\", line 55, in objective\n",
      "    results = cerebro.run()\n",
      "  File \"c:\\Users\\x7498\\anaconda3\\envs\\backtesting\\lib\\site-packages\\backtrader\\cerebro.py\", line 1132, in run\n",
      "    runstrat = self.runstrategies(iterstrat)\n",
      "  File \"c:\\Users\\x7498\\anaconda3\\envs\\backtesting\\lib\\site-packages\\backtrader\\cerebro.py\", line 1217, in runstrategies\n",
      "    data.preload()\n",
      "  File \"c:\\Users\\x7498\\anaconda3\\envs\\backtesting\\lib\\site-packages\\backtrader\\feed.py\", line 439, in preload\n",
      "    while self.load():\n",
      "  File \"c:\\Users\\x7498\\anaconda3\\envs\\backtesting\\lib\\site-packages\\backtrader\\feed.py\", line 480, in load\n",
      "    _loadret = self._load()\n",
      "  File \"c:\\Users\\x7498\\anaconda3\\envs\\backtesting\\lib\\site-packages\\backtrader\\feeds\\pandafeed.py\", line 255, in _load\n",
      "    line[0] = self.p.dataname.iloc[self._idx, colindex]\n",
      "  File \"c:\\Users\\x7498\\anaconda3\\envs\\backtesting\\lib\\site-packages\\pandas\\core\\indexing.py\", line 1066, in __getitem__\n",
      "    return self.obj._get_value(*key, takeable=self._takeable)\n",
      "  File \"c:\\Users\\x7498\\anaconda3\\envs\\backtesting\\lib\\site-packages\\pandas\\core\\frame.py\", line 3914, in _get_value\n",
      "    series = self._ixs(col, axis=1)\n",
      "  File \"c:\\Users\\x7498\\anaconda3\\envs\\backtesting\\lib\\site-packages\\pandas\\core\\frame.py\", line 3730, in _ixs\n",
      "    col_mgr = self._mgr.iget(i)\n",
      "  File \"c:\\Users\\x7498\\anaconda3\\envs\\backtesting\\lib\\site-packages\\pandas\\core\\internals\\managers.py\", line 1141, in iget\n",
      "    return SingleBlockManager(nb, self.axes[1], [ref], parent)\n",
      "  File \"c:\\Users\\x7498\\anaconda3\\envs\\backtesting\\lib\\site-packages\\pandas\\core\\internals\\managers.py\", line 1904, in __init__\n",
      "    if fastpath is not lib.no_default:\n",
      "KeyboardInterrupt\n",
      "[W 2025-02-23 16:39:10,497] Trial 11 failed with value None.\n",
      "\n",
      "优化被用户中断\n",
      "警告: BTCUSDT-30min 优化失败\n",
      "\n",
      "开始优化 BTCUSDT-15min\n",
      "开始优化 BTCUSDT 在 15min 上的策略...\n"
     ]
    },
    {
     "data": {
      "application/vnd.jupyter.widget-view+json": {
       "model_id": "aea5a9942d4d433f95c4df09ab323449",
       "version_major": 2,
       "version_minor": 0
      },
      "text/plain": [
       "  0%|          | 0/10 [00:00<?, ?it/s]"
      ]
     },
     "metadata": {},
     "output_type": "display_data"
    }
   ],
   "source": [
    "\n",
    "\n",
    "if __name__ == '__main__':\n",
    "    main()"
   ]
  }
 ],
 "metadata": {
  "kernelspec": {
   "display_name": "backtesting",
   "language": "python",
   "name": "python3"
  },
  "language_info": {
   "codemirror_mode": {
    "name": "ipython",
    "version": 3
   },
   "file_extension": ".py",
   "mimetype": "text/x-python",
   "name": "python",
   "nbconvert_exporter": "python",
   "pygments_lexer": "ipython3",
   "version": "3.10.16"
  }
 },
 "nbformat": 4,
 "nbformat_minor": 4
}
