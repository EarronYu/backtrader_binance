{
 "cells": [
  {
   "cell_type": "markdown",
   "metadata": {},
   "source": [
    "# MeanReverter Strategy Batch Optimization\n",
    "\n",
    "这个notebook用于对多个交易对进行MeanReverter策略的批量优化。"
   ]
  },
  {
   "cell_type": "code",
   "execution_count": 1,
   "metadata": {},
   "outputs": [
    {
     "name": "stderr",
     "output_type": "stream",
     "text": [
      "c:\\Users\\x7498\\anaconda3\\envs\\backtrader\\Lib\\site-packages\\tqdm\\auto.py:21: TqdmWarning: IProgress not found. Please update jupyter and ipywidgets. See https://ipywidgets.readthedocs.io/en/stable/user_install.html\n",
      "  from .autonotebook import tqdm as notebook_tqdm\n"
     ]
    }
   ],
   "source": [
    "# 导入必要的库...\n",
    "import os\n",
    "import pandas as pd\n",
    "from datetime import datetime\n",
    "from glob import glob\n",
    "import backtrader as bt \n",
    "import optuna\n",
    "import warnings\n",
    "import quantstats as qs\n",
    "warnings.filterwarnings('ignore')\n",
    "from IPython.display import clear_output\n",
    "from pathlib import Path  # 使用pathlib代替os\n",
    "# 添加必要的导入\n",
    "from concurrent.futures import ThreadPoolExecutor\n",
    "# _data_loading_executor = ThreadPoolExecutor(max_workers=10)  # 用于数据加载的线程池\n",
    "\n",
    "# 遍历每个交易对，但使用多进程方式\n",
    "from joblib import Parallel, delayed\n",
    "import numpy as np\n",
    "\n",
    "# 在此处添加全局缓存字典，用于缓存数据加载结果和数据完整性检查结果\n",
    "_data_feed_cache = {}\n",
    "_data_completeness_cache = {}"
   ]
  },
  {
   "cell_type": "code",
   "execution_count": 2,
   "metadata": {},
   "outputs": [],
   "source": [
    "from MeanReverterShort import MeanReverterShort\n",
    "\n",
    "# 在 CONFIG 中添加所有需要动态配置的参数\n",
    "CONFIG = {\n",
    "    # 策略相关配置\n",
    "    'strategy': {\n",
    "        'class': MeanReverterShort,\n",
    "        'name': MeanReverterShort.__name__\n",
    "    },\n",
    "    \n",
    "    # 数据相关配置（单币种、单时间周期）\n",
    "    # 如果 selected_symbols 为空，则通过 get_all_symbols 自动获取所有交易对\n",
    "    'selected_symbols': [\n",
    "    \"BTCUSDT\",\n",
    "    \"ETHUSDT\",\n",
    "    \"SOLUSDT\",\n",
    "    \"XRPUSDT\",\n",
    "    \"DOGEUSDT\",\n",
    "    \"BNBUSDT\",\n",
    "    \"OMUSDT\",\n",
    "    \"ADAUSDT\",\n",
    "    \"ENAUSDT\",\n",
    "    \"LTCUSDT\",\n",
    "    \"SUIUSDT\",\n",
    "    \"1000PEPEUSDT\",\n",
    "    \"AVAXUSDT\",\n",
    "    \"LINKUSDT\",\n",
    "    \"AAVEUSDT\",\n",
    "    \"TRXUSDT\",\n",
    "    \"ONDOUSDT\",\n",
    "    \"WLDUSDT\",\n",
    "    \"DOTUSDT\",\n",
    "    \"APTUSDT\",\n",
    "    \"UNIUSDT\",\n",
    "    \"FILUSDT\",\n",
    "    \"JUPUSDT\",\n",
    "    \"1000SHIBUSDT\",\n",
    "    \"SEIUSDT\",\n",
    "    \"ARBUSDT\",\n",
    "    \"ATOMUSDT\",\n",
    "    \"LDOUSDT\",\n",
    "    \"ALCHUSDT\",\n",
    "    \"OPUSDT\",],\n",
    "    \n",
    "    'data_path': r'\\\\znas\\Main\\futures',\n",
    "    'start_date': '2024-01-01',\n",
    "    'end_date': '2025-02-08',\n",
    "    'source_timeframe': '1m',\n",
    "    # 针对批量优化使用多个目标时间周期\n",
    "    'target_timeframes': ['30min'],\n",
    "    \n",
    "    # 文件保存配置\n",
    "    'reports_path': 'reports',\n",
    "    'results_filename_template': 'optimization_results_{strategy_name}_{start_date}-{end_date}.csv',\n",
    "    \n",
    "    # 回测参数配置\n",
    "    'commission': 0.0004,\n",
    "    'initial_capital': 10000,\n",
    "    # 如果需要可以添加：\n",
    "    # 'trade_on_close': True,\n",
    "    # 'exclusive_orders': True,\n",
    "    # 'hedging': False,\n",
    "    \n",
    "    # 优化参数配置，根据 MeanReverterShort 策略的参数进行优化\n",
    "    'optimization_params': {\n",
    "        'frequency': range(8, 16, 2),            # 用于计算慢速 RSI 均线的周期（默认10），步长为2\n",
    "        'rsiFrequency': range(38, 46, 2),         # 计算 RSI 的周期（默认40），步长为2\n",
    "        'sellZoneDistance': range(3, 8, 1),       # 卖出区域距离（默认5），步长为1\n",
    "        'avgUpATRSum': range(3, 8, 1),            # ATR求和周期（默认3），步长为1\n",
    "        'useAbsoluteRSIBarrier': [True, False],   # 是否使用绝对 RSI 阈值进行平仓（默认True）\n",
    "        'barrierLevel': range(44, 57, 2),          # 障碍水平（默认50），步长为2\n",
    "        'pyramiding': range(6, 11, 1)              # 最大加仓次数（默认8），步长为1\n",
    "    },\n",
    "    \n",
    "    # 优化设置\n",
    "    'optimization_settings': {\n",
    "        'n_trials': 160,       # 可根据需要调整试验次数\n",
    "        'min_trades': 50,\n",
    "        'timeout': 3600,\n",
    "        'n_jobs': 30           # -1 表示使用所有 CPU 核心; 也可以设置为具体的数量\n",
    "    },\n",
    "\n",
    "}"
   ]
  },
  {
   "cell_type": "code",
   "execution_count": 3,
   "metadata": {},
   "outputs": [],
   "source": [
    "def get_timeframe_params(timeframe_str):\n",
    "    \"\"\"\n",
    "    将时间周期字符串转换为 backtrader 的 timeframe 和 compression 参数\n",
    "    \"\"\"\n",
    "    if timeframe_str.endswith('min'):\n",
    "        return (bt.TimeFrame.Minutes, int(timeframe_str.replace('min', '')))\n",
    "    elif timeframe_str.endswith('H'):\n",
    "        return (bt.TimeFrame.Minutes, int(timeframe_str.replace('H', '')) * 60)\n",
    "    elif timeframe_str.endswith('D'):\n",
    "        return (bt.TimeFrame.Days, 1)\n",
    "    elif timeframe_str == '1m':\n",
    "        return (bt.TimeFrame.Minutes, 1)\n",
    "    else:\n",
    "        raise ValueError(f\"不支持的时间周期格式: {timeframe_str}\")\n",
    "\n",
    "\n",
    "\n",
    "def load_and_resample_data(symbol, start_date, end_date, source_timeframe='1m', target_timeframe='30min', data_path=r'\\\\znas\\Main\\futures'):\n",
    "    \"\"\"\n",
    "    加载并重采样期货数据，并缓存已经重采样后的 DataFrame 以避免重复 I/O 操作\n",
    "    \"\"\"\n",
    "    # 构造缓存键\n",
    "    key = (symbol, start_date, end_date, source_timeframe, target_timeframe, data_path)\n",
    "    if key in _data_feed_cache:\n",
    "        # 如果缓存中有，返回新的数据馈送对象（注意拷贝，防止被修改）\n",
    "        cached_df = _data_feed_cache[key]\n",
    "        timeframe, compression = get_timeframe_params(target_timeframe)\n",
    "        data_feed = bt.feeds.PandasData(\n",
    "            dataname=cached_df.copy(),\n",
    "            open='Open',\n",
    "            high='High',\n",
    "            low='Low',\n",
    "            close='Close',\n",
    "            volume='Volume',\n",
    "            openinterest=-1,\n",
    "            timeframe=timeframe,\n",
    "            compression=compression,\n",
    "            fromdate=pd.to_datetime(start_date),\n",
    "            todate=pd.to_datetime(end_date)\n",
    "        )\n",
    "        \n",
    "        # 添加clone方法，这样可以快速创建数据副本而不需要重新执行IO\n",
    "        data_feed.clone = lambda: bt.feeds.PandasData(\n",
    "            dataname=cached_df.copy(),\n",
    "            open='Open',\n",
    "            high='High',\n",
    "            low='Low',\n",
    "            close='Close',\n",
    "            volume='Volume',\n",
    "            openinterest=-1,\n",
    "            timeframe=timeframe,\n",
    "            compression=compression,\n",
    "            fromdate=pd.to_datetime(start_date),\n",
    "            todate=pd.to_datetime(end_date)\n",
    "        )\n",
    "        \n",
    "        return data_feed\n",
    "    \n",
    "    # 生成日期范围\n",
    "    date_range = pd.date_range(start=start_date, end=end_date, freq='D')\n",
    "    all_data = []\n",
    "    \n",
    "    # 标准化交易对名称\n",
    "    formatted_symbol = symbol.replace('/', '_').replace(':', '_')\n",
    "    if not formatted_symbol.endswith('USDT'):\n",
    "        formatted_symbol = f\"{formatted_symbol}USDT\"\n",
    "    \n",
    "    # 顺序读取文件，不使用线程池\n",
    "    for date in date_range:\n",
    "        date_str = date.strftime('%Y-%m-%d')\n",
    "        # 构建文件路径\n",
    "        file_path = os.path.join(data_path, date_str, f\"{date_str}_{formatted_symbol}_USDT_{source_timeframe}.csv\")\n",
    "        \n",
    "        try:\n",
    "            if os.path.exists(file_path):\n",
    "                # 读取数据\n",
    "                df = pd.read_csv(file_path)\n",
    "                df['datetime'] = pd.to_datetime(df['datetime'])\n",
    "                all_data.append(df)\n",
    "            else:\n",
    "                print(f\"文件不存在: {file_path}\")\n",
    "        except Exception as e:\n",
    "            print(f\"读取文件出错 {file_path}: {str(e)}\")\n",
    "            continue\n",
    "    \n",
    "    if not all_data:\n",
    "        raise ValueError(f\"未找到 {symbol} 在指定日期范围内的数据\")\n",
    "    \n",
    "    # 合并、排序，以及重采样数据\n",
    "    combined_df = pd.concat(all_data, ignore_index=True)\n",
    "    combined_df = combined_df.sort_values('datetime')\n",
    "    combined_df.set_index('datetime', inplace=True)\n",
    "    \n",
    "    resampled = combined_df.resample(target_timeframe).agg({\n",
    "        'open': 'first',\n",
    "        'high': 'max',\n",
    "        'low': 'min',\n",
    "        'close': 'last',\n",
    "        'volume': 'sum'\n",
    "    }).dropna()  # 立即删除NaN值\n",
    "    \n",
    "    backtesting_df = pd.DataFrame({\n",
    "        'Open': resampled['open'],\n",
    "        'High': resampled['high'],\n",
    "        'Low': resampled['low'],\n",
    "        'Close': resampled['close'],\n",
    "        'Volume': resampled['volume']\n",
    "    })\n",
    "    \n",
    "    # 确保所有数据都是数值类型并删除任何无效值\n",
    "    for col in ['Open', 'High', 'Low', 'Close', 'Volume']:\n",
    "        backtesting_df[col] = pd.to_numeric(backtesting_df[col], errors='coerce')\n",
    "    backtesting_df = backtesting_df.dropna()\n",
    "    \n",
    "    # 将结果缓存在全局变量中（使用拷贝，以免后续被修改）\n",
    "    _data_feed_cache[key] = backtesting_df.copy()\n",
    "    \n",
    "    timeframe, compression = get_timeframe_params(target_timeframe)\n",
    "    data_feed = bt.feeds.PandasData(\n",
    "        dataname=backtesting_df,\n",
    "        open='Open',\n",
    "        high='High',\n",
    "        low='Low',\n",
    "        close='Close',\n",
    "        volume='Volume',\n",
    "        openinterest=-1,\n",
    "        timeframe=timeframe,\n",
    "        compression=compression,\n",
    "        fromdate=pd.to_datetime(start_date),\n",
    "        todate=pd.to_datetime(end_date)\n",
    "    )\n",
    "    \n",
    "    # 添加clone方法\n",
    "    data_feed.clone = lambda: bt.feeds.PandasData(\n",
    "        dataname=backtesting_df.copy(),\n",
    "        open='Open',\n",
    "        high='High',\n",
    "        low='Low',\n",
    "        close='Close',\n",
    "        volume='Volume',\n",
    "        openinterest=-1,\n",
    "        timeframe=timeframe,\n",
    "        compression=compression,\n",
    "        fromdate=pd.to_datetime(start_date),\n",
    "        todate=pd.to_datetime(end_date)\n",
    "    )\n",
    "    \n",
    "    return data_feed"
   ]
  },
  {
   "cell_type": "code",
   "execution_count": 4,
   "metadata": {},
   "outputs": [],
   "source": [
    "def get_all_symbols(data_path, date_str):\n",
    "    \"\"\"获取指定日期目录下的所有交易对\"\"\"\n",
    "    daily_path = os.path.join(data_path, date_str)\n",
    "    if not os.path.exists(daily_path):\n",
    "        return []\n",
    "    \n",
    "    files = glob(os.path.join(daily_path, f\"{date_str}_*_USDT_1m.csv\"))\n",
    "    symbols = set()  # 使用 set 进行去重\n",
    "    for file in files:\n",
    "        filename = os.path.basename(file)\n",
    "        symbol = filename.split('_')[1]\n",
    "        symbols.add(symbol)\n",
    "    return list(symbols)\n",
    "\n",
    "def verify_data_completeness(symbol, start_date, end_date, data_path):\n",
    "    \"\"\"验证数据完整性\"\"\"\n",
    "    # 构造缓存键\n",
    "    key = (symbol, start_date, end_date, data_path)\n",
    "    if key in _data_completeness_cache:\n",
    "        return _data_completeness_cache[key]\n",
    "    \n",
    "    date_range = pd.date_range(start=start_date, end=end_date, freq='D')\n",
    "    \n",
    "    # 标准化交易对名称\n",
    "    formatted_symbol = symbol.replace('/', '_').replace(':', '_')\n",
    "    if not formatted_symbol.endswith('USDT'):\n",
    "        formatted_symbol = f\"{formatted_symbol}USDT\"\n",
    "    \n",
    "    for date in date_range:\n",
    "        date_str = date.strftime('%Y-%m-%d')\n",
    "        file_path = os.path.join(\n",
    "            data_path,\n",
    "            date_str,\n",
    "            f\"{date_str}_{formatted_symbol}_USDT_1m.csv\"  # 文件名格式保持不变\n",
    "        )\n",
    "        if not os.path.exists(file_path):\n",
    "            print(f\"文件不存在: {file_path}\")\n",
    "            _data_completeness_cache[key] = False\n",
    "            return False\n",
    "    _data_completeness_cache[key] = True\n",
    "    return True"
   ]
  },
  {
   "cell_type": "code",
   "execution_count": 5,
   "metadata": {},
   "outputs": [],
   "source": [
    "# 添加自定义评分函数\n",
    "def custom_score(strat):\n",
    "    \"\"\"\n",
    "    自定义评分函数 - 以最大化回报率为主要目标\n",
    "    保留最低交易次数要求作为基本约束\n",
    "    \"\"\"\n",
    "    # 获取交易次数\n",
    "    trades = strat.analyzers.trades.get_analysis()\n",
    "    total_trades = trades.get('total', {}).get('total', 0)\n",
    "    \n",
    "    # 从returns分析器获取总回报率\n",
    "    returns = strat.analyzers.returns.get_analysis()\n",
    "    total_return = returns.get('rtot', 0) * 100  # 转为百分比\n",
    "    \n",
    "    # 交易次数惩罚 - 确保策略至少有足够的交易\n",
    "    min_trades = CONFIG['optimization_settings'].get('min_trades', 50)\n",
    "    trade_penalty = 1.0 if total_trades >= min_trades else (total_trades / min_trades) ** 2\n",
    "    \n",
    "    # 最终得分简单地使用调整后的回报率\n",
    "    # 交易次数不足的策略会受到严厉惩罚\n",
    "    score = total_return * trade_penalty\n",
    "    \n",
    "    return score"
   ]
  },
  {
   "cell_type": "code",
   "execution_count": 6,
   "metadata": {},
   "outputs": [],
   "source": [
    "def load_master_results(config):\n",
    "    \"\"\"\n",
    "    加载全局优化结果文件，并提取已完成优化的组合（基于 'Symbol', 'Target Timeframe', 'Rank' 列）。\n",
    "    \"\"\"\n",
    "    # 构造 master 文件路径\n",
    "    start_clean = config['start_date'].replace(\"-\", \"\")\n",
    "    end_clean = config['end_date'].replace(\"-\", \"\")\n",
    "    master_file = os.path.join(\n",
    "        config['reports_path'], \n",
    "        config['results_filename_template'].format(\n",
    "            strategy_name=config['strategy']['name'],\n",
    "            start_date=start_clean,\n",
    "            end_date=end_clean\n",
    "        )\n",
    "    )\n",
    "    \n",
    "    if os.path.exists(master_file):\n",
    "        try:\n",
    "            master_df = pd.read_csv(master_file)\n",
    "        except Exception as e:\n",
    "            try:\n",
    "                master_df = pd.read_excel(master_file)\n",
    "            except Exception as e2:\n",
    "                print(f\"无法读取文件: {e}, {e2}\")\n",
    "                master_df = pd.DataFrame()\n",
    "    else:\n",
    "        master_df = pd.DataFrame()\n",
    "    \n",
    "    optimized_combinations = set()\n",
    "    if not master_df.empty:\n",
    "        if {'Target Timeframe', 'Symbol', 'Rank'}.issubset(master_df.columns):\n",
    "            for symbol in master_df['Symbol'].unique():\n",
    "                for tf in master_df['Target Timeframe'].unique():\n",
    "                    rows = master_df[(master_df['Symbol'] == symbol) & (master_df['Target Timeframe'] == tf)]\n",
    "                    ranks = rows['Rank'].tolist()\n",
    "                    # 当存在 5 个排名且排名为 1 到 5 时认为该组合已完成优化\n",
    "                    if len(ranks) == 5 and set(ranks) == set(range(1, 6)):\n",
    "                        optimized_combinations.add((symbol, tf))\n",
    "        else:\n",
    "            print(\"警告: 结果文件缺少必要的列，将重新开始优化\")\n",
    "    else:\n",
    "        print(\"优化结果文件为空\")\n",
    "        \n",
    "    return master_file, master_df, optimized_combinations\n",
    "\n",
    "def save_master_results(new_results, master_file):\n",
    "    \"\"\"\n",
    "    将新的优化结果追加到全局结果文件中，只进行追加操作，并避免重复数据。\n",
    "    \"\"\"\n",
    "    if not new_results:\n",
    "        print(\"警告: 没有新的结果需要保存\")\n",
    "        return\n",
    "\n",
    "    new_df = pd.DataFrame(new_results)\n",
    "    \n",
    "    try:\n",
    "        # 如果文件不存在或为空，直接写入\n",
    "        if not os.path.exists(master_file) or os.path.getsize(master_file) == 0:\n",
    "            # 确保目录存在\n",
    "            os.makedirs(os.path.dirname(master_file), exist_ok=True)\n",
    "            new_df.to_csv(master_file, index=False)\n",
    "            print(f\"创建新文件并写入 {len(new_df)} 条记录\")\n",
    "            return\n",
    "        \n",
    "        # 读取现有数据\n",
    "        try:\n",
    "            existing_df = pd.read_csv(master_file)\n",
    "            if existing_df.empty:\n",
    "                # 如果文件存在但为空，直接写入新数据\n",
    "                new_df.to_csv(master_file, index=False)\n",
    "                print(f\"文件为空，写入 {len(new_df)} 条新记录\")\n",
    "                return\n",
    "        except pd.errors.EmptyDataError:\n",
    "            # 如果文件存在但为空，直接写入新数据\n",
    "            new_df.to_csv(master_file, index=False)\n",
    "            print(f\"文件为空，写入 {len(new_df)} 条新记录\")\n",
    "            return\n",
    "        \n",
    "        # 创建用于检查重复的键\n",
    "        def create_key(row):\n",
    "            return f\"{row['Symbol']}_{row['Target Timeframe']}_{row['Rank']}\"\n",
    "        \n",
    "        existing_keys = set(existing_df.apply(create_key, axis=1))\n",
    "        new_df['_temp_key'] = new_df.apply(create_key, axis=1)\n",
    "        \n",
    "        # 过滤掉重复的记录\n",
    "        truly_new_df = new_df[~new_df['_temp_key'].isin(existing_keys)]\n",
    "        truly_new_df = truly_new_df.drop('_temp_key', axis=1)\n",
    "        \n",
    "        if len(truly_new_df) > 0:\n",
    "            # 追加非重复的新数据\n",
    "            truly_new_df.to_csv(master_file, mode='a', header=False, index=False)\n",
    "            print(f\"成功追加 {len(truly_new_df)} 条新记录（过滤掉 {len(new_df) - len(truly_new_df)} 条重复记录）\")\n",
    "        else:\n",
    "            print(\"所有记录都已存在，无需追加\")\n",
    "            \n",
    "    except Exception as e:\n",
    "        print(f\"处理数据时出错: {str(e)}\")\n",
    "        # 如果出错，尝试直接写入新文件\n",
    "        try:\n",
    "            backup_file = f\"{master_file}.backup_{datetime.now().strftime('%Y%m%d_%H%M%S')}.csv\"\n",
    "            if os.path.exists(master_file):\n",
    "                os.rename(master_file, backup_file)\n",
    "                print(f\"已将问题文件备份为: {backup_file}\")\n",
    "            new_df.to_csv(master_file, index=False)\n",
    "            print(f\"已创建新文件并写入 {len(new_df)} 条记录\")\n",
    "        except Exception as e2:\n",
    "            print(f\"备份和重写文件时出错: {str(e2)}\")\n",
    "        return\n",
    "\n",
    "    # 验证最终结果\n",
    "    try:\n",
    "        full_df = pd.read_csv(master_file)\n",
    "        print(f\"当前文件总共包含 {len(full_df)} 条记录\")\n",
    "    except Exception as e:\n",
    "        print(f\"验证追加结果时出错: {str(e)}\")"
   ]
  },
  {
   "cell_type": "code",
   "execution_count": 7,
   "metadata": {},
   "outputs": [],
   "source": [
    "def optimize_strategy(symbol, timeframe, master_file):\n",
    "    \"\"\"\n",
    "    使用 Optuna 优化策略参数，直接保存最优的前 5 个参数组合\n",
    "    \"\"\"\n",
    "    if not master_file:\n",
    "        raise ValueError(\"master_file 参数不能为空\")\n",
    "    \n",
    "    # ... 其余代码保持不变 ...\n",
    "    # ... 其他代码保持不变 ...\n",
    "    # 1. 预加载数据，只执行一次IO操作\n",
    "    preloaded_data = load_and_resample_data(\n",
    "        symbol, CONFIG['start_date'], CONFIG['end_date'],\n",
    "        target_timeframe=timeframe\n",
    "    )\n",
    "    \n",
    "    study = optuna.create_study(\n",
    "        study_name=f\"{symbol}_{timeframe}\",\n",
    "        direction=\"maximize\",\n",
    "        storage=None  # 使用内存存储\n",
    "    )\n",
    "    \n",
    "    print(f\"开始优化 {symbol}-{timeframe}...\")\n",
    "    \n",
    "    def objective(trial):\n",
    "        try:\n",
    "            params = {}\n",
    "            for param_name, param_range in CONFIG['optimization_params'].items():\n",
    "                if isinstance(param_range, range):\n",
    "                    params[param_name] = trial.suggest_int(\n",
    "                        param_name,\n",
    "                        param_range.start,\n",
    "                        param_range.stop - 1,\n",
    "                        param_range.step\n",
    "                    )\n",
    "                else:\n",
    "                    params[param_name] = trial.suggest_categorical(param_name, param_range)\n",
    "            \n",
    "            cerebro = bt.Cerebro(\n",
    "                        optdatas=True,    \n",
    "                        optreturn=True,   \n",
    "                        runonce=True,     \n",
    "                        preload=True      \n",
    "            )\n",
    "            data = preloaded_data.clone()\n",
    "            cerebro.adddata(data)\n",
    "            cerebro.addstrategy(CONFIG['strategy']['class'], **params)\n",
    "            \n",
    "            cerebro.addanalyzer(bt.analyzers.TradeAnalyzer, _name='trades')\n",
    "            cerebro.addanalyzer(bt.analyzers.Returns, _name='returns')\n",
    "            \n",
    "            results = cerebro.run()\n",
    "            strat = results[0]\n",
    "            score = custom_score(strat)\n",
    "            \n",
    "            print(f\"[{symbol}-{timeframe}] Trial {trial.number}: 参数 {params} -> 得分 {score:.2f}\")\n",
    "            \n",
    "            return score\n",
    "        except Exception as e:\n",
    "            print(f\"[{symbol}-{timeframe}] Trial {trial.number} 出错: {e}\")\n",
    "            return float('-inf')\n",
    "    \n",
    "    study.optimize(\n",
    "        objective,\n",
    "        n_trials=CONFIG['optimization_settings']['n_trials'],\n",
    "        timeout=CONFIG['optimization_settings']['timeout'],\n",
    "        n_jobs=CONFIG['optimization_settings'].get('n_jobs', 1),\n",
    "        catch=(Exception,)\n",
    "    )\n",
    "    \n",
    "    # 提取前 5 个最佳试验并直接保存\n",
    "    completed_trials = [\n",
    "        t for t in study.trials\n",
    "        if t.state == optuna.trial.TrialState.COMPLETE and t.value is not None and t.value > float('-inf')\n",
    "    ]\n",
    "    \n",
    "    if not completed_trials:\n",
    "        print(f\"警告: {symbol}-{timeframe} 没有有效的完成试验\")\n",
    "        return []\n",
    "    \n",
    "    top_trials = sorted(completed_trials, key=lambda t: t.value, reverse=True)[:5]\n",
    "    \n",
    "    # 准备保存结果\n",
    "    results_to_save = []\n",
    "    for rank, trial in enumerate(top_trials, 1):\n",
    "        result = {\n",
    "            'Symbol': symbol,\n",
    "            'Target Timeframe': timeframe,\n",
    "            'Rank': rank,\n",
    "            'Score': trial.value,\n",
    "            **trial.params  # 展开参数\n",
    "        }\n",
    "        results_to_save.append(result)\n",
    "    \n",
    "    # 直接保存结果\n",
    "    save_master_results(results_to_save, master_file)\n",
    "    \n",
    "    print(f\"[{symbol}-{timeframe}] 已保存最佳参数组合\")\n",
    "    return results_to_save"
   ]
  },
  {
   "cell_type": "code",
   "execution_count": 8,
   "metadata": {},
   "outputs": [],
   "source": [
    "\n",
    "\n",
    "# def process_symbol_tf(symbol, tf, config):\n",
    "#     \"\"\"\n",
    "#     针对单个交易对和指定时间周期执行策略参数优化与回测，并赋予 1~5 的排名。\n",
    "#     \"\"\"\n",
    "#     print(f\"\\n开始针对 {symbol} 时间周期 {tf} 优化...\")\n",
    "#     # 使用已有的 optimize_strategy 函数\n",
    "#     top_results = optimize_strategy(symbol, tf)\n",
    "#     if not top_results:\n",
    "#         print(f\"警告: {symbol} 在 {tf} 时间周期下优化失败\")\n",
    "#         return []\n",
    "    \n",
    "#     processed_results = []\n",
    "#     # 为每个参数组合运行回测并获取量化指标，同时赋予排名\n",
    "#     for idx, res in enumerate(top_results, start=1):\n",
    "#         res['Symbol'] = symbol\n",
    "#         res['Target Timeframe'] = tf\n",
    "#         res['Rank'] = idx\n",
    "#         metrics = run_backtest_with_params(res, symbol, tf)\n",
    "#         res.update(metrics)\n",
    "#         processed_results.append(res)\n",
    "        \n",
    "#     print(f\"完成 {symbol} 在 {tf} 时间周期下的优化，获得 {len(processed_results)} 个结果\")\n",
    "#     return processed_results\n",
    "\n",
    "\n",
    "\n",
    "def auto_backup_results(master_file, backup_folder='backups'):\n",
    "    \"\"\"\n",
    "    创建优化结果文件的自动备份\n",
    "    \"\"\"\n",
    "    if not os.path.exists(master_file):\n",
    "        print(f\"文件不存在，无需备份: {master_file}\")\n",
    "        return\n",
    "    \n",
    "    # 创建备份目录\n",
    "    os.makedirs(backup_folder, exist_ok=True)\n",
    "    \n",
    "    # 创建带时间戳的备份文件名\n",
    "    timestamp = datetime.now().strftime(\"%Y%m%d_%H%M%S\")\n",
    "    filename = os.path.basename(master_file)\n",
    "    backup_file = os.path.join(backup_folder, f\"{filename}.{timestamp}.bak\")\n",
    "    \n",
    "    try:\n",
    "        import shutil\n",
    "        shutil.copy2(master_file, backup_file)\n",
    "        print(f\"已自动创建备份: {backup_file}\")\n",
    "    except Exception as e:\n",
    "        print(f\"自动备份失败: {str(e)}\")\n",
    "\n",
    "def batch_optimize(config):\n",
    "    \"\"\"\n",
    "    批量优化所有交易对和指定多个时间周期\n",
    "    \"\"\"\n",
    "\n",
    "    # 使用多线程并行处理\n",
    "    import threading\n",
    "    from queue import Queue\n",
    "\n",
    "    os.makedirs(config['reports_path'], exist_ok=True)\n",
    "    \n",
    "    master_file, master_df, optimized_combinations = load_master_results(config)\n",
    "    \n",
    "    # 获取交易对列表\n",
    "    if config.get('selected_symbols'):\n",
    "        symbols = config['selected_symbols']\n",
    "    else:\n",
    "        symbols = get_all_symbols(config['data_path'], config['start_date'])\n",
    "    \n",
    "    # 创建备份\n",
    "    auto_backup_results(master_file)\n",
    "    \n",
    "    # 准备未完成的组合\n",
    "    remaining_combinations = []\n",
    "    for symbol in symbols:\n",
    "        for tf in config['target_timeframes']:\n",
    "            if (symbol, tf) not in optimized_combinations:\n",
    "                remaining_combinations.append((symbol, tf))\n",
    "    \n",
    "    print(f\"剩余需要优化的组合数量: {len(remaining_combinations)} 个\")\n",
    "    \n",
    "    # 使用多线程处理\n",
    "    task_queue = Queue()\n",
    "    for combo in remaining_combinations:\n",
    "        task_queue.put(combo)\n",
    "    \n",
    "    file_lock = threading.Lock()\n",
    "    \n",
    "    def worker():\n",
    "        while not task_queue.empty():\n",
    "            try:\n",
    "                symbol, tf = task_queue.get(block=False)\n",
    "                print(f\"开始处理组合: {symbol}-{tf}\")\n",
    "                with file_lock:\n",
    "                    optimize_strategy(symbol, tf, master_file)  # 传入 master_file\n",
    "                task_queue.task_done()\n",
    "            except Exception as e:\n",
    "                print(f\"处理任务出错: {e}\")\n",
    "                try:\n",
    "                    task_queue.task_done()\n",
    "                except:\n",
    "                    pass\n",
    "    \n",
    "    # 创建并启动线程\n",
    "    n_threads = min(30, len(remaining_combinations))\n",
    "    threads = []\n",
    "    for _ in range(n_threads):\n",
    "        t = threading.Thread(target=worker)\n",
    "        t.daemon = True\n",
    "        threads.append(t)\n",
    "        t.start()\n",
    "    \n",
    "    # 等待所有线程完成\n",
    "    for t in threads:\n",
    "        t.join()\n",
    "    \n",
    "    # 最终备份\n",
    "    auto_backup_results(master_file, backup_folder='backups_final')\n",
    "    print(\"批量优化完成\")\n"
   ]
  },
  {
   "cell_type": "code",
   "execution_count": 9,
   "metadata": {},
   "outputs": [],
   "source": [
    "# def process_symbol_batch(symbol, timeframes, config_path):\n",
    "#     \"\"\"用于并行处理的包装函数，避免传递大型配置对象\"\"\"\n",
    "#     try:\n",
    "#         # 在子进程中重新加载配置，避免序列化问题\n",
    "#         import json\n",
    "#         with open(config_path, 'r') as f:\n",
    "#             config = json.load(f)\n",
    "            \n",
    "#         # 导入必要的模块（每个进程需要单独导入）\n",
    "#         import os\n",
    "#         import pandas as pd\n",
    "#         import optuna\n",
    "#         import backtrader as bt\n",
    "        \n",
    "#         results = []\n",
    "        \n",
    "#         print(f\"开始处理交易对: {symbol}\")\n",
    "#         # 验证数据完整性\n",
    "#         if not verify_data_completeness(symbol, config['start_date'], config['end_date'], config['data_path']):\n",
    "#             print(f\"警告: 跳过 {symbol} - 数据不完整\")\n",
    "#             return []\n",
    "        \n",
    "#         # 处理每个时间周期\n",
    "#         for tf in timeframes:\n",
    "#             print(f\"处理组合: {symbol}-{tf}\")\n",
    "#             # 使用内存存储优化\n",
    "#             top_results = optimize_strategy(symbol, tf)\n",
    "#             if not top_results:\n",
    "#                 continue\n",
    "                \n",
    "#             processed_results = []\n",
    "#             # 为每个参数组合运行回测并获取量化指标\n",
    "#             for idx, res in enumerate(top_results, start=1):\n",
    "#                 res['Symbol'] = symbol\n",
    "#                 res['Target Timeframe'] = tf\n",
    "#                 res['Rank'] = idx\n",
    "#                 metrics = run_backtest_with_params(res, symbol, tf)\n",
    "#                 res.update(metrics)\n",
    "#                 processed_results.append(res)\n",
    "            \n",
    "#             results.extend(processed_results)\n",
    "#             print(f\"完成组合 {symbol}-{tf} 的优化\")\n",
    "        \n",
    "#         return results\n",
    "#     except Exception as e:\n",
    "#         import traceback\n",
    "#         error_msg = f\"处理 {symbol} 时出错: {str(e)}\\n{traceback.format_exc()}\"\n",
    "#         print(error_msg)\n",
    "#         # 返回错误信息而不是引发异常\n",
    "#         return [{\"error\": error_msg, \"Symbol\": symbol}]"
   ]
  },
  {
   "cell_type": "code",
   "execution_count": 10,
   "metadata": {},
   "outputs": [],
   "source": [
    "# def run_backtest_with_params(params, symbol, timeframe):\n",
    "#     \"\"\"\n",
    "#     使用指定参数运行策略的回测并计算收益指标（利用 quantstats）。\n",
    "#     返回一个包含基础回测指标和所有 quantstats 指标的字典。\n",
    "#     \"\"\"\n",
    "#     # 过滤掉不属于策略参数部分的键（如 'score', 'symbol', 'timeframe'等）\n",
    "#     valid_keys = set(CONFIG[\"optimization_params\"].keys())\n",
    "#     strategy_params = {k: v for k, v in params.items() if k in valid_keys}\n",
    "\n",
    "#     cerebro = bt.Cerebro(\n",
    "#                 optdatas=True,    # 启用数据优化\n",
    "#                 optreturn=True,   # 仅返回必要结果\n",
    "#                 runonce=True,     # 批处理模式\n",
    "#                 preload=True      # 预加载数据\n",
    "#     )\n",
    "#     data = load_and_resample_data(symbol, CONFIG['start_date'], CONFIG['end_date'],\n",
    "#                                   target_timeframe=timeframe)\n",
    "#     cerebro.adddata(data)\n",
    "#     # 只传入过滤后的策略参数\n",
    "#     cerebro.addstrategy(CONFIG['strategy']['class'], **strategy_params)\n",
    "\n",
    "#     initial_capital = CONFIG['initial_capital']\n",
    "#     cerebro.broker.setcash(initial_capital)\n",
    "#     cerebro.broker.setcommission(commission=CONFIG['commission'])\n",
    "\n",
    "#     # 添加常用分析器，包括 PyFolio 用于后续量化指标计算\n",
    "#     # cerebro.addanalyzer(bt.analyzers.SharpeRatio, _name='sharpe')\n",
    "#     # cerebro.addanalyzer(bt.analyzers.DrawDown, _name='drawdown')\n",
    "#     cerebro.addanalyzer(bt.analyzers.TradeAnalyzer, _name='trades')\n",
    "#     cerebro.addanalyzer(bt.analyzers.Returns, _name='returns')\n",
    "#     cerebro.addanalyzer(bt.analyzers.PyFolio, _name='pyfolio')\n",
    "\n",
    "#     results = cerebro.run()\n",
    "#     strat = results[0]\n",
    "#     final_value = cerebro.broker.getvalue()\n",
    "#     profit = final_value - initial_capital\n",
    "#     roi = (profit / initial_capital) * 100\n",
    "\n",
    "#     # 获取 PyFolio 的回测收益率数据\n",
    "#     portfolio_stats = strat.analyzers.pyfolio.get_pf_items()\n",
    "#     returns = portfolio_stats[0]\n",
    "    \n",
    "#     # 修改这里：确保索引没有时区信息，避免使用tz_convert\n",
    "#     # 首先检查是否有时区信息再进行处理\n",
    "#     try:\n",
    "#         if hasattr(returns.index, 'tz') and returns.index.tz is not None:\n",
    "#             returns.index = returns.index.tz_localize(None)\n",
    "#     except:\n",
    "#         # 如果无法处理时区，创建一个新的无时区索引\n",
    "#         try:\n",
    "#             returns = pd.Series(returns.values, index=pd.DatetimeIndex(returns.index.astype('datetime64[ns]')))\n",
    "#         except:\n",
    "#             # 如果依然失败，使用更简单的方法\n",
    "#             returns = pd.Series(returns.values, index=pd.DatetimeIndex([str(idx) for idx in returns.index]))\n",
    "\n",
    "#     # 计算量化指标（完整的收益指标）\n",
    "#     qs_stats = {}\n",
    "#     try:\n",
    "#         qs_stats[\"Sharpe Ratio\"] = qs.stats.sharpe(returns)\n",
    "#         qs_stats[\"Sortino Ratio\"] = qs.stats.sortino(returns)\n",
    "#         qs_stats[\"Calmar Ratio\"] = qs.stats.calmar(returns)\n",
    "#         qs_stats[\"Max Drawdown\"] = qs.stats.max_drawdown(returns)\n",
    "#         qs_stats[\"Win Rate\"] = qs.stats.win_rate(returns)\n",
    "#         qs_stats[\"Profit Factor\"] = qs.stats.profit_factor(returns)\n",
    "#         qs_stats[\"Expected Return (M)\"] = qs.stats.expected_return(returns, aggregate='M')\n",
    "#         qs_stats[\"Kelly Criterion\"] = qs.stats.kelly_criterion(returns)\n",
    "#         qs_stats[\"Risk of Ruin\"] = qs.stats.risk_of_ruin(returns)\n",
    "#         qs_stats[\"Tail Ratio\"] = qs.stats.tail_ratio(returns)\n",
    "#         qs_stats[\"Common Sense Ratio\"] = qs.stats.common_sense_ratio(returns)\n",
    "#         qs_stats[\"Average Win\"] = qs.stats.avg_win(returns)\n",
    "#         qs_stats[\"Average Loss\"] = qs.stats.avg_loss(returns)\n",
    "#         qs_stats[\"Annualized Volatility\"] = qs.stats.volatility(returns, periods=252)\n",
    "#         qs_stats[\"Skew\"] = qs.stats.skew(returns)\n",
    "#         qs_stats[\"Kurtosis\"] = qs.stats.kurtosis(returns)\n",
    "#         qs_stats[\"Value at Risk\"] = qs.stats.value_at_risk(returns)\n",
    "#         qs_stats[\"Conditional VaR\"] = qs.stats.conditional_value_at_risk(returns)\n",
    "#         qs_stats[\"Payoff Ratio\"] = qs.stats.payoff_ratio(returns)\n",
    "#         qs_stats[\"Gain to Pain Ratio\"] = qs.stats.gain_to_pain_ratio(returns)\n",
    "#         qs_stats[\"Ulcer Index\"] = qs.stats.ulcer_index(returns)\n",
    "#         qs_stats[\"Consecutive Wins\"] = qs.stats.consecutive_wins(returns)\n",
    "#         qs_stats[\"Consecutive Losses\"] = qs.stats.consecutive_losses(returns)\n",
    "#         # ----------------- 新增指标 -----------------\n",
    "#         qs_stats[\"Avg Return\"] = qs.stats.avg_return(returns)\n",
    "#         qs_stats[\"CAGR\"] = qs.stats.cagr(returns)\n",
    "#         qs_stats[\"Expected Shortfall\"] = qs.stats.expected_shortfall(returns)\n",
    "#         qs_stats[\"Information Ratio\"] = qs.stats.information_ratio(returns)\n",
    "#         qs_stats[\"Profit Ratio\"] = qs.stats.profit_ratio(returns)\n",
    "#         qs_stats[\"R2\"] = qs.stats.r2(returns)\n",
    "#         qs_stats[\"R Squared\"] = qs.stats.r_squared(returns)\n",
    "#         qs_stats[\"Recovery Factor\"] = qs.stats.recovery_factor(returns)\n",
    "#         qs_stats[\"Risk-Return Ratio\"] = qs.stats.risk_return_ratio(returns)\n",
    "#         qs_stats[\"Win/Loss Ratio\"] = qs.stats.win_loss_ratio(returns)\n",
    "#         qs_stats[\"Worst\"] = qs.stats.worst(returns)\n",
    "#         # ------------------------------------------------\n",
    "#     except Exception as e:\n",
    "#         qs_stats[\"error\"] = str(e)\n",
    "\n",
    "#     # 整合基础回测指标与量化收益指标\n",
    "#     backtest_results = {\n",
    "#         \"Initial Capital\": initial_capital,\n",
    "#         \"Final Value\": final_value,\n",
    "#         \"Profit\": profit,\n",
    "#         \"ROI (%)\": roi,\n",
    "#     }\n",
    "#     backtest_results.update(qs_stats)\n",
    "\n",
    "#     return backtest_results"
   ]
  },
  {
   "cell_type": "code",
   "execution_count": 11,
   "metadata": {},
   "outputs": [],
   "source": [
    "# 新增清理函数：清理不在最终结果 CSV 中的 optuna 数据库文件\n",
    "# def clean_incomplete_optuna_db_files(config):\n",
    "#     \"\"\"\n",
    "#     清理不在最终优化结果 CSV 中的 optuna 数据库文件。\n",
    "#     该函数会读取最终结果 CSV（如果存在），提取已完成优化的 (Symbol, Target Timeframe) 组合，\n",
    "#     然后删除 reports 目录下不在该列表中的 optuna 数据库文件。\n",
    "#     \"\"\"\n",
    "#     import os\n",
    "#     from glob import glob\n",
    "\n",
    "#     # 从最终结果 CSV 中加载已完成优化组合\n",
    "#     master_file, master_df, optimized_combinations = load_master_results(config)\n",
    "#     print(f\"已完成优化组合: {optimized_combinations}\")\n",
    "    \n",
    "#     # 匹配与当前策略相关的 optuna 数据库文件\n",
    "#     pattern = os.path.join(config['reports_path'], f\"optuna_{config['strategy']['name']}_*.db\")\n",
    "#     db_files = glob(pattern)\n",
    "#     for db_file in db_files:\n",
    "#         filename = os.path.basename(db_file)\n",
    "#         prefix = f\"optuna_{config['strategy']['name']}_\"\n",
    "#         # 确保文件名格式正确\n",
    "#         if filename.startswith(prefix) and filename.endswith(\".db\"):\n",
    "#             # 去掉前缀和后缀，得到 \"symbol_timeframe\"\n",
    "#             core = filename[len(prefix):-3]  # 去掉后面的 \".db\"\n",
    "#             parts = core.rsplit(\"_\", 1)\n",
    "#             if len(parts) != 2:\n",
    "#                 continue\n",
    "#             symbol, timeframe = parts\n",
    "#             # 如果此组合不在最终结果中，则删除该数据库文件\n",
    "#             if (symbol, timeframe) not in optimized_combinations:\n",
    "#                 try:\n",
    "#                     os.remove(db_file)\n",
    "#                     print(f\"已删除未完成优化的数据库文件：{db_file}\")\n",
    "#                 except Exception as e:\n",
    "#                     print(f\"删除文件 {db_file} 出错：{e}\")\n",
    "#     print(\"数据库清理完成。\")"
   ]
  },
  {
   "cell_type": "code",
   "execution_count": 12,
   "metadata": {},
   "outputs": [],
   "source": [
    "# def restore_from_backup(master_file, backup_folder='backups'):\n",
    "#     \"\"\"\n",
    "#     从备份恢复优化结果文件\n",
    "#     \"\"\"\n",
    "#     # 检查备份文件夹\n",
    "#     if not os.path.exists(backup_folder):\n",
    "#         print(f\"备份文件夹不存在: {backup_folder}\")\n",
    "#         return False\n",
    "    \n",
    "#     # 查找与主文件相关的所有备份\n",
    "#     filename = os.path.basename(master_file)\n",
    "#     backup_pattern = os.path.join(backup_folder, f\"{filename}.*.bak\")\n",
    "#     import glob\n",
    "#     backup_files = glob.glob(backup_pattern)\n",
    "    \n",
    "#     if not backup_files:\n",
    "#         print(f\"没有找到备份文件: {backup_pattern}\")\n",
    "#         return False\n",
    "    \n",
    "#     # 按修改时间排序，获取最新的备份\n",
    "#     backup_files.sort(key=lambda x: os.path.getmtime(x), reverse=True)\n",
    "#     latest_backup = backup_files[0]\n",
    "    \n",
    "#     try:\n",
    "#         # 读取备份文件\n",
    "#         if latest_backup.endswith('.csv.bak'):\n",
    "#             backup_df = pd.read_csv(latest_backup)\n",
    "#         else:\n",
    "#             backup_df = pd.read_excel(latest_backup)\n",
    "        \n",
    "#         # 读取当前文件(如果存在)\n",
    "#         current_df = pd.DataFrame()\n",
    "#         if os.path.exists(master_file):\n",
    "#             try:\n",
    "#                 current_df = pd.read_csv(master_file)\n",
    "#             except:\n",
    "#                 print(f\"无法读取当前文件: {master_file}\")\n",
    "        \n",
    "#         # 比较记录数\n",
    "#         if current_df.empty or len(backup_df) > len(current_df):\n",
    "#             print(f\"备份文件包含 {len(backup_df)} 条记录，当前文件包含 {len(current_df)} 条记录\")\n",
    "            \n",
    "#             # 创建当前文件的备份（以防万一）\n",
    "#             if os.path.exists(master_file) and not current_df.empty:\n",
    "#                 timestamp = datetime.now().strftime(\"%Y%m%d_%H%M%S\")\n",
    "#                 current_backup = f\"{master_file}.before_restore.{timestamp}\"\n",
    "#                 import shutil\n",
    "#                 shutil.copy2(master_file, current_backup)\n",
    "#                 print(f\"在恢复前已创建当前文件的备份: {current_backup}\")\n",
    "            \n",
    "#             # 恢复备份文件\n",
    "#             import shutil\n",
    "#             shutil.copy2(latest_backup, master_file)\n",
    "#             print(f\"已从备份 {latest_backup} 恢复数据\")\n",
    "#             return True\n",
    "#         else:\n",
    "#             print(f\"当前文件记录数({len(current_df)})不少于备份文件({len(backup_df)})，无需恢复\")\n",
    "#             return False\n",
    "#     except Exception as e:\n",
    "#         print(f\"恢复过程中出错: {str(e)}\")\n",
    "#         return False\n"
   ]
  },
  {
   "cell_type": "code",
   "execution_count": 13,
   "metadata": {},
   "outputs": [
    {
     "name": "stdout",
     "output_type": "stream",
     "text": [
      "已自动创建备份: backups\\optimization_results_MeanReverterShort_20240101-20250208.csv.20250309_043122.bak\n",
      "剩余需要优化的组合数量: 10 个\n",
      "开始处理组合: ONDOUSDT-30min\n",
      "开始处理组合: WLDUSDT-30min\n",
      "文件不存在: \\\\znas\\Main\\futures\\2024-01-01\\2024-01-01_ONDOUSDT_USDT_1m.csv\n",
      "开始处理组合: KAITOUSDT-30min\n",
      "开始处理组合: IPUSDT-30min\n",
      "文件不存在: \\\\znas\\Main\\futures\\2024-01-02\\2024-01-02_ONDOUSDT_USDT_1m.csv\n",
      "开始处理组合: IPUSDT-30min\n",
      "开始处理组合: LAYERUSDT-30min\n",
      "文件不存在: \\\\znas\\Main\\futures\\2024-01-03\\2024-01-03_ONDOUSDT_USDT_1m.csv\n",
      "开始处理组合: TSTUSDT-30min\n",
      "文件不存在: \\\\znas\\Main\\futures\\2024-01-04\\2024-01-04_ONDOUSDT_USDT_1m.csv\n",
      "开始处理组合: SHELLUSDT-30min\n",
      "文件不存在: \\\\znas\\Main\\futures\\2024-01-05\\2024-01-05_ONDOUSDT_USDT_1m.csv\n",
      "开始处理组合: GPSUSDT-30min\n",
      "开始处理组合: ARKMUSDT-30min\n",
      "文件不存在: \\\\znas\\Main\\futures\\2024-01-06\\2024-01-06_ONDOUSDT_USDT_1m.csv\n",
      "文件不存在: \\\\znas\\Main\\futures\\2024-01-07\\2024-01-07_ONDOUSDT_USDT_1m.csv\n",
      "文件不存在: \\\\znas\\Main\\futures\\2024-01-08\\2024-01-08_ONDOUSDT_USDT_1m.csv\n",
      "文件不存在: \\\\znas\\Main\\futures\\2024-01-09\\2024-01-09_ONDOUSDT_USDT_1m.csv\n",
      "文件不存在: \\\\znas\\Main\\futures\\2024-01-10\\2024-01-10_ONDOUSDT_USDT_1m.csv\n",
      "文件不存在: \\\\znas\\Main\\futures\\2024-01-11\\2024-01-11_ONDOUSDT_USDT_1m.csv\n",
      "文件不存在: \\\\znas\\Main\\futures\\2024-01-12\\2024-01-12_ONDOUSDT_USDT_1m.csv\n",
      "文件不存在: \\\\znas\\Main\\futures\\2024-01-13\\2024-01-13_ONDOUSDT_USDT_1m.csv\n",
      "文件不存在: \\\\znas\\Main\\futures\\2024-01-14\\2024-01-14_ONDOUSDT_USDT_1m.csv\n",
      "文件不存在: \\\\znas\\Main\\futures\\2024-01-15\\2024-01-15_ONDOUSDT_USDT_1m.csv\n",
      "文件不存在: \\\\znas\\Main\\futures\\2024-01-16\\2024-01-16_ONDOUSDT_USDT_1m.csv\n",
      "文件不存在: \\\\znas\\Main\\futures\\2024-01-17\\2024-01-17_ONDOUSDT_USDT_1m.csv\n",
      "文件不存在: \\\\znas\\Main\\futures\\2024-01-18\\2024-01-18_ONDOUSDT_USDT_1m.csv\n",
      "文件不存在: \\\\znas\\Main\\futures\\2024-01-19\\2024-01-19_ONDOUSDT_USDT_1m.csv\n"
     ]
    },
    {
     "name": "stderr",
     "output_type": "stream",
     "text": [
      "[I 2025-03-09 04:31:32,146] A new study created in memory with name: ONDOUSDT_30min\n"
     ]
    },
    {
     "name": "stdout",
     "output_type": "stream",
     "text": [
      "开始优化 ONDOUSDT-30min...\n"
     ]
    },
    {
     "name": "stderr",
     "output_type": "stream",
     "text": [
      "[I 2025-03-09 04:34:42,786] Trial 5 finished with value: -3.4820994923763204 and parameters: {'frequency': 8, 'rsiFrequency': 44, 'sellZoneDistance': 6, 'avgUpATRSum': 7, 'useAbsoluteRSIBarrier': False, 'barrierLevel': 44, 'pyramiding': 10}. Best is trial 5 with value: -3.4820994923763204.\n"
     ]
    },
    {
     "name": "stdout",
     "output_type": "stream",
     "text": [
      "[ONDOUSDT-30min] Trial 5: 参数 {'frequency': 8, 'rsiFrequency': 44, 'sellZoneDistance': 6, 'avgUpATRSum': 7, 'useAbsoluteRSIBarrier': False, 'barrierLevel': 44, 'pyramiding': 10} -> 得分 -3.48\n",
      "[ONDOUSDT-30min] Trial 1: 参数 {'frequency': 8, 'rsiFrequency': 42, 'sellZoneDistance': 4, 'avgUpATRSum': 3, 'useAbsoluteRSIBarrier': True, 'barrierLevel': 44, 'pyramiding': 9} -> 得分 -15.49\n",
      "[ONDOUSDT-30min] Trial 4: 参数 {'frequency': 8, 'rsiFrequency': 40, 'sellZoneDistance': 6, 'avgUpATRSum': 6, 'useAbsoluteRSIBarrier': False, 'barrierLevel': 52, 'pyramiding': 8} -> 得分 -1.91\n"
     ]
    },
    {
     "name": "stderr",
     "output_type": "stream",
     "text": [
      "[I 2025-03-09 04:34:48,695] Trial 1 finished with value: -15.486606398683248 and parameters: {'frequency': 8, 'rsiFrequency': 42, 'sellZoneDistance': 4, 'avgUpATRSum': 3, 'useAbsoluteRSIBarrier': True, 'barrierLevel': 44, 'pyramiding': 9}. Best is trial 5 with value: -3.4820994923763204.\n",
      "[I 2025-03-09 04:34:49,062] Trial 4 finished with value: -1.9084455243476726 and parameters: {'frequency': 8, 'rsiFrequency': 40, 'sellZoneDistance': 6, 'avgUpATRSum': 6, 'useAbsoluteRSIBarrier': False, 'barrierLevel': 52, 'pyramiding': 8}. Best is trial 4 with value: -1.9084455243476726.\n",
      "[I 2025-03-09 04:34:50,962] Trial 8 finished with value: -32.34992785118856 and parameters: {'frequency': 8, 'rsiFrequency': 40, 'sellZoneDistance': 7, 'avgUpATRSum': 7, 'useAbsoluteRSIBarrier': True, 'barrierLevel': 46, 'pyramiding': 6}. Best is trial 4 with value: -1.9084455243476726.\n"
     ]
    },
    {
     "name": "stdout",
     "output_type": "stream",
     "text": [
      "[ONDOUSDT-30min] Trial 8: 参数 {'frequency': 8, 'rsiFrequency': 40, 'sellZoneDistance': 7, 'avgUpATRSum': 7, 'useAbsoluteRSIBarrier': True, 'barrierLevel': 46, 'pyramiding': 6} -> 得分 -32.35\n",
      "[ONDOUSDT-30min] Trial 0: 参数 {'frequency': 8, 'rsiFrequency': 40, 'sellZoneDistance': 3, 'avgUpATRSum': 7, 'useAbsoluteRSIBarrier': False, 'barrierLevel': 54, 'pyramiding': 6} -> 得分 -6.14\n"
     ]
    },
    {
     "name": "stderr",
     "output_type": "stream",
     "text": [
      "[I 2025-03-09 04:34:52,199] Trial 0 finished with value: -6.142751467366097 and parameters: {'frequency': 8, 'rsiFrequency': 40, 'sellZoneDistance': 3, 'avgUpATRSum': 7, 'useAbsoluteRSIBarrier': False, 'barrierLevel': 54, 'pyramiding': 6}. Best is trial 4 with value: -1.9084455243476726.\n",
      "[I 2025-03-09 04:34:56,136] Trial 3 finished with value: -2.1556746063349235 and parameters: {'frequency': 12, 'rsiFrequency': 40, 'sellZoneDistance': 3, 'avgUpATRSum': 7, 'useAbsoluteRSIBarrier': False, 'barrierLevel': 48, 'pyramiding': 6}. Best is trial 4 with value: -1.9084455243476726.\n"
     ]
    },
    {
     "name": "stdout",
     "output_type": "stream",
     "text": [
      "[ONDOUSDT-30min] Trial 3: 参数 {'frequency': 12, 'rsiFrequency': 40, 'sellZoneDistance': 3, 'avgUpATRSum': 7, 'useAbsoluteRSIBarrier': False, 'barrierLevel': 48, 'pyramiding': 6} -> 得分 -2.16\n"
     ]
    },
    {
     "name": "stderr",
     "output_type": "stream",
     "text": [
      "[I 2025-03-09 04:35:05,963] Trial 6 finished with value: -0.9554085268817814 and parameters: {'frequency': 12, 'rsiFrequency': 40, 'sellZoneDistance': 4, 'avgUpATRSum': 3, 'useAbsoluteRSIBarrier': False, 'barrierLevel': 44, 'pyramiding': 9}. Best is trial 6 with value: -0.9554085268817814.\n",
      "[I 2025-03-09 04:35:06,494] Trial 11 finished with value: 1.343391947274354 and parameters: {'frequency': 10, 'rsiFrequency': 44, 'sellZoneDistance': 5, 'avgUpATRSum': 4, 'useAbsoluteRSIBarrier': False, 'barrierLevel': 54, 'pyramiding': 9}. Best is trial 11 with value: 1.343391947274354.\n"
     ]
    },
    {
     "name": "stdout",
     "output_type": "stream",
     "text": [
      "[ONDOUSDT-30min] Trial 6: 参数 {'frequency': 12, 'rsiFrequency': 40, 'sellZoneDistance': 4, 'avgUpATRSum': 3, 'useAbsoluteRSIBarrier': False, 'barrierLevel': 44, 'pyramiding': 9} -> 得分 -0.96\n",
      "[ONDOUSDT-30min] Trial 11: 参数 {'frequency': 10, 'rsiFrequency': 44, 'sellZoneDistance': 5, 'avgUpATRSum': 4, 'useAbsoluteRSIBarrier': False, 'barrierLevel': 54, 'pyramiding': 9} -> 得分 1.34\n",
      "[ONDOUSDT-30min] Trial 2: 参数 {'frequency': 12, 'rsiFrequency': 38, 'sellZoneDistance': 4, 'avgUpATRSum': 3, 'useAbsoluteRSIBarrier': False, 'barrierLevel': 48, 'pyramiding': 9} -> 得分 -0.86\n"
     ]
    },
    {
     "name": "stderr",
     "output_type": "stream",
     "text": [
      "[I 2025-03-09 04:35:06,708] Trial 2 finished with value: -0.8559528467338257 and parameters: {'frequency': 12, 'rsiFrequency': 38, 'sellZoneDistance': 4, 'avgUpATRSum': 3, 'useAbsoluteRSIBarrier': False, 'barrierLevel': 48, 'pyramiding': 9}. Best is trial 11 with value: 1.343391947274354.\n",
      "[I 2025-03-09 04:35:07,803] Trial 15 finished with value: 2.0947520675175397 and parameters: {'frequency': 14, 'rsiFrequency': 42, 'sellZoneDistance': 4, 'avgUpATRSum': 6, 'useAbsoluteRSIBarrier': False, 'barrierLevel': 44, 'pyramiding': 10}. Best is trial 15 with value: 2.0947520675175397.\n",
      "[I 2025-03-09 04:35:08,358] Trial 13 finished with value: 8.646419648034186 and parameters: {'frequency': 14, 'rsiFrequency': 42, 'sellZoneDistance': 5, 'avgUpATRSum': 6, 'useAbsoluteRSIBarrier': False, 'barrierLevel': 44, 'pyramiding': 9}. Best is trial 13 with value: 8.646419648034186.\n"
     ]
    },
    {
     "name": "stdout",
     "output_type": "stream",
     "text": [
      "[ONDOUSDT-30min] Trial 15: 参数 {'frequency': 14, 'rsiFrequency': 42, 'sellZoneDistance': 4, 'avgUpATRSum': 6, 'useAbsoluteRSIBarrier': False, 'barrierLevel': 44, 'pyramiding': 10} -> 得分 2.09\n",
      "[ONDOUSDT-30min] Trial 13: 参数 {'frequency': 14, 'rsiFrequency': 42, 'sellZoneDistance': 5, 'avgUpATRSum': 6, 'useAbsoluteRSIBarrier': False, 'barrierLevel': 44, 'pyramiding': 9} -> 得分 8.65\n"
     ]
    },
    {
     "name": "stderr",
     "output_type": "stream",
     "text": [
      "[I 2025-03-09 04:35:12,327] Trial 9 finished with value: -29.498328824413466 and parameters: {'frequency': 10, 'rsiFrequency': 40, 'sellZoneDistance': 7, 'avgUpATRSum': 5, 'useAbsoluteRSIBarrier': True, 'barrierLevel': 46, 'pyramiding': 6}. Best is trial 13 with value: 8.646419648034186.\n"
     ]
    },
    {
     "name": "stdout",
     "output_type": "stream",
     "text": [
      "[ONDOUSDT-30min] Trial 9: 参数 {'frequency': 10, 'rsiFrequency': 40, 'sellZoneDistance': 7, 'avgUpATRSum': 5, 'useAbsoluteRSIBarrier': True, 'barrierLevel': 46, 'pyramiding': 6} -> 得分 -29.50\n"
     ]
    },
    {
     "name": "stderr",
     "output_type": "stream",
     "text": [
      "[I 2025-03-09 04:35:13,198] Trial 12 finished with value: 1.3234950381429265 and parameters: {'frequency': 12, 'rsiFrequency': 40, 'sellZoneDistance': 6, 'avgUpATRSum': 5, 'useAbsoluteRSIBarrier': False, 'barrierLevel': 46, 'pyramiding': 10}. Best is trial 13 with value: 8.646419648034186.\n"
     ]
    },
    {
     "name": "stdout",
     "output_type": "stream",
     "text": [
      "[ONDOUSDT-30min] Trial 12: 参数 {'frequency': 12, 'rsiFrequency': 40, 'sellZoneDistance': 6, 'avgUpATRSum': 5, 'useAbsoluteRSIBarrier': False, 'barrierLevel': 46, 'pyramiding': 10} -> 得分 1.32\n"
     ]
    },
    {
     "name": "stderr",
     "output_type": "stream",
     "text": [
      "[I 2025-03-09 04:35:15,171] Trial 14 finished with value: 8.918226972923495 and parameters: {'frequency': 14, 'rsiFrequency': 38, 'sellZoneDistance': 6, 'avgUpATRSum': 4, 'useAbsoluteRSIBarrier': True, 'barrierLevel': 54, 'pyramiding': 9}. Best is trial 14 with value: 8.918226972923495.\n"
     ]
    },
    {
     "name": "stdout",
     "output_type": "stream",
     "text": [
      "[ONDOUSDT-30min] Trial 14: 参数 {'frequency': 14, 'rsiFrequency': 38, 'sellZoneDistance': 6, 'avgUpATRSum': 4, 'useAbsoluteRSIBarrier': True, 'barrierLevel': 54, 'pyramiding': 9} -> 得分 8.92\n"
     ]
    },
    {
     "name": "stderr",
     "output_type": "stream",
     "text": [
      "[I 2025-03-09 04:35:17,961] Trial 26 finished with value: 6.813034094774134 and parameters: {'frequency': 14, 'rsiFrequency': 38, 'sellZoneDistance': 5, 'avgUpATRSum': 6, 'useAbsoluteRSIBarrier': False, 'barrierLevel': 48, 'pyramiding': 7}. Best is trial 14 with value: 8.918226972923495.\n"
     ]
    },
    {
     "name": "stdout",
     "output_type": "stream",
     "text": [
      "[ONDOUSDT-30min] Trial 26: 参数 {'frequency': 14, 'rsiFrequency': 38, 'sellZoneDistance': 5, 'avgUpATRSum': 6, 'useAbsoluteRSIBarrier': False, 'barrierLevel': 48, 'pyramiding': 7} -> 得分 6.81\n"
     ]
    },
    {
     "name": "stderr",
     "output_type": "stream",
     "text": [
      "[I 2025-03-09 04:35:18,801] Trial 28 finished with value: -14.924006167275552 and parameters: {'frequency': 8, 'rsiFrequency': 38, 'sellZoneDistance': 6, 'avgUpATRSum': 4, 'useAbsoluteRSIBarrier': True, 'barrierLevel': 46, 'pyramiding': 7}. Best is trial 14 with value: 8.918226972923495.\n"
     ]
    },
    {
     "name": "stdout",
     "output_type": "stream",
     "text": [
      "[ONDOUSDT-30min] Trial 28: 参数 {'frequency': 8, 'rsiFrequency': 38, 'sellZoneDistance': 6, 'avgUpATRSum': 4, 'useAbsoluteRSIBarrier': True, 'barrierLevel': 46, 'pyramiding': 7} -> 得分 -14.92\n",
      "[ONDOUSDT-30min] Trial 10: 参数 {'frequency': 10, 'rsiFrequency': 42, 'sellZoneDistance': 3, 'avgUpATRSum': 3, 'useAbsoluteRSIBarrier': False, 'barrierLevel': 44, 'pyramiding': 8} -> 得分 -2.22\n",
      "[ONDOUSDT-30min] Trial 27: 参数 {'frequency': 14, 'rsiFrequency': 44, 'sellZoneDistance': 7, 'avgUpATRSum': 3, 'useAbsoluteRSIBarrier': True, 'barrierLevel': 44, 'pyramiding': 9} -> 得分 -30.10\n"
     ]
    },
    {
     "name": "stderr",
     "output_type": "stream",
     "text": [
      "[I 2025-03-09 04:35:19,220] Trial 10 finished with value: -2.2238850278956885 and parameters: {'frequency': 10, 'rsiFrequency': 42, 'sellZoneDistance': 3, 'avgUpATRSum': 3, 'useAbsoluteRSIBarrier': False, 'barrierLevel': 44, 'pyramiding': 8}. Best is trial 14 with value: 8.918226972923495.\n",
      "[I 2025-03-09 04:35:19,275] Trial 27 finished with value: -30.102429875054927 and parameters: {'frequency': 14, 'rsiFrequency': 44, 'sellZoneDistance': 7, 'avgUpATRSum': 3, 'useAbsoluteRSIBarrier': True, 'barrierLevel': 44, 'pyramiding': 9}. Best is trial 14 with value: 8.918226972923495.\n"
     ]
    },
    {
     "name": "stdout",
     "output_type": "stream",
     "text": [
      "[ONDOUSDT-30min] Trial 29: 参数 {'frequency': 8, 'rsiFrequency': 42, 'sellZoneDistance': 4, 'avgUpATRSum': 7, 'useAbsoluteRSIBarrier': False, 'barrierLevel': 54, 'pyramiding': 7} -> 得分 -3.87\n"
     ]
    },
    {
     "name": "stderr",
     "output_type": "stream",
     "text": [
      "[I 2025-03-09 04:35:20,029] Trial 29 finished with value: -3.8742813765388253 and parameters: {'frequency': 8, 'rsiFrequency': 42, 'sellZoneDistance': 4, 'avgUpATRSum': 7, 'useAbsoluteRSIBarrier': False, 'barrierLevel': 54, 'pyramiding': 7}. Best is trial 14 with value: 8.918226972923495.\n",
      "[I 2025-03-09 04:35:21,189] Trial 25 finished with value: -21.774577057970372 and parameters: {'frequency': 8, 'rsiFrequency': 38, 'sellZoneDistance': 7, 'avgUpATRSum': 6, 'useAbsoluteRSIBarrier': True, 'barrierLevel': 44, 'pyramiding': 7}. Best is trial 14 with value: 8.918226972923495.\n"
     ]
    },
    {
     "name": "stdout",
     "output_type": "stream",
     "text": [
      "[ONDOUSDT-30min] Trial 25: 参数 {'frequency': 8, 'rsiFrequency': 38, 'sellZoneDistance': 7, 'avgUpATRSum': 6, 'useAbsoluteRSIBarrier': True, 'barrierLevel': 44, 'pyramiding': 7} -> 得分 -21.77\n",
      "[ONDOUSDT-30min] Trial 19: 参数 {'frequency': 12, 'rsiFrequency': 42, 'sellZoneDistance': 6, 'avgUpATRSum': 3, 'useAbsoluteRSIBarrier': True, 'barrierLevel': 54, 'pyramiding': 8} -> 得分 3.92\n"
     ]
    },
    {
     "name": "stderr",
     "output_type": "stream",
     "text": [
      "[I 2025-03-09 04:35:21,548] Trial 19 finished with value: 3.9185760619371695 and parameters: {'frequency': 12, 'rsiFrequency': 42, 'sellZoneDistance': 6, 'avgUpATRSum': 3, 'useAbsoluteRSIBarrier': True, 'barrierLevel': 54, 'pyramiding': 8}. Best is trial 14 with value: 8.918226972923495.\n",
      "[I 2025-03-09 04:35:22,944] Trial 18 finished with value: 13.829170558479372 and parameters: {'frequency': 14, 'rsiFrequency': 42, 'sellZoneDistance': 6, 'avgUpATRSum': 7, 'useAbsoluteRSIBarrier': False, 'barrierLevel': 44, 'pyramiding': 8}. Best is trial 18 with value: 13.829170558479372.\n"
     ]
    },
    {
     "name": "stdout",
     "output_type": "stream",
     "text": [
      "[ONDOUSDT-30min] Trial 24: 参数 {'frequency': 10, 'rsiFrequency': 40, 'sellZoneDistance': 6, 'avgUpATRSum': 3, 'useAbsoluteRSIBarrier': False, 'barrierLevel': 46, 'pyramiding': 7} -> 得分 1.80[ONDOUSDT-30min] Trial 18: 参数 {'frequency': 14, 'rsiFrequency': 42, 'sellZoneDistance': 6, 'avgUpATRSum': 7, 'useAbsoluteRSIBarrier': False, 'barrierLevel': 44, 'pyramiding': 8} -> 得分 13.83\n",
      "\n"
     ]
    },
    {
     "name": "stderr",
     "output_type": "stream",
     "text": [
      "[I 2025-03-09 04:35:23,277] Trial 24 finished with value: 1.8019911751688114 and parameters: {'frequency': 10, 'rsiFrequency': 40, 'sellZoneDistance': 6, 'avgUpATRSum': 3, 'useAbsoluteRSIBarrier': False, 'barrierLevel': 46, 'pyramiding': 7}. Best is trial 18 with value: 13.829170558479372.\n",
      "[I 2025-03-09 04:35:26,081] Trial 7 finished with value: 2.1633195880716074 and parameters: {'frequency': 14, 'rsiFrequency': 44, 'sellZoneDistance': 3, 'avgUpATRSum': 4, 'useAbsoluteRSIBarrier': False, 'barrierLevel': 54, 'pyramiding': 7}. Best is trial 18 with value: 13.829170558479372.\n"
     ]
    },
    {
     "name": "stdout",
     "output_type": "stream",
     "text": [
      "[ONDOUSDT-30min] Trial 7: 参数 {'frequency': 14, 'rsiFrequency': 44, 'sellZoneDistance': 3, 'avgUpATRSum': 4, 'useAbsoluteRSIBarrier': False, 'barrierLevel': 54, 'pyramiding': 7} -> 得分 2.16\n"
     ]
    },
    {
     "name": "stderr",
     "output_type": "stream",
     "text": [
      "[I 2025-03-09 04:35:27,763] Trial 23 finished with value: -14.131374529874217 and parameters: {'frequency': 14, 'rsiFrequency': 42, 'sellZoneDistance': 4, 'avgUpATRSum': 6, 'useAbsoluteRSIBarrier': True, 'barrierLevel': 44, 'pyramiding': 9}. Best is trial 18 with value: 13.829170558479372.\n"
     ]
    },
    {
     "name": "stdout",
     "output_type": "stream",
     "text": [
      "[ONDOUSDT-30min] Trial 23: 参数 {'frequency': 14, 'rsiFrequency': 42, 'sellZoneDistance': 4, 'avgUpATRSum': 6, 'useAbsoluteRSIBarrier': True, 'barrierLevel': 44, 'pyramiding': 9} -> 得分 -14.13\n"
     ]
    },
    {
     "name": "stderr",
     "output_type": "stream",
     "text": [
      "[I 2025-03-09 04:35:28,508] Trial 16 finished with value: 7.713558145863317 and parameters: {'frequency': 8, 'rsiFrequency': 40, 'sellZoneDistance': 4, 'avgUpATRSum': 3, 'useAbsoluteRSIBarrier': True, 'barrierLevel': 56, 'pyramiding': 9}. Best is trial 18 with value: 13.829170558479372.\n"
     ]
    },
    {
     "name": "stdout",
     "output_type": "stream",
     "text": [
      "[ONDOUSDT-30min] Trial 16: 参数 {'frequency': 8, 'rsiFrequency': 40, 'sellZoneDistance': 4, 'avgUpATRSum': 3, 'useAbsoluteRSIBarrier': True, 'barrierLevel': 56, 'pyramiding': 9} -> 得分 7.71\n"
     ]
    },
    {
     "name": "stderr",
     "output_type": "stream",
     "text": [
      "[I 2025-03-09 04:35:29,856] Trial 21 finished with value: 5.045444515188639 and parameters: {'frequency': 14, 'rsiFrequency': 44, 'sellZoneDistance': 4, 'avgUpATRSum': 4, 'useAbsoluteRSIBarrier': False, 'barrierLevel': 46, 'pyramiding': 6}. Best is trial 18 with value: 13.829170558479372.\n"
     ]
    },
    {
     "name": "stdout",
     "output_type": "stream",
     "text": [
      "[ONDOUSDT-30min] Trial 21: 参数 {'frequency': 14, 'rsiFrequency': 44, 'sellZoneDistance': 4, 'avgUpATRSum': 4, 'useAbsoluteRSIBarrier': False, 'barrierLevel': 46, 'pyramiding': 6} -> 得分 5.05\n",
      "[ONDOUSDT-30min] Trial 22: 参数 {'frequency': 14, 'rsiFrequency': 40, 'sellZoneDistance': 4, 'avgUpATRSum': 3, 'useAbsoluteRSIBarrier': False, 'barrierLevel': 50, 'pyramiding': 8} -> 得分 6.31\n"
     ]
    },
    {
     "name": "stderr",
     "output_type": "stream",
     "text": [
      "[I 2025-03-09 04:35:30,779] Trial 22 finished with value: 6.312989511460793 and parameters: {'frequency': 14, 'rsiFrequency': 40, 'sellZoneDistance': 4, 'avgUpATRSum': 3, 'useAbsoluteRSIBarrier': False, 'barrierLevel': 50, 'pyramiding': 8}. Best is trial 18 with value: 13.829170558479372.\n",
      "[I 2025-03-09 04:35:30,927] Trial 17 finished with value: -3.7034260384171986 and parameters: {'frequency': 8, 'rsiFrequency': 38, 'sellZoneDistance': 3, 'avgUpATRSum': 3, 'useAbsoluteRSIBarrier': True, 'barrierLevel': 46, 'pyramiding': 10}. Best is trial 18 with value: 13.829170558479372.\n",
      "[I 2025-03-09 04:35:31,314] Trial 20 finished with value: 0.3021939338388056 and parameters: {'frequency': 10, 'rsiFrequency': 42, 'sellZoneDistance': 4, 'avgUpATRSum': 7, 'useAbsoluteRSIBarrier': False, 'barrierLevel': 52, 'pyramiding': 7}. Best is trial 18 with value: 13.829170558479372.\n"
     ]
    },
    {
     "name": "stdout",
     "output_type": "stream",
     "text": [
      "[ONDOUSDT-30min] Trial 17: 参数 {'frequency': 8, 'rsiFrequency': 38, 'sellZoneDistance': 3, 'avgUpATRSum': 3, 'useAbsoluteRSIBarrier': True, 'barrierLevel': 46, 'pyramiding': 10} -> 得分 -3.70\n",
      "[ONDOUSDT-30min] Trial 20: 参数 {'frequency': 10, 'rsiFrequency': 42, 'sellZoneDistance': 4, 'avgUpATRSum': 7, 'useAbsoluteRSIBarrier': False, 'barrierLevel': 52, 'pyramiding': 7} -> 得分 0.30\n"
     ]
    },
    {
     "name": "stderr",
     "output_type": "stream",
     "text": [
      "[I 2025-03-09 04:38:04,930] Trial 30 finished with value: 5.457719647397273 and parameters: {'frequency': 12, 'rsiFrequency': 42, 'sellZoneDistance': 7, 'avgUpATRSum': 7, 'useAbsoluteRSIBarrier': False, 'barrierLevel': 54, 'pyramiding': 8}. Best is trial 18 with value: 13.829170558479372.\n"
     ]
    },
    {
     "name": "stdout",
     "output_type": "stream",
     "text": [
      "[ONDOUSDT-30min] Trial 30: 参数 {'frequency': 12, 'rsiFrequency': 42, 'sellZoneDistance': 7, 'avgUpATRSum': 7, 'useAbsoluteRSIBarrier': False, 'barrierLevel': 54, 'pyramiding': 8} -> 得分 5.46\n"
     ]
    },
    {
     "name": "stderr",
     "output_type": "stream",
     "text": [
      "[I 2025-03-09 04:38:06,737] Trial 34 finished with value: -33.3160111767517 and parameters: {'frequency': 12, 'rsiFrequency': 40, 'sellZoneDistance': 7, 'avgUpATRSum': 3, 'useAbsoluteRSIBarrier': True, 'barrierLevel': 46, 'pyramiding': 7}. Best is trial 18 with value: 13.829170558479372.\n"
     ]
    },
    {
     "name": "stdout",
     "output_type": "stream",
     "text": [
      "[ONDOUSDT-30min] Trial 34: 参数 {'frequency': 12, 'rsiFrequency': 40, 'sellZoneDistance': 7, 'avgUpATRSum': 3, 'useAbsoluteRSIBarrier': True, 'barrierLevel': 46, 'pyramiding': 7} -> 得分 -33.32\n"
     ]
    },
    {
     "name": "stderr",
     "output_type": "stream",
     "text": [
      "[I 2025-03-09 04:38:16,307] Trial 37 finished with value: -15.210248714002955 and parameters: {'frequency': 12, 'rsiFrequency': 42, 'sellZoneDistance': 5, 'avgUpATRSum': 6, 'useAbsoluteRSIBarrier': True, 'barrierLevel': 46, 'pyramiding': 10}. Best is trial 18 with value: 13.829170558479372.\n"
     ]
    },
    {
     "name": "stdout",
     "output_type": "stream",
     "text": [
      "[ONDOUSDT-30min] Trial 37: 参数 {'frequency': 12, 'rsiFrequency': 42, 'sellZoneDistance': 5, 'avgUpATRSum': 6, 'useAbsoluteRSIBarrier': True, 'barrierLevel': 46, 'pyramiding': 10} -> 得分 -15.21\n",
      "[ONDOUSDT-30min] Trial 33: 参数 {'frequency': 14, 'rsiFrequency': 40, 'sellZoneDistance': 6, 'avgUpATRSum': 3, 'useAbsoluteRSIBarrier': True, 'barrierLevel': 56, 'pyramiding': 9} -> 得分 19.71\n"
     ]
    },
    {
     "name": "stderr",
     "output_type": "stream",
     "text": [
      "[I 2025-03-09 04:38:17,099] Trial 33 finished with value: 19.711289854720786 and parameters: {'frequency': 14, 'rsiFrequency': 40, 'sellZoneDistance': 6, 'avgUpATRSum': 3, 'useAbsoluteRSIBarrier': True, 'barrierLevel': 56, 'pyramiding': 9}. Best is trial 33 with value: 19.711289854720786.\n"
     ]
    },
    {
     "name": "stdout",
     "output_type": "stream",
     "text": [
      "[ONDOUSDT-30min] Trial 31: 参数 {'frequency': 12, 'rsiFrequency': 44, 'sellZoneDistance': 5, 'avgUpATRSum': 5, 'useAbsoluteRSIBarrier': True, 'barrierLevel': 54, 'pyramiding': 8} -> 得分 -4.23\n"
     ]
    },
    {
     "name": "stderr",
     "output_type": "stream",
     "text": [
      "[I 2025-03-09 04:38:22,548] Trial 31 finished with value: -4.227750117300308 and parameters: {'frequency': 12, 'rsiFrequency': 44, 'sellZoneDistance': 5, 'avgUpATRSum': 5, 'useAbsoluteRSIBarrier': True, 'barrierLevel': 54, 'pyramiding': 8}. Best is trial 33 with value: 19.711289854720786.\n",
      "[I 2025-03-09 04:38:26,310] Trial 35 finished with value: -0.3485386910397752 and parameters: {'frequency': 10, 'rsiFrequency': 44, 'sellZoneDistance': 5, 'avgUpATRSum': 7, 'useAbsoluteRSIBarrier': False, 'barrierLevel': 54, 'pyramiding': 6}. Best is trial 33 with value: 19.711289854720786.\n"
     ]
    },
    {
     "name": "stdout",
     "output_type": "stream",
     "text": [
      "[ONDOUSDT-30min] Trial 35: 参数 {'frequency': 10, 'rsiFrequency': 44, 'sellZoneDistance': 5, 'avgUpATRSum': 7, 'useAbsoluteRSIBarrier': False, 'barrierLevel': 54, 'pyramiding': 6} -> 得分 -0.35\n"
     ]
    },
    {
     "name": "stderr",
     "output_type": "stream",
     "text": [
      "[I 2025-03-09 04:38:28,330] Trial 40 finished with value: -4.538455384901653 and parameters: {'frequency': 14, 'rsiFrequency': 42, 'sellZoneDistance': 5, 'avgUpATRSum': 5, 'useAbsoluteRSIBarrier': True, 'barrierLevel': 48, 'pyramiding': 10}. Best is trial 33 with value: 19.711289854720786.\n"
     ]
    },
    {
     "name": "stdout",
     "output_type": "stream",
     "text": [
      "[ONDOUSDT-30min] Trial 40: 参数 {'frequency': 14, 'rsiFrequency': 42, 'sellZoneDistance': 5, 'avgUpATRSum': 5, 'useAbsoluteRSIBarrier': True, 'barrierLevel': 48, 'pyramiding': 10} -> 得分 -4.54\n"
     ]
    },
    {
     "name": "stderr",
     "output_type": "stream",
     "text": [
      "[I 2025-03-09 04:38:34,558] Trial 38 finished with value: -4.538455384901653 and parameters: {'frequency': 14, 'rsiFrequency': 42, 'sellZoneDistance': 5, 'avgUpATRSum': 5, 'useAbsoluteRSIBarrier': True, 'barrierLevel': 48, 'pyramiding': 10}. Best is trial 33 with value: 19.711289854720786.\n"
     ]
    },
    {
     "name": "stdout",
     "output_type": "stream",
     "text": [
      "[ONDOUSDT-30min] Trial 38: 参数 {'frequency': 14, 'rsiFrequency': 42, 'sellZoneDistance': 5, 'avgUpATRSum': 5, 'useAbsoluteRSIBarrier': True, 'barrierLevel': 48, 'pyramiding': 10} -> 得分 -4.54\n"
     ]
    },
    {
     "name": "stderr",
     "output_type": "stream",
     "text": [
      "[I 2025-03-09 04:38:37,981] Trial 36 finished with value: 18.525471753569228 and parameters: {'frequency': 14, 'rsiFrequency': 42, 'sellZoneDistance': 6, 'avgUpATRSum': 4, 'useAbsoluteRSIBarrier': True, 'barrierLevel': 56, 'pyramiding': 9}. Best is trial 33 with value: 19.711289854720786.\n"
     ]
    },
    {
     "name": "stdout",
     "output_type": "stream",
     "text": [
      "[ONDOUSDT-30min] Trial 36: 参数 {'frequency': 14, 'rsiFrequency': 42, 'sellZoneDistance': 6, 'avgUpATRSum': 4, 'useAbsoluteRSIBarrier': True, 'barrierLevel': 56, 'pyramiding': 9} -> 得分 18.53\n"
     ]
    },
    {
     "name": "stderr",
     "output_type": "stream",
     "text": [
      "[I 2025-03-09 04:38:39,214] Trial 32 finished with value: -0.6585577390493438 and parameters: {'frequency': 10, 'rsiFrequency': 38, 'sellZoneDistance': 3, 'avgUpATRSum': 3, 'useAbsoluteRSIBarrier': False, 'barrierLevel': 56, 'pyramiding': 10}. Best is trial 33 with value: 19.711289854720786.\n"
     ]
    },
    {
     "name": "stdout",
     "output_type": "stream",
     "text": [
      "[ONDOUSDT-30min] Trial 32: 参数 {'frequency': 10, 'rsiFrequency': 38, 'sellZoneDistance': 3, 'avgUpATRSum': 3, 'useAbsoluteRSIBarrier': False, 'barrierLevel': 56, 'pyramiding': 10} -> 得分 -0.66\n"
     ]
    },
    {
     "name": "stderr",
     "output_type": "stream",
     "text": [
      "[I 2025-03-09 04:38:49,051] Trial 39 finished with value: -4.538455384901653 and parameters: {'frequency': 14, 'rsiFrequency': 42, 'sellZoneDistance': 5, 'avgUpATRSum': 5, 'useAbsoluteRSIBarrier': True, 'barrierLevel': 48, 'pyramiding': 10}. Best is trial 33 with value: 19.711289854720786.\n"
     ]
    },
    {
     "name": "stdout",
     "output_type": "stream",
     "text": [
      "[ONDOUSDT-30min] Trial 39: 参数 {'frequency': 14, 'rsiFrequency': 42, 'sellZoneDistance': 5, 'avgUpATRSum': 5, 'useAbsoluteRSIBarrier': True, 'barrierLevel': 48, 'pyramiding': 10} -> 得分 -4.54\n"
     ]
    },
    {
     "name": "stderr",
     "output_type": "stream",
     "text": [
      "[I 2025-03-09 04:38:51,561] Trial 41 finished with value: 8.585813142418633 and parameters: {'frequency': 14, 'rsiFrequency': 42, 'sellZoneDistance': 5, 'avgUpATRSum': 5, 'useAbsoluteRSIBarrier': False, 'barrierLevel': 50, 'pyramiding': 10}. Best is trial 33 with value: 19.711289854720786.\n"
     ]
    },
    {
     "name": "stdout",
     "output_type": "stream",
     "text": [
      "[ONDOUSDT-30min] Trial 41: 参数 {'frequency': 14, 'rsiFrequency': 42, 'sellZoneDistance': 5, 'avgUpATRSum': 5, 'useAbsoluteRSIBarrier': False, 'barrierLevel': 50, 'pyramiding': 10} -> 得分 8.59\n"
     ]
    },
    {
     "name": "stderr",
     "output_type": "stream",
     "text": [
      "[I 2025-03-09 04:39:04,927] Trial 43 finished with value: 13.625988689625482 and parameters: {'frequency': 14, 'rsiFrequency': 38, 'sellZoneDistance': 5, 'avgUpATRSum': 4, 'useAbsoluteRSIBarrier': True, 'barrierLevel': 56, 'pyramiding': 8}. Best is trial 33 with value: 19.711289854720786.\n"
     ]
    },
    {
     "name": "stdout",
     "output_type": "stream",
     "text": [
      "[ONDOUSDT-30min] Trial 43: 参数 {'frequency': 14, 'rsiFrequency': 38, 'sellZoneDistance': 5, 'avgUpATRSum': 4, 'useAbsoluteRSIBarrier': True, 'barrierLevel': 56, 'pyramiding': 8} -> 得分 13.63\n",
      "[ONDOUSDT-30min] Trial 42: 参数 {'frequency': 14, 'rsiFrequency': 42, 'sellZoneDistance': 5, 'avgUpATRSum': 6, 'useAbsoluteRSIBarrier': False, 'barrierLevel': 50, 'pyramiding': 8} -> 得分 9.66\n"
     ]
    },
    {
     "name": "stderr",
     "output_type": "stream",
     "text": [
      "[I 2025-03-09 04:39:08,906] Trial 42 finished with value: 9.658759991935993 and parameters: {'frequency': 14, 'rsiFrequency': 42, 'sellZoneDistance': 5, 'avgUpATRSum': 6, 'useAbsoluteRSIBarrier': False, 'barrierLevel': 50, 'pyramiding': 8}. Best is trial 33 with value: 19.711289854720786.\n",
      "[I 2025-03-09 04:39:17,781] Trial 50 finished with value: 15.883532685632156 and parameters: {'frequency': 14, 'rsiFrequency': 38, 'sellZoneDistance': 5, 'avgUpATRSum': 5, 'useAbsoluteRSIBarrier': True, 'barrierLevel': 56, 'pyramiding': 7}. Best is trial 33 with value: 19.711289854720786.\n"
     ]
    },
    {
     "name": "stdout",
     "output_type": "stream",
     "text": [
      "[ONDOUSDT-30min] Trial 50: 参数 {'frequency': 14, 'rsiFrequency': 38, 'sellZoneDistance': 5, 'avgUpATRSum': 5, 'useAbsoluteRSIBarrier': True, 'barrierLevel': 56, 'pyramiding': 7} -> 得分 15.88\n",
      "[ONDOUSDT-30min] Trial 49: 参数 {'frequency': 14, 'rsiFrequency': 38, 'sellZoneDistance': 5, 'avgUpATRSum': 5, 'useAbsoluteRSIBarrier': True, 'barrierLevel': 56, 'pyramiding': 7} -> 得分 15.88\n"
     ]
    },
    {
     "name": "stderr",
     "output_type": "stream",
     "text": [
      "[I 2025-03-09 04:39:17,969] Trial 49 finished with value: 15.883532685632156 and parameters: {'frequency': 14, 'rsiFrequency': 38, 'sellZoneDistance': 5, 'avgUpATRSum': 5, 'useAbsoluteRSIBarrier': True, 'barrierLevel': 56, 'pyramiding': 7}. Best is trial 33 with value: 19.711289854720786.\n",
      "[I 2025-03-09 04:39:18,821] Trial 51 finished with value: 17.060661234226682 and parameters: {'frequency': 14, 'rsiFrequency': 42, 'sellZoneDistance': 5, 'avgUpATRSum': 5, 'useAbsoluteRSIBarrier': True, 'barrierLevel': 56, 'pyramiding': 8}. Best is trial 33 with value: 19.711289854720786.\n"
     ]
    },
    {
     "name": "stdout",
     "output_type": "stream",
     "text": [
      "[ONDOUSDT-30min] Trial 51: 参数 {'frequency': 14, 'rsiFrequency': 42, 'sellZoneDistance': 5, 'avgUpATRSum': 5, 'useAbsoluteRSIBarrier': True, 'barrierLevel': 56, 'pyramiding': 8} -> 得分 17.06\n"
     ]
    },
    {
     "name": "stderr",
     "output_type": "stream",
     "text": [
      "[I 2025-03-09 04:39:19,730] Trial 46 finished with value: -5.706204907141631 and parameters: {'frequency': 14, 'rsiFrequency': 38, 'sellZoneDistance': 5, 'avgUpATRSum': 5, 'useAbsoluteRSIBarrier': True, 'barrierLevel': 50, 'pyramiding': 7}. Best is trial 33 with value: 19.711289854720786.\n",
      "[I 2025-03-09 04:39:20,038] Trial 45 finished with value: -1.0371023631964742 and parameters: {'frequency': 14, 'rsiFrequency': 38, 'sellZoneDistance': 5, 'avgUpATRSum': 4, 'useAbsoluteRSIBarrier': True, 'barrierLevel': 52, 'pyramiding': 8}. Best is trial 33 with value: 19.711289854720786.\n"
     ]
    },
    {
     "name": "stdout",
     "output_type": "stream",
     "text": [
      "[ONDOUSDT-30min] Trial 45: 参数 {'frequency': 14, 'rsiFrequency': 38, 'sellZoneDistance': 5, 'avgUpATRSum': 4, 'useAbsoluteRSIBarrier': True, 'barrierLevel': 52, 'pyramiding': 8} -> 得分 -1.04[ONDOUSDT-30min] Trial 46: 参数 {'frequency': 14, 'rsiFrequency': 38, 'sellZoneDistance': 5, 'avgUpATRSum': 5, 'useAbsoluteRSIBarrier': True, 'barrierLevel': 50, 'pyramiding': 7} -> 得分 -5.71\n",
      "\n"
     ]
    },
    {
     "name": "stderr",
     "output_type": "stream",
     "text": [
      "[I 2025-03-09 04:39:21,376] Trial 47 finished with value: 15.883532685632156 and parameters: {'frequency': 14, 'rsiFrequency': 38, 'sellZoneDistance': 5, 'avgUpATRSum': 5, 'useAbsoluteRSIBarrier': True, 'barrierLevel': 56, 'pyramiding': 7}. Best is trial 33 with value: 19.711289854720786.\n"
     ]
    },
    {
     "name": "stdout",
     "output_type": "stream",
     "text": [
      "[ONDOUSDT-30min] Trial 47: 参数 {'frequency': 14, 'rsiFrequency': 38, 'sellZoneDistance': 5, 'avgUpATRSum': 5, 'useAbsoluteRSIBarrier': True, 'barrierLevel': 56, 'pyramiding': 7} -> 得分 15.88\n",
      "[ONDOUSDT-30min] Trial 48: 参数 {'frequency': 14, 'rsiFrequency': 38, 'sellZoneDistance': 5, 'avgUpATRSum': 5, 'useAbsoluteRSIBarrier': True, 'barrierLevel': 56, 'pyramiding': 7} -> 得分 15.88\n"
     ]
    },
    {
     "name": "stderr",
     "output_type": "stream",
     "text": [
      "[I 2025-03-09 04:39:22,183] Trial 48 finished with value: 15.883532685632156 and parameters: {'frequency': 14, 'rsiFrequency': 38, 'sellZoneDistance': 5, 'avgUpATRSum': 5, 'useAbsoluteRSIBarrier': True, 'barrierLevel': 56, 'pyramiding': 7}. Best is trial 33 with value: 19.711289854720786.\n",
      "[I 2025-03-09 04:39:23,542] Trial 44 finished with value: 15.358957672406486 and parameters: {'frequency': 14, 'rsiFrequency': 42, 'sellZoneDistance': 5, 'avgUpATRSum': 4, 'useAbsoluteRSIBarrier': True, 'barrierLevel': 56, 'pyramiding': 8}. Best is trial 33 with value: 19.711289854720786.\n"
     ]
    },
    {
     "name": "stdout",
     "output_type": "stream",
     "text": [
      "[ONDOUSDT-30min] Trial 44: 参数 {'frequency': 14, 'rsiFrequency': 42, 'sellZoneDistance': 5, 'avgUpATRSum': 4, 'useAbsoluteRSIBarrier': True, 'barrierLevel': 56, 'pyramiding': 8} -> 得分 15.36\n"
     ]
    },
    {
     "name": "stderr",
     "output_type": "stream",
     "text": [
      "[I 2025-03-09 04:39:37,778] Trial 52 finished with value: 17.060661234226682 and parameters: {'frequency': 14, 'rsiFrequency': 42, 'sellZoneDistance': 5, 'avgUpATRSum': 5, 'useAbsoluteRSIBarrier': True, 'barrierLevel': 56, 'pyramiding': 8}. Best is trial 33 with value: 19.711289854720786.\n"
     ]
    },
    {
     "name": "stdout",
     "output_type": "stream",
     "text": [
      "[ONDOUSDT-30min] Trial 52: 参数 {'frequency': 14, 'rsiFrequency': 42, 'sellZoneDistance': 5, 'avgUpATRSum': 5, 'useAbsoluteRSIBarrier': True, 'barrierLevel': 56, 'pyramiding': 8} -> 得分 17.06\n",
      "[ONDOUSDT-30min] Trial 56: 参数 {'frequency': 14, 'rsiFrequency': 42, 'sellZoneDistance': 5, 'avgUpATRSum': 5, 'useAbsoluteRSIBarrier': True, 'barrierLevel': 56, 'pyramiding': 8} -> 得分 17.06\n",
      "[ONDOUSDT-30min] Trial 53: 参数 {'frequency': 14, 'rsiFrequency': 42, 'sellZoneDistance': 5, 'avgUpATRSum': 5, 'useAbsoluteRSIBarrier': True, 'barrierLevel': 50, 'pyramiding': 8} -> 得分 2.39\n"
     ]
    },
    {
     "name": "stderr",
     "output_type": "stream",
     "text": [
      "[I 2025-03-09 04:39:38,007] Trial 56 finished with value: 17.060661234226682 and parameters: {'frequency': 14, 'rsiFrequency': 42, 'sellZoneDistance': 5, 'avgUpATRSum': 5, 'useAbsoluteRSIBarrier': True, 'barrierLevel': 56, 'pyramiding': 8}. Best is trial 33 with value: 19.711289854720786.\n",
      "[I 2025-03-09 04:39:38,165] Trial 53 finished with value: 2.390525880627293 and parameters: {'frequency': 14, 'rsiFrequency': 42, 'sellZoneDistance': 5, 'avgUpATRSum': 5, 'useAbsoluteRSIBarrier': True, 'barrierLevel': 50, 'pyramiding': 8}. Best is trial 33 with value: 19.711289854720786.\n",
      "[I 2025-03-09 04:39:38,744] Trial 57 finished with value: 17.060661234226682 and parameters: {'frequency': 14, 'rsiFrequency': 42, 'sellZoneDistance': 5, 'avgUpATRSum': 5, 'useAbsoluteRSIBarrier': True, 'barrierLevel': 56, 'pyramiding': 8}. Best is trial 33 with value: 19.711289854720786.\n"
     ]
    },
    {
     "name": "stdout",
     "output_type": "stream",
     "text": [
      "[ONDOUSDT-30min] Trial 57: 参数 {'frequency': 14, 'rsiFrequency': 42, 'sellZoneDistance': 5, 'avgUpATRSum': 5, 'useAbsoluteRSIBarrier': True, 'barrierLevel': 56, 'pyramiding': 8} -> 得分 17.06\n",
      "[ONDOUSDT-30min] Trial 54: 参数 {'frequency': 14, 'rsiFrequency': 42, 'sellZoneDistance': 5, 'avgUpATRSum': 5, 'useAbsoluteRSIBarrier': True, 'barrierLevel': 50, 'pyramiding': 8} -> 得分 2.39\n"
     ]
    },
    {
     "name": "stderr",
     "output_type": "stream",
     "text": [
      "[I 2025-03-09 04:39:39,836] Trial 54 finished with value: 2.390525880627293 and parameters: {'frequency': 14, 'rsiFrequency': 42, 'sellZoneDistance': 5, 'avgUpATRSum': 5, 'useAbsoluteRSIBarrier': True, 'barrierLevel': 50, 'pyramiding': 8}. Best is trial 33 with value: 19.711289854720786.\n",
      "[I 2025-03-09 04:39:42,479] Trial 55 finished with value: 2.390525880627293 and parameters: {'frequency': 14, 'rsiFrequency': 42, 'sellZoneDistance': 5, 'avgUpATRSum': 5, 'useAbsoluteRSIBarrier': True, 'barrierLevel': 50, 'pyramiding': 8}. Best is trial 33 with value: 19.711289854720786.\n",
      "[I 2025-03-09 04:39:42,845] Trial 58 finished with value: 17.060661234226682 and parameters: {'frequency': 14, 'rsiFrequency': 42, 'sellZoneDistance': 5, 'avgUpATRSum': 5, 'useAbsoluteRSIBarrier': True, 'barrierLevel': 56, 'pyramiding': 8}. Best is trial 33 with value: 19.711289854720786.\n"
     ]
    },
    {
     "name": "stdout",
     "output_type": "stream",
     "text": [
      "[ONDOUSDT-30min] Trial 55: 参数 {'frequency': 14, 'rsiFrequency': 42, 'sellZoneDistance': 5, 'avgUpATRSum': 5, 'useAbsoluteRSIBarrier': True, 'barrierLevel': 50, 'pyramiding': 8} -> 得分 2.39\n",
      "[ONDOUSDT-30min] Trial 58: 参数 {'frequency': 14, 'rsiFrequency': 42, 'sellZoneDistance': 5, 'avgUpATRSum': 5, 'useAbsoluteRSIBarrier': True, 'barrierLevel': 56, 'pyramiding': 8} -> 得分 17.06\n"
     ]
    },
    {
     "name": "stderr",
     "output_type": "stream",
     "text": [
      "[I 2025-03-09 04:39:45,225] Trial 59 finished with value: 17.060661234226682 and parameters: {'frequency': 14, 'rsiFrequency': 42, 'sellZoneDistance': 5, 'avgUpATRSum': 5, 'useAbsoluteRSIBarrier': True, 'barrierLevel': 56, 'pyramiding': 8}. Best is trial 33 with value: 19.711289854720786.\n"
     ]
    },
    {
     "name": "stdout",
     "output_type": "stream",
     "text": [
      "[ONDOUSDT-30min] Trial 59: 参数 {'frequency': 14, 'rsiFrequency': 42, 'sellZoneDistance': 5, 'avgUpATRSum': 5, 'useAbsoluteRSIBarrier': True, 'barrierLevel': 56, 'pyramiding': 8} -> 得分 17.06\n"
     ]
    },
    {
     "name": "stderr",
     "output_type": "stream",
     "text": [
      "[I 2025-03-09 04:41:53,969] Trial 62 finished with value: 12.541263829804178 and parameters: {'frequency': 14, 'rsiFrequency': 38, 'sellZoneDistance': 5, 'avgUpATRSum': 5, 'useAbsoluteRSIBarrier': True, 'barrierLevel': 56, 'pyramiding': 9}. Best is trial 33 with value: 19.711289854720786.\n"
     ]
    },
    {
     "name": "stdout",
     "output_type": "stream",
     "text": [
      "[ONDOUSDT-30min] Trial 62: 参数 {'frequency': 14, 'rsiFrequency': 38, 'sellZoneDistance': 5, 'avgUpATRSum': 5, 'useAbsoluteRSIBarrier': True, 'barrierLevel': 56, 'pyramiding': 9} -> 得分 12.54\n"
     ]
    },
    {
     "name": "stderr",
     "output_type": "stream",
     "text": [
      "[I 2025-03-09 04:41:57,268] Trial 63 finished with value: 12.541263829804178 and parameters: {'frequency': 14, 'rsiFrequency': 38, 'sellZoneDistance': 5, 'avgUpATRSum': 5, 'useAbsoluteRSIBarrier': True, 'barrierLevel': 56, 'pyramiding': 9}. Best is trial 33 with value: 19.711289854720786.\n"
     ]
    },
    {
     "name": "stdout",
     "output_type": "stream",
     "text": [
      "[ONDOUSDT-30min] Trial 63: 参数 {'frequency': 14, 'rsiFrequency': 38, 'sellZoneDistance': 5, 'avgUpATRSum': 5, 'useAbsoluteRSIBarrier': True, 'barrierLevel': 56, 'pyramiding': 9} -> 得分 12.54\n"
     ]
    },
    {
     "name": "stderr",
     "output_type": "stream",
     "text": [
      "[I 2025-03-09 04:42:05,914] Trial 60 finished with value: 15.238479871943586 and parameters: {'frequency': 14, 'rsiFrequency': 42, 'sellZoneDistance': 5, 'avgUpATRSum': 5, 'useAbsoluteRSIBarrier': True, 'barrierLevel': 56, 'pyramiding': 9}. Best is trial 33 with value: 19.711289854720786.\n"
     ]
    },
    {
     "name": "stdout",
     "output_type": "stream",
     "text": [
      "[ONDOUSDT-30min] Trial 60: 参数 {'frequency': 14, 'rsiFrequency': 42, 'sellZoneDistance': 5, 'avgUpATRSum': 5, 'useAbsoluteRSIBarrier': True, 'barrierLevel': 56, 'pyramiding': 9} -> 得分 15.24\n"
     ]
    },
    {
     "name": "stderr",
     "output_type": "stream",
     "text": [
      "[I 2025-03-09 04:42:06,497] Trial 61 finished with value: 15.238479871943586 and parameters: {'frequency': 14, 'rsiFrequency': 42, 'sellZoneDistance': 5, 'avgUpATRSum': 5, 'useAbsoluteRSIBarrier': True, 'barrierLevel': 56, 'pyramiding': 9}. Best is trial 33 with value: 19.711289854720786.\n"
     ]
    },
    {
     "name": "stdout",
     "output_type": "stream",
     "text": [
      "[ONDOUSDT-30min] Trial 61: 参数 {'frequency': 14, 'rsiFrequency': 42, 'sellZoneDistance': 5, 'avgUpATRSum': 5, 'useAbsoluteRSIBarrier': True, 'barrierLevel': 56, 'pyramiding': 9} -> 得分 15.24\n"
     ]
    },
    {
     "name": "stderr",
     "output_type": "stream",
     "text": [
      "[I 2025-03-09 04:42:13,018] Trial 67 finished with value: 18.728724897840433 and parameters: {'frequency': 14, 'rsiFrequency': 38, 'sellZoneDistance': 6, 'avgUpATRSum': 4, 'useAbsoluteRSIBarrier': True, 'barrierLevel': 56, 'pyramiding': 9}. Best is trial 33 with value: 19.711289854720786.\n"
     ]
    },
    {
     "name": "stdout",
     "output_type": "stream",
     "text": [
      "[ONDOUSDT-30min] Trial 67: 参数 {'frequency': 14, 'rsiFrequency': 38, 'sellZoneDistance': 6, 'avgUpATRSum': 4, 'useAbsoluteRSIBarrier': True, 'barrierLevel': 56, 'pyramiding': 9} -> 得分 18.73\n"
     ]
    },
    {
     "name": "stderr",
     "output_type": "stream",
     "text": [
      "[I 2025-03-09 04:42:14,871] Trial 66 finished with value: 18.728724897840433 and parameters: {'frequency': 14, 'rsiFrequency': 38, 'sellZoneDistance': 6, 'avgUpATRSum': 4, 'useAbsoluteRSIBarrier': True, 'barrierLevel': 56, 'pyramiding': 9}. Best is trial 33 with value: 19.711289854720786.\n"
     ]
    },
    {
     "name": "stdout",
     "output_type": "stream",
     "text": [
      "[ONDOUSDT-30min] Trial 66: 参数 {'frequency': 14, 'rsiFrequency': 38, 'sellZoneDistance': 6, 'avgUpATRSum': 4, 'useAbsoluteRSIBarrier': True, 'barrierLevel': 56, 'pyramiding': 9} -> 得分 18.73\n"
     ]
    },
    {
     "name": "stderr",
     "output_type": "stream",
     "text": [
      "[I 2025-03-09 04:42:18,176] Trial 64 finished with value: 12.541263829804178 and parameters: {'frequency': 14, 'rsiFrequency': 38, 'sellZoneDistance': 5, 'avgUpATRSum': 5, 'useAbsoluteRSIBarrier': True, 'barrierLevel': 56, 'pyramiding': 9}. Best is trial 33 with value: 19.711289854720786.\n"
     ]
    },
    {
     "name": "stdout",
     "output_type": "stream",
     "text": [
      "[ONDOUSDT-30min] Trial 64: 参数 {'frequency': 14, 'rsiFrequency': 38, 'sellZoneDistance': 5, 'avgUpATRSum': 5, 'useAbsoluteRSIBarrier': True, 'barrierLevel': 56, 'pyramiding': 9} -> 得分 12.54\n",
      "[ONDOUSDT-30min] Trial 65: 参数 {'frequency': 14, 'rsiFrequency': 38, 'sellZoneDistance': 6, 'avgUpATRSum': 5, 'useAbsoluteRSIBarrier': True, 'barrierLevel': 56, 'pyramiding': 9} -> 得分 17.42\n"
     ]
    },
    {
     "name": "stderr",
     "output_type": "stream",
     "text": [
      "[I 2025-03-09 04:42:19,871] Trial 65 finished with value: 17.41780717779354 and parameters: {'frequency': 14, 'rsiFrequency': 38, 'sellZoneDistance': 6, 'avgUpATRSum': 5, 'useAbsoluteRSIBarrier': True, 'barrierLevel': 56, 'pyramiding': 9}. Best is trial 33 with value: 19.711289854720786.\n",
      "[I 2025-03-09 04:42:31,257] Trial 69 finished with value: 18.728724897840433 and parameters: {'frequency': 14, 'rsiFrequency': 38, 'sellZoneDistance': 6, 'avgUpATRSum': 4, 'useAbsoluteRSIBarrier': True, 'barrierLevel': 56, 'pyramiding': 9}. Best is trial 33 with value: 19.711289854720786.\n"
     ]
    },
    {
     "name": "stdout",
     "output_type": "stream",
     "text": [
      "[ONDOUSDT-30min] Trial 69: 参数 {'frequency': 14, 'rsiFrequency': 38, 'sellZoneDistance': 6, 'avgUpATRSum': 4, 'useAbsoluteRSIBarrier': True, 'barrierLevel': 56, 'pyramiding': 9} -> 得分 18.73\n"
     ]
    },
    {
     "name": "stderr",
     "output_type": "stream",
     "text": [
      "[I 2025-03-09 04:42:32,778] Trial 71 finished with value: 18.525471753569228 and parameters: {'frequency': 14, 'rsiFrequency': 42, 'sellZoneDistance': 6, 'avgUpATRSum': 4, 'useAbsoluteRSIBarrier': True, 'barrierLevel': 56, 'pyramiding': 9}. Best is trial 33 with value: 19.711289854720786.\n"
     ]
    },
    {
     "name": "stdout",
     "output_type": "stream",
     "text": [
      "[ONDOUSDT-30min] Trial 71: 参数 {'frequency': 14, 'rsiFrequency': 42, 'sellZoneDistance': 6, 'avgUpATRSum': 4, 'useAbsoluteRSIBarrier': True, 'barrierLevel': 56, 'pyramiding': 9} -> 得分 18.53\n"
     ]
    },
    {
     "name": "stderr",
     "output_type": "stream",
     "text": [
      "[I 2025-03-09 04:42:35,773] Trial 70 finished with value: 18.525471753569228 and parameters: {'frequency': 14, 'rsiFrequency': 42, 'sellZoneDistance': 6, 'avgUpATRSum': 4, 'useAbsoluteRSIBarrier': True, 'barrierLevel': 56, 'pyramiding': 9}. Best is trial 33 with value: 19.711289854720786.\n"
     ]
    },
    {
     "name": "stdout",
     "output_type": "stream",
     "text": [
      "[ONDOUSDT-30min] Trial 70: 参数 {'frequency': 14, 'rsiFrequency': 42, 'sellZoneDistance': 6, 'avgUpATRSum': 4, 'useAbsoluteRSIBarrier': True, 'barrierLevel': 56, 'pyramiding': 9} -> 得分 18.53\n"
     ]
    },
    {
     "name": "stderr",
     "output_type": "stream",
     "text": [
      "[I 2025-03-09 04:42:36,576] Trial 68 finished with value: 18.728724897840433 and parameters: {'frequency': 14, 'rsiFrequency': 38, 'sellZoneDistance': 6, 'avgUpATRSum': 4, 'useAbsoluteRSIBarrier': True, 'barrierLevel': 56, 'pyramiding': 9}. Best is trial 33 with value: 19.711289854720786.\n"
     ]
    },
    {
     "name": "stdout",
     "output_type": "stream",
     "text": [
      "[ONDOUSDT-30min] Trial 68: 参数 {'frequency': 14, 'rsiFrequency': 38, 'sellZoneDistance': 6, 'avgUpATRSum': 4, 'useAbsoluteRSIBarrier': True, 'barrierLevel': 56, 'pyramiding': 9} -> 得分 18.73\n"
     ]
    },
    {
     "name": "stderr",
     "output_type": "stream",
     "text": [
      "[I 2025-03-09 04:42:41,740] Trial 72 finished with value: 18.728724897840433 and parameters: {'frequency': 14, 'rsiFrequency': 38, 'sellZoneDistance': 6, 'avgUpATRSum': 4, 'useAbsoluteRSIBarrier': True, 'barrierLevel': 56, 'pyramiding': 9}. Best is trial 33 with value: 19.711289854720786.\n"
     ]
    },
    {
     "name": "stdout",
     "output_type": "stream",
     "text": [
      "[ONDOUSDT-30min] Trial 72: 参数 {'frequency': 14, 'rsiFrequency': 38, 'sellZoneDistance': 6, 'avgUpATRSum': 4, 'useAbsoluteRSIBarrier': True, 'barrierLevel': 56, 'pyramiding': 9} -> 得分 18.73\n"
     ]
    },
    {
     "name": "stderr",
     "output_type": "stream",
     "text": [
      "[I 2025-03-09 04:42:59,953] Trial 73 finished with value: 21.248954237768114 and parameters: {'frequency': 14, 'rsiFrequency': 40, 'sellZoneDistance': 6, 'avgUpATRSum': 4, 'useAbsoluteRSIBarrier': True, 'barrierLevel': 56, 'pyramiding': 8}. Best is trial 73 with value: 21.248954237768114.\n"
     ]
    },
    {
     "name": "stdout",
     "output_type": "stream",
     "text": [
      "[ONDOUSDT-30min] Trial 73: 参数 {'frequency': 14, 'rsiFrequency': 40, 'sellZoneDistance': 6, 'avgUpATRSum': 4, 'useAbsoluteRSIBarrier': True, 'barrierLevel': 56, 'pyramiding': 8} -> 得分 21.25\n"
     ]
    },
    {
     "name": "stderr",
     "output_type": "stream",
     "text": [
      "[I 2025-03-09 04:43:04,901] Trial 77 finished with value: 18.972113724756177 and parameters: {'frequency': 14, 'rsiFrequency': 40, 'sellZoneDistance': 6, 'avgUpATRSum': 4, 'useAbsoluteRSIBarrier': True, 'barrierLevel': 56, 'pyramiding': 9}. Best is trial 73 with value: 21.248954237768114.\n"
     ]
    },
    {
     "name": "stdout",
     "output_type": "stream",
     "text": [
      "[ONDOUSDT-30min] Trial 77: 参数 {'frequency': 14, 'rsiFrequency': 40, 'sellZoneDistance': 6, 'avgUpATRSum': 4, 'useAbsoluteRSIBarrier': True, 'barrierLevel': 56, 'pyramiding': 9} -> 得分 18.97\n",
      "[ONDOUSDT-30min] Trial 80: 参数 {'frequency': 14, 'rsiFrequency': 38, 'sellZoneDistance': 6, 'avgUpATRSum': 5, 'useAbsoluteRSIBarrier': True, 'barrierLevel': 56, 'pyramiding': 9} -> 得分 17.42\n"
     ]
    },
    {
     "name": "stderr",
     "output_type": "stream",
     "text": [
      "[I 2025-03-09 04:43:05,475] Trial 80 finished with value: 17.41780717779354 and parameters: {'frequency': 14, 'rsiFrequency': 38, 'sellZoneDistance': 6, 'avgUpATRSum': 5, 'useAbsoluteRSIBarrier': True, 'barrierLevel': 56, 'pyramiding': 9}. Best is trial 73 with value: 21.248954237768114.\n",
      "[I 2025-03-09 04:43:07,490] Trial 76 finished with value: 18.728724897840433 and parameters: {'frequency': 14, 'rsiFrequency': 38, 'sellZoneDistance': 6, 'avgUpATRSum': 4, 'useAbsoluteRSIBarrier': True, 'barrierLevel': 56, 'pyramiding': 9}. Best is trial 73 with value: 21.248954237768114.\n"
     ]
    },
    {
     "name": "stdout",
     "output_type": "stream",
     "text": [
      "[ONDOUSDT-30min] Trial 76: 参数 {'frequency': 14, 'rsiFrequency': 38, 'sellZoneDistance': 6, 'avgUpATRSum': 4, 'useAbsoluteRSIBarrier': True, 'barrierLevel': 56, 'pyramiding': 9} -> 得分 18.73\n"
     ]
    },
    {
     "name": "stderr",
     "output_type": "stream",
     "text": [
      "[I 2025-03-09 04:43:08,701] Trial 75 finished with value: 20.975045485866808 and parameters: {'frequency': 14, 'rsiFrequency': 38, 'sellZoneDistance': 6, 'avgUpATRSum': 4, 'useAbsoluteRSIBarrier': True, 'barrierLevel': 56, 'pyramiding': 8}. Best is trial 73 with value: 21.248954237768114.\n"
     ]
    },
    {
     "name": "stdout",
     "output_type": "stream",
     "text": [
      "[ONDOUSDT-30min] Trial 75: 参数 {'frequency': 14, 'rsiFrequency': 38, 'sellZoneDistance': 6, 'avgUpATRSum': 4, 'useAbsoluteRSIBarrier': True, 'barrierLevel': 56, 'pyramiding': 8} -> 得分 20.98\n"
     ]
    },
    {
     "name": "stderr",
     "output_type": "stream",
     "text": [
      "[I 2025-03-09 04:43:12,496] Trial 78 finished with value: 8.356569159479985 and parameters: {'frequency': 12, 'rsiFrequency': 40, 'sellZoneDistance': 6, 'avgUpATRSum': 4, 'useAbsoluteRSIBarrier': True, 'barrierLevel': 56, 'pyramiding': 9}. Best is trial 73 with value: 21.248954237768114.\n"
     ]
    },
    {
     "name": "stdout",
     "output_type": "stream",
     "text": [
      "[ONDOUSDT-30min] Trial 78: 参数 {'frequency': 12, 'rsiFrequency': 40, 'sellZoneDistance': 6, 'avgUpATRSum': 4, 'useAbsoluteRSIBarrier': True, 'barrierLevel': 56, 'pyramiding': 9} -> 得分 8.36\n"
     ]
    },
    {
     "name": "stderr",
     "output_type": "stream",
     "text": [
      "[I 2025-03-09 04:43:15,772] Trial 81 finished with value: 17.41780717779354 and parameters: {'frequency': 14, 'rsiFrequency': 38, 'sellZoneDistance': 6, 'avgUpATRSum': 5, 'useAbsoluteRSIBarrier': True, 'barrierLevel': 56, 'pyramiding': 9}. Best is trial 73 with value: 21.248954237768114.\n"
     ]
    },
    {
     "name": "stdout",
     "output_type": "stream",
     "text": [
      "[ONDOUSDT-30min] Trial 81: 参数 {'frequency': 14, 'rsiFrequency': 38, 'sellZoneDistance': 6, 'avgUpATRSum': 5, 'useAbsoluteRSIBarrier': True, 'barrierLevel': 56, 'pyramiding': 9} -> 得分 17.42\n"
     ]
    },
    {
     "name": "stderr",
     "output_type": "stream",
     "text": [
      "[I 2025-03-09 04:43:18,971] Trial 79 finished with value: 17.41780717779354 and parameters: {'frequency': 14, 'rsiFrequency': 38, 'sellZoneDistance': 6, 'avgUpATRSum': 5, 'useAbsoluteRSIBarrier': True, 'barrierLevel': 56, 'pyramiding': 9}. Best is trial 73 with value: 21.248954237768114.\n"
     ]
    },
    {
     "name": "stdout",
     "output_type": "stream",
     "text": [
      "[ONDOUSDT-30min] Trial 79: 参数 {'frequency': 14, 'rsiFrequency': 38, 'sellZoneDistance': 6, 'avgUpATRSum': 5, 'useAbsoluteRSIBarrier': True, 'barrierLevel': 56, 'pyramiding': 9} -> 得分 17.42\n"
     ]
    },
    {
     "name": "stderr",
     "output_type": "stream",
     "text": [
      "[I 2025-03-09 04:43:23,686] Trial 74 finished with value: 20.975045485866808 and parameters: {'frequency': 14, 'rsiFrequency': 38, 'sellZoneDistance': 6, 'avgUpATRSum': 4, 'useAbsoluteRSIBarrier': True, 'barrierLevel': 56, 'pyramiding': 8}. Best is trial 73 with value: 21.248954237768114.\n"
     ]
    },
    {
     "name": "stdout",
     "output_type": "stream",
     "text": [
      "[ONDOUSDT-30min] Trial 74: 参数 {'frequency': 14, 'rsiFrequency': 38, 'sellZoneDistance': 6, 'avgUpATRSum': 4, 'useAbsoluteRSIBarrier': True, 'barrierLevel': 56, 'pyramiding': 8} -> 得分 20.98\n"
     ]
    },
    {
     "name": "stderr",
     "output_type": "stream",
     "text": [
      "[I 2025-03-09 04:43:34,209] Trial 88 finished with value: 8.356569159479985 and parameters: {'frequency': 12, 'rsiFrequency': 40, 'sellZoneDistance': 6, 'avgUpATRSum': 4, 'useAbsoluteRSIBarrier': True, 'barrierLevel': 56, 'pyramiding': 9}. Best is trial 73 with value: 21.248954237768114.\n"
     ]
    },
    {
     "name": "stdout",
     "output_type": "stream",
     "text": [
      "[ONDOUSDT-30min] Trial 88: 参数 {'frequency': 12, 'rsiFrequency': 40, 'sellZoneDistance': 6, 'avgUpATRSum': 4, 'useAbsoluteRSIBarrier': True, 'barrierLevel': 56, 'pyramiding': 9} -> 得分 8.36\n"
     ]
    },
    {
     "name": "stderr",
     "output_type": "stream",
     "text": [
      "[I 2025-03-09 04:43:34,832] Trial 82 finished with value: 8.356569159479985 and parameters: {'frequency': 12, 'rsiFrequency': 40, 'sellZoneDistance': 6, 'avgUpATRSum': 4, 'useAbsoluteRSIBarrier': True, 'barrierLevel': 56, 'pyramiding': 9}. Best is trial 73 with value: 21.248954237768114.\n",
      "[I 2025-03-09 04:43:34,845] Trial 83 finished with value: 8.356569159479985 and parameters: {'frequency': 12, 'rsiFrequency': 40, 'sellZoneDistance': 6, 'avgUpATRSum': 4, 'useAbsoluteRSIBarrier': True, 'barrierLevel': 56, 'pyramiding': 9}. Best is trial 73 with value: 21.248954237768114.\n"
     ]
    },
    {
     "name": "stdout",
     "output_type": "stream",
     "text": [
      "[ONDOUSDT-30min] Trial 82: 参数 {'frequency': 12, 'rsiFrequency': 40, 'sellZoneDistance': 6, 'avgUpATRSum': 4, 'useAbsoluteRSIBarrier': True, 'barrierLevel': 56, 'pyramiding': 9} -> 得分 8.36\n",
      "[ONDOUSDT-30min] Trial 83: 参数 {'frequency': 12, 'rsiFrequency': 40, 'sellZoneDistance': 6, 'avgUpATRSum': 4, 'useAbsoluteRSIBarrier': True, 'barrierLevel': 56, 'pyramiding': 9} -> 得分 8.36\n"
     ]
    },
    {
     "name": "stderr",
     "output_type": "stream",
     "text": [
      "[I 2025-03-09 04:43:42,207] Trial 85 finished with value: 8.356569159479985 and parameters: {'frequency': 12, 'rsiFrequency': 40, 'sellZoneDistance': 6, 'avgUpATRSum': 4, 'useAbsoluteRSIBarrier': True, 'barrierLevel': 56, 'pyramiding': 9}. Best is trial 73 with value: 21.248954237768114.\n"
     ]
    },
    {
     "name": "stdout",
     "output_type": "stream",
     "text": [
      "[ONDOUSDT-30min] Trial 85: 参数 {'frequency': 12, 'rsiFrequency': 40, 'sellZoneDistance': 6, 'avgUpATRSum': 4, 'useAbsoluteRSIBarrier': True, 'barrierLevel': 56, 'pyramiding': 9} -> 得分 8.36\n"
     ]
    },
    {
     "name": "stderr",
     "output_type": "stream",
     "text": [
      "[I 2025-03-09 04:43:44,746] Trial 87 finished with value: 8.356569159479985 and parameters: {'frequency': 12, 'rsiFrequency': 40, 'sellZoneDistance': 6, 'avgUpATRSum': 4, 'useAbsoluteRSIBarrier': True, 'barrierLevel': 56, 'pyramiding': 9}. Best is trial 73 with value: 21.248954237768114.\n"
     ]
    },
    {
     "name": "stdout",
     "output_type": "stream",
     "text": [
      "[ONDOUSDT-30min] Trial 87: 参数 {'frequency': 12, 'rsiFrequency': 40, 'sellZoneDistance': 6, 'avgUpATRSum': 4, 'useAbsoluteRSIBarrier': True, 'barrierLevel': 56, 'pyramiding': 9} -> 得分 8.36\n"
     ]
    },
    {
     "name": "stderr",
     "output_type": "stream",
     "text": [
      "[I 2025-03-09 04:43:51,995] Trial 84 finished with value: 8.356569159479985 and parameters: {'frequency': 12, 'rsiFrequency': 40, 'sellZoneDistance': 6, 'avgUpATRSum': 4, 'useAbsoluteRSIBarrier': True, 'barrierLevel': 56, 'pyramiding': 9}. Best is trial 73 with value: 21.248954237768114.\n"
     ]
    },
    {
     "name": "stdout",
     "output_type": "stream",
     "text": [
      "[ONDOUSDT-30min] Trial 84: 参数 {'frequency': 12, 'rsiFrequency': 40, 'sellZoneDistance': 6, 'avgUpATRSum': 4, 'useAbsoluteRSIBarrier': True, 'barrierLevel': 56, 'pyramiding': 9} -> 得分 8.36\n"
     ]
    },
    {
     "name": "stderr",
     "output_type": "stream",
     "text": [
      "[I 2025-03-09 04:43:54,786] Trial 89 finished with value: 8.356569159479985 and parameters: {'frequency': 12, 'rsiFrequency': 40, 'sellZoneDistance': 6, 'avgUpATRSum': 4, 'useAbsoluteRSIBarrier': True, 'barrierLevel': 56, 'pyramiding': 9}. Best is trial 73 with value: 21.248954237768114.\n"
     ]
    },
    {
     "name": "stdout",
     "output_type": "stream",
     "text": [
      "[ONDOUSDT-30min] Trial 89: 参数 {'frequency': 12, 'rsiFrequency': 40, 'sellZoneDistance': 6, 'avgUpATRSum': 4, 'useAbsoluteRSIBarrier': True, 'barrierLevel': 56, 'pyramiding': 9} -> 得分 8.36\n"
     ]
    },
    {
     "name": "stderr",
     "output_type": "stream",
     "text": [
      "[I 2025-03-09 04:43:56,966] Trial 86 finished with value: 8.356569159479985 and parameters: {'frequency': 12, 'rsiFrequency': 40, 'sellZoneDistance': 6, 'avgUpATRSum': 4, 'useAbsoluteRSIBarrier': True, 'barrierLevel': 56, 'pyramiding': 9}. Best is trial 73 with value: 21.248954237768114.\n"
     ]
    },
    {
     "name": "stdout",
     "output_type": "stream",
     "text": [
      "[ONDOUSDT-30min] Trial 86: 参数 {'frequency': 12, 'rsiFrequency': 40, 'sellZoneDistance': 6, 'avgUpATRSum': 4, 'useAbsoluteRSIBarrier': True, 'barrierLevel': 56, 'pyramiding': 9} -> 得分 8.36\n"
     ]
    },
    {
     "name": "stderr",
     "output_type": "stream",
     "text": [
      "[I 2025-03-09 04:45:27,523] Trial 90 finished with value: 8.356569159479985 and parameters: {'frequency': 12, 'rsiFrequency': 40, 'sellZoneDistance': 6, 'avgUpATRSum': 4, 'useAbsoluteRSIBarrier': True, 'barrierLevel': 56, 'pyramiding': 9}. Best is trial 73 with value: 21.248954237768114.\n"
     ]
    },
    {
     "name": "stdout",
     "output_type": "stream",
     "text": [
      "[ONDOUSDT-30min] Trial 90: 参数 {'frequency': 12, 'rsiFrequency': 40, 'sellZoneDistance': 6, 'avgUpATRSum': 4, 'useAbsoluteRSIBarrier': True, 'barrierLevel': 56, 'pyramiding': 9} -> 得分 8.36\n"
     ]
    },
    {
     "name": "stderr",
     "output_type": "stream",
     "text": [
      "[I 2025-03-09 04:45:43,759] Trial 91 finished with value: 8.356569159479985 and parameters: {'frequency': 12, 'rsiFrequency': 40, 'sellZoneDistance': 6, 'avgUpATRSum': 4, 'useAbsoluteRSIBarrier': True, 'barrierLevel': 56, 'pyramiding': 9}. Best is trial 73 with value: 21.248954237768114.\n"
     ]
    },
    {
     "name": "stdout",
     "output_type": "stream",
     "text": [
      "[ONDOUSDT-30min] Trial 91: 参数 {'frequency': 12, 'rsiFrequency': 40, 'sellZoneDistance': 6, 'avgUpATRSum': 4, 'useAbsoluteRSIBarrier': True, 'barrierLevel': 56, 'pyramiding': 9} -> 得分 8.36\n"
     ]
    },
    {
     "name": "stderr",
     "output_type": "stream",
     "text": [
      "[I 2025-03-09 04:45:49,527] Trial 95 finished with value: -0.3339941399836204 and parameters: {'frequency': 12, 'rsiFrequency': 40, 'sellZoneDistance': 6, 'avgUpATRSum': 4, 'useAbsoluteRSIBarrier': True, 'barrierLevel': 54, 'pyramiding': 9}. Best is trial 73 with value: 21.248954237768114.\n"
     ]
    },
    {
     "name": "stdout",
     "output_type": "stream",
     "text": [
      "[ONDOUSDT-30min] Trial 95: 参数 {'frequency': 12, 'rsiFrequency': 40, 'sellZoneDistance': 6, 'avgUpATRSum': 4, 'useAbsoluteRSIBarrier': True, 'barrierLevel': 54, 'pyramiding': 9} -> 得分 -0.33\n"
     ]
    },
    {
     "name": "stderr",
     "output_type": "stream",
     "text": [
      "[I 2025-03-09 04:46:02,046] Trial 92 finished with value: -0.5093389312719507 and parameters: {'frequency': 12, 'rsiFrequency': 40, 'sellZoneDistance': 6, 'avgUpATRSum': 4, 'useAbsoluteRSIBarrier': True, 'barrierLevel': 54, 'pyramiding': 8}. Best is trial 73 with value: 21.248954237768114.\n"
     ]
    },
    {
     "name": "stdout",
     "output_type": "stream",
     "text": [
      "[ONDOUSDT-30min] Trial 92: 参数 {'frequency': 12, 'rsiFrequency': 40, 'sellZoneDistance': 6, 'avgUpATRSum': 4, 'useAbsoluteRSIBarrier': True, 'barrierLevel': 54, 'pyramiding': 8} -> 得分 -0.51\n"
     ]
    },
    {
     "name": "stderr",
     "output_type": "stream",
     "text": [
      "[I 2025-03-09 04:46:05,327] Trial 94 finished with value: -0.3339941399836204 and parameters: {'frequency': 12, 'rsiFrequency': 40, 'sellZoneDistance': 6, 'avgUpATRSum': 4, 'useAbsoluteRSIBarrier': True, 'barrierLevel': 54, 'pyramiding': 9}. Best is trial 73 with value: 21.248954237768114.\n"
     ]
    },
    {
     "name": "stdout",
     "output_type": "stream",
     "text": [
      "[ONDOUSDT-30min] Trial 94: 参数 {'frequency': 12, 'rsiFrequency': 40, 'sellZoneDistance': 6, 'avgUpATRSum': 4, 'useAbsoluteRSIBarrier': True, 'barrierLevel': 54, 'pyramiding': 9} -> 得分 -0.33\n"
     ]
    },
    {
     "name": "stderr",
     "output_type": "stream",
     "text": [
      "[I 2025-03-09 04:46:11,133] Trial 96 finished with value: -0.3339941399836204 and parameters: {'frequency': 12, 'rsiFrequency': 40, 'sellZoneDistance': 6, 'avgUpATRSum': 4, 'useAbsoluteRSIBarrier': True, 'barrierLevel': 54, 'pyramiding': 9}. Best is trial 73 with value: 21.248954237768114.\n"
     ]
    },
    {
     "name": "stdout",
     "output_type": "stream",
     "text": [
      "[ONDOUSDT-30min] Trial 96: 参数 {'frequency': 12, 'rsiFrequency': 40, 'sellZoneDistance': 6, 'avgUpATRSum': 4, 'useAbsoluteRSIBarrier': True, 'barrierLevel': 54, 'pyramiding': 9} -> 得分 -0.33\n"
     ]
    },
    {
     "name": "stderr",
     "output_type": "stream",
     "text": [
      "[I 2025-03-09 04:46:18,450] Trial 97 finished with value: -0.3339941399836204 and parameters: {'frequency': 12, 'rsiFrequency': 40, 'sellZoneDistance': 6, 'avgUpATRSum': 4, 'useAbsoluteRSIBarrier': True, 'barrierLevel': 54, 'pyramiding': 9}. Best is trial 73 with value: 21.248954237768114.\n"
     ]
    },
    {
     "name": "stdout",
     "output_type": "stream",
     "text": [
      "[ONDOUSDT-30min] Trial 97: 参数 {'frequency': 12, 'rsiFrequency': 40, 'sellZoneDistance': 6, 'avgUpATRSum': 4, 'useAbsoluteRSIBarrier': True, 'barrierLevel': 54, 'pyramiding': 9} -> 得分 -0.33\n"
     ]
    },
    {
     "name": "stderr",
     "output_type": "stream",
     "text": [
      "[I 2025-03-09 04:46:19,469] Trial 93 finished with value: -0.5093389312719507 and parameters: {'frequency': 12, 'rsiFrequency': 40, 'sellZoneDistance': 6, 'avgUpATRSum': 4, 'useAbsoluteRSIBarrier': True, 'barrierLevel': 54, 'pyramiding': 8}. Best is trial 73 with value: 21.248954237768114.\n"
     ]
    },
    {
     "name": "stdout",
     "output_type": "stream",
     "text": [
      "[ONDOUSDT-30min] Trial 93: 参数 {'frequency': 12, 'rsiFrequency': 40, 'sellZoneDistance': 6, 'avgUpATRSum': 4, 'useAbsoluteRSIBarrier': True, 'barrierLevel': 54, 'pyramiding': 8} -> 得分 -0.51\n"
     ]
    },
    {
     "name": "stderr",
     "output_type": "stream",
     "text": [
      "[I 2025-03-09 04:46:24,335] Trial 98 finished with value: -0.3339941399836204 and parameters: {'frequency': 12, 'rsiFrequency': 40, 'sellZoneDistance': 6, 'avgUpATRSum': 4, 'useAbsoluteRSIBarrier': True, 'barrierLevel': 54, 'pyramiding': 9}. Best is trial 73 with value: 21.248954237768114.\n",
      "[I 2025-03-09 04:46:24,422] Trial 99 finished with value: -0.3339941399836204 and parameters: {'frequency': 12, 'rsiFrequency': 40, 'sellZoneDistance': 6, 'avgUpATRSum': 4, 'useAbsoluteRSIBarrier': True, 'barrierLevel': 54, 'pyramiding': 9}. Best is trial 73 with value: 21.248954237768114.\n"
     ]
    },
    {
     "name": "stdout",
     "output_type": "stream",
     "text": [
      "[ONDOUSDT-30min] Trial 98: 参数 {'frequency': 12, 'rsiFrequency': 40, 'sellZoneDistance': 6, 'avgUpATRSum': 4, 'useAbsoluteRSIBarrier': True, 'barrierLevel': 54, 'pyramiding': 9} -> 得分 -0.33\n",
      "[ONDOUSDT-30min] Trial 99: 参数 {'frequency': 12, 'rsiFrequency': 40, 'sellZoneDistance': 6, 'avgUpATRSum': 4, 'useAbsoluteRSIBarrier': True, 'barrierLevel': 54, 'pyramiding': 9} -> 得分 -0.33\n"
     ]
    },
    {
     "name": "stderr",
     "output_type": "stream",
     "text": [
      "[I 2025-03-09 04:46:29,216] Trial 102 finished with value: -0.3339941399836204 and parameters: {'frequency': 12, 'rsiFrequency': 40, 'sellZoneDistance': 6, 'avgUpATRSum': 4, 'useAbsoluteRSIBarrier': True, 'barrierLevel': 54, 'pyramiding': 9}. Best is trial 73 with value: 21.248954237768114.\n"
     ]
    },
    {
     "name": "stdout",
     "output_type": "stream",
     "text": [
      "[ONDOUSDT-30min] Trial 102: 参数 {'frequency': 12, 'rsiFrequency': 40, 'sellZoneDistance': 6, 'avgUpATRSum': 4, 'useAbsoluteRSIBarrier': True, 'barrierLevel': 54, 'pyramiding': 9} -> 得分 -0.33\n"
     ]
    },
    {
     "name": "stderr",
     "output_type": "stream",
     "text": [
      "[I 2025-03-09 04:46:31,710] Trial 101 finished with value: -0.3339941399836204 and parameters: {'frequency': 12, 'rsiFrequency': 40, 'sellZoneDistance': 6, 'avgUpATRSum': 4, 'useAbsoluteRSIBarrier': True, 'barrierLevel': 54, 'pyramiding': 9}. Best is trial 73 with value: 21.248954237768114.\n"
     ]
    },
    {
     "name": "stdout",
     "output_type": "stream",
     "text": [
      "[ONDOUSDT-30min] Trial 101: 参数 {'frequency': 12, 'rsiFrequency': 40, 'sellZoneDistance': 6, 'avgUpATRSum': 4, 'useAbsoluteRSIBarrier': True, 'barrierLevel': 54, 'pyramiding': 9} -> 得分 -0.33\n",
      "[ONDOUSDT-30min] Trial 100: 参数 {'frequency': 12, 'rsiFrequency': 40, 'sellZoneDistance': 6, 'avgUpATRSum': 4, 'useAbsoluteRSIBarrier': True, 'barrierLevel': 54, 'pyramiding': 9} -> 得分 -0.33\n"
     ]
    },
    {
     "name": "stderr",
     "output_type": "stream",
     "text": [
      "[I 2025-03-09 04:46:36,284] Trial 100 finished with value: -0.3339941399836204 and parameters: {'frequency': 12, 'rsiFrequency': 40, 'sellZoneDistance': 6, 'avgUpATRSum': 4, 'useAbsoluteRSIBarrier': True, 'barrierLevel': 54, 'pyramiding': 9}. Best is trial 73 with value: 21.248954237768114.\n",
      "[I 2025-03-09 04:46:38,723] Trial 106 finished with value: -0.3339941399836204 and parameters: {'frequency': 12, 'rsiFrequency': 40, 'sellZoneDistance': 6, 'avgUpATRSum': 4, 'useAbsoluteRSIBarrier': True, 'barrierLevel': 54, 'pyramiding': 9}. Best is trial 73 with value: 21.248954237768114.\n"
     ]
    },
    {
     "name": "stdout",
     "output_type": "stream",
     "text": [
      "[ONDOUSDT-30min] Trial 106: 参数 {'frequency': 12, 'rsiFrequency': 40, 'sellZoneDistance': 6, 'avgUpATRSum': 4, 'useAbsoluteRSIBarrier': True, 'barrierLevel': 54, 'pyramiding': 9} -> 得分 -0.33\n"
     ]
    },
    {
     "name": "stderr",
     "output_type": "stream",
     "text": [
      "[I 2025-03-09 04:46:40,651] Trial 107 finished with value: -0.3339941399836204 and parameters: {'frequency': 12, 'rsiFrequency': 40, 'sellZoneDistance': 6, 'avgUpATRSum': 4, 'useAbsoluteRSIBarrier': True, 'barrierLevel': 54, 'pyramiding': 9}. Best is trial 73 with value: 21.248954237768114.\n"
     ]
    },
    {
     "name": "stdout",
     "output_type": "stream",
     "text": [
      "[ONDOUSDT-30min] Trial 107: 参数 {'frequency': 12, 'rsiFrequency': 40, 'sellZoneDistance': 6, 'avgUpATRSum': 4, 'useAbsoluteRSIBarrier': True, 'barrierLevel': 54, 'pyramiding': 9} -> 得分 -0.33\n"
     ]
    },
    {
     "name": "stderr",
     "output_type": "stream",
     "text": [
      "[I 2025-03-09 04:46:42,688] Trial 104 finished with value: -0.3339941399836204 and parameters: {'frequency': 12, 'rsiFrequency': 40, 'sellZoneDistance': 6, 'avgUpATRSum': 4, 'useAbsoluteRSIBarrier': True, 'barrierLevel': 54, 'pyramiding': 9}. Best is trial 73 with value: 21.248954237768114.\n"
     ]
    },
    {
     "name": "stdout",
     "output_type": "stream",
     "text": [
      "[ONDOUSDT-30min] Trial 104: 参数 {'frequency': 12, 'rsiFrequency': 40, 'sellZoneDistance': 6, 'avgUpATRSum': 4, 'useAbsoluteRSIBarrier': True, 'barrierLevel': 54, 'pyramiding': 9} -> 得分 -0.33\n"
     ]
    },
    {
     "name": "stderr",
     "output_type": "stream",
     "text": [
      "[I 2025-03-09 04:46:43,764] Trial 105 finished with value: -0.3339941399836204 and parameters: {'frequency': 12, 'rsiFrequency': 40, 'sellZoneDistance': 6, 'avgUpATRSum': 4, 'useAbsoluteRSIBarrier': True, 'barrierLevel': 54, 'pyramiding': 9}. Best is trial 73 with value: 21.248954237768114.\n"
     ]
    },
    {
     "name": "stdout",
     "output_type": "stream",
     "text": [
      "[ONDOUSDT-30min] Trial 105: 参数 {'frequency': 12, 'rsiFrequency': 40, 'sellZoneDistance': 6, 'avgUpATRSum': 4, 'useAbsoluteRSIBarrier': True, 'barrierLevel': 54, 'pyramiding': 9} -> 得分 -0.33\n"
     ]
    },
    {
     "name": "stderr",
     "output_type": "stream",
     "text": [
      "[I 2025-03-09 04:46:44,669] Trial 103 finished with value: -0.3339941399836204 and parameters: {'frequency': 12, 'rsiFrequency': 40, 'sellZoneDistance': 6, 'avgUpATRSum': 4, 'useAbsoluteRSIBarrier': True, 'barrierLevel': 54, 'pyramiding': 9}. Best is trial 73 with value: 21.248954237768114.\n"
     ]
    },
    {
     "name": "stdout",
     "output_type": "stream",
     "text": [
      "[ONDOUSDT-30min] Trial 103: 参数 {'frequency': 12, 'rsiFrequency': 40, 'sellZoneDistance': 6, 'avgUpATRSum': 4, 'useAbsoluteRSIBarrier': True, 'barrierLevel': 54, 'pyramiding': 9} -> 得分 -0.33\n"
     ]
    },
    {
     "name": "stderr",
     "output_type": "stream",
     "text": [
      "[I 2025-03-09 04:46:46,805] Trial 108 finished with value: -0.3339941399836204 and parameters: {'frequency': 12, 'rsiFrequency': 40, 'sellZoneDistance': 6, 'avgUpATRSum': 4, 'useAbsoluteRSIBarrier': True, 'barrierLevel': 54, 'pyramiding': 9}. Best is trial 73 with value: 21.248954237768114.\n"
     ]
    },
    {
     "name": "stdout",
     "output_type": "stream",
     "text": [
      "[ONDOUSDT-30min] Trial 108: 参数 {'frequency': 12, 'rsiFrequency': 40, 'sellZoneDistance': 6, 'avgUpATRSum': 4, 'useAbsoluteRSIBarrier': True, 'barrierLevel': 54, 'pyramiding': 9} -> 得分 -0.33\n"
     ]
    },
    {
     "name": "stderr",
     "output_type": "stream",
     "text": [
      "[I 2025-03-09 04:46:50,062] Trial 109 finished with value: 1.9491559311707385 and parameters: {'frequency': 12, 'rsiFrequency': 40, 'sellZoneDistance': 7, 'avgUpATRSum': 4, 'useAbsoluteRSIBarrier': True, 'barrierLevel': 54, 'pyramiding': 9}. Best is trial 73 with value: 21.248954237768114.\n"
     ]
    },
    {
     "name": "stdout",
     "output_type": "stream",
     "text": [
      "[ONDOUSDT-30min] Trial 109: 参数 {'frequency': 12, 'rsiFrequency': 40, 'sellZoneDistance': 7, 'avgUpATRSum': 4, 'useAbsoluteRSIBarrier': True, 'barrierLevel': 54, 'pyramiding': 9} -> 得分 1.95\n"
     ]
    },
    {
     "name": "stderr",
     "output_type": "stream",
     "text": [
      "[I 2025-03-09 04:47:00,029] Trial 110 finished with value: -0.3339941399836204 and parameters: {'frequency': 12, 'rsiFrequency': 40, 'sellZoneDistance': 6, 'avgUpATRSum': 4, 'useAbsoluteRSIBarrier': True, 'barrierLevel': 54, 'pyramiding': 9}. Best is trial 73 with value: 21.248954237768114.\n"
     ]
    },
    {
     "name": "stdout",
     "output_type": "stream",
     "text": [
      "[ONDOUSDT-30min] Trial 110: 参数 {'frequency': 12, 'rsiFrequency': 40, 'sellZoneDistance': 6, 'avgUpATRSum': 4, 'useAbsoluteRSIBarrier': True, 'barrierLevel': 54, 'pyramiding': 9} -> 得分 -0.33\n"
     ]
    },
    {
     "name": "stderr",
     "output_type": "stream",
     "text": [
      "[I 2025-03-09 04:47:04,807] Trial 111 finished with value: -0.3339941399836204 and parameters: {'frequency': 12, 'rsiFrequency': 40, 'sellZoneDistance': 6, 'avgUpATRSum': 4, 'useAbsoluteRSIBarrier': True, 'barrierLevel': 54, 'pyramiding': 9}. Best is trial 73 with value: 21.248954237768114.\n"
     ]
    },
    {
     "name": "stdout",
     "output_type": "stream",
     "text": [
      "[ONDOUSDT-30min] Trial 111: 参数 {'frequency': 12, 'rsiFrequency': 40, 'sellZoneDistance': 6, 'avgUpATRSum': 4, 'useAbsoluteRSIBarrier': True, 'barrierLevel': 54, 'pyramiding': 9} -> 得分 -0.33\n"
     ]
    },
    {
     "name": "stderr",
     "output_type": "stream",
     "text": [
      "[I 2025-03-09 04:47:27,525] Trial 115 finished with value: 7.071819692334051 and parameters: {'frequency': 14, 'rsiFrequency': 40, 'sellZoneDistance': 7, 'avgUpATRSum': 4, 'useAbsoluteRSIBarrier': True, 'barrierLevel': 54, 'pyramiding': 9}. Best is trial 73 with value: 21.248954237768114.\n"
     ]
    },
    {
     "name": "stdout",
     "output_type": "stream",
     "text": [
      "[ONDOUSDT-30min] Trial 115: 参数 {'frequency': 14, 'rsiFrequency': 40, 'sellZoneDistance': 7, 'avgUpATRSum': 4, 'useAbsoluteRSIBarrier': True, 'barrierLevel': 54, 'pyramiding': 9} -> 得分 7.07\n"
     ]
    },
    {
     "name": "stderr",
     "output_type": "stream",
     "text": [
      "[I 2025-03-09 04:47:30,567] Trial 114 finished with value: 7.071819692334051 and parameters: {'frequency': 14, 'rsiFrequency': 40, 'sellZoneDistance': 7, 'avgUpATRSum': 4, 'useAbsoluteRSIBarrier': True, 'barrierLevel': 54, 'pyramiding': 9}. Best is trial 73 with value: 21.248954237768114.\n"
     ]
    },
    {
     "name": "stdout",
     "output_type": "stream",
     "text": [
      "[ONDOUSDT-30min] Trial 114: 参数 {'frequency': 14, 'rsiFrequency': 40, 'sellZoneDistance': 7, 'avgUpATRSum': 4, 'useAbsoluteRSIBarrier': True, 'barrierLevel': 54, 'pyramiding': 9} -> 得分 7.07\n"
     ]
    },
    {
     "name": "stderr",
     "output_type": "stream",
     "text": [
      "[I 2025-03-09 04:47:35,753] Trial 113 finished with value: 7.071819692334051 and parameters: {'frequency': 14, 'rsiFrequency': 40, 'sellZoneDistance': 7, 'avgUpATRSum': 4, 'useAbsoluteRSIBarrier': True, 'barrierLevel': 54, 'pyramiding': 9}. Best is trial 73 with value: 21.248954237768114.\n"
     ]
    },
    {
     "name": "stdout",
     "output_type": "stream",
     "text": [
      "[ONDOUSDT-30min] Trial 113: 参数 {'frequency': 14, 'rsiFrequency': 40, 'sellZoneDistance': 7, 'avgUpATRSum': 4, 'useAbsoluteRSIBarrier': True, 'barrierLevel': 54, 'pyramiding': 9} -> 得分 7.07\n"
     ]
    },
    {
     "name": "stderr",
     "output_type": "stream",
     "text": [
      "[I 2025-03-09 04:47:40,296] Trial 112 finished with value: 1.9491559311707385 and parameters: {'frequency': 12, 'rsiFrequency': 40, 'sellZoneDistance': 7, 'avgUpATRSum': 4, 'useAbsoluteRSIBarrier': True, 'barrierLevel': 54, 'pyramiding': 9}. Best is trial 73 with value: 21.248954237768114.\n"
     ]
    },
    {
     "name": "stdout",
     "output_type": "stream",
     "text": [
      "[ONDOUSDT-30min] Trial 112: 参数 {'frequency': 12, 'rsiFrequency': 40, 'sellZoneDistance': 7, 'avgUpATRSum': 4, 'useAbsoluteRSIBarrier': True, 'barrierLevel': 54, 'pyramiding': 9} -> 得分 1.95\n"
     ]
    },
    {
     "name": "stderr",
     "output_type": "stream",
     "text": [
      "[I 2025-03-09 04:47:54,576] Trial 117 finished with value: 9.539381267063401 and parameters: {'frequency': 14, 'rsiFrequency': 38, 'sellZoneDistance': 7, 'avgUpATRSum': 3, 'useAbsoluteRSIBarrier': True, 'barrierLevel': 54, 'pyramiding': 8}. Best is trial 73 with value: 21.248954237768114.\n"
     ]
    },
    {
     "name": "stdout",
     "output_type": "stream",
     "text": [
      "[ONDOUSDT-30min] Trial 117: 参数 {'frequency': 14, 'rsiFrequency': 38, 'sellZoneDistance': 7, 'avgUpATRSum': 3, 'useAbsoluteRSIBarrier': True, 'barrierLevel': 54, 'pyramiding': 8} -> 得分 9.54\n",
      "[ONDOUSDT-30min] Trial 116: 参数 {'frequency': 14, 'rsiFrequency': 40, 'sellZoneDistance': 7, 'avgUpATRSum': 3, 'useAbsoluteRSIBarrier': True, 'barrierLevel': 54, 'pyramiding': 8} -> 得分 11.41\n"
     ]
    },
    {
     "name": "stderr",
     "output_type": "stream",
     "text": [
      "[I 2025-03-09 04:47:54,669] Trial 116 finished with value: 11.414784970021898 and parameters: {'frequency': 14, 'rsiFrequency': 40, 'sellZoneDistance': 7, 'avgUpATRSum': 3, 'useAbsoluteRSIBarrier': True, 'barrierLevel': 54, 'pyramiding': 8}. Best is trial 73 with value: 21.248954237768114.\n",
      "[I 2025-03-09 04:48:03,835] Trial 118 finished with value: 9.539381267063401 and parameters: {'frequency': 14, 'rsiFrequency': 38, 'sellZoneDistance': 7, 'avgUpATRSum': 3, 'useAbsoluteRSIBarrier': True, 'barrierLevel': 54, 'pyramiding': 8}. Best is trial 73 with value: 21.248954237768114.\n"
     ]
    },
    {
     "name": "stdout",
     "output_type": "stream",
     "text": [
      "[ONDOUSDT-30min] Trial 118: 参数 {'frequency': 14, 'rsiFrequency': 38, 'sellZoneDistance': 7, 'avgUpATRSum': 3, 'useAbsoluteRSIBarrier': True, 'barrierLevel': 54, 'pyramiding': 8} -> 得分 9.54\n"
     ]
    },
    {
     "name": "stderr",
     "output_type": "stream",
     "text": [
      "[I 2025-03-09 04:48:04,688] Trial 119 finished with value: 9.539381267063401 and parameters: {'frequency': 14, 'rsiFrequency': 38, 'sellZoneDistance': 7, 'avgUpATRSum': 3, 'useAbsoluteRSIBarrier': True, 'barrierLevel': 54, 'pyramiding': 8}. Best is trial 73 with value: 21.248954237768114.\n"
     ]
    },
    {
     "name": "stdout",
     "output_type": "stream",
     "text": [
      "[ONDOUSDT-30min] Trial 119: 参数 {'frequency': 14, 'rsiFrequency': 38, 'sellZoneDistance': 7, 'avgUpATRSum': 3, 'useAbsoluteRSIBarrier': True, 'barrierLevel': 54, 'pyramiding': 8} -> 得分 9.54\n"
     ]
    },
    {
     "name": "stderr",
     "output_type": "stream",
     "text": [
      "[I 2025-03-09 04:49:25,340] Trial 120 finished with value: 9.539381267063401 and parameters: {'frequency': 14, 'rsiFrequency': 38, 'sellZoneDistance': 7, 'avgUpATRSum': 3, 'useAbsoluteRSIBarrier': True, 'barrierLevel': 54, 'pyramiding': 8}. Best is trial 73 with value: 21.248954237768114.\n"
     ]
    },
    {
     "name": "stdout",
     "output_type": "stream",
     "text": [
      "[ONDOUSDT-30min] Trial 120: 参数 {'frequency': 14, 'rsiFrequency': 38, 'sellZoneDistance': 7, 'avgUpATRSum': 3, 'useAbsoluteRSIBarrier': True, 'barrierLevel': 54, 'pyramiding': 8} -> 得分 9.54\n",
      "[ONDOUSDT-30min] Trial 121: 参数 {'frequency': 14, 'rsiFrequency': 38, 'sellZoneDistance': 7, 'avgUpATRSum': 3, 'useAbsoluteRSIBarrier': True, 'barrierLevel': 54, 'pyramiding': 8} -> 得分 9.54"
     ]
    },
    {
     "name": "stderr",
     "output_type": "stream",
     "text": [
      "[I 2025-03-09 04:49:27,778] Trial 121 finished with value: 9.539381267063401 and parameters: {'frequency': 14, 'rsiFrequency': 38, 'sellZoneDistance': 7, 'avgUpATRSum': 3, 'useAbsoluteRSIBarrier': True, 'barrierLevel': 54, 'pyramiding': 8}. Best is trial 73 with value: 21.248954237768114.\n"
     ]
    },
    {
     "name": "stdout",
     "output_type": "stream",
     "text": [
      "\n",
      "[ONDOUSDT-30min] Trial 122: 参数 {'frequency': 14, 'rsiFrequency': 38, 'sellZoneDistance': 7, 'avgUpATRSum': 3, 'useAbsoluteRSIBarrier': True, 'barrierLevel': 54, 'pyramiding': 8} -> 得分 9.54\n"
     ]
    },
    {
     "name": "stderr",
     "output_type": "stream",
     "text": [
      "[I 2025-03-09 04:49:27,830] Trial 122 finished with value: 9.539381267063401 and parameters: {'frequency': 14, 'rsiFrequency': 38, 'sellZoneDistance': 7, 'avgUpATRSum': 3, 'useAbsoluteRSIBarrier': True, 'barrierLevel': 54, 'pyramiding': 8}. Best is trial 73 with value: 21.248954237768114.\n",
      "[I 2025-03-09 04:49:57,149] Trial 124 finished with value: 9.539381267063401 and parameters: {'frequency': 14, 'rsiFrequency': 38, 'sellZoneDistance': 7, 'avgUpATRSum': 3, 'useAbsoluteRSIBarrier': True, 'barrierLevel': 54, 'pyramiding': 8}. Best is trial 73 with value: 21.248954237768114.\n"
     ]
    },
    {
     "name": "stdout",
     "output_type": "stream",
     "text": [
      "[ONDOUSDT-30min] Trial 124: 参数 {'frequency': 14, 'rsiFrequency': 38, 'sellZoneDistance': 7, 'avgUpATRSum': 3, 'useAbsoluteRSIBarrier': True, 'barrierLevel': 54, 'pyramiding': 8} -> 得分 9.54\n"
     ]
    },
    {
     "name": "stderr",
     "output_type": "stream",
     "text": [
      "[I 2025-03-09 04:50:08,799] Trial 123 finished with value: 9.539381267063401 and parameters: {'frequency': 14, 'rsiFrequency': 38, 'sellZoneDistance': 7, 'avgUpATRSum': 3, 'useAbsoluteRSIBarrier': True, 'barrierLevel': 54, 'pyramiding': 8}. Best is trial 73 with value: 21.248954237768114.\n"
     ]
    },
    {
     "name": "stdout",
     "output_type": "stream",
     "text": [
      "[ONDOUSDT-30min] Trial 123: 参数 {'frequency': 14, 'rsiFrequency': 38, 'sellZoneDistance': 7, 'avgUpATRSum': 3, 'useAbsoluteRSIBarrier': True, 'barrierLevel': 54, 'pyramiding': 8} -> 得分 9.54\n"
     ]
    },
    {
     "name": "stderr",
     "output_type": "stream",
     "text": [
      "[I 2025-03-09 04:50:10,270] Trial 126 finished with value: 9.539381267063401 and parameters: {'frequency': 14, 'rsiFrequency': 38, 'sellZoneDistance': 7, 'avgUpATRSum': 3, 'useAbsoluteRSIBarrier': True, 'barrierLevel': 54, 'pyramiding': 8}. Best is trial 73 with value: 21.248954237768114.\n"
     ]
    },
    {
     "name": "stdout",
     "output_type": "stream",
     "text": [
      "[ONDOUSDT-30min] Trial 126: 参数 {'frequency': 14, 'rsiFrequency': 38, 'sellZoneDistance': 7, 'avgUpATRSum': 3, 'useAbsoluteRSIBarrier': True, 'barrierLevel': 54, 'pyramiding': 8} -> 得分 9.54\n"
     ]
    },
    {
     "name": "stderr",
     "output_type": "stream",
     "text": [
      "[I 2025-03-09 04:50:10,991] Trial 129 finished with value: 7.661496273938953 and parameters: {'frequency': 14, 'rsiFrequency': 38, 'sellZoneDistance': 7, 'avgUpATRSum': 3, 'useAbsoluteRSIBarrier': True, 'barrierLevel': 52, 'pyramiding': 10}. Best is trial 73 with value: 21.248954237768114.\n"
     ]
    },
    {
     "name": "stdout",
     "output_type": "stream",
     "text": [
      "[ONDOUSDT-30min] Trial 129: 参数 {'frequency': 14, 'rsiFrequency': 38, 'sellZoneDistance': 7, 'avgUpATRSum': 3, 'useAbsoluteRSIBarrier': True, 'barrierLevel': 52, 'pyramiding': 10} -> 得分 7.66\n"
     ]
    },
    {
     "name": "stderr",
     "output_type": "stream",
     "text": [
      "[I 2025-03-09 04:50:16,796] Trial 125 finished with value: 9.539381267063401 and parameters: {'frequency': 14, 'rsiFrequency': 38, 'sellZoneDistance': 7, 'avgUpATRSum': 3, 'useAbsoluteRSIBarrier': True, 'barrierLevel': 54, 'pyramiding': 8}. Best is trial 73 with value: 21.248954237768114.\n"
     ]
    },
    {
     "name": "stdout",
     "output_type": "stream",
     "text": [
      "[ONDOUSDT-30min] Trial 125: 参数 {'frequency': 14, 'rsiFrequency': 38, 'sellZoneDistance': 7, 'avgUpATRSum': 3, 'useAbsoluteRSIBarrier': True, 'barrierLevel': 54, 'pyramiding': 8} -> 得分 9.54\n"
     ]
    },
    {
     "name": "stderr",
     "output_type": "stream",
     "text": [
      "[I 2025-03-09 04:50:24,640] Trial 134 finished with value: 21.628530320217145 and parameters: {'frequency': 14, 'rsiFrequency': 38, 'sellZoneDistance': 7, 'avgUpATRSum': 3, 'useAbsoluteRSIBarrier': True, 'barrierLevel': 56, 'pyramiding': 8}. Best is trial 134 with value: 21.628530320217145.\n"
     ]
    },
    {
     "name": "stdout",
     "output_type": "stream",
     "text": [
      "[ONDOUSDT-30min] Trial 134: 参数 {'frequency': 14, 'rsiFrequency': 38, 'sellZoneDistance': 7, 'avgUpATRSum': 3, 'useAbsoluteRSIBarrier': True, 'barrierLevel': 56, 'pyramiding': 8} -> 得分 21.63\n"
     ]
    },
    {
     "name": "stderr",
     "output_type": "stream",
     "text": [
      "[I 2025-03-09 04:50:25,919] Trial 130 finished with value: 21.628530320217145 and parameters: {'frequency': 14, 'rsiFrequency': 38, 'sellZoneDistance': 7, 'avgUpATRSum': 3, 'useAbsoluteRSIBarrier': True, 'barrierLevel': 56, 'pyramiding': 8}. Best is trial 134 with value: 21.628530320217145.\n",
      "[I 2025-03-09 04:50:26,309] Trial 127 finished with value: 7.661496273938953 and parameters: {'frequency': 14, 'rsiFrequency': 38, 'sellZoneDistance': 7, 'avgUpATRSum': 3, 'useAbsoluteRSIBarrier': True, 'barrierLevel': 52, 'pyramiding': 10}. Best is trial 134 with value: 21.628530320217145.\n"
     ]
    },
    {
     "name": "stdout",
     "output_type": "stream",
     "text": [
      "[ONDOUSDT-30min] Trial 130: 参数 {'frequency': 14, 'rsiFrequency': 38, 'sellZoneDistance': 7, 'avgUpATRSum': 3, 'useAbsoluteRSIBarrier': True, 'barrierLevel': 56, 'pyramiding': 8} -> 得分 21.63\n",
      "[ONDOUSDT-30min] Trial 127: 参数 {'frequency': 14, 'rsiFrequency': 38, 'sellZoneDistance': 7, 'avgUpATRSum': 3, 'useAbsoluteRSIBarrier': True, 'barrierLevel': 52, 'pyramiding': 10} -> 得分 7.66\n"
     ]
    },
    {
     "name": "stderr",
     "output_type": "stream",
     "text": [
      "[I 2025-03-09 04:50:30,604] Trial 133 finished with value: 7.661496273938953 and parameters: {'frequency': 14, 'rsiFrequency': 38, 'sellZoneDistance': 7, 'avgUpATRSum': 3, 'useAbsoluteRSIBarrier': True, 'barrierLevel': 52, 'pyramiding': 10}. Best is trial 134 with value: 21.628530320217145.\n"
     ]
    },
    {
     "name": "stdout",
     "output_type": "stream",
     "text": [
      "[ONDOUSDT-30min] Trial 133: 参数 {'frequency': 14, 'rsiFrequency': 38, 'sellZoneDistance': 7, 'avgUpATRSum': 3, 'useAbsoluteRSIBarrier': True, 'barrierLevel': 52, 'pyramiding': 10} -> 得分 7.66\n"
     ]
    },
    {
     "name": "stderr",
     "output_type": "stream",
     "text": [
      "[I 2025-03-09 04:50:32,861] Trial 135 finished with value: 17.438136675334718 and parameters: {'frequency': 14, 'rsiFrequency': 38, 'sellZoneDistance': 7, 'avgUpATRSum': 3, 'useAbsoluteRSIBarrier': True, 'barrierLevel': 56, 'pyramiding': 10}. Best is trial 134 with value: 21.628530320217145.\n"
     ]
    },
    {
     "name": "stdout",
     "output_type": "stream",
     "text": [
      "[ONDOUSDT-30min] Trial 135: 参数 {'frequency': 14, 'rsiFrequency': 38, 'sellZoneDistance': 7, 'avgUpATRSum': 3, 'useAbsoluteRSIBarrier': True, 'barrierLevel': 56, 'pyramiding': 10} -> 得分 17.44\n"
     ]
    },
    {
     "name": "stderr",
     "output_type": "stream",
     "text": [
      "[I 2025-03-09 04:50:39,067] Trial 136 finished with value: 17.438136675334718 and parameters: {'frequency': 14, 'rsiFrequency': 38, 'sellZoneDistance': 7, 'avgUpATRSum': 3, 'useAbsoluteRSIBarrier': True, 'barrierLevel': 56, 'pyramiding': 10}. Best is trial 134 with value: 21.628530320217145.\n"
     ]
    },
    {
     "name": "stdout",
     "output_type": "stream",
     "text": [
      "[ONDOUSDT-30min] Trial 136: 参数 {'frequency': 14, 'rsiFrequency': 38, 'sellZoneDistance': 7, 'avgUpATRSum': 3, 'useAbsoluteRSIBarrier': True, 'barrierLevel': 56, 'pyramiding': 10} -> 得分 17.44\n"
     ]
    },
    {
     "name": "stderr",
     "output_type": "stream",
     "text": [
      "[I 2025-03-09 04:50:40,039] Trial 132 finished with value: 21.628530320217145 and parameters: {'frequency': 14, 'rsiFrequency': 38, 'sellZoneDistance': 7, 'avgUpATRSum': 3, 'useAbsoluteRSIBarrier': True, 'barrierLevel': 56, 'pyramiding': 8}. Best is trial 134 with value: 21.628530320217145.\n"
     ]
    },
    {
     "name": "stdout",
     "output_type": "stream",
     "text": [
      "[ONDOUSDT-30min] Trial 132: 参数 {'frequency': 14, 'rsiFrequency': 38, 'sellZoneDistance': 7, 'avgUpATRSum': 3, 'useAbsoluteRSIBarrier': True, 'barrierLevel': 56, 'pyramiding': 8} -> 得分 21.63\n",
      "[ONDOUSDT-30min] Trial 137: 参数 {'frequency': 14, 'rsiFrequency': 38, 'sellZoneDistance': 7, 'avgUpATRSum': 3, 'useAbsoluteRSIBarrier': True, 'barrierLevel': 56, 'pyramiding': 10} -> 得分 17.44\n"
     ]
    },
    {
     "name": "stderr",
     "output_type": "stream",
     "text": [
      "[I 2025-03-09 04:50:40,165] Trial 137 finished with value: 17.438136675334718 and parameters: {'frequency': 14, 'rsiFrequency': 38, 'sellZoneDistance': 7, 'avgUpATRSum': 3, 'useAbsoluteRSIBarrier': True, 'barrierLevel': 56, 'pyramiding': 10}. Best is trial 134 with value: 21.628530320217145.\n"
     ]
    },
    {
     "name": "stdout",
     "output_type": "stream",
     "text": [
      "[ONDOUSDT-30min] Trial 138: 参数 {'frequency': 14, 'rsiFrequency': 38, 'sellZoneDistance': 7, 'avgUpATRSum': 3, 'useAbsoluteRSIBarrier': True, 'barrierLevel': 56, 'pyramiding': 10} -> 得分 17.44\n",
      "[ONDOUSDT-30min] Trial 139: 参数 {'frequency': 14, 'rsiFrequency': 38, 'sellZoneDistance': 7, 'avgUpATRSum': 3, 'useAbsoluteRSIBarrier': True, 'barrierLevel': 56, 'pyramiding': 10} -> 得分 17.44\n"
     ]
    },
    {
     "name": "stderr",
     "output_type": "stream",
     "text": [
      "[I 2025-03-09 04:50:40,530] Trial 138 finished with value: 17.438136675334718 and parameters: {'frequency': 14, 'rsiFrequency': 38, 'sellZoneDistance': 7, 'avgUpATRSum': 3, 'useAbsoluteRSIBarrier': True, 'barrierLevel': 56, 'pyramiding': 10}. Best is trial 134 with value: 21.628530320217145.\n",
      "[I 2025-03-09 04:50:40,757] Trial 139 finished with value: 17.438136675334718 and parameters: {'frequency': 14, 'rsiFrequency': 38, 'sellZoneDistance': 7, 'avgUpATRSum': 3, 'useAbsoluteRSIBarrier': True, 'barrierLevel': 56, 'pyramiding': 10}. Best is trial 134 with value: 21.628530320217145.\n",
      "[I 2025-03-09 04:50:43,153] Trial 128 finished with value: 7.661496273938953 and parameters: {'frequency': 14, 'rsiFrequency': 38, 'sellZoneDistance': 7, 'avgUpATRSum': 3, 'useAbsoluteRSIBarrier': True, 'barrierLevel': 52, 'pyramiding': 10}. Best is trial 134 with value: 21.628530320217145.\n"
     ]
    },
    {
     "name": "stdout",
     "output_type": "stream",
     "text": [
      "[ONDOUSDT-30min] Trial 128: 参数 {'frequency': 14, 'rsiFrequency': 38, 'sellZoneDistance': 7, 'avgUpATRSum': 3, 'useAbsoluteRSIBarrier': True, 'barrierLevel': 52, 'pyramiding': 10} -> 得分 7.66\n"
     ]
    },
    {
     "name": "stderr",
     "output_type": "stream",
     "text": [
      "[I 2025-03-09 04:50:45,309] Trial 131 finished with value: 7.661496273938953 and parameters: {'frequency': 14, 'rsiFrequency': 38, 'sellZoneDistance': 7, 'avgUpATRSum': 3, 'useAbsoluteRSIBarrier': True, 'barrierLevel': 52, 'pyramiding': 10}. Best is trial 134 with value: 21.628530320217145.\n"
     ]
    },
    {
     "name": "stdout",
     "output_type": "stream",
     "text": [
      "[ONDOUSDT-30min] Trial 131: 参数 {'frequency': 14, 'rsiFrequency': 38, 'sellZoneDistance': 7, 'avgUpATRSum': 3, 'useAbsoluteRSIBarrier': True, 'barrierLevel': 52, 'pyramiding': 10} -> 得分 7.66\n"
     ]
    },
    {
     "name": "stderr",
     "output_type": "stream",
     "text": [
      "[I 2025-03-09 04:50:51,862] Trial 140 finished with value: 21.628530320217145 and parameters: {'frequency': 14, 'rsiFrequency': 38, 'sellZoneDistance': 7, 'avgUpATRSum': 3, 'useAbsoluteRSIBarrier': True, 'barrierLevel': 56, 'pyramiding': 8}. Best is trial 134 with value: 21.628530320217145.\n"
     ]
    },
    {
     "name": "stdout",
     "output_type": "stream",
     "text": [
      "[ONDOUSDT-30min] Trial 140: 参数 {'frequency': 14, 'rsiFrequency': 38, 'sellZoneDistance': 7, 'avgUpATRSum': 3, 'useAbsoluteRSIBarrier': True, 'barrierLevel': 56, 'pyramiding': 8} -> 得分 21.63\n"
     ]
    },
    {
     "name": "stderr",
     "output_type": "stream",
     "text": [
      "[I 2025-03-09 04:51:23,824] Trial 141 finished with value: 21.628530320217145 and parameters: {'frequency': 14, 'rsiFrequency': 38, 'sellZoneDistance': 7, 'avgUpATRSum': 3, 'useAbsoluteRSIBarrier': True, 'barrierLevel': 56, 'pyramiding': 8}. Best is trial 134 with value: 21.628530320217145.\n"
     ]
    },
    {
     "name": "stdout",
     "output_type": "stream",
     "text": [
      "[ONDOUSDT-30min] Trial 141: 参数 {'frequency': 14, 'rsiFrequency': 38, 'sellZoneDistance': 7, 'avgUpATRSum': 3, 'useAbsoluteRSIBarrier': True, 'barrierLevel': 56, 'pyramiding': 8} -> 得分 21.63\n"
     ]
    },
    {
     "name": "stderr",
     "output_type": "stream",
     "text": [
      "[I 2025-03-09 04:51:57,907] Trial 143 finished with value: 21.990130892222737 and parameters: {'frequency': 14, 'rsiFrequency': 38, 'sellZoneDistance': 6, 'avgUpATRSum': 3, 'useAbsoluteRSIBarrier': True, 'barrierLevel': 56, 'pyramiding': 8}. Best is trial 143 with value: 21.990130892222737.\n",
      "[I 2025-03-09 04:51:58,468] Trial 142 finished with value: 21.628530320217145 and parameters: {'frequency': 14, 'rsiFrequency': 38, 'sellZoneDistance': 7, 'avgUpATRSum': 3, 'useAbsoluteRSIBarrier': True, 'barrierLevel': 56, 'pyramiding': 8}. Best is trial 143 with value: 21.990130892222737.\n"
     ]
    },
    {
     "name": "stdout",
     "output_type": "stream",
     "text": [
      "[ONDOUSDT-30min] Trial 143: 参数 {'frequency': 14, 'rsiFrequency': 38, 'sellZoneDistance': 6, 'avgUpATRSum': 3, 'useAbsoluteRSIBarrier': True, 'barrierLevel': 56, 'pyramiding': 8} -> 得分 21.99\n",
      "[ONDOUSDT-30min] Trial 142: 参数 {'frequency': 14, 'rsiFrequency': 38, 'sellZoneDistance': 7, 'avgUpATRSum': 3, 'useAbsoluteRSIBarrier': True, 'barrierLevel': 56, 'pyramiding': 8} -> 得分 21.63\n"
     ]
    },
    {
     "name": "stderr",
     "output_type": "stream",
     "text": [
      "[I 2025-03-09 04:52:05,852] Trial 144 finished with value: 21.990130892222737 and parameters: {'frequency': 14, 'rsiFrequency': 38, 'sellZoneDistance': 6, 'avgUpATRSum': 3, 'useAbsoluteRSIBarrier': True, 'barrierLevel': 56, 'pyramiding': 8}. Best is trial 143 with value: 21.990130892222737.\n"
     ]
    },
    {
     "name": "stdout",
     "output_type": "stream",
     "text": [
      "[ONDOUSDT-30min] Trial 144: 参数 {'frequency': 14, 'rsiFrequency': 38, 'sellZoneDistance': 6, 'avgUpATRSum': 3, 'useAbsoluteRSIBarrier': True, 'barrierLevel': 56, 'pyramiding': 8} -> 得分 21.99\n"
     ]
    },
    {
     "name": "stderr",
     "output_type": "stream",
     "text": [
      "[I 2025-03-09 04:52:09,188] Trial 145 finished with value: 21.990130892222737 and parameters: {'frequency': 14, 'rsiFrequency': 38, 'sellZoneDistance': 6, 'avgUpATRSum': 3, 'useAbsoluteRSIBarrier': True, 'barrierLevel': 56, 'pyramiding': 8}. Best is trial 143 with value: 21.990130892222737.\n"
     ]
    },
    {
     "name": "stdout",
     "output_type": "stream",
     "text": [
      "[ONDOUSDT-30min] Trial 145: 参数 {'frequency': 14, 'rsiFrequency': 38, 'sellZoneDistance': 6, 'avgUpATRSum': 3, 'useAbsoluteRSIBarrier': True, 'barrierLevel': 56, 'pyramiding': 8} -> 得分 21.99\n"
     ]
    },
    {
     "name": "stderr",
     "output_type": "stream",
     "text": [
      "[I 2025-03-09 04:52:18,000] Trial 146 finished with value: 5.795833159819097 and parameters: {'frequency': 14, 'rsiFrequency': 38, 'sellZoneDistance': 6, 'avgUpATRSum': 3, 'useAbsoluteRSIBarrier': True, 'barrierLevel': 52, 'pyramiding': 10}. Best is trial 143 with value: 21.990130892222737.\n"
     ]
    },
    {
     "name": "stdout",
     "output_type": "stream",
     "text": [
      "[ONDOUSDT-30min] Trial 146: 参数 {'frequency': 14, 'rsiFrequency': 38, 'sellZoneDistance': 6, 'avgUpATRSum': 3, 'useAbsoluteRSIBarrier': True, 'barrierLevel': 52, 'pyramiding': 10} -> 得分 5.80\n"
     ]
    },
    {
     "name": "stderr",
     "output_type": "stream",
     "text": [
      "[I 2025-03-09 04:52:18,350] Trial 147 finished with value: 13.355659855685232 and parameters: {'frequency': 14, 'rsiFrequency': 38, 'sellZoneDistance': 6, 'avgUpATRSum': 3, 'useAbsoluteRSIBarrier': False, 'barrierLevel': 56, 'pyramiding': 10}. Best is trial 143 with value: 21.990130892222737.\n"
     ]
    },
    {
     "name": "stdout",
     "output_type": "stream",
     "text": [
      "[ONDOUSDT-30min] Trial 147: 参数 {'frequency': 14, 'rsiFrequency': 38, 'sellZoneDistance': 6, 'avgUpATRSum': 3, 'useAbsoluteRSIBarrier': False, 'barrierLevel': 56, 'pyramiding': 10} -> 得分 13.36\n"
     ]
    },
    {
     "name": "stderr",
     "output_type": "stream",
     "text": [
      "[I 2025-03-09 04:52:21,968] Trial 148 finished with value: 13.355659855685232 and parameters: {'frequency': 14, 'rsiFrequency': 38, 'sellZoneDistance': 6, 'avgUpATRSum': 3, 'useAbsoluteRSIBarrier': False, 'barrierLevel': 56, 'pyramiding': 10}. Best is trial 143 with value: 21.990130892222737.\n"
     ]
    },
    {
     "name": "stdout",
     "output_type": "stream",
     "text": [
      "[ONDOUSDT-30min] Trial 148: 参数 {'frequency': 14, 'rsiFrequency': 38, 'sellZoneDistance': 6, 'avgUpATRSum': 3, 'useAbsoluteRSIBarrier': False, 'barrierLevel': 56, 'pyramiding': 10} -> 得分 13.36\n"
     ]
    },
    {
     "name": "stderr",
     "output_type": "stream",
     "text": [
      "[I 2025-03-09 04:52:26,455] Trial 149 finished with value: 13.355659855685232 and parameters: {'frequency': 14, 'rsiFrequency': 38, 'sellZoneDistance': 6, 'avgUpATRSum': 3, 'useAbsoluteRSIBarrier': False, 'barrierLevel': 56, 'pyramiding': 10}. Best is trial 143 with value: 21.990130892222737.\n"
     ]
    },
    {
     "name": "stdout",
     "output_type": "stream",
     "text": [
      "[ONDOUSDT-30min] Trial 149: 参数 {'frequency': 14, 'rsiFrequency': 38, 'sellZoneDistance': 6, 'avgUpATRSum': 3, 'useAbsoluteRSIBarrier': False, 'barrierLevel': 56, 'pyramiding': 10} -> 得分 13.36\n"
     ]
    },
    {
     "name": "stderr",
     "output_type": "stream",
     "text": [
      "[I 2025-03-09 04:52:27,947] Trial 150 finished with value: 12.652638096973423 and parameters: {'frequency': 14, 'rsiFrequency': 38, 'sellZoneDistance': 6, 'avgUpATRSum': 4, 'useAbsoluteRSIBarrier': False, 'barrierLevel': 56, 'pyramiding': 10}. Best is trial 143 with value: 21.990130892222737.\n"
     ]
    },
    {
     "name": "stdout",
     "output_type": "stream",
     "text": [
      "[ONDOUSDT-30min] Trial 150: 参数 {'frequency': 14, 'rsiFrequency': 38, 'sellZoneDistance': 6, 'avgUpATRSum': 4, 'useAbsoluteRSIBarrier': False, 'barrierLevel': 56, 'pyramiding': 10} -> 得分 12.65\n"
     ]
    },
    {
     "name": "stderr",
     "output_type": "stream",
     "text": [
      "[I 2025-03-09 04:52:30,609] Trial 152 finished with value: 12.652638096973423 and parameters: {'frequency': 14, 'rsiFrequency': 38, 'sellZoneDistance': 6, 'avgUpATRSum': 4, 'useAbsoluteRSIBarrier': False, 'barrierLevel': 56, 'pyramiding': 10}. Best is trial 143 with value: 21.990130892222737.\n"
     ]
    },
    {
     "name": "stdout",
     "output_type": "stream",
     "text": [
      "[ONDOUSDT-30min] Trial 152: 参数 {'frequency': 14, 'rsiFrequency': 38, 'sellZoneDistance': 6, 'avgUpATRSum': 4, 'useAbsoluteRSIBarrier': False, 'barrierLevel': 56, 'pyramiding': 10} -> 得分 12.65\n"
     ]
    },
    {
     "name": "stderr",
     "output_type": "stream",
     "text": [
      "[I 2025-03-09 04:52:32,577] Trial 151 finished with value: 12.652638096973423 and parameters: {'frequency': 14, 'rsiFrequency': 38, 'sellZoneDistance': 6, 'avgUpATRSum': 4, 'useAbsoluteRSIBarrier': False, 'barrierLevel': 56, 'pyramiding': 10}. Best is trial 143 with value: 21.990130892222737.\n"
     ]
    },
    {
     "name": "stdout",
     "output_type": "stream",
     "text": [
      "[ONDOUSDT-30min] Trial 151: 参数 {'frequency': 14, 'rsiFrequency': 38, 'sellZoneDistance': 6, 'avgUpATRSum': 4, 'useAbsoluteRSIBarrier': False, 'barrierLevel': 56, 'pyramiding': 10} -> 得分 12.65\n"
     ]
    },
    {
     "name": "stderr",
     "output_type": "stream",
     "text": [
      "[I 2025-03-09 04:52:41,673] Trial 153 finished with value: 12.652638096973423 and parameters: {'frequency': 14, 'rsiFrequency': 38, 'sellZoneDistance': 6, 'avgUpATRSum': 4, 'useAbsoluteRSIBarrier': False, 'barrierLevel': 56, 'pyramiding': 10}. Best is trial 143 with value: 21.990130892222737.\n",
      "[I 2025-03-09 04:52:41,695] Trial 156 finished with value: 12.652638096973423 and parameters: {'frequency': 14, 'rsiFrequency': 38, 'sellZoneDistance': 6, 'avgUpATRSum': 4, 'useAbsoluteRSIBarrier': False, 'barrierLevel': 56, 'pyramiding': 10}. Best is trial 143 with value: 21.990130892222737.\n"
     ]
    },
    {
     "name": "stdout",
     "output_type": "stream",
     "text": [
      "[ONDOUSDT-30min] Trial 153: 参数 {'frequency': 14, 'rsiFrequency': 38, 'sellZoneDistance': 6, 'avgUpATRSum': 4, 'useAbsoluteRSIBarrier': False, 'barrierLevel': 56, 'pyramiding': 10} -> 得分 12.65\n",
      "[ONDOUSDT-30min] Trial 156: 参数 {'frequency': 14, 'rsiFrequency': 38, 'sellZoneDistance': 6, 'avgUpATRSum': 4, 'useAbsoluteRSIBarrier': False, 'barrierLevel': 56, 'pyramiding': 10} -> 得分 12.65\n"
     ]
    },
    {
     "name": "stderr",
     "output_type": "stream",
     "text": [
      "[I 2025-03-09 04:52:43,682] Trial 158 finished with value: 16.91398164730737 and parameters: {'frequency': 14, 'rsiFrequency': 38, 'sellZoneDistance': 6, 'avgUpATRSum': 4, 'useAbsoluteRSIBarrier': True, 'barrierLevel': 56, 'pyramiding': 10}. Best is trial 143 with value: 21.990130892222737.\n"
     ]
    },
    {
     "name": "stdout",
     "output_type": "stream",
     "text": [
      "[ONDOUSDT-30min] Trial 158: 参数 {'frequency': 14, 'rsiFrequency': 38, 'sellZoneDistance': 6, 'avgUpATRSum': 4, 'useAbsoluteRSIBarrier': True, 'barrierLevel': 56, 'pyramiding': 10} -> 得分 16.91\n"
     ]
    },
    {
     "name": "stderr",
     "output_type": "stream",
     "text": [
      "[I 2025-03-09 04:52:46,428] Trial 159 finished with value: 15.678357927498565 and parameters: {'frequency': 14, 'rsiFrequency': 38, 'sellZoneDistance': 6, 'avgUpATRSum': 4, 'useAbsoluteRSIBarrier': False, 'barrierLevel': 56, 'pyramiding': 8}. Best is trial 143 with value: 21.990130892222737.\n"
     ]
    },
    {
     "name": "stdout",
     "output_type": "stream",
     "text": [
      "[ONDOUSDT-30min] Trial 159: 参数 {'frequency': 14, 'rsiFrequency': 38, 'sellZoneDistance': 6, 'avgUpATRSum': 4, 'useAbsoluteRSIBarrier': False, 'barrierLevel': 56, 'pyramiding': 8} -> 得分 15.68\n"
     ]
    },
    {
     "name": "stderr",
     "output_type": "stream",
     "text": [
      "[I 2025-03-09 04:52:49,100] Trial 154 finished with value: 12.652638096973423 and parameters: {'frequency': 14, 'rsiFrequency': 38, 'sellZoneDistance': 6, 'avgUpATRSum': 4, 'useAbsoluteRSIBarrier': False, 'barrierLevel': 56, 'pyramiding': 10}. Best is trial 143 with value: 21.990130892222737.\n"
     ]
    },
    {
     "name": "stdout",
     "output_type": "stream",
     "text": [
      "[ONDOUSDT-30min] Trial 154: 参数 {'frequency': 14, 'rsiFrequency': 38, 'sellZoneDistance': 6, 'avgUpATRSum': 4, 'useAbsoluteRSIBarrier': False, 'barrierLevel': 56, 'pyramiding': 10} -> 得分 12.65\n"
     ]
    },
    {
     "name": "stderr",
     "output_type": "stream",
     "text": [
      "[I 2025-03-09 04:52:49,456] Trial 155 finished with value: 12.652638096973423 and parameters: {'frequency': 14, 'rsiFrequency': 38, 'sellZoneDistance': 6, 'avgUpATRSum': 4, 'useAbsoluteRSIBarrier': False, 'barrierLevel': 56, 'pyramiding': 10}. Best is trial 143 with value: 21.990130892222737.\n",
      "[I 2025-03-09 04:52:49,619] Trial 157 finished with value: 12.652638096973423 and parameters: {'frequency': 14, 'rsiFrequency': 38, 'sellZoneDistance': 6, 'avgUpATRSum': 4, 'useAbsoluteRSIBarrier': False, 'barrierLevel': 56, 'pyramiding': 10}. Best is trial 143 with value: 21.990130892222737.\n"
     ]
    },
    {
     "name": "stdout",
     "output_type": "stream",
     "text": [
      "[ONDOUSDT-30min] Trial 155: 参数 {'frequency': 14, 'rsiFrequency': 38, 'sellZoneDistance': 6, 'avgUpATRSum': 4, 'useAbsoluteRSIBarrier': False, 'barrierLevel': 56, 'pyramiding': 10} -> 得分 12.65\n",
      "[ONDOUSDT-30min] Trial 157: 参数 {'frequency': 14, 'rsiFrequency': 38, 'sellZoneDistance': 6, 'avgUpATRSum': 4, 'useAbsoluteRSIBarrier': False, 'barrierLevel': 56, 'pyramiding': 10} -> 得分 12.65\n",
      "成功追加 5 条新记录（过滤掉 0 条重复记录）\n",
      "当前文件总共包含 2150 条记录\n",
      "[ONDOUSDT-30min] 已保存最佳参数组合\n"
     ]
    },
    {
     "name": "stderr",
     "output_type": "stream",
     "text": [
      "[I 2025-03-09 04:53:04,068] A new study created in memory with name: WLDUSDT_30min\n"
     ]
    },
    {
     "name": "stdout",
     "output_type": "stream",
     "text": [
      "开始优化 WLDUSDT-30min...\n"
     ]
    },
    {
     "name": "stderr",
     "output_type": "stream",
     "text": [
      "[I 2025-03-09 04:57:10,696] Trial 6 finished with value: -0.39114698338910636 and parameters: {'frequency': 14, 'rsiFrequency': 42, 'sellZoneDistance': 3, 'avgUpATRSum': 3, 'useAbsoluteRSIBarrier': False, 'barrierLevel': 48, 'pyramiding': 9}. Best is trial 6 with value: -0.39114698338910636.\n"
     ]
    },
    {
     "name": "stdout",
     "output_type": "stream",
     "text": [
      "[WLDUSDT-30min] Trial 6: 参数 {'frequency': 14, 'rsiFrequency': 42, 'sellZoneDistance': 3, 'avgUpATRSum': 3, 'useAbsoluteRSIBarrier': False, 'barrierLevel': 48, 'pyramiding': 9} -> 得分 -0.39\n"
     ]
    },
    {
     "name": "stderr",
     "output_type": "stream",
     "text": [
      "[I 2025-03-09 04:57:13,085] Trial 7 finished with value: -6.627231128344127 and parameters: {'frequency': 8, 'rsiFrequency': 38, 'sellZoneDistance': 5, 'avgUpATRSum': 3, 'useAbsoluteRSIBarrier': False, 'barrierLevel': 50, 'pyramiding': 9}. Best is trial 6 with value: -0.39114698338910636.\n"
     ]
    },
    {
     "name": "stdout",
     "output_type": "stream",
     "text": [
      "[WLDUSDT-30min] Trial 7: 参数 {'frequency': 8, 'rsiFrequency': 38, 'sellZoneDistance': 5, 'avgUpATRSum': 3, 'useAbsoluteRSIBarrier': False, 'barrierLevel': 50, 'pyramiding': 9} -> 得分 -6.63\n"
     ]
    },
    {
     "name": "stderr",
     "output_type": "stream",
     "text": [
      "[I 2025-03-09 04:57:18,076] Trial 8 finished with value: -4.70038440895763 and parameters: {'frequency': 14, 'rsiFrequency': 42, 'sellZoneDistance': 6, 'avgUpATRSum': 5, 'useAbsoluteRSIBarrier': False, 'barrierLevel': 52, 'pyramiding': 10}. Best is trial 6 with value: -0.39114698338910636.\n"
     ]
    },
    {
     "name": "stdout",
     "output_type": "stream",
     "text": [
      "[WLDUSDT-30min] Trial 8: 参数 {'frequency': 14, 'rsiFrequency': 42, 'sellZoneDistance': 6, 'avgUpATRSum': 5, 'useAbsoluteRSIBarrier': False, 'barrierLevel': 52, 'pyramiding': 10} -> 得分 -4.70\n"
     ]
    },
    {
     "name": "stderr",
     "output_type": "stream",
     "text": [
      "[I 2025-03-09 04:57:24,547] Trial 3 finished with value: -35.02587006937297 and parameters: {'frequency': 12, 'rsiFrequency': 40, 'sellZoneDistance': 4, 'avgUpATRSum': 4, 'useAbsoluteRSIBarrier': True, 'barrierLevel': 44, 'pyramiding': 10}. Best is trial 6 with value: -0.39114698338910636.\n"
     ]
    },
    {
     "name": "stdout",
     "output_type": "stream",
     "text": [
      "[WLDUSDT-30min] Trial 3: 参数 {'frequency': 12, 'rsiFrequency': 40, 'sellZoneDistance': 4, 'avgUpATRSum': 4, 'useAbsoluteRSIBarrier': True, 'barrierLevel': 44, 'pyramiding': 10} -> 得分 -35.03\n"
     ]
    },
    {
     "name": "stderr",
     "output_type": "stream",
     "text": [
      "[I 2025-03-09 04:57:26,763] Trial 2 finished with value: -14.785334969778516 and parameters: {'frequency': 14, 'rsiFrequency': 44, 'sellZoneDistance': 7, 'avgUpATRSum': 7, 'useAbsoluteRSIBarrier': True, 'barrierLevel': 56, 'pyramiding': 8}. Best is trial 6 with value: -0.39114698338910636.\n"
     ]
    },
    {
     "name": "stdout",
     "output_type": "stream",
     "text": [
      "[WLDUSDT-30min] Trial 2: 参数 {'frequency': 14, 'rsiFrequency': 44, 'sellZoneDistance': 7, 'avgUpATRSum': 7, 'useAbsoluteRSIBarrier': True, 'barrierLevel': 56, 'pyramiding': 8} -> 得分 -14.79\n"
     ]
    },
    {
     "name": "stderr",
     "output_type": "stream",
     "text": [
      "[I 2025-03-09 04:57:29,759] Trial 4 finished with value: -4.038076895790367 and parameters: {'frequency': 8, 'rsiFrequency': 40, 'sellZoneDistance': 6, 'avgUpATRSum': 3, 'useAbsoluteRSIBarrier': False, 'barrierLevel': 48, 'pyramiding': 10}. Best is trial 6 with value: -0.39114698338910636.\n"
     ]
    },
    {
     "name": "stdout",
     "output_type": "stream",
     "text": [
      "[WLDUSDT-30min] Trial 4: 参数 {'frequency': 8, 'rsiFrequency': 40, 'sellZoneDistance': 6, 'avgUpATRSum': 3, 'useAbsoluteRSIBarrier': False, 'barrierLevel': 48, 'pyramiding': 10} -> 得分 -4.04\n"
     ]
    },
    {
     "name": "stderr",
     "output_type": "stream",
     "text": [
      "[I 2025-03-09 04:57:36,698] Trial 1 finished with value: -16.815898120023494 and parameters: {'frequency': 14, 'rsiFrequency': 38, 'sellZoneDistance': 6, 'avgUpATRSum': 7, 'useAbsoluteRSIBarrier': True, 'barrierLevel': 54, 'pyramiding': 9}. Best is trial 6 with value: -0.39114698338910636.\n",
      "[I 2025-03-09 04:57:37,157] Trial 24 finished with value: -69.116736169533 and parameters: {'frequency': 10, 'rsiFrequency': 42, 'sellZoneDistance': 3, 'avgUpATRSum': 6, 'useAbsoluteRSIBarrier': True, 'barrierLevel': 44, 'pyramiding': 8}. Best is trial 6 with value: -0.39114698338910636.\n"
     ]
    },
    {
     "name": "stdout",
     "output_type": "stream",
     "text": [
      "[WLDUSDT-30min] Trial 1: 参数 {'frequency': 14, 'rsiFrequency': 38, 'sellZoneDistance': 6, 'avgUpATRSum': 7, 'useAbsoluteRSIBarrier': True, 'barrierLevel': 54, 'pyramiding': 9} -> 得分 -16.82\n",
      "[WLDUSDT-30min] Trial 24: 参数 {'frequency': 10, 'rsiFrequency': 42, 'sellZoneDistance': 3, 'avgUpATRSum': 6, 'useAbsoluteRSIBarrier': True, 'barrierLevel': 44, 'pyramiding': 8} -> 得分 -69.12\n",
      "[WLDUSDT-30min] Trial 25: 参数 {'frequency': 10, 'rsiFrequency': 38, 'sellZoneDistance': 6, 'avgUpATRSum': 7, 'useAbsoluteRSIBarrier': True, 'barrierLevel': 50, 'pyramiding': 8} -> 得分 -35.16\n"
     ]
    },
    {
     "name": "stderr",
     "output_type": "stream",
     "text": [
      "[I 2025-03-09 04:57:37,277] Trial 25 finished with value: -35.16301759201706 and parameters: {'frequency': 10, 'rsiFrequency': 38, 'sellZoneDistance': 6, 'avgUpATRSum': 7, 'useAbsoluteRSIBarrier': True, 'barrierLevel': 50, 'pyramiding': 8}. Best is trial 6 with value: -0.39114698338910636.\n",
      "[I 2025-03-09 04:57:38,264] Trial 9 finished with value: 0.14544018447065296 and parameters: {'frequency': 14, 'rsiFrequency': 44, 'sellZoneDistance': 3, 'avgUpATRSum': 4, 'useAbsoluteRSIBarrier': False, 'barrierLevel': 52, 'pyramiding': 9}. Best is trial 9 with value: 0.14544018447065296.\n"
     ]
    },
    {
     "name": "stdout",
     "output_type": "stream",
     "text": [
      "[WLDUSDT-30min] Trial 9: 参数 {'frequency': 14, 'rsiFrequency': 44, 'sellZoneDistance': 3, 'avgUpATRSum': 4, 'useAbsoluteRSIBarrier': False, 'barrierLevel': 52, 'pyramiding': 9} -> 得分 0.15\n"
     ]
    },
    {
     "name": "stderr",
     "output_type": "stream",
     "text": [
      "[I 2025-03-09 04:57:39,157] Trial 12 finished with value: -19.20179674076005 and parameters: {'frequency': 14, 'rsiFrequency': 38, 'sellZoneDistance': 6, 'avgUpATRSum': 7, 'useAbsoluteRSIBarrier': True, 'barrierLevel': 54, 'pyramiding': 8}. Best is trial 9 with value: 0.14544018447065296.\n"
     ]
    },
    {
     "name": "stdout",
     "output_type": "stream",
     "text": [
      "[WLDUSDT-30min] Trial 12: 参数 {'frequency': 14, 'rsiFrequency': 38, 'sellZoneDistance': 6, 'avgUpATRSum': 7, 'useAbsoluteRSIBarrier': True, 'barrierLevel': 54, 'pyramiding': 8} -> 得分 -19.20\n"
     ]
    },
    {
     "name": "stderr",
     "output_type": "stream",
     "text": [
      "[I 2025-03-09 04:57:44,936] Trial 23 finished with value: -1.1343808392178099 and parameters: {'frequency': 10, 'rsiFrequency': 44, 'sellZoneDistance': 5, 'avgUpATRSum': 3, 'useAbsoluteRSIBarrier': False, 'barrierLevel': 44, 'pyramiding': 8}. Best is trial 9 with value: 0.14544018447065296.\n"
     ]
    },
    {
     "name": "stdout",
     "output_type": "stream",
     "text": [
      "[WLDUSDT-30min] Trial 23: 参数 {'frequency': 10, 'rsiFrequency': 44, 'sellZoneDistance': 5, 'avgUpATRSum': 3, 'useAbsoluteRSIBarrier': False, 'barrierLevel': 44, 'pyramiding': 8} -> 得分 -1.13\n"
     ]
    },
    {
     "name": "stderr",
     "output_type": "stream",
     "text": [
      "[I 2025-03-09 04:57:49,549] Trial 13 finished with value: -37.285731798115044 and parameters: {'frequency': 10, 'rsiFrequency': 42, 'sellZoneDistance': 5, 'avgUpATRSum': 6, 'useAbsoluteRSIBarrier': True, 'barrierLevel': 50, 'pyramiding': 8}. Best is trial 9 with value: 0.14544018447065296.\n",
      "[I 2025-03-09 04:57:49,848] Trial 22 finished with value: -16.02350454299808 and parameters: {'frequency': 12, 'rsiFrequency': 44, 'sellZoneDistance': 3, 'avgUpATRSum': 6, 'useAbsoluteRSIBarrier': True, 'barrierLevel': 54, 'pyramiding': 9}. Best is trial 9 with value: 0.14544018447065296.\n"
     ]
    },
    {
     "name": "stdout",
     "output_type": "stream",
     "text": [
      "[WLDUSDT-30min] Trial 13: 参数 {'frequency': 10, 'rsiFrequency': 42, 'sellZoneDistance': 5, 'avgUpATRSum': 6, 'useAbsoluteRSIBarrier': True, 'barrierLevel': 50, 'pyramiding': 8} -> 得分 -37.29\n",
      "[WLDUSDT-30min] Trial 22: 参数 {'frequency': 12, 'rsiFrequency': 44, 'sellZoneDistance': 3, 'avgUpATRSum': 6, 'useAbsoluteRSIBarrier': True, 'barrierLevel': 54, 'pyramiding': 9} -> 得分 -16.02\n",
      "[WLDUSDT-30min] Trial 11: 参数 {'frequency': 8, 'rsiFrequency': 44, 'sellZoneDistance': 5, 'avgUpATRSum': 7, 'useAbsoluteRSIBarrier': False, 'barrierLevel': 46, 'pyramiding': 9} -> 得分 -8.25\n",
      "[WLDUSDT-30min] Trial 26: 参数 {'frequency': 12, 'rsiFrequency': 42, 'sellZoneDistance': 7, 'avgUpATRSum': 5, 'useAbsoluteRSIBarrier': False, 'barrierLevel': 44, 'pyramiding': 7} -> 得分 -9.42\n"
     ]
    },
    {
     "name": "stderr",
     "output_type": "stream",
     "text": [
      "[I 2025-03-09 04:57:50,048] Trial 11 finished with value: -8.251867702408774 and parameters: {'frequency': 8, 'rsiFrequency': 44, 'sellZoneDistance': 5, 'avgUpATRSum': 7, 'useAbsoluteRSIBarrier': False, 'barrierLevel': 46, 'pyramiding': 9}. Best is trial 9 with value: 0.14544018447065296.\n"
     ]
    },
    {
     "name": "stdout",
     "output_type": "stream",
     "text": [
      "[WLDUSDT-30min] Trial 10: 参数 {'frequency': 10, 'rsiFrequency': 44, 'sellZoneDistance': 3, 'avgUpATRSum': 4, 'useAbsoluteRSIBarrier': True, 'barrierLevel': 50, 'pyramiding': 6} -> 得分 -72.72[WLDUSDT-30min] Trial 28: 参数 {'frequency': 8, 'rsiFrequency': 40, 'sellZoneDistance': 5, 'avgUpATRSum': 4, 'useAbsoluteRSIBarrier': False, 'barrierLevel': 56, 'pyramiding': 9} -> 得分 -4.79\n",
      "\n"
     ]
    },
    {
     "name": "stderr",
     "output_type": "stream",
     "text": [
      "[I 2025-03-09 04:57:50,455] Trial 26 finished with value: -9.417981990186462 and parameters: {'frequency': 12, 'rsiFrequency': 42, 'sellZoneDistance': 7, 'avgUpATRSum': 5, 'useAbsoluteRSIBarrier': False, 'barrierLevel': 44, 'pyramiding': 7}. Best is trial 9 with value: 0.14544018447065296.\n",
      "[I 2025-03-09 04:57:51,590] Trial 28 finished with value: -4.790685590107101 and parameters: {'frequency': 8, 'rsiFrequency': 40, 'sellZoneDistance': 5, 'avgUpATRSum': 4, 'useAbsoluteRSIBarrier': False, 'barrierLevel': 56, 'pyramiding': 9}. Best is trial 9 with value: 0.14544018447065296.\n",
      "[I 2025-03-09 04:57:51,676] Trial 10 finished with value: -72.7165042447675 and parameters: {'frequency': 10, 'rsiFrequency': 44, 'sellZoneDistance': 3, 'avgUpATRSum': 4, 'useAbsoluteRSIBarrier': True, 'barrierLevel': 50, 'pyramiding': 6}. Best is trial 9 with value: 0.14544018447065296.\n"
     ]
    },
    {
     "name": "stdout",
     "output_type": "stream",
     "text": [
      "[WLDUSDT-30min] Trial 0: 参数 {'frequency': 8, 'rsiFrequency': 38, 'sellZoneDistance': 4, 'avgUpATRSum': 4, 'useAbsoluteRSIBarrier': True, 'barrierLevel': 52, 'pyramiding': 6} -> 得分 -67.49\n"
     ]
    },
    {
     "name": "stderr",
     "output_type": "stream",
     "text": [
      "[I 2025-03-09 04:57:52,800] Trial 0 finished with value: -67.48716598742104 and parameters: {'frequency': 8, 'rsiFrequency': 38, 'sellZoneDistance': 4, 'avgUpATRSum': 4, 'useAbsoluteRSIBarrier': True, 'barrierLevel': 52, 'pyramiding': 6}. Best is trial 9 with value: 0.14544018447065296.\n",
      "[I 2025-03-09 04:57:58,329] Trial 18 finished with value: -2.9151114957299824 and parameters: {'frequency': 14, 'rsiFrequency': 42, 'sellZoneDistance': 6, 'avgUpATRSum': 7, 'useAbsoluteRSIBarrier': False, 'barrierLevel': 54, 'pyramiding': 10}. Best is trial 9 with value: 0.14544018447065296.\n"
     ]
    },
    {
     "name": "stdout",
     "output_type": "stream",
     "text": [
      "[WLDUSDT-30min] Trial 18: 参数 {'frequency': 14, 'rsiFrequency': 42, 'sellZoneDistance': 6, 'avgUpATRSum': 7, 'useAbsoluteRSIBarrier': False, 'barrierLevel': 54, 'pyramiding': 10} -> 得分 -2.92\n"
     ]
    },
    {
     "name": "stderr",
     "output_type": "stream",
     "text": [
      "[I 2025-03-09 04:57:59,172] Trial 5 finished with value: -21.694908917124742 and parameters: {'frequency': 8, 'rsiFrequency': 44, 'sellZoneDistance': 3, 'avgUpATRSum': 6, 'useAbsoluteRSIBarrier': True, 'barrierLevel': 54, 'pyramiding': 10}. Best is trial 9 with value: 0.14544018447065296.\n"
     ]
    },
    {
     "name": "stdout",
     "output_type": "stream",
     "text": [
      "[WLDUSDT-30min] Trial 5: 参数 {'frequency': 8, 'rsiFrequency': 44, 'sellZoneDistance': 3, 'avgUpATRSum': 6, 'useAbsoluteRSIBarrier': True, 'barrierLevel': 54, 'pyramiding': 10} -> 得分 -21.69\n"
     ]
    },
    {
     "name": "stderr",
     "output_type": "stream",
     "text": [
      "[I 2025-03-09 04:58:00,418] Trial 27 finished with value: -8.960614777025516 and parameters: {'frequency': 10, 'rsiFrequency': 38, 'sellZoneDistance': 3, 'avgUpATRSum': 7, 'useAbsoluteRSIBarrier': False, 'barrierLevel': 56, 'pyramiding': 9}. Best is trial 9 with value: 0.14544018447065296.\n"
     ]
    },
    {
     "name": "stdout",
     "output_type": "stream",
     "text": [
      "[WLDUSDT-30min] Trial 27: 参数 {'frequency': 10, 'rsiFrequency': 38, 'sellZoneDistance': 3, 'avgUpATRSum': 7, 'useAbsoluteRSIBarrier': False, 'barrierLevel': 56, 'pyramiding': 9} -> 得分 -8.96\n"
     ]
    },
    {
     "name": "stderr",
     "output_type": "stream",
     "text": [
      "[I 2025-03-09 04:58:02,382] Trial 14 finished with value: -3.0665713341656833 and parameters: {'frequency': 12, 'rsiFrequency': 38, 'sellZoneDistance': 5, 'avgUpATRSum': 3, 'useAbsoluteRSIBarrier': False, 'barrierLevel': 56, 'pyramiding': 10}. Best is trial 9 with value: 0.14544018447065296.\n"
     ]
    },
    {
     "name": "stdout",
     "output_type": "stream",
     "text": [
      "[WLDUSDT-30min] Trial 14: 参数 {'frequency': 12, 'rsiFrequency': 38, 'sellZoneDistance': 5, 'avgUpATRSum': 3, 'useAbsoluteRSIBarrier': False, 'barrierLevel': 56, 'pyramiding': 10} -> 得分 -3.07\n"
     ]
    },
    {
     "name": "stderr",
     "output_type": "stream",
     "text": [
      "[I 2025-03-09 04:58:06,919] Trial 20 finished with value: -23.834798004766103 and parameters: {'frequency': 8, 'rsiFrequency': 38, 'sellZoneDistance': 7, 'avgUpATRSum': 6, 'useAbsoluteRSIBarrier': True, 'barrierLevel': 52, 'pyramiding': 10}. Best is trial 9 with value: 0.14544018447065296.\n"
     ]
    },
    {
     "name": "stdout",
     "output_type": "stream",
     "text": [
      "[WLDUSDT-30min] Trial 20: 参数 {'frequency': 8, 'rsiFrequency': 38, 'sellZoneDistance': 7, 'avgUpATRSum': 6, 'useAbsoluteRSIBarrier': True, 'barrierLevel': 52, 'pyramiding': 10} -> 得分 -23.83\n",
      "[WLDUSDT-30min] Trial 29: 参数 {'frequency': 10, 'rsiFrequency': 40, 'sellZoneDistance': 3, 'avgUpATRSum': 3, 'useAbsoluteRSIBarrier': False, 'barrierLevel': 48, 'pyramiding': 8} -> 得分 -7.33\n"
     ]
    },
    {
     "name": "stderr",
     "output_type": "stream",
     "text": [
      "[I 2025-03-09 04:58:07,245] Trial 29 finished with value: -7.332480506298546 and parameters: {'frequency': 10, 'rsiFrequency': 40, 'sellZoneDistance': 3, 'avgUpATRSum': 3, 'useAbsoluteRSIBarrier': False, 'barrierLevel': 48, 'pyramiding': 8}. Best is trial 9 with value: 0.14544018447065296.\n",
      "[I 2025-03-09 04:58:16,166] Trial 19 finished with value: -3.812252678073696 and parameters: {'frequency': 14, 'rsiFrequency': 40, 'sellZoneDistance': 3, 'avgUpATRSum': 5, 'useAbsoluteRSIBarrier': False, 'barrierLevel': 46, 'pyramiding': 7}. Best is trial 9 with value: 0.14544018447065296.\n"
     ]
    },
    {
     "name": "stdout",
     "output_type": "stream",
     "text": [
      "[WLDUSDT-30min] Trial 19: 参数 {'frequency': 14, 'rsiFrequency': 40, 'sellZoneDistance': 3, 'avgUpATRSum': 5, 'useAbsoluteRSIBarrier': False, 'barrierLevel': 46, 'pyramiding': 7} -> 得分 -3.81\n"
     ]
    },
    {
     "name": "stderr",
     "output_type": "stream",
     "text": [
      "[I 2025-03-09 04:58:19,714] Trial 17 finished with value: -6.807829341243631 and parameters: {'frequency': 8, 'rsiFrequency': 44, 'sellZoneDistance': 4, 'avgUpATRSum': 3, 'useAbsoluteRSIBarrier': False, 'barrierLevel': 56, 'pyramiding': 7}. Best is trial 9 with value: 0.14544018447065296.\n"
     ]
    },
    {
     "name": "stdout",
     "output_type": "stream",
     "text": [
      "[WLDUSDT-30min] Trial 17: 参数 {'frequency': 8, 'rsiFrequency': 44, 'sellZoneDistance': 4, 'avgUpATRSum': 3, 'useAbsoluteRSIBarrier': False, 'barrierLevel': 56, 'pyramiding': 7} -> 得分 -6.81\n",
      "[WLDUSDT-30min] Trial 21: 参数 {'frequency': 8, 'rsiFrequency': 44, 'sellZoneDistance': 3, 'avgUpATRSum': 4, 'useAbsoluteRSIBarrier': True, 'barrierLevel': 52, 'pyramiding': 10} -> 得分 -52.26\n"
     ]
    },
    {
     "name": "stderr",
     "output_type": "stream",
     "text": [
      "[I 2025-03-09 04:58:19,821] Trial 21 finished with value: -52.25959564849156 and parameters: {'frequency': 8, 'rsiFrequency': 44, 'sellZoneDistance': 3, 'avgUpATRSum': 4, 'useAbsoluteRSIBarrier': True, 'barrierLevel': 52, 'pyramiding': 10}. Best is trial 9 with value: 0.14544018447065296.\n"
     ]
    },
    {
     "name": "stdout",
     "output_type": "stream",
     "text": [
      "[WLDUSDT-30min] Trial 15: 参数 {'frequency': 12, 'rsiFrequency': 44, 'sellZoneDistance': 3, 'avgUpATRSum': 6, 'useAbsoluteRSIBarrier': False, 'barrierLevel': 44, 'pyramiding': 9} -> 得分 -8.25\n"
     ]
    },
    {
     "name": "stderr",
     "output_type": "stream",
     "text": [
      "[I 2025-03-09 04:58:28,185] Trial 15 finished with value: -8.248791058033381 and parameters: {'frequency': 12, 'rsiFrequency': 44, 'sellZoneDistance': 3, 'avgUpATRSum': 6, 'useAbsoluteRSIBarrier': False, 'barrierLevel': 44, 'pyramiding': 9}. Best is trial 9 with value: 0.14544018447065296.\n"
     ]
    },
    {
     "name": "stdout",
     "output_type": "stream",
     "text": [
      "[WLDUSDT-30min] Trial 16: 参数 {'frequency': 12, 'rsiFrequency': 40, 'sellZoneDistance': 3, 'avgUpATRSum': 4, 'useAbsoluteRSIBarrier': True, 'barrierLevel': 48, 'pyramiding': 7} -> 得分 -48.04\n"
     ]
    },
    {
     "name": "stderr",
     "output_type": "stream",
     "text": [
      "[I 2025-03-09 04:58:30,328] Trial 16 finished with value: -48.038677198845676 and parameters: {'frequency': 12, 'rsiFrequency': 40, 'sellZoneDistance': 3, 'avgUpATRSum': 4, 'useAbsoluteRSIBarrier': True, 'barrierLevel': 48, 'pyramiding': 7}. Best is trial 9 with value: 0.14544018447065296.\n",
      "[I 2025-03-09 05:01:20,138] Trial 30 finished with value: -32.00608668696325 and parameters: {'frequency': 14, 'rsiFrequency': 40, 'sellZoneDistance': 4, 'avgUpATRSum': 4, 'useAbsoluteRSIBarrier': True, 'barrierLevel': 46, 'pyramiding': 9}. Best is trial 9 with value: 0.14544018447065296.\n"
     ]
    },
    {
     "name": "stdout",
     "output_type": "stream",
     "text": [
      "[WLDUSDT-30min] Trial 30: 参数 {'frequency': 14, 'rsiFrequency': 40, 'sellZoneDistance': 4, 'avgUpATRSum': 4, 'useAbsoluteRSIBarrier': True, 'barrierLevel': 46, 'pyramiding': 9} -> 得分 -32.01\n"
     ]
    },
    {
     "name": "stderr",
     "output_type": "stream",
     "text": [
      "[I 2025-03-09 05:01:31,807] Trial 31 finished with value: -23.116183701917453 and parameters: {'frequency': 14, 'rsiFrequency': 44, 'sellZoneDistance': 7, 'avgUpATRSum': 7, 'useAbsoluteRSIBarrier': True, 'barrierLevel': 46, 'pyramiding': 9}. Best is trial 9 with value: 0.14544018447065296.\n"
     ]
    },
    {
     "name": "stdout",
     "output_type": "stream",
     "text": [
      "[WLDUSDT-30min] Trial 31: 参数 {'frequency': 14, 'rsiFrequency': 44, 'sellZoneDistance': 7, 'avgUpATRSum': 7, 'useAbsoluteRSIBarrier': True, 'barrierLevel': 46, 'pyramiding': 9} -> 得分 -23.12\n",
      "[WLDUSDT-30min] Trial 32: 参数 {'frequency': 10, 'rsiFrequency': 40, 'sellZoneDistance': 5, 'avgUpATRSum': 6, 'useAbsoluteRSIBarrier': False, 'barrierLevel': 56, 'pyramiding': 6} -> 得分 -5.52\n"
     ]
    },
    {
     "name": "stderr",
     "output_type": "stream",
     "text": [
      "[I 2025-03-09 05:01:35,004] Trial 32 finished with value: -5.522892356294236 and parameters: {'frequency': 10, 'rsiFrequency': 40, 'sellZoneDistance': 5, 'avgUpATRSum': 6, 'useAbsoluteRSIBarrier': False, 'barrierLevel': 56, 'pyramiding': 6}. Best is trial 9 with value: 0.14544018447065296.\n",
      "[I 2025-03-09 05:01:50,096] Trial 38 finished with value: -0.12320786973328726 and parameters: {'frequency': 14, 'rsiFrequency': 40, 'sellZoneDistance': 5, 'avgUpATRSum': 3, 'useAbsoluteRSIBarrier': False, 'barrierLevel': 44, 'pyramiding': 8}. Best is trial 9 with value: 0.14544018447065296.\n"
     ]
    },
    {
     "name": "stdout",
     "output_type": "stream",
     "text": [
      "[WLDUSDT-30min] Trial 38: 参数 {'frequency': 14, 'rsiFrequency': 40, 'sellZoneDistance': 5, 'avgUpATRSum': 3, 'useAbsoluteRSIBarrier': False, 'barrierLevel': 44, 'pyramiding': 8} -> 得分 -0.12\n"
     ]
    },
    {
     "name": "stderr",
     "output_type": "stream",
     "text": [
      "[I 2025-03-09 05:01:54,446] Trial 39 finished with value: -5.7303000762720355 and parameters: {'frequency': 12, 'rsiFrequency': 44, 'sellZoneDistance': 4, 'avgUpATRSum': 5, 'useAbsoluteRSIBarrier': False, 'barrierLevel': 56, 'pyramiding': 6}. Best is trial 9 with value: 0.14544018447065296.\n"
     ]
    },
    {
     "name": "stdout",
     "output_type": "stream",
     "text": [
      "[WLDUSDT-30min] Trial 39: 参数 {'frequency': 12, 'rsiFrequency': 44, 'sellZoneDistance': 4, 'avgUpATRSum': 5, 'useAbsoluteRSIBarrier': False, 'barrierLevel': 56, 'pyramiding': 6} -> 得分 -5.73\n"
     ]
    },
    {
     "name": "stderr",
     "output_type": "stream",
     "text": [
      "[I 2025-03-09 05:01:58,395] Trial 37 finished with value: -2.665912766428772 and parameters: {'frequency': 14, 'rsiFrequency': 40, 'sellZoneDistance': 4, 'avgUpATRSum': 3, 'useAbsoluteRSIBarrier': False, 'barrierLevel': 56, 'pyramiding': 9}. Best is trial 9 with value: 0.14544018447065296.\n"
     ]
    },
    {
     "name": "stdout",
     "output_type": "stream",
     "text": [
      "[WLDUSDT-30min] Trial 37: 参数 {'frequency': 14, 'rsiFrequency': 40, 'sellZoneDistance': 4, 'avgUpATRSum': 3, 'useAbsoluteRSIBarrier': False, 'barrierLevel': 56, 'pyramiding': 9} -> 得分 -2.67\n"
     ]
    },
    {
     "name": "stderr",
     "output_type": "stream",
     "text": [
      "[I 2025-03-09 05:02:01,883] Trial 34 finished with value: -9.36342709244485 and parameters: {'frequency': 10, 'rsiFrequency': 44, 'sellZoneDistance': 7, 'avgUpATRSum': 7, 'useAbsoluteRSIBarrier': True, 'barrierLevel': 56, 'pyramiding': 10}. Best is trial 9 with value: 0.14544018447065296.\n"
     ]
    },
    {
     "name": "stdout",
     "output_type": "stream",
     "text": [
      "[WLDUSDT-30min] Trial 34: 参数 {'frequency': 10, 'rsiFrequency': 44, 'sellZoneDistance': 7, 'avgUpATRSum': 7, 'useAbsoluteRSIBarrier': True, 'barrierLevel': 56, 'pyramiding': 10} -> 得分 -9.36\n"
     ]
    },
    {
     "name": "stderr",
     "output_type": "stream",
     "text": [
      "[I 2025-03-09 05:02:03,915] Trial 33 finished with value: -30.04580589122498 and parameters: {'frequency': 8, 'rsiFrequency': 40, 'sellZoneDistance': 6, 'avgUpATRSum': 5, 'useAbsoluteRSIBarrier': True, 'barrierLevel': 46, 'pyramiding': 9}. Best is trial 9 with value: 0.14544018447065296.\n"
     ]
    },
    {
     "name": "stdout",
     "output_type": "stream",
     "text": [
      "[WLDUSDT-30min] Trial 33: 参数 {'frequency': 8, 'rsiFrequency': 40, 'sellZoneDistance': 6, 'avgUpATRSum': 5, 'useAbsoluteRSIBarrier': True, 'barrierLevel': 46, 'pyramiding': 9} -> 得分 -30.05\n"
     ]
    },
    {
     "name": "stderr",
     "output_type": "stream",
     "text": [
      "[I 2025-03-09 05:02:07,377] Trial 43 finished with value: -6.020159255592986 and parameters: {'frequency': 12, 'rsiFrequency': 40, 'sellZoneDistance': 4, 'avgUpATRSum': 4, 'useAbsoluteRSIBarrier': False, 'barrierLevel': 48, 'pyramiding': 7}. Best is trial 9 with value: 0.14544018447065296.\n"
     ]
    },
    {
     "name": "stdout",
     "output_type": "stream",
     "text": [
      "[WLDUSDT-30min] Trial 43: 参数 {'frequency': 12, 'rsiFrequency': 40, 'sellZoneDistance': 4, 'avgUpATRSum': 4, 'useAbsoluteRSIBarrier': False, 'barrierLevel': 48, 'pyramiding': 7} -> 得分 -6.02\n"
     ]
    },
    {
     "name": "stderr",
     "output_type": "stream",
     "text": [
      "[I 2025-03-09 05:02:12,381] Trial 41 finished with value: -7.0828576791980735 and parameters: {'frequency': 12, 'rsiFrequency': 44, 'sellZoneDistance': 3, 'avgUpATRSum': 4, 'useAbsoluteRSIBarrier': False, 'barrierLevel': 48, 'pyramiding': 7}. Best is trial 9 with value: 0.14544018447065296.\n"
     ]
    },
    {
     "name": "stdout",
     "output_type": "stream",
     "text": [
      "[WLDUSDT-30min] Trial 41: 参数 {'frequency': 12, 'rsiFrequency': 44, 'sellZoneDistance': 3, 'avgUpATRSum': 4, 'useAbsoluteRSIBarrier': False, 'barrierLevel': 48, 'pyramiding': 7} -> 得分 -7.08\n"
     ]
    },
    {
     "name": "stderr",
     "output_type": "stream",
     "text": [
      "[I 2025-03-09 05:02:15,553] Trial 40 finished with value: -7.0828576791980735 and parameters: {'frequency': 12, 'rsiFrequency': 44, 'sellZoneDistance': 3, 'avgUpATRSum': 4, 'useAbsoluteRSIBarrier': False, 'barrierLevel': 48, 'pyramiding': 7}. Best is trial 9 with value: 0.14544018447065296.\n"
     ]
    },
    {
     "name": "stdout",
     "output_type": "stream",
     "text": [
      "[WLDUSDT-30min] Trial 40: 参数 {'frequency': 12, 'rsiFrequency': 44, 'sellZoneDistance': 3, 'avgUpATRSum': 4, 'useAbsoluteRSIBarrier': False, 'barrierLevel': 48, 'pyramiding': 7} -> 得分 -7.08\n"
     ]
    },
    {
     "name": "stderr",
     "output_type": "stream",
     "text": [
      "[I 2025-03-09 05:02:17,441] Trial 42 finished with value: -6.009921611618728 and parameters: {'frequency': 12, 'rsiFrequency': 44, 'sellZoneDistance': 4, 'avgUpATRSum': 4, 'useAbsoluteRSIBarrier': False, 'barrierLevel': 48, 'pyramiding': 6}. Best is trial 9 with value: 0.14544018447065296.\n"
     ]
    },
    {
     "name": "stdout",
     "output_type": "stream",
     "text": [
      "[WLDUSDT-30min] Trial 42: 参数 {'frequency': 12, 'rsiFrequency': 44, 'sellZoneDistance': 4, 'avgUpATRSum': 4, 'useAbsoluteRSIBarrier': False, 'barrierLevel': 48, 'pyramiding': 6} -> 得分 -6.01\n"
     ]
    },
    {
     "name": "stderr",
     "output_type": "stream",
     "text": [
      "[I 2025-03-09 05:02:19,724] Trial 35 finished with value: -2.3766243053155547 and parameters: {'frequency': 10, 'rsiFrequency': 42, 'sellZoneDistance': 5, 'avgUpATRSum': 4, 'useAbsoluteRSIBarrier': False, 'barrierLevel': 56, 'pyramiding': 9}. Best is trial 9 with value: 0.14544018447065296.\n"
     ]
    },
    {
     "name": "stdout",
     "output_type": "stream",
     "text": [
      "[WLDUSDT-30min] Trial 35: 参数 {'frequency': 10, 'rsiFrequency': 42, 'sellZoneDistance': 5, 'avgUpATRSum': 4, 'useAbsoluteRSIBarrier': False, 'barrierLevel': 56, 'pyramiding': 9} -> 得分 -2.38\n",
      "[WLDUSDT-30min] Trial 36: 参数 {'frequency': 12, 'rsiFrequency': 40, 'sellZoneDistance': 5, 'avgUpATRSum': 4, 'useAbsoluteRSIBarrier': False, 'barrierLevel': 56, 'pyramiding': 8} -> 得分 -5.25"
     ]
    },
    {
     "name": "stderr",
     "output_type": "stream",
     "text": [
      "[I 2025-03-09 05:02:26,325] Trial 36 finished with value: -5.253191379153153 and parameters: {'frequency': 12, 'rsiFrequency': 40, 'sellZoneDistance': 5, 'avgUpATRSum': 4, 'useAbsoluteRSIBarrier': False, 'barrierLevel': 56, 'pyramiding': 8}. Best is trial 9 with value: 0.14544018447065296.\n"
     ]
    },
    {
     "name": "stdout",
     "output_type": "stream",
     "text": [
      "\n"
     ]
    },
    {
     "name": "stderr",
     "output_type": "stream",
     "text": [
      "[I 2025-03-09 05:02:33,783] Trial 44 finished with value: -4.589993839871322 and parameters: {'frequency': 12, 'rsiFrequency': 42, 'sellZoneDistance': 4, 'avgUpATRSum': 4, 'useAbsoluteRSIBarrier': False, 'barrierLevel': 48, 'pyramiding': 7}. Best is trial 9 with value: 0.14544018447065296.\n"
     ]
    },
    {
     "name": "stdout",
     "output_type": "stream",
     "text": [
      "[WLDUSDT-30min] Trial 44: 参数 {'frequency': 12, 'rsiFrequency': 42, 'sellZoneDistance': 4, 'avgUpATRSum': 4, 'useAbsoluteRSIBarrier': False, 'barrierLevel': 48, 'pyramiding': 7} -> 得分 -4.59\n"
     ]
    },
    {
     "name": "stderr",
     "output_type": "stream",
     "text": [
      "[I 2025-03-09 05:02:39,116] Trial 47 finished with value: -3.0897612848647324 and parameters: {'frequency': 12, 'rsiFrequency': 42, 'sellZoneDistance': 4, 'avgUpATRSum': 3, 'useAbsoluteRSIBarrier': False, 'barrierLevel': 48, 'pyramiding': 7}. Best is trial 9 with value: 0.14544018447065296.\n"
     ]
    },
    {
     "name": "stdout",
     "output_type": "stream",
     "text": [
      "[WLDUSDT-30min] Trial 47: 参数 {'frequency': 12, 'rsiFrequency': 42, 'sellZoneDistance': 4, 'avgUpATRSum': 3, 'useAbsoluteRSIBarrier': False, 'barrierLevel': 48, 'pyramiding': 7} -> 得分 -3.09\n"
     ]
    },
    {
     "name": "stderr",
     "output_type": "stream",
     "text": [
      "[I 2025-03-09 05:02:47,461] Trial 45 finished with value: -3.0897612848647324 and parameters: {'frequency': 12, 'rsiFrequency': 42, 'sellZoneDistance': 4, 'avgUpATRSum': 3, 'useAbsoluteRSIBarrier': False, 'barrierLevel': 48, 'pyramiding': 7}. Best is trial 9 with value: 0.14544018447065296.\n"
     ]
    },
    {
     "name": "stdout",
     "output_type": "stream",
     "text": [
      "[WLDUSDT-30min] Trial 45: 参数 {'frequency': 12, 'rsiFrequency': 42, 'sellZoneDistance': 4, 'avgUpATRSum': 3, 'useAbsoluteRSIBarrier': False, 'barrierLevel': 48, 'pyramiding': 7} -> 得分 -3.09\n"
     ]
    },
    {
     "name": "stderr",
     "output_type": "stream",
     "text": [
      "[I 2025-03-09 05:02:50,514] Trial 46 finished with value: -3.0897612848647324 and parameters: {'frequency': 12, 'rsiFrequency': 42, 'sellZoneDistance': 4, 'avgUpATRSum': 3, 'useAbsoluteRSIBarrier': False, 'barrierLevel': 48, 'pyramiding': 7}. Best is trial 9 with value: 0.14544018447065296.\n"
     ]
    },
    {
     "name": "stdout",
     "output_type": "stream",
     "text": [
      "[WLDUSDT-30min] Trial 46: 参数 {'frequency': 12, 'rsiFrequency': 42, 'sellZoneDistance': 4, 'avgUpATRSum': 3, 'useAbsoluteRSIBarrier': False, 'barrierLevel': 48, 'pyramiding': 7} -> 得分 -3.09\n",
      "[WLDUSDT-30min] Trial 51: 参数 {'frequency': 12, 'rsiFrequency': 44, 'sellZoneDistance': 4, 'avgUpATRSum': 3, 'useAbsoluteRSIBarrier': False, 'barrierLevel': 46, 'pyramiding': 7} -> 得分 -3.47"
     ]
    },
    {
     "name": "stderr",
     "output_type": "stream",
     "text": [
      "[I 2025-03-09 05:02:55,110] Trial 51 finished with value: -3.4715427610455123 and parameters: {'frequency': 12, 'rsiFrequency': 44, 'sellZoneDistance': 4, 'avgUpATRSum': 3, 'useAbsoluteRSIBarrier': False, 'barrierLevel': 46, 'pyramiding': 7}. Best is trial 9 with value: 0.14544018447065296.\n"
     ]
    },
    {
     "name": "stdout",
     "output_type": "stream",
     "text": [
      "\n"
     ]
    },
    {
     "name": "stderr",
     "output_type": "stream",
     "text": [
      "[I 2025-03-09 05:03:02,013] Trial 54 finished with value: -3.4715427610455123 and parameters: {'frequency': 12, 'rsiFrequency': 44, 'sellZoneDistance': 4, 'avgUpATRSum': 3, 'useAbsoluteRSIBarrier': False, 'barrierLevel': 46, 'pyramiding': 7}. Best is trial 9 with value: 0.14544018447065296.\n"
     ]
    },
    {
     "name": "stdout",
     "output_type": "stream",
     "text": [
      "[WLDUSDT-30min] Trial 54: 参数 {'frequency': 12, 'rsiFrequency': 44, 'sellZoneDistance': 4, 'avgUpATRSum': 3, 'useAbsoluteRSIBarrier': False, 'barrierLevel': 46, 'pyramiding': 7} -> 得分 -3.47\n"
     ]
    },
    {
     "name": "stderr",
     "output_type": "stream",
     "text": [
      "[I 2025-03-09 05:03:03,317] Trial 50 finished with value: -3.4715427610455123 and parameters: {'frequency': 12, 'rsiFrequency': 44, 'sellZoneDistance': 4, 'avgUpATRSum': 3, 'useAbsoluteRSIBarrier': False, 'barrierLevel': 46, 'pyramiding': 7}. Best is trial 9 with value: 0.14544018447065296.\n"
     ]
    },
    {
     "name": "stdout",
     "output_type": "stream",
     "text": [
      "[WLDUSDT-30min] Trial 50: 参数 {'frequency': 12, 'rsiFrequency': 44, 'sellZoneDistance': 4, 'avgUpATRSum': 3, 'useAbsoluteRSIBarrier': False, 'barrierLevel': 46, 'pyramiding': 7} -> 得分 -3.47\n"
     ]
    },
    {
     "name": "stderr",
     "output_type": "stream",
     "text": [
      "[I 2025-03-09 05:03:06,424] Trial 49 finished with value: -3.4715427610455123 and parameters: {'frequency': 12, 'rsiFrequency': 44, 'sellZoneDistance': 4, 'avgUpATRSum': 3, 'useAbsoluteRSIBarrier': False, 'barrierLevel': 46, 'pyramiding': 7}. Best is trial 9 with value: 0.14544018447065296.\n"
     ]
    },
    {
     "name": "stdout",
     "output_type": "stream",
     "text": [
      "[WLDUSDT-30min] Trial 49: 参数 {'frequency': 12, 'rsiFrequency': 44, 'sellZoneDistance': 4, 'avgUpATRSum': 3, 'useAbsoluteRSIBarrier': False, 'barrierLevel': 46, 'pyramiding': 7} -> 得分 -3.47\n"
     ]
    },
    {
     "name": "stderr",
     "output_type": "stream",
     "text": [
      "[I 2025-03-09 05:03:11,210] Trial 48 finished with value: -3.0897612848647324 and parameters: {'frequency': 12, 'rsiFrequency': 42, 'sellZoneDistance': 4, 'avgUpATRSum': 3, 'useAbsoluteRSIBarrier': False, 'barrierLevel': 48, 'pyramiding': 7}. Best is trial 9 with value: 0.14544018447065296.\n"
     ]
    },
    {
     "name": "stdout",
     "output_type": "stream",
     "text": [
      "[WLDUSDT-30min] Trial 48: 参数 {'frequency': 12, 'rsiFrequency': 42, 'sellZoneDistance': 4, 'avgUpATRSum': 3, 'useAbsoluteRSIBarrier': False, 'barrierLevel': 48, 'pyramiding': 7} -> 得分 -3.09\n"
     ]
    },
    {
     "name": "stderr",
     "output_type": "stream",
     "text": [
      "[I 2025-03-09 05:03:12,582] Trial 52 finished with value: -3.4715427610455123 and parameters: {'frequency': 12, 'rsiFrequency': 44, 'sellZoneDistance': 4, 'avgUpATRSum': 3, 'useAbsoluteRSIBarrier': False, 'barrierLevel': 46, 'pyramiding': 7}. Best is trial 9 with value: 0.14544018447065296.\n"
     ]
    },
    {
     "name": "stdout",
     "output_type": "stream",
     "text": [
      "[WLDUSDT-30min] Trial 52: 参数 {'frequency': 12, 'rsiFrequency': 44, 'sellZoneDistance': 4, 'avgUpATRSum': 3, 'useAbsoluteRSIBarrier': False, 'barrierLevel': 46, 'pyramiding': 7} -> 得分 -3.47\n"
     ]
    },
    {
     "name": "stderr",
     "output_type": "stream",
     "text": [
      "[I 2025-03-09 05:03:16,776] Trial 55 finished with value: -3.4715427610455123 and parameters: {'frequency': 12, 'rsiFrequency': 44, 'sellZoneDistance': 4, 'avgUpATRSum': 3, 'useAbsoluteRSIBarrier': False, 'barrierLevel': 46, 'pyramiding': 7}. Best is trial 9 with value: 0.14544018447065296.\n"
     ]
    },
    {
     "name": "stdout",
     "output_type": "stream",
     "text": [
      "[WLDUSDT-30min] Trial 55: 参数 {'frequency': 12, 'rsiFrequency': 44, 'sellZoneDistance': 4, 'avgUpATRSum': 3, 'useAbsoluteRSIBarrier': False, 'barrierLevel': 46, 'pyramiding': 7} -> 得分 -3.47\n"
     ]
    },
    {
     "name": "stderr",
     "output_type": "stream",
     "text": [
      "[I 2025-03-09 05:03:25,134] Trial 57 finished with value: -2.1569763762504244 and parameters: {'frequency': 12, 'rsiFrequency': 42, 'sellZoneDistance': 4, 'avgUpATRSum': 3, 'useAbsoluteRSIBarrier': False, 'barrierLevel': 46, 'pyramiding': 9}. Best is trial 9 with value: 0.14544018447065296.\n"
     ]
    },
    {
     "name": "stdout",
     "output_type": "stream",
     "text": [
      "[WLDUSDT-30min] Trial 57: 参数 {'frequency': 12, 'rsiFrequency': 42, 'sellZoneDistance': 4, 'avgUpATRSum': 3, 'useAbsoluteRSIBarrier': False, 'barrierLevel': 46, 'pyramiding': 9} -> 得分 -2.16\n"
     ]
    },
    {
     "name": "stderr",
     "output_type": "stream",
     "text": [
      "[I 2025-03-09 05:03:26,266] Trial 53 finished with value: -3.4715427610455123 and parameters: {'frequency': 12, 'rsiFrequency': 44, 'sellZoneDistance': 4, 'avgUpATRSum': 3, 'useAbsoluteRSIBarrier': False, 'barrierLevel': 46, 'pyramiding': 7}. Best is trial 9 with value: 0.14544018447065296.\n"
     ]
    },
    {
     "name": "stdout",
     "output_type": "stream",
     "text": [
      "[WLDUSDT-30min] Trial 53: 参数 {'frequency': 12, 'rsiFrequency': 44, 'sellZoneDistance': 4, 'avgUpATRSum': 3, 'useAbsoluteRSIBarrier': False, 'barrierLevel': 46, 'pyramiding': 7} -> 得分 -3.47\n"
     ]
    },
    {
     "name": "stderr",
     "output_type": "stream",
     "text": [
      "[I 2025-03-09 05:03:35,885] Trial 58 finished with value: -3.0897612848647324 and parameters: {'frequency': 12, 'rsiFrequency': 42, 'sellZoneDistance': 4, 'avgUpATRSum': 3, 'useAbsoluteRSIBarrier': False, 'barrierLevel': 46, 'pyramiding': 7}. Best is trial 9 with value: 0.14544018447065296.\n"
     ]
    },
    {
     "name": "stdout",
     "output_type": "stream",
     "text": [
      "[WLDUSDT-30min] Trial 58: 参数 {'frequency': 12, 'rsiFrequency': 42, 'sellZoneDistance': 4, 'avgUpATRSum': 3, 'useAbsoluteRSIBarrier': False, 'barrierLevel': 46, 'pyramiding': 7} -> 得分 -3.09\n"
     ]
    },
    {
     "name": "stderr",
     "output_type": "stream",
     "text": [
      "[I 2025-03-09 05:03:36,904] Trial 56 finished with value: -2.1569763762504244 and parameters: {'frequency': 12, 'rsiFrequency': 42, 'sellZoneDistance': 4, 'avgUpATRSum': 3, 'useAbsoluteRSIBarrier': False, 'barrierLevel': 46, 'pyramiding': 9}. Best is trial 9 with value: 0.14544018447065296.\n"
     ]
    },
    {
     "name": "stdout",
     "output_type": "stream",
     "text": [
      "[WLDUSDT-30min] Trial 56: 参数 {'frequency': 12, 'rsiFrequency': 42, 'sellZoneDistance': 4, 'avgUpATRSum': 3, 'useAbsoluteRSIBarrier': False, 'barrierLevel': 46, 'pyramiding': 9} -> 得分 -2.16\n"
     ]
    },
    {
     "name": "stderr",
     "output_type": "stream",
     "text": [
      "[I 2025-03-09 05:03:41,855] Trial 59 finished with value: -0.24988194504651987 and parameters: {'frequency': 14, 'rsiFrequency': 42, 'sellZoneDistance': 4, 'avgUpATRSum': 3, 'useAbsoluteRSIBarrier': False, 'barrierLevel': 46, 'pyramiding': 9}. Best is trial 9 with value: 0.14544018447065296.\n"
     ]
    },
    {
     "name": "stdout",
     "output_type": "stream",
     "text": [
      "[WLDUSDT-30min] Trial 59: 参数 {'frequency': 14, 'rsiFrequency': 42, 'sellZoneDistance': 4, 'avgUpATRSum': 3, 'useAbsoluteRSIBarrier': False, 'barrierLevel': 46, 'pyramiding': 9} -> 得分 -0.25\n",
      "[WLDUSDT-30min] Trial 60: 参数 {'frequency': 14, 'rsiFrequency': 42, 'sellZoneDistance': 4, 'avgUpATRSum': 3, 'useAbsoluteRSIBarrier': False, 'barrierLevel': 52, 'pyramiding': 8} -> 得分 -0.42\n"
     ]
    },
    {
     "name": "stderr",
     "output_type": "stream",
     "text": [
      "[I 2025-03-09 05:06:02,747] Trial 60 finished with value: -0.41556427348000213 and parameters: {'frequency': 14, 'rsiFrequency': 42, 'sellZoneDistance': 4, 'avgUpATRSum': 3, 'useAbsoluteRSIBarrier': False, 'barrierLevel': 52, 'pyramiding': 8}. Best is trial 9 with value: 0.14544018447065296.\n",
      "[I 2025-03-09 05:06:25,717] Trial 62 finished with value: -0.41556427348000213 and parameters: {'frequency': 14, 'rsiFrequency': 42, 'sellZoneDistance': 4, 'avgUpATRSum': 3, 'useAbsoluteRSIBarrier': False, 'barrierLevel': 52, 'pyramiding': 8}. Best is trial 9 with value: 0.14544018447065296.\n"
     ]
    },
    {
     "name": "stdout",
     "output_type": "stream",
     "text": [
      "[WLDUSDT-30min] Trial 62: 参数 {'frequency': 14, 'rsiFrequency': 42, 'sellZoneDistance': 4, 'avgUpATRSum': 3, 'useAbsoluteRSIBarrier': False, 'barrierLevel': 52, 'pyramiding': 8} -> 得分 -0.42\n"
     ]
    },
    {
     "name": "stderr",
     "output_type": "stream",
     "text": [
      "[I 2025-03-09 05:06:29,972] Trial 61 finished with value: -0.24988194504651987 and parameters: {'frequency': 14, 'rsiFrequency': 42, 'sellZoneDistance': 4, 'avgUpATRSum': 3, 'useAbsoluteRSIBarrier': False, 'barrierLevel': 52, 'pyramiding': 9}. Best is trial 9 with value: 0.14544018447065296.\n"
     ]
    },
    {
     "name": "stdout",
     "output_type": "stream",
     "text": [
      "[WLDUSDT-30min] Trial 61: 参数 {'frequency': 14, 'rsiFrequency': 42, 'sellZoneDistance': 4, 'avgUpATRSum': 3, 'useAbsoluteRSIBarrier': False, 'barrierLevel': 52, 'pyramiding': 9} -> 得分 -0.25\n"
     ]
    },
    {
     "name": "stderr",
     "output_type": "stream",
     "text": [
      "[I 2025-03-09 05:06:35,708] Trial 63 finished with value: -0.41556427348000213 and parameters: {'frequency': 14, 'rsiFrequency': 42, 'sellZoneDistance': 4, 'avgUpATRSum': 3, 'useAbsoluteRSIBarrier': False, 'barrierLevel': 44, 'pyramiding': 8}. Best is trial 9 with value: 0.14544018447065296.\n"
     ]
    },
    {
     "name": "stdout",
     "output_type": "stream",
     "text": [
      "[WLDUSDT-30min] Trial 63: 参数 {'frequency': 14, 'rsiFrequency': 42, 'sellZoneDistance': 4, 'avgUpATRSum': 3, 'useAbsoluteRSIBarrier': False, 'barrierLevel': 44, 'pyramiding': 8} -> 得分 -0.42\n"
     ]
    },
    {
     "name": "stderr",
     "output_type": "stream",
     "text": [
      "[I 2025-03-09 05:06:42,136] Trial 65 finished with value: -0.41556427348000213 and parameters: {'frequency': 14, 'rsiFrequency': 42, 'sellZoneDistance': 4, 'avgUpATRSum': 3, 'useAbsoluteRSIBarrier': False, 'barrierLevel': 44, 'pyramiding': 8}. Best is trial 9 with value: 0.14544018447065296.\n"
     ]
    },
    {
     "name": "stdout",
     "output_type": "stream",
     "text": [
      "[WLDUSDT-30min] Trial 65: 参数 {'frequency': 14, 'rsiFrequency': 42, 'sellZoneDistance': 4, 'avgUpATRSum': 3, 'useAbsoluteRSIBarrier': False, 'barrierLevel': 44, 'pyramiding': 8} -> 得分 -0.42\n"
     ]
    },
    {
     "name": "stderr",
     "output_type": "stream",
     "text": [
      "[I 2025-03-09 05:06:45,301] Trial 64 finished with value: -0.41556427348000213 and parameters: {'frequency': 14, 'rsiFrequency': 42, 'sellZoneDistance': 4, 'avgUpATRSum': 3, 'useAbsoluteRSIBarrier': False, 'barrierLevel': 44, 'pyramiding': 8}. Best is trial 9 with value: 0.14544018447065296.\n"
     ]
    },
    {
     "name": "stdout",
     "output_type": "stream",
     "text": [
      "[WLDUSDT-30min] Trial 64: 参数 {'frequency': 14, 'rsiFrequency': 42, 'sellZoneDistance': 4, 'avgUpATRSum': 3, 'useAbsoluteRSIBarrier': False, 'barrierLevel': 44, 'pyramiding': 8} -> 得分 -0.42\n"
     ]
    },
    {
     "name": "stderr",
     "output_type": "stream",
     "text": [
      "[I 2025-03-09 05:06:45,874] Trial 66 finished with value: -0.41556427348000213 and parameters: {'frequency': 14, 'rsiFrequency': 42, 'sellZoneDistance': 4, 'avgUpATRSum': 3, 'useAbsoluteRSIBarrier': False, 'barrierLevel': 44, 'pyramiding': 8}. Best is trial 9 with value: 0.14544018447065296.\n",
      "[I 2025-03-09 05:06:46,210] Trial 68 finished with value: -0.41556427348000213 and parameters: {'frequency': 14, 'rsiFrequency': 42, 'sellZoneDistance': 4, 'avgUpATRSum': 3, 'useAbsoluteRSIBarrier': False, 'barrierLevel': 44, 'pyramiding': 8}. Best is trial 9 with value: 0.14544018447065296.\n"
     ]
    },
    {
     "name": "stdout",
     "output_type": "stream",
     "text": [
      "[WLDUSDT-30min] Trial 66: 参数 {'frequency': 14, 'rsiFrequency': 42, 'sellZoneDistance': 4, 'avgUpATRSum': 3, 'useAbsoluteRSIBarrier': False, 'barrierLevel': 44, 'pyramiding': 8} -> 得分 -0.42\n",
      "[WLDUSDT-30min] Trial 68: 参数 {'frequency': 14, 'rsiFrequency': 42, 'sellZoneDistance': 4, 'avgUpATRSum': 3, 'useAbsoluteRSIBarrier': False, 'barrierLevel': 44, 'pyramiding': 8} -> 得分 -0.42\n"
     ]
    },
    {
     "name": "stderr",
     "output_type": "stream",
     "text": [
      "[I 2025-03-09 05:07:01,772] Trial 71 finished with value: -0.41556427348000213 and parameters: {'frequency': 14, 'rsiFrequency': 42, 'sellZoneDistance': 4, 'avgUpATRSum': 3, 'useAbsoluteRSIBarrier': False, 'barrierLevel': 44, 'pyramiding': 8}. Best is trial 9 with value: 0.14544018447065296.\n"
     ]
    },
    {
     "name": "stdout",
     "output_type": "stream",
     "text": [
      "[WLDUSDT-30min] Trial 71: 参数 {'frequency': 14, 'rsiFrequency': 42, 'sellZoneDistance': 4, 'avgUpATRSum': 3, 'useAbsoluteRSIBarrier': False, 'barrierLevel': 44, 'pyramiding': 8} -> 得分 -0.42\n"
     ]
    },
    {
     "name": "stderr",
     "output_type": "stream",
     "text": [
      "[I 2025-03-09 05:07:05,053] Trial 69 finished with value: -0.41556427348000213 and parameters: {'frequency': 14, 'rsiFrequency': 42, 'sellZoneDistance': 4, 'avgUpATRSum': 3, 'useAbsoluteRSIBarrier': False, 'barrierLevel': 44, 'pyramiding': 8}. Best is trial 9 with value: 0.14544018447065296.\n"
     ]
    },
    {
     "name": "stdout",
     "output_type": "stream",
     "text": [
      "[WLDUSDT-30min] Trial 69: 参数 {'frequency': 14, 'rsiFrequency': 42, 'sellZoneDistance': 4, 'avgUpATRSum': 3, 'useAbsoluteRSIBarrier': False, 'barrierLevel': 44, 'pyramiding': 8} -> 得分 -0.42\n"
     ]
    },
    {
     "name": "stderr",
     "output_type": "stream",
     "text": [
      "[I 2025-03-09 05:07:05,671] Trial 67 finished with value: -0.41556427348000213 and parameters: {'frequency': 14, 'rsiFrequency': 42, 'sellZoneDistance': 4, 'avgUpATRSum': 3, 'useAbsoluteRSIBarrier': False, 'barrierLevel': 44, 'pyramiding': 8}. Best is trial 9 with value: 0.14544018447065296.\n"
     ]
    },
    {
     "name": "stdout",
     "output_type": "stream",
     "text": [
      "[WLDUSDT-30min] Trial 67: 参数 {'frequency': 14, 'rsiFrequency': 42, 'sellZoneDistance': 4, 'avgUpATRSum': 3, 'useAbsoluteRSIBarrier': False, 'barrierLevel': 44, 'pyramiding': 8} -> 得分 -0.42\n"
     ]
    },
    {
     "name": "stderr",
     "output_type": "stream",
     "text": [
      "[I 2025-03-09 05:07:11,093] Trial 73 finished with value: -0.3532742794045377 and parameters: {'frequency': 14, 'rsiFrequency': 42, 'sellZoneDistance': 5, 'avgUpATRSum': 3, 'useAbsoluteRSIBarrier': False, 'barrierLevel': 44, 'pyramiding': 8}. Best is trial 9 with value: 0.14544018447065296.\n"
     ]
    },
    {
     "name": "stdout",
     "output_type": "stream",
     "text": [
      "[WLDUSDT-30min] Trial 73: 参数 {'frequency': 14, 'rsiFrequency': 42, 'sellZoneDistance': 5, 'avgUpATRSum': 3, 'useAbsoluteRSIBarrier': False, 'barrierLevel': 44, 'pyramiding': 8} -> 得分 -0.35\n",
      "[WLDUSDT-30min] Trial 72: 参数 {'frequency': 14, 'rsiFrequency': 42, 'sellZoneDistance': 5, 'avgUpATRSum': 3, 'useAbsoluteRSIBarrier': False, 'barrierLevel': 44, 'pyramiding': 8} -> 得分 -0.35"
     ]
    },
    {
     "name": "stderr",
     "output_type": "stream",
     "text": [
      "[I 2025-03-09 05:07:13,933] Trial 72 finished with value: -0.3532742794045377 and parameters: {'frequency': 14, 'rsiFrequency': 42, 'sellZoneDistance': 5, 'avgUpATRSum': 3, 'useAbsoluteRSIBarrier': False, 'barrierLevel': 44, 'pyramiding': 8}. Best is trial 9 with value: 0.14544018447065296.\n"
     ]
    },
    {
     "name": "stdout",
     "output_type": "stream",
     "text": [
      "\n"
     ]
    },
    {
     "name": "stderr",
     "output_type": "stream",
     "text": [
      "[I 2025-03-09 05:07:17,725] Trial 70 finished with value: -0.41556427348000213 and parameters: {'frequency': 14, 'rsiFrequency': 42, 'sellZoneDistance': 4, 'avgUpATRSum': 3, 'useAbsoluteRSIBarrier': False, 'barrierLevel': 44, 'pyramiding': 8}. Best is trial 9 with value: 0.14544018447065296.\n"
     ]
    },
    {
     "name": "stdout",
     "output_type": "stream",
     "text": [
      "[WLDUSDT-30min] Trial 70: 参数 {'frequency': 14, 'rsiFrequency': 42, 'sellZoneDistance': 4, 'avgUpATRSum': 3, 'useAbsoluteRSIBarrier': False, 'barrierLevel': 44, 'pyramiding': 8} -> 得分 -0.42\n"
     ]
    },
    {
     "name": "stderr",
     "output_type": "stream",
     "text": [
      "[I 2025-03-09 05:07:26,763] Trial 75 finished with value: -0.3532742794045377 and parameters: {'frequency': 14, 'rsiFrequency': 42, 'sellZoneDistance': 5, 'avgUpATRSum': 3, 'useAbsoluteRSIBarrier': False, 'barrierLevel': 44, 'pyramiding': 8}. Best is trial 9 with value: 0.14544018447065296.\n"
     ]
    },
    {
     "name": "stdout",
     "output_type": "stream",
     "text": [
      "[WLDUSDT-30min] Trial 75: 参数 {'frequency': 14, 'rsiFrequency': 42, 'sellZoneDistance': 5, 'avgUpATRSum': 3, 'useAbsoluteRSIBarrier': False, 'barrierLevel': 44, 'pyramiding': 8} -> 得分 -0.35\n"
     ]
    },
    {
     "name": "stderr",
     "output_type": "stream",
     "text": [
      "[I 2025-03-09 05:07:31,943] Trial 74 finished with value: -0.3532742794045377 and parameters: {'frequency': 14, 'rsiFrequency': 42, 'sellZoneDistance': 5, 'avgUpATRSum': 3, 'useAbsoluteRSIBarrier': False, 'barrierLevel': 44, 'pyramiding': 8}. Best is trial 9 with value: 0.14544018447065296.\n"
     ]
    },
    {
     "name": "stdout",
     "output_type": "stream",
     "text": [
      "[WLDUSDT-30min] Trial 74: 参数 {'frequency': 14, 'rsiFrequency': 42, 'sellZoneDistance': 5, 'avgUpATRSum': 3, 'useAbsoluteRSIBarrier': False, 'barrierLevel': 44, 'pyramiding': 8} -> 得分 -0.35\n",
      "[WLDUSDT-30min] Trial 76: 参数 {'frequency': 14, 'rsiFrequency': 42, 'sellZoneDistance': 5, 'avgUpATRSum': 3, 'useAbsoluteRSIBarrier': False, 'barrierLevel': 44, 'pyramiding': 8} -> 得分 -0.35\n"
     ]
    },
    {
     "name": "stderr",
     "output_type": "stream",
     "text": [
      "[I 2025-03-09 05:07:40,133] Trial 76 finished with value: -0.3532742794045377 and parameters: {'frequency': 14, 'rsiFrequency': 42, 'sellZoneDistance': 5, 'avgUpATRSum': 3, 'useAbsoluteRSIBarrier': False, 'barrierLevel': 44, 'pyramiding': 8}. Best is trial 9 with value: 0.14544018447065296.\n",
      "[I 2025-03-09 05:07:41,564] Trial 80 finished with value: -0.3532742794045377 and parameters: {'frequency': 14, 'rsiFrequency': 42, 'sellZoneDistance': 5, 'avgUpATRSum': 3, 'useAbsoluteRSIBarrier': False, 'barrierLevel': 54, 'pyramiding': 8}. Best is trial 9 with value: 0.14544018447065296.\n"
     ]
    },
    {
     "name": "stdout",
     "output_type": "stream",
     "text": [
      "[WLDUSDT-30min] Trial 80: 参数 {'frequency': 14, 'rsiFrequency': 42, 'sellZoneDistance': 5, 'avgUpATRSum': 3, 'useAbsoluteRSIBarrier': False, 'barrierLevel': 54, 'pyramiding': 8} -> 得分 -0.35\n"
     ]
    },
    {
     "name": "stderr",
     "output_type": "stream",
     "text": [
      "[I 2025-03-09 05:07:44,031] Trial 81 finished with value: -0.3532742794045377 and parameters: {'frequency': 14, 'rsiFrequency': 42, 'sellZoneDistance': 5, 'avgUpATRSum': 3, 'useAbsoluteRSIBarrier': False, 'barrierLevel': 54, 'pyramiding': 8}. Best is trial 9 with value: 0.14544018447065296.\n"
     ]
    },
    {
     "name": "stdout",
     "output_type": "stream",
     "text": [
      "[WLDUSDT-30min] Trial 81: 参数 {'frequency': 14, 'rsiFrequency': 42, 'sellZoneDistance': 5, 'avgUpATRSum': 3, 'useAbsoluteRSIBarrier': False, 'barrierLevel': 54, 'pyramiding': 8} -> 得分 -0.35\n",
      "[WLDUSDT-30min] Trial 79: 参数 {'frequency': 14, 'rsiFrequency': 42, 'sellZoneDistance': 5, 'avgUpATRSum': 3, 'useAbsoluteRSIBarrier': False, 'barrierLevel': 44, 'pyramiding': 8} -> 得分 -0.35"
     ]
    },
    {
     "name": "stderr",
     "output_type": "stream",
     "text": [
      "[I 2025-03-09 05:07:46,747] Trial 79 finished with value: -0.3532742794045377 and parameters: {'frequency': 14, 'rsiFrequency': 42, 'sellZoneDistance': 5, 'avgUpATRSum': 3, 'useAbsoluteRSIBarrier': False, 'barrierLevel': 44, 'pyramiding': 8}. Best is trial 9 with value: 0.14544018447065296.\n",
      "[I 2025-03-09 05:07:47,429] Trial 77 finished with value: -0.3532742794045377 and parameters: {'frequency': 14, 'rsiFrequency': 42, 'sellZoneDistance': 5, 'avgUpATRSum': 3, 'useAbsoluteRSIBarrier': False, 'barrierLevel': 44, 'pyramiding': 8}. Best is trial 9 with value: 0.14544018447065296.\n"
     ]
    },
    {
     "name": "stdout",
     "output_type": "stream",
     "text": [
      "\n",
      "[WLDUSDT-30min] Trial 77: 参数 {'frequency': 14, 'rsiFrequency': 42, 'sellZoneDistance': 5, 'avgUpATRSum': 3, 'useAbsoluteRSIBarrier': False, 'barrierLevel': 44, 'pyramiding': 8} -> 得分 -0.35\n"
     ]
    },
    {
     "name": "stderr",
     "output_type": "stream",
     "text": [
      "[I 2025-03-09 05:07:47,857] Trial 78 finished with value: -0.3532742794045377 and parameters: {'frequency': 14, 'rsiFrequency': 42, 'sellZoneDistance': 5, 'avgUpATRSum': 3, 'useAbsoluteRSIBarrier': False, 'barrierLevel': 44, 'pyramiding': 8}. Best is trial 9 with value: 0.14544018447065296.\n"
     ]
    },
    {
     "name": "stdout",
     "output_type": "stream",
     "text": [
      "[WLDUSDT-30min] Trial 78: 参数 {'frequency': 14, 'rsiFrequency': 42, 'sellZoneDistance': 5, 'avgUpATRSum': 3, 'useAbsoluteRSIBarrier': False, 'barrierLevel': 44, 'pyramiding': 8} -> 得分 -0.35\n",
      "[WLDUSDT-30min] Trial 83: 参数 {'frequency': 14, 'rsiFrequency': 42, 'sellZoneDistance': 5, 'avgUpATRSum': 3, 'useAbsoluteRSIBarrier': False, 'barrierLevel': 44, 'pyramiding': 8} -> 得分 -0.35\n"
     ]
    },
    {
     "name": "stderr",
     "output_type": "stream",
     "text": [
      "[I 2025-03-09 05:07:48,565] Trial 83 finished with value: -0.3532742794045377 and parameters: {'frequency': 14, 'rsiFrequency': 42, 'sellZoneDistance': 5, 'avgUpATRSum': 3, 'useAbsoluteRSIBarrier': False, 'barrierLevel': 44, 'pyramiding': 8}. Best is trial 9 with value: 0.14544018447065296.\n",
      "[I 2025-03-09 05:08:03,814] Trial 85 finished with value: -0.3532742794045377 and parameters: {'frequency': 14, 'rsiFrequency': 42, 'sellZoneDistance': 5, 'avgUpATRSum': 3, 'useAbsoluteRSIBarrier': False, 'barrierLevel': 44, 'pyramiding': 8}. Best is trial 9 with value: 0.14544018447065296.\n"
     ]
    },
    {
     "name": "stdout",
     "output_type": "stream",
     "text": [
      "[WLDUSDT-30min] Trial 85: 参数 {'frequency': 14, 'rsiFrequency': 42, 'sellZoneDistance': 5, 'avgUpATRSum': 3, 'useAbsoluteRSIBarrier': False, 'barrierLevel': 44, 'pyramiding': 8} -> 得分 -0.35\n"
     ]
    },
    {
     "name": "stderr",
     "output_type": "stream",
     "text": [
      "[I 2025-03-09 05:08:06,346] Trial 84 finished with value: -0.3532742794045377 and parameters: {'frequency': 14, 'rsiFrequency': 42, 'sellZoneDistance': 5, 'avgUpATRSum': 3, 'useAbsoluteRSIBarrier': False, 'barrierLevel': 44, 'pyramiding': 8}. Best is trial 9 with value: 0.14544018447065296.\n"
     ]
    },
    {
     "name": "stdout",
     "output_type": "stream",
     "text": [
      "[WLDUSDT-30min] Trial 84: 参数 {'frequency': 14, 'rsiFrequency': 42, 'sellZoneDistance': 5, 'avgUpATRSum': 3, 'useAbsoluteRSIBarrier': False, 'barrierLevel': 44, 'pyramiding': 8} -> 得分 -0.35\n"
     ]
    },
    {
     "name": "stderr",
     "output_type": "stream",
     "text": [
      "[I 2025-03-09 05:08:10,435] Trial 82 finished with value: -0.3532742794045377 and parameters: {'frequency': 14, 'rsiFrequency': 42, 'sellZoneDistance': 5, 'avgUpATRSum': 3, 'useAbsoluteRSIBarrier': False, 'barrierLevel': 54, 'pyramiding': 8}. Best is trial 9 with value: 0.14544018447065296.\n"
     ]
    },
    {
     "name": "stdout",
     "output_type": "stream",
     "text": [
      "[WLDUSDT-30min] Trial 82: 参数 {'frequency': 14, 'rsiFrequency': 42, 'sellZoneDistance': 5, 'avgUpATRSum': 3, 'useAbsoluteRSIBarrier': False, 'barrierLevel': 54, 'pyramiding': 8} -> 得分 -0.35\n"
     ]
    },
    {
     "name": "stderr",
     "output_type": "stream",
     "text": [
      "[I 2025-03-09 05:08:15,783] Trial 86 finished with value: -0.3532742794045377 and parameters: {'frequency': 14, 'rsiFrequency': 42, 'sellZoneDistance': 5, 'avgUpATRSum': 3, 'useAbsoluteRSIBarrier': False, 'barrierLevel': 44, 'pyramiding': 8}. Best is trial 9 with value: 0.14544018447065296.\n"
     ]
    },
    {
     "name": "stdout",
     "output_type": "stream",
     "text": [
      "[WLDUSDT-30min] Trial 86: 参数 {'frequency': 14, 'rsiFrequency': 42, 'sellZoneDistance': 5, 'avgUpATRSum': 3, 'useAbsoluteRSIBarrier': False, 'barrierLevel': 44, 'pyramiding': 8} -> 得分 -0.35\n"
     ]
    },
    {
     "name": "stderr",
     "output_type": "stream",
     "text": [
      "[I 2025-03-09 05:08:20,872] Trial 89 finished with value: -0.3532742794045377 and parameters: {'frequency': 14, 'rsiFrequency': 42, 'sellZoneDistance': 5, 'avgUpATRSum': 3, 'useAbsoluteRSIBarrier': False, 'barrierLevel': 44, 'pyramiding': 8}. Best is trial 9 with value: 0.14544018447065296.\n"
     ]
    },
    {
     "name": "stdout",
     "output_type": "stream",
     "text": [
      "[WLDUSDT-30min] Trial 89: 参数 {'frequency': 14, 'rsiFrequency': 42, 'sellZoneDistance': 5, 'avgUpATRSum': 3, 'useAbsoluteRSIBarrier': False, 'barrierLevel': 44, 'pyramiding': 8} -> 得分 -0.35\n"
     ]
    },
    {
     "name": "stderr",
     "output_type": "stream",
     "text": [
      "[I 2025-03-09 05:08:25,751] Trial 87 finished with value: -0.3532742794045377 and parameters: {'frequency': 14, 'rsiFrequency': 42, 'sellZoneDistance': 5, 'avgUpATRSum': 3, 'useAbsoluteRSIBarrier': False, 'barrierLevel': 44, 'pyramiding': 8}. Best is trial 9 with value: 0.14544018447065296.\n"
     ]
    },
    {
     "name": "stdout",
     "output_type": "stream",
     "text": [
      "[WLDUSDT-30min] Trial 87: 参数 {'frequency': 14, 'rsiFrequency': 42, 'sellZoneDistance': 5, 'avgUpATRSum': 3, 'useAbsoluteRSIBarrier': False, 'barrierLevel': 44, 'pyramiding': 8} -> 得分 -0.35\n"
     ]
    },
    {
     "name": "stderr",
     "output_type": "stream",
     "text": [
      "[I 2025-03-09 05:08:28,117] Trial 88 finished with value: -0.3532742794045377 and parameters: {'frequency': 14, 'rsiFrequency': 42, 'sellZoneDistance': 5, 'avgUpATRSum': 3, 'useAbsoluteRSIBarrier': False, 'barrierLevel': 44, 'pyramiding': 8}. Best is trial 9 with value: 0.14544018447065296.\n"
     ]
    },
    {
     "name": "stdout",
     "output_type": "stream",
     "text": [
      "[WLDUSDT-30min] Trial 88: 参数 {'frequency': 14, 'rsiFrequency': 42, 'sellZoneDistance': 5, 'avgUpATRSum': 3, 'useAbsoluteRSIBarrier': False, 'barrierLevel': 44, 'pyramiding': 8} -> 得分 -0.35\n"
     ]
    },
    {
     "name": "stderr",
     "output_type": "stream",
     "text": [
      "[I 2025-03-09 05:10:24,116] Trial 90 finished with value: -0.3532742794045377 and parameters: {'frequency': 14, 'rsiFrequency': 42, 'sellZoneDistance': 5, 'avgUpATRSum': 3, 'useAbsoluteRSIBarrier': False, 'barrierLevel': 44, 'pyramiding': 8}. Best is trial 9 with value: 0.14544018447065296.\n"
     ]
    },
    {
     "name": "stdout",
     "output_type": "stream",
     "text": [
      "[WLDUSDT-30min] Trial 90: 参数 {'frequency': 14, 'rsiFrequency': 42, 'sellZoneDistance': 5, 'avgUpATRSum': 3, 'useAbsoluteRSIBarrier': False, 'barrierLevel': 44, 'pyramiding': 8} -> 得分 -0.35\n"
     ]
    },
    {
     "name": "stderr",
     "output_type": "stream",
     "text": [
      "[I 2025-03-09 05:10:58,174] Trial 91 finished with value: -0.3532742794045377 and parameters: {'frequency': 14, 'rsiFrequency': 42, 'sellZoneDistance': 5, 'avgUpATRSum': 3, 'useAbsoluteRSIBarrier': False, 'barrierLevel': 52, 'pyramiding': 8}. Best is trial 9 with value: 0.14544018447065296.\n"
     ]
    },
    {
     "name": "stdout",
     "output_type": "stream",
     "text": [
      "[WLDUSDT-30min] Trial 91: 参数 {'frequency': 14, 'rsiFrequency': 42, 'sellZoneDistance': 5, 'avgUpATRSum': 3, 'useAbsoluteRSIBarrier': False, 'barrierLevel': 52, 'pyramiding': 8} -> 得分 -0.35\n"
     ]
    },
    {
     "name": "stderr",
     "output_type": "stream",
     "text": [
      "[I 2025-03-09 05:11:09,147] Trial 92 finished with value: -0.6032056326758464 and parameters: {'frequency': 14, 'rsiFrequency': 42, 'sellZoneDistance': 3, 'avgUpATRSum': 3, 'useAbsoluteRSIBarrier': False, 'barrierLevel': 52, 'pyramiding': 8}. Best is trial 9 with value: 0.14544018447065296.\n"
     ]
    },
    {
     "name": "stdout",
     "output_type": "stream",
     "text": [
      "[WLDUSDT-30min] Trial 92: 参数 {'frequency': 14, 'rsiFrequency': 42, 'sellZoneDistance': 3, 'avgUpATRSum': 3, 'useAbsoluteRSIBarrier': False, 'barrierLevel': 52, 'pyramiding': 8} -> 得分 -0.60\n"
     ]
    },
    {
     "name": "stderr",
     "output_type": "stream",
     "text": [
      "[I 2025-03-09 05:11:10,970] Trial 96 finished with value: -0.01857672536652928 and parameters: {'frequency': 14, 'rsiFrequency': 42, 'sellZoneDistance': 3, 'avgUpATRSum': 4, 'useAbsoluteRSIBarrier': False, 'barrierLevel': 52, 'pyramiding': 9}. Best is trial 9 with value: 0.14544018447065296.\n"
     ]
    },
    {
     "name": "stdout",
     "output_type": "stream",
     "text": [
      "[WLDUSDT-30min] Trial 96: 参数 {'frequency': 14, 'rsiFrequency': 42, 'sellZoneDistance': 3, 'avgUpATRSum': 4, 'useAbsoluteRSIBarrier': False, 'barrierLevel': 52, 'pyramiding': 9} -> 得分 -0.02\n",
      "[WLDUSDT-30min] Trial 95: 参数 {'frequency': 14, 'rsiFrequency': 42, 'sellZoneDistance': 3, 'avgUpATRSum': 3, 'useAbsoluteRSIBarrier': False, 'barrierLevel': 52, 'pyramiding': 8} -> 得分 -0.60\n"
     ]
    },
    {
     "name": "stderr",
     "output_type": "stream",
     "text": [
      "[I 2025-03-09 05:11:11,208] Trial 95 finished with value: -0.6032056326758464 and parameters: {'frequency': 14, 'rsiFrequency': 42, 'sellZoneDistance': 3, 'avgUpATRSum': 3, 'useAbsoluteRSIBarrier': False, 'barrierLevel': 52, 'pyramiding': 8}. Best is trial 9 with value: 0.14544018447065296.\n",
      "[I 2025-03-09 05:11:14,065] Trial 93 finished with value: -0.6032056326758464 and parameters: {'frequency': 14, 'rsiFrequency': 42, 'sellZoneDistance': 3, 'avgUpATRSum': 3, 'useAbsoluteRSIBarrier': False, 'barrierLevel': 52, 'pyramiding': 8}. Best is trial 9 with value: 0.14544018447065296.\n"
     ]
    },
    {
     "name": "stdout",
     "output_type": "stream",
     "text": [
      "[WLDUSDT-30min] Trial 93: 参数 {'frequency': 14, 'rsiFrequency': 42, 'sellZoneDistance': 3, 'avgUpATRSum': 3, 'useAbsoluteRSIBarrier': False, 'barrierLevel': 52, 'pyramiding': 8} -> 得分 -0.60\n"
     ]
    },
    {
     "name": "stderr",
     "output_type": "stream",
     "text": [
      "[I 2025-03-09 05:11:21,761] Trial 94 finished with value: -0.6032056326758464 and parameters: {'frequency': 14, 'rsiFrequency': 42, 'sellZoneDistance': 3, 'avgUpATRSum': 3, 'useAbsoluteRSIBarrier': False, 'barrierLevel': 52, 'pyramiding': 8}. Best is trial 9 with value: 0.14544018447065296.\n"
     ]
    },
    {
     "name": "stdout",
     "output_type": "stream",
     "text": [
      "[WLDUSDT-30min] Trial 94: 参数 {'frequency': 14, 'rsiFrequency': 42, 'sellZoneDistance': 3, 'avgUpATRSum': 3, 'useAbsoluteRSIBarrier': False, 'barrierLevel': 52, 'pyramiding': 8} -> 得分 -0.60\n"
     ]
    },
    {
     "name": "stderr",
     "output_type": "stream",
     "text": [
      "[I 2025-03-09 05:11:37,234] Trial 97 finished with value: -0.01857672536652928 and parameters: {'frequency': 14, 'rsiFrequency': 42, 'sellZoneDistance': 3, 'avgUpATRSum': 4, 'useAbsoluteRSIBarrier': False, 'barrierLevel': 52, 'pyramiding': 9}. Best is trial 9 with value: 0.14544018447065296.\n",
      "[I 2025-03-09 05:11:37,235] Trial 99 finished with value: -1.3054632114333646 and parameters: {'frequency': 14, 'rsiFrequency': 40, 'sellZoneDistance': 3, 'avgUpATRSum': 4, 'useAbsoluteRSIBarrier': False, 'barrierLevel': 52, 'pyramiding': 9}. Best is trial 9 with value: 0.14544018447065296.\n"
     ]
    },
    {
     "name": "stdout",
     "output_type": "stream",
     "text": [
      "[WLDUSDT-30min] Trial 97: 参数 {'frequency': 14, 'rsiFrequency': 42, 'sellZoneDistance': 3, 'avgUpATRSum': 4, 'useAbsoluteRSIBarrier': False, 'barrierLevel': 52, 'pyramiding': 9} -> 得分 -0.02\n",
      "[WLDUSDT-30min] Trial 99: 参数 {'frequency': 14, 'rsiFrequency': 40, 'sellZoneDistance': 3, 'avgUpATRSum': 4, 'useAbsoluteRSIBarrier': False, 'barrierLevel': 52, 'pyramiding': 9} -> 得分 -1.31\n"
     ]
    },
    {
     "name": "stderr",
     "output_type": "stream",
     "text": [
      "[I 2025-03-09 05:11:42,138] Trial 100 finished with value: -0.39114698338910636 and parameters: {'frequency': 14, 'rsiFrequency': 42, 'sellZoneDistance': 3, 'avgUpATRSum': 3, 'useAbsoluteRSIBarrier': False, 'barrierLevel': 52, 'pyramiding': 9}. Best is trial 9 with value: 0.14544018447065296.\n"
     ]
    },
    {
     "name": "stdout",
     "output_type": "stream",
     "text": [
      "[WLDUSDT-30min] Trial 100: 参数 {'frequency': 14, 'rsiFrequency': 42, 'sellZoneDistance': 3, 'avgUpATRSum': 3, 'useAbsoluteRSIBarrier': False, 'barrierLevel': 52, 'pyramiding': 9} -> 得分 -0.39\n"
     ]
    },
    {
     "name": "stderr",
     "output_type": "stream",
     "text": [
      "[I 2025-03-09 05:11:49,764] Trial 102 finished with value: -0.2337419638097269 and parameters: {'frequency': 14, 'rsiFrequency': 42, 'sellZoneDistance': 5, 'avgUpATRSum': 3, 'useAbsoluteRSIBarrier': False, 'barrierLevel': 52, 'pyramiding': 9}. Best is trial 9 with value: 0.14544018447065296.\n"
     ]
    },
    {
     "name": "stdout",
     "output_type": "stream",
     "text": [
      "[WLDUSDT-30min] Trial 102: 参数 {'frequency': 14, 'rsiFrequency': 42, 'sellZoneDistance': 5, 'avgUpATRSum': 3, 'useAbsoluteRSIBarrier': False, 'barrierLevel': 52, 'pyramiding': 9} -> 得分 -0.23\n"
     ]
    },
    {
     "name": "stderr",
     "output_type": "stream",
     "text": [
      "[I 2025-03-09 05:11:54,998] Trial 101 finished with value: -0.2337419638097269 and parameters: {'frequency': 14, 'rsiFrequency': 42, 'sellZoneDistance': 5, 'avgUpATRSum': 3, 'useAbsoluteRSIBarrier': False, 'barrierLevel': 52, 'pyramiding': 9}. Best is trial 9 with value: 0.14544018447065296.\n"
     ]
    },
    {
     "name": "stdout",
     "output_type": "stream",
     "text": [
      "[WLDUSDT-30min] Trial 101: 参数 {'frequency': 14, 'rsiFrequency': 42, 'sellZoneDistance': 5, 'avgUpATRSum': 3, 'useAbsoluteRSIBarrier': False, 'barrierLevel': 52, 'pyramiding': 9} -> 得分 -0.23\n"
     ]
    },
    {
     "name": "stderr",
     "output_type": "stream",
     "text": [
      "[I 2025-03-09 05:12:00,401] Trial 98 finished with value: -0.01857672536652928 and parameters: {'frequency': 14, 'rsiFrequency': 42, 'sellZoneDistance': 3, 'avgUpATRSum': 4, 'useAbsoluteRSIBarrier': False, 'barrierLevel': 52, 'pyramiding': 9}. Best is trial 9 with value: 0.14544018447065296.\n"
     ]
    },
    {
     "name": "stdout",
     "output_type": "stream",
     "text": [
      "[WLDUSDT-30min] Trial 98: 参数 {'frequency': 14, 'rsiFrequency': 42, 'sellZoneDistance': 3, 'avgUpATRSum': 4, 'useAbsoluteRSIBarrier': False, 'barrierLevel': 52, 'pyramiding': 9} -> 得分 -0.02\n"
     ]
    },
    {
     "name": "stderr",
     "output_type": "stream",
     "text": [
      "[I 2025-03-09 05:12:01,362] Trial 103 finished with value: 0.9346633813289157 and parameters: {'frequency': 14, 'rsiFrequency': 40, 'sellZoneDistance': 5, 'avgUpATRSum': 4, 'useAbsoluteRSIBarrier': False, 'barrierLevel': 52, 'pyramiding': 9}. Best is trial 103 with value: 0.9346633813289157.\n"
     ]
    },
    {
     "name": "stdout",
     "output_type": "stream",
     "text": [
      "[WLDUSDT-30min] Trial 103: 参数 {'frequency': 14, 'rsiFrequency': 40, 'sellZoneDistance': 5, 'avgUpATRSum': 4, 'useAbsoluteRSIBarrier': False, 'barrierLevel': 52, 'pyramiding': 9} -> 得分 0.93\n"
     ]
    },
    {
     "name": "stderr",
     "output_type": "stream",
     "text": [
      "[I 2025-03-09 05:12:15,410] Trial 104 finished with value: 0.9346633813289157 and parameters: {'frequency': 14, 'rsiFrequency': 40, 'sellZoneDistance': 5, 'avgUpATRSum': 4, 'useAbsoluteRSIBarrier': False, 'barrierLevel': 50, 'pyramiding': 9}. Best is trial 103 with value: 0.9346633813289157.\n"
     ]
    },
    {
     "name": "stdout",
     "output_type": "stream",
     "text": [
      "[WLDUSDT-30min] Trial 104: 参数 {'frequency': 14, 'rsiFrequency': 40, 'sellZoneDistance': 5, 'avgUpATRSum': 4, 'useAbsoluteRSIBarrier': False, 'barrierLevel': 50, 'pyramiding': 9} -> 得分 0.93\n"
     ]
    },
    {
     "name": "stderr",
     "output_type": "stream",
     "text": [
      "[I 2025-03-09 05:12:19,493] Trial 106 finished with value: 0.9346633813289157 and parameters: {'frequency': 14, 'rsiFrequency': 40, 'sellZoneDistance': 5, 'avgUpATRSum': 4, 'useAbsoluteRSIBarrier': False, 'barrierLevel': 54, 'pyramiding': 9}. Best is trial 103 with value: 0.9346633813289157.\n"
     ]
    },
    {
     "name": "stdout",
     "output_type": "stream",
     "text": [
      "[WLDUSDT-30min] Trial 106: 参数 {'frequency': 14, 'rsiFrequency': 40, 'sellZoneDistance': 5, 'avgUpATRSum': 4, 'useAbsoluteRSIBarrier': False, 'barrierLevel': 54, 'pyramiding': 9} -> 得分 0.93\n"
     ]
    },
    {
     "name": "stderr",
     "output_type": "stream",
     "text": [
      "[I 2025-03-09 05:12:27,127] Trial 112 finished with value: -1.5661554386385996 and parameters: {'frequency': 14, 'rsiFrequency': 40, 'sellZoneDistance': 6, 'avgUpATRSum': 4, 'useAbsoluteRSIBarrier': False, 'barrierLevel': 50, 'pyramiding': 9}. Best is trial 103 with value: 0.9346633813289157.\n"
     ]
    },
    {
     "name": "stdout",
     "output_type": "stream",
     "text": [
      "[WLDUSDT-30min] Trial 112: 参数 {'frequency': 14, 'rsiFrequency': 40, 'sellZoneDistance': 6, 'avgUpATRSum': 4, 'useAbsoluteRSIBarrier': False, 'barrierLevel': 50, 'pyramiding': 9} -> 得分 -1.57\n"
     ]
    },
    {
     "name": "stderr",
     "output_type": "stream",
     "text": [
      "[I 2025-03-09 05:12:29,745] Trial 105 finished with value: 0.9346633813289157 and parameters: {'frequency': 14, 'rsiFrequency': 40, 'sellZoneDistance': 5, 'avgUpATRSum': 4, 'useAbsoluteRSIBarrier': False, 'barrierLevel': 54, 'pyramiding': 9}. Best is trial 103 with value: 0.9346633813289157.\n"
     ]
    },
    {
     "name": "stdout",
     "output_type": "stream",
     "text": [
      "[WLDUSDT-30min] Trial 105: 参数 {'frequency': 14, 'rsiFrequency': 40, 'sellZoneDistance': 5, 'avgUpATRSum': 4, 'useAbsoluteRSIBarrier': False, 'barrierLevel': 54, 'pyramiding': 9} -> 得分 0.93\n",
      "[WLDUSDT-30min] Trial 110: 参数 {'frequency': 14, 'rsiFrequency': 40, 'sellZoneDistance': 5, 'avgUpATRSum': 4, 'useAbsoluteRSIBarrier': False, 'barrierLevel': 52, 'pyramiding': 9} -> 得分 0.93\n"
     ]
    },
    {
     "name": "stderr",
     "output_type": "stream",
     "text": [
      "[I 2025-03-09 05:12:30,095] Trial 110 finished with value: 0.9346633813289157 and parameters: {'frequency': 14, 'rsiFrequency': 40, 'sellZoneDistance': 5, 'avgUpATRSum': 4, 'useAbsoluteRSIBarrier': False, 'barrierLevel': 52, 'pyramiding': 9}. Best is trial 103 with value: 0.9346633813289157.\n",
      "[I 2025-03-09 05:12:30,928] Trial 109 finished with value: 0.9346633813289157 and parameters: {'frequency': 14, 'rsiFrequency': 40, 'sellZoneDistance': 5, 'avgUpATRSum': 4, 'useAbsoluteRSIBarrier': False, 'barrierLevel': 50, 'pyramiding': 9}. Best is trial 103 with value: 0.9346633813289157.\n",
      "[I 2025-03-09 05:12:31,038] Trial 108 finished with value: 0.9346633813289157 and parameters: {'frequency': 14, 'rsiFrequency': 40, 'sellZoneDistance': 5, 'avgUpATRSum': 4, 'useAbsoluteRSIBarrier': False, 'barrierLevel': 52, 'pyramiding': 9}. Best is trial 103 with value: 0.9346633813289157.\n"
     ]
    },
    {
     "name": "stdout",
     "output_type": "stream",
     "text": [
      "[WLDUSDT-30min] Trial 109: 参数 {'frequency': 14, 'rsiFrequency': 40, 'sellZoneDistance': 5, 'avgUpATRSum': 4, 'useAbsoluteRSIBarrier': False, 'barrierLevel': 50, 'pyramiding': 9} -> 得分 0.93\n",
      "[WLDUSDT-30min] Trial 108: 参数 {'frequency': 14, 'rsiFrequency': 40, 'sellZoneDistance': 5, 'avgUpATRSum': 4, 'useAbsoluteRSIBarrier': False, 'barrierLevel': 52, 'pyramiding': 9} -> 得分 0.93\n"
     ]
    },
    {
     "name": "stderr",
     "output_type": "stream",
     "text": [
      "[I 2025-03-09 05:12:34,444] Trial 107 finished with value: 0.9346633813289157 and parameters: {'frequency': 14, 'rsiFrequency': 40, 'sellZoneDistance': 5, 'avgUpATRSum': 4, 'useAbsoluteRSIBarrier': False, 'barrierLevel': 52, 'pyramiding': 9}. Best is trial 103 with value: 0.9346633813289157.\n"
     ]
    },
    {
     "name": "stdout",
     "output_type": "stream",
     "text": [
      "[WLDUSDT-30min] Trial 107: 参数 {'frequency': 14, 'rsiFrequency': 40, 'sellZoneDistance': 5, 'avgUpATRSum': 4, 'useAbsoluteRSIBarrier': False, 'barrierLevel': 52, 'pyramiding': 9} -> 得分 0.93\n"
     ]
    },
    {
     "name": "stderr",
     "output_type": "stream",
     "text": [
      "[I 2025-03-09 05:12:49,088] Trial 114 finished with value: -1.5661554386385996 and parameters: {'frequency': 14, 'rsiFrequency': 40, 'sellZoneDistance': 6, 'avgUpATRSum': 4, 'useAbsoluteRSIBarrier': False, 'barrierLevel': 50, 'pyramiding': 9}. Best is trial 103 with value: 0.9346633813289157.\n"
     ]
    },
    {
     "name": "stdout",
     "output_type": "stream",
     "text": [
      "[WLDUSDT-30min] Trial 114: 参数 {'frequency': 14, 'rsiFrequency': 40, 'sellZoneDistance': 6, 'avgUpATRSum': 4, 'useAbsoluteRSIBarrier': False, 'barrierLevel': 50, 'pyramiding': 9} -> 得分 -1.57\n"
     ]
    },
    {
     "name": "stderr",
     "output_type": "stream",
     "text": [
      "[I 2025-03-09 05:12:51,465] Trial 111 finished with value: -1.5661554386385996 and parameters: {'frequency': 14, 'rsiFrequency': 40, 'sellZoneDistance': 6, 'avgUpATRSum': 4, 'useAbsoluteRSIBarrier': False, 'barrierLevel': 50, 'pyramiding': 9}. Best is trial 103 with value: 0.9346633813289157.\n"
     ]
    },
    {
     "name": "stdout",
     "output_type": "stream",
     "text": [
      "[WLDUSDT-30min] Trial 111: 参数 {'frequency': 14, 'rsiFrequency': 40, 'sellZoneDistance': 6, 'avgUpATRSum': 4, 'useAbsoluteRSIBarrier': False, 'barrierLevel': 50, 'pyramiding': 9} -> 得分 -1.57\n"
     ]
    },
    {
     "name": "stderr",
     "output_type": "stream",
     "text": [
      "[I 2025-03-09 05:12:56,796] Trial 113 finished with value: -1.5661554386385996 and parameters: {'frequency': 14, 'rsiFrequency': 40, 'sellZoneDistance': 6, 'avgUpATRSum': 4, 'useAbsoluteRSIBarrier': False, 'barrierLevel': 52, 'pyramiding': 9}. Best is trial 103 with value: 0.9346633813289157.\n"
     ]
    },
    {
     "name": "stdout",
     "output_type": "stream",
     "text": [
      "[WLDUSDT-30min] Trial 113: 参数 {'frequency': 14, 'rsiFrequency': 40, 'sellZoneDistance': 6, 'avgUpATRSum': 4, 'useAbsoluteRSIBarrier': False, 'barrierLevel': 52, 'pyramiding': 9} -> 得分 -1.57\n"
     ]
    },
    {
     "name": "stderr",
     "output_type": "stream",
     "text": [
      "[I 2025-03-09 05:13:06,326] Trial 115 finished with value: -1.5661554386385996 and parameters: {'frequency': 14, 'rsiFrequency': 40, 'sellZoneDistance': 6, 'avgUpATRSum': 4, 'useAbsoluteRSIBarrier': False, 'barrierLevel': 50, 'pyramiding': 9}. Best is trial 103 with value: 0.9346633813289157.\n"
     ]
    },
    {
     "name": "stdout",
     "output_type": "stream",
     "text": [
      "[WLDUSDT-30min] Trial 115: 参数 {'frequency': 14, 'rsiFrequency': 40, 'sellZoneDistance': 6, 'avgUpATRSum': 4, 'useAbsoluteRSIBarrier': False, 'barrierLevel': 50, 'pyramiding': 9} -> 得分 -1.57\n"
     ]
    },
    {
     "name": "stderr",
     "output_type": "stream",
     "text": [
      "[I 2025-03-09 05:13:08,967] Trial 116 finished with value: -1.5661554386385996 and parameters: {'frequency': 14, 'rsiFrequency': 40, 'sellZoneDistance': 6, 'avgUpATRSum': 4, 'useAbsoluteRSIBarrier': False, 'barrierLevel': 50, 'pyramiding': 9}. Best is trial 103 with value: 0.9346633813289157.\n"
     ]
    },
    {
     "name": "stdout",
     "output_type": "stream",
     "text": [
      "[WLDUSDT-30min] Trial 116: 参数 {'frequency': 14, 'rsiFrequency': 40, 'sellZoneDistance': 6, 'avgUpATRSum': 4, 'useAbsoluteRSIBarrier': False, 'barrierLevel': 50, 'pyramiding': 9} -> 得分 -1.57\n",
      "[WLDUSDT-30min] Trial 117: 参数 {'frequency': 14, 'rsiFrequency': 40, 'sellZoneDistance': 6, 'avgUpATRSum': 4, 'useAbsoluteRSIBarrier': True, 'barrierLevel': 50, 'pyramiding': 9} -> 得分 -39.35\n"
     ]
    },
    {
     "name": "stderr",
     "output_type": "stream",
     "text": [
      "[I 2025-03-09 05:13:09,182] Trial 117 finished with value: -39.35102233598523 and parameters: {'frequency': 14, 'rsiFrequency': 40, 'sellZoneDistance': 6, 'avgUpATRSum': 4, 'useAbsoluteRSIBarrier': True, 'barrierLevel': 50, 'pyramiding': 9}. Best is trial 103 with value: 0.9346633813289157.\n",
      "[I 2025-03-09 05:13:32,185] Trial 118 finished with value: -39.35102233598523 and parameters: {'frequency': 14, 'rsiFrequency': 40, 'sellZoneDistance': 6, 'avgUpATRSum': 4, 'useAbsoluteRSIBarrier': True, 'barrierLevel': 50, 'pyramiding': 9}. Best is trial 103 with value: 0.9346633813289157.\n"
     ]
    },
    {
     "name": "stdout",
     "output_type": "stream",
     "text": [
      "[WLDUSDT-30min] Trial 118: 参数 {'frequency': 14, 'rsiFrequency': 40, 'sellZoneDistance': 6, 'avgUpATRSum': 4, 'useAbsoluteRSIBarrier': True, 'barrierLevel': 50, 'pyramiding': 9} -> 得分 -39.35\n"
     ]
    },
    {
     "name": "stderr",
     "output_type": "stream",
     "text": [
      "[I 2025-03-09 05:13:42,187] Trial 119 finished with value: -43.636955387198675 and parameters: {'frequency': 14, 'rsiFrequency': 40, 'sellZoneDistance': 5, 'avgUpATRSum': 4, 'useAbsoluteRSIBarrier': True, 'barrierLevel': 52, 'pyramiding': 9}. Best is trial 103 with value: 0.9346633813289157.\n"
     ]
    },
    {
     "name": "stdout",
     "output_type": "stream",
     "text": [
      "[WLDUSDT-30min] Trial 119: 参数 {'frequency': 14, 'rsiFrequency': 40, 'sellZoneDistance': 5, 'avgUpATRSum': 4, 'useAbsoluteRSIBarrier': True, 'barrierLevel': 52, 'pyramiding': 9} -> 得分 -43.64\n"
     ]
    },
    {
     "name": "stderr",
     "output_type": "stream",
     "text": [
      "[I 2025-03-09 05:15:25,654] Trial 120 finished with value: -1.5661554386385996 and parameters: {'frequency': 14, 'rsiFrequency': 40, 'sellZoneDistance': 6, 'avgUpATRSum': 4, 'useAbsoluteRSIBarrier': False, 'barrierLevel': 52, 'pyramiding': 9}. Best is trial 103 with value: 0.9346633813289157.\n"
     ]
    },
    {
     "name": "stdout",
     "output_type": "stream",
     "text": [
      "[WLDUSDT-30min] Trial 120: 参数 {'frequency': 14, 'rsiFrequency': 40, 'sellZoneDistance': 6, 'avgUpATRSum': 4, 'useAbsoluteRSIBarrier': False, 'barrierLevel': 52, 'pyramiding': 9} -> 得分 -1.57\n"
     ]
    },
    {
     "name": "stderr",
     "output_type": "stream",
     "text": [
      "[I 2025-03-09 05:15:37,247] Trial 123 finished with value: -34.00068600490952 and parameters: {'frequency': 14, 'rsiFrequency': 40, 'sellZoneDistance': 6, 'avgUpATRSum': 5, 'useAbsoluteRSIBarrier': True, 'barrierLevel': 50, 'pyramiding': 9}. Best is trial 103 with value: 0.9346633813289157.\n"
     ]
    },
    {
     "name": "stdout",
     "output_type": "stream",
     "text": [
      "[WLDUSDT-30min] Trial 123: 参数 {'frequency': 14, 'rsiFrequency': 40, 'sellZoneDistance': 6, 'avgUpATRSum': 5, 'useAbsoluteRSIBarrier': True, 'barrierLevel': 50, 'pyramiding': 9} -> 得分 -34.00\n"
     ]
    },
    {
     "name": "stderr",
     "output_type": "stream",
     "text": [
      "[I 2025-03-09 05:15:43,866] Trial 124 finished with value: -34.00068600490952 and parameters: {'frequency': 14, 'rsiFrequency': 40, 'sellZoneDistance': 6, 'avgUpATRSum': 5, 'useAbsoluteRSIBarrier': True, 'barrierLevel': 50, 'pyramiding': 9}. Best is trial 103 with value: 0.9346633813289157.\n"
     ]
    },
    {
     "name": "stdout",
     "output_type": "stream",
     "text": [
      "[WLDUSDT-30min] Trial 124: 参数 {'frequency': 14, 'rsiFrequency': 40, 'sellZoneDistance': 6, 'avgUpATRSum': 5, 'useAbsoluteRSIBarrier': True, 'barrierLevel': 50, 'pyramiding': 9} -> 得分 -34.00\n"
     ]
    },
    {
     "name": "stderr",
     "output_type": "stream",
     "text": [
      "[I 2025-03-09 05:15:48,536] Trial 122 finished with value: -39.35102233598523 and parameters: {'frequency': 14, 'rsiFrequency': 40, 'sellZoneDistance': 6, 'avgUpATRSum': 4, 'useAbsoluteRSIBarrier': True, 'barrierLevel': 50, 'pyramiding': 9}. Best is trial 103 with value: 0.9346633813289157.\n"
     ]
    },
    {
     "name": "stdout",
     "output_type": "stream",
     "text": [
      "[WLDUSDT-30min] Trial 122: 参数 {'frequency': 14, 'rsiFrequency': 40, 'sellZoneDistance': 6, 'avgUpATRSum': 4, 'useAbsoluteRSIBarrier': True, 'barrierLevel': 50, 'pyramiding': 9} -> 得分 -39.35\n"
     ]
    },
    {
     "name": "stderr",
     "output_type": "stream",
     "text": [
      "[I 2025-03-09 05:15:56,679] Trial 125 finished with value: -39.35102233598523 and parameters: {'frequency': 14, 'rsiFrequency': 40, 'sellZoneDistance': 6, 'avgUpATRSum': 4, 'useAbsoluteRSIBarrier': True, 'barrierLevel': 50, 'pyramiding': 9}. Best is trial 103 with value: 0.9346633813289157.\n"
     ]
    },
    {
     "name": "stdout",
     "output_type": "stream",
     "text": [
      "[WLDUSDT-30min] Trial 125: 参数 {'frequency': 14, 'rsiFrequency': 40, 'sellZoneDistance': 6, 'avgUpATRSum': 4, 'useAbsoluteRSIBarrier': True, 'barrierLevel': 50, 'pyramiding': 9} -> 得分 -39.35\n"
     ]
    },
    {
     "name": "stderr",
     "output_type": "stream",
     "text": [
      "[I 2025-03-09 05:16:00,702] Trial 121 finished with value: -1.5661554386385996 and parameters: {'frequency': 14, 'rsiFrequency': 40, 'sellZoneDistance': 6, 'avgUpATRSum': 4, 'useAbsoluteRSIBarrier': False, 'barrierLevel': 50, 'pyramiding': 9}. Best is trial 103 with value: 0.9346633813289157.\n"
     ]
    },
    {
     "name": "stdout",
     "output_type": "stream",
     "text": [
      "[WLDUSDT-30min] Trial 121: 参数 {'frequency': 14, 'rsiFrequency': 40, 'sellZoneDistance': 6, 'avgUpATRSum': 4, 'useAbsoluteRSIBarrier': False, 'barrierLevel': 50, 'pyramiding': 9} -> 得分 -1.57\n"
     ]
    },
    {
     "name": "stderr",
     "output_type": "stream",
     "text": [
      "[I 2025-03-09 05:16:09,474] Trial 126 finished with value: -36.63942523367879 and parameters: {'frequency': 14, 'rsiFrequency': 40, 'sellZoneDistance': 5, 'avgUpATRSum': 4, 'useAbsoluteRSIBarrier': True, 'barrierLevel': 50, 'pyramiding': 9}. Best is trial 103 with value: 0.9346633813289157.\n"
     ]
    },
    {
     "name": "stdout",
     "output_type": "stream",
     "text": [
      "[WLDUSDT-30min] Trial 126: 参数 {'frequency': 14, 'rsiFrequency': 40, 'sellZoneDistance': 5, 'avgUpATRSum': 4, 'useAbsoluteRSIBarrier': True, 'barrierLevel': 50, 'pyramiding': 9} -> 得分 -36.64\n"
     ]
    },
    {
     "name": "stderr",
     "output_type": "stream",
     "text": [
      "[I 2025-03-09 05:16:14,208] Trial 128 finished with value: -39.35102233598523 and parameters: {'frequency': 14, 'rsiFrequency': 40, 'sellZoneDistance': 6, 'avgUpATRSum': 4, 'useAbsoluteRSIBarrier': True, 'barrierLevel': 50, 'pyramiding': 9}. Best is trial 103 with value: 0.9346633813289157.\n"
     ]
    },
    {
     "name": "stdout",
     "output_type": "stream",
     "text": [
      "[WLDUSDT-30min] Trial 128: 参数 {'frequency': 14, 'rsiFrequency': 40, 'sellZoneDistance': 6, 'avgUpATRSum': 4, 'useAbsoluteRSIBarrier': True, 'barrierLevel': 50, 'pyramiding': 9} -> 得分 -39.35\n"
     ]
    },
    {
     "name": "stderr",
     "output_type": "stream",
     "text": [
      "[I 2025-03-09 05:16:17,969] Trial 127 finished with value: -39.35102233598523 and parameters: {'frequency': 14, 'rsiFrequency': 40, 'sellZoneDistance': 6, 'avgUpATRSum': 4, 'useAbsoluteRSIBarrier': True, 'barrierLevel': 50, 'pyramiding': 9}. Best is trial 103 with value: 0.9346633813289157.\n"
     ]
    },
    {
     "name": "stdout",
     "output_type": "stream",
     "text": [
      "[WLDUSDT-30min] Trial 127: 参数 {'frequency': 14, 'rsiFrequency': 40, 'sellZoneDistance': 6, 'avgUpATRSum': 4, 'useAbsoluteRSIBarrier': True, 'barrierLevel': 50, 'pyramiding': 9} -> 得分 -39.35\n"
     ]
    },
    {
     "name": "stderr",
     "output_type": "stream",
     "text": [
      "[I 2025-03-09 05:16:36,344] Trial 130 finished with value: -39.35102233598523 and parameters: {'frequency': 14, 'rsiFrequency': 40, 'sellZoneDistance': 6, 'avgUpATRSum': 4, 'useAbsoluteRSIBarrier': True, 'barrierLevel': 50, 'pyramiding': 9}. Best is trial 103 with value: 0.9346633813289157.\n"
     ]
    },
    {
     "name": "stdout",
     "output_type": "stream",
     "text": [
      "[WLDUSDT-30min] Trial 130: 参数 {'frequency': 14, 'rsiFrequency': 40, 'sellZoneDistance': 6, 'avgUpATRSum': 4, 'useAbsoluteRSIBarrier': True, 'barrierLevel': 50, 'pyramiding': 9} -> 得分 -39.35\n"
     ]
    },
    {
     "name": "stderr",
     "output_type": "stream",
     "text": [
      "[I 2025-03-09 05:16:38,444] Trial 129 finished with value: -37.9411938568476 and parameters: {'frequency': 14, 'rsiFrequency': 40, 'sellZoneDistance': 3, 'avgUpATRSum': 4, 'useAbsoluteRSIBarrier': True, 'barrierLevel': 50, 'pyramiding': 9}. Best is trial 103 with value: 0.9346633813289157.\n"
     ]
    },
    {
     "name": "stdout",
     "output_type": "stream",
     "text": [
      "[WLDUSDT-30min] Trial 129: 参数 {'frequency': 14, 'rsiFrequency': 40, 'sellZoneDistance': 3, 'avgUpATRSum': 4, 'useAbsoluteRSIBarrier': True, 'barrierLevel': 50, 'pyramiding': 9} -> 得分 -37.94\n"
     ]
    },
    {
     "name": "stderr",
     "output_type": "stream",
     "text": [
      "[I 2025-03-09 05:16:40,832] Trial 131 finished with value: -39.35102233598523 and parameters: {'frequency': 14, 'rsiFrequency': 40, 'sellZoneDistance': 6, 'avgUpATRSum': 4, 'useAbsoluteRSIBarrier': True, 'barrierLevel': 50, 'pyramiding': 9}. Best is trial 103 with value: 0.9346633813289157.\n"
     ]
    },
    {
     "name": "stdout",
     "output_type": "stream",
     "text": [
      "[WLDUSDT-30min] Trial 131: 参数 {'frequency': 14, 'rsiFrequency': 40, 'sellZoneDistance': 6, 'avgUpATRSum': 4, 'useAbsoluteRSIBarrier': True, 'barrierLevel': 50, 'pyramiding': 9} -> 得分 -39.35\n"
     ]
    },
    {
     "name": "stderr",
     "output_type": "stream",
     "text": [
      "[I 2025-03-09 05:17:02,766] Trial 133 finished with value: -1.5661554386385996 and parameters: {'frequency': 14, 'rsiFrequency': 40, 'sellZoneDistance': 6, 'avgUpATRSum': 4, 'useAbsoluteRSIBarrier': False, 'barrierLevel': 50, 'pyramiding': 9}. Best is trial 103 with value: 0.9346633813289157.\n"
     ]
    },
    {
     "name": "stdout",
     "output_type": "stream",
     "text": [
      "[WLDUSDT-30min] Trial 133: 参数 {'frequency': 14, 'rsiFrequency': 40, 'sellZoneDistance': 6, 'avgUpATRSum': 4, 'useAbsoluteRSIBarrier': False, 'barrierLevel': 50, 'pyramiding': 9} -> 得分 -1.57\n"
     ]
    },
    {
     "name": "stderr",
     "output_type": "stream",
     "text": [
      "[I 2025-03-09 05:17:04,325] Trial 132 finished with value: -39.35102233598523 and parameters: {'frequency': 14, 'rsiFrequency': 40, 'sellZoneDistance': 6, 'avgUpATRSum': 4, 'useAbsoluteRSIBarrier': True, 'barrierLevel': 50, 'pyramiding': 9}. Best is trial 103 with value: 0.9346633813289157.\n"
     ]
    },
    {
     "name": "stdout",
     "output_type": "stream",
     "text": [
      "[WLDUSDT-30min] Trial 132: 参数 {'frequency': 14, 'rsiFrequency': 40, 'sellZoneDistance': 6, 'avgUpATRSum': 4, 'useAbsoluteRSIBarrier': True, 'barrierLevel': 50, 'pyramiding': 9} -> 得分 -39.35\n"
     ]
    },
    {
     "name": "stderr",
     "output_type": "stream",
     "text": [
      "[I 2025-03-09 05:17:13,567] Trial 136 finished with value: -37.9411938568476 and parameters: {'frequency': 14, 'rsiFrequency': 40, 'sellZoneDistance': 3, 'avgUpATRSum': 4, 'useAbsoluteRSIBarrier': True, 'barrierLevel': 50, 'pyramiding': 9}. Best is trial 103 with value: 0.9346633813289157.\n"
     ]
    },
    {
     "name": "stdout",
     "output_type": "stream",
     "text": [
      "[WLDUSDT-30min] Trial 136: 参数 {'frequency': 14, 'rsiFrequency': 40, 'sellZoneDistance': 3, 'avgUpATRSum': 4, 'useAbsoluteRSIBarrier': True, 'barrierLevel': 50, 'pyramiding': 9} -> 得分 -37.94\n"
     ]
    },
    {
     "name": "stderr",
     "output_type": "stream",
     "text": [
      "[I 2025-03-09 05:17:14,124] Trial 141 finished with value: -39.35102233598523 and parameters: {'frequency': 14, 'rsiFrequency': 40, 'sellZoneDistance': 6, 'avgUpATRSum': 4, 'useAbsoluteRSIBarrier': True, 'barrierLevel': 50, 'pyramiding': 9}. Best is trial 103 with value: 0.9346633813289157.\n",
      "[I 2025-03-09 05:17:15,535] Trial 140 finished with value: -39.35102233598523 and parameters: {'frequency': 14, 'rsiFrequency': 40, 'sellZoneDistance': 6, 'avgUpATRSum': 4, 'useAbsoluteRSIBarrier': True, 'barrierLevel': 50, 'pyramiding': 9}. Best is trial 103 with value: 0.9346633813289157.\n"
     ]
    },
    {
     "name": "stdout",
     "output_type": "stream",
     "text": [
      "[WLDUSDT-30min] Trial 141: 参数 {'frequency': 14, 'rsiFrequency': 40, 'sellZoneDistance': 6, 'avgUpATRSum': 4, 'useAbsoluteRSIBarrier': True, 'barrierLevel': 50, 'pyramiding': 9} -> 得分 -39.35\n",
      "[WLDUSDT-30min] Trial 140: 参数 {'frequency': 14, 'rsiFrequency': 40, 'sellZoneDistance': 6, 'avgUpATRSum': 4, 'useAbsoluteRSIBarrier': True, 'barrierLevel': 50, 'pyramiding': 9} -> 得分 -39.35\n"
     ]
    },
    {
     "name": "stderr",
     "output_type": "stream",
     "text": [
      "[I 2025-03-09 05:17:20,372] Trial 142 finished with value: -37.9411938568476 and parameters: {'frequency': 14, 'rsiFrequency': 40, 'sellZoneDistance': 3, 'avgUpATRSum': 4, 'useAbsoluteRSIBarrier': True, 'barrierLevel': 50, 'pyramiding': 9}. Best is trial 103 with value: 0.9346633813289157.\n"
     ]
    },
    {
     "name": "stdout",
     "output_type": "stream",
     "text": [
      "[WLDUSDT-30min] Trial 142: 参数 {'frequency': 14, 'rsiFrequency': 40, 'sellZoneDistance': 3, 'avgUpATRSum': 4, 'useAbsoluteRSIBarrier': True, 'barrierLevel': 50, 'pyramiding': 9} -> 得分 -37.94\n"
     ]
    },
    {
     "name": "stderr",
     "output_type": "stream",
     "text": [
      "[I 2025-03-09 05:17:23,734] Trial 139 finished with value: -1.5661554386385996 and parameters: {'frequency': 14, 'rsiFrequency': 40, 'sellZoneDistance': 6, 'avgUpATRSum': 4, 'useAbsoluteRSIBarrier': False, 'barrierLevel': 50, 'pyramiding': 9}. Best is trial 103 with value: 0.9346633813289157.\n"
     ]
    },
    {
     "name": "stdout",
     "output_type": "stream",
     "text": [
      "[WLDUSDT-30min] Trial 139: 参数 {'frequency': 14, 'rsiFrequency': 40, 'sellZoneDistance': 6, 'avgUpATRSum': 4, 'useAbsoluteRSIBarrier': False, 'barrierLevel': 50, 'pyramiding': 9} -> 得分 -1.57\n"
     ]
    },
    {
     "name": "stderr",
     "output_type": "stream",
     "text": [
      "[I 2025-03-09 05:17:25,556] Trial 138 finished with value: -39.35102233598523 and parameters: {'frequency': 14, 'rsiFrequency': 40, 'sellZoneDistance': 6, 'avgUpATRSum': 4, 'useAbsoluteRSIBarrier': True, 'barrierLevel': 50, 'pyramiding': 9}. Best is trial 103 with value: 0.9346633813289157.\n"
     ]
    },
    {
     "name": "stdout",
     "output_type": "stream",
     "text": [
      "[WLDUSDT-30min] Trial 138: 参数 {'frequency': 14, 'rsiFrequency': 40, 'sellZoneDistance': 6, 'avgUpATRSum': 4, 'useAbsoluteRSIBarrier': True, 'barrierLevel': 50, 'pyramiding': 9} -> 得分 -39.35\n"
     ]
    },
    {
     "name": "stderr",
     "output_type": "stream",
     "text": [
      "[I 2025-03-09 05:17:27,517] Trial 135 finished with value: -37.9411938568476 and parameters: {'frequency': 14, 'rsiFrequency': 40, 'sellZoneDistance': 3, 'avgUpATRSum': 4, 'useAbsoluteRSIBarrier': True, 'barrierLevel': 50, 'pyramiding': 9}. Best is trial 103 with value: 0.9346633813289157.\n"
     ]
    },
    {
     "name": "stdout",
     "output_type": "stream",
     "text": [
      "[WLDUSDT-30min] Trial 135: 参数 {'frequency': 14, 'rsiFrequency': 40, 'sellZoneDistance': 3, 'avgUpATRSum': 4, 'useAbsoluteRSIBarrier': True, 'barrierLevel': 50, 'pyramiding': 9} -> 得分 -37.94\n",
      "[WLDUSDT-30min] Trial 134: 参数 {'frequency': 14, 'rsiFrequency': 40, 'sellZoneDistance': 6, 'avgUpATRSum': 4, 'useAbsoluteRSIBarrier': True, 'barrierLevel': 50, 'pyramiding': 9} -> 得分 -39.35\n"
     ]
    },
    {
     "name": "stderr",
     "output_type": "stream",
     "text": [
      "[I 2025-03-09 05:17:29,928] Trial 134 finished with value: -39.35102233598523 and parameters: {'frequency': 14, 'rsiFrequency': 40, 'sellZoneDistance': 6, 'avgUpATRSum': 4, 'useAbsoluteRSIBarrier': True, 'barrierLevel': 50, 'pyramiding': 9}. Best is trial 103 with value: 0.9346633813289157.\n",
      "[I 2025-03-09 05:17:34,765] Trial 137 finished with value: -39.35102233598523 and parameters: {'frequency': 14, 'rsiFrequency': 40, 'sellZoneDistance': 6, 'avgUpATRSum': 4, 'useAbsoluteRSIBarrier': True, 'barrierLevel': 50, 'pyramiding': 9}. Best is trial 103 with value: 0.9346633813289157.\n"
     ]
    },
    {
     "name": "stdout",
     "output_type": "stream",
     "text": [
      "[WLDUSDT-30min] Trial 137: 参数 {'frequency': 14, 'rsiFrequency': 40, 'sellZoneDistance': 6, 'avgUpATRSum': 4, 'useAbsoluteRSIBarrier': True, 'barrierLevel': 50, 'pyramiding': 9} -> 得分 -39.35\n"
     ]
    },
    {
     "name": "stderr",
     "output_type": "stream",
     "text": [
      "[I 2025-03-09 05:17:45,794] Trial 144 finished with value: -37.9411938568476 and parameters: {'frequency': 14, 'rsiFrequency': 40, 'sellZoneDistance': 3, 'avgUpATRSum': 4, 'useAbsoluteRSIBarrier': True, 'barrierLevel': 50, 'pyramiding': 9}. Best is trial 103 with value: 0.9346633813289157.\n"
     ]
    },
    {
     "name": "stdout",
     "output_type": "stream",
     "text": [
      "[WLDUSDT-30min] Trial 144: 参数 {'frequency': 14, 'rsiFrequency': 40, 'sellZoneDistance': 3, 'avgUpATRSum': 4, 'useAbsoluteRSIBarrier': True, 'barrierLevel': 50, 'pyramiding': 9} -> 得分 -37.94\n"
     ]
    },
    {
     "name": "stderr",
     "output_type": "stream",
     "text": [
      "[I 2025-03-09 05:17:46,748] Trial 145 finished with value: -14.409985402387926 and parameters: {'frequency': 14, 'rsiFrequency': 40, 'sellZoneDistance': 3, 'avgUpATRSum': 4, 'useAbsoluteRSIBarrier': True, 'barrierLevel': 54, 'pyramiding': 9}. Best is trial 103 with value: 0.9346633813289157.\n"
     ]
    },
    {
     "name": "stdout",
     "output_type": "stream",
     "text": [
      "[WLDUSDT-30min] Trial 145: 参数 {'frequency': 14, 'rsiFrequency': 40, 'sellZoneDistance': 3, 'avgUpATRSum': 4, 'useAbsoluteRSIBarrier': True, 'barrierLevel': 54, 'pyramiding': 9} -> 得分 -14.41\n"
     ]
    },
    {
     "name": "stderr",
     "output_type": "stream",
     "text": [
      "[I 2025-03-09 05:17:49,907] Trial 143 finished with value: -14.409985402387926 and parameters: {'frequency': 14, 'rsiFrequency': 40, 'sellZoneDistance': 3, 'avgUpATRSum': 4, 'useAbsoluteRSIBarrier': True, 'barrierLevel': 54, 'pyramiding': 9}. Best is trial 103 with value: 0.9346633813289157.\n"
     ]
    },
    {
     "name": "stdout",
     "output_type": "stream",
     "text": [
      "[WLDUSDT-30min] Trial 143: 参数 {'frequency': 14, 'rsiFrequency': 40, 'sellZoneDistance': 3, 'avgUpATRSum': 4, 'useAbsoluteRSIBarrier': True, 'barrierLevel': 54, 'pyramiding': 9} -> 得分 -14.41\n"
     ]
    },
    {
     "name": "stderr",
     "output_type": "stream",
     "text": [
      "[I 2025-03-09 05:17:50,851] Trial 146 finished with value: -12.767776998006852 and parameters: {'frequency': 14, 'rsiFrequency': 40, 'sellZoneDistance': 3, 'avgUpATRSum': 4, 'useAbsoluteRSIBarrier': True, 'barrierLevel': 54, 'pyramiding': 10}. Best is trial 103 with value: 0.9346633813289157.\n"
     ]
    },
    {
     "name": "stdout",
     "output_type": "stream",
     "text": [
      "[WLDUSDT-30min] Trial 146: 参数 {'frequency': 14, 'rsiFrequency': 40, 'sellZoneDistance': 3, 'avgUpATRSum': 4, 'useAbsoluteRSIBarrier': True, 'barrierLevel': 54, 'pyramiding': 10} -> 得分 -12.77\n"
     ]
    },
    {
     "name": "stderr",
     "output_type": "stream",
     "text": [
      "[I 2025-03-09 05:17:58,879] Trial 147 finished with value: -12.767776998006852 and parameters: {'frequency': 14, 'rsiFrequency': 40, 'sellZoneDistance': 3, 'avgUpATRSum': 4, 'useAbsoluteRSIBarrier': True, 'barrierLevel': 54, 'pyramiding': 10}. Best is trial 103 with value: 0.9346633813289157.\n"
     ]
    },
    {
     "name": "stdout",
     "output_type": "stream",
     "text": [
      "[WLDUSDT-30min] Trial 147: 参数 {'frequency': 14, 'rsiFrequency': 40, 'sellZoneDistance': 3, 'avgUpATRSum': 4, 'useAbsoluteRSIBarrier': True, 'barrierLevel': 54, 'pyramiding': 10} -> 得分 -12.77\n"
     ]
    },
    {
     "name": "stderr",
     "output_type": "stream",
     "text": [
      "[I 2025-03-09 05:18:05,178] Trial 149 finished with value: -1.073656115122099 and parameters: {'frequency': 14, 'rsiFrequency': 40, 'sellZoneDistance': 3, 'avgUpATRSum': 4, 'useAbsoluteRSIBarrier': False, 'barrierLevel': 54, 'pyramiding': 10}. Best is trial 103 with value: 0.9346633813289157.\n"
     ]
    },
    {
     "name": "stdout",
     "output_type": "stream",
     "text": [
      "[WLDUSDT-30min] Trial 149: 参数 {'frequency': 14, 'rsiFrequency': 40, 'sellZoneDistance': 3, 'avgUpATRSum': 4, 'useAbsoluteRSIBarrier': False, 'barrierLevel': 54, 'pyramiding': 10} -> 得分 -1.07\n",
      "[WLDUSDT-30min] Trial 148: 参数 {'frequency': 14, 'rsiFrequency': 40, 'sellZoneDistance': 3, 'avgUpATRSum': 4, 'useAbsoluteRSIBarrier': True, 'barrierLevel': 54, 'pyramiding': 10} -> 得分 -12.77\n"
     ]
    },
    {
     "name": "stderr",
     "output_type": "stream",
     "text": [
      "[I 2025-03-09 05:18:05,237] Trial 148 finished with value: -12.767776998006852 and parameters: {'frequency': 14, 'rsiFrequency': 40, 'sellZoneDistance': 3, 'avgUpATRSum': 4, 'useAbsoluteRSIBarrier': True, 'barrierLevel': 54, 'pyramiding': 10}. Best is trial 103 with value: 0.9346633813289157.\n",
      "[I 2025-03-09 05:18:50,111] Trial 150 finished with value: -2.3773810818028265 and parameters: {'frequency': 14, 'rsiFrequency': 40, 'sellZoneDistance': 3, 'avgUpATRSum': 5, 'useAbsoluteRSIBarrier': False, 'barrierLevel': 54, 'pyramiding': 10}. Best is trial 103 with value: 0.9346633813289157.\n"
     ]
    },
    {
     "name": "stdout",
     "output_type": "stream",
     "text": [
      "[WLDUSDT-30min] Trial 150: 参数 {'frequency': 14, 'rsiFrequency': 40, 'sellZoneDistance': 3, 'avgUpATRSum': 5, 'useAbsoluteRSIBarrier': False, 'barrierLevel': 54, 'pyramiding': 10} -> 得分 -2.38\n"
     ]
    },
    {
     "name": "stderr",
     "output_type": "stream",
     "text": [
      "[I 2025-03-09 05:18:52,701] Trial 151 finished with value: -1.073656115122099 and parameters: {'frequency': 14, 'rsiFrequency': 40, 'sellZoneDistance': 3, 'avgUpATRSum': 4, 'useAbsoluteRSIBarrier': False, 'barrierLevel': 54, 'pyramiding': 10}. Best is trial 103 with value: 0.9346633813289157.\n"
     ]
    },
    {
     "name": "stdout",
     "output_type": "stream",
     "text": [
      "[WLDUSDT-30min] Trial 151: 参数 {'frequency': 14, 'rsiFrequency': 40, 'sellZoneDistance': 3, 'avgUpATRSum': 4, 'useAbsoluteRSIBarrier': False, 'barrierLevel': 54, 'pyramiding': 10} -> 得分 -1.07\n"
     ]
    },
    {
     "name": "stderr",
     "output_type": "stream",
     "text": [
      "[I 2025-03-09 05:18:54,746] Trial 157 finished with value: -1.073656115122099 and parameters: {'frequency': 14, 'rsiFrequency': 40, 'sellZoneDistance': 3, 'avgUpATRSum': 4, 'useAbsoluteRSIBarrier': False, 'barrierLevel': 54, 'pyramiding': 10}. Best is trial 103 with value: 0.9346633813289157.\n"
     ]
    },
    {
     "name": "stdout",
     "output_type": "stream",
     "text": [
      "[WLDUSDT-30min] Trial 157: 参数 {'frequency': 14, 'rsiFrequency': 40, 'sellZoneDistance': 3, 'avgUpATRSum': 4, 'useAbsoluteRSIBarrier': False, 'barrierLevel': 54, 'pyramiding': 10} -> 得分 -1.07\n"
     ]
    },
    {
     "name": "stderr",
     "output_type": "stream",
     "text": [
      "[I 2025-03-09 05:18:56,813] Trial 153 finished with value: -1.073656115122099 and parameters: {'frequency': 14, 'rsiFrequency': 40, 'sellZoneDistance': 3, 'avgUpATRSum': 4, 'useAbsoluteRSIBarrier': False, 'barrierLevel': 54, 'pyramiding': 10}. Best is trial 103 with value: 0.9346633813289157.\n",
      "[I 2025-03-09 05:18:57,065] Trial 155 finished with value: -1.073656115122099 and parameters: {'frequency': 14, 'rsiFrequency': 40, 'sellZoneDistance': 3, 'avgUpATRSum': 4, 'useAbsoluteRSIBarrier': False, 'barrierLevel': 54, 'pyramiding': 10}. Best is trial 103 with value: 0.9346633813289157.\n"
     ]
    },
    {
     "name": "stdout",
     "output_type": "stream",
     "text": [
      "[WLDUSDT-30min] Trial 153: 参数 {'frequency': 14, 'rsiFrequency': 40, 'sellZoneDistance': 3, 'avgUpATRSum': 4, 'useAbsoluteRSIBarrier': False, 'barrierLevel': 54, 'pyramiding': 10} -> 得分 -1.07\n",
      "[WLDUSDT-30min] Trial 155: 参数 {'frequency': 14, 'rsiFrequency': 40, 'sellZoneDistance': 3, 'avgUpATRSum': 4, 'useAbsoluteRSIBarrier': False, 'barrierLevel': 54, 'pyramiding': 10} -> 得分 -1.07\n"
     ]
    },
    {
     "name": "stderr",
     "output_type": "stream",
     "text": [
      "[I 2025-03-09 05:18:58,427] Trial 152 finished with value: -1.073656115122099 and parameters: {'frequency': 14, 'rsiFrequency': 40, 'sellZoneDistance': 3, 'avgUpATRSum': 4, 'useAbsoluteRSIBarrier': False, 'barrierLevel': 54, 'pyramiding': 10}. Best is trial 103 with value: 0.9346633813289157.\n"
     ]
    },
    {
     "name": "stdout",
     "output_type": "stream",
     "text": [
      "[WLDUSDT-30min] Trial 152: 参数 {'frequency': 14, 'rsiFrequency': 40, 'sellZoneDistance': 3, 'avgUpATRSum': 4, 'useAbsoluteRSIBarrier': False, 'barrierLevel': 54, 'pyramiding': 10} -> 得分 -1.07\n"
     ]
    },
    {
     "name": "stderr",
     "output_type": "stream",
     "text": [
      "[I 2025-03-09 05:18:59,560] Trial 154 finished with value: -1.073656115122099 and parameters: {'frequency': 14, 'rsiFrequency': 40, 'sellZoneDistance': 3, 'avgUpATRSum': 4, 'useAbsoluteRSIBarrier': False, 'barrierLevel': 54, 'pyramiding': 10}. Best is trial 103 with value: 0.9346633813289157.\n"
     ]
    },
    {
     "name": "stdout",
     "output_type": "stream",
     "text": [
      "[WLDUSDT-30min] Trial 154: 参数 {'frequency': 14, 'rsiFrequency': 40, 'sellZoneDistance': 3, 'avgUpATRSum': 4, 'useAbsoluteRSIBarrier': False, 'barrierLevel': 54, 'pyramiding': 10} -> 得分 -1.07\n"
     ]
    },
    {
     "name": "stderr",
     "output_type": "stream",
     "text": [
      "[I 2025-03-09 05:19:00,080] Trial 159 finished with value: -2.1756454574198454 and parameters: {'frequency': 14, 'rsiFrequency': 38, 'sellZoneDistance': 3, 'avgUpATRSum': 4, 'useAbsoluteRSIBarrier': False, 'barrierLevel': 54, 'pyramiding': 10}. Best is trial 103 with value: 0.9346633813289157.\n"
     ]
    },
    {
     "name": "stdout",
     "output_type": "stream",
     "text": [
      "[WLDUSDT-30min] Trial 159: 参数 {'frequency': 14, 'rsiFrequency': 38, 'sellZoneDistance': 3, 'avgUpATRSum': 4, 'useAbsoluteRSIBarrier': False, 'barrierLevel': 54, 'pyramiding': 10} -> 得分 -2.18\n"
     ]
    },
    {
     "name": "stderr",
     "output_type": "stream",
     "text": [
      "[I 2025-03-09 05:19:00,794] Trial 156 finished with value: -2.1756454574198454 and parameters: {'frequency': 14, 'rsiFrequency': 38, 'sellZoneDistance': 3, 'avgUpATRSum': 4, 'useAbsoluteRSIBarrier': False, 'barrierLevel': 54, 'pyramiding': 10}. Best is trial 103 with value: 0.9346633813289157.\n"
     ]
    },
    {
     "name": "stdout",
     "output_type": "stream",
     "text": [
      "[WLDUSDT-30min] Trial 156: 参数 {'frequency': 14, 'rsiFrequency': 38, 'sellZoneDistance': 3, 'avgUpATRSum': 4, 'useAbsoluteRSIBarrier': False, 'barrierLevel': 54, 'pyramiding': 10} -> 得分 -2.18\n"
     ]
    },
    {
     "name": "stderr",
     "output_type": "stream",
     "text": [
      "[I 2025-03-09 05:19:01,085] Trial 158 finished with value: -1.073656115122099 and parameters: {'frequency': 14, 'rsiFrequency': 40, 'sellZoneDistance': 3, 'avgUpATRSum': 4, 'useAbsoluteRSIBarrier': False, 'barrierLevel': 52, 'pyramiding': 10}. Best is trial 103 with value: 0.9346633813289157.\n"
     ]
    },
    {
     "name": "stdout",
     "output_type": "stream",
     "text": [
      "[WLDUSDT-30min] Trial 158: 参数 {'frequency': 14, 'rsiFrequency': 40, 'sellZoneDistance': 3, 'avgUpATRSum': 4, 'useAbsoluteRSIBarrier': False, 'barrierLevel': 52, 'pyramiding': 10} -> 得分 -1.07\n",
      "成功追加 5 条新记录（过滤掉 0 条重复记录）\n",
      "当前文件总共包含 2155 条记录\n",
      "[WLDUSDT-30min] 已保存最佳参数组合\n",
      "文件不存在: \\\\znas\\Main\\futures\\2024-01-01\\2024-01-01_KAITOUSDT_USDT_1m.csv\n",
      "文件不存在: \\\\znas\\Main\\futures\\2024-01-02\\2024-01-02_KAITOUSDT_USDT_1m.csv\n",
      "文件不存在: \\\\znas\\Main\\futures\\2024-01-03\\2024-01-03_KAITOUSDT_USDT_1m.csv\n",
      "文件不存在: \\\\znas\\Main\\futures\\2024-01-04\\2024-01-04_KAITOUSDT_USDT_1m.csv\n",
      "文件不存在: \\\\znas\\Main\\futures\\2024-01-05\\2024-01-05_KAITOUSDT_USDT_1m.csv\n",
      "文件不存在: \\\\znas\\Main\\futures\\2024-01-06\\2024-01-06_KAITOUSDT_USDT_1m.csv\n",
      "文件不存在: \\\\znas\\Main\\futures\\2024-01-07\\2024-01-07_KAITOUSDT_USDT_1m.csv\n",
      "文件不存在: \\\\znas\\Main\\futures\\2024-01-08\\2024-01-08_KAITOUSDT_USDT_1m.csv\n",
      "文件不存在: \\\\znas\\Main\\futures\\2024-01-09\\2024-01-09_KAITOUSDT_USDT_1m.csv\n",
      "文件不存在: \\\\znas\\Main\\futures\\2024-01-10\\2024-01-10_KAITOUSDT_USDT_1m.csv\n",
      "文件不存在: \\\\znas\\Main\\futures\\2024-01-11\\2024-01-11_KAITOUSDT_USDT_1m.csv\n",
      "文件不存在: \\\\znas\\Main\\futures\\2024-01-12\\2024-01-12_KAITOUSDT_USDT_1m.csv\n",
      "文件不存在: \\\\znas\\Main\\futures\\2024-01-13\\2024-01-13_KAITOUSDT_USDT_1m.csv\n",
      "文件不存在: \\\\znas\\Main\\futures\\2024-01-14\\2024-01-14_KAITOUSDT_USDT_1m.csv\n",
      "文件不存在: \\\\znas\\Main\\futures\\2024-01-15\\2024-01-15_KAITOUSDT_USDT_1m.csv\n",
      "文件不存在: \\\\znas\\Main\\futures\\2024-01-16\\2024-01-16_KAITOUSDT_USDT_1m.csv\n",
      "文件不存在: \\\\znas\\Main\\futures\\2024-01-17\\2024-01-17_KAITOUSDT_USDT_1m.csv\n",
      "文件不存在: \\\\znas\\Main\\futures\\2024-01-18\\2024-01-18_KAITOUSDT_USDT_1m.csv\n",
      "文件不存在: \\\\znas\\Main\\futures\\2024-01-19\\2024-01-19_KAITOUSDT_USDT_1m.csv\n",
      "文件不存在: \\\\znas\\Main\\futures\\2024-01-20\\2024-01-20_KAITOUSDT_USDT_1m.csv\n",
      "文件不存在: \\\\znas\\Main\\futures\\2024-01-21\\2024-01-21_KAITOUSDT_USDT_1m.csv\n",
      "文件不存在: \\\\znas\\Main\\futures\\2024-01-22\\2024-01-22_KAITOUSDT_USDT_1m.csv\n",
      "文件不存在: \\\\znas\\Main\\futures\\2024-01-23\\2024-01-23_KAITOUSDT_USDT_1m.csv\n",
      "文件不存在: \\\\znas\\Main\\futures\\2024-01-24\\2024-01-24_KAITOUSDT_USDT_1m.csv\n",
      "文件不存在: \\\\znas\\Main\\futures\\2024-01-25\\2024-01-25_KAITOUSDT_USDT_1m.csv\n",
      "文件不存在: \\\\znas\\Main\\futures\\2024-01-26\\2024-01-26_KAITOUSDT_USDT_1m.csv\n",
      "文件不存在: \\\\znas\\Main\\futures\\2024-01-27\\2024-01-27_KAITOUSDT_USDT_1m.csv\n",
      "文件不存在: \\\\znas\\Main\\futures\\2024-01-28\\2024-01-28_KAITOUSDT_USDT_1m.csv\n",
      "文件不存在: \\\\znas\\Main\\futures\\2024-01-29\\2024-01-29_KAITOUSDT_USDT_1m.csv\n",
      "文件不存在: \\\\znas\\Main\\futures\\2024-01-30\\2024-01-30_KAITOUSDT_USDT_1m.csv\n",
      "文件不存在: \\\\znas\\Main\\futures\\2024-01-31\\2024-01-31_KAITOUSDT_USDT_1m.csv\n",
      "文件不存在: \\\\znas\\Main\\futures\\2024-02-01\\2024-02-01_KAITOUSDT_USDT_1m.csv\n",
      "文件不存在: \\\\znas\\Main\\futures\\2024-02-02\\2024-02-02_KAITOUSDT_USDT_1m.csv\n",
      "文件不存在: \\\\znas\\Main\\futures\\2024-02-03\\2024-02-03_KAITOUSDT_USDT_1m.csv\n",
      "文件不存在: \\\\znas\\Main\\futures\\2024-02-04\\2024-02-04_KAITOUSDT_USDT_1m.csv\n",
      "文件不存在: \\\\znas\\Main\\futures\\2024-02-05\\2024-02-05_KAITOUSDT_USDT_1m.csv\n",
      "文件不存在: \\\\znas\\Main\\futures\\2024-02-06\\2024-02-06_KAITOUSDT_USDT_1m.csv\n",
      "文件不存在: \\\\znas\\Main\\futures\\2024-02-07\\2024-02-07_KAITOUSDT_USDT_1m.csv\n",
      "文件不存在: \\\\znas\\Main\\futures\\2024-02-08\\2024-02-08_KAITOUSDT_USDT_1m.csv\n",
      "文件不存在: \\\\znas\\Main\\futures\\2024-02-09\\2024-02-09_KAITOUSDT_USDT_1m.csv\n",
      "文件不存在: \\\\znas\\Main\\futures\\2024-02-10\\2024-02-10_KAITOUSDT_USDT_1m.csv\n",
      "文件不存在: \\\\znas\\Main\\futures\\2024-02-11\\2024-02-11_KAITOUSDT_USDT_1m.csv\n",
      "文件不存在: \\\\znas\\Main\\futures\\2024-02-12\\2024-02-12_KAITOUSDT_USDT_1m.csv\n",
      "文件不存在: \\\\znas\\Main\\futures\\2024-02-13\\2024-02-13_KAITOUSDT_USDT_1m.csv\n",
      "文件不存在: \\\\znas\\Main\\futures\\2024-02-14\\2024-02-14_KAITOUSDT_USDT_1m.csv\n",
      "文件不存在: \\\\znas\\Main\\futures\\2024-02-15\\2024-02-15_KAITOUSDT_USDT_1m.csv\n",
      "文件不存在: \\\\znas\\Main\\futures\\2024-02-16\\2024-02-16_KAITOUSDT_USDT_1m.csv\n",
      "文件不存在: \\\\znas\\Main\\futures\\2024-02-17\\2024-02-17_KAITOUSDT_USDT_1m.csv\n",
      "文件不存在: \\\\znas\\Main\\futures\\2024-02-18\\2024-02-18_KAITOUSDT_USDT_1m.csv\n",
      "文件不存在: \\\\znas\\Main\\futures\\2024-02-19\\2024-02-19_KAITOUSDT_USDT_1m.csv\n",
      "文件不存在: \\\\znas\\Main\\futures\\2024-02-20\\2024-02-20_KAITOUSDT_USDT_1m.csv\n",
      "文件不存在: \\\\znas\\Main\\futures\\2024-02-21\\2024-02-21_KAITOUSDT_USDT_1m.csv\n",
      "文件不存在: \\\\znas\\Main\\futures\\2024-02-22\\2024-02-22_KAITOUSDT_USDT_1m.csv\n",
      "文件不存在: \\\\znas\\Main\\futures\\2024-02-23\\2024-02-23_KAITOUSDT_USDT_1m.csv\n",
      "文件不存在: \\\\znas\\Main\\futures\\2024-02-24\\2024-02-24_KAITOUSDT_USDT_1m.csv\n",
      "文件不存在: \\\\znas\\Main\\futures\\2024-02-25\\2024-02-25_KAITOUSDT_USDT_1m.csv\n",
      "文件不存在: \\\\znas\\Main\\futures\\2024-02-26\\2024-02-26_KAITOUSDT_USDT_1m.csv\n",
      "文件不存在: \\\\znas\\Main\\futures\\2024-02-27\\2024-02-27_KAITOUSDT_USDT_1m.csv\n",
      "文件不存在: \\\\znas\\Main\\futures\\2024-02-28\\2024-02-28_KAITOUSDT_USDT_1m.csv\n",
      "文件不存在: \\\\znas\\Main\\futures\\2024-02-29\\2024-02-29_KAITOUSDT_USDT_1m.csv\n",
      "文件不存在: \\\\znas\\Main\\futures\\2024-03-01\\2024-03-01_KAITOUSDT_USDT_1m.csv\n",
      "文件不存在: \\\\znas\\Main\\futures\\2024-03-02\\2024-03-02_KAITOUSDT_USDT_1m.csv\n",
      "文件不存在: \\\\znas\\Main\\futures\\2024-03-03\\2024-03-03_KAITOUSDT_USDT_1m.csv\n",
      "文件不存在: \\\\znas\\Main\\futures\\2024-03-04\\2024-03-04_KAITOUSDT_USDT_1m.csv\n",
      "文件不存在: \\\\znas\\Main\\futures\\2024-03-05\\2024-03-05_KAITOUSDT_USDT_1m.csv\n",
      "文件不存在: \\\\znas\\Main\\futures\\2024-03-06\\2024-03-06_KAITOUSDT_USDT_1m.csv\n",
      "文件不存在: \\\\znas\\Main\\futures\\2024-03-07\\2024-03-07_KAITOUSDT_USDT_1m.csv\n",
      "文件不存在: \\\\znas\\Main\\futures\\2024-03-08\\2024-03-08_KAITOUSDT_USDT_1m.csv\n",
      "文件不存在: \\\\znas\\Main\\futures\\2024-03-09\\2024-03-09_KAITOUSDT_USDT_1m.csv\n",
      "文件不存在: \\\\znas\\Main\\futures\\2024-03-10\\2024-03-10_KAITOUSDT_USDT_1m.csv\n",
      "文件不存在: \\\\znas\\Main\\futures\\2024-03-11\\2024-03-11_KAITOUSDT_USDT_1m.csv\n",
      "文件不存在: \\\\znas\\Main\\futures\\2024-03-12\\2024-03-12_KAITOUSDT_USDT_1m.csv\n",
      "文件不存在: \\\\znas\\Main\\futures\\2024-03-13\\2024-03-13_KAITOUSDT_USDT_1m.csv\n",
      "文件不存在: \\\\znas\\Main\\futures\\2024-03-14\\2024-03-14_KAITOUSDT_USDT_1m.csv\n",
      "文件不存在: \\\\znas\\Main\\futures\\2024-03-15\\2024-03-15_KAITOUSDT_USDT_1m.csv\n",
      "文件不存在: \\\\znas\\Main\\futures\\2024-03-16\\2024-03-16_KAITOUSDT_USDT_1m.csv\n",
      "文件不存在: \\\\znas\\Main\\futures\\2024-03-17\\2024-03-17_KAITOUSDT_USDT_1m.csv\n",
      "文件不存在: \\\\znas\\Main\\futures\\2024-03-18\\2024-03-18_KAITOUSDT_USDT_1m.csv\n",
      "文件不存在: \\\\znas\\Main\\futures\\2024-03-19\\2024-03-19_KAITOUSDT_USDT_1m.csv\n",
      "文件不存在: \\\\znas\\Main\\futures\\2024-03-20\\2024-03-20_KAITOUSDT_USDT_1m.csv\n",
      "文件不存在: \\\\znas\\Main\\futures\\2024-03-21\\2024-03-21_KAITOUSDT_USDT_1m.csv\n",
      "文件不存在: \\\\znas\\Main\\futures\\2024-03-22\\2024-03-22_KAITOUSDT_USDT_1m.csv\n",
      "文件不存在: \\\\znas\\Main\\futures\\2024-03-23\\2024-03-23_KAITOUSDT_USDT_1m.csv\n",
      "文件不存在: \\\\znas\\Main\\futures\\2024-03-24\\2024-03-24_KAITOUSDT_USDT_1m.csv\n",
      "文件不存在: \\\\znas\\Main\\futures\\2024-03-25\\2024-03-25_KAITOUSDT_USDT_1m.csv\n",
      "文件不存在: \\\\znas\\Main\\futures\\2024-03-26\\2024-03-26_KAITOUSDT_USDT_1m.csv\n",
      "文件不存在: \\\\znas\\Main\\futures\\2024-03-27\\2024-03-27_KAITOUSDT_USDT_1m.csv\n",
      "文件不存在: \\\\znas\\Main\\futures\\2024-03-28\\2024-03-28_KAITOUSDT_USDT_1m.csv\n",
      "文件不存在: \\\\znas\\Main\\futures\\2024-03-29\\2024-03-29_KAITOUSDT_USDT_1m.csv\n",
      "文件不存在: \\\\znas\\Main\\futures\\2024-03-30\\2024-03-30_KAITOUSDT_USDT_1m.csv\n",
      "文件不存在: \\\\znas\\Main\\futures\\2024-03-31\\2024-03-31_KAITOUSDT_USDT_1m.csv\n",
      "文件不存在: \\\\znas\\Main\\futures\\2024-04-01\\2024-04-01_KAITOUSDT_USDT_1m.csv\n",
      "文件不存在: \\\\znas\\Main\\futures\\2024-04-02\\2024-04-02_KAITOUSDT_USDT_1m.csv\n",
      "文件不存在: \\\\znas\\Main\\futures\\2024-04-03\\2024-04-03_KAITOUSDT_USDT_1m.csv\n",
      "文件不存在: \\\\znas\\Main\\futures\\2024-04-04\\2024-04-04_KAITOUSDT_USDT_1m.csv\n",
      "文件不存在: \\\\znas\\Main\\futures\\2024-04-05\\2024-04-05_KAITOUSDT_USDT_1m.csv\n",
      "文件不存在: \\\\znas\\Main\\futures\\2024-04-06\\2024-04-06_KAITOUSDT_USDT_1m.csv\n",
      "文件不存在: \\\\znas\\Main\\futures\\2024-04-07\\2024-04-07_KAITOUSDT_USDT_1m.csv\n",
      "文件不存在: \\\\znas\\Main\\futures\\2024-04-08\\2024-04-08_KAITOUSDT_USDT_1m.csv\n",
      "文件不存在: \\\\znas\\Main\\futures\\2024-04-09\\2024-04-09_KAITOUSDT_USDT_1m.csv\n",
      "文件不存在: \\\\znas\\Main\\futures\\2024-04-10\\2024-04-10_KAITOUSDT_USDT_1m.csv\n",
      "文件不存在: \\\\znas\\Main\\futures\\2024-04-11\\2024-04-11_KAITOUSDT_USDT_1m.csv\n",
      "文件不存在: \\\\znas\\Main\\futures\\2024-04-12\\2024-04-12_KAITOUSDT_USDT_1m.csv\n",
      "文件不存在: \\\\znas\\Main\\futures\\2024-04-13\\2024-04-13_KAITOUSDT_USDT_1m.csv\n",
      "文件不存在: \\\\znas\\Main\\futures\\2024-04-14\\2024-04-14_KAITOUSDT_USDT_1m.csv\n",
      "文件不存在: \\\\znas\\Main\\futures\\2024-04-15\\2024-04-15_KAITOUSDT_USDT_1m.csv\n",
      "文件不存在: \\\\znas\\Main\\futures\\2024-04-16\\2024-04-16_KAITOUSDT_USDT_1m.csv\n",
      "文件不存在: \\\\znas\\Main\\futures\\2024-04-17\\2024-04-17_KAITOUSDT_USDT_1m.csv\n",
      "文件不存在: \\\\znas\\Main\\futures\\2024-04-18\\2024-04-18_KAITOUSDT_USDT_1m.csv\n",
      "文件不存在: \\\\znas\\Main\\futures\\2024-04-19\\2024-04-19_KAITOUSDT_USDT_1m.csv\n",
      "文件不存在: \\\\znas\\Main\\futures\\2024-04-20\\2024-04-20_KAITOUSDT_USDT_1m.csv\n",
      "文件不存在: \\\\znas\\Main\\futures\\2024-04-21\\2024-04-21_KAITOUSDT_USDT_1m.csv\n",
      "文件不存在: \\\\znas\\Main\\futures\\2024-04-22\\2024-04-22_KAITOUSDT_USDT_1m.csv\n",
      "文件不存在: \\\\znas\\Main\\futures\\2024-04-23\\2024-04-23_KAITOUSDT_USDT_1m.csv\n",
      "文件不存在: \\\\znas\\Main\\futures\\2024-04-24\\2024-04-24_KAITOUSDT_USDT_1m.csv\n",
      "文件不存在: \\\\znas\\Main\\futures\\2024-04-25\\2024-04-25_KAITOUSDT_USDT_1m.csv\n",
      "文件不存在: \\\\znas\\Main\\futures\\2024-04-26\\2024-04-26_KAITOUSDT_USDT_1m.csv\n",
      "文件不存在: \\\\znas\\Main\\futures\\2024-04-27\\2024-04-27_KAITOUSDT_USDT_1m.csv\n",
      "文件不存在: \\\\znas\\Main\\futures\\2024-04-28\\2024-04-28_KAITOUSDT_USDT_1m.csv\n",
      "文件不存在: \\\\znas\\Main\\futures\\2024-04-29\\2024-04-29_KAITOUSDT_USDT_1m.csv\n",
      "文件不存在: \\\\znas\\Main\\futures\\2024-04-30\\2024-04-30_KAITOUSDT_USDT_1m.csv\n",
      "文件不存在: \\\\znas\\Main\\futures\\2024-05-01\\2024-05-01_KAITOUSDT_USDT_1m.csv\n",
      "文件不存在: \\\\znas\\Main\\futures\\2024-05-02\\2024-05-02_KAITOUSDT_USDT_1m.csv\n",
      "文件不存在: \\\\znas\\Main\\futures\\2024-05-03\\2024-05-03_KAITOUSDT_USDT_1m.csv\n",
      "文件不存在: \\\\znas\\Main\\futures\\2024-05-04\\2024-05-04_KAITOUSDT_USDT_1m.csv\n",
      "文件不存在: \\\\znas\\Main\\futures\\2024-05-05\\2024-05-05_KAITOUSDT_USDT_1m.csv\n",
      "文件不存在: \\\\znas\\Main\\futures\\2024-05-06\\2024-05-06_KAITOUSDT_USDT_1m.csv\n",
      "文件不存在: \\\\znas\\Main\\futures\\2024-05-07\\2024-05-07_KAITOUSDT_USDT_1m.csv\n",
      "文件不存在: \\\\znas\\Main\\futures\\2024-05-08\\2024-05-08_KAITOUSDT_USDT_1m.csv\n",
      "文件不存在: \\\\znas\\Main\\futures\\2024-05-09\\2024-05-09_KAITOUSDT_USDT_1m.csv\n",
      "文件不存在: \\\\znas\\Main\\futures\\2024-05-10\\2024-05-10_KAITOUSDT_USDT_1m.csv\n",
      "文件不存在: \\\\znas\\Main\\futures\\2024-05-11\\2024-05-11_KAITOUSDT_USDT_1m.csv\n",
      "文件不存在: \\\\znas\\Main\\futures\\2024-05-12\\2024-05-12_KAITOUSDT_USDT_1m.csv\n",
      "文件不存在: \\\\znas\\Main\\futures\\2024-05-13\\2024-05-13_KAITOUSDT_USDT_1m.csv\n",
      "文件不存在: \\\\znas\\Main\\futures\\2024-05-14\\2024-05-14_KAITOUSDT_USDT_1m.csv\n",
      "文件不存在: \\\\znas\\Main\\futures\\2024-05-15\\2024-05-15_KAITOUSDT_USDT_1m.csv\n",
      "文件不存在: \\\\znas\\Main\\futures\\2024-05-16\\2024-05-16_KAITOUSDT_USDT_1m.csv\n",
      "文件不存在: \\\\znas\\Main\\futures\\2024-05-17\\2024-05-17_KAITOUSDT_USDT_1m.csv\n",
      "文件不存在: \\\\znas\\Main\\futures\\2024-05-18\\2024-05-18_KAITOUSDT_USDT_1m.csv\n",
      "文件不存在: \\\\znas\\Main\\futures\\2024-05-19\\2024-05-19_KAITOUSDT_USDT_1m.csv\n",
      "文件不存在: \\\\znas\\Main\\futures\\2024-05-20\\2024-05-20_KAITOUSDT_USDT_1m.csv\n",
      "文件不存在: \\\\znas\\Main\\futures\\2024-05-21\\2024-05-21_KAITOUSDT_USDT_1m.csv\n",
      "文件不存在: \\\\znas\\Main\\futures\\2024-05-22\\2024-05-22_KAITOUSDT_USDT_1m.csv\n",
      "文件不存在: \\\\znas\\Main\\futures\\2024-05-23\\2024-05-23_KAITOUSDT_USDT_1m.csv\n",
      "文件不存在: \\\\znas\\Main\\futures\\2024-05-24\\2024-05-24_KAITOUSDT_USDT_1m.csv\n",
      "文件不存在: \\\\znas\\Main\\futures\\2024-05-25\\2024-05-25_KAITOUSDT_USDT_1m.csv\n",
      "文件不存在: \\\\znas\\Main\\futures\\2024-05-26\\2024-05-26_KAITOUSDT_USDT_1m.csv\n",
      "文件不存在: \\\\znas\\Main\\futures\\2024-05-27\\2024-05-27_KAITOUSDT_USDT_1m.csv\n",
      "文件不存在: \\\\znas\\Main\\futures\\2024-05-28\\2024-05-28_KAITOUSDT_USDT_1m.csv\n",
      "文件不存在: \\\\znas\\Main\\futures\\2024-05-29\\2024-05-29_KAITOUSDT_USDT_1m.csv\n",
      "文件不存在: \\\\znas\\Main\\futures\\2024-05-30\\2024-05-30_KAITOUSDT_USDT_1m.csv\n",
      "文件不存在: \\\\znas\\Main\\futures\\2024-05-31\\2024-05-31_KAITOUSDT_USDT_1m.csv\n",
      "文件不存在: \\\\znas\\Main\\futures\\2024-06-01\\2024-06-01_KAITOUSDT_USDT_1m.csv\n",
      "文件不存在: \\\\znas\\Main\\futures\\2024-06-02\\2024-06-02_KAITOUSDT_USDT_1m.csv\n",
      "文件不存在: \\\\znas\\Main\\futures\\2024-06-03\\2024-06-03_KAITOUSDT_USDT_1m.csv\n",
      "文件不存在: \\\\znas\\Main\\futures\\2024-06-04\\2024-06-04_KAITOUSDT_USDT_1m.csv\n",
      "文件不存在: \\\\znas\\Main\\futures\\2024-06-05\\2024-06-05_KAITOUSDT_USDT_1m.csv\n",
      "文件不存在: \\\\znas\\Main\\futures\\2024-06-06\\2024-06-06_KAITOUSDT_USDT_1m.csv\n",
      "文件不存在: \\\\znas\\Main\\futures\\2024-06-07\\2024-06-07_KAITOUSDT_USDT_1m.csv\n",
      "文件不存在: \\\\znas\\Main\\futures\\2024-06-08\\2024-06-08_KAITOUSDT_USDT_1m.csv\n",
      "文件不存在: \\\\znas\\Main\\futures\\2024-06-09\\2024-06-09_KAITOUSDT_USDT_1m.csv\n",
      "文件不存在: \\\\znas\\Main\\futures\\2024-06-10\\2024-06-10_KAITOUSDT_USDT_1m.csv\n",
      "文件不存在: \\\\znas\\Main\\futures\\2024-06-11\\2024-06-11_KAITOUSDT_USDT_1m.csv\n",
      "文件不存在: \\\\znas\\Main\\futures\\2024-06-12\\2024-06-12_KAITOUSDT_USDT_1m.csv\n",
      "文件不存在: \\\\znas\\Main\\futures\\2024-06-13\\2024-06-13_KAITOUSDT_USDT_1m.csv\n",
      "文件不存在: \\\\znas\\Main\\futures\\2024-06-14\\2024-06-14_KAITOUSDT_USDT_1m.csv\n",
      "文件不存在: \\\\znas\\Main\\futures\\2024-06-15\\2024-06-15_KAITOUSDT_USDT_1m.csv\n",
      "文件不存在: \\\\znas\\Main\\futures\\2024-06-16\\2024-06-16_KAITOUSDT_USDT_1m.csv\n",
      "文件不存在: \\\\znas\\Main\\futures\\2024-06-17\\2024-06-17_KAITOUSDT_USDT_1m.csv\n",
      "文件不存在: \\\\znas\\Main\\futures\\2024-06-18\\2024-06-18_KAITOUSDT_USDT_1m.csv\n",
      "文件不存在: \\\\znas\\Main\\futures\\2024-06-19\\2024-06-19_KAITOUSDT_USDT_1m.csv\n",
      "文件不存在: \\\\znas\\Main\\futures\\2024-06-20\\2024-06-20_KAITOUSDT_USDT_1m.csv\n",
      "文件不存在: \\\\znas\\Main\\futures\\2024-06-21\\2024-06-21_KAITOUSDT_USDT_1m.csv\n",
      "文件不存在: \\\\znas\\Main\\futures\\2024-06-22\\2024-06-22_KAITOUSDT_USDT_1m.csv\n",
      "文件不存在: \\\\znas\\Main\\futures\\2024-06-23\\2024-06-23_KAITOUSDT_USDT_1m.csv\n",
      "文件不存在: \\\\znas\\Main\\futures\\2024-06-24\\2024-06-24_KAITOUSDT_USDT_1m.csv\n",
      "文件不存在: \\\\znas\\Main\\futures\\2024-06-25\\2024-06-25_KAITOUSDT_USDT_1m.csv\n",
      "文件不存在: \\\\znas\\Main\\futures\\2024-06-26\\2024-06-26_KAITOUSDT_USDT_1m.csv\n",
      "文件不存在: \\\\znas\\Main\\futures\\2024-06-27\\2024-06-27_KAITOUSDT_USDT_1m.csv\n",
      "文件不存在: \\\\znas\\Main\\futures\\2024-06-28\\2024-06-28_KAITOUSDT_USDT_1m.csv\n",
      "文件不存在: \\\\znas\\Main\\futures\\2024-06-29\\2024-06-29_KAITOUSDT_USDT_1m.csv\n",
      "文件不存在: \\\\znas\\Main\\futures\\2024-06-30\\2024-06-30_KAITOUSDT_USDT_1m.csv\n",
      "文件不存在: \\\\znas\\Main\\futures\\2024-07-01\\2024-07-01_KAITOUSDT_USDT_1m.csv\n",
      "文件不存在: \\\\znas\\Main\\futures\\2024-07-02\\2024-07-02_KAITOUSDT_USDT_1m.csv\n",
      "文件不存在: \\\\znas\\Main\\futures\\2024-07-03\\2024-07-03_KAITOUSDT_USDT_1m.csv\n",
      "文件不存在: \\\\znas\\Main\\futures\\2024-07-04\\2024-07-04_KAITOUSDT_USDT_1m.csv\n",
      "文件不存在: \\\\znas\\Main\\futures\\2024-07-05\\2024-07-05_KAITOUSDT_USDT_1m.csv\n",
      "文件不存在: \\\\znas\\Main\\futures\\2024-07-06\\2024-07-06_KAITOUSDT_USDT_1m.csv\n",
      "文件不存在: \\\\znas\\Main\\futures\\2024-07-07\\2024-07-07_KAITOUSDT_USDT_1m.csv\n",
      "文件不存在: \\\\znas\\Main\\futures\\2024-07-08\\2024-07-08_KAITOUSDT_USDT_1m.csv\n",
      "文件不存在: \\\\znas\\Main\\futures\\2024-07-09\\2024-07-09_KAITOUSDT_USDT_1m.csv\n",
      "文件不存在: \\\\znas\\Main\\futures\\2024-07-10\\2024-07-10_KAITOUSDT_USDT_1m.csv\n",
      "文件不存在: \\\\znas\\Main\\futures\\2024-07-11\\2024-07-11_KAITOUSDT_USDT_1m.csv\n",
      "文件不存在: \\\\znas\\Main\\futures\\2024-07-12\\2024-07-12_KAITOUSDT_USDT_1m.csv\n",
      "文件不存在: \\\\znas\\Main\\futures\\2024-07-13\\2024-07-13_KAITOUSDT_USDT_1m.csv\n",
      "文件不存在: \\\\znas\\Main\\futures\\2024-07-14\\2024-07-14_KAITOUSDT_USDT_1m.csv\n",
      "文件不存在: \\\\znas\\Main\\futures\\2024-07-15\\2024-07-15_KAITOUSDT_USDT_1m.csv\n",
      "文件不存在: \\\\znas\\Main\\futures\\2024-07-16\\2024-07-16_KAITOUSDT_USDT_1m.csv\n",
      "文件不存在: \\\\znas\\Main\\futures\\2024-07-17\\2024-07-17_KAITOUSDT_USDT_1m.csv\n",
      "文件不存在: \\\\znas\\Main\\futures\\2024-07-18\\2024-07-18_KAITOUSDT_USDT_1m.csv\n",
      "文件不存在: \\\\znas\\Main\\futures\\2024-07-19\\2024-07-19_KAITOUSDT_USDT_1m.csv\n",
      "文件不存在: \\\\znas\\Main\\futures\\2024-07-20\\2024-07-20_KAITOUSDT_USDT_1m.csv\n",
      "文件不存在: \\\\znas\\Main\\futures\\2024-07-21\\2024-07-21_KAITOUSDT_USDT_1m.csv\n",
      "文件不存在: \\\\znas\\Main\\futures\\2024-07-22\\2024-07-22_KAITOUSDT_USDT_1m.csv\n",
      "文件不存在: \\\\znas\\Main\\futures\\2024-07-23\\2024-07-23_KAITOUSDT_USDT_1m.csv\n",
      "文件不存在: \\\\znas\\Main\\futures\\2024-07-24\\2024-07-24_KAITOUSDT_USDT_1m.csv\n",
      "文件不存在: \\\\znas\\Main\\futures\\2024-07-25\\2024-07-25_KAITOUSDT_USDT_1m.csv\n",
      "文件不存在: \\\\znas\\Main\\futures\\2024-07-26\\2024-07-26_KAITOUSDT_USDT_1m.csv\n",
      "文件不存在: \\\\znas\\Main\\futures\\2024-07-27\\2024-07-27_KAITOUSDT_USDT_1m.csv\n",
      "文件不存在: \\\\znas\\Main\\futures\\2024-07-28\\2024-07-28_KAITOUSDT_USDT_1m.csv\n",
      "文件不存在: \\\\znas\\Main\\futures\\2024-07-29\\2024-07-29_KAITOUSDT_USDT_1m.csv\n",
      "文件不存在: \\\\znas\\Main\\futures\\2024-07-30\\2024-07-30_KAITOUSDT_USDT_1m.csv\n",
      "文件不存在: \\\\znas\\Main\\futures\\2024-07-31\\2024-07-31_KAITOUSDT_USDT_1m.csv\n",
      "文件不存在: \\\\znas\\Main\\futures\\2024-08-01\\2024-08-01_KAITOUSDT_USDT_1m.csv\n",
      "文件不存在: \\\\znas\\Main\\futures\\2024-08-02\\2024-08-02_KAITOUSDT_USDT_1m.csv\n",
      "文件不存在: \\\\znas\\Main\\futures\\2024-08-03\\2024-08-03_KAITOUSDT_USDT_1m.csv\n",
      "文件不存在: \\\\znas\\Main\\futures\\2024-08-04\\2024-08-04_KAITOUSDT_USDT_1m.csv\n",
      "文件不存在: \\\\znas\\Main\\futures\\2024-08-05\\2024-08-05_KAITOUSDT_USDT_1m.csv\n",
      "文件不存在: \\\\znas\\Main\\futures\\2024-08-06\\2024-08-06_KAITOUSDT_USDT_1m.csv\n",
      "文件不存在: \\\\znas\\Main\\futures\\2024-08-07\\2024-08-07_KAITOUSDT_USDT_1m.csv\n",
      "文件不存在: \\\\znas\\Main\\futures\\2024-08-08\\2024-08-08_KAITOUSDT_USDT_1m.csv\n",
      "文件不存在: \\\\znas\\Main\\futures\\2024-08-09\\2024-08-09_KAITOUSDT_USDT_1m.csv\n",
      "文件不存在: \\\\znas\\Main\\futures\\2024-08-10\\2024-08-10_KAITOUSDT_USDT_1m.csv\n",
      "文件不存在: \\\\znas\\Main\\futures\\2024-08-11\\2024-08-11_KAITOUSDT_USDT_1m.csv\n",
      "文件不存在: \\\\znas\\Main\\futures\\2024-08-12\\2024-08-12_KAITOUSDT_USDT_1m.csv\n",
      "文件不存在: \\\\znas\\Main\\futures\\2024-08-13\\2024-08-13_KAITOUSDT_USDT_1m.csv\n",
      "文件不存在: \\\\znas\\Main\\futures\\2024-08-14\\2024-08-14_KAITOUSDT_USDT_1m.csv\n",
      "文件不存在: \\\\znas\\Main\\futures\\2024-08-15\\2024-08-15_KAITOUSDT_USDT_1m.csv\n",
      "文件不存在: \\\\znas\\Main\\futures\\2024-08-16\\2024-08-16_KAITOUSDT_USDT_1m.csv\n",
      "文件不存在: \\\\znas\\Main\\futures\\2024-08-17\\2024-08-17_KAITOUSDT_USDT_1m.csv\n",
      "文件不存在: \\\\znas\\Main\\futures\\2024-08-18\\2024-08-18_KAITOUSDT_USDT_1m.csv\n",
      "文件不存在: \\\\znas\\Main\\futures\\2024-08-19\\2024-08-19_KAITOUSDT_USDT_1m.csv\n",
      "文件不存在: \\\\znas\\Main\\futures\\2024-08-20\\2024-08-20_KAITOUSDT_USDT_1m.csv\n",
      "文件不存在: \\\\znas\\Main\\futures\\2024-08-21\\2024-08-21_KAITOUSDT_USDT_1m.csv\n",
      "文件不存在: \\\\znas\\Main\\futures\\2024-08-22\\2024-08-22_KAITOUSDT_USDT_1m.csv\n",
      "文件不存在: \\\\znas\\Main\\futures\\2024-08-23\\2024-08-23_KAITOUSDT_USDT_1m.csv\n",
      "文件不存在: \\\\znas\\Main\\futures\\2024-08-24\\2024-08-24_KAITOUSDT_USDT_1m.csv\n",
      "文件不存在: \\\\znas\\Main\\futures\\2024-08-25\\2024-08-25_KAITOUSDT_USDT_1m.csv\n",
      "文件不存在: \\\\znas\\Main\\futures\\2024-08-26\\2024-08-26_KAITOUSDT_USDT_1m.csv\n",
      "文件不存在: \\\\znas\\Main\\futures\\2024-08-27\\2024-08-27_KAITOUSDT_USDT_1m.csv\n",
      "文件不存在: \\\\znas\\Main\\futures\\2024-08-28\\2024-08-28_KAITOUSDT_USDT_1m.csv\n",
      "文件不存在: \\\\znas\\Main\\futures\\2024-08-29\\2024-08-29_KAITOUSDT_USDT_1m.csv\n",
      "文件不存在: \\\\znas\\Main\\futures\\2024-08-30\\2024-08-30_KAITOUSDT_USDT_1m.csv\n",
      "文件不存在: \\\\znas\\Main\\futures\\2024-08-31\\2024-08-31_KAITOUSDT_USDT_1m.csv\n",
      "文件不存在: \\\\znas\\Main\\futures\\2024-09-01\\2024-09-01_KAITOUSDT_USDT_1m.csv\n",
      "文件不存在: \\\\znas\\Main\\futures\\2024-09-02\\2024-09-02_KAITOUSDT_USDT_1m.csv\n",
      "文件不存在: \\\\znas\\Main\\futures\\2024-09-03\\2024-09-03_KAITOUSDT_USDT_1m.csv\n",
      "文件不存在: \\\\znas\\Main\\futures\\2024-09-04\\2024-09-04_KAITOUSDT_USDT_1m.csv\n",
      "文件不存在: \\\\znas\\Main\\futures\\2024-09-05\\2024-09-05_KAITOUSDT_USDT_1m.csv\n",
      "文件不存在: \\\\znas\\Main\\futures\\2024-09-06\\2024-09-06_KAITOUSDT_USDT_1m.csv\n",
      "文件不存在: \\\\znas\\Main\\futures\\2024-09-07\\2024-09-07_KAITOUSDT_USDT_1m.csv\n",
      "文件不存在: \\\\znas\\Main\\futures\\2024-09-08\\2024-09-08_KAITOUSDT_USDT_1m.csv\n",
      "文件不存在: \\\\znas\\Main\\futures\\2024-09-09\\2024-09-09_KAITOUSDT_USDT_1m.csv\n",
      "文件不存在: \\\\znas\\Main\\futures\\2024-09-10\\2024-09-10_KAITOUSDT_USDT_1m.csv\n",
      "文件不存在: \\\\znas\\Main\\futures\\2024-09-11\\2024-09-11_KAITOUSDT_USDT_1m.csv\n",
      "文件不存在: \\\\znas\\Main\\futures\\2024-09-12\\2024-09-12_KAITOUSDT_USDT_1m.csv\n",
      "文件不存在: \\\\znas\\Main\\futures\\2024-09-13\\2024-09-13_KAITOUSDT_USDT_1m.csv\n",
      "文件不存在: \\\\znas\\Main\\futures\\2024-09-14\\2024-09-14_KAITOUSDT_USDT_1m.csv\n",
      "文件不存在: \\\\znas\\Main\\futures\\2024-09-15\\2024-09-15_KAITOUSDT_USDT_1m.csv\n",
      "文件不存在: \\\\znas\\Main\\futures\\2024-09-16\\2024-09-16_KAITOUSDT_USDT_1m.csv\n",
      "文件不存在: \\\\znas\\Main\\futures\\2024-09-17\\2024-09-17_KAITOUSDT_USDT_1m.csv\n",
      "文件不存在: \\\\znas\\Main\\futures\\2024-09-18\\2024-09-18_KAITOUSDT_USDT_1m.csv\n",
      "文件不存在: \\\\znas\\Main\\futures\\2024-09-19\\2024-09-19_KAITOUSDT_USDT_1m.csv\n",
      "文件不存在: \\\\znas\\Main\\futures\\2024-09-20\\2024-09-20_KAITOUSDT_USDT_1m.csv\n",
      "文件不存在: \\\\znas\\Main\\futures\\2024-09-21\\2024-09-21_KAITOUSDT_USDT_1m.csv\n",
      "文件不存在: \\\\znas\\Main\\futures\\2024-09-22\\2024-09-22_KAITOUSDT_USDT_1m.csv\n",
      "文件不存在: \\\\znas\\Main\\futures\\2024-09-23\\2024-09-23_KAITOUSDT_USDT_1m.csv\n",
      "文件不存在: \\\\znas\\Main\\futures\\2024-09-24\\2024-09-24_KAITOUSDT_USDT_1m.csv\n",
      "文件不存在: \\\\znas\\Main\\futures\\2024-09-25\\2024-09-25_KAITOUSDT_USDT_1m.csv\n",
      "文件不存在: \\\\znas\\Main\\futures\\2024-09-26\\2024-09-26_KAITOUSDT_USDT_1m.csv\n",
      "文件不存在: \\\\znas\\Main\\futures\\2024-09-27\\2024-09-27_KAITOUSDT_USDT_1m.csv\n",
      "文件不存在: \\\\znas\\Main\\futures\\2024-09-28\\2024-09-28_KAITOUSDT_USDT_1m.csv\n",
      "文件不存在: \\\\znas\\Main\\futures\\2024-09-29\\2024-09-29_KAITOUSDT_USDT_1m.csv\n",
      "文件不存在: \\\\znas\\Main\\futures\\2024-09-30\\2024-09-30_KAITOUSDT_USDT_1m.csv\n",
      "文件不存在: \\\\znas\\Main\\futures\\2024-10-01\\2024-10-01_KAITOUSDT_USDT_1m.csv\n",
      "文件不存在: \\\\znas\\Main\\futures\\2024-10-02\\2024-10-02_KAITOUSDT_USDT_1m.csv\n",
      "文件不存在: \\\\znas\\Main\\futures\\2024-10-03\\2024-10-03_KAITOUSDT_USDT_1m.csv\n",
      "文件不存在: \\\\znas\\Main\\futures\\2024-10-04\\2024-10-04_KAITOUSDT_USDT_1m.csv\n",
      "文件不存在: \\\\znas\\Main\\futures\\2024-10-05\\2024-10-05_KAITOUSDT_USDT_1m.csv\n",
      "文件不存在: \\\\znas\\Main\\futures\\2024-10-06\\2024-10-06_KAITOUSDT_USDT_1m.csv\n",
      "文件不存在: \\\\znas\\Main\\futures\\2024-10-07\\2024-10-07_KAITOUSDT_USDT_1m.csv\n",
      "文件不存在: \\\\znas\\Main\\futures\\2024-10-08\\2024-10-08_KAITOUSDT_USDT_1m.csv\n",
      "文件不存在: \\\\znas\\Main\\futures\\2024-10-09\\2024-10-09_KAITOUSDT_USDT_1m.csv\n",
      "文件不存在: \\\\znas\\Main\\futures\\2024-10-10\\2024-10-10_KAITOUSDT_USDT_1m.csv\n",
      "文件不存在: \\\\znas\\Main\\futures\\2024-10-11\\2024-10-11_KAITOUSDT_USDT_1m.csv\n",
      "文件不存在: \\\\znas\\Main\\futures\\2024-10-12\\2024-10-12_KAITOUSDT_USDT_1m.csv\n",
      "文件不存在: \\\\znas\\Main\\futures\\2024-10-13\\2024-10-13_KAITOUSDT_USDT_1m.csv\n",
      "文件不存在: \\\\znas\\Main\\futures\\2024-10-14\\2024-10-14_KAITOUSDT_USDT_1m.csv\n",
      "文件不存在: \\\\znas\\Main\\futures\\2024-10-15\\2024-10-15_KAITOUSDT_USDT_1m.csv\n",
      "文件不存在: \\\\znas\\Main\\futures\\2024-10-16\\2024-10-16_KAITOUSDT_USDT_1m.csv\n",
      "文件不存在: \\\\znas\\Main\\futures\\2024-10-17\\2024-10-17_KAITOUSDT_USDT_1m.csv\n",
      "文件不存在: \\\\znas\\Main\\futures\\2024-10-18\\2024-10-18_KAITOUSDT_USDT_1m.csv\n",
      "文件不存在: \\\\znas\\Main\\futures\\2024-10-19\\2024-10-19_KAITOUSDT_USDT_1m.csv\n",
      "文件不存在: \\\\znas\\Main\\futures\\2024-10-20\\2024-10-20_KAITOUSDT_USDT_1m.csv\n",
      "文件不存在: \\\\znas\\Main\\futures\\2024-10-21\\2024-10-21_KAITOUSDT_USDT_1m.csv\n",
      "文件不存在: \\\\znas\\Main\\futures\\2024-10-22\\2024-10-22_KAITOUSDT_USDT_1m.csv\n",
      "文件不存在: \\\\znas\\Main\\futures\\2024-10-23\\2024-10-23_KAITOUSDT_USDT_1m.csv\n",
      "文件不存在: \\\\znas\\Main\\futures\\2024-10-24\\2024-10-24_KAITOUSDT_USDT_1m.csv\n",
      "文件不存在: \\\\znas\\Main\\futures\\2024-10-25\\2024-10-25_KAITOUSDT_USDT_1m.csv\n",
      "文件不存在: \\\\znas\\Main\\futures\\2024-10-26\\2024-10-26_KAITOUSDT_USDT_1m.csv\n",
      "文件不存在: \\\\znas\\Main\\futures\\2024-10-27\\2024-10-27_KAITOUSDT_USDT_1m.csv\n",
      "文件不存在: \\\\znas\\Main\\futures\\2024-10-28\\2024-10-28_KAITOUSDT_USDT_1m.csv\n",
      "文件不存在: \\\\znas\\Main\\futures\\2024-10-29\\2024-10-29_KAITOUSDT_USDT_1m.csv\n",
      "文件不存在: \\\\znas\\Main\\futures\\2024-10-30\\2024-10-30_KAITOUSDT_USDT_1m.csv\n",
      "文件不存在: \\\\znas\\Main\\futures\\2024-10-31\\2024-10-31_KAITOUSDT_USDT_1m.csv\n",
      "文件不存在: \\\\znas\\Main\\futures\\2024-11-01\\2024-11-01_KAITOUSDT_USDT_1m.csv\n",
      "文件不存在: \\\\znas\\Main\\futures\\2024-11-02\\2024-11-02_KAITOUSDT_USDT_1m.csv\n",
      "文件不存在: \\\\znas\\Main\\futures\\2024-11-03\\2024-11-03_KAITOUSDT_USDT_1m.csv\n",
      "文件不存在: \\\\znas\\Main\\futures\\2024-11-04\\2024-11-04_KAITOUSDT_USDT_1m.csv\n",
      "文件不存在: \\\\znas\\Main\\futures\\2024-11-05\\2024-11-05_KAITOUSDT_USDT_1m.csv\n",
      "文件不存在: \\\\znas\\Main\\futures\\2024-11-06\\2024-11-06_KAITOUSDT_USDT_1m.csv\n",
      "文件不存在: \\\\znas\\Main\\futures\\2024-11-07\\2024-11-07_KAITOUSDT_USDT_1m.csv\n",
      "文件不存在: \\\\znas\\Main\\futures\\2024-11-08\\2024-11-08_KAITOUSDT_USDT_1m.csv\n",
      "文件不存在: \\\\znas\\Main\\futures\\2024-11-09\\2024-11-09_KAITOUSDT_USDT_1m.csv\n",
      "文件不存在: \\\\znas\\Main\\futures\\2024-11-10\\2024-11-10_KAITOUSDT_USDT_1m.csv\n",
      "文件不存在: \\\\znas\\Main\\futures\\2024-11-11\\2024-11-11_KAITOUSDT_USDT_1m.csv\n",
      "文件不存在: \\\\znas\\Main\\futures\\2024-11-12\\2024-11-12_KAITOUSDT_USDT_1m.csv\n",
      "文件不存在: \\\\znas\\Main\\futures\\2024-11-13\\2024-11-13_KAITOUSDT_USDT_1m.csv\n",
      "文件不存在: \\\\znas\\Main\\futures\\2024-11-14\\2024-11-14_KAITOUSDT_USDT_1m.csv\n",
      "文件不存在: \\\\znas\\Main\\futures\\2024-11-15\\2024-11-15_KAITOUSDT_USDT_1m.csv\n",
      "文件不存在: \\\\znas\\Main\\futures\\2024-11-16\\2024-11-16_KAITOUSDT_USDT_1m.csv\n",
      "文件不存在: \\\\znas\\Main\\futures\\2024-11-17\\2024-11-17_KAITOUSDT_USDT_1m.csv\n",
      "文件不存在: \\\\znas\\Main\\futures\\2024-11-18\\2024-11-18_KAITOUSDT_USDT_1m.csv\n",
      "文件不存在: \\\\znas\\Main\\futures\\2024-11-19\\2024-11-19_KAITOUSDT_USDT_1m.csv\n",
      "文件不存在: \\\\znas\\Main\\futures\\2024-11-20\\2024-11-20_KAITOUSDT_USDT_1m.csv\n",
      "文件不存在: \\\\znas\\Main\\futures\\2024-11-21\\2024-11-21_KAITOUSDT_USDT_1m.csv\n",
      "文件不存在: \\\\znas\\Main\\futures\\2024-11-22\\2024-11-22_KAITOUSDT_USDT_1m.csv\n",
      "文件不存在: \\\\znas\\Main\\futures\\2024-11-23\\2024-11-23_KAITOUSDT_USDT_1m.csv\n",
      "文件不存在: \\\\znas\\Main\\futures\\2024-11-24\\2024-11-24_KAITOUSDT_USDT_1m.csv\n",
      "文件不存在: \\\\znas\\Main\\futures\\2024-11-25\\2024-11-25_KAITOUSDT_USDT_1m.csv\n",
      "文件不存在: \\\\znas\\Main\\futures\\2024-11-26\\2024-11-26_KAITOUSDT_USDT_1m.csv\n",
      "文件不存在: \\\\znas\\Main\\futures\\2024-11-27\\2024-11-27_KAITOUSDT_USDT_1m.csv\n",
      "文件不存在: \\\\znas\\Main\\futures\\2024-11-28\\2024-11-28_KAITOUSDT_USDT_1m.csv\n",
      "文件不存在: \\\\znas\\Main\\futures\\2024-11-29\\2024-11-29_KAITOUSDT_USDT_1m.csv\n",
      "文件不存在: \\\\znas\\Main\\futures\\2024-11-30\\2024-11-30_KAITOUSDT_USDT_1m.csv\n",
      "文件不存在: \\\\znas\\Main\\futures\\2024-12-01\\2024-12-01_KAITOUSDT_USDT_1m.csv\n",
      "文件不存在: \\\\znas\\Main\\futures\\2024-12-02\\2024-12-02_KAITOUSDT_USDT_1m.csv\n",
      "文件不存在: \\\\znas\\Main\\futures\\2024-12-03\\2024-12-03_KAITOUSDT_USDT_1m.csv\n",
      "文件不存在: \\\\znas\\Main\\futures\\2024-12-04\\2024-12-04_KAITOUSDT_USDT_1m.csv\n",
      "文件不存在: \\\\znas\\Main\\futures\\2024-12-05\\2024-12-05_KAITOUSDT_USDT_1m.csv\n",
      "文件不存在: \\\\znas\\Main\\futures\\2024-12-06\\2024-12-06_KAITOUSDT_USDT_1m.csv\n",
      "文件不存在: \\\\znas\\Main\\futures\\2024-12-07\\2024-12-07_KAITOUSDT_USDT_1m.csv\n",
      "文件不存在: \\\\znas\\Main\\futures\\2024-12-08\\2024-12-08_KAITOUSDT_USDT_1m.csv\n",
      "文件不存在: \\\\znas\\Main\\futures\\2024-12-09\\2024-12-09_KAITOUSDT_USDT_1m.csv\n",
      "文件不存在: \\\\znas\\Main\\futures\\2024-12-10\\2024-12-10_KAITOUSDT_USDT_1m.csv\n",
      "文件不存在: \\\\znas\\Main\\futures\\2024-12-11\\2024-12-11_KAITOUSDT_USDT_1m.csv\n",
      "文件不存在: \\\\znas\\Main\\futures\\2024-12-12\\2024-12-12_KAITOUSDT_USDT_1m.csv\n",
      "文件不存在: \\\\znas\\Main\\futures\\2024-12-13\\2024-12-13_KAITOUSDT_USDT_1m.csv\n",
      "文件不存在: \\\\znas\\Main\\futures\\2024-12-14\\2024-12-14_KAITOUSDT_USDT_1m.csv\n",
      "文件不存在: \\\\znas\\Main\\futures\\2024-12-15\\2024-12-15_KAITOUSDT_USDT_1m.csv\n",
      "文件不存在: \\\\znas\\Main\\futures\\2024-12-16\\2024-12-16_KAITOUSDT_USDT_1m.csv\n",
      "文件不存在: \\\\znas\\Main\\futures\\2024-12-17\\2024-12-17_KAITOUSDT_USDT_1m.csv\n",
      "文件不存在: \\\\znas\\Main\\futures\\2024-12-18\\2024-12-18_KAITOUSDT_USDT_1m.csv\n",
      "文件不存在: \\\\znas\\Main\\futures\\2024-12-19\\2024-12-19_KAITOUSDT_USDT_1m.csv\n",
      "文件不存在: \\\\znas\\Main\\futures\\2024-12-20\\2024-12-20_KAITOUSDT_USDT_1m.csv\n",
      "文件不存在: \\\\znas\\Main\\futures\\2024-12-21\\2024-12-21_KAITOUSDT_USDT_1m.csv\n",
      "文件不存在: \\\\znas\\Main\\futures\\2024-12-22\\2024-12-22_KAITOUSDT_USDT_1m.csv\n",
      "文件不存在: \\\\znas\\Main\\futures\\2024-12-23\\2024-12-23_KAITOUSDT_USDT_1m.csv\n",
      "文件不存在: \\\\znas\\Main\\futures\\2024-12-24\\2024-12-24_KAITOUSDT_USDT_1m.csv\n",
      "文件不存在: \\\\znas\\Main\\futures\\2024-12-25\\2024-12-25_KAITOUSDT_USDT_1m.csv\n",
      "文件不存在: \\\\znas\\Main\\futures\\2024-12-26\\2024-12-26_KAITOUSDT_USDT_1m.csv\n",
      "文件不存在: \\\\znas\\Main\\futures\\2024-12-27\\2024-12-27_KAITOUSDT_USDT_1m.csv\n",
      "文件不存在: \\\\znas\\Main\\futures\\2024-12-28\\2024-12-28_KAITOUSDT_USDT_1m.csv\n",
      "文件不存在: \\\\znas\\Main\\futures\\2024-12-29\\2024-12-29_KAITOUSDT_USDT_1m.csv\n",
      "文件不存在: \\\\znas\\Main\\futures\\2024-12-30\\2024-12-30_KAITOUSDT_USDT_1m.csv\n",
      "文件不存在: \\\\znas\\Main\\futures\\2024-12-31\\2024-12-31_KAITOUSDT_USDT_1m.csv\n",
      "文件不存在: \\\\znas\\Main\\futures\\2025-01-01\\2025-01-01_KAITOUSDT_USDT_1m.csv\n",
      "文件不存在: \\\\znas\\Main\\futures\\2025-01-02\\2025-01-02_KAITOUSDT_USDT_1m.csv\n",
      "文件不存在: \\\\znas\\Main\\futures\\2025-01-03\\2025-01-03_KAITOUSDT_USDT_1m.csv\n",
      "文件不存在: \\\\znas\\Main\\futures\\2025-01-04\\2025-01-04_KAITOUSDT_USDT_1m.csv\n",
      "文件不存在: \\\\znas\\Main\\futures\\2025-01-05\\2025-01-05_KAITOUSDT_USDT_1m.csv\n",
      "文件不存在: \\\\znas\\Main\\futures\\2025-01-06\\2025-01-06_KAITOUSDT_USDT_1m.csv\n",
      "文件不存在: \\\\znas\\Main\\futures\\2025-01-07\\2025-01-07_KAITOUSDT_USDT_1m.csv\n",
      "文件不存在: \\\\znas\\Main\\futures\\2025-01-08\\2025-01-08_KAITOUSDT_USDT_1m.csv\n",
      "文件不存在: \\\\znas\\Main\\futures\\2025-01-09\\2025-01-09_KAITOUSDT_USDT_1m.csv\n",
      "文件不存在: \\\\znas\\Main\\futures\\2025-01-10\\2025-01-10_KAITOUSDT_USDT_1m.csv\n",
      "文件不存在: \\\\znas\\Main\\futures\\2025-01-11\\2025-01-11_KAITOUSDT_USDT_1m.csv\n",
      "文件不存在: \\\\znas\\Main\\futures\\2025-01-12\\2025-01-12_KAITOUSDT_USDT_1m.csv\n",
      "文件不存在: \\\\znas\\Main\\futures\\2025-01-13\\2025-01-13_KAITOUSDT_USDT_1m.csv\n",
      "文件不存在: \\\\znas\\Main\\futures\\2025-01-14\\2025-01-14_KAITOUSDT_USDT_1m.csv\n",
      "文件不存在: \\\\znas\\Main\\futures\\2025-01-15\\2025-01-15_KAITOUSDT_USDT_1m.csv\n",
      "文件不存在: \\\\znas\\Main\\futures\\2025-01-16\\2025-01-16_KAITOUSDT_USDT_1m.csv\n",
      "文件不存在: \\\\znas\\Main\\futures\\2025-01-17\\2025-01-17_KAITOUSDT_USDT_1m.csv\n",
      "文件不存在: \\\\znas\\Main\\futures\\2025-01-18\\2025-01-18_KAITOUSDT_USDT_1m.csv\n",
      "文件不存在: \\\\znas\\Main\\futures\\2025-01-19\\2025-01-19_KAITOUSDT_USDT_1m.csv\n",
      "文件不存在: \\\\znas\\Main\\futures\\2025-01-20\\2025-01-20_KAITOUSDT_USDT_1m.csv\n",
      "文件不存在: \\\\znas\\Main\\futures\\2025-01-21\\2025-01-21_KAITOUSDT_USDT_1m.csv\n",
      "文件不存在: \\\\znas\\Main\\futures\\2025-01-22\\2025-01-22_KAITOUSDT_USDT_1m.csv\n",
      "文件不存在: \\\\znas\\Main\\futures\\2025-01-23\\2025-01-23_KAITOUSDT_USDT_1m.csv\n",
      "文件不存在: \\\\znas\\Main\\futures\\2025-01-24\\2025-01-24_KAITOUSDT_USDT_1m.csv\n",
      "文件不存在: \\\\znas\\Main\\futures\\2025-01-25\\2025-01-25_KAITOUSDT_USDT_1m.csv\n",
      "文件不存在: \\\\znas\\Main\\futures\\2025-01-26\\2025-01-26_KAITOUSDT_USDT_1m.csv\n",
      "文件不存在: \\\\znas\\Main\\futures\\2025-01-27\\2025-01-27_KAITOUSDT_USDT_1m.csv\n",
      "文件不存在: \\\\znas\\Main\\futures\\2025-01-28\\2025-01-28_KAITOUSDT_USDT_1m.csv\n",
      "文件不存在: \\\\znas\\Main\\futures\\2025-01-29\\2025-01-29_KAITOUSDT_USDT_1m.csv\n",
      "文件不存在: \\\\znas\\Main\\futures\\2025-01-30\\2025-01-30_KAITOUSDT_USDT_1m.csv\n",
      "文件不存在: \\\\znas\\Main\\futures\\2025-01-31\\2025-01-31_KAITOUSDT_USDT_1m.csv\n",
      "文件不存在: \\\\znas\\Main\\futures\\2025-02-01\\2025-02-01_KAITOUSDT_USDT_1m.csv\n",
      "文件不存在: \\\\znas\\Main\\futures\\2025-02-02\\2025-02-02_KAITOUSDT_USDT_1m.csv\n",
      "文件不存在: \\\\znas\\Main\\futures\\2025-02-03\\2025-02-03_KAITOUSDT_USDT_1m.csv\n",
      "文件不存在: \\\\znas\\Main\\futures\\2025-02-04\\2025-02-04_KAITOUSDT_USDT_1m.csv\n",
      "文件不存在: \\\\znas\\Main\\futures\\2025-02-05\\2025-02-05_KAITOUSDT_USDT_1m.csv\n",
      "文件不存在: \\\\znas\\Main\\futures\\2025-02-06\\2025-02-06_KAITOUSDT_USDT_1m.csv\n",
      "文件不存在: \\\\znas\\Main\\futures\\2025-02-07\\2025-02-07_KAITOUSDT_USDT_1m.csv\n",
      "文件不存在: \\\\znas\\Main\\futures\\2025-02-08\\2025-02-08_KAITOUSDT_USDT_1m.csv\n",
      "处理任务出错: 未找到 KAITOUSDT 在指定日期范围内的数据\n",
      "文件不存在: \\\\znas\\Main\\futures\\2024-01-01\\2024-01-01_IPUSDT_USDT_1m.csv\n",
      "文件不存在: \\\\znas\\Main\\futures\\2024-01-02\\2024-01-02_IPUSDT_USDT_1m.csv\n",
      "文件不存在: \\\\znas\\Main\\futures\\2024-01-03\\2024-01-03_IPUSDT_USDT_1m.csv\n",
      "文件不存在: \\\\znas\\Main\\futures\\2024-01-04\\2024-01-04_IPUSDT_USDT_1m.csv\n",
      "文件不存在: \\\\znas\\Main\\futures\\2024-01-05\\2024-01-05_IPUSDT_USDT_1m.csv\n",
      "文件不存在: \\\\znas\\Main\\futures\\2024-01-06\\2024-01-06_IPUSDT_USDT_1m.csv\n",
      "文件不存在: \\\\znas\\Main\\futures\\2024-01-07\\2024-01-07_IPUSDT_USDT_1m.csv\n",
      "文件不存在: \\\\znas\\Main\\futures\\2024-01-08\\2024-01-08_IPUSDT_USDT_1m.csv\n",
      "文件不存在: \\\\znas\\Main\\futures\\2024-01-09\\2024-01-09_IPUSDT_USDT_1m.csv\n",
      "文件不存在: \\\\znas\\Main\\futures\\2024-01-10\\2024-01-10_IPUSDT_USDT_1m.csv\n",
      "文件不存在: \\\\znas\\Main\\futures\\2024-01-11\\2024-01-11_IPUSDT_USDT_1m.csv\n",
      "文件不存在: \\\\znas\\Main\\futures\\2024-01-12\\2024-01-12_IPUSDT_USDT_1m.csv\n",
      "文件不存在: \\\\znas\\Main\\futures\\2024-01-13\\2024-01-13_IPUSDT_USDT_1m.csv\n",
      "文件不存在: \\\\znas\\Main\\futures\\2024-01-14\\2024-01-14_IPUSDT_USDT_1m.csv\n",
      "文件不存在: \\\\znas\\Main\\futures\\2024-01-15\\2024-01-15_IPUSDT_USDT_1m.csv\n",
      "文件不存在: \\\\znas\\Main\\futures\\2024-01-16\\2024-01-16_IPUSDT_USDT_1m.csv\n",
      "文件不存在: \\\\znas\\Main\\futures\\2024-01-17\\2024-01-17_IPUSDT_USDT_1m.csv\n",
      "文件不存在: \\\\znas\\Main\\futures\\2024-01-18\\2024-01-18_IPUSDT_USDT_1m.csv\n",
      "文件不存在: \\\\znas\\Main\\futures\\2024-01-19\\2024-01-19_IPUSDT_USDT_1m.csv\n",
      "文件不存在: \\\\znas\\Main\\futures\\2024-01-20\\2024-01-20_IPUSDT_USDT_1m.csv\n",
      "文件不存在: \\\\znas\\Main\\futures\\2024-01-21\\2024-01-21_IPUSDT_USDT_1m.csv\n",
      "文件不存在: \\\\znas\\Main\\futures\\2024-01-22\\2024-01-22_IPUSDT_USDT_1m.csv\n",
      "文件不存在: \\\\znas\\Main\\futures\\2024-01-23\\2024-01-23_IPUSDT_USDT_1m.csv\n",
      "文件不存在: \\\\znas\\Main\\futures\\2024-01-24\\2024-01-24_IPUSDT_USDT_1m.csv\n",
      "文件不存在: \\\\znas\\Main\\futures\\2024-01-25\\2024-01-25_IPUSDT_USDT_1m.csv\n",
      "文件不存在: \\\\znas\\Main\\futures\\2024-01-26\\2024-01-26_IPUSDT_USDT_1m.csv\n",
      "文件不存在: \\\\znas\\Main\\futures\\2024-01-27\\2024-01-27_IPUSDT_USDT_1m.csv\n",
      "文件不存在: \\\\znas\\Main\\futures\\2024-01-28\\2024-01-28_IPUSDT_USDT_1m.csv\n",
      "文件不存在: \\\\znas\\Main\\futures\\2024-01-29\\2024-01-29_IPUSDT_USDT_1m.csv\n",
      "文件不存在: \\\\znas\\Main\\futures\\2024-01-30\\2024-01-30_IPUSDT_USDT_1m.csv\n",
      "文件不存在: \\\\znas\\Main\\futures\\2024-01-31\\2024-01-31_IPUSDT_USDT_1m.csv\n",
      "文件不存在: \\\\znas\\Main\\futures\\2024-02-01\\2024-02-01_IPUSDT_USDT_1m.csv\n",
      "文件不存在: \\\\znas\\Main\\futures\\2024-02-02\\2024-02-02_IPUSDT_USDT_1m.csv\n",
      "文件不存在: \\\\znas\\Main\\futures\\2024-02-03\\2024-02-03_IPUSDT_USDT_1m.csv\n",
      "文件不存在: \\\\znas\\Main\\futures\\2024-02-04\\2024-02-04_IPUSDT_USDT_1m.csv\n",
      "文件不存在: \\\\znas\\Main\\futures\\2024-02-05\\2024-02-05_IPUSDT_USDT_1m.csv\n",
      "文件不存在: \\\\znas\\Main\\futures\\2024-02-06\\2024-02-06_IPUSDT_USDT_1m.csv\n",
      "文件不存在: \\\\znas\\Main\\futures\\2024-02-07\\2024-02-07_IPUSDT_USDT_1m.csv\n",
      "文件不存在: \\\\znas\\Main\\futures\\2024-02-08\\2024-02-08_IPUSDT_USDT_1m.csv\n",
      "文件不存在: \\\\znas\\Main\\futures\\2024-02-09\\2024-02-09_IPUSDT_USDT_1m.csv\n",
      "文件不存在: \\\\znas\\Main\\futures\\2024-02-10\\2024-02-10_IPUSDT_USDT_1m.csv\n",
      "文件不存在: \\\\znas\\Main\\futures\\2024-02-11\\2024-02-11_IPUSDT_USDT_1m.csv\n",
      "文件不存在: \\\\znas\\Main\\futures\\2024-02-12\\2024-02-12_IPUSDT_USDT_1m.csv\n",
      "文件不存在: \\\\znas\\Main\\futures\\2024-02-13\\2024-02-13_IPUSDT_USDT_1m.csv\n",
      "文件不存在: \\\\znas\\Main\\futures\\2024-02-14\\2024-02-14_IPUSDT_USDT_1m.csv\n",
      "文件不存在: \\\\znas\\Main\\futures\\2024-02-15\\2024-02-15_IPUSDT_USDT_1m.csv\n",
      "文件不存在: \\\\znas\\Main\\futures\\2024-02-16\\2024-02-16_IPUSDT_USDT_1m.csv\n",
      "文件不存在: \\\\znas\\Main\\futures\\2024-02-17\\2024-02-17_IPUSDT_USDT_1m.csv\n",
      "文件不存在: \\\\znas\\Main\\futures\\2024-02-18\\2024-02-18_IPUSDT_USDT_1m.csv\n",
      "文件不存在: \\\\znas\\Main\\futures\\2024-02-19\\2024-02-19_IPUSDT_USDT_1m.csv\n",
      "文件不存在: \\\\znas\\Main\\futures\\2024-02-20\\2024-02-20_IPUSDT_USDT_1m.csv\n",
      "文件不存在: \\\\znas\\Main\\futures\\2024-02-21\\2024-02-21_IPUSDT_USDT_1m.csv\n",
      "文件不存在: \\\\znas\\Main\\futures\\2024-02-22\\2024-02-22_IPUSDT_USDT_1m.csv\n",
      "文件不存在: \\\\znas\\Main\\futures\\2024-02-23\\2024-02-23_IPUSDT_USDT_1m.csv\n",
      "文件不存在: \\\\znas\\Main\\futures\\2024-02-24\\2024-02-24_IPUSDT_USDT_1m.csv\n",
      "文件不存在: \\\\znas\\Main\\futures\\2024-02-25\\2024-02-25_IPUSDT_USDT_1m.csv\n",
      "文件不存在: \\\\znas\\Main\\futures\\2024-02-26\\2024-02-26_IPUSDT_USDT_1m.csv\n",
      "文件不存在: \\\\znas\\Main\\futures\\2024-02-27\\2024-02-27_IPUSDT_USDT_1m.csv\n",
      "文件不存在: \\\\znas\\Main\\futures\\2024-02-28\\2024-02-28_IPUSDT_USDT_1m.csv\n",
      "文件不存在: \\\\znas\\Main\\futures\\2024-02-29\\2024-02-29_IPUSDT_USDT_1m.csv\n",
      "文件不存在: \\\\znas\\Main\\futures\\2024-03-01\\2024-03-01_IPUSDT_USDT_1m.csv\n",
      "文件不存在: \\\\znas\\Main\\futures\\2024-03-02\\2024-03-02_IPUSDT_USDT_1m.csv\n",
      "文件不存在: \\\\znas\\Main\\futures\\2024-03-03\\2024-03-03_IPUSDT_USDT_1m.csv\n",
      "文件不存在: \\\\znas\\Main\\futures\\2024-03-04\\2024-03-04_IPUSDT_USDT_1m.csv\n",
      "文件不存在: \\\\znas\\Main\\futures\\2024-03-05\\2024-03-05_IPUSDT_USDT_1m.csv\n",
      "文件不存在: \\\\znas\\Main\\futures\\2024-03-06\\2024-03-06_IPUSDT_USDT_1m.csv\n",
      "文件不存在: \\\\znas\\Main\\futures\\2024-03-07\\2024-03-07_IPUSDT_USDT_1m.csv\n",
      "文件不存在: \\\\znas\\Main\\futures\\2024-03-08\\2024-03-08_IPUSDT_USDT_1m.csv\n",
      "文件不存在: \\\\znas\\Main\\futures\\2024-03-09\\2024-03-09_IPUSDT_USDT_1m.csv\n",
      "文件不存在: \\\\znas\\Main\\futures\\2024-03-10\\2024-03-10_IPUSDT_USDT_1m.csv\n",
      "文件不存在: \\\\znas\\Main\\futures\\2024-03-11\\2024-03-11_IPUSDT_USDT_1m.csv\n",
      "文件不存在: \\\\znas\\Main\\futures\\2024-03-12\\2024-03-12_IPUSDT_USDT_1m.csv\n",
      "文件不存在: \\\\znas\\Main\\futures\\2024-03-13\\2024-03-13_IPUSDT_USDT_1m.csv\n",
      "文件不存在: \\\\znas\\Main\\futures\\2024-03-14\\2024-03-14_IPUSDT_USDT_1m.csv\n",
      "文件不存在: \\\\znas\\Main\\futures\\2024-03-15\\2024-03-15_IPUSDT_USDT_1m.csv\n",
      "文件不存在: \\\\znas\\Main\\futures\\2024-03-16\\2024-03-16_IPUSDT_USDT_1m.csv\n",
      "文件不存在: \\\\znas\\Main\\futures\\2024-03-17\\2024-03-17_IPUSDT_USDT_1m.csv\n",
      "文件不存在: \\\\znas\\Main\\futures\\2024-03-18\\2024-03-18_IPUSDT_USDT_1m.csv\n",
      "文件不存在: \\\\znas\\Main\\futures\\2024-03-19\\2024-03-19_IPUSDT_USDT_1m.csv\n",
      "文件不存在: \\\\znas\\Main\\futures\\2024-03-20\\2024-03-20_IPUSDT_USDT_1m.csv\n",
      "文件不存在: \\\\znas\\Main\\futures\\2024-03-21\\2024-03-21_IPUSDT_USDT_1m.csv\n",
      "文件不存在: \\\\znas\\Main\\futures\\2024-03-22\\2024-03-22_IPUSDT_USDT_1m.csv\n",
      "文件不存在: \\\\znas\\Main\\futures\\2024-03-23\\2024-03-23_IPUSDT_USDT_1m.csv\n",
      "文件不存在: \\\\znas\\Main\\futures\\2024-03-24\\2024-03-24_IPUSDT_USDT_1m.csv\n",
      "文件不存在: \\\\znas\\Main\\futures\\2024-03-25\\2024-03-25_IPUSDT_USDT_1m.csv\n",
      "文件不存在: \\\\znas\\Main\\futures\\2024-03-26\\2024-03-26_IPUSDT_USDT_1m.csv\n",
      "文件不存在: \\\\znas\\Main\\futures\\2024-03-27\\2024-03-27_IPUSDT_USDT_1m.csv\n",
      "文件不存在: \\\\znas\\Main\\futures\\2024-03-28\\2024-03-28_IPUSDT_USDT_1m.csv\n",
      "文件不存在: \\\\znas\\Main\\futures\\2024-03-29\\2024-03-29_IPUSDT_USDT_1m.csv\n",
      "文件不存在: \\\\znas\\Main\\futures\\2024-03-30\\2024-03-30_IPUSDT_USDT_1m.csv\n",
      "文件不存在: \\\\znas\\Main\\futures\\2024-03-31\\2024-03-31_IPUSDT_USDT_1m.csv\n",
      "文件不存在: \\\\znas\\Main\\futures\\2024-04-01\\2024-04-01_IPUSDT_USDT_1m.csv\n",
      "文件不存在: \\\\znas\\Main\\futures\\2024-04-02\\2024-04-02_IPUSDT_USDT_1m.csv\n",
      "文件不存在: \\\\znas\\Main\\futures\\2024-04-03\\2024-04-03_IPUSDT_USDT_1m.csv\n",
      "文件不存在: \\\\znas\\Main\\futures\\2024-04-04\\2024-04-04_IPUSDT_USDT_1m.csv\n",
      "文件不存在: \\\\znas\\Main\\futures\\2024-04-05\\2024-04-05_IPUSDT_USDT_1m.csv\n",
      "文件不存在: \\\\znas\\Main\\futures\\2024-04-06\\2024-04-06_IPUSDT_USDT_1m.csv\n",
      "文件不存在: \\\\znas\\Main\\futures\\2024-04-07\\2024-04-07_IPUSDT_USDT_1m.csv\n",
      "文件不存在: \\\\znas\\Main\\futures\\2024-04-08\\2024-04-08_IPUSDT_USDT_1m.csv\n",
      "文件不存在: \\\\znas\\Main\\futures\\2024-04-09\\2024-04-09_IPUSDT_USDT_1m.csv\n",
      "文件不存在: \\\\znas\\Main\\futures\\2024-04-10\\2024-04-10_IPUSDT_USDT_1m.csv\n",
      "文件不存在: \\\\znas\\Main\\futures\\2024-04-11\\2024-04-11_IPUSDT_USDT_1m.csv\n",
      "文件不存在: \\\\znas\\Main\\futures\\2024-04-12\\2024-04-12_IPUSDT_USDT_1m.csv\n",
      "文件不存在: \\\\znas\\Main\\futures\\2024-04-13\\2024-04-13_IPUSDT_USDT_1m.csv\n",
      "文件不存在: \\\\znas\\Main\\futures\\2024-04-14\\2024-04-14_IPUSDT_USDT_1m.csv\n",
      "文件不存在: \\\\znas\\Main\\futures\\2024-04-15\\2024-04-15_IPUSDT_USDT_1m.csv\n",
      "文件不存在: \\\\znas\\Main\\futures\\2024-04-16\\2024-04-16_IPUSDT_USDT_1m.csv\n",
      "文件不存在: \\\\znas\\Main\\futures\\2024-04-17\\2024-04-17_IPUSDT_USDT_1m.csv\n",
      "文件不存在: \\\\znas\\Main\\futures\\2024-04-18\\2024-04-18_IPUSDT_USDT_1m.csv\n",
      "文件不存在: \\\\znas\\Main\\futures\\2024-04-19\\2024-04-19_IPUSDT_USDT_1m.csv\n",
      "文件不存在: \\\\znas\\Main\\futures\\2024-04-20\\2024-04-20_IPUSDT_USDT_1m.csv\n",
      "文件不存在: \\\\znas\\Main\\futures\\2024-04-21\\2024-04-21_IPUSDT_USDT_1m.csv\n",
      "文件不存在: \\\\znas\\Main\\futures\\2024-04-22\\2024-04-22_IPUSDT_USDT_1m.csv\n",
      "文件不存在: \\\\znas\\Main\\futures\\2024-04-23\\2024-04-23_IPUSDT_USDT_1m.csv\n",
      "文件不存在: \\\\znas\\Main\\futures\\2024-04-24\\2024-04-24_IPUSDT_USDT_1m.csv\n",
      "文件不存在: \\\\znas\\Main\\futures\\2024-04-25\\2024-04-25_IPUSDT_USDT_1m.csv\n",
      "文件不存在: \\\\znas\\Main\\futures\\2024-04-26\\2024-04-26_IPUSDT_USDT_1m.csv\n",
      "文件不存在: \\\\znas\\Main\\futures\\2024-04-27\\2024-04-27_IPUSDT_USDT_1m.csv\n",
      "文件不存在: \\\\znas\\Main\\futures\\2024-04-28\\2024-04-28_IPUSDT_USDT_1m.csv\n",
      "文件不存在: \\\\znas\\Main\\futures\\2024-04-29\\2024-04-29_IPUSDT_USDT_1m.csv\n",
      "文件不存在: \\\\znas\\Main\\futures\\2024-04-30\\2024-04-30_IPUSDT_USDT_1m.csv\n",
      "文件不存在: \\\\znas\\Main\\futures\\2024-05-01\\2024-05-01_IPUSDT_USDT_1m.csv\n",
      "文件不存在: \\\\znas\\Main\\futures\\2024-05-02\\2024-05-02_IPUSDT_USDT_1m.csv\n",
      "文件不存在: \\\\znas\\Main\\futures\\2024-05-03\\2024-05-03_IPUSDT_USDT_1m.csv\n",
      "文件不存在: \\\\znas\\Main\\futures\\2024-05-04\\2024-05-04_IPUSDT_USDT_1m.csv\n",
      "文件不存在: \\\\znas\\Main\\futures\\2024-05-05\\2024-05-05_IPUSDT_USDT_1m.csv\n",
      "文件不存在: \\\\znas\\Main\\futures\\2024-05-06\\2024-05-06_IPUSDT_USDT_1m.csv\n",
      "文件不存在: \\\\znas\\Main\\futures\\2024-05-07\\2024-05-07_IPUSDT_USDT_1m.csv\n",
      "文件不存在: \\\\znas\\Main\\futures\\2024-05-08\\2024-05-08_IPUSDT_USDT_1m.csv\n",
      "文件不存在: \\\\znas\\Main\\futures\\2024-05-09\\2024-05-09_IPUSDT_USDT_1m.csv\n",
      "文件不存在: \\\\znas\\Main\\futures\\2024-05-10\\2024-05-10_IPUSDT_USDT_1m.csv\n",
      "文件不存在: \\\\znas\\Main\\futures\\2024-05-11\\2024-05-11_IPUSDT_USDT_1m.csv\n",
      "文件不存在: \\\\znas\\Main\\futures\\2024-05-12\\2024-05-12_IPUSDT_USDT_1m.csv\n",
      "文件不存在: \\\\znas\\Main\\futures\\2024-05-13\\2024-05-13_IPUSDT_USDT_1m.csv\n",
      "文件不存在: \\\\znas\\Main\\futures\\2024-05-14\\2024-05-14_IPUSDT_USDT_1m.csv\n",
      "文件不存在: \\\\znas\\Main\\futures\\2024-05-15\\2024-05-15_IPUSDT_USDT_1m.csv\n",
      "文件不存在: \\\\znas\\Main\\futures\\2024-05-16\\2024-05-16_IPUSDT_USDT_1m.csv\n",
      "文件不存在: \\\\znas\\Main\\futures\\2024-05-17\\2024-05-17_IPUSDT_USDT_1m.csv\n",
      "文件不存在: \\\\znas\\Main\\futures\\2024-05-18\\2024-05-18_IPUSDT_USDT_1m.csv\n",
      "文件不存在: \\\\znas\\Main\\futures\\2024-05-19\\2024-05-19_IPUSDT_USDT_1m.csv\n",
      "文件不存在: \\\\znas\\Main\\futures\\2024-05-20\\2024-05-20_IPUSDT_USDT_1m.csv\n",
      "文件不存在: \\\\znas\\Main\\futures\\2024-05-21\\2024-05-21_IPUSDT_USDT_1m.csv\n",
      "文件不存在: \\\\znas\\Main\\futures\\2024-05-22\\2024-05-22_IPUSDT_USDT_1m.csv\n",
      "文件不存在: \\\\znas\\Main\\futures\\2024-05-23\\2024-05-23_IPUSDT_USDT_1m.csv\n",
      "文件不存在: \\\\znas\\Main\\futures\\2024-05-24\\2024-05-24_IPUSDT_USDT_1m.csv\n",
      "文件不存在: \\\\znas\\Main\\futures\\2024-05-25\\2024-05-25_IPUSDT_USDT_1m.csv\n",
      "文件不存在: \\\\znas\\Main\\futures\\2024-05-26\\2024-05-26_IPUSDT_USDT_1m.csv\n",
      "文件不存在: \\\\znas\\Main\\futures\\2024-05-27\\2024-05-27_IPUSDT_USDT_1m.csv\n",
      "文件不存在: \\\\znas\\Main\\futures\\2024-05-28\\2024-05-28_IPUSDT_USDT_1m.csv\n",
      "文件不存在: \\\\znas\\Main\\futures\\2024-05-29\\2024-05-29_IPUSDT_USDT_1m.csv\n",
      "文件不存在: \\\\znas\\Main\\futures\\2024-05-30\\2024-05-30_IPUSDT_USDT_1m.csv\n",
      "文件不存在: \\\\znas\\Main\\futures\\2024-05-31\\2024-05-31_IPUSDT_USDT_1m.csv\n",
      "文件不存在: \\\\znas\\Main\\futures\\2024-06-01\\2024-06-01_IPUSDT_USDT_1m.csv\n",
      "文件不存在: \\\\znas\\Main\\futures\\2024-06-02\\2024-06-02_IPUSDT_USDT_1m.csv\n",
      "文件不存在: \\\\znas\\Main\\futures\\2024-06-03\\2024-06-03_IPUSDT_USDT_1m.csv\n",
      "文件不存在: \\\\znas\\Main\\futures\\2024-06-04\\2024-06-04_IPUSDT_USDT_1m.csv\n",
      "文件不存在: \\\\znas\\Main\\futures\\2024-06-05\\2024-06-05_IPUSDT_USDT_1m.csv\n",
      "文件不存在: \\\\znas\\Main\\futures\\2024-06-06\\2024-06-06_IPUSDT_USDT_1m.csv\n",
      "文件不存在: \\\\znas\\Main\\futures\\2024-06-07\\2024-06-07_IPUSDT_USDT_1m.csv\n",
      "文件不存在: \\\\znas\\Main\\futures\\2024-06-08\\2024-06-08_IPUSDT_USDT_1m.csv\n",
      "文件不存在: \\\\znas\\Main\\futures\\2024-06-09\\2024-06-09_IPUSDT_USDT_1m.csv\n",
      "文件不存在: \\\\znas\\Main\\futures\\2024-06-10\\2024-06-10_IPUSDT_USDT_1m.csv\n",
      "文件不存在: \\\\znas\\Main\\futures\\2024-06-11\\2024-06-11_IPUSDT_USDT_1m.csv\n",
      "文件不存在: \\\\znas\\Main\\futures\\2024-06-12\\2024-06-12_IPUSDT_USDT_1m.csv\n",
      "文件不存在: \\\\znas\\Main\\futures\\2024-06-13\\2024-06-13_IPUSDT_USDT_1m.csv\n",
      "文件不存在: \\\\znas\\Main\\futures\\2024-06-14\\2024-06-14_IPUSDT_USDT_1m.csv\n",
      "文件不存在: \\\\znas\\Main\\futures\\2024-06-15\\2024-06-15_IPUSDT_USDT_1m.csv\n",
      "文件不存在: \\\\znas\\Main\\futures\\2024-06-16\\2024-06-16_IPUSDT_USDT_1m.csv\n",
      "文件不存在: \\\\znas\\Main\\futures\\2024-06-17\\2024-06-17_IPUSDT_USDT_1m.csv\n",
      "文件不存在: \\\\znas\\Main\\futures\\2024-06-18\\2024-06-18_IPUSDT_USDT_1m.csv\n",
      "文件不存在: \\\\znas\\Main\\futures\\2024-06-19\\2024-06-19_IPUSDT_USDT_1m.csv\n",
      "文件不存在: \\\\znas\\Main\\futures\\2024-06-20\\2024-06-20_IPUSDT_USDT_1m.csv\n",
      "文件不存在: \\\\znas\\Main\\futures\\2024-06-21\\2024-06-21_IPUSDT_USDT_1m.csv\n",
      "文件不存在: \\\\znas\\Main\\futures\\2024-06-22\\2024-06-22_IPUSDT_USDT_1m.csv\n",
      "文件不存在: \\\\znas\\Main\\futures\\2024-06-23\\2024-06-23_IPUSDT_USDT_1m.csv\n",
      "文件不存在: \\\\znas\\Main\\futures\\2024-06-24\\2024-06-24_IPUSDT_USDT_1m.csv\n",
      "文件不存在: \\\\znas\\Main\\futures\\2024-06-25\\2024-06-25_IPUSDT_USDT_1m.csv\n",
      "文件不存在: \\\\znas\\Main\\futures\\2024-06-26\\2024-06-26_IPUSDT_USDT_1m.csv\n",
      "文件不存在: \\\\znas\\Main\\futures\\2024-06-27\\2024-06-27_IPUSDT_USDT_1m.csv\n",
      "文件不存在: \\\\znas\\Main\\futures\\2024-06-28\\2024-06-28_IPUSDT_USDT_1m.csv\n",
      "文件不存在: \\\\znas\\Main\\futures\\2024-06-29\\2024-06-29_IPUSDT_USDT_1m.csv\n",
      "文件不存在: \\\\znas\\Main\\futures\\2024-06-30\\2024-06-30_IPUSDT_USDT_1m.csv\n",
      "文件不存在: \\\\znas\\Main\\futures\\2024-07-01\\2024-07-01_IPUSDT_USDT_1m.csv\n",
      "文件不存在: \\\\znas\\Main\\futures\\2024-07-02\\2024-07-02_IPUSDT_USDT_1m.csv\n",
      "文件不存在: \\\\znas\\Main\\futures\\2024-07-03\\2024-07-03_IPUSDT_USDT_1m.csv\n",
      "文件不存在: \\\\znas\\Main\\futures\\2024-07-04\\2024-07-04_IPUSDT_USDT_1m.csv\n",
      "文件不存在: \\\\znas\\Main\\futures\\2024-07-05\\2024-07-05_IPUSDT_USDT_1m.csv\n",
      "文件不存在: \\\\znas\\Main\\futures\\2024-07-06\\2024-07-06_IPUSDT_USDT_1m.csv\n",
      "文件不存在: \\\\znas\\Main\\futures\\2024-07-07\\2024-07-07_IPUSDT_USDT_1m.csv\n",
      "文件不存在: \\\\znas\\Main\\futures\\2024-07-08\\2024-07-08_IPUSDT_USDT_1m.csv\n",
      "文件不存在: \\\\znas\\Main\\futures\\2024-07-09\\2024-07-09_IPUSDT_USDT_1m.csv\n",
      "文件不存在: \\\\znas\\Main\\futures\\2024-07-10\\2024-07-10_IPUSDT_USDT_1m.csv\n",
      "文件不存在: \\\\znas\\Main\\futures\\2024-07-11\\2024-07-11_IPUSDT_USDT_1m.csv\n",
      "文件不存在: \\\\znas\\Main\\futures\\2024-07-12\\2024-07-12_IPUSDT_USDT_1m.csv\n",
      "文件不存在: \\\\znas\\Main\\futures\\2024-07-13\\2024-07-13_IPUSDT_USDT_1m.csv\n",
      "文件不存在: \\\\znas\\Main\\futures\\2024-07-14\\2024-07-14_IPUSDT_USDT_1m.csv\n",
      "文件不存在: \\\\znas\\Main\\futures\\2024-07-15\\2024-07-15_IPUSDT_USDT_1m.csv\n",
      "文件不存在: \\\\znas\\Main\\futures\\2024-07-16\\2024-07-16_IPUSDT_USDT_1m.csv\n",
      "文件不存在: \\\\znas\\Main\\futures\\2024-07-17\\2024-07-17_IPUSDT_USDT_1m.csv\n",
      "文件不存在: \\\\znas\\Main\\futures\\2024-07-18\\2024-07-18_IPUSDT_USDT_1m.csv\n",
      "文件不存在: \\\\znas\\Main\\futures\\2024-07-19\\2024-07-19_IPUSDT_USDT_1m.csv\n",
      "文件不存在: \\\\znas\\Main\\futures\\2024-07-20\\2024-07-20_IPUSDT_USDT_1m.csv\n",
      "文件不存在: \\\\znas\\Main\\futures\\2024-07-21\\2024-07-21_IPUSDT_USDT_1m.csv\n",
      "文件不存在: \\\\znas\\Main\\futures\\2024-07-22\\2024-07-22_IPUSDT_USDT_1m.csv\n",
      "文件不存在: \\\\znas\\Main\\futures\\2024-07-23\\2024-07-23_IPUSDT_USDT_1m.csv\n",
      "文件不存在: \\\\znas\\Main\\futures\\2024-07-24\\2024-07-24_IPUSDT_USDT_1m.csv\n",
      "文件不存在: \\\\znas\\Main\\futures\\2024-07-25\\2024-07-25_IPUSDT_USDT_1m.csv\n",
      "文件不存在: \\\\znas\\Main\\futures\\2024-07-26\\2024-07-26_IPUSDT_USDT_1m.csv\n",
      "文件不存在: \\\\znas\\Main\\futures\\2024-07-27\\2024-07-27_IPUSDT_USDT_1m.csv\n",
      "文件不存在: \\\\znas\\Main\\futures\\2024-07-28\\2024-07-28_IPUSDT_USDT_1m.csv\n",
      "文件不存在: \\\\znas\\Main\\futures\\2024-07-29\\2024-07-29_IPUSDT_USDT_1m.csv\n",
      "文件不存在: \\\\znas\\Main\\futures\\2024-07-30\\2024-07-30_IPUSDT_USDT_1m.csv\n",
      "文件不存在: \\\\znas\\Main\\futures\\2024-07-31\\2024-07-31_IPUSDT_USDT_1m.csv\n",
      "文件不存在: \\\\znas\\Main\\futures\\2024-08-01\\2024-08-01_IPUSDT_USDT_1m.csv\n",
      "文件不存在: \\\\znas\\Main\\futures\\2024-08-02\\2024-08-02_IPUSDT_USDT_1m.csv\n",
      "文件不存在: \\\\znas\\Main\\futures\\2024-08-03\\2024-08-03_IPUSDT_USDT_1m.csv\n",
      "文件不存在: \\\\znas\\Main\\futures\\2024-08-04\\2024-08-04_IPUSDT_USDT_1m.csv\n",
      "文件不存在: \\\\znas\\Main\\futures\\2024-08-05\\2024-08-05_IPUSDT_USDT_1m.csv\n",
      "文件不存在: \\\\znas\\Main\\futures\\2024-08-06\\2024-08-06_IPUSDT_USDT_1m.csv\n",
      "文件不存在: \\\\znas\\Main\\futures\\2024-08-07\\2024-08-07_IPUSDT_USDT_1m.csv\n",
      "文件不存在: \\\\znas\\Main\\futures\\2024-08-08\\2024-08-08_IPUSDT_USDT_1m.csv\n",
      "文件不存在: \\\\znas\\Main\\futures\\2024-08-09\\2024-08-09_IPUSDT_USDT_1m.csv\n",
      "文件不存在: \\\\znas\\Main\\futures\\2024-08-10\\2024-08-10_IPUSDT_USDT_1m.csv\n",
      "文件不存在: \\\\znas\\Main\\futures\\2024-08-11\\2024-08-11_IPUSDT_USDT_1m.csv\n",
      "文件不存在: \\\\znas\\Main\\futures\\2024-08-12\\2024-08-12_IPUSDT_USDT_1m.csv\n",
      "文件不存在: \\\\znas\\Main\\futures\\2024-08-13\\2024-08-13_IPUSDT_USDT_1m.csv\n",
      "文件不存在: \\\\znas\\Main\\futures\\2024-08-14\\2024-08-14_IPUSDT_USDT_1m.csv\n",
      "文件不存在: \\\\znas\\Main\\futures\\2024-08-15\\2024-08-15_IPUSDT_USDT_1m.csv\n",
      "文件不存在: \\\\znas\\Main\\futures\\2024-08-16\\2024-08-16_IPUSDT_USDT_1m.csv\n",
      "文件不存在: \\\\znas\\Main\\futures\\2024-08-17\\2024-08-17_IPUSDT_USDT_1m.csv\n",
      "文件不存在: \\\\znas\\Main\\futures\\2024-08-18\\2024-08-18_IPUSDT_USDT_1m.csv\n",
      "文件不存在: \\\\znas\\Main\\futures\\2024-08-19\\2024-08-19_IPUSDT_USDT_1m.csv\n",
      "文件不存在: \\\\znas\\Main\\futures\\2024-08-20\\2024-08-20_IPUSDT_USDT_1m.csv\n",
      "文件不存在: \\\\znas\\Main\\futures\\2024-08-21\\2024-08-21_IPUSDT_USDT_1m.csv\n",
      "文件不存在: \\\\znas\\Main\\futures\\2024-08-22\\2024-08-22_IPUSDT_USDT_1m.csv\n",
      "文件不存在: \\\\znas\\Main\\futures\\2024-08-23\\2024-08-23_IPUSDT_USDT_1m.csv\n",
      "文件不存在: \\\\znas\\Main\\futures\\2024-08-24\\2024-08-24_IPUSDT_USDT_1m.csv\n",
      "文件不存在: \\\\znas\\Main\\futures\\2024-08-25\\2024-08-25_IPUSDT_USDT_1m.csv\n",
      "文件不存在: \\\\znas\\Main\\futures\\2024-08-26\\2024-08-26_IPUSDT_USDT_1m.csv\n",
      "文件不存在: \\\\znas\\Main\\futures\\2024-08-27\\2024-08-27_IPUSDT_USDT_1m.csv\n",
      "文件不存在: \\\\znas\\Main\\futures\\2024-08-28\\2024-08-28_IPUSDT_USDT_1m.csv\n",
      "文件不存在: \\\\znas\\Main\\futures\\2024-08-29\\2024-08-29_IPUSDT_USDT_1m.csv\n",
      "文件不存在: \\\\znas\\Main\\futures\\2024-08-30\\2024-08-30_IPUSDT_USDT_1m.csv\n",
      "文件不存在: \\\\znas\\Main\\futures\\2024-08-31\\2024-08-31_IPUSDT_USDT_1m.csv\n",
      "文件不存在: \\\\znas\\Main\\futures\\2024-09-01\\2024-09-01_IPUSDT_USDT_1m.csv\n",
      "文件不存在: \\\\znas\\Main\\futures\\2024-09-02\\2024-09-02_IPUSDT_USDT_1m.csv\n",
      "文件不存在: \\\\znas\\Main\\futures\\2024-09-03\\2024-09-03_IPUSDT_USDT_1m.csv\n",
      "文件不存在: \\\\znas\\Main\\futures\\2024-09-04\\2024-09-04_IPUSDT_USDT_1m.csv\n",
      "文件不存在: \\\\znas\\Main\\futures\\2024-09-05\\2024-09-05_IPUSDT_USDT_1m.csv\n",
      "文件不存在: \\\\znas\\Main\\futures\\2024-09-06\\2024-09-06_IPUSDT_USDT_1m.csv\n",
      "文件不存在: \\\\znas\\Main\\futures\\2024-09-07\\2024-09-07_IPUSDT_USDT_1m.csv\n",
      "文件不存在: \\\\znas\\Main\\futures\\2024-09-08\\2024-09-08_IPUSDT_USDT_1m.csv\n",
      "文件不存在: \\\\znas\\Main\\futures\\2024-09-09\\2024-09-09_IPUSDT_USDT_1m.csv\n",
      "文件不存在: \\\\znas\\Main\\futures\\2024-09-10\\2024-09-10_IPUSDT_USDT_1m.csv\n",
      "文件不存在: \\\\znas\\Main\\futures\\2024-09-11\\2024-09-11_IPUSDT_USDT_1m.csv\n",
      "文件不存在: \\\\znas\\Main\\futures\\2024-09-12\\2024-09-12_IPUSDT_USDT_1m.csv\n",
      "文件不存在: \\\\znas\\Main\\futures\\2024-09-13\\2024-09-13_IPUSDT_USDT_1m.csv\n",
      "文件不存在: \\\\znas\\Main\\futures\\2024-09-14\\2024-09-14_IPUSDT_USDT_1m.csv\n",
      "文件不存在: \\\\znas\\Main\\futures\\2024-09-15\\2024-09-15_IPUSDT_USDT_1m.csv\n",
      "文件不存在: \\\\znas\\Main\\futures\\2024-09-16\\2024-09-16_IPUSDT_USDT_1m.csv\n",
      "文件不存在: \\\\znas\\Main\\futures\\2024-09-17\\2024-09-17_IPUSDT_USDT_1m.csv\n",
      "文件不存在: \\\\znas\\Main\\futures\\2024-09-18\\2024-09-18_IPUSDT_USDT_1m.csv\n",
      "文件不存在: \\\\znas\\Main\\futures\\2024-09-19\\2024-09-19_IPUSDT_USDT_1m.csv\n",
      "文件不存在: \\\\znas\\Main\\futures\\2024-09-20\\2024-09-20_IPUSDT_USDT_1m.csv\n",
      "文件不存在: \\\\znas\\Main\\futures\\2024-09-21\\2024-09-21_IPUSDT_USDT_1m.csv\n",
      "文件不存在: \\\\znas\\Main\\futures\\2024-09-22\\2024-09-22_IPUSDT_USDT_1m.csv\n",
      "文件不存在: \\\\znas\\Main\\futures\\2024-09-23\\2024-09-23_IPUSDT_USDT_1m.csv\n",
      "文件不存在: \\\\znas\\Main\\futures\\2024-09-24\\2024-09-24_IPUSDT_USDT_1m.csv\n",
      "文件不存在: \\\\znas\\Main\\futures\\2024-09-25\\2024-09-25_IPUSDT_USDT_1m.csv\n",
      "文件不存在: \\\\znas\\Main\\futures\\2024-09-26\\2024-09-26_IPUSDT_USDT_1m.csv\n",
      "文件不存在: \\\\znas\\Main\\futures\\2024-09-27\\2024-09-27_IPUSDT_USDT_1m.csv\n",
      "文件不存在: \\\\znas\\Main\\futures\\2024-09-28\\2024-09-28_IPUSDT_USDT_1m.csv\n",
      "文件不存在: \\\\znas\\Main\\futures\\2024-09-29\\2024-09-29_IPUSDT_USDT_1m.csv\n",
      "文件不存在: \\\\znas\\Main\\futures\\2024-09-30\\2024-09-30_IPUSDT_USDT_1m.csv\n",
      "文件不存在: \\\\znas\\Main\\futures\\2024-10-01\\2024-10-01_IPUSDT_USDT_1m.csv\n",
      "文件不存在: \\\\znas\\Main\\futures\\2024-10-02\\2024-10-02_IPUSDT_USDT_1m.csv\n",
      "文件不存在: \\\\znas\\Main\\futures\\2024-10-03\\2024-10-03_IPUSDT_USDT_1m.csv\n",
      "文件不存在: \\\\znas\\Main\\futures\\2024-10-04\\2024-10-04_IPUSDT_USDT_1m.csv\n",
      "文件不存在: \\\\znas\\Main\\futures\\2024-10-05\\2024-10-05_IPUSDT_USDT_1m.csv\n",
      "文件不存在: \\\\znas\\Main\\futures\\2024-10-06\\2024-10-06_IPUSDT_USDT_1m.csv\n",
      "文件不存在: \\\\znas\\Main\\futures\\2024-10-07\\2024-10-07_IPUSDT_USDT_1m.csv\n",
      "文件不存在: \\\\znas\\Main\\futures\\2024-10-08\\2024-10-08_IPUSDT_USDT_1m.csv\n",
      "文件不存在: \\\\znas\\Main\\futures\\2024-10-09\\2024-10-09_IPUSDT_USDT_1m.csv\n",
      "文件不存在: \\\\znas\\Main\\futures\\2024-10-10\\2024-10-10_IPUSDT_USDT_1m.csv\n",
      "文件不存在: \\\\znas\\Main\\futures\\2024-10-11\\2024-10-11_IPUSDT_USDT_1m.csv\n",
      "文件不存在: \\\\znas\\Main\\futures\\2024-10-12\\2024-10-12_IPUSDT_USDT_1m.csv\n",
      "文件不存在: \\\\znas\\Main\\futures\\2024-10-13\\2024-10-13_IPUSDT_USDT_1m.csv\n",
      "文件不存在: \\\\znas\\Main\\futures\\2024-10-14\\2024-10-14_IPUSDT_USDT_1m.csv\n",
      "文件不存在: \\\\znas\\Main\\futures\\2024-10-15\\2024-10-15_IPUSDT_USDT_1m.csv\n",
      "文件不存在: \\\\znas\\Main\\futures\\2024-10-16\\2024-10-16_IPUSDT_USDT_1m.csv\n",
      "文件不存在: \\\\znas\\Main\\futures\\2024-10-17\\2024-10-17_IPUSDT_USDT_1m.csv\n",
      "文件不存在: \\\\znas\\Main\\futures\\2024-10-18\\2024-10-18_IPUSDT_USDT_1m.csv\n",
      "文件不存在: \\\\znas\\Main\\futures\\2024-10-19\\2024-10-19_IPUSDT_USDT_1m.csv\n",
      "文件不存在: \\\\znas\\Main\\futures\\2024-10-20\\2024-10-20_IPUSDT_USDT_1m.csv\n",
      "文件不存在: \\\\znas\\Main\\futures\\2024-10-21\\2024-10-21_IPUSDT_USDT_1m.csv\n",
      "文件不存在: \\\\znas\\Main\\futures\\2024-10-22\\2024-10-22_IPUSDT_USDT_1m.csv\n",
      "文件不存在: \\\\znas\\Main\\futures\\2024-10-23\\2024-10-23_IPUSDT_USDT_1m.csv\n",
      "文件不存在: \\\\znas\\Main\\futures\\2024-10-24\\2024-10-24_IPUSDT_USDT_1m.csv\n",
      "文件不存在: \\\\znas\\Main\\futures\\2024-10-25\\2024-10-25_IPUSDT_USDT_1m.csv\n",
      "文件不存在: \\\\znas\\Main\\futures\\2024-10-26\\2024-10-26_IPUSDT_USDT_1m.csv\n",
      "文件不存在: \\\\znas\\Main\\futures\\2024-10-27\\2024-10-27_IPUSDT_USDT_1m.csv\n",
      "文件不存在: \\\\znas\\Main\\futures\\2024-10-28\\2024-10-28_IPUSDT_USDT_1m.csv\n",
      "文件不存在: \\\\znas\\Main\\futures\\2024-10-29\\2024-10-29_IPUSDT_USDT_1m.csv\n",
      "文件不存在: \\\\znas\\Main\\futures\\2024-10-30\\2024-10-30_IPUSDT_USDT_1m.csv\n",
      "文件不存在: \\\\znas\\Main\\futures\\2024-10-31\\2024-10-31_IPUSDT_USDT_1m.csv\n",
      "文件不存在: \\\\znas\\Main\\futures\\2024-11-01\\2024-11-01_IPUSDT_USDT_1m.csv\n",
      "文件不存在: \\\\znas\\Main\\futures\\2024-11-02\\2024-11-02_IPUSDT_USDT_1m.csv\n",
      "文件不存在: \\\\znas\\Main\\futures\\2024-11-03\\2024-11-03_IPUSDT_USDT_1m.csv\n",
      "文件不存在: \\\\znas\\Main\\futures\\2024-11-04\\2024-11-04_IPUSDT_USDT_1m.csv\n",
      "文件不存在: \\\\znas\\Main\\futures\\2024-11-05\\2024-11-05_IPUSDT_USDT_1m.csv\n",
      "文件不存在: \\\\znas\\Main\\futures\\2024-11-06\\2024-11-06_IPUSDT_USDT_1m.csv\n",
      "文件不存在: \\\\znas\\Main\\futures\\2024-11-07\\2024-11-07_IPUSDT_USDT_1m.csv\n",
      "文件不存在: \\\\znas\\Main\\futures\\2024-11-08\\2024-11-08_IPUSDT_USDT_1m.csv\n",
      "文件不存在: \\\\znas\\Main\\futures\\2024-11-09\\2024-11-09_IPUSDT_USDT_1m.csv\n",
      "文件不存在: \\\\znas\\Main\\futures\\2024-11-10\\2024-11-10_IPUSDT_USDT_1m.csv\n",
      "文件不存在: \\\\znas\\Main\\futures\\2024-11-11\\2024-11-11_IPUSDT_USDT_1m.csv\n",
      "文件不存在: \\\\znas\\Main\\futures\\2024-11-12\\2024-11-12_IPUSDT_USDT_1m.csv\n",
      "文件不存在: \\\\znas\\Main\\futures\\2024-11-13\\2024-11-13_IPUSDT_USDT_1m.csv\n",
      "文件不存在: \\\\znas\\Main\\futures\\2024-11-14\\2024-11-14_IPUSDT_USDT_1m.csv\n",
      "文件不存在: \\\\znas\\Main\\futures\\2024-11-15\\2024-11-15_IPUSDT_USDT_1m.csv\n",
      "文件不存在: \\\\znas\\Main\\futures\\2024-11-16\\2024-11-16_IPUSDT_USDT_1m.csv\n",
      "文件不存在: \\\\znas\\Main\\futures\\2024-11-17\\2024-11-17_IPUSDT_USDT_1m.csv\n",
      "文件不存在: \\\\znas\\Main\\futures\\2024-11-18\\2024-11-18_IPUSDT_USDT_1m.csv\n",
      "文件不存在: \\\\znas\\Main\\futures\\2024-11-19\\2024-11-19_IPUSDT_USDT_1m.csv\n",
      "文件不存在: \\\\znas\\Main\\futures\\2024-11-20\\2024-11-20_IPUSDT_USDT_1m.csv\n",
      "文件不存在: \\\\znas\\Main\\futures\\2024-11-21\\2024-11-21_IPUSDT_USDT_1m.csv\n",
      "文件不存在: \\\\znas\\Main\\futures\\2024-11-22\\2024-11-22_IPUSDT_USDT_1m.csv\n",
      "文件不存在: \\\\znas\\Main\\futures\\2024-11-23\\2024-11-23_IPUSDT_USDT_1m.csv\n",
      "文件不存在: \\\\znas\\Main\\futures\\2024-11-24\\2024-11-24_IPUSDT_USDT_1m.csv\n",
      "文件不存在: \\\\znas\\Main\\futures\\2024-11-25\\2024-11-25_IPUSDT_USDT_1m.csv\n",
      "文件不存在: \\\\znas\\Main\\futures\\2024-11-26\\2024-11-26_IPUSDT_USDT_1m.csv\n",
      "文件不存在: \\\\znas\\Main\\futures\\2024-11-27\\2024-11-27_IPUSDT_USDT_1m.csv\n",
      "文件不存在: \\\\znas\\Main\\futures\\2024-11-28\\2024-11-28_IPUSDT_USDT_1m.csv\n",
      "文件不存在: \\\\znas\\Main\\futures\\2024-11-29\\2024-11-29_IPUSDT_USDT_1m.csv\n",
      "文件不存在: \\\\znas\\Main\\futures\\2024-11-30\\2024-11-30_IPUSDT_USDT_1m.csv\n",
      "文件不存在: \\\\znas\\Main\\futures\\2024-12-01\\2024-12-01_IPUSDT_USDT_1m.csv\n",
      "文件不存在: \\\\znas\\Main\\futures\\2024-12-02\\2024-12-02_IPUSDT_USDT_1m.csv\n",
      "文件不存在: \\\\znas\\Main\\futures\\2024-12-03\\2024-12-03_IPUSDT_USDT_1m.csv\n",
      "文件不存在: \\\\znas\\Main\\futures\\2024-12-04\\2024-12-04_IPUSDT_USDT_1m.csv\n",
      "文件不存在: \\\\znas\\Main\\futures\\2024-12-05\\2024-12-05_IPUSDT_USDT_1m.csv\n",
      "文件不存在: \\\\znas\\Main\\futures\\2024-12-06\\2024-12-06_IPUSDT_USDT_1m.csv\n",
      "文件不存在: \\\\znas\\Main\\futures\\2024-12-07\\2024-12-07_IPUSDT_USDT_1m.csv\n",
      "文件不存在: \\\\znas\\Main\\futures\\2024-12-08\\2024-12-08_IPUSDT_USDT_1m.csv\n",
      "文件不存在: \\\\znas\\Main\\futures\\2024-12-09\\2024-12-09_IPUSDT_USDT_1m.csv\n",
      "文件不存在: \\\\znas\\Main\\futures\\2024-12-10\\2024-12-10_IPUSDT_USDT_1m.csv\n",
      "文件不存在: \\\\znas\\Main\\futures\\2024-12-11\\2024-12-11_IPUSDT_USDT_1m.csv\n",
      "文件不存在: \\\\znas\\Main\\futures\\2024-12-12\\2024-12-12_IPUSDT_USDT_1m.csv\n",
      "文件不存在: \\\\znas\\Main\\futures\\2024-12-13\\2024-12-13_IPUSDT_USDT_1m.csv\n",
      "文件不存在: \\\\znas\\Main\\futures\\2024-12-14\\2024-12-14_IPUSDT_USDT_1m.csv\n",
      "文件不存在: \\\\znas\\Main\\futures\\2024-12-15\\2024-12-15_IPUSDT_USDT_1m.csv\n",
      "文件不存在: \\\\znas\\Main\\futures\\2024-12-16\\2024-12-16_IPUSDT_USDT_1m.csv\n",
      "文件不存在: \\\\znas\\Main\\futures\\2024-12-17\\2024-12-17_IPUSDT_USDT_1m.csv\n",
      "文件不存在: \\\\znas\\Main\\futures\\2024-12-18\\2024-12-18_IPUSDT_USDT_1m.csv\n",
      "文件不存在: \\\\znas\\Main\\futures\\2024-12-19\\2024-12-19_IPUSDT_USDT_1m.csv\n",
      "文件不存在: \\\\znas\\Main\\futures\\2024-12-20\\2024-12-20_IPUSDT_USDT_1m.csv\n",
      "文件不存在: \\\\znas\\Main\\futures\\2024-12-21\\2024-12-21_IPUSDT_USDT_1m.csv\n",
      "文件不存在: \\\\znas\\Main\\futures\\2024-12-22\\2024-12-22_IPUSDT_USDT_1m.csv\n",
      "文件不存在: \\\\znas\\Main\\futures\\2024-12-23\\2024-12-23_IPUSDT_USDT_1m.csv\n",
      "文件不存在: \\\\znas\\Main\\futures\\2024-12-24\\2024-12-24_IPUSDT_USDT_1m.csv\n",
      "文件不存在: \\\\znas\\Main\\futures\\2024-12-25\\2024-12-25_IPUSDT_USDT_1m.csv\n",
      "文件不存在: \\\\znas\\Main\\futures\\2024-12-26\\2024-12-26_IPUSDT_USDT_1m.csv\n",
      "文件不存在: \\\\znas\\Main\\futures\\2024-12-27\\2024-12-27_IPUSDT_USDT_1m.csv\n",
      "文件不存在: \\\\znas\\Main\\futures\\2024-12-28\\2024-12-28_IPUSDT_USDT_1m.csv\n",
      "文件不存在: \\\\znas\\Main\\futures\\2024-12-29\\2024-12-29_IPUSDT_USDT_1m.csv\n",
      "文件不存在: \\\\znas\\Main\\futures\\2024-12-30\\2024-12-30_IPUSDT_USDT_1m.csv\n",
      "文件不存在: \\\\znas\\Main\\futures\\2024-12-31\\2024-12-31_IPUSDT_USDT_1m.csv\n",
      "文件不存在: \\\\znas\\Main\\futures\\2025-01-01\\2025-01-01_IPUSDT_USDT_1m.csv\n",
      "文件不存在: \\\\znas\\Main\\futures\\2025-01-02\\2025-01-02_IPUSDT_USDT_1m.csv\n",
      "文件不存在: \\\\znas\\Main\\futures\\2025-01-03\\2025-01-03_IPUSDT_USDT_1m.csv\n",
      "文件不存在: \\\\znas\\Main\\futures\\2025-01-04\\2025-01-04_IPUSDT_USDT_1m.csv\n",
      "文件不存在: \\\\znas\\Main\\futures\\2025-01-05\\2025-01-05_IPUSDT_USDT_1m.csv\n",
      "文件不存在: \\\\znas\\Main\\futures\\2025-01-06\\2025-01-06_IPUSDT_USDT_1m.csv\n",
      "文件不存在: \\\\znas\\Main\\futures\\2025-01-07\\2025-01-07_IPUSDT_USDT_1m.csv\n",
      "文件不存在: \\\\znas\\Main\\futures\\2025-01-08\\2025-01-08_IPUSDT_USDT_1m.csv\n",
      "文件不存在: \\\\znas\\Main\\futures\\2025-01-09\\2025-01-09_IPUSDT_USDT_1m.csv\n",
      "文件不存在: \\\\znas\\Main\\futures\\2025-01-10\\2025-01-10_IPUSDT_USDT_1m.csv\n",
      "文件不存在: \\\\znas\\Main\\futures\\2025-01-11\\2025-01-11_IPUSDT_USDT_1m.csv\n",
      "文件不存在: \\\\znas\\Main\\futures\\2025-01-12\\2025-01-12_IPUSDT_USDT_1m.csv\n",
      "文件不存在: \\\\znas\\Main\\futures\\2025-01-13\\2025-01-13_IPUSDT_USDT_1m.csv\n",
      "文件不存在: \\\\znas\\Main\\futures\\2025-01-14\\2025-01-14_IPUSDT_USDT_1m.csv\n",
      "文件不存在: \\\\znas\\Main\\futures\\2025-01-15\\2025-01-15_IPUSDT_USDT_1m.csv\n",
      "文件不存在: \\\\znas\\Main\\futures\\2025-01-16\\2025-01-16_IPUSDT_USDT_1m.csv\n",
      "文件不存在: \\\\znas\\Main\\futures\\2025-01-17\\2025-01-17_IPUSDT_USDT_1m.csv\n",
      "文件不存在: \\\\znas\\Main\\futures\\2025-01-18\\2025-01-18_IPUSDT_USDT_1m.csv\n",
      "文件不存在: \\\\znas\\Main\\futures\\2025-01-19\\2025-01-19_IPUSDT_USDT_1m.csv\n",
      "文件不存在: \\\\znas\\Main\\futures\\2025-01-20\\2025-01-20_IPUSDT_USDT_1m.csv\n",
      "文件不存在: \\\\znas\\Main\\futures\\2025-01-21\\2025-01-21_IPUSDT_USDT_1m.csv\n",
      "文件不存在: \\\\znas\\Main\\futures\\2025-01-22\\2025-01-22_IPUSDT_USDT_1m.csv\n",
      "文件不存在: \\\\znas\\Main\\futures\\2025-01-23\\2025-01-23_IPUSDT_USDT_1m.csv\n",
      "文件不存在: \\\\znas\\Main\\futures\\2025-01-24\\2025-01-24_IPUSDT_USDT_1m.csv\n",
      "文件不存在: \\\\znas\\Main\\futures\\2025-01-25\\2025-01-25_IPUSDT_USDT_1m.csv\n",
      "文件不存在: \\\\znas\\Main\\futures\\2025-01-26\\2025-01-26_IPUSDT_USDT_1m.csv\n",
      "文件不存在: \\\\znas\\Main\\futures\\2025-01-27\\2025-01-27_IPUSDT_USDT_1m.csv\n",
      "文件不存在: \\\\znas\\Main\\futures\\2025-01-28\\2025-01-28_IPUSDT_USDT_1m.csv\n",
      "文件不存在: \\\\znas\\Main\\futures\\2025-01-29\\2025-01-29_IPUSDT_USDT_1m.csv\n",
      "文件不存在: \\\\znas\\Main\\futures\\2025-01-30\\2025-01-30_IPUSDT_USDT_1m.csv\n",
      "文件不存在: \\\\znas\\Main\\futures\\2025-01-31\\2025-01-31_IPUSDT_USDT_1m.csv\n",
      "文件不存在: \\\\znas\\Main\\futures\\2025-02-01\\2025-02-01_IPUSDT_USDT_1m.csv\n",
      "文件不存在: \\\\znas\\Main\\futures\\2025-02-02\\2025-02-02_IPUSDT_USDT_1m.csv\n",
      "文件不存在: \\\\znas\\Main\\futures\\2025-02-03\\2025-02-03_IPUSDT_USDT_1m.csv\n",
      "文件不存在: \\\\znas\\Main\\futures\\2025-02-04\\2025-02-04_IPUSDT_USDT_1m.csv\n",
      "文件不存在: \\\\znas\\Main\\futures\\2025-02-05\\2025-02-05_IPUSDT_USDT_1m.csv\n",
      "文件不存在: \\\\znas\\Main\\futures\\2025-02-06\\2025-02-06_IPUSDT_USDT_1m.csv\n",
      "文件不存在: \\\\znas\\Main\\futures\\2025-02-07\\2025-02-07_IPUSDT_USDT_1m.csv\n",
      "文件不存在: \\\\znas\\Main\\futures\\2025-02-08\\2025-02-08_IPUSDT_USDT_1m.csv\n",
      "处理任务出错: 未找到 IPUSDT 在指定日期范围内的数据\n",
      "文件不存在: \\\\znas\\Main\\futures\\2024-01-01\\2024-01-01_IPUSDT_USDT_1m.csv\n",
      "文件不存在: \\\\znas\\Main\\futures\\2024-01-02\\2024-01-02_IPUSDT_USDT_1m.csv\n",
      "文件不存在: \\\\znas\\Main\\futures\\2024-01-03\\2024-01-03_IPUSDT_USDT_1m.csv\n",
      "文件不存在: \\\\znas\\Main\\futures\\2024-01-04\\2024-01-04_IPUSDT_USDT_1m.csv\n",
      "文件不存在: \\\\znas\\Main\\futures\\2024-01-05\\2024-01-05_IPUSDT_USDT_1m.csv\n",
      "文件不存在: \\\\znas\\Main\\futures\\2024-01-06\\2024-01-06_IPUSDT_USDT_1m.csv\n",
      "文件不存在: \\\\znas\\Main\\futures\\2024-01-07\\2024-01-07_IPUSDT_USDT_1m.csv\n",
      "文件不存在: \\\\znas\\Main\\futures\\2024-01-08\\2024-01-08_IPUSDT_USDT_1m.csv\n",
      "文件不存在: \\\\znas\\Main\\futures\\2024-01-09\\2024-01-09_IPUSDT_USDT_1m.csv\n",
      "文件不存在: \\\\znas\\Main\\futures\\2024-01-10\\2024-01-10_IPUSDT_USDT_1m.csv\n",
      "文件不存在: \\\\znas\\Main\\futures\\2024-01-11\\2024-01-11_IPUSDT_USDT_1m.csv\n",
      "文件不存在: \\\\znas\\Main\\futures\\2024-01-12\\2024-01-12_IPUSDT_USDT_1m.csv\n",
      "文件不存在: \\\\znas\\Main\\futures\\2024-01-13\\2024-01-13_IPUSDT_USDT_1m.csv\n",
      "文件不存在: \\\\znas\\Main\\futures\\2024-01-14\\2024-01-14_IPUSDT_USDT_1m.csv\n",
      "文件不存在: \\\\znas\\Main\\futures\\2024-01-15\\2024-01-15_IPUSDT_USDT_1m.csv\n",
      "文件不存在: \\\\znas\\Main\\futures\\2024-01-16\\2024-01-16_IPUSDT_USDT_1m.csv\n",
      "文件不存在: \\\\znas\\Main\\futures\\2024-01-17\\2024-01-17_IPUSDT_USDT_1m.csv\n",
      "文件不存在: \\\\znas\\Main\\futures\\2024-01-18\\2024-01-18_IPUSDT_USDT_1m.csv\n",
      "文件不存在: \\\\znas\\Main\\futures\\2024-01-19\\2024-01-19_IPUSDT_USDT_1m.csv\n",
      "文件不存在: \\\\znas\\Main\\futures\\2024-01-20\\2024-01-20_IPUSDT_USDT_1m.csv\n",
      "文件不存在: \\\\znas\\Main\\futures\\2024-01-21\\2024-01-21_IPUSDT_USDT_1m.csv\n",
      "文件不存在: \\\\znas\\Main\\futures\\2024-01-22\\2024-01-22_IPUSDT_USDT_1m.csv\n",
      "文件不存在: \\\\znas\\Main\\futures\\2024-01-23\\2024-01-23_IPUSDT_USDT_1m.csv\n",
      "文件不存在: \\\\znas\\Main\\futures\\2024-01-24\\2024-01-24_IPUSDT_USDT_1m.csv\n",
      "文件不存在: \\\\znas\\Main\\futures\\2024-01-25\\2024-01-25_IPUSDT_USDT_1m.csv\n",
      "文件不存在: \\\\znas\\Main\\futures\\2024-01-26\\2024-01-26_IPUSDT_USDT_1m.csv\n",
      "文件不存在: \\\\znas\\Main\\futures\\2024-01-27\\2024-01-27_IPUSDT_USDT_1m.csv\n",
      "文件不存在: \\\\znas\\Main\\futures\\2024-01-28\\2024-01-28_IPUSDT_USDT_1m.csv\n",
      "文件不存在: \\\\znas\\Main\\futures\\2024-01-29\\2024-01-29_IPUSDT_USDT_1m.csv\n",
      "文件不存在: \\\\znas\\Main\\futures\\2024-01-30\\2024-01-30_IPUSDT_USDT_1m.csv\n",
      "文件不存在: \\\\znas\\Main\\futures\\2024-01-31\\2024-01-31_IPUSDT_USDT_1m.csv\n",
      "文件不存在: \\\\znas\\Main\\futures\\2024-02-01\\2024-02-01_IPUSDT_USDT_1m.csv\n",
      "文件不存在: \\\\znas\\Main\\futures\\2024-02-02\\2024-02-02_IPUSDT_USDT_1m.csv\n",
      "文件不存在: \\\\znas\\Main\\futures\\2024-02-03\\2024-02-03_IPUSDT_USDT_1m.csv\n",
      "文件不存在: \\\\znas\\Main\\futures\\2024-02-04\\2024-02-04_IPUSDT_USDT_1m.csv\n",
      "文件不存在: \\\\znas\\Main\\futures\\2024-02-05\\2024-02-05_IPUSDT_USDT_1m.csv\n",
      "文件不存在: \\\\znas\\Main\\futures\\2024-02-06\\2024-02-06_IPUSDT_USDT_1m.csv\n",
      "文件不存在: \\\\znas\\Main\\futures\\2024-02-07\\2024-02-07_IPUSDT_USDT_1m.csv\n",
      "文件不存在: \\\\znas\\Main\\futures\\2024-02-08\\2024-02-08_IPUSDT_USDT_1m.csv\n",
      "文件不存在: \\\\znas\\Main\\futures\\2024-02-09\\2024-02-09_IPUSDT_USDT_1m.csv\n",
      "文件不存在: \\\\znas\\Main\\futures\\2024-02-10\\2024-02-10_IPUSDT_USDT_1m.csv\n",
      "文件不存在: \\\\znas\\Main\\futures\\2024-02-11\\2024-02-11_IPUSDT_USDT_1m.csv\n",
      "文件不存在: \\\\znas\\Main\\futures\\2024-02-12\\2024-02-12_IPUSDT_USDT_1m.csv\n",
      "文件不存在: \\\\znas\\Main\\futures\\2024-02-13\\2024-02-13_IPUSDT_USDT_1m.csv\n",
      "文件不存在: \\\\znas\\Main\\futures\\2024-02-14\\2024-02-14_IPUSDT_USDT_1m.csv\n",
      "文件不存在: \\\\znas\\Main\\futures\\2024-02-15\\2024-02-15_IPUSDT_USDT_1m.csv\n",
      "文件不存在: \\\\znas\\Main\\futures\\2024-02-16\\2024-02-16_IPUSDT_USDT_1m.csv\n",
      "文件不存在: \\\\znas\\Main\\futures\\2024-02-17\\2024-02-17_IPUSDT_USDT_1m.csv\n",
      "文件不存在: \\\\znas\\Main\\futures\\2024-02-18\\2024-02-18_IPUSDT_USDT_1m.csv\n",
      "文件不存在: \\\\znas\\Main\\futures\\2024-02-19\\2024-02-19_IPUSDT_USDT_1m.csv\n",
      "文件不存在: \\\\znas\\Main\\futures\\2024-02-20\\2024-02-20_IPUSDT_USDT_1m.csv\n",
      "文件不存在: \\\\znas\\Main\\futures\\2024-02-21\\2024-02-21_IPUSDT_USDT_1m.csv\n",
      "文件不存在: \\\\znas\\Main\\futures\\2024-02-22\\2024-02-22_IPUSDT_USDT_1m.csv\n",
      "文件不存在: \\\\znas\\Main\\futures\\2024-02-23\\2024-02-23_IPUSDT_USDT_1m.csv\n",
      "文件不存在: \\\\znas\\Main\\futures\\2024-02-24\\2024-02-24_IPUSDT_USDT_1m.csv\n",
      "文件不存在: \\\\znas\\Main\\futures\\2024-02-25\\2024-02-25_IPUSDT_USDT_1m.csv\n",
      "文件不存在: \\\\znas\\Main\\futures\\2024-02-26\\2024-02-26_IPUSDT_USDT_1m.csv\n",
      "文件不存在: \\\\znas\\Main\\futures\\2024-02-27\\2024-02-27_IPUSDT_USDT_1m.csv\n",
      "文件不存在: \\\\znas\\Main\\futures\\2024-02-28\\2024-02-28_IPUSDT_USDT_1m.csv\n",
      "文件不存在: \\\\znas\\Main\\futures\\2024-02-29\\2024-02-29_IPUSDT_USDT_1m.csv\n",
      "文件不存在: \\\\znas\\Main\\futures\\2024-03-01\\2024-03-01_IPUSDT_USDT_1m.csv\n",
      "文件不存在: \\\\znas\\Main\\futures\\2024-03-02\\2024-03-02_IPUSDT_USDT_1m.csv\n",
      "文件不存在: \\\\znas\\Main\\futures\\2024-03-03\\2024-03-03_IPUSDT_USDT_1m.csv\n",
      "文件不存在: \\\\znas\\Main\\futures\\2024-03-04\\2024-03-04_IPUSDT_USDT_1m.csv\n",
      "文件不存在: \\\\znas\\Main\\futures\\2024-03-05\\2024-03-05_IPUSDT_USDT_1m.csv\n",
      "文件不存在: \\\\znas\\Main\\futures\\2024-03-06\\2024-03-06_IPUSDT_USDT_1m.csv\n",
      "文件不存在: \\\\znas\\Main\\futures\\2024-03-07\\2024-03-07_IPUSDT_USDT_1m.csv\n",
      "文件不存在: \\\\znas\\Main\\futures\\2024-03-08\\2024-03-08_IPUSDT_USDT_1m.csv\n",
      "文件不存在: \\\\znas\\Main\\futures\\2024-03-09\\2024-03-09_IPUSDT_USDT_1m.csv\n",
      "文件不存在: \\\\znas\\Main\\futures\\2024-03-10\\2024-03-10_IPUSDT_USDT_1m.csv\n",
      "文件不存在: \\\\znas\\Main\\futures\\2024-03-11\\2024-03-11_IPUSDT_USDT_1m.csv\n",
      "文件不存在: \\\\znas\\Main\\futures\\2024-03-12\\2024-03-12_IPUSDT_USDT_1m.csv\n",
      "文件不存在: \\\\znas\\Main\\futures\\2024-03-13\\2024-03-13_IPUSDT_USDT_1m.csv\n",
      "文件不存在: \\\\znas\\Main\\futures\\2024-03-14\\2024-03-14_IPUSDT_USDT_1m.csv\n",
      "文件不存在: \\\\znas\\Main\\futures\\2024-03-15\\2024-03-15_IPUSDT_USDT_1m.csv\n",
      "文件不存在: \\\\znas\\Main\\futures\\2024-03-16\\2024-03-16_IPUSDT_USDT_1m.csv\n",
      "文件不存在: \\\\znas\\Main\\futures\\2024-03-17\\2024-03-17_IPUSDT_USDT_1m.csv\n",
      "文件不存在: \\\\znas\\Main\\futures\\2024-03-18\\2024-03-18_IPUSDT_USDT_1m.csv\n",
      "文件不存在: \\\\znas\\Main\\futures\\2024-03-19\\2024-03-19_IPUSDT_USDT_1m.csv\n",
      "文件不存在: \\\\znas\\Main\\futures\\2024-03-20\\2024-03-20_IPUSDT_USDT_1m.csv\n",
      "文件不存在: \\\\znas\\Main\\futures\\2024-03-21\\2024-03-21_IPUSDT_USDT_1m.csv\n",
      "文件不存在: \\\\znas\\Main\\futures\\2024-03-22\\2024-03-22_IPUSDT_USDT_1m.csv\n",
      "文件不存在: \\\\znas\\Main\\futures\\2024-03-23\\2024-03-23_IPUSDT_USDT_1m.csv\n",
      "文件不存在: \\\\znas\\Main\\futures\\2024-03-24\\2024-03-24_IPUSDT_USDT_1m.csv\n",
      "文件不存在: \\\\znas\\Main\\futures\\2024-03-25\\2024-03-25_IPUSDT_USDT_1m.csv\n",
      "文件不存在: \\\\znas\\Main\\futures\\2024-03-26\\2024-03-26_IPUSDT_USDT_1m.csv\n",
      "文件不存在: \\\\znas\\Main\\futures\\2024-03-27\\2024-03-27_IPUSDT_USDT_1m.csv\n",
      "文件不存在: \\\\znas\\Main\\futures\\2024-03-28\\2024-03-28_IPUSDT_USDT_1m.csv\n",
      "文件不存在: \\\\znas\\Main\\futures\\2024-03-29\\2024-03-29_IPUSDT_USDT_1m.csv\n",
      "文件不存在: \\\\znas\\Main\\futures\\2024-03-30\\2024-03-30_IPUSDT_USDT_1m.csv\n",
      "文件不存在: \\\\znas\\Main\\futures\\2024-03-31\\2024-03-31_IPUSDT_USDT_1m.csv\n",
      "文件不存在: \\\\znas\\Main\\futures\\2024-04-01\\2024-04-01_IPUSDT_USDT_1m.csv\n",
      "文件不存在: \\\\znas\\Main\\futures\\2024-04-02\\2024-04-02_IPUSDT_USDT_1m.csv\n",
      "文件不存在: \\\\znas\\Main\\futures\\2024-04-03\\2024-04-03_IPUSDT_USDT_1m.csv\n",
      "文件不存在: \\\\znas\\Main\\futures\\2024-04-04\\2024-04-04_IPUSDT_USDT_1m.csv\n",
      "文件不存在: \\\\znas\\Main\\futures\\2024-04-05\\2024-04-05_IPUSDT_USDT_1m.csv\n",
      "文件不存在: \\\\znas\\Main\\futures\\2024-04-06\\2024-04-06_IPUSDT_USDT_1m.csv\n",
      "文件不存在: \\\\znas\\Main\\futures\\2024-04-07\\2024-04-07_IPUSDT_USDT_1m.csv\n",
      "文件不存在: \\\\znas\\Main\\futures\\2024-04-08\\2024-04-08_IPUSDT_USDT_1m.csv\n",
      "文件不存在: \\\\znas\\Main\\futures\\2024-04-09\\2024-04-09_IPUSDT_USDT_1m.csv\n",
      "文件不存在: \\\\znas\\Main\\futures\\2024-04-10\\2024-04-10_IPUSDT_USDT_1m.csv\n",
      "文件不存在: \\\\znas\\Main\\futures\\2024-04-11\\2024-04-11_IPUSDT_USDT_1m.csv\n",
      "文件不存在: \\\\znas\\Main\\futures\\2024-04-12\\2024-04-12_IPUSDT_USDT_1m.csv\n",
      "文件不存在: \\\\znas\\Main\\futures\\2024-04-13\\2024-04-13_IPUSDT_USDT_1m.csv\n",
      "文件不存在: \\\\znas\\Main\\futures\\2024-04-14\\2024-04-14_IPUSDT_USDT_1m.csv\n",
      "文件不存在: \\\\znas\\Main\\futures\\2024-04-15\\2024-04-15_IPUSDT_USDT_1m.csv\n",
      "文件不存在: \\\\znas\\Main\\futures\\2024-04-16\\2024-04-16_IPUSDT_USDT_1m.csv\n",
      "文件不存在: \\\\znas\\Main\\futures\\2024-04-17\\2024-04-17_IPUSDT_USDT_1m.csv\n",
      "文件不存在: \\\\znas\\Main\\futures\\2024-04-18\\2024-04-18_IPUSDT_USDT_1m.csv\n",
      "文件不存在: \\\\znas\\Main\\futures\\2024-04-19\\2024-04-19_IPUSDT_USDT_1m.csv\n",
      "文件不存在: \\\\znas\\Main\\futures\\2024-04-20\\2024-04-20_IPUSDT_USDT_1m.csv\n",
      "文件不存在: \\\\znas\\Main\\futures\\2024-04-21\\2024-04-21_IPUSDT_USDT_1m.csv\n",
      "文件不存在: \\\\znas\\Main\\futures\\2024-04-22\\2024-04-22_IPUSDT_USDT_1m.csv\n",
      "文件不存在: \\\\znas\\Main\\futures\\2024-04-23\\2024-04-23_IPUSDT_USDT_1m.csv\n",
      "文件不存在: \\\\znas\\Main\\futures\\2024-04-24\\2024-04-24_IPUSDT_USDT_1m.csv\n",
      "文件不存在: \\\\znas\\Main\\futures\\2024-04-25\\2024-04-25_IPUSDT_USDT_1m.csv\n",
      "文件不存在: \\\\znas\\Main\\futures\\2024-04-26\\2024-04-26_IPUSDT_USDT_1m.csv\n",
      "文件不存在: \\\\znas\\Main\\futures\\2024-04-27\\2024-04-27_IPUSDT_USDT_1m.csv\n",
      "文件不存在: \\\\znas\\Main\\futures\\2024-04-28\\2024-04-28_IPUSDT_USDT_1m.csv\n",
      "文件不存在: \\\\znas\\Main\\futures\\2024-04-29\\2024-04-29_IPUSDT_USDT_1m.csv\n",
      "文件不存在: \\\\znas\\Main\\futures\\2024-04-30\\2024-04-30_IPUSDT_USDT_1m.csv\n",
      "文件不存在: \\\\znas\\Main\\futures\\2024-05-01\\2024-05-01_IPUSDT_USDT_1m.csv\n",
      "文件不存在: \\\\znas\\Main\\futures\\2024-05-02\\2024-05-02_IPUSDT_USDT_1m.csv\n",
      "文件不存在: \\\\znas\\Main\\futures\\2024-05-03\\2024-05-03_IPUSDT_USDT_1m.csv\n",
      "文件不存在: \\\\znas\\Main\\futures\\2024-05-04\\2024-05-04_IPUSDT_USDT_1m.csv\n",
      "文件不存在: \\\\znas\\Main\\futures\\2024-05-05\\2024-05-05_IPUSDT_USDT_1m.csv\n",
      "文件不存在: \\\\znas\\Main\\futures\\2024-05-06\\2024-05-06_IPUSDT_USDT_1m.csv\n",
      "文件不存在: \\\\znas\\Main\\futures\\2024-05-07\\2024-05-07_IPUSDT_USDT_1m.csv\n",
      "文件不存在: \\\\znas\\Main\\futures\\2024-05-08\\2024-05-08_IPUSDT_USDT_1m.csv\n",
      "文件不存在: \\\\znas\\Main\\futures\\2024-05-09\\2024-05-09_IPUSDT_USDT_1m.csv\n",
      "文件不存在: \\\\znas\\Main\\futures\\2024-05-10\\2024-05-10_IPUSDT_USDT_1m.csv\n",
      "文件不存在: \\\\znas\\Main\\futures\\2024-05-11\\2024-05-11_IPUSDT_USDT_1m.csv\n",
      "文件不存在: \\\\znas\\Main\\futures\\2024-05-12\\2024-05-12_IPUSDT_USDT_1m.csv\n",
      "文件不存在: \\\\znas\\Main\\futures\\2024-05-13\\2024-05-13_IPUSDT_USDT_1m.csv\n",
      "文件不存在: \\\\znas\\Main\\futures\\2024-05-14\\2024-05-14_IPUSDT_USDT_1m.csv\n",
      "文件不存在: \\\\znas\\Main\\futures\\2024-05-15\\2024-05-15_IPUSDT_USDT_1m.csv\n",
      "文件不存在: \\\\znas\\Main\\futures\\2024-05-16\\2024-05-16_IPUSDT_USDT_1m.csv\n",
      "文件不存在: \\\\znas\\Main\\futures\\2024-05-17\\2024-05-17_IPUSDT_USDT_1m.csv\n",
      "文件不存在: \\\\znas\\Main\\futures\\2024-05-18\\2024-05-18_IPUSDT_USDT_1m.csv\n",
      "文件不存在: \\\\znas\\Main\\futures\\2024-05-19\\2024-05-19_IPUSDT_USDT_1m.csv\n",
      "文件不存在: \\\\znas\\Main\\futures\\2024-05-20\\2024-05-20_IPUSDT_USDT_1m.csv\n",
      "文件不存在: \\\\znas\\Main\\futures\\2024-05-21\\2024-05-21_IPUSDT_USDT_1m.csv\n",
      "文件不存在: \\\\znas\\Main\\futures\\2024-05-22\\2024-05-22_IPUSDT_USDT_1m.csv\n",
      "文件不存在: \\\\znas\\Main\\futures\\2024-05-23\\2024-05-23_IPUSDT_USDT_1m.csv\n",
      "文件不存在: \\\\znas\\Main\\futures\\2024-05-24\\2024-05-24_IPUSDT_USDT_1m.csv\n",
      "文件不存在: \\\\znas\\Main\\futures\\2024-05-25\\2024-05-25_IPUSDT_USDT_1m.csv\n",
      "文件不存在: \\\\znas\\Main\\futures\\2024-05-26\\2024-05-26_IPUSDT_USDT_1m.csv\n",
      "文件不存在: \\\\znas\\Main\\futures\\2024-05-27\\2024-05-27_IPUSDT_USDT_1m.csv\n",
      "文件不存在: \\\\znas\\Main\\futures\\2024-05-28\\2024-05-28_IPUSDT_USDT_1m.csv\n",
      "文件不存在: \\\\znas\\Main\\futures\\2024-05-29\\2024-05-29_IPUSDT_USDT_1m.csv\n",
      "文件不存在: \\\\znas\\Main\\futures\\2024-05-30\\2024-05-30_IPUSDT_USDT_1m.csv\n",
      "文件不存在: \\\\znas\\Main\\futures\\2024-05-31\\2024-05-31_IPUSDT_USDT_1m.csv\n",
      "文件不存在: \\\\znas\\Main\\futures\\2024-06-01\\2024-06-01_IPUSDT_USDT_1m.csv\n",
      "文件不存在: \\\\znas\\Main\\futures\\2024-06-02\\2024-06-02_IPUSDT_USDT_1m.csv\n",
      "文件不存在: \\\\znas\\Main\\futures\\2024-06-03\\2024-06-03_IPUSDT_USDT_1m.csv\n",
      "文件不存在: \\\\znas\\Main\\futures\\2024-06-04\\2024-06-04_IPUSDT_USDT_1m.csv\n",
      "文件不存在: \\\\znas\\Main\\futures\\2024-06-05\\2024-06-05_IPUSDT_USDT_1m.csv\n",
      "文件不存在: \\\\znas\\Main\\futures\\2024-06-06\\2024-06-06_IPUSDT_USDT_1m.csv\n",
      "文件不存在: \\\\znas\\Main\\futures\\2024-06-07\\2024-06-07_IPUSDT_USDT_1m.csv\n",
      "文件不存在: \\\\znas\\Main\\futures\\2024-06-08\\2024-06-08_IPUSDT_USDT_1m.csv\n",
      "文件不存在: \\\\znas\\Main\\futures\\2024-06-09\\2024-06-09_IPUSDT_USDT_1m.csv\n",
      "文件不存在: \\\\znas\\Main\\futures\\2024-06-10\\2024-06-10_IPUSDT_USDT_1m.csv\n",
      "文件不存在: \\\\znas\\Main\\futures\\2024-06-11\\2024-06-11_IPUSDT_USDT_1m.csv\n",
      "文件不存在: \\\\znas\\Main\\futures\\2024-06-12\\2024-06-12_IPUSDT_USDT_1m.csv\n",
      "文件不存在: \\\\znas\\Main\\futures\\2024-06-13\\2024-06-13_IPUSDT_USDT_1m.csv\n",
      "文件不存在: \\\\znas\\Main\\futures\\2024-06-14\\2024-06-14_IPUSDT_USDT_1m.csv\n",
      "文件不存在: \\\\znas\\Main\\futures\\2024-06-15\\2024-06-15_IPUSDT_USDT_1m.csv\n",
      "文件不存在: \\\\znas\\Main\\futures\\2024-06-16\\2024-06-16_IPUSDT_USDT_1m.csv\n",
      "文件不存在: \\\\znas\\Main\\futures\\2024-06-17\\2024-06-17_IPUSDT_USDT_1m.csv\n",
      "文件不存在: \\\\znas\\Main\\futures\\2024-06-18\\2024-06-18_IPUSDT_USDT_1m.csv\n",
      "文件不存在: \\\\znas\\Main\\futures\\2024-06-19\\2024-06-19_IPUSDT_USDT_1m.csv\n",
      "文件不存在: \\\\znas\\Main\\futures\\2024-06-20\\2024-06-20_IPUSDT_USDT_1m.csv\n",
      "文件不存在: \\\\znas\\Main\\futures\\2024-06-21\\2024-06-21_IPUSDT_USDT_1m.csv\n",
      "文件不存在: \\\\znas\\Main\\futures\\2024-06-22\\2024-06-22_IPUSDT_USDT_1m.csv\n",
      "文件不存在: \\\\znas\\Main\\futures\\2024-06-23\\2024-06-23_IPUSDT_USDT_1m.csv\n",
      "文件不存在: \\\\znas\\Main\\futures\\2024-06-24\\2024-06-24_IPUSDT_USDT_1m.csv\n",
      "文件不存在: \\\\znas\\Main\\futures\\2024-06-25\\2024-06-25_IPUSDT_USDT_1m.csv\n",
      "文件不存在: \\\\znas\\Main\\futures\\2024-06-26\\2024-06-26_IPUSDT_USDT_1m.csv\n",
      "文件不存在: \\\\znas\\Main\\futures\\2024-06-27\\2024-06-27_IPUSDT_USDT_1m.csv\n",
      "文件不存在: \\\\znas\\Main\\futures\\2024-06-28\\2024-06-28_IPUSDT_USDT_1m.csv\n",
      "文件不存在: \\\\znas\\Main\\futures\\2024-06-29\\2024-06-29_IPUSDT_USDT_1m.csv\n",
      "文件不存在: \\\\znas\\Main\\futures\\2024-06-30\\2024-06-30_IPUSDT_USDT_1m.csv\n",
      "文件不存在: \\\\znas\\Main\\futures\\2024-07-01\\2024-07-01_IPUSDT_USDT_1m.csv\n",
      "文件不存在: \\\\znas\\Main\\futures\\2024-07-02\\2024-07-02_IPUSDT_USDT_1m.csv\n",
      "文件不存在: \\\\znas\\Main\\futures\\2024-07-03\\2024-07-03_IPUSDT_USDT_1m.csv\n",
      "文件不存在: \\\\znas\\Main\\futures\\2024-07-04\\2024-07-04_IPUSDT_USDT_1m.csv\n",
      "文件不存在: \\\\znas\\Main\\futures\\2024-07-05\\2024-07-05_IPUSDT_USDT_1m.csv\n",
      "文件不存在: \\\\znas\\Main\\futures\\2024-07-06\\2024-07-06_IPUSDT_USDT_1m.csv\n",
      "文件不存在: \\\\znas\\Main\\futures\\2024-07-07\\2024-07-07_IPUSDT_USDT_1m.csv\n",
      "文件不存在: \\\\znas\\Main\\futures\\2024-07-08\\2024-07-08_IPUSDT_USDT_1m.csv\n",
      "文件不存在: \\\\znas\\Main\\futures\\2024-07-09\\2024-07-09_IPUSDT_USDT_1m.csv\n",
      "文件不存在: \\\\znas\\Main\\futures\\2024-07-10\\2024-07-10_IPUSDT_USDT_1m.csv\n",
      "文件不存在: \\\\znas\\Main\\futures\\2024-07-11\\2024-07-11_IPUSDT_USDT_1m.csv\n",
      "文件不存在: \\\\znas\\Main\\futures\\2024-07-12\\2024-07-12_IPUSDT_USDT_1m.csv\n",
      "文件不存在: \\\\znas\\Main\\futures\\2024-07-13\\2024-07-13_IPUSDT_USDT_1m.csv\n",
      "文件不存在: \\\\znas\\Main\\futures\\2024-07-14\\2024-07-14_IPUSDT_USDT_1m.csv\n",
      "文件不存在: \\\\znas\\Main\\futures\\2024-07-15\\2024-07-15_IPUSDT_USDT_1m.csv\n",
      "文件不存在: \\\\znas\\Main\\futures\\2024-07-16\\2024-07-16_IPUSDT_USDT_1m.csv\n",
      "文件不存在: \\\\znas\\Main\\futures\\2024-07-17\\2024-07-17_IPUSDT_USDT_1m.csv\n",
      "文件不存在: \\\\znas\\Main\\futures\\2024-07-18\\2024-07-18_IPUSDT_USDT_1m.csv\n",
      "文件不存在: \\\\znas\\Main\\futures\\2024-07-19\\2024-07-19_IPUSDT_USDT_1m.csv\n",
      "文件不存在: \\\\znas\\Main\\futures\\2024-07-20\\2024-07-20_IPUSDT_USDT_1m.csv\n",
      "文件不存在: \\\\znas\\Main\\futures\\2024-07-21\\2024-07-21_IPUSDT_USDT_1m.csv\n",
      "文件不存在: \\\\znas\\Main\\futures\\2024-07-22\\2024-07-22_IPUSDT_USDT_1m.csv\n",
      "文件不存在: \\\\znas\\Main\\futures\\2024-07-23\\2024-07-23_IPUSDT_USDT_1m.csv\n",
      "文件不存在: \\\\znas\\Main\\futures\\2024-07-24\\2024-07-24_IPUSDT_USDT_1m.csv\n",
      "文件不存在: \\\\znas\\Main\\futures\\2024-07-25\\2024-07-25_IPUSDT_USDT_1m.csv\n",
      "文件不存在: \\\\znas\\Main\\futures\\2024-07-26\\2024-07-26_IPUSDT_USDT_1m.csv\n",
      "文件不存在: \\\\znas\\Main\\futures\\2024-07-27\\2024-07-27_IPUSDT_USDT_1m.csv\n",
      "文件不存在: \\\\znas\\Main\\futures\\2024-07-28\\2024-07-28_IPUSDT_USDT_1m.csv\n",
      "文件不存在: \\\\znas\\Main\\futures\\2024-07-29\\2024-07-29_IPUSDT_USDT_1m.csv\n",
      "文件不存在: \\\\znas\\Main\\futures\\2024-07-30\\2024-07-30_IPUSDT_USDT_1m.csv\n",
      "文件不存在: \\\\znas\\Main\\futures\\2024-07-31\\2024-07-31_IPUSDT_USDT_1m.csv\n",
      "文件不存在: \\\\znas\\Main\\futures\\2024-08-01\\2024-08-01_IPUSDT_USDT_1m.csv\n",
      "文件不存在: \\\\znas\\Main\\futures\\2024-08-02\\2024-08-02_IPUSDT_USDT_1m.csv\n",
      "文件不存在: \\\\znas\\Main\\futures\\2024-08-03\\2024-08-03_IPUSDT_USDT_1m.csv\n",
      "文件不存在: \\\\znas\\Main\\futures\\2024-08-04\\2024-08-04_IPUSDT_USDT_1m.csv\n",
      "文件不存在: \\\\znas\\Main\\futures\\2024-08-05\\2024-08-05_IPUSDT_USDT_1m.csv\n",
      "文件不存在: \\\\znas\\Main\\futures\\2024-08-06\\2024-08-06_IPUSDT_USDT_1m.csv\n",
      "文件不存在: \\\\znas\\Main\\futures\\2024-08-07\\2024-08-07_IPUSDT_USDT_1m.csv\n",
      "文件不存在: \\\\znas\\Main\\futures\\2024-08-08\\2024-08-08_IPUSDT_USDT_1m.csv\n",
      "文件不存在: \\\\znas\\Main\\futures\\2024-08-09\\2024-08-09_IPUSDT_USDT_1m.csv\n",
      "文件不存在: \\\\znas\\Main\\futures\\2024-08-10\\2024-08-10_IPUSDT_USDT_1m.csv\n",
      "文件不存在: \\\\znas\\Main\\futures\\2024-08-11\\2024-08-11_IPUSDT_USDT_1m.csv\n",
      "文件不存在: \\\\znas\\Main\\futures\\2024-08-12\\2024-08-12_IPUSDT_USDT_1m.csv\n",
      "文件不存在: \\\\znas\\Main\\futures\\2024-08-13\\2024-08-13_IPUSDT_USDT_1m.csv\n",
      "文件不存在: \\\\znas\\Main\\futures\\2024-08-14\\2024-08-14_IPUSDT_USDT_1m.csv\n",
      "文件不存在: \\\\znas\\Main\\futures\\2024-08-15\\2024-08-15_IPUSDT_USDT_1m.csv\n",
      "文件不存在: \\\\znas\\Main\\futures\\2024-08-16\\2024-08-16_IPUSDT_USDT_1m.csv\n",
      "文件不存在: \\\\znas\\Main\\futures\\2024-08-17\\2024-08-17_IPUSDT_USDT_1m.csv\n",
      "文件不存在: \\\\znas\\Main\\futures\\2024-08-18\\2024-08-18_IPUSDT_USDT_1m.csv\n",
      "文件不存在: \\\\znas\\Main\\futures\\2024-08-19\\2024-08-19_IPUSDT_USDT_1m.csv\n",
      "文件不存在: \\\\znas\\Main\\futures\\2024-08-20\\2024-08-20_IPUSDT_USDT_1m.csv\n",
      "文件不存在: \\\\znas\\Main\\futures\\2024-08-21\\2024-08-21_IPUSDT_USDT_1m.csv\n",
      "文件不存在: \\\\znas\\Main\\futures\\2024-08-22\\2024-08-22_IPUSDT_USDT_1m.csv\n",
      "文件不存在: \\\\znas\\Main\\futures\\2024-08-23\\2024-08-23_IPUSDT_USDT_1m.csv\n",
      "文件不存在: \\\\znas\\Main\\futures\\2024-08-24\\2024-08-24_IPUSDT_USDT_1m.csv\n",
      "文件不存在: \\\\znas\\Main\\futures\\2024-08-25\\2024-08-25_IPUSDT_USDT_1m.csv\n",
      "文件不存在: \\\\znas\\Main\\futures\\2024-08-26\\2024-08-26_IPUSDT_USDT_1m.csv\n",
      "文件不存在: \\\\znas\\Main\\futures\\2024-08-27\\2024-08-27_IPUSDT_USDT_1m.csv\n",
      "文件不存在: \\\\znas\\Main\\futures\\2024-08-28\\2024-08-28_IPUSDT_USDT_1m.csv\n",
      "文件不存在: \\\\znas\\Main\\futures\\2024-08-29\\2024-08-29_IPUSDT_USDT_1m.csv\n",
      "文件不存在: \\\\znas\\Main\\futures\\2024-08-30\\2024-08-30_IPUSDT_USDT_1m.csv\n",
      "文件不存在: \\\\znas\\Main\\futures\\2024-08-31\\2024-08-31_IPUSDT_USDT_1m.csv\n",
      "文件不存在: \\\\znas\\Main\\futures\\2024-09-01\\2024-09-01_IPUSDT_USDT_1m.csv\n",
      "文件不存在: \\\\znas\\Main\\futures\\2024-09-02\\2024-09-02_IPUSDT_USDT_1m.csv\n",
      "文件不存在: \\\\znas\\Main\\futures\\2024-09-03\\2024-09-03_IPUSDT_USDT_1m.csv\n",
      "文件不存在: \\\\znas\\Main\\futures\\2024-09-04\\2024-09-04_IPUSDT_USDT_1m.csv\n",
      "文件不存在: \\\\znas\\Main\\futures\\2024-09-05\\2024-09-05_IPUSDT_USDT_1m.csv\n",
      "文件不存在: \\\\znas\\Main\\futures\\2024-09-06\\2024-09-06_IPUSDT_USDT_1m.csv\n",
      "文件不存在: \\\\znas\\Main\\futures\\2024-09-07\\2024-09-07_IPUSDT_USDT_1m.csv\n",
      "文件不存在: \\\\znas\\Main\\futures\\2024-09-08\\2024-09-08_IPUSDT_USDT_1m.csv\n",
      "文件不存在: \\\\znas\\Main\\futures\\2024-09-09\\2024-09-09_IPUSDT_USDT_1m.csv\n",
      "文件不存在: \\\\znas\\Main\\futures\\2024-09-10\\2024-09-10_IPUSDT_USDT_1m.csv\n",
      "文件不存在: \\\\znas\\Main\\futures\\2024-09-11\\2024-09-11_IPUSDT_USDT_1m.csv\n",
      "文件不存在: \\\\znas\\Main\\futures\\2024-09-12\\2024-09-12_IPUSDT_USDT_1m.csv\n",
      "文件不存在: \\\\znas\\Main\\futures\\2024-09-13\\2024-09-13_IPUSDT_USDT_1m.csv\n",
      "文件不存在: \\\\znas\\Main\\futures\\2024-09-14\\2024-09-14_IPUSDT_USDT_1m.csv\n",
      "文件不存在: \\\\znas\\Main\\futures\\2024-09-15\\2024-09-15_IPUSDT_USDT_1m.csv\n",
      "文件不存在: \\\\znas\\Main\\futures\\2024-09-16\\2024-09-16_IPUSDT_USDT_1m.csv\n",
      "文件不存在: \\\\znas\\Main\\futures\\2024-09-17\\2024-09-17_IPUSDT_USDT_1m.csv\n",
      "文件不存在: \\\\znas\\Main\\futures\\2024-09-18\\2024-09-18_IPUSDT_USDT_1m.csv\n",
      "文件不存在: \\\\znas\\Main\\futures\\2024-09-19\\2024-09-19_IPUSDT_USDT_1m.csv\n",
      "文件不存在: \\\\znas\\Main\\futures\\2024-09-20\\2024-09-20_IPUSDT_USDT_1m.csv\n",
      "文件不存在: \\\\znas\\Main\\futures\\2024-09-21\\2024-09-21_IPUSDT_USDT_1m.csv\n",
      "文件不存在: \\\\znas\\Main\\futures\\2024-09-22\\2024-09-22_IPUSDT_USDT_1m.csv\n",
      "文件不存在: \\\\znas\\Main\\futures\\2024-09-23\\2024-09-23_IPUSDT_USDT_1m.csv\n",
      "文件不存在: \\\\znas\\Main\\futures\\2024-09-24\\2024-09-24_IPUSDT_USDT_1m.csv\n",
      "文件不存在: \\\\znas\\Main\\futures\\2024-09-25\\2024-09-25_IPUSDT_USDT_1m.csv\n",
      "文件不存在: \\\\znas\\Main\\futures\\2024-09-26\\2024-09-26_IPUSDT_USDT_1m.csv\n",
      "文件不存在: \\\\znas\\Main\\futures\\2024-09-27\\2024-09-27_IPUSDT_USDT_1m.csv\n",
      "文件不存在: \\\\znas\\Main\\futures\\2024-09-28\\2024-09-28_IPUSDT_USDT_1m.csv\n",
      "文件不存在: \\\\znas\\Main\\futures\\2024-09-29\\2024-09-29_IPUSDT_USDT_1m.csv\n",
      "文件不存在: \\\\znas\\Main\\futures\\2024-09-30\\2024-09-30_IPUSDT_USDT_1m.csv\n",
      "文件不存在: \\\\znas\\Main\\futures\\2024-10-01\\2024-10-01_IPUSDT_USDT_1m.csv\n",
      "文件不存在: \\\\znas\\Main\\futures\\2024-10-02\\2024-10-02_IPUSDT_USDT_1m.csv\n",
      "文件不存在: \\\\znas\\Main\\futures\\2024-10-03\\2024-10-03_IPUSDT_USDT_1m.csv\n",
      "文件不存在: \\\\znas\\Main\\futures\\2024-10-04\\2024-10-04_IPUSDT_USDT_1m.csv\n",
      "文件不存在: \\\\znas\\Main\\futures\\2024-10-05\\2024-10-05_IPUSDT_USDT_1m.csv\n",
      "文件不存在: \\\\znas\\Main\\futures\\2024-10-06\\2024-10-06_IPUSDT_USDT_1m.csv\n",
      "文件不存在: \\\\znas\\Main\\futures\\2024-10-07\\2024-10-07_IPUSDT_USDT_1m.csv\n",
      "文件不存在: \\\\znas\\Main\\futures\\2024-10-08\\2024-10-08_IPUSDT_USDT_1m.csv\n",
      "文件不存在: \\\\znas\\Main\\futures\\2024-10-09\\2024-10-09_IPUSDT_USDT_1m.csv\n",
      "文件不存在: \\\\znas\\Main\\futures\\2024-10-10\\2024-10-10_IPUSDT_USDT_1m.csv\n",
      "文件不存在: \\\\znas\\Main\\futures\\2024-10-11\\2024-10-11_IPUSDT_USDT_1m.csv\n",
      "文件不存在: \\\\znas\\Main\\futures\\2024-10-12\\2024-10-12_IPUSDT_USDT_1m.csv\n",
      "文件不存在: \\\\znas\\Main\\futures\\2024-10-13\\2024-10-13_IPUSDT_USDT_1m.csv\n",
      "文件不存在: \\\\znas\\Main\\futures\\2024-10-14\\2024-10-14_IPUSDT_USDT_1m.csv\n",
      "文件不存在: \\\\znas\\Main\\futures\\2024-10-15\\2024-10-15_IPUSDT_USDT_1m.csv\n",
      "文件不存在: \\\\znas\\Main\\futures\\2024-10-16\\2024-10-16_IPUSDT_USDT_1m.csv\n",
      "文件不存在: \\\\znas\\Main\\futures\\2024-10-17\\2024-10-17_IPUSDT_USDT_1m.csv\n",
      "文件不存在: \\\\znas\\Main\\futures\\2024-10-18\\2024-10-18_IPUSDT_USDT_1m.csv\n",
      "文件不存在: \\\\znas\\Main\\futures\\2024-10-19\\2024-10-19_IPUSDT_USDT_1m.csv\n",
      "文件不存在: \\\\znas\\Main\\futures\\2024-10-20\\2024-10-20_IPUSDT_USDT_1m.csv\n",
      "文件不存在: \\\\znas\\Main\\futures\\2024-10-21\\2024-10-21_IPUSDT_USDT_1m.csv\n",
      "文件不存在: \\\\znas\\Main\\futures\\2024-10-22\\2024-10-22_IPUSDT_USDT_1m.csv\n",
      "文件不存在: \\\\znas\\Main\\futures\\2024-10-23\\2024-10-23_IPUSDT_USDT_1m.csv\n",
      "文件不存在: \\\\znas\\Main\\futures\\2024-10-24\\2024-10-24_IPUSDT_USDT_1m.csv\n",
      "文件不存在: \\\\znas\\Main\\futures\\2024-10-25\\2024-10-25_IPUSDT_USDT_1m.csv\n",
      "文件不存在: \\\\znas\\Main\\futures\\2024-10-26\\2024-10-26_IPUSDT_USDT_1m.csv\n",
      "文件不存在: \\\\znas\\Main\\futures\\2024-10-27\\2024-10-27_IPUSDT_USDT_1m.csv\n",
      "文件不存在: \\\\znas\\Main\\futures\\2024-10-28\\2024-10-28_IPUSDT_USDT_1m.csv\n",
      "文件不存在: \\\\znas\\Main\\futures\\2024-10-29\\2024-10-29_IPUSDT_USDT_1m.csv\n",
      "文件不存在: \\\\znas\\Main\\futures\\2024-10-30\\2024-10-30_IPUSDT_USDT_1m.csv\n",
      "文件不存在: \\\\znas\\Main\\futures\\2024-10-31\\2024-10-31_IPUSDT_USDT_1m.csv\n",
      "文件不存在: \\\\znas\\Main\\futures\\2024-11-01\\2024-11-01_IPUSDT_USDT_1m.csv\n",
      "文件不存在: \\\\znas\\Main\\futures\\2024-11-02\\2024-11-02_IPUSDT_USDT_1m.csv\n",
      "文件不存在: \\\\znas\\Main\\futures\\2024-11-03\\2024-11-03_IPUSDT_USDT_1m.csv\n",
      "文件不存在: \\\\znas\\Main\\futures\\2024-11-04\\2024-11-04_IPUSDT_USDT_1m.csv\n",
      "文件不存在: \\\\znas\\Main\\futures\\2024-11-05\\2024-11-05_IPUSDT_USDT_1m.csv\n",
      "文件不存在: \\\\znas\\Main\\futures\\2024-11-06\\2024-11-06_IPUSDT_USDT_1m.csv\n",
      "文件不存在: \\\\znas\\Main\\futures\\2024-11-07\\2024-11-07_IPUSDT_USDT_1m.csv\n",
      "文件不存在: \\\\znas\\Main\\futures\\2024-11-08\\2024-11-08_IPUSDT_USDT_1m.csv\n",
      "文件不存在: \\\\znas\\Main\\futures\\2024-11-09\\2024-11-09_IPUSDT_USDT_1m.csv\n",
      "文件不存在: \\\\znas\\Main\\futures\\2024-11-10\\2024-11-10_IPUSDT_USDT_1m.csv\n",
      "文件不存在: \\\\znas\\Main\\futures\\2024-11-11\\2024-11-11_IPUSDT_USDT_1m.csv\n",
      "文件不存在: \\\\znas\\Main\\futures\\2024-11-12\\2024-11-12_IPUSDT_USDT_1m.csv\n",
      "文件不存在: \\\\znas\\Main\\futures\\2024-11-13\\2024-11-13_IPUSDT_USDT_1m.csv\n",
      "文件不存在: \\\\znas\\Main\\futures\\2024-11-14\\2024-11-14_IPUSDT_USDT_1m.csv\n",
      "文件不存在: \\\\znas\\Main\\futures\\2024-11-15\\2024-11-15_IPUSDT_USDT_1m.csv\n",
      "文件不存在: \\\\znas\\Main\\futures\\2024-11-16\\2024-11-16_IPUSDT_USDT_1m.csv\n",
      "文件不存在: \\\\znas\\Main\\futures\\2024-11-17\\2024-11-17_IPUSDT_USDT_1m.csv\n",
      "文件不存在: \\\\znas\\Main\\futures\\2024-11-18\\2024-11-18_IPUSDT_USDT_1m.csv\n",
      "文件不存在: \\\\znas\\Main\\futures\\2024-11-19\\2024-11-19_IPUSDT_USDT_1m.csv\n",
      "文件不存在: \\\\znas\\Main\\futures\\2024-11-20\\2024-11-20_IPUSDT_USDT_1m.csv\n",
      "文件不存在: \\\\znas\\Main\\futures\\2024-11-21\\2024-11-21_IPUSDT_USDT_1m.csv\n",
      "文件不存在: \\\\znas\\Main\\futures\\2024-11-22\\2024-11-22_IPUSDT_USDT_1m.csv\n",
      "文件不存在: \\\\znas\\Main\\futures\\2024-11-23\\2024-11-23_IPUSDT_USDT_1m.csv\n",
      "文件不存在: \\\\znas\\Main\\futures\\2024-11-24\\2024-11-24_IPUSDT_USDT_1m.csv\n",
      "文件不存在: \\\\znas\\Main\\futures\\2024-11-25\\2024-11-25_IPUSDT_USDT_1m.csv\n",
      "文件不存在: \\\\znas\\Main\\futures\\2024-11-26\\2024-11-26_IPUSDT_USDT_1m.csv\n",
      "文件不存在: \\\\znas\\Main\\futures\\2024-11-27\\2024-11-27_IPUSDT_USDT_1m.csv\n",
      "文件不存在: \\\\znas\\Main\\futures\\2024-11-28\\2024-11-28_IPUSDT_USDT_1m.csv\n",
      "文件不存在: \\\\znas\\Main\\futures\\2024-11-29\\2024-11-29_IPUSDT_USDT_1m.csv\n",
      "文件不存在: \\\\znas\\Main\\futures\\2024-11-30\\2024-11-30_IPUSDT_USDT_1m.csv\n",
      "文件不存在: \\\\znas\\Main\\futures\\2024-12-01\\2024-12-01_IPUSDT_USDT_1m.csv\n",
      "文件不存在: \\\\znas\\Main\\futures\\2024-12-02\\2024-12-02_IPUSDT_USDT_1m.csv\n",
      "文件不存在: \\\\znas\\Main\\futures\\2024-12-03\\2024-12-03_IPUSDT_USDT_1m.csv\n",
      "文件不存在: \\\\znas\\Main\\futures\\2024-12-04\\2024-12-04_IPUSDT_USDT_1m.csv\n",
      "文件不存在: \\\\znas\\Main\\futures\\2024-12-05\\2024-12-05_IPUSDT_USDT_1m.csv\n",
      "文件不存在: \\\\znas\\Main\\futures\\2024-12-06\\2024-12-06_IPUSDT_USDT_1m.csv\n",
      "文件不存在: \\\\znas\\Main\\futures\\2024-12-07\\2024-12-07_IPUSDT_USDT_1m.csv\n",
      "文件不存在: \\\\znas\\Main\\futures\\2024-12-08\\2024-12-08_IPUSDT_USDT_1m.csv\n",
      "文件不存在: \\\\znas\\Main\\futures\\2024-12-09\\2024-12-09_IPUSDT_USDT_1m.csv\n",
      "文件不存在: \\\\znas\\Main\\futures\\2024-12-10\\2024-12-10_IPUSDT_USDT_1m.csv\n",
      "文件不存在: \\\\znas\\Main\\futures\\2024-12-11\\2024-12-11_IPUSDT_USDT_1m.csv\n",
      "文件不存在: \\\\znas\\Main\\futures\\2024-12-12\\2024-12-12_IPUSDT_USDT_1m.csv\n",
      "文件不存在: \\\\znas\\Main\\futures\\2024-12-13\\2024-12-13_IPUSDT_USDT_1m.csv\n",
      "文件不存在: \\\\znas\\Main\\futures\\2024-12-14\\2024-12-14_IPUSDT_USDT_1m.csv\n",
      "文件不存在: \\\\znas\\Main\\futures\\2024-12-15\\2024-12-15_IPUSDT_USDT_1m.csv\n",
      "文件不存在: \\\\znas\\Main\\futures\\2024-12-16\\2024-12-16_IPUSDT_USDT_1m.csv\n",
      "文件不存在: \\\\znas\\Main\\futures\\2024-12-17\\2024-12-17_IPUSDT_USDT_1m.csv\n",
      "文件不存在: \\\\znas\\Main\\futures\\2024-12-18\\2024-12-18_IPUSDT_USDT_1m.csv\n",
      "文件不存在: \\\\znas\\Main\\futures\\2024-12-19\\2024-12-19_IPUSDT_USDT_1m.csv\n",
      "文件不存在: \\\\znas\\Main\\futures\\2024-12-20\\2024-12-20_IPUSDT_USDT_1m.csv\n",
      "文件不存在: \\\\znas\\Main\\futures\\2024-12-21\\2024-12-21_IPUSDT_USDT_1m.csv\n",
      "文件不存在: \\\\znas\\Main\\futures\\2024-12-22\\2024-12-22_IPUSDT_USDT_1m.csv\n",
      "文件不存在: \\\\znas\\Main\\futures\\2024-12-23\\2024-12-23_IPUSDT_USDT_1m.csv\n",
      "文件不存在: \\\\znas\\Main\\futures\\2024-12-24\\2024-12-24_IPUSDT_USDT_1m.csv\n",
      "文件不存在: \\\\znas\\Main\\futures\\2024-12-25\\2024-12-25_IPUSDT_USDT_1m.csv\n",
      "文件不存在: \\\\znas\\Main\\futures\\2024-12-26\\2024-12-26_IPUSDT_USDT_1m.csv\n",
      "文件不存在: \\\\znas\\Main\\futures\\2024-12-27\\2024-12-27_IPUSDT_USDT_1m.csv\n",
      "文件不存在: \\\\znas\\Main\\futures\\2024-12-28\\2024-12-28_IPUSDT_USDT_1m.csv\n",
      "文件不存在: \\\\znas\\Main\\futures\\2024-12-29\\2024-12-29_IPUSDT_USDT_1m.csv\n",
      "文件不存在: \\\\znas\\Main\\futures\\2024-12-30\\2024-12-30_IPUSDT_USDT_1m.csv\n",
      "文件不存在: \\\\znas\\Main\\futures\\2024-12-31\\2024-12-31_IPUSDT_USDT_1m.csv\n",
      "文件不存在: \\\\znas\\Main\\futures\\2025-01-01\\2025-01-01_IPUSDT_USDT_1m.csv\n",
      "文件不存在: \\\\znas\\Main\\futures\\2025-01-02\\2025-01-02_IPUSDT_USDT_1m.csv\n",
      "文件不存在: \\\\znas\\Main\\futures\\2025-01-03\\2025-01-03_IPUSDT_USDT_1m.csv\n",
      "文件不存在: \\\\znas\\Main\\futures\\2025-01-04\\2025-01-04_IPUSDT_USDT_1m.csv\n",
      "文件不存在: \\\\znas\\Main\\futures\\2025-01-05\\2025-01-05_IPUSDT_USDT_1m.csv\n",
      "文件不存在: \\\\znas\\Main\\futures\\2025-01-06\\2025-01-06_IPUSDT_USDT_1m.csv\n",
      "文件不存在: \\\\znas\\Main\\futures\\2025-01-07\\2025-01-07_IPUSDT_USDT_1m.csv\n",
      "文件不存在: \\\\znas\\Main\\futures\\2025-01-08\\2025-01-08_IPUSDT_USDT_1m.csv\n",
      "文件不存在: \\\\znas\\Main\\futures\\2025-01-09\\2025-01-09_IPUSDT_USDT_1m.csv\n",
      "文件不存在: \\\\znas\\Main\\futures\\2025-01-10\\2025-01-10_IPUSDT_USDT_1m.csv\n",
      "文件不存在: \\\\znas\\Main\\futures\\2025-01-11\\2025-01-11_IPUSDT_USDT_1m.csv\n",
      "文件不存在: \\\\znas\\Main\\futures\\2025-01-12\\2025-01-12_IPUSDT_USDT_1m.csv\n",
      "文件不存在: \\\\znas\\Main\\futures\\2025-01-13\\2025-01-13_IPUSDT_USDT_1m.csv\n",
      "文件不存在: \\\\znas\\Main\\futures\\2025-01-14\\2025-01-14_IPUSDT_USDT_1m.csv\n",
      "文件不存在: \\\\znas\\Main\\futures\\2025-01-15\\2025-01-15_IPUSDT_USDT_1m.csv\n",
      "文件不存在: \\\\znas\\Main\\futures\\2025-01-16\\2025-01-16_IPUSDT_USDT_1m.csv\n",
      "文件不存在: \\\\znas\\Main\\futures\\2025-01-17\\2025-01-17_IPUSDT_USDT_1m.csv\n",
      "文件不存在: \\\\znas\\Main\\futures\\2025-01-18\\2025-01-18_IPUSDT_USDT_1m.csv\n",
      "文件不存在: \\\\znas\\Main\\futures\\2025-01-19\\2025-01-19_IPUSDT_USDT_1m.csv\n",
      "文件不存在: \\\\znas\\Main\\futures\\2025-01-20\\2025-01-20_IPUSDT_USDT_1m.csv\n",
      "文件不存在: \\\\znas\\Main\\futures\\2025-01-21\\2025-01-21_IPUSDT_USDT_1m.csv\n",
      "文件不存在: \\\\znas\\Main\\futures\\2025-01-22\\2025-01-22_IPUSDT_USDT_1m.csv\n",
      "文件不存在: \\\\znas\\Main\\futures\\2025-01-23\\2025-01-23_IPUSDT_USDT_1m.csv\n",
      "文件不存在: \\\\znas\\Main\\futures\\2025-01-24\\2025-01-24_IPUSDT_USDT_1m.csv\n",
      "文件不存在: \\\\znas\\Main\\futures\\2025-01-25\\2025-01-25_IPUSDT_USDT_1m.csv\n",
      "文件不存在: \\\\znas\\Main\\futures\\2025-01-26\\2025-01-26_IPUSDT_USDT_1m.csv\n",
      "文件不存在: \\\\znas\\Main\\futures\\2025-01-27\\2025-01-27_IPUSDT_USDT_1m.csv\n",
      "文件不存在: \\\\znas\\Main\\futures\\2025-01-28\\2025-01-28_IPUSDT_USDT_1m.csv\n",
      "文件不存在: \\\\znas\\Main\\futures\\2025-01-29\\2025-01-29_IPUSDT_USDT_1m.csv\n",
      "文件不存在: \\\\znas\\Main\\futures\\2025-01-30\\2025-01-30_IPUSDT_USDT_1m.csv\n",
      "文件不存在: \\\\znas\\Main\\futures\\2025-01-31\\2025-01-31_IPUSDT_USDT_1m.csv\n",
      "文件不存在: \\\\znas\\Main\\futures\\2025-02-01\\2025-02-01_IPUSDT_USDT_1m.csv\n",
      "文件不存在: \\\\znas\\Main\\futures\\2025-02-02\\2025-02-02_IPUSDT_USDT_1m.csv\n",
      "文件不存在: \\\\znas\\Main\\futures\\2025-02-03\\2025-02-03_IPUSDT_USDT_1m.csv\n",
      "文件不存在: \\\\znas\\Main\\futures\\2025-02-04\\2025-02-04_IPUSDT_USDT_1m.csv\n",
      "文件不存在: \\\\znas\\Main\\futures\\2025-02-05\\2025-02-05_IPUSDT_USDT_1m.csv\n",
      "文件不存在: \\\\znas\\Main\\futures\\2025-02-06\\2025-02-06_IPUSDT_USDT_1m.csv\n",
      "文件不存在: \\\\znas\\Main\\futures\\2025-02-07\\2025-02-07_IPUSDT_USDT_1m.csv\n",
      "文件不存在: \\\\znas\\Main\\futures\\2025-02-08\\2025-02-08_IPUSDT_USDT_1m.csv\n",
      "处理任务出错: 未找到 IPUSDT 在指定日期范围内的数据\n",
      "文件不存在: \\\\znas\\Main\\futures\\2024-01-01\\2024-01-01_LAYERUSDT_USDT_1m.csv\n",
      "文件不存在: \\\\znas\\Main\\futures\\2024-01-02\\2024-01-02_LAYERUSDT_USDT_1m.csv\n",
      "文件不存在: \\\\znas\\Main\\futures\\2024-01-03\\2024-01-03_LAYERUSDT_USDT_1m.csv\n",
      "文件不存在: \\\\znas\\Main\\futures\\2024-01-04\\2024-01-04_LAYERUSDT_USDT_1m.csv\n",
      "文件不存在: \\\\znas\\Main\\futures\\2024-01-05\\2024-01-05_LAYERUSDT_USDT_1m.csv\n",
      "文件不存在: \\\\znas\\Main\\futures\\2024-01-06\\2024-01-06_LAYERUSDT_USDT_1m.csv\n",
      "文件不存在: \\\\znas\\Main\\futures\\2024-01-07\\2024-01-07_LAYERUSDT_USDT_1m.csv\n",
      "文件不存在: \\\\znas\\Main\\futures\\2024-01-08\\2024-01-08_LAYERUSDT_USDT_1m.csv\n",
      "文件不存在: \\\\znas\\Main\\futures\\2024-01-09\\2024-01-09_LAYERUSDT_USDT_1m.csv\n",
      "文件不存在: \\\\znas\\Main\\futures\\2024-01-10\\2024-01-10_LAYERUSDT_USDT_1m.csv\n",
      "文件不存在: \\\\znas\\Main\\futures\\2024-01-11\\2024-01-11_LAYERUSDT_USDT_1m.csv\n",
      "文件不存在: \\\\znas\\Main\\futures\\2024-01-12\\2024-01-12_LAYERUSDT_USDT_1m.csv\n",
      "文件不存在: \\\\znas\\Main\\futures\\2024-01-13\\2024-01-13_LAYERUSDT_USDT_1m.csv\n",
      "文件不存在: \\\\znas\\Main\\futures\\2024-01-14\\2024-01-14_LAYERUSDT_USDT_1m.csv\n",
      "文件不存在: \\\\znas\\Main\\futures\\2024-01-15\\2024-01-15_LAYERUSDT_USDT_1m.csv\n",
      "文件不存在: \\\\znas\\Main\\futures\\2024-01-16\\2024-01-16_LAYERUSDT_USDT_1m.csv\n",
      "文件不存在: \\\\znas\\Main\\futures\\2024-01-17\\2024-01-17_LAYERUSDT_USDT_1m.csv\n",
      "文件不存在: \\\\znas\\Main\\futures\\2024-01-18\\2024-01-18_LAYERUSDT_USDT_1m.csv\n",
      "文件不存在: \\\\znas\\Main\\futures\\2024-01-19\\2024-01-19_LAYERUSDT_USDT_1m.csv\n",
      "文件不存在: \\\\znas\\Main\\futures\\2024-01-20\\2024-01-20_LAYERUSDT_USDT_1m.csv\n",
      "文件不存在: \\\\znas\\Main\\futures\\2024-01-21\\2024-01-21_LAYERUSDT_USDT_1m.csv\n",
      "文件不存在: \\\\znas\\Main\\futures\\2024-01-22\\2024-01-22_LAYERUSDT_USDT_1m.csv\n",
      "文件不存在: \\\\znas\\Main\\futures\\2024-01-23\\2024-01-23_LAYERUSDT_USDT_1m.csv\n",
      "文件不存在: \\\\znas\\Main\\futures\\2024-01-24\\2024-01-24_LAYERUSDT_USDT_1m.csv\n",
      "文件不存在: \\\\znas\\Main\\futures\\2024-01-25\\2024-01-25_LAYERUSDT_USDT_1m.csv\n",
      "文件不存在: \\\\znas\\Main\\futures\\2024-01-26\\2024-01-26_LAYERUSDT_USDT_1m.csv\n",
      "文件不存在: \\\\znas\\Main\\futures\\2024-01-27\\2024-01-27_LAYERUSDT_USDT_1m.csv\n",
      "文件不存在: \\\\znas\\Main\\futures\\2024-01-28\\2024-01-28_LAYERUSDT_USDT_1m.csv\n",
      "文件不存在: \\\\znas\\Main\\futures\\2024-01-29\\2024-01-29_LAYERUSDT_USDT_1m.csv\n",
      "文件不存在: \\\\znas\\Main\\futures\\2024-01-30\\2024-01-30_LAYERUSDT_USDT_1m.csv\n",
      "文件不存在: \\\\znas\\Main\\futures\\2024-01-31\\2024-01-31_LAYERUSDT_USDT_1m.csv\n",
      "文件不存在: \\\\znas\\Main\\futures\\2024-02-01\\2024-02-01_LAYERUSDT_USDT_1m.csv\n",
      "文件不存在: \\\\znas\\Main\\futures\\2024-02-02\\2024-02-02_LAYERUSDT_USDT_1m.csv\n",
      "文件不存在: \\\\znas\\Main\\futures\\2024-02-03\\2024-02-03_LAYERUSDT_USDT_1m.csv\n",
      "文件不存在: \\\\znas\\Main\\futures\\2024-02-04\\2024-02-04_LAYERUSDT_USDT_1m.csv\n",
      "文件不存在: \\\\znas\\Main\\futures\\2024-02-05\\2024-02-05_LAYERUSDT_USDT_1m.csv\n",
      "文件不存在: \\\\znas\\Main\\futures\\2024-02-06\\2024-02-06_LAYERUSDT_USDT_1m.csv\n",
      "文件不存在: \\\\znas\\Main\\futures\\2024-02-07\\2024-02-07_LAYERUSDT_USDT_1m.csv\n",
      "文件不存在: \\\\znas\\Main\\futures\\2024-02-08\\2024-02-08_LAYERUSDT_USDT_1m.csv\n",
      "文件不存在: \\\\znas\\Main\\futures\\2024-02-09\\2024-02-09_LAYERUSDT_USDT_1m.csv\n",
      "文件不存在: \\\\znas\\Main\\futures\\2024-02-10\\2024-02-10_LAYERUSDT_USDT_1m.csv\n",
      "文件不存在: \\\\znas\\Main\\futures\\2024-02-11\\2024-02-11_LAYERUSDT_USDT_1m.csv\n",
      "文件不存在: \\\\znas\\Main\\futures\\2024-02-12\\2024-02-12_LAYERUSDT_USDT_1m.csv\n",
      "文件不存在: \\\\znas\\Main\\futures\\2024-02-13\\2024-02-13_LAYERUSDT_USDT_1m.csv\n",
      "文件不存在: \\\\znas\\Main\\futures\\2024-02-14\\2024-02-14_LAYERUSDT_USDT_1m.csv\n",
      "文件不存在: \\\\znas\\Main\\futures\\2024-02-15\\2024-02-15_LAYERUSDT_USDT_1m.csv\n",
      "文件不存在: \\\\znas\\Main\\futures\\2024-02-16\\2024-02-16_LAYERUSDT_USDT_1m.csv\n",
      "文件不存在: \\\\znas\\Main\\futures\\2024-02-17\\2024-02-17_LAYERUSDT_USDT_1m.csv\n",
      "文件不存在: \\\\znas\\Main\\futures\\2024-02-18\\2024-02-18_LAYERUSDT_USDT_1m.csv\n",
      "文件不存在: \\\\znas\\Main\\futures\\2024-02-19\\2024-02-19_LAYERUSDT_USDT_1m.csv\n",
      "文件不存在: \\\\znas\\Main\\futures\\2024-02-20\\2024-02-20_LAYERUSDT_USDT_1m.csv\n",
      "文件不存在: \\\\znas\\Main\\futures\\2024-02-21\\2024-02-21_LAYERUSDT_USDT_1m.csv\n",
      "文件不存在: \\\\znas\\Main\\futures\\2024-02-22\\2024-02-22_LAYERUSDT_USDT_1m.csv\n",
      "文件不存在: \\\\znas\\Main\\futures\\2024-02-23\\2024-02-23_LAYERUSDT_USDT_1m.csv\n",
      "文件不存在: \\\\znas\\Main\\futures\\2024-02-24\\2024-02-24_LAYERUSDT_USDT_1m.csv\n",
      "文件不存在: \\\\znas\\Main\\futures\\2024-02-25\\2024-02-25_LAYERUSDT_USDT_1m.csv\n",
      "文件不存在: \\\\znas\\Main\\futures\\2024-02-26\\2024-02-26_LAYERUSDT_USDT_1m.csv\n",
      "文件不存在: \\\\znas\\Main\\futures\\2024-02-27\\2024-02-27_LAYERUSDT_USDT_1m.csv\n",
      "文件不存在: \\\\znas\\Main\\futures\\2024-02-28\\2024-02-28_LAYERUSDT_USDT_1m.csv\n",
      "文件不存在: \\\\znas\\Main\\futures\\2024-02-29\\2024-02-29_LAYERUSDT_USDT_1m.csv\n",
      "文件不存在: \\\\znas\\Main\\futures\\2024-03-01\\2024-03-01_LAYERUSDT_USDT_1m.csv\n",
      "文件不存在: \\\\znas\\Main\\futures\\2024-03-02\\2024-03-02_LAYERUSDT_USDT_1m.csv\n",
      "文件不存在: \\\\znas\\Main\\futures\\2024-03-03\\2024-03-03_LAYERUSDT_USDT_1m.csv\n",
      "文件不存在: \\\\znas\\Main\\futures\\2024-03-04\\2024-03-04_LAYERUSDT_USDT_1m.csv\n",
      "文件不存在: \\\\znas\\Main\\futures\\2024-03-05\\2024-03-05_LAYERUSDT_USDT_1m.csv\n",
      "文件不存在: \\\\znas\\Main\\futures\\2024-03-06\\2024-03-06_LAYERUSDT_USDT_1m.csv\n",
      "文件不存在: \\\\znas\\Main\\futures\\2024-03-07\\2024-03-07_LAYERUSDT_USDT_1m.csv\n",
      "文件不存在: \\\\znas\\Main\\futures\\2024-03-08\\2024-03-08_LAYERUSDT_USDT_1m.csv\n",
      "文件不存在: \\\\znas\\Main\\futures\\2024-03-09\\2024-03-09_LAYERUSDT_USDT_1m.csv\n",
      "文件不存在: \\\\znas\\Main\\futures\\2024-03-10\\2024-03-10_LAYERUSDT_USDT_1m.csv\n",
      "文件不存在: \\\\znas\\Main\\futures\\2024-03-11\\2024-03-11_LAYERUSDT_USDT_1m.csv\n",
      "文件不存在: \\\\znas\\Main\\futures\\2024-03-12\\2024-03-12_LAYERUSDT_USDT_1m.csv\n",
      "文件不存在: \\\\znas\\Main\\futures\\2024-03-13\\2024-03-13_LAYERUSDT_USDT_1m.csv\n",
      "文件不存在: \\\\znas\\Main\\futures\\2024-03-14\\2024-03-14_LAYERUSDT_USDT_1m.csv\n",
      "文件不存在: \\\\znas\\Main\\futures\\2024-03-15\\2024-03-15_LAYERUSDT_USDT_1m.csv\n",
      "文件不存在: \\\\znas\\Main\\futures\\2024-03-16\\2024-03-16_LAYERUSDT_USDT_1m.csv\n",
      "文件不存在: \\\\znas\\Main\\futures\\2024-03-17\\2024-03-17_LAYERUSDT_USDT_1m.csv\n",
      "文件不存在: \\\\znas\\Main\\futures\\2024-03-18\\2024-03-18_LAYERUSDT_USDT_1m.csv\n",
      "文件不存在: \\\\znas\\Main\\futures\\2024-03-19\\2024-03-19_LAYERUSDT_USDT_1m.csv\n",
      "文件不存在: \\\\znas\\Main\\futures\\2024-03-20\\2024-03-20_LAYERUSDT_USDT_1m.csv\n",
      "文件不存在: \\\\znas\\Main\\futures\\2024-03-21\\2024-03-21_LAYERUSDT_USDT_1m.csv\n",
      "文件不存在: \\\\znas\\Main\\futures\\2024-03-22\\2024-03-22_LAYERUSDT_USDT_1m.csv\n",
      "文件不存在: \\\\znas\\Main\\futures\\2024-03-23\\2024-03-23_LAYERUSDT_USDT_1m.csv\n",
      "文件不存在: \\\\znas\\Main\\futures\\2024-03-24\\2024-03-24_LAYERUSDT_USDT_1m.csv\n",
      "文件不存在: \\\\znas\\Main\\futures\\2024-03-25\\2024-03-25_LAYERUSDT_USDT_1m.csv\n",
      "文件不存在: \\\\znas\\Main\\futures\\2024-03-26\\2024-03-26_LAYERUSDT_USDT_1m.csv\n",
      "文件不存在: \\\\znas\\Main\\futures\\2024-03-27\\2024-03-27_LAYERUSDT_USDT_1m.csv\n",
      "文件不存在: \\\\znas\\Main\\futures\\2024-03-28\\2024-03-28_LAYERUSDT_USDT_1m.csv\n",
      "文件不存在: \\\\znas\\Main\\futures\\2024-03-29\\2024-03-29_LAYERUSDT_USDT_1m.csv\n",
      "文件不存在: \\\\znas\\Main\\futures\\2024-03-30\\2024-03-30_LAYERUSDT_USDT_1m.csv\n",
      "文件不存在: \\\\znas\\Main\\futures\\2024-03-31\\2024-03-31_LAYERUSDT_USDT_1m.csv\n",
      "文件不存在: \\\\znas\\Main\\futures\\2024-04-01\\2024-04-01_LAYERUSDT_USDT_1m.csv\n",
      "文件不存在: \\\\znas\\Main\\futures\\2024-04-02\\2024-04-02_LAYERUSDT_USDT_1m.csv\n",
      "文件不存在: \\\\znas\\Main\\futures\\2024-04-03\\2024-04-03_LAYERUSDT_USDT_1m.csv\n",
      "文件不存在: \\\\znas\\Main\\futures\\2024-04-04\\2024-04-04_LAYERUSDT_USDT_1m.csv\n",
      "文件不存在: \\\\znas\\Main\\futures\\2024-04-05\\2024-04-05_LAYERUSDT_USDT_1m.csv\n",
      "文件不存在: \\\\znas\\Main\\futures\\2024-04-06\\2024-04-06_LAYERUSDT_USDT_1m.csv\n",
      "文件不存在: \\\\znas\\Main\\futures\\2024-04-07\\2024-04-07_LAYERUSDT_USDT_1m.csv\n",
      "文件不存在: \\\\znas\\Main\\futures\\2024-04-08\\2024-04-08_LAYERUSDT_USDT_1m.csv\n",
      "文件不存在: \\\\znas\\Main\\futures\\2024-04-09\\2024-04-09_LAYERUSDT_USDT_1m.csv\n",
      "文件不存在: \\\\znas\\Main\\futures\\2024-04-10\\2024-04-10_LAYERUSDT_USDT_1m.csv\n",
      "文件不存在: \\\\znas\\Main\\futures\\2024-04-11\\2024-04-11_LAYERUSDT_USDT_1m.csv\n",
      "文件不存在: \\\\znas\\Main\\futures\\2024-04-12\\2024-04-12_LAYERUSDT_USDT_1m.csv\n",
      "文件不存在: \\\\znas\\Main\\futures\\2024-04-13\\2024-04-13_LAYERUSDT_USDT_1m.csv\n",
      "文件不存在: \\\\znas\\Main\\futures\\2024-04-14\\2024-04-14_LAYERUSDT_USDT_1m.csv\n",
      "文件不存在: \\\\znas\\Main\\futures\\2024-04-15\\2024-04-15_LAYERUSDT_USDT_1m.csv\n",
      "文件不存在: \\\\znas\\Main\\futures\\2024-04-16\\2024-04-16_LAYERUSDT_USDT_1m.csv\n",
      "文件不存在: \\\\znas\\Main\\futures\\2024-04-17\\2024-04-17_LAYERUSDT_USDT_1m.csv\n",
      "文件不存在: \\\\znas\\Main\\futures\\2024-04-18\\2024-04-18_LAYERUSDT_USDT_1m.csv\n",
      "文件不存在: \\\\znas\\Main\\futures\\2024-04-19\\2024-04-19_LAYERUSDT_USDT_1m.csv\n",
      "文件不存在: \\\\znas\\Main\\futures\\2024-04-20\\2024-04-20_LAYERUSDT_USDT_1m.csv\n",
      "文件不存在: \\\\znas\\Main\\futures\\2024-04-21\\2024-04-21_LAYERUSDT_USDT_1m.csv\n",
      "文件不存在: \\\\znas\\Main\\futures\\2024-04-22\\2024-04-22_LAYERUSDT_USDT_1m.csv\n",
      "文件不存在: \\\\znas\\Main\\futures\\2024-04-23\\2024-04-23_LAYERUSDT_USDT_1m.csv\n",
      "文件不存在: \\\\znas\\Main\\futures\\2024-04-24\\2024-04-24_LAYERUSDT_USDT_1m.csv\n",
      "文件不存在: \\\\znas\\Main\\futures\\2024-04-25\\2024-04-25_LAYERUSDT_USDT_1m.csv\n",
      "文件不存在: \\\\znas\\Main\\futures\\2024-04-26\\2024-04-26_LAYERUSDT_USDT_1m.csv\n",
      "文件不存在: \\\\znas\\Main\\futures\\2024-04-27\\2024-04-27_LAYERUSDT_USDT_1m.csv\n",
      "文件不存在: \\\\znas\\Main\\futures\\2024-04-28\\2024-04-28_LAYERUSDT_USDT_1m.csv\n",
      "文件不存在: \\\\znas\\Main\\futures\\2024-04-29\\2024-04-29_LAYERUSDT_USDT_1m.csv\n",
      "文件不存在: \\\\znas\\Main\\futures\\2024-04-30\\2024-04-30_LAYERUSDT_USDT_1m.csv\n",
      "文件不存在: \\\\znas\\Main\\futures\\2024-05-01\\2024-05-01_LAYERUSDT_USDT_1m.csv\n",
      "文件不存在: \\\\znas\\Main\\futures\\2024-05-02\\2024-05-02_LAYERUSDT_USDT_1m.csv\n",
      "文件不存在: \\\\znas\\Main\\futures\\2024-05-03\\2024-05-03_LAYERUSDT_USDT_1m.csv\n",
      "文件不存在: \\\\znas\\Main\\futures\\2024-05-04\\2024-05-04_LAYERUSDT_USDT_1m.csv\n",
      "文件不存在: \\\\znas\\Main\\futures\\2024-05-05\\2024-05-05_LAYERUSDT_USDT_1m.csv\n",
      "文件不存在: \\\\znas\\Main\\futures\\2024-05-06\\2024-05-06_LAYERUSDT_USDT_1m.csv\n",
      "文件不存在: \\\\znas\\Main\\futures\\2024-05-07\\2024-05-07_LAYERUSDT_USDT_1m.csv\n",
      "文件不存在: \\\\znas\\Main\\futures\\2024-05-08\\2024-05-08_LAYERUSDT_USDT_1m.csv\n",
      "文件不存在: \\\\znas\\Main\\futures\\2024-05-09\\2024-05-09_LAYERUSDT_USDT_1m.csv\n",
      "文件不存在: \\\\znas\\Main\\futures\\2024-05-10\\2024-05-10_LAYERUSDT_USDT_1m.csv\n",
      "文件不存在: \\\\znas\\Main\\futures\\2024-05-11\\2024-05-11_LAYERUSDT_USDT_1m.csv\n",
      "文件不存在: \\\\znas\\Main\\futures\\2024-05-12\\2024-05-12_LAYERUSDT_USDT_1m.csv\n",
      "文件不存在: \\\\znas\\Main\\futures\\2024-05-13\\2024-05-13_LAYERUSDT_USDT_1m.csv\n",
      "文件不存在: \\\\znas\\Main\\futures\\2024-05-14\\2024-05-14_LAYERUSDT_USDT_1m.csv\n",
      "文件不存在: \\\\znas\\Main\\futures\\2024-05-15\\2024-05-15_LAYERUSDT_USDT_1m.csv\n",
      "文件不存在: \\\\znas\\Main\\futures\\2024-05-16\\2024-05-16_LAYERUSDT_USDT_1m.csv\n",
      "文件不存在: \\\\znas\\Main\\futures\\2024-05-17\\2024-05-17_LAYERUSDT_USDT_1m.csv\n",
      "文件不存在: \\\\znas\\Main\\futures\\2024-05-18\\2024-05-18_LAYERUSDT_USDT_1m.csv\n",
      "文件不存在: \\\\znas\\Main\\futures\\2024-05-19\\2024-05-19_LAYERUSDT_USDT_1m.csv\n",
      "文件不存在: \\\\znas\\Main\\futures\\2024-05-20\\2024-05-20_LAYERUSDT_USDT_1m.csv\n",
      "文件不存在: \\\\znas\\Main\\futures\\2024-05-21\\2024-05-21_LAYERUSDT_USDT_1m.csv\n",
      "文件不存在: \\\\znas\\Main\\futures\\2024-05-22\\2024-05-22_LAYERUSDT_USDT_1m.csv\n",
      "文件不存在: \\\\znas\\Main\\futures\\2024-05-23\\2024-05-23_LAYERUSDT_USDT_1m.csv\n",
      "文件不存在: \\\\znas\\Main\\futures\\2024-05-24\\2024-05-24_LAYERUSDT_USDT_1m.csv\n",
      "文件不存在: \\\\znas\\Main\\futures\\2024-05-25\\2024-05-25_LAYERUSDT_USDT_1m.csv\n",
      "文件不存在: \\\\znas\\Main\\futures\\2024-05-26\\2024-05-26_LAYERUSDT_USDT_1m.csv\n",
      "文件不存在: \\\\znas\\Main\\futures\\2024-05-27\\2024-05-27_LAYERUSDT_USDT_1m.csv\n",
      "文件不存在: \\\\znas\\Main\\futures\\2024-05-28\\2024-05-28_LAYERUSDT_USDT_1m.csv\n",
      "文件不存在: \\\\znas\\Main\\futures\\2024-05-29\\2024-05-29_LAYERUSDT_USDT_1m.csv\n",
      "文件不存在: \\\\znas\\Main\\futures\\2024-05-30\\2024-05-30_LAYERUSDT_USDT_1m.csv\n",
      "文件不存在: \\\\znas\\Main\\futures\\2024-05-31\\2024-05-31_LAYERUSDT_USDT_1m.csv\n",
      "文件不存在: \\\\znas\\Main\\futures\\2024-06-01\\2024-06-01_LAYERUSDT_USDT_1m.csv\n",
      "文件不存在: \\\\znas\\Main\\futures\\2024-06-02\\2024-06-02_LAYERUSDT_USDT_1m.csv\n",
      "文件不存在: \\\\znas\\Main\\futures\\2024-06-03\\2024-06-03_LAYERUSDT_USDT_1m.csv\n",
      "文件不存在: \\\\znas\\Main\\futures\\2024-06-04\\2024-06-04_LAYERUSDT_USDT_1m.csv\n",
      "文件不存在: \\\\znas\\Main\\futures\\2024-06-05\\2024-06-05_LAYERUSDT_USDT_1m.csv\n",
      "文件不存在: \\\\znas\\Main\\futures\\2024-06-06\\2024-06-06_LAYERUSDT_USDT_1m.csv\n",
      "文件不存在: \\\\znas\\Main\\futures\\2024-06-07\\2024-06-07_LAYERUSDT_USDT_1m.csv\n",
      "文件不存在: \\\\znas\\Main\\futures\\2024-06-08\\2024-06-08_LAYERUSDT_USDT_1m.csv\n",
      "文件不存在: \\\\znas\\Main\\futures\\2024-06-09\\2024-06-09_LAYERUSDT_USDT_1m.csv\n",
      "文件不存在: \\\\znas\\Main\\futures\\2024-06-10\\2024-06-10_LAYERUSDT_USDT_1m.csv\n",
      "文件不存在: \\\\znas\\Main\\futures\\2024-06-11\\2024-06-11_LAYERUSDT_USDT_1m.csv\n",
      "文件不存在: \\\\znas\\Main\\futures\\2024-06-12\\2024-06-12_LAYERUSDT_USDT_1m.csv\n",
      "文件不存在: \\\\znas\\Main\\futures\\2024-06-13\\2024-06-13_LAYERUSDT_USDT_1m.csv\n",
      "文件不存在: \\\\znas\\Main\\futures\\2024-06-14\\2024-06-14_LAYERUSDT_USDT_1m.csv\n",
      "文件不存在: \\\\znas\\Main\\futures\\2024-06-15\\2024-06-15_LAYERUSDT_USDT_1m.csv\n",
      "文件不存在: \\\\znas\\Main\\futures\\2024-06-16\\2024-06-16_LAYERUSDT_USDT_1m.csv\n",
      "文件不存在: \\\\znas\\Main\\futures\\2024-06-17\\2024-06-17_LAYERUSDT_USDT_1m.csv\n",
      "文件不存在: \\\\znas\\Main\\futures\\2024-06-18\\2024-06-18_LAYERUSDT_USDT_1m.csv\n",
      "文件不存在: \\\\znas\\Main\\futures\\2024-06-19\\2024-06-19_LAYERUSDT_USDT_1m.csv\n",
      "文件不存在: \\\\znas\\Main\\futures\\2024-06-20\\2024-06-20_LAYERUSDT_USDT_1m.csv\n",
      "文件不存在: \\\\znas\\Main\\futures\\2024-06-21\\2024-06-21_LAYERUSDT_USDT_1m.csv\n",
      "文件不存在: \\\\znas\\Main\\futures\\2024-06-22\\2024-06-22_LAYERUSDT_USDT_1m.csv\n",
      "文件不存在: \\\\znas\\Main\\futures\\2024-06-23\\2024-06-23_LAYERUSDT_USDT_1m.csv\n",
      "文件不存在: \\\\znas\\Main\\futures\\2024-06-24\\2024-06-24_LAYERUSDT_USDT_1m.csv\n",
      "文件不存在: \\\\znas\\Main\\futures\\2024-06-25\\2024-06-25_LAYERUSDT_USDT_1m.csv\n",
      "文件不存在: \\\\znas\\Main\\futures\\2024-06-26\\2024-06-26_LAYERUSDT_USDT_1m.csv\n",
      "文件不存在: \\\\znas\\Main\\futures\\2024-06-27\\2024-06-27_LAYERUSDT_USDT_1m.csv\n",
      "文件不存在: \\\\znas\\Main\\futures\\2024-06-28\\2024-06-28_LAYERUSDT_USDT_1m.csv\n",
      "文件不存在: \\\\znas\\Main\\futures\\2024-06-29\\2024-06-29_LAYERUSDT_USDT_1m.csv\n",
      "文件不存在: \\\\znas\\Main\\futures\\2024-06-30\\2024-06-30_LAYERUSDT_USDT_1m.csv\n",
      "文件不存在: \\\\znas\\Main\\futures\\2024-07-01\\2024-07-01_LAYERUSDT_USDT_1m.csv\n",
      "文件不存在: \\\\znas\\Main\\futures\\2024-07-02\\2024-07-02_LAYERUSDT_USDT_1m.csv\n",
      "文件不存在: \\\\znas\\Main\\futures\\2024-07-03\\2024-07-03_LAYERUSDT_USDT_1m.csv\n",
      "文件不存在: \\\\znas\\Main\\futures\\2024-07-04\\2024-07-04_LAYERUSDT_USDT_1m.csv\n",
      "文件不存在: \\\\znas\\Main\\futures\\2024-07-05\\2024-07-05_LAYERUSDT_USDT_1m.csv\n",
      "文件不存在: \\\\znas\\Main\\futures\\2024-07-06\\2024-07-06_LAYERUSDT_USDT_1m.csv\n",
      "文件不存在: \\\\znas\\Main\\futures\\2024-07-07\\2024-07-07_LAYERUSDT_USDT_1m.csv\n",
      "文件不存在: \\\\znas\\Main\\futures\\2024-07-08\\2024-07-08_LAYERUSDT_USDT_1m.csv\n",
      "文件不存在: \\\\znas\\Main\\futures\\2024-07-09\\2024-07-09_LAYERUSDT_USDT_1m.csv\n",
      "文件不存在: \\\\znas\\Main\\futures\\2024-07-10\\2024-07-10_LAYERUSDT_USDT_1m.csv\n",
      "文件不存在: \\\\znas\\Main\\futures\\2024-07-11\\2024-07-11_LAYERUSDT_USDT_1m.csv\n",
      "文件不存在: \\\\znas\\Main\\futures\\2024-07-12\\2024-07-12_LAYERUSDT_USDT_1m.csv\n",
      "文件不存在: \\\\znas\\Main\\futures\\2024-07-13\\2024-07-13_LAYERUSDT_USDT_1m.csv\n",
      "文件不存在: \\\\znas\\Main\\futures\\2024-07-14\\2024-07-14_LAYERUSDT_USDT_1m.csv\n",
      "文件不存在: \\\\znas\\Main\\futures\\2024-07-15\\2024-07-15_LAYERUSDT_USDT_1m.csv\n",
      "文件不存在: \\\\znas\\Main\\futures\\2024-07-16\\2024-07-16_LAYERUSDT_USDT_1m.csv\n",
      "文件不存在: \\\\znas\\Main\\futures\\2024-07-17\\2024-07-17_LAYERUSDT_USDT_1m.csv\n",
      "文件不存在: \\\\znas\\Main\\futures\\2024-07-18\\2024-07-18_LAYERUSDT_USDT_1m.csv\n",
      "文件不存在: \\\\znas\\Main\\futures\\2024-07-19\\2024-07-19_LAYERUSDT_USDT_1m.csv\n",
      "文件不存在: \\\\znas\\Main\\futures\\2024-07-20\\2024-07-20_LAYERUSDT_USDT_1m.csv\n",
      "文件不存在: \\\\znas\\Main\\futures\\2024-07-21\\2024-07-21_LAYERUSDT_USDT_1m.csv\n",
      "文件不存在: \\\\znas\\Main\\futures\\2024-07-22\\2024-07-22_LAYERUSDT_USDT_1m.csv\n",
      "文件不存在: \\\\znas\\Main\\futures\\2024-07-23\\2024-07-23_LAYERUSDT_USDT_1m.csv\n",
      "文件不存在: \\\\znas\\Main\\futures\\2024-07-24\\2024-07-24_LAYERUSDT_USDT_1m.csv\n",
      "文件不存在: \\\\znas\\Main\\futures\\2024-07-25\\2024-07-25_LAYERUSDT_USDT_1m.csv\n",
      "文件不存在: \\\\znas\\Main\\futures\\2024-07-26\\2024-07-26_LAYERUSDT_USDT_1m.csv\n",
      "文件不存在: \\\\znas\\Main\\futures\\2024-07-27\\2024-07-27_LAYERUSDT_USDT_1m.csv\n",
      "文件不存在: \\\\znas\\Main\\futures\\2024-07-28\\2024-07-28_LAYERUSDT_USDT_1m.csv\n",
      "文件不存在: \\\\znas\\Main\\futures\\2024-07-29\\2024-07-29_LAYERUSDT_USDT_1m.csv\n",
      "文件不存在: \\\\znas\\Main\\futures\\2024-07-30\\2024-07-30_LAYERUSDT_USDT_1m.csv\n",
      "文件不存在: \\\\znas\\Main\\futures\\2024-07-31\\2024-07-31_LAYERUSDT_USDT_1m.csv\n",
      "文件不存在: \\\\znas\\Main\\futures\\2024-08-01\\2024-08-01_LAYERUSDT_USDT_1m.csv\n",
      "文件不存在: \\\\znas\\Main\\futures\\2024-08-02\\2024-08-02_LAYERUSDT_USDT_1m.csv\n",
      "文件不存在: \\\\znas\\Main\\futures\\2024-08-03\\2024-08-03_LAYERUSDT_USDT_1m.csv\n",
      "文件不存在: \\\\znas\\Main\\futures\\2024-08-04\\2024-08-04_LAYERUSDT_USDT_1m.csv\n",
      "文件不存在: \\\\znas\\Main\\futures\\2024-08-05\\2024-08-05_LAYERUSDT_USDT_1m.csv\n",
      "文件不存在: \\\\znas\\Main\\futures\\2024-08-06\\2024-08-06_LAYERUSDT_USDT_1m.csv\n",
      "文件不存在: \\\\znas\\Main\\futures\\2024-08-07\\2024-08-07_LAYERUSDT_USDT_1m.csv\n",
      "文件不存在: \\\\znas\\Main\\futures\\2024-08-08\\2024-08-08_LAYERUSDT_USDT_1m.csv\n",
      "文件不存在: \\\\znas\\Main\\futures\\2024-08-09\\2024-08-09_LAYERUSDT_USDT_1m.csv\n",
      "文件不存在: \\\\znas\\Main\\futures\\2024-08-10\\2024-08-10_LAYERUSDT_USDT_1m.csv\n",
      "文件不存在: \\\\znas\\Main\\futures\\2024-08-11\\2024-08-11_LAYERUSDT_USDT_1m.csv\n",
      "文件不存在: \\\\znas\\Main\\futures\\2024-08-12\\2024-08-12_LAYERUSDT_USDT_1m.csv\n",
      "文件不存在: \\\\znas\\Main\\futures\\2024-08-13\\2024-08-13_LAYERUSDT_USDT_1m.csv\n",
      "文件不存在: \\\\znas\\Main\\futures\\2024-08-14\\2024-08-14_LAYERUSDT_USDT_1m.csv\n",
      "文件不存在: \\\\znas\\Main\\futures\\2024-08-15\\2024-08-15_LAYERUSDT_USDT_1m.csv\n",
      "文件不存在: \\\\znas\\Main\\futures\\2024-08-16\\2024-08-16_LAYERUSDT_USDT_1m.csv\n",
      "文件不存在: \\\\znas\\Main\\futures\\2024-08-17\\2024-08-17_LAYERUSDT_USDT_1m.csv\n",
      "文件不存在: \\\\znas\\Main\\futures\\2024-08-18\\2024-08-18_LAYERUSDT_USDT_1m.csv\n",
      "文件不存在: \\\\znas\\Main\\futures\\2024-08-19\\2024-08-19_LAYERUSDT_USDT_1m.csv\n",
      "文件不存在: \\\\znas\\Main\\futures\\2024-08-20\\2024-08-20_LAYERUSDT_USDT_1m.csv\n",
      "文件不存在: \\\\znas\\Main\\futures\\2024-08-21\\2024-08-21_LAYERUSDT_USDT_1m.csv\n",
      "文件不存在: \\\\znas\\Main\\futures\\2024-08-22\\2024-08-22_LAYERUSDT_USDT_1m.csv\n",
      "文件不存在: \\\\znas\\Main\\futures\\2024-08-23\\2024-08-23_LAYERUSDT_USDT_1m.csv\n",
      "文件不存在: \\\\znas\\Main\\futures\\2024-08-24\\2024-08-24_LAYERUSDT_USDT_1m.csv\n",
      "文件不存在: \\\\znas\\Main\\futures\\2024-08-25\\2024-08-25_LAYERUSDT_USDT_1m.csv\n",
      "文件不存在: \\\\znas\\Main\\futures\\2024-08-26\\2024-08-26_LAYERUSDT_USDT_1m.csv\n",
      "文件不存在: \\\\znas\\Main\\futures\\2024-08-27\\2024-08-27_LAYERUSDT_USDT_1m.csv\n",
      "文件不存在: \\\\znas\\Main\\futures\\2024-08-28\\2024-08-28_LAYERUSDT_USDT_1m.csv\n",
      "文件不存在: \\\\znas\\Main\\futures\\2024-08-29\\2024-08-29_LAYERUSDT_USDT_1m.csv\n",
      "文件不存在: \\\\znas\\Main\\futures\\2024-08-30\\2024-08-30_LAYERUSDT_USDT_1m.csv\n",
      "文件不存在: \\\\znas\\Main\\futures\\2024-08-31\\2024-08-31_LAYERUSDT_USDT_1m.csv\n",
      "文件不存在: \\\\znas\\Main\\futures\\2024-09-01\\2024-09-01_LAYERUSDT_USDT_1m.csv\n",
      "文件不存在: \\\\znas\\Main\\futures\\2024-09-02\\2024-09-02_LAYERUSDT_USDT_1m.csv\n",
      "文件不存在: \\\\znas\\Main\\futures\\2024-09-03\\2024-09-03_LAYERUSDT_USDT_1m.csv\n",
      "文件不存在: \\\\znas\\Main\\futures\\2024-09-04\\2024-09-04_LAYERUSDT_USDT_1m.csv\n",
      "文件不存在: \\\\znas\\Main\\futures\\2024-09-05\\2024-09-05_LAYERUSDT_USDT_1m.csv\n",
      "文件不存在: \\\\znas\\Main\\futures\\2024-09-06\\2024-09-06_LAYERUSDT_USDT_1m.csv\n",
      "文件不存在: \\\\znas\\Main\\futures\\2024-09-07\\2024-09-07_LAYERUSDT_USDT_1m.csv\n",
      "文件不存在: \\\\znas\\Main\\futures\\2024-09-08\\2024-09-08_LAYERUSDT_USDT_1m.csv\n",
      "文件不存在: \\\\znas\\Main\\futures\\2024-09-09\\2024-09-09_LAYERUSDT_USDT_1m.csv\n",
      "文件不存在: \\\\znas\\Main\\futures\\2024-09-10\\2024-09-10_LAYERUSDT_USDT_1m.csv\n",
      "文件不存在: \\\\znas\\Main\\futures\\2024-09-11\\2024-09-11_LAYERUSDT_USDT_1m.csv\n",
      "文件不存在: \\\\znas\\Main\\futures\\2024-09-12\\2024-09-12_LAYERUSDT_USDT_1m.csv\n",
      "文件不存在: \\\\znas\\Main\\futures\\2024-09-13\\2024-09-13_LAYERUSDT_USDT_1m.csv\n",
      "文件不存在: \\\\znas\\Main\\futures\\2024-09-14\\2024-09-14_LAYERUSDT_USDT_1m.csv\n",
      "文件不存在: \\\\znas\\Main\\futures\\2024-09-15\\2024-09-15_LAYERUSDT_USDT_1m.csv\n",
      "文件不存在: \\\\znas\\Main\\futures\\2024-09-16\\2024-09-16_LAYERUSDT_USDT_1m.csv\n",
      "文件不存在: \\\\znas\\Main\\futures\\2024-09-17\\2024-09-17_LAYERUSDT_USDT_1m.csv\n",
      "文件不存在: \\\\znas\\Main\\futures\\2024-09-18\\2024-09-18_LAYERUSDT_USDT_1m.csv\n",
      "文件不存在: \\\\znas\\Main\\futures\\2024-09-19\\2024-09-19_LAYERUSDT_USDT_1m.csv\n",
      "文件不存在: \\\\znas\\Main\\futures\\2024-09-20\\2024-09-20_LAYERUSDT_USDT_1m.csv\n",
      "文件不存在: \\\\znas\\Main\\futures\\2024-09-21\\2024-09-21_LAYERUSDT_USDT_1m.csv\n",
      "文件不存在: \\\\znas\\Main\\futures\\2024-09-22\\2024-09-22_LAYERUSDT_USDT_1m.csv\n",
      "文件不存在: \\\\znas\\Main\\futures\\2024-09-23\\2024-09-23_LAYERUSDT_USDT_1m.csv\n",
      "文件不存在: \\\\znas\\Main\\futures\\2024-09-24\\2024-09-24_LAYERUSDT_USDT_1m.csv\n",
      "文件不存在: \\\\znas\\Main\\futures\\2024-09-25\\2024-09-25_LAYERUSDT_USDT_1m.csv\n",
      "文件不存在: \\\\znas\\Main\\futures\\2024-09-26\\2024-09-26_LAYERUSDT_USDT_1m.csv\n",
      "文件不存在: \\\\znas\\Main\\futures\\2024-09-27\\2024-09-27_LAYERUSDT_USDT_1m.csv\n",
      "文件不存在: \\\\znas\\Main\\futures\\2024-09-28\\2024-09-28_LAYERUSDT_USDT_1m.csv\n",
      "文件不存在: \\\\znas\\Main\\futures\\2024-09-29\\2024-09-29_LAYERUSDT_USDT_1m.csv\n",
      "文件不存在: \\\\znas\\Main\\futures\\2024-09-30\\2024-09-30_LAYERUSDT_USDT_1m.csv\n",
      "文件不存在: \\\\znas\\Main\\futures\\2024-10-01\\2024-10-01_LAYERUSDT_USDT_1m.csv\n",
      "文件不存在: \\\\znas\\Main\\futures\\2024-10-02\\2024-10-02_LAYERUSDT_USDT_1m.csv\n",
      "文件不存在: \\\\znas\\Main\\futures\\2024-10-03\\2024-10-03_LAYERUSDT_USDT_1m.csv\n",
      "文件不存在: \\\\znas\\Main\\futures\\2024-10-04\\2024-10-04_LAYERUSDT_USDT_1m.csv\n",
      "文件不存在: \\\\znas\\Main\\futures\\2024-10-05\\2024-10-05_LAYERUSDT_USDT_1m.csv\n",
      "文件不存在: \\\\znas\\Main\\futures\\2024-10-06\\2024-10-06_LAYERUSDT_USDT_1m.csv\n",
      "文件不存在: \\\\znas\\Main\\futures\\2024-10-07\\2024-10-07_LAYERUSDT_USDT_1m.csv\n",
      "文件不存在: \\\\znas\\Main\\futures\\2024-10-08\\2024-10-08_LAYERUSDT_USDT_1m.csv\n",
      "文件不存在: \\\\znas\\Main\\futures\\2024-10-09\\2024-10-09_LAYERUSDT_USDT_1m.csv\n",
      "文件不存在: \\\\znas\\Main\\futures\\2024-10-10\\2024-10-10_LAYERUSDT_USDT_1m.csv\n",
      "文件不存在: \\\\znas\\Main\\futures\\2024-10-11\\2024-10-11_LAYERUSDT_USDT_1m.csv\n",
      "文件不存在: \\\\znas\\Main\\futures\\2024-10-12\\2024-10-12_LAYERUSDT_USDT_1m.csv\n",
      "文件不存在: \\\\znas\\Main\\futures\\2024-10-13\\2024-10-13_LAYERUSDT_USDT_1m.csv\n",
      "文件不存在: \\\\znas\\Main\\futures\\2024-10-14\\2024-10-14_LAYERUSDT_USDT_1m.csv\n",
      "文件不存在: \\\\znas\\Main\\futures\\2024-10-15\\2024-10-15_LAYERUSDT_USDT_1m.csv\n",
      "文件不存在: \\\\znas\\Main\\futures\\2024-10-16\\2024-10-16_LAYERUSDT_USDT_1m.csv\n",
      "文件不存在: \\\\znas\\Main\\futures\\2024-10-17\\2024-10-17_LAYERUSDT_USDT_1m.csv\n",
      "文件不存在: \\\\znas\\Main\\futures\\2024-10-18\\2024-10-18_LAYERUSDT_USDT_1m.csv\n",
      "文件不存在: \\\\znas\\Main\\futures\\2024-10-19\\2024-10-19_LAYERUSDT_USDT_1m.csv\n",
      "文件不存在: \\\\znas\\Main\\futures\\2024-10-20\\2024-10-20_LAYERUSDT_USDT_1m.csv\n",
      "文件不存在: \\\\znas\\Main\\futures\\2024-10-21\\2024-10-21_LAYERUSDT_USDT_1m.csv\n",
      "文件不存在: \\\\znas\\Main\\futures\\2024-10-22\\2024-10-22_LAYERUSDT_USDT_1m.csv\n",
      "文件不存在: \\\\znas\\Main\\futures\\2024-10-23\\2024-10-23_LAYERUSDT_USDT_1m.csv\n",
      "文件不存在: \\\\znas\\Main\\futures\\2024-10-24\\2024-10-24_LAYERUSDT_USDT_1m.csv\n",
      "文件不存在: \\\\znas\\Main\\futures\\2024-10-25\\2024-10-25_LAYERUSDT_USDT_1m.csv\n",
      "文件不存在: \\\\znas\\Main\\futures\\2024-10-26\\2024-10-26_LAYERUSDT_USDT_1m.csv\n",
      "文件不存在: \\\\znas\\Main\\futures\\2024-10-27\\2024-10-27_LAYERUSDT_USDT_1m.csv\n",
      "文件不存在: \\\\znas\\Main\\futures\\2024-10-28\\2024-10-28_LAYERUSDT_USDT_1m.csv\n",
      "文件不存在: \\\\znas\\Main\\futures\\2024-10-29\\2024-10-29_LAYERUSDT_USDT_1m.csv\n",
      "文件不存在: \\\\znas\\Main\\futures\\2024-10-30\\2024-10-30_LAYERUSDT_USDT_1m.csv\n",
      "文件不存在: \\\\znas\\Main\\futures\\2024-10-31\\2024-10-31_LAYERUSDT_USDT_1m.csv\n",
      "文件不存在: \\\\znas\\Main\\futures\\2024-11-01\\2024-11-01_LAYERUSDT_USDT_1m.csv\n",
      "文件不存在: \\\\znas\\Main\\futures\\2024-11-02\\2024-11-02_LAYERUSDT_USDT_1m.csv\n",
      "文件不存在: \\\\znas\\Main\\futures\\2024-11-03\\2024-11-03_LAYERUSDT_USDT_1m.csv\n",
      "文件不存在: \\\\znas\\Main\\futures\\2024-11-04\\2024-11-04_LAYERUSDT_USDT_1m.csv\n",
      "文件不存在: \\\\znas\\Main\\futures\\2024-11-05\\2024-11-05_LAYERUSDT_USDT_1m.csv\n",
      "文件不存在: \\\\znas\\Main\\futures\\2024-11-06\\2024-11-06_LAYERUSDT_USDT_1m.csv\n",
      "文件不存在: \\\\znas\\Main\\futures\\2024-11-07\\2024-11-07_LAYERUSDT_USDT_1m.csv\n",
      "文件不存在: \\\\znas\\Main\\futures\\2024-11-08\\2024-11-08_LAYERUSDT_USDT_1m.csv\n",
      "文件不存在: \\\\znas\\Main\\futures\\2024-11-09\\2024-11-09_LAYERUSDT_USDT_1m.csv\n",
      "文件不存在: \\\\znas\\Main\\futures\\2024-11-10\\2024-11-10_LAYERUSDT_USDT_1m.csv\n",
      "文件不存在: \\\\znas\\Main\\futures\\2024-11-11\\2024-11-11_LAYERUSDT_USDT_1m.csv\n",
      "文件不存在: \\\\znas\\Main\\futures\\2024-11-12\\2024-11-12_LAYERUSDT_USDT_1m.csv\n",
      "文件不存在: \\\\znas\\Main\\futures\\2024-11-13\\2024-11-13_LAYERUSDT_USDT_1m.csv\n",
      "文件不存在: \\\\znas\\Main\\futures\\2024-11-14\\2024-11-14_LAYERUSDT_USDT_1m.csv\n",
      "文件不存在: \\\\znas\\Main\\futures\\2024-11-15\\2024-11-15_LAYERUSDT_USDT_1m.csv\n",
      "文件不存在: \\\\znas\\Main\\futures\\2024-11-16\\2024-11-16_LAYERUSDT_USDT_1m.csv\n",
      "文件不存在: \\\\znas\\Main\\futures\\2024-11-17\\2024-11-17_LAYERUSDT_USDT_1m.csv\n",
      "文件不存在: \\\\znas\\Main\\futures\\2024-11-18\\2024-11-18_LAYERUSDT_USDT_1m.csv\n",
      "文件不存在: \\\\znas\\Main\\futures\\2024-11-19\\2024-11-19_LAYERUSDT_USDT_1m.csv\n",
      "文件不存在: \\\\znas\\Main\\futures\\2024-11-20\\2024-11-20_LAYERUSDT_USDT_1m.csv\n",
      "文件不存在: \\\\znas\\Main\\futures\\2024-11-21\\2024-11-21_LAYERUSDT_USDT_1m.csv\n",
      "文件不存在: \\\\znas\\Main\\futures\\2024-11-22\\2024-11-22_LAYERUSDT_USDT_1m.csv\n",
      "文件不存在: \\\\znas\\Main\\futures\\2024-11-23\\2024-11-23_LAYERUSDT_USDT_1m.csv\n",
      "文件不存在: \\\\znas\\Main\\futures\\2024-11-24\\2024-11-24_LAYERUSDT_USDT_1m.csv\n",
      "文件不存在: \\\\znas\\Main\\futures\\2024-11-25\\2024-11-25_LAYERUSDT_USDT_1m.csv\n",
      "文件不存在: \\\\znas\\Main\\futures\\2024-11-26\\2024-11-26_LAYERUSDT_USDT_1m.csv\n",
      "文件不存在: \\\\znas\\Main\\futures\\2024-11-27\\2024-11-27_LAYERUSDT_USDT_1m.csv\n",
      "文件不存在: \\\\znas\\Main\\futures\\2024-11-28\\2024-11-28_LAYERUSDT_USDT_1m.csv\n",
      "文件不存在: \\\\znas\\Main\\futures\\2024-11-29\\2024-11-29_LAYERUSDT_USDT_1m.csv\n",
      "文件不存在: \\\\znas\\Main\\futures\\2024-11-30\\2024-11-30_LAYERUSDT_USDT_1m.csv\n",
      "文件不存在: \\\\znas\\Main\\futures\\2024-12-01\\2024-12-01_LAYERUSDT_USDT_1m.csv\n",
      "文件不存在: \\\\znas\\Main\\futures\\2024-12-02\\2024-12-02_LAYERUSDT_USDT_1m.csv\n",
      "文件不存在: \\\\znas\\Main\\futures\\2024-12-03\\2024-12-03_LAYERUSDT_USDT_1m.csv\n",
      "文件不存在: \\\\znas\\Main\\futures\\2024-12-04\\2024-12-04_LAYERUSDT_USDT_1m.csv\n",
      "文件不存在: \\\\znas\\Main\\futures\\2024-12-05\\2024-12-05_LAYERUSDT_USDT_1m.csv\n",
      "文件不存在: \\\\znas\\Main\\futures\\2024-12-06\\2024-12-06_LAYERUSDT_USDT_1m.csv\n",
      "文件不存在: \\\\znas\\Main\\futures\\2024-12-07\\2024-12-07_LAYERUSDT_USDT_1m.csv\n",
      "文件不存在: \\\\znas\\Main\\futures\\2024-12-08\\2024-12-08_LAYERUSDT_USDT_1m.csv\n",
      "文件不存在: \\\\znas\\Main\\futures\\2024-12-09\\2024-12-09_LAYERUSDT_USDT_1m.csv\n",
      "文件不存在: \\\\znas\\Main\\futures\\2024-12-10\\2024-12-10_LAYERUSDT_USDT_1m.csv\n",
      "文件不存在: \\\\znas\\Main\\futures\\2024-12-11\\2024-12-11_LAYERUSDT_USDT_1m.csv\n",
      "文件不存在: \\\\znas\\Main\\futures\\2024-12-12\\2024-12-12_LAYERUSDT_USDT_1m.csv\n",
      "文件不存在: \\\\znas\\Main\\futures\\2024-12-13\\2024-12-13_LAYERUSDT_USDT_1m.csv\n",
      "文件不存在: \\\\znas\\Main\\futures\\2024-12-14\\2024-12-14_LAYERUSDT_USDT_1m.csv\n",
      "文件不存在: \\\\znas\\Main\\futures\\2024-12-15\\2024-12-15_LAYERUSDT_USDT_1m.csv\n",
      "文件不存在: \\\\znas\\Main\\futures\\2024-12-16\\2024-12-16_LAYERUSDT_USDT_1m.csv\n",
      "文件不存在: \\\\znas\\Main\\futures\\2024-12-17\\2024-12-17_LAYERUSDT_USDT_1m.csv\n",
      "文件不存在: \\\\znas\\Main\\futures\\2024-12-18\\2024-12-18_LAYERUSDT_USDT_1m.csv\n",
      "文件不存在: \\\\znas\\Main\\futures\\2024-12-19\\2024-12-19_LAYERUSDT_USDT_1m.csv\n",
      "文件不存在: \\\\znas\\Main\\futures\\2024-12-20\\2024-12-20_LAYERUSDT_USDT_1m.csv\n",
      "文件不存在: \\\\znas\\Main\\futures\\2024-12-21\\2024-12-21_LAYERUSDT_USDT_1m.csv\n",
      "文件不存在: \\\\znas\\Main\\futures\\2024-12-22\\2024-12-22_LAYERUSDT_USDT_1m.csv\n",
      "文件不存在: \\\\znas\\Main\\futures\\2024-12-23\\2024-12-23_LAYERUSDT_USDT_1m.csv\n",
      "文件不存在: \\\\znas\\Main\\futures\\2024-12-24\\2024-12-24_LAYERUSDT_USDT_1m.csv\n",
      "文件不存在: \\\\znas\\Main\\futures\\2024-12-25\\2024-12-25_LAYERUSDT_USDT_1m.csv\n",
      "文件不存在: \\\\znas\\Main\\futures\\2024-12-26\\2024-12-26_LAYERUSDT_USDT_1m.csv\n",
      "文件不存在: \\\\znas\\Main\\futures\\2024-12-27\\2024-12-27_LAYERUSDT_USDT_1m.csv\n",
      "文件不存在: \\\\znas\\Main\\futures\\2024-12-28\\2024-12-28_LAYERUSDT_USDT_1m.csv\n",
      "文件不存在: \\\\znas\\Main\\futures\\2024-12-29\\2024-12-29_LAYERUSDT_USDT_1m.csv\n",
      "文件不存在: \\\\znas\\Main\\futures\\2024-12-30\\2024-12-30_LAYERUSDT_USDT_1m.csv\n",
      "文件不存在: \\\\znas\\Main\\futures\\2024-12-31\\2024-12-31_LAYERUSDT_USDT_1m.csv\n",
      "文件不存在: \\\\znas\\Main\\futures\\2025-01-01\\2025-01-01_LAYERUSDT_USDT_1m.csv\n",
      "文件不存在: \\\\znas\\Main\\futures\\2025-01-02\\2025-01-02_LAYERUSDT_USDT_1m.csv\n",
      "文件不存在: \\\\znas\\Main\\futures\\2025-01-03\\2025-01-03_LAYERUSDT_USDT_1m.csv\n",
      "文件不存在: \\\\znas\\Main\\futures\\2025-01-04\\2025-01-04_LAYERUSDT_USDT_1m.csv\n",
      "文件不存在: \\\\znas\\Main\\futures\\2025-01-05\\2025-01-05_LAYERUSDT_USDT_1m.csv\n",
      "文件不存在: \\\\znas\\Main\\futures\\2025-01-06\\2025-01-06_LAYERUSDT_USDT_1m.csv\n",
      "文件不存在: \\\\znas\\Main\\futures\\2025-01-07\\2025-01-07_LAYERUSDT_USDT_1m.csv\n",
      "文件不存在: \\\\znas\\Main\\futures\\2025-01-08\\2025-01-08_LAYERUSDT_USDT_1m.csv\n",
      "文件不存在: \\\\znas\\Main\\futures\\2025-01-09\\2025-01-09_LAYERUSDT_USDT_1m.csv\n",
      "文件不存在: \\\\znas\\Main\\futures\\2025-01-10\\2025-01-10_LAYERUSDT_USDT_1m.csv\n",
      "文件不存在: \\\\znas\\Main\\futures\\2025-01-11\\2025-01-11_LAYERUSDT_USDT_1m.csv\n",
      "文件不存在: \\\\znas\\Main\\futures\\2025-01-12\\2025-01-12_LAYERUSDT_USDT_1m.csv\n",
      "文件不存在: \\\\znas\\Main\\futures\\2025-01-13\\2025-01-13_LAYERUSDT_USDT_1m.csv\n",
      "文件不存在: \\\\znas\\Main\\futures\\2025-01-14\\2025-01-14_LAYERUSDT_USDT_1m.csv\n",
      "文件不存在: \\\\znas\\Main\\futures\\2025-01-15\\2025-01-15_LAYERUSDT_USDT_1m.csv\n",
      "文件不存在: \\\\znas\\Main\\futures\\2025-01-16\\2025-01-16_LAYERUSDT_USDT_1m.csv\n",
      "文件不存在: \\\\znas\\Main\\futures\\2025-01-17\\2025-01-17_LAYERUSDT_USDT_1m.csv\n",
      "文件不存在: \\\\znas\\Main\\futures\\2025-01-18\\2025-01-18_LAYERUSDT_USDT_1m.csv\n",
      "文件不存在: \\\\znas\\Main\\futures\\2025-01-19\\2025-01-19_LAYERUSDT_USDT_1m.csv\n",
      "文件不存在: \\\\znas\\Main\\futures\\2025-01-20\\2025-01-20_LAYERUSDT_USDT_1m.csv\n",
      "文件不存在: \\\\znas\\Main\\futures\\2025-01-21\\2025-01-21_LAYERUSDT_USDT_1m.csv\n",
      "文件不存在: \\\\znas\\Main\\futures\\2025-01-22\\2025-01-22_LAYERUSDT_USDT_1m.csv\n",
      "文件不存在: \\\\znas\\Main\\futures\\2025-01-23\\2025-01-23_LAYERUSDT_USDT_1m.csv\n",
      "文件不存在: \\\\znas\\Main\\futures\\2025-01-24\\2025-01-24_LAYERUSDT_USDT_1m.csv\n",
      "文件不存在: \\\\znas\\Main\\futures\\2025-01-25\\2025-01-25_LAYERUSDT_USDT_1m.csv\n",
      "文件不存在: \\\\znas\\Main\\futures\\2025-01-26\\2025-01-26_LAYERUSDT_USDT_1m.csv\n",
      "文件不存在: \\\\znas\\Main\\futures\\2025-01-27\\2025-01-27_LAYERUSDT_USDT_1m.csv\n",
      "文件不存在: \\\\znas\\Main\\futures\\2025-01-28\\2025-01-28_LAYERUSDT_USDT_1m.csv\n",
      "文件不存在: \\\\znas\\Main\\futures\\2025-01-29\\2025-01-29_LAYERUSDT_USDT_1m.csv\n",
      "文件不存在: \\\\znas\\Main\\futures\\2025-01-30\\2025-01-30_LAYERUSDT_USDT_1m.csv\n",
      "文件不存在: \\\\znas\\Main\\futures\\2025-01-31\\2025-01-31_LAYERUSDT_USDT_1m.csv\n",
      "文件不存在: \\\\znas\\Main\\futures\\2025-02-01\\2025-02-01_LAYERUSDT_USDT_1m.csv\n",
      "文件不存在: \\\\znas\\Main\\futures\\2025-02-02\\2025-02-02_LAYERUSDT_USDT_1m.csv\n",
      "文件不存在: \\\\znas\\Main\\futures\\2025-02-03\\2025-02-03_LAYERUSDT_USDT_1m.csv\n",
      "文件不存在: \\\\znas\\Main\\futures\\2025-02-04\\2025-02-04_LAYERUSDT_USDT_1m.csv\n",
      "文件不存在: \\\\znas\\Main\\futures\\2025-02-05\\2025-02-05_LAYERUSDT_USDT_1m.csv\n",
      "文件不存在: \\\\znas\\Main\\futures\\2025-02-06\\2025-02-06_LAYERUSDT_USDT_1m.csv\n",
      "文件不存在: \\\\znas\\Main\\futures\\2025-02-07\\2025-02-07_LAYERUSDT_USDT_1m.csv\n",
      "文件不存在: \\\\znas\\Main\\futures\\2025-02-08\\2025-02-08_LAYERUSDT_USDT_1m.csv\n",
      "处理任务出错: 未找到 LAYERUSDT 在指定日期范围内的数据\n",
      "文件不存在: \\\\znas\\Main\\futures\\2024-01-01\\2024-01-01_TSTUSDT_USDT_1m.csv\n",
      "文件不存在: \\\\znas\\Main\\futures\\2024-01-02\\2024-01-02_TSTUSDT_USDT_1m.csv\n",
      "文件不存在: \\\\znas\\Main\\futures\\2024-01-03\\2024-01-03_TSTUSDT_USDT_1m.csv\n",
      "文件不存在: \\\\znas\\Main\\futures\\2024-01-04\\2024-01-04_TSTUSDT_USDT_1m.csv\n",
      "文件不存在: \\\\znas\\Main\\futures\\2024-01-05\\2024-01-05_TSTUSDT_USDT_1m.csv\n",
      "文件不存在: \\\\znas\\Main\\futures\\2024-01-06\\2024-01-06_TSTUSDT_USDT_1m.csv\n",
      "文件不存在: \\\\znas\\Main\\futures\\2024-01-07\\2024-01-07_TSTUSDT_USDT_1m.csv\n",
      "文件不存在: \\\\znas\\Main\\futures\\2024-01-08\\2024-01-08_TSTUSDT_USDT_1m.csv\n",
      "文件不存在: \\\\znas\\Main\\futures\\2024-01-09\\2024-01-09_TSTUSDT_USDT_1m.csv\n",
      "文件不存在: \\\\znas\\Main\\futures\\2024-01-10\\2024-01-10_TSTUSDT_USDT_1m.csv\n",
      "文件不存在: \\\\znas\\Main\\futures\\2024-01-11\\2024-01-11_TSTUSDT_USDT_1m.csv\n",
      "文件不存在: \\\\znas\\Main\\futures\\2024-01-12\\2024-01-12_TSTUSDT_USDT_1m.csv\n",
      "文件不存在: \\\\znas\\Main\\futures\\2024-01-13\\2024-01-13_TSTUSDT_USDT_1m.csv\n",
      "文件不存在: \\\\znas\\Main\\futures\\2024-01-14\\2024-01-14_TSTUSDT_USDT_1m.csv\n",
      "文件不存在: \\\\znas\\Main\\futures\\2024-01-15\\2024-01-15_TSTUSDT_USDT_1m.csv\n",
      "文件不存在: \\\\znas\\Main\\futures\\2024-01-16\\2024-01-16_TSTUSDT_USDT_1m.csv\n",
      "文件不存在: \\\\znas\\Main\\futures\\2024-01-17\\2024-01-17_TSTUSDT_USDT_1m.csv\n",
      "文件不存在: \\\\znas\\Main\\futures\\2024-01-18\\2024-01-18_TSTUSDT_USDT_1m.csv\n",
      "文件不存在: \\\\znas\\Main\\futures\\2024-01-19\\2024-01-19_TSTUSDT_USDT_1m.csv\n",
      "文件不存在: \\\\znas\\Main\\futures\\2024-01-20\\2024-01-20_TSTUSDT_USDT_1m.csv\n",
      "文件不存在: \\\\znas\\Main\\futures\\2024-01-21\\2024-01-21_TSTUSDT_USDT_1m.csv\n",
      "文件不存在: \\\\znas\\Main\\futures\\2024-01-22\\2024-01-22_TSTUSDT_USDT_1m.csv\n",
      "文件不存在: \\\\znas\\Main\\futures\\2024-01-23\\2024-01-23_TSTUSDT_USDT_1m.csv\n",
      "文件不存在: \\\\znas\\Main\\futures\\2024-01-24\\2024-01-24_TSTUSDT_USDT_1m.csv\n",
      "文件不存在: \\\\znas\\Main\\futures\\2024-01-25\\2024-01-25_TSTUSDT_USDT_1m.csv\n",
      "文件不存在: \\\\znas\\Main\\futures\\2024-01-26\\2024-01-26_TSTUSDT_USDT_1m.csv\n",
      "文件不存在: \\\\znas\\Main\\futures\\2024-01-27\\2024-01-27_TSTUSDT_USDT_1m.csv\n",
      "文件不存在: \\\\znas\\Main\\futures\\2024-01-28\\2024-01-28_TSTUSDT_USDT_1m.csv\n",
      "文件不存在: \\\\znas\\Main\\futures\\2024-01-29\\2024-01-29_TSTUSDT_USDT_1m.csv\n",
      "文件不存在: \\\\znas\\Main\\futures\\2024-01-30\\2024-01-30_TSTUSDT_USDT_1m.csv\n",
      "文件不存在: \\\\znas\\Main\\futures\\2024-01-31\\2024-01-31_TSTUSDT_USDT_1m.csv\n",
      "文件不存在: \\\\znas\\Main\\futures\\2024-02-01\\2024-02-01_TSTUSDT_USDT_1m.csv\n",
      "文件不存在: \\\\znas\\Main\\futures\\2024-02-02\\2024-02-02_TSTUSDT_USDT_1m.csv\n",
      "文件不存在: \\\\znas\\Main\\futures\\2024-02-03\\2024-02-03_TSTUSDT_USDT_1m.csv\n",
      "文件不存在: \\\\znas\\Main\\futures\\2024-02-04\\2024-02-04_TSTUSDT_USDT_1m.csv\n",
      "文件不存在: \\\\znas\\Main\\futures\\2024-02-05\\2024-02-05_TSTUSDT_USDT_1m.csv\n",
      "文件不存在: \\\\znas\\Main\\futures\\2024-02-06\\2024-02-06_TSTUSDT_USDT_1m.csv\n",
      "文件不存在: \\\\znas\\Main\\futures\\2024-02-07\\2024-02-07_TSTUSDT_USDT_1m.csv\n",
      "文件不存在: \\\\znas\\Main\\futures\\2024-02-08\\2024-02-08_TSTUSDT_USDT_1m.csv\n",
      "文件不存在: \\\\znas\\Main\\futures\\2024-02-09\\2024-02-09_TSTUSDT_USDT_1m.csv\n",
      "文件不存在: \\\\znas\\Main\\futures\\2024-02-10\\2024-02-10_TSTUSDT_USDT_1m.csv\n",
      "文件不存在: \\\\znas\\Main\\futures\\2024-02-11\\2024-02-11_TSTUSDT_USDT_1m.csv\n",
      "文件不存在: \\\\znas\\Main\\futures\\2024-02-12\\2024-02-12_TSTUSDT_USDT_1m.csv\n",
      "文件不存在: \\\\znas\\Main\\futures\\2024-02-13\\2024-02-13_TSTUSDT_USDT_1m.csv\n",
      "文件不存在: \\\\znas\\Main\\futures\\2024-02-14\\2024-02-14_TSTUSDT_USDT_1m.csv\n",
      "文件不存在: \\\\znas\\Main\\futures\\2024-02-15\\2024-02-15_TSTUSDT_USDT_1m.csv\n",
      "文件不存在: \\\\znas\\Main\\futures\\2024-02-16\\2024-02-16_TSTUSDT_USDT_1m.csv\n",
      "文件不存在: \\\\znas\\Main\\futures\\2024-02-17\\2024-02-17_TSTUSDT_USDT_1m.csv\n",
      "文件不存在: \\\\znas\\Main\\futures\\2024-02-18\\2024-02-18_TSTUSDT_USDT_1m.csv\n",
      "文件不存在: \\\\znas\\Main\\futures\\2024-02-19\\2024-02-19_TSTUSDT_USDT_1m.csv\n",
      "文件不存在: \\\\znas\\Main\\futures\\2024-02-20\\2024-02-20_TSTUSDT_USDT_1m.csv\n",
      "文件不存在: \\\\znas\\Main\\futures\\2024-02-21\\2024-02-21_TSTUSDT_USDT_1m.csv\n",
      "文件不存在: \\\\znas\\Main\\futures\\2024-02-22\\2024-02-22_TSTUSDT_USDT_1m.csv\n",
      "文件不存在: \\\\znas\\Main\\futures\\2024-02-23\\2024-02-23_TSTUSDT_USDT_1m.csv\n",
      "文件不存在: \\\\znas\\Main\\futures\\2024-02-24\\2024-02-24_TSTUSDT_USDT_1m.csv\n",
      "文件不存在: \\\\znas\\Main\\futures\\2024-02-25\\2024-02-25_TSTUSDT_USDT_1m.csv\n",
      "文件不存在: \\\\znas\\Main\\futures\\2024-02-26\\2024-02-26_TSTUSDT_USDT_1m.csv\n",
      "文件不存在: \\\\znas\\Main\\futures\\2024-02-27\\2024-02-27_TSTUSDT_USDT_1m.csv\n",
      "文件不存在: \\\\znas\\Main\\futures\\2024-02-28\\2024-02-28_TSTUSDT_USDT_1m.csv\n",
      "文件不存在: \\\\znas\\Main\\futures\\2024-02-29\\2024-02-29_TSTUSDT_USDT_1m.csv\n",
      "文件不存在: \\\\znas\\Main\\futures\\2024-03-01\\2024-03-01_TSTUSDT_USDT_1m.csv\n",
      "文件不存在: \\\\znas\\Main\\futures\\2024-03-02\\2024-03-02_TSTUSDT_USDT_1m.csv\n",
      "文件不存在: \\\\znas\\Main\\futures\\2024-03-03\\2024-03-03_TSTUSDT_USDT_1m.csv\n",
      "文件不存在: \\\\znas\\Main\\futures\\2024-03-04\\2024-03-04_TSTUSDT_USDT_1m.csv\n",
      "文件不存在: \\\\znas\\Main\\futures\\2024-03-05\\2024-03-05_TSTUSDT_USDT_1m.csv\n",
      "文件不存在: \\\\znas\\Main\\futures\\2024-03-06\\2024-03-06_TSTUSDT_USDT_1m.csv\n",
      "文件不存在: \\\\znas\\Main\\futures\\2024-03-07\\2024-03-07_TSTUSDT_USDT_1m.csv\n",
      "文件不存在: \\\\znas\\Main\\futures\\2024-03-08\\2024-03-08_TSTUSDT_USDT_1m.csv\n",
      "文件不存在: \\\\znas\\Main\\futures\\2024-03-09\\2024-03-09_TSTUSDT_USDT_1m.csv\n",
      "文件不存在: \\\\znas\\Main\\futures\\2024-03-10\\2024-03-10_TSTUSDT_USDT_1m.csv\n",
      "文件不存在: \\\\znas\\Main\\futures\\2024-03-11\\2024-03-11_TSTUSDT_USDT_1m.csv\n",
      "文件不存在: \\\\znas\\Main\\futures\\2024-03-12\\2024-03-12_TSTUSDT_USDT_1m.csv\n",
      "文件不存在: \\\\znas\\Main\\futures\\2024-03-13\\2024-03-13_TSTUSDT_USDT_1m.csv\n",
      "文件不存在: \\\\znas\\Main\\futures\\2024-03-14\\2024-03-14_TSTUSDT_USDT_1m.csv\n",
      "文件不存在: \\\\znas\\Main\\futures\\2024-03-15\\2024-03-15_TSTUSDT_USDT_1m.csv\n",
      "文件不存在: \\\\znas\\Main\\futures\\2024-03-16\\2024-03-16_TSTUSDT_USDT_1m.csv\n",
      "文件不存在: \\\\znas\\Main\\futures\\2024-03-17\\2024-03-17_TSTUSDT_USDT_1m.csv\n",
      "文件不存在: \\\\znas\\Main\\futures\\2024-03-18\\2024-03-18_TSTUSDT_USDT_1m.csv\n",
      "文件不存在: \\\\znas\\Main\\futures\\2024-03-19\\2024-03-19_TSTUSDT_USDT_1m.csv\n",
      "文件不存在: \\\\znas\\Main\\futures\\2024-03-20\\2024-03-20_TSTUSDT_USDT_1m.csv\n",
      "文件不存在: \\\\znas\\Main\\futures\\2024-03-21\\2024-03-21_TSTUSDT_USDT_1m.csv\n",
      "文件不存在: \\\\znas\\Main\\futures\\2024-03-22\\2024-03-22_TSTUSDT_USDT_1m.csv\n",
      "文件不存在: \\\\znas\\Main\\futures\\2024-03-23\\2024-03-23_TSTUSDT_USDT_1m.csv\n",
      "文件不存在: \\\\znas\\Main\\futures\\2024-03-24\\2024-03-24_TSTUSDT_USDT_1m.csv\n",
      "文件不存在: \\\\znas\\Main\\futures\\2024-03-25\\2024-03-25_TSTUSDT_USDT_1m.csv\n",
      "文件不存在: \\\\znas\\Main\\futures\\2024-03-26\\2024-03-26_TSTUSDT_USDT_1m.csv\n",
      "文件不存在: \\\\znas\\Main\\futures\\2024-03-27\\2024-03-27_TSTUSDT_USDT_1m.csv\n",
      "文件不存在: \\\\znas\\Main\\futures\\2024-03-28\\2024-03-28_TSTUSDT_USDT_1m.csv\n",
      "文件不存在: \\\\znas\\Main\\futures\\2024-03-29\\2024-03-29_TSTUSDT_USDT_1m.csv\n",
      "文件不存在: \\\\znas\\Main\\futures\\2024-03-30\\2024-03-30_TSTUSDT_USDT_1m.csv\n",
      "文件不存在: \\\\znas\\Main\\futures\\2024-03-31\\2024-03-31_TSTUSDT_USDT_1m.csv\n",
      "文件不存在: \\\\znas\\Main\\futures\\2024-04-01\\2024-04-01_TSTUSDT_USDT_1m.csv\n",
      "文件不存在: \\\\znas\\Main\\futures\\2024-04-02\\2024-04-02_TSTUSDT_USDT_1m.csv\n",
      "文件不存在: \\\\znas\\Main\\futures\\2024-04-03\\2024-04-03_TSTUSDT_USDT_1m.csv\n",
      "文件不存在: \\\\znas\\Main\\futures\\2024-04-04\\2024-04-04_TSTUSDT_USDT_1m.csv\n",
      "文件不存在: \\\\znas\\Main\\futures\\2024-04-05\\2024-04-05_TSTUSDT_USDT_1m.csv\n",
      "文件不存在: \\\\znas\\Main\\futures\\2024-04-06\\2024-04-06_TSTUSDT_USDT_1m.csv\n",
      "文件不存在: \\\\znas\\Main\\futures\\2024-04-07\\2024-04-07_TSTUSDT_USDT_1m.csv\n",
      "文件不存在: \\\\znas\\Main\\futures\\2024-04-08\\2024-04-08_TSTUSDT_USDT_1m.csv\n",
      "文件不存在: \\\\znas\\Main\\futures\\2024-04-09\\2024-04-09_TSTUSDT_USDT_1m.csv\n",
      "文件不存在: \\\\znas\\Main\\futures\\2024-04-10\\2024-04-10_TSTUSDT_USDT_1m.csv\n",
      "文件不存在: \\\\znas\\Main\\futures\\2024-04-11\\2024-04-11_TSTUSDT_USDT_1m.csv\n",
      "文件不存在: \\\\znas\\Main\\futures\\2024-04-12\\2024-04-12_TSTUSDT_USDT_1m.csv\n",
      "文件不存在: \\\\znas\\Main\\futures\\2024-04-13\\2024-04-13_TSTUSDT_USDT_1m.csv\n",
      "文件不存在: \\\\znas\\Main\\futures\\2024-04-14\\2024-04-14_TSTUSDT_USDT_1m.csv\n",
      "文件不存在: \\\\znas\\Main\\futures\\2024-04-15\\2024-04-15_TSTUSDT_USDT_1m.csv\n",
      "文件不存在: \\\\znas\\Main\\futures\\2024-04-16\\2024-04-16_TSTUSDT_USDT_1m.csv\n",
      "文件不存在: \\\\znas\\Main\\futures\\2024-04-17\\2024-04-17_TSTUSDT_USDT_1m.csv\n",
      "文件不存在: \\\\znas\\Main\\futures\\2024-04-18\\2024-04-18_TSTUSDT_USDT_1m.csv\n",
      "文件不存在: \\\\znas\\Main\\futures\\2024-04-19\\2024-04-19_TSTUSDT_USDT_1m.csv\n",
      "文件不存在: \\\\znas\\Main\\futures\\2024-04-20\\2024-04-20_TSTUSDT_USDT_1m.csv\n",
      "文件不存在: \\\\znas\\Main\\futures\\2024-04-21\\2024-04-21_TSTUSDT_USDT_1m.csv\n",
      "文件不存在: \\\\znas\\Main\\futures\\2024-04-22\\2024-04-22_TSTUSDT_USDT_1m.csv\n",
      "文件不存在: \\\\znas\\Main\\futures\\2024-04-23\\2024-04-23_TSTUSDT_USDT_1m.csv\n",
      "文件不存在: \\\\znas\\Main\\futures\\2024-04-24\\2024-04-24_TSTUSDT_USDT_1m.csv\n",
      "文件不存在: \\\\znas\\Main\\futures\\2024-04-25\\2024-04-25_TSTUSDT_USDT_1m.csv\n",
      "文件不存在: \\\\znas\\Main\\futures\\2024-04-26\\2024-04-26_TSTUSDT_USDT_1m.csv\n",
      "文件不存在: \\\\znas\\Main\\futures\\2024-04-27\\2024-04-27_TSTUSDT_USDT_1m.csv\n",
      "文件不存在: \\\\znas\\Main\\futures\\2024-04-28\\2024-04-28_TSTUSDT_USDT_1m.csv\n",
      "文件不存在: \\\\znas\\Main\\futures\\2024-04-29\\2024-04-29_TSTUSDT_USDT_1m.csv\n",
      "文件不存在: \\\\znas\\Main\\futures\\2024-04-30\\2024-04-30_TSTUSDT_USDT_1m.csv\n",
      "文件不存在: \\\\znas\\Main\\futures\\2024-05-01\\2024-05-01_TSTUSDT_USDT_1m.csv\n",
      "文件不存在: \\\\znas\\Main\\futures\\2024-05-02\\2024-05-02_TSTUSDT_USDT_1m.csv\n",
      "文件不存在: \\\\znas\\Main\\futures\\2024-05-03\\2024-05-03_TSTUSDT_USDT_1m.csv\n",
      "文件不存在: \\\\znas\\Main\\futures\\2024-05-04\\2024-05-04_TSTUSDT_USDT_1m.csv\n",
      "文件不存在: \\\\znas\\Main\\futures\\2024-05-05\\2024-05-05_TSTUSDT_USDT_1m.csv\n",
      "文件不存在: \\\\znas\\Main\\futures\\2024-05-06\\2024-05-06_TSTUSDT_USDT_1m.csv\n",
      "文件不存在: \\\\znas\\Main\\futures\\2024-05-07\\2024-05-07_TSTUSDT_USDT_1m.csv\n",
      "文件不存在: \\\\znas\\Main\\futures\\2024-05-08\\2024-05-08_TSTUSDT_USDT_1m.csv\n",
      "文件不存在: \\\\znas\\Main\\futures\\2024-05-09\\2024-05-09_TSTUSDT_USDT_1m.csv\n",
      "文件不存在: \\\\znas\\Main\\futures\\2024-05-10\\2024-05-10_TSTUSDT_USDT_1m.csv\n",
      "文件不存在: \\\\znas\\Main\\futures\\2024-05-11\\2024-05-11_TSTUSDT_USDT_1m.csv\n",
      "文件不存在: \\\\znas\\Main\\futures\\2024-05-12\\2024-05-12_TSTUSDT_USDT_1m.csv\n",
      "文件不存在: \\\\znas\\Main\\futures\\2024-05-13\\2024-05-13_TSTUSDT_USDT_1m.csv\n",
      "文件不存在: \\\\znas\\Main\\futures\\2024-05-14\\2024-05-14_TSTUSDT_USDT_1m.csv\n",
      "文件不存在: \\\\znas\\Main\\futures\\2024-05-15\\2024-05-15_TSTUSDT_USDT_1m.csv\n",
      "文件不存在: \\\\znas\\Main\\futures\\2024-05-16\\2024-05-16_TSTUSDT_USDT_1m.csv\n",
      "文件不存在: \\\\znas\\Main\\futures\\2024-05-17\\2024-05-17_TSTUSDT_USDT_1m.csv\n",
      "文件不存在: \\\\znas\\Main\\futures\\2024-05-18\\2024-05-18_TSTUSDT_USDT_1m.csv\n",
      "文件不存在: \\\\znas\\Main\\futures\\2024-05-19\\2024-05-19_TSTUSDT_USDT_1m.csv\n",
      "文件不存在: \\\\znas\\Main\\futures\\2024-05-20\\2024-05-20_TSTUSDT_USDT_1m.csv\n",
      "文件不存在: \\\\znas\\Main\\futures\\2024-05-21\\2024-05-21_TSTUSDT_USDT_1m.csv\n",
      "文件不存在: \\\\znas\\Main\\futures\\2024-05-22\\2024-05-22_TSTUSDT_USDT_1m.csv\n",
      "文件不存在: \\\\znas\\Main\\futures\\2024-05-23\\2024-05-23_TSTUSDT_USDT_1m.csv\n",
      "文件不存在: \\\\znas\\Main\\futures\\2024-05-24\\2024-05-24_TSTUSDT_USDT_1m.csv\n",
      "文件不存在: \\\\znas\\Main\\futures\\2024-05-25\\2024-05-25_TSTUSDT_USDT_1m.csv\n",
      "文件不存在: \\\\znas\\Main\\futures\\2024-05-26\\2024-05-26_TSTUSDT_USDT_1m.csv\n",
      "文件不存在: \\\\znas\\Main\\futures\\2024-05-27\\2024-05-27_TSTUSDT_USDT_1m.csv\n",
      "文件不存在: \\\\znas\\Main\\futures\\2024-05-28\\2024-05-28_TSTUSDT_USDT_1m.csv\n",
      "文件不存在: \\\\znas\\Main\\futures\\2024-05-29\\2024-05-29_TSTUSDT_USDT_1m.csv\n",
      "文件不存在: \\\\znas\\Main\\futures\\2024-05-30\\2024-05-30_TSTUSDT_USDT_1m.csv\n",
      "文件不存在: \\\\znas\\Main\\futures\\2024-05-31\\2024-05-31_TSTUSDT_USDT_1m.csv\n",
      "文件不存在: \\\\znas\\Main\\futures\\2024-06-01\\2024-06-01_TSTUSDT_USDT_1m.csv\n",
      "文件不存在: \\\\znas\\Main\\futures\\2024-06-02\\2024-06-02_TSTUSDT_USDT_1m.csv\n",
      "文件不存在: \\\\znas\\Main\\futures\\2024-06-03\\2024-06-03_TSTUSDT_USDT_1m.csv\n",
      "文件不存在: \\\\znas\\Main\\futures\\2024-06-04\\2024-06-04_TSTUSDT_USDT_1m.csv\n",
      "文件不存在: \\\\znas\\Main\\futures\\2024-06-05\\2024-06-05_TSTUSDT_USDT_1m.csv\n",
      "文件不存在: \\\\znas\\Main\\futures\\2024-06-06\\2024-06-06_TSTUSDT_USDT_1m.csv\n",
      "文件不存在: \\\\znas\\Main\\futures\\2024-06-07\\2024-06-07_TSTUSDT_USDT_1m.csv\n",
      "文件不存在: \\\\znas\\Main\\futures\\2024-06-08\\2024-06-08_TSTUSDT_USDT_1m.csv\n",
      "文件不存在: \\\\znas\\Main\\futures\\2024-06-09\\2024-06-09_TSTUSDT_USDT_1m.csv\n",
      "文件不存在: \\\\znas\\Main\\futures\\2024-06-10\\2024-06-10_TSTUSDT_USDT_1m.csv\n",
      "文件不存在: \\\\znas\\Main\\futures\\2024-06-11\\2024-06-11_TSTUSDT_USDT_1m.csv\n",
      "文件不存在: \\\\znas\\Main\\futures\\2024-06-12\\2024-06-12_TSTUSDT_USDT_1m.csv\n",
      "文件不存在: \\\\znas\\Main\\futures\\2024-06-13\\2024-06-13_TSTUSDT_USDT_1m.csv\n",
      "文件不存在: \\\\znas\\Main\\futures\\2024-06-14\\2024-06-14_TSTUSDT_USDT_1m.csv\n",
      "文件不存在: \\\\znas\\Main\\futures\\2024-06-15\\2024-06-15_TSTUSDT_USDT_1m.csv\n",
      "文件不存在: \\\\znas\\Main\\futures\\2024-06-16\\2024-06-16_TSTUSDT_USDT_1m.csv\n",
      "文件不存在: \\\\znas\\Main\\futures\\2024-06-17\\2024-06-17_TSTUSDT_USDT_1m.csv\n",
      "文件不存在: \\\\znas\\Main\\futures\\2024-06-18\\2024-06-18_TSTUSDT_USDT_1m.csv\n",
      "文件不存在: \\\\znas\\Main\\futures\\2024-06-19\\2024-06-19_TSTUSDT_USDT_1m.csv\n",
      "文件不存在: \\\\znas\\Main\\futures\\2024-06-20\\2024-06-20_TSTUSDT_USDT_1m.csv\n",
      "文件不存在: \\\\znas\\Main\\futures\\2024-06-21\\2024-06-21_TSTUSDT_USDT_1m.csv\n",
      "文件不存在: \\\\znas\\Main\\futures\\2024-06-22\\2024-06-22_TSTUSDT_USDT_1m.csv\n",
      "文件不存在: \\\\znas\\Main\\futures\\2024-06-23\\2024-06-23_TSTUSDT_USDT_1m.csv\n",
      "文件不存在: \\\\znas\\Main\\futures\\2024-06-24\\2024-06-24_TSTUSDT_USDT_1m.csv\n",
      "文件不存在: \\\\znas\\Main\\futures\\2024-06-25\\2024-06-25_TSTUSDT_USDT_1m.csv\n",
      "文件不存在: \\\\znas\\Main\\futures\\2024-06-26\\2024-06-26_TSTUSDT_USDT_1m.csv\n",
      "文件不存在: \\\\znas\\Main\\futures\\2024-06-27\\2024-06-27_TSTUSDT_USDT_1m.csv\n",
      "文件不存在: \\\\znas\\Main\\futures\\2024-06-28\\2024-06-28_TSTUSDT_USDT_1m.csv\n",
      "文件不存在: \\\\znas\\Main\\futures\\2024-06-29\\2024-06-29_TSTUSDT_USDT_1m.csv\n",
      "文件不存在: \\\\znas\\Main\\futures\\2024-06-30\\2024-06-30_TSTUSDT_USDT_1m.csv\n",
      "文件不存在: \\\\znas\\Main\\futures\\2024-07-01\\2024-07-01_TSTUSDT_USDT_1m.csv\n",
      "文件不存在: \\\\znas\\Main\\futures\\2024-07-02\\2024-07-02_TSTUSDT_USDT_1m.csv\n",
      "文件不存在: \\\\znas\\Main\\futures\\2024-07-03\\2024-07-03_TSTUSDT_USDT_1m.csv\n",
      "文件不存在: \\\\znas\\Main\\futures\\2024-07-04\\2024-07-04_TSTUSDT_USDT_1m.csv\n",
      "文件不存在: \\\\znas\\Main\\futures\\2024-07-05\\2024-07-05_TSTUSDT_USDT_1m.csv\n",
      "文件不存在: \\\\znas\\Main\\futures\\2024-07-06\\2024-07-06_TSTUSDT_USDT_1m.csv\n",
      "文件不存在: \\\\znas\\Main\\futures\\2024-07-07\\2024-07-07_TSTUSDT_USDT_1m.csv\n",
      "文件不存在: \\\\znas\\Main\\futures\\2024-07-08\\2024-07-08_TSTUSDT_USDT_1m.csv\n",
      "文件不存在: \\\\znas\\Main\\futures\\2024-07-09\\2024-07-09_TSTUSDT_USDT_1m.csv\n",
      "文件不存在: \\\\znas\\Main\\futures\\2024-07-10\\2024-07-10_TSTUSDT_USDT_1m.csv\n",
      "文件不存在: \\\\znas\\Main\\futures\\2024-07-11\\2024-07-11_TSTUSDT_USDT_1m.csv\n",
      "文件不存在: \\\\znas\\Main\\futures\\2024-07-12\\2024-07-12_TSTUSDT_USDT_1m.csv\n",
      "文件不存在: \\\\znas\\Main\\futures\\2024-07-13\\2024-07-13_TSTUSDT_USDT_1m.csv\n",
      "文件不存在: \\\\znas\\Main\\futures\\2024-07-14\\2024-07-14_TSTUSDT_USDT_1m.csv\n",
      "文件不存在: \\\\znas\\Main\\futures\\2024-07-15\\2024-07-15_TSTUSDT_USDT_1m.csv\n",
      "文件不存在: \\\\znas\\Main\\futures\\2024-07-16\\2024-07-16_TSTUSDT_USDT_1m.csv\n",
      "文件不存在: \\\\znas\\Main\\futures\\2024-07-17\\2024-07-17_TSTUSDT_USDT_1m.csv\n",
      "文件不存在: \\\\znas\\Main\\futures\\2024-07-18\\2024-07-18_TSTUSDT_USDT_1m.csv\n",
      "文件不存在: \\\\znas\\Main\\futures\\2024-07-19\\2024-07-19_TSTUSDT_USDT_1m.csv\n",
      "文件不存在: \\\\znas\\Main\\futures\\2024-07-20\\2024-07-20_TSTUSDT_USDT_1m.csv\n",
      "文件不存在: \\\\znas\\Main\\futures\\2024-07-21\\2024-07-21_TSTUSDT_USDT_1m.csv\n",
      "文件不存在: \\\\znas\\Main\\futures\\2024-07-22\\2024-07-22_TSTUSDT_USDT_1m.csv\n",
      "文件不存在: \\\\znas\\Main\\futures\\2024-07-23\\2024-07-23_TSTUSDT_USDT_1m.csv\n",
      "文件不存在: \\\\znas\\Main\\futures\\2024-07-24\\2024-07-24_TSTUSDT_USDT_1m.csv\n",
      "文件不存在: \\\\znas\\Main\\futures\\2024-07-25\\2024-07-25_TSTUSDT_USDT_1m.csv\n",
      "文件不存在: \\\\znas\\Main\\futures\\2024-07-26\\2024-07-26_TSTUSDT_USDT_1m.csv\n",
      "文件不存在: \\\\znas\\Main\\futures\\2024-07-27\\2024-07-27_TSTUSDT_USDT_1m.csv\n",
      "文件不存在: \\\\znas\\Main\\futures\\2024-07-28\\2024-07-28_TSTUSDT_USDT_1m.csv\n",
      "文件不存在: \\\\znas\\Main\\futures\\2024-07-29\\2024-07-29_TSTUSDT_USDT_1m.csv\n",
      "文件不存在: \\\\znas\\Main\\futures\\2024-07-30\\2024-07-30_TSTUSDT_USDT_1m.csv\n",
      "文件不存在: \\\\znas\\Main\\futures\\2024-07-31\\2024-07-31_TSTUSDT_USDT_1m.csv\n",
      "文件不存在: \\\\znas\\Main\\futures\\2024-08-01\\2024-08-01_TSTUSDT_USDT_1m.csv\n",
      "文件不存在: \\\\znas\\Main\\futures\\2024-08-02\\2024-08-02_TSTUSDT_USDT_1m.csv\n",
      "文件不存在: \\\\znas\\Main\\futures\\2024-08-03\\2024-08-03_TSTUSDT_USDT_1m.csv\n",
      "文件不存在: \\\\znas\\Main\\futures\\2024-08-04\\2024-08-04_TSTUSDT_USDT_1m.csv\n",
      "文件不存在: \\\\znas\\Main\\futures\\2024-08-05\\2024-08-05_TSTUSDT_USDT_1m.csv\n",
      "文件不存在: \\\\znas\\Main\\futures\\2024-08-06\\2024-08-06_TSTUSDT_USDT_1m.csv\n",
      "文件不存在: \\\\znas\\Main\\futures\\2024-08-07\\2024-08-07_TSTUSDT_USDT_1m.csv\n",
      "文件不存在: \\\\znas\\Main\\futures\\2024-08-08\\2024-08-08_TSTUSDT_USDT_1m.csv\n",
      "文件不存在: \\\\znas\\Main\\futures\\2024-08-09\\2024-08-09_TSTUSDT_USDT_1m.csv\n",
      "文件不存在: \\\\znas\\Main\\futures\\2024-08-10\\2024-08-10_TSTUSDT_USDT_1m.csv\n",
      "文件不存在: \\\\znas\\Main\\futures\\2024-08-11\\2024-08-11_TSTUSDT_USDT_1m.csv\n",
      "文件不存在: \\\\znas\\Main\\futures\\2024-08-12\\2024-08-12_TSTUSDT_USDT_1m.csv\n",
      "文件不存在: \\\\znas\\Main\\futures\\2024-08-13\\2024-08-13_TSTUSDT_USDT_1m.csv\n",
      "文件不存在: \\\\znas\\Main\\futures\\2024-08-14\\2024-08-14_TSTUSDT_USDT_1m.csv\n",
      "文件不存在: \\\\znas\\Main\\futures\\2024-08-15\\2024-08-15_TSTUSDT_USDT_1m.csv\n",
      "文件不存在: \\\\znas\\Main\\futures\\2024-08-16\\2024-08-16_TSTUSDT_USDT_1m.csv\n",
      "文件不存在: \\\\znas\\Main\\futures\\2024-08-17\\2024-08-17_TSTUSDT_USDT_1m.csv\n",
      "文件不存在: \\\\znas\\Main\\futures\\2024-08-18\\2024-08-18_TSTUSDT_USDT_1m.csv\n",
      "文件不存在: \\\\znas\\Main\\futures\\2024-08-19\\2024-08-19_TSTUSDT_USDT_1m.csv\n",
      "文件不存在: \\\\znas\\Main\\futures\\2024-08-20\\2024-08-20_TSTUSDT_USDT_1m.csv\n",
      "文件不存在: \\\\znas\\Main\\futures\\2024-08-21\\2024-08-21_TSTUSDT_USDT_1m.csv\n",
      "文件不存在: \\\\znas\\Main\\futures\\2024-08-22\\2024-08-22_TSTUSDT_USDT_1m.csv\n",
      "文件不存在: \\\\znas\\Main\\futures\\2024-08-23\\2024-08-23_TSTUSDT_USDT_1m.csv\n",
      "文件不存在: \\\\znas\\Main\\futures\\2024-08-24\\2024-08-24_TSTUSDT_USDT_1m.csv\n",
      "文件不存在: \\\\znas\\Main\\futures\\2024-08-25\\2024-08-25_TSTUSDT_USDT_1m.csv\n",
      "文件不存在: \\\\znas\\Main\\futures\\2024-08-26\\2024-08-26_TSTUSDT_USDT_1m.csv\n",
      "文件不存在: \\\\znas\\Main\\futures\\2024-08-27\\2024-08-27_TSTUSDT_USDT_1m.csv\n",
      "文件不存在: \\\\znas\\Main\\futures\\2024-08-28\\2024-08-28_TSTUSDT_USDT_1m.csv\n",
      "文件不存在: \\\\znas\\Main\\futures\\2024-08-29\\2024-08-29_TSTUSDT_USDT_1m.csv\n",
      "文件不存在: \\\\znas\\Main\\futures\\2024-08-30\\2024-08-30_TSTUSDT_USDT_1m.csv\n",
      "文件不存在: \\\\znas\\Main\\futures\\2024-08-31\\2024-08-31_TSTUSDT_USDT_1m.csv\n",
      "文件不存在: \\\\znas\\Main\\futures\\2024-09-01\\2024-09-01_TSTUSDT_USDT_1m.csv\n",
      "文件不存在: \\\\znas\\Main\\futures\\2024-09-02\\2024-09-02_TSTUSDT_USDT_1m.csv\n",
      "文件不存在: \\\\znas\\Main\\futures\\2024-09-03\\2024-09-03_TSTUSDT_USDT_1m.csv\n",
      "文件不存在: \\\\znas\\Main\\futures\\2024-09-04\\2024-09-04_TSTUSDT_USDT_1m.csv\n",
      "文件不存在: \\\\znas\\Main\\futures\\2024-09-05\\2024-09-05_TSTUSDT_USDT_1m.csv\n",
      "文件不存在: \\\\znas\\Main\\futures\\2024-09-06\\2024-09-06_TSTUSDT_USDT_1m.csv\n",
      "文件不存在: \\\\znas\\Main\\futures\\2024-09-07\\2024-09-07_TSTUSDT_USDT_1m.csv\n",
      "文件不存在: \\\\znas\\Main\\futures\\2024-09-08\\2024-09-08_TSTUSDT_USDT_1m.csv\n",
      "文件不存在: \\\\znas\\Main\\futures\\2024-09-09\\2024-09-09_TSTUSDT_USDT_1m.csv\n",
      "文件不存在: \\\\znas\\Main\\futures\\2024-09-10\\2024-09-10_TSTUSDT_USDT_1m.csv\n",
      "文件不存在: \\\\znas\\Main\\futures\\2024-09-11\\2024-09-11_TSTUSDT_USDT_1m.csv\n",
      "文件不存在: \\\\znas\\Main\\futures\\2024-09-12\\2024-09-12_TSTUSDT_USDT_1m.csv\n",
      "文件不存在: \\\\znas\\Main\\futures\\2024-09-13\\2024-09-13_TSTUSDT_USDT_1m.csv\n",
      "文件不存在: \\\\znas\\Main\\futures\\2024-09-14\\2024-09-14_TSTUSDT_USDT_1m.csv\n",
      "文件不存在: \\\\znas\\Main\\futures\\2024-09-15\\2024-09-15_TSTUSDT_USDT_1m.csv\n",
      "文件不存在: \\\\znas\\Main\\futures\\2024-09-16\\2024-09-16_TSTUSDT_USDT_1m.csv\n",
      "文件不存在: \\\\znas\\Main\\futures\\2024-09-17\\2024-09-17_TSTUSDT_USDT_1m.csv\n",
      "文件不存在: \\\\znas\\Main\\futures\\2024-09-18\\2024-09-18_TSTUSDT_USDT_1m.csv\n",
      "文件不存在: \\\\znas\\Main\\futures\\2024-09-19\\2024-09-19_TSTUSDT_USDT_1m.csv\n",
      "文件不存在: \\\\znas\\Main\\futures\\2024-09-20\\2024-09-20_TSTUSDT_USDT_1m.csv\n",
      "文件不存在: \\\\znas\\Main\\futures\\2024-09-21\\2024-09-21_TSTUSDT_USDT_1m.csv\n",
      "文件不存在: \\\\znas\\Main\\futures\\2024-09-22\\2024-09-22_TSTUSDT_USDT_1m.csv\n",
      "文件不存在: \\\\znas\\Main\\futures\\2024-09-23\\2024-09-23_TSTUSDT_USDT_1m.csv\n",
      "文件不存在: \\\\znas\\Main\\futures\\2024-09-24\\2024-09-24_TSTUSDT_USDT_1m.csv\n",
      "文件不存在: \\\\znas\\Main\\futures\\2024-09-25\\2024-09-25_TSTUSDT_USDT_1m.csv\n",
      "文件不存在: \\\\znas\\Main\\futures\\2024-09-26\\2024-09-26_TSTUSDT_USDT_1m.csv\n",
      "文件不存在: \\\\znas\\Main\\futures\\2024-09-27\\2024-09-27_TSTUSDT_USDT_1m.csv\n",
      "文件不存在: \\\\znas\\Main\\futures\\2024-09-28\\2024-09-28_TSTUSDT_USDT_1m.csv\n",
      "文件不存在: \\\\znas\\Main\\futures\\2024-09-29\\2024-09-29_TSTUSDT_USDT_1m.csv\n",
      "文件不存在: \\\\znas\\Main\\futures\\2024-09-30\\2024-09-30_TSTUSDT_USDT_1m.csv\n",
      "文件不存在: \\\\znas\\Main\\futures\\2024-10-01\\2024-10-01_TSTUSDT_USDT_1m.csv\n",
      "文件不存在: \\\\znas\\Main\\futures\\2024-10-02\\2024-10-02_TSTUSDT_USDT_1m.csv\n",
      "文件不存在: \\\\znas\\Main\\futures\\2024-10-03\\2024-10-03_TSTUSDT_USDT_1m.csv\n",
      "文件不存在: \\\\znas\\Main\\futures\\2024-10-04\\2024-10-04_TSTUSDT_USDT_1m.csv\n",
      "文件不存在: \\\\znas\\Main\\futures\\2024-10-05\\2024-10-05_TSTUSDT_USDT_1m.csv\n",
      "文件不存在: \\\\znas\\Main\\futures\\2024-10-06\\2024-10-06_TSTUSDT_USDT_1m.csv\n",
      "文件不存在: \\\\znas\\Main\\futures\\2024-10-07\\2024-10-07_TSTUSDT_USDT_1m.csv\n",
      "文件不存在: \\\\znas\\Main\\futures\\2024-10-08\\2024-10-08_TSTUSDT_USDT_1m.csv\n",
      "文件不存在: \\\\znas\\Main\\futures\\2024-10-09\\2024-10-09_TSTUSDT_USDT_1m.csv\n",
      "文件不存在: \\\\znas\\Main\\futures\\2024-10-10\\2024-10-10_TSTUSDT_USDT_1m.csv\n",
      "文件不存在: \\\\znas\\Main\\futures\\2024-10-11\\2024-10-11_TSTUSDT_USDT_1m.csv\n",
      "文件不存在: \\\\znas\\Main\\futures\\2024-10-12\\2024-10-12_TSTUSDT_USDT_1m.csv\n",
      "文件不存在: \\\\znas\\Main\\futures\\2024-10-13\\2024-10-13_TSTUSDT_USDT_1m.csv\n",
      "文件不存在: \\\\znas\\Main\\futures\\2024-10-14\\2024-10-14_TSTUSDT_USDT_1m.csv\n",
      "文件不存在: \\\\znas\\Main\\futures\\2024-10-15\\2024-10-15_TSTUSDT_USDT_1m.csv\n",
      "文件不存在: \\\\znas\\Main\\futures\\2024-10-16\\2024-10-16_TSTUSDT_USDT_1m.csv\n",
      "文件不存在: \\\\znas\\Main\\futures\\2024-10-17\\2024-10-17_TSTUSDT_USDT_1m.csv\n",
      "文件不存在: \\\\znas\\Main\\futures\\2024-10-18\\2024-10-18_TSTUSDT_USDT_1m.csv\n",
      "文件不存在: \\\\znas\\Main\\futures\\2024-10-19\\2024-10-19_TSTUSDT_USDT_1m.csv\n",
      "文件不存在: \\\\znas\\Main\\futures\\2024-10-20\\2024-10-20_TSTUSDT_USDT_1m.csv\n",
      "文件不存在: \\\\znas\\Main\\futures\\2024-10-21\\2024-10-21_TSTUSDT_USDT_1m.csv\n",
      "文件不存在: \\\\znas\\Main\\futures\\2024-10-22\\2024-10-22_TSTUSDT_USDT_1m.csv\n",
      "文件不存在: \\\\znas\\Main\\futures\\2024-10-23\\2024-10-23_TSTUSDT_USDT_1m.csv\n",
      "文件不存在: \\\\znas\\Main\\futures\\2024-10-24\\2024-10-24_TSTUSDT_USDT_1m.csv\n",
      "文件不存在: \\\\znas\\Main\\futures\\2024-10-25\\2024-10-25_TSTUSDT_USDT_1m.csv\n",
      "文件不存在: \\\\znas\\Main\\futures\\2024-10-26\\2024-10-26_TSTUSDT_USDT_1m.csv\n",
      "文件不存在: \\\\znas\\Main\\futures\\2024-10-27\\2024-10-27_TSTUSDT_USDT_1m.csv\n",
      "文件不存在: \\\\znas\\Main\\futures\\2024-10-28\\2024-10-28_TSTUSDT_USDT_1m.csv\n",
      "文件不存在: \\\\znas\\Main\\futures\\2024-10-29\\2024-10-29_TSTUSDT_USDT_1m.csv\n",
      "文件不存在: \\\\znas\\Main\\futures\\2024-10-30\\2024-10-30_TSTUSDT_USDT_1m.csv\n",
      "文件不存在: \\\\znas\\Main\\futures\\2024-10-31\\2024-10-31_TSTUSDT_USDT_1m.csv\n",
      "文件不存在: \\\\znas\\Main\\futures\\2024-11-01\\2024-11-01_TSTUSDT_USDT_1m.csv\n",
      "文件不存在: \\\\znas\\Main\\futures\\2024-11-02\\2024-11-02_TSTUSDT_USDT_1m.csv\n",
      "文件不存在: \\\\znas\\Main\\futures\\2024-11-03\\2024-11-03_TSTUSDT_USDT_1m.csv\n",
      "文件不存在: \\\\znas\\Main\\futures\\2024-11-04\\2024-11-04_TSTUSDT_USDT_1m.csv\n",
      "文件不存在: \\\\znas\\Main\\futures\\2024-11-05\\2024-11-05_TSTUSDT_USDT_1m.csv\n",
      "文件不存在: \\\\znas\\Main\\futures\\2024-11-06\\2024-11-06_TSTUSDT_USDT_1m.csv\n",
      "文件不存在: \\\\znas\\Main\\futures\\2024-11-07\\2024-11-07_TSTUSDT_USDT_1m.csv\n",
      "文件不存在: \\\\znas\\Main\\futures\\2024-11-08\\2024-11-08_TSTUSDT_USDT_1m.csv\n",
      "文件不存在: \\\\znas\\Main\\futures\\2024-11-09\\2024-11-09_TSTUSDT_USDT_1m.csv\n",
      "文件不存在: \\\\znas\\Main\\futures\\2024-11-10\\2024-11-10_TSTUSDT_USDT_1m.csv\n",
      "文件不存在: \\\\znas\\Main\\futures\\2024-11-11\\2024-11-11_TSTUSDT_USDT_1m.csv\n",
      "文件不存在: \\\\znas\\Main\\futures\\2024-11-12\\2024-11-12_TSTUSDT_USDT_1m.csv\n",
      "文件不存在: \\\\znas\\Main\\futures\\2024-11-13\\2024-11-13_TSTUSDT_USDT_1m.csv\n",
      "文件不存在: \\\\znas\\Main\\futures\\2024-11-14\\2024-11-14_TSTUSDT_USDT_1m.csv\n",
      "文件不存在: \\\\znas\\Main\\futures\\2024-11-15\\2024-11-15_TSTUSDT_USDT_1m.csv\n",
      "文件不存在: \\\\znas\\Main\\futures\\2024-11-16\\2024-11-16_TSTUSDT_USDT_1m.csv\n",
      "文件不存在: \\\\znas\\Main\\futures\\2024-11-17\\2024-11-17_TSTUSDT_USDT_1m.csv\n",
      "文件不存在: \\\\znas\\Main\\futures\\2024-11-18\\2024-11-18_TSTUSDT_USDT_1m.csv\n",
      "文件不存在: \\\\znas\\Main\\futures\\2024-11-19\\2024-11-19_TSTUSDT_USDT_1m.csv\n",
      "文件不存在: \\\\znas\\Main\\futures\\2024-11-20\\2024-11-20_TSTUSDT_USDT_1m.csv\n",
      "文件不存在: \\\\znas\\Main\\futures\\2024-11-21\\2024-11-21_TSTUSDT_USDT_1m.csv\n",
      "文件不存在: \\\\znas\\Main\\futures\\2024-11-22\\2024-11-22_TSTUSDT_USDT_1m.csv\n",
      "文件不存在: \\\\znas\\Main\\futures\\2024-11-23\\2024-11-23_TSTUSDT_USDT_1m.csv\n",
      "文件不存在: \\\\znas\\Main\\futures\\2024-11-24\\2024-11-24_TSTUSDT_USDT_1m.csv\n",
      "文件不存在: \\\\znas\\Main\\futures\\2024-11-25\\2024-11-25_TSTUSDT_USDT_1m.csv\n",
      "文件不存在: \\\\znas\\Main\\futures\\2024-11-26\\2024-11-26_TSTUSDT_USDT_1m.csv\n",
      "文件不存在: \\\\znas\\Main\\futures\\2024-11-27\\2024-11-27_TSTUSDT_USDT_1m.csv\n",
      "文件不存在: \\\\znas\\Main\\futures\\2024-11-28\\2024-11-28_TSTUSDT_USDT_1m.csv\n",
      "文件不存在: \\\\znas\\Main\\futures\\2024-11-29\\2024-11-29_TSTUSDT_USDT_1m.csv\n",
      "文件不存在: \\\\znas\\Main\\futures\\2024-11-30\\2024-11-30_TSTUSDT_USDT_1m.csv\n",
      "文件不存在: \\\\znas\\Main\\futures\\2024-12-01\\2024-12-01_TSTUSDT_USDT_1m.csv\n",
      "文件不存在: \\\\znas\\Main\\futures\\2024-12-02\\2024-12-02_TSTUSDT_USDT_1m.csv\n",
      "文件不存在: \\\\znas\\Main\\futures\\2024-12-03\\2024-12-03_TSTUSDT_USDT_1m.csv\n",
      "文件不存在: \\\\znas\\Main\\futures\\2024-12-04\\2024-12-04_TSTUSDT_USDT_1m.csv\n",
      "文件不存在: \\\\znas\\Main\\futures\\2024-12-05\\2024-12-05_TSTUSDT_USDT_1m.csv\n",
      "文件不存在: \\\\znas\\Main\\futures\\2024-12-06\\2024-12-06_TSTUSDT_USDT_1m.csv\n",
      "文件不存在: \\\\znas\\Main\\futures\\2024-12-07\\2024-12-07_TSTUSDT_USDT_1m.csv\n",
      "文件不存在: \\\\znas\\Main\\futures\\2024-12-08\\2024-12-08_TSTUSDT_USDT_1m.csv\n",
      "文件不存在: \\\\znas\\Main\\futures\\2024-12-09\\2024-12-09_TSTUSDT_USDT_1m.csv\n",
      "文件不存在: \\\\znas\\Main\\futures\\2024-12-10\\2024-12-10_TSTUSDT_USDT_1m.csv\n",
      "文件不存在: \\\\znas\\Main\\futures\\2024-12-11\\2024-12-11_TSTUSDT_USDT_1m.csv\n",
      "文件不存在: \\\\znas\\Main\\futures\\2024-12-12\\2024-12-12_TSTUSDT_USDT_1m.csv\n",
      "文件不存在: \\\\znas\\Main\\futures\\2024-12-13\\2024-12-13_TSTUSDT_USDT_1m.csv\n",
      "文件不存在: \\\\znas\\Main\\futures\\2024-12-14\\2024-12-14_TSTUSDT_USDT_1m.csv\n",
      "文件不存在: \\\\znas\\Main\\futures\\2024-12-15\\2024-12-15_TSTUSDT_USDT_1m.csv\n",
      "文件不存在: \\\\znas\\Main\\futures\\2024-12-16\\2024-12-16_TSTUSDT_USDT_1m.csv\n",
      "文件不存在: \\\\znas\\Main\\futures\\2024-12-17\\2024-12-17_TSTUSDT_USDT_1m.csv\n",
      "文件不存在: \\\\znas\\Main\\futures\\2024-12-18\\2024-12-18_TSTUSDT_USDT_1m.csv\n",
      "文件不存在: \\\\znas\\Main\\futures\\2024-12-19\\2024-12-19_TSTUSDT_USDT_1m.csv\n",
      "文件不存在: \\\\znas\\Main\\futures\\2024-12-20\\2024-12-20_TSTUSDT_USDT_1m.csv\n",
      "文件不存在: \\\\znas\\Main\\futures\\2024-12-21\\2024-12-21_TSTUSDT_USDT_1m.csv\n",
      "文件不存在: \\\\znas\\Main\\futures\\2024-12-22\\2024-12-22_TSTUSDT_USDT_1m.csv\n",
      "文件不存在: \\\\znas\\Main\\futures\\2024-12-23\\2024-12-23_TSTUSDT_USDT_1m.csv\n",
      "文件不存在: \\\\znas\\Main\\futures\\2024-12-24\\2024-12-24_TSTUSDT_USDT_1m.csv\n",
      "文件不存在: \\\\znas\\Main\\futures\\2024-12-25\\2024-12-25_TSTUSDT_USDT_1m.csv\n",
      "文件不存在: \\\\znas\\Main\\futures\\2024-12-26\\2024-12-26_TSTUSDT_USDT_1m.csv\n",
      "文件不存在: \\\\znas\\Main\\futures\\2024-12-27\\2024-12-27_TSTUSDT_USDT_1m.csv\n",
      "文件不存在: \\\\znas\\Main\\futures\\2024-12-28\\2024-12-28_TSTUSDT_USDT_1m.csv\n",
      "文件不存在: \\\\znas\\Main\\futures\\2024-12-29\\2024-12-29_TSTUSDT_USDT_1m.csv\n",
      "文件不存在: \\\\znas\\Main\\futures\\2024-12-30\\2024-12-30_TSTUSDT_USDT_1m.csv\n",
      "文件不存在: \\\\znas\\Main\\futures\\2024-12-31\\2024-12-31_TSTUSDT_USDT_1m.csv\n",
      "文件不存在: \\\\znas\\Main\\futures\\2025-01-01\\2025-01-01_TSTUSDT_USDT_1m.csv\n",
      "文件不存在: \\\\znas\\Main\\futures\\2025-01-02\\2025-01-02_TSTUSDT_USDT_1m.csv\n",
      "文件不存在: \\\\znas\\Main\\futures\\2025-01-03\\2025-01-03_TSTUSDT_USDT_1m.csv\n",
      "文件不存在: \\\\znas\\Main\\futures\\2025-01-04\\2025-01-04_TSTUSDT_USDT_1m.csv\n",
      "文件不存在: \\\\znas\\Main\\futures\\2025-01-05\\2025-01-05_TSTUSDT_USDT_1m.csv\n",
      "文件不存在: \\\\znas\\Main\\futures\\2025-01-06\\2025-01-06_TSTUSDT_USDT_1m.csv\n",
      "文件不存在: \\\\znas\\Main\\futures\\2025-01-07\\2025-01-07_TSTUSDT_USDT_1m.csv\n",
      "文件不存在: \\\\znas\\Main\\futures\\2025-01-08\\2025-01-08_TSTUSDT_USDT_1m.csv\n",
      "文件不存在: \\\\znas\\Main\\futures\\2025-01-09\\2025-01-09_TSTUSDT_USDT_1m.csv\n",
      "文件不存在: \\\\znas\\Main\\futures\\2025-01-10\\2025-01-10_TSTUSDT_USDT_1m.csv\n",
      "文件不存在: \\\\znas\\Main\\futures\\2025-01-11\\2025-01-11_TSTUSDT_USDT_1m.csv\n",
      "文件不存在: \\\\znas\\Main\\futures\\2025-01-12\\2025-01-12_TSTUSDT_USDT_1m.csv\n",
      "文件不存在: \\\\znas\\Main\\futures\\2025-01-13\\2025-01-13_TSTUSDT_USDT_1m.csv\n",
      "文件不存在: \\\\znas\\Main\\futures\\2025-01-14\\2025-01-14_TSTUSDT_USDT_1m.csv\n",
      "文件不存在: \\\\znas\\Main\\futures\\2025-01-15\\2025-01-15_TSTUSDT_USDT_1m.csv\n",
      "文件不存在: \\\\znas\\Main\\futures\\2025-01-16\\2025-01-16_TSTUSDT_USDT_1m.csv\n",
      "文件不存在: \\\\znas\\Main\\futures\\2025-01-17\\2025-01-17_TSTUSDT_USDT_1m.csv\n",
      "文件不存在: \\\\znas\\Main\\futures\\2025-01-18\\2025-01-18_TSTUSDT_USDT_1m.csv\n",
      "文件不存在: \\\\znas\\Main\\futures\\2025-01-19\\2025-01-19_TSTUSDT_USDT_1m.csv\n",
      "文件不存在: \\\\znas\\Main\\futures\\2025-01-20\\2025-01-20_TSTUSDT_USDT_1m.csv\n",
      "文件不存在: \\\\znas\\Main\\futures\\2025-01-21\\2025-01-21_TSTUSDT_USDT_1m.csv\n",
      "文件不存在: \\\\znas\\Main\\futures\\2025-01-22\\2025-01-22_TSTUSDT_USDT_1m.csv\n",
      "文件不存在: \\\\znas\\Main\\futures\\2025-01-23\\2025-01-23_TSTUSDT_USDT_1m.csv\n",
      "文件不存在: \\\\znas\\Main\\futures\\2025-01-24\\2025-01-24_TSTUSDT_USDT_1m.csv\n",
      "文件不存在: \\\\znas\\Main\\futures\\2025-01-25\\2025-01-25_TSTUSDT_USDT_1m.csv\n",
      "文件不存在: \\\\znas\\Main\\futures\\2025-01-26\\2025-01-26_TSTUSDT_USDT_1m.csv\n",
      "文件不存在: \\\\znas\\Main\\futures\\2025-01-27\\2025-01-27_TSTUSDT_USDT_1m.csv\n",
      "文件不存在: \\\\znas\\Main\\futures\\2025-01-28\\2025-01-28_TSTUSDT_USDT_1m.csv\n",
      "文件不存在: \\\\znas\\Main\\futures\\2025-01-29\\2025-01-29_TSTUSDT_USDT_1m.csv\n",
      "文件不存在: \\\\znas\\Main\\futures\\2025-01-30\\2025-01-30_TSTUSDT_USDT_1m.csv\n",
      "文件不存在: \\\\znas\\Main\\futures\\2025-01-31\\2025-01-31_TSTUSDT_USDT_1m.csv\n",
      "文件不存在: \\\\znas\\Main\\futures\\2025-02-01\\2025-02-01_TSTUSDT_USDT_1m.csv\n",
      "文件不存在: \\\\znas\\Main\\futures\\2025-02-02\\2025-02-02_TSTUSDT_USDT_1m.csv\n",
      "文件不存在: \\\\znas\\Main\\futures\\2025-02-03\\2025-02-03_TSTUSDT_USDT_1m.csv\n",
      "文件不存在: \\\\znas\\Main\\futures\\2025-02-04\\2025-02-04_TSTUSDT_USDT_1m.csv\n",
      "文件不存在: \\\\znas\\Main\\futures\\2025-02-05\\2025-02-05_TSTUSDT_USDT_1m.csv\n",
      "文件不存在: \\\\znas\\Main\\futures\\2025-02-06\\2025-02-06_TSTUSDT_USDT_1m.csv\n",
      "文件不存在: \\\\znas\\Main\\futures\\2025-02-07\\2025-02-07_TSTUSDT_USDT_1m.csv\n",
      "文件不存在: \\\\znas\\Main\\futures\\2025-02-08\\2025-02-08_TSTUSDT_USDT_1m.csv\n",
      "处理任务出错: 未找到 TSTUSDT 在指定日期范围内的数据\n",
      "文件不存在: \\\\znas\\Main\\futures\\2024-01-01\\2024-01-01_SHELLUSDT_USDT_1m.csv\n",
      "文件不存在: \\\\znas\\Main\\futures\\2024-01-02\\2024-01-02_SHELLUSDT_USDT_1m.csv\n",
      "文件不存在: \\\\znas\\Main\\futures\\2024-01-03\\2024-01-03_SHELLUSDT_USDT_1m.csv\n",
      "文件不存在: \\\\znas\\Main\\futures\\2024-01-04\\2024-01-04_SHELLUSDT_USDT_1m.csv\n",
      "文件不存在: \\\\znas\\Main\\futures\\2024-01-05\\2024-01-05_SHELLUSDT_USDT_1m.csv\n",
      "文件不存在: \\\\znas\\Main\\futures\\2024-01-06\\2024-01-06_SHELLUSDT_USDT_1m.csv\n",
      "文件不存在: \\\\znas\\Main\\futures\\2024-01-07\\2024-01-07_SHELLUSDT_USDT_1m.csv\n",
      "文件不存在: \\\\znas\\Main\\futures\\2024-01-08\\2024-01-08_SHELLUSDT_USDT_1m.csv\n",
      "文件不存在: \\\\znas\\Main\\futures\\2024-01-09\\2024-01-09_SHELLUSDT_USDT_1m.csv\n",
      "文件不存在: \\\\znas\\Main\\futures\\2024-01-10\\2024-01-10_SHELLUSDT_USDT_1m.csv\n",
      "文件不存在: \\\\znas\\Main\\futures\\2024-01-11\\2024-01-11_SHELLUSDT_USDT_1m.csv\n",
      "文件不存在: \\\\znas\\Main\\futures\\2024-01-12\\2024-01-12_SHELLUSDT_USDT_1m.csv\n",
      "文件不存在: \\\\znas\\Main\\futures\\2024-01-13\\2024-01-13_SHELLUSDT_USDT_1m.csv\n",
      "文件不存在: \\\\znas\\Main\\futures\\2024-01-14\\2024-01-14_SHELLUSDT_USDT_1m.csv\n",
      "文件不存在: \\\\znas\\Main\\futures\\2024-01-15\\2024-01-15_SHELLUSDT_USDT_1m.csv\n",
      "文件不存在: \\\\znas\\Main\\futures\\2024-01-16\\2024-01-16_SHELLUSDT_USDT_1m.csv\n",
      "文件不存在: \\\\znas\\Main\\futures\\2024-01-17\\2024-01-17_SHELLUSDT_USDT_1m.csv\n",
      "文件不存在: \\\\znas\\Main\\futures\\2024-01-18\\2024-01-18_SHELLUSDT_USDT_1m.csv\n",
      "文件不存在: \\\\znas\\Main\\futures\\2024-01-19\\2024-01-19_SHELLUSDT_USDT_1m.csv\n",
      "文件不存在: \\\\znas\\Main\\futures\\2024-01-20\\2024-01-20_SHELLUSDT_USDT_1m.csv\n",
      "文件不存在: \\\\znas\\Main\\futures\\2024-01-21\\2024-01-21_SHELLUSDT_USDT_1m.csv\n",
      "文件不存在: \\\\znas\\Main\\futures\\2024-01-22\\2024-01-22_SHELLUSDT_USDT_1m.csv\n",
      "文件不存在: \\\\znas\\Main\\futures\\2024-01-23\\2024-01-23_SHELLUSDT_USDT_1m.csv\n",
      "文件不存在: \\\\znas\\Main\\futures\\2024-01-24\\2024-01-24_SHELLUSDT_USDT_1m.csv\n",
      "文件不存在: \\\\znas\\Main\\futures\\2024-01-25\\2024-01-25_SHELLUSDT_USDT_1m.csv\n",
      "文件不存在: \\\\znas\\Main\\futures\\2024-01-26\\2024-01-26_SHELLUSDT_USDT_1m.csv\n",
      "文件不存在: \\\\znas\\Main\\futures\\2024-01-27\\2024-01-27_SHELLUSDT_USDT_1m.csv\n",
      "文件不存在: \\\\znas\\Main\\futures\\2024-01-28\\2024-01-28_SHELLUSDT_USDT_1m.csv\n",
      "文件不存在: \\\\znas\\Main\\futures\\2024-01-29\\2024-01-29_SHELLUSDT_USDT_1m.csv\n",
      "文件不存在: \\\\znas\\Main\\futures\\2024-01-30\\2024-01-30_SHELLUSDT_USDT_1m.csv\n",
      "文件不存在: \\\\znas\\Main\\futures\\2024-01-31\\2024-01-31_SHELLUSDT_USDT_1m.csv\n",
      "文件不存在: \\\\znas\\Main\\futures\\2024-02-01\\2024-02-01_SHELLUSDT_USDT_1m.csv\n",
      "文件不存在: \\\\znas\\Main\\futures\\2024-02-02\\2024-02-02_SHELLUSDT_USDT_1m.csv\n",
      "文件不存在: \\\\znas\\Main\\futures\\2024-02-03\\2024-02-03_SHELLUSDT_USDT_1m.csv\n",
      "文件不存在: \\\\znas\\Main\\futures\\2024-02-04\\2024-02-04_SHELLUSDT_USDT_1m.csv\n",
      "文件不存在: \\\\znas\\Main\\futures\\2024-02-05\\2024-02-05_SHELLUSDT_USDT_1m.csv\n",
      "文件不存在: \\\\znas\\Main\\futures\\2024-02-06\\2024-02-06_SHELLUSDT_USDT_1m.csv\n",
      "文件不存在: \\\\znas\\Main\\futures\\2024-02-07\\2024-02-07_SHELLUSDT_USDT_1m.csv\n",
      "文件不存在: \\\\znas\\Main\\futures\\2024-02-08\\2024-02-08_SHELLUSDT_USDT_1m.csv\n",
      "文件不存在: \\\\znas\\Main\\futures\\2024-02-09\\2024-02-09_SHELLUSDT_USDT_1m.csv\n",
      "文件不存在: \\\\znas\\Main\\futures\\2024-02-10\\2024-02-10_SHELLUSDT_USDT_1m.csv\n",
      "文件不存在: \\\\znas\\Main\\futures\\2024-02-11\\2024-02-11_SHELLUSDT_USDT_1m.csv\n",
      "文件不存在: \\\\znas\\Main\\futures\\2024-02-12\\2024-02-12_SHELLUSDT_USDT_1m.csv\n",
      "文件不存在: \\\\znas\\Main\\futures\\2024-02-13\\2024-02-13_SHELLUSDT_USDT_1m.csv\n",
      "文件不存在: \\\\znas\\Main\\futures\\2024-02-14\\2024-02-14_SHELLUSDT_USDT_1m.csv\n",
      "文件不存在: \\\\znas\\Main\\futures\\2024-02-15\\2024-02-15_SHELLUSDT_USDT_1m.csv\n",
      "文件不存在: \\\\znas\\Main\\futures\\2024-02-16\\2024-02-16_SHELLUSDT_USDT_1m.csv\n",
      "文件不存在: \\\\znas\\Main\\futures\\2024-02-17\\2024-02-17_SHELLUSDT_USDT_1m.csv\n",
      "文件不存在: \\\\znas\\Main\\futures\\2024-02-18\\2024-02-18_SHELLUSDT_USDT_1m.csv\n",
      "文件不存在: \\\\znas\\Main\\futures\\2024-02-19\\2024-02-19_SHELLUSDT_USDT_1m.csv\n",
      "文件不存在: \\\\znas\\Main\\futures\\2024-02-20\\2024-02-20_SHELLUSDT_USDT_1m.csv\n",
      "文件不存在: \\\\znas\\Main\\futures\\2024-02-21\\2024-02-21_SHELLUSDT_USDT_1m.csv\n",
      "文件不存在: \\\\znas\\Main\\futures\\2024-02-22\\2024-02-22_SHELLUSDT_USDT_1m.csv\n",
      "文件不存在: \\\\znas\\Main\\futures\\2024-02-23\\2024-02-23_SHELLUSDT_USDT_1m.csv\n",
      "文件不存在: \\\\znas\\Main\\futures\\2024-02-24\\2024-02-24_SHELLUSDT_USDT_1m.csv\n",
      "文件不存在: \\\\znas\\Main\\futures\\2024-02-25\\2024-02-25_SHELLUSDT_USDT_1m.csv\n",
      "文件不存在: \\\\znas\\Main\\futures\\2024-02-26\\2024-02-26_SHELLUSDT_USDT_1m.csv\n",
      "文件不存在: \\\\znas\\Main\\futures\\2024-02-27\\2024-02-27_SHELLUSDT_USDT_1m.csv\n",
      "文件不存在: \\\\znas\\Main\\futures\\2024-02-28\\2024-02-28_SHELLUSDT_USDT_1m.csv\n",
      "文件不存在: \\\\znas\\Main\\futures\\2024-02-29\\2024-02-29_SHELLUSDT_USDT_1m.csv\n",
      "文件不存在: \\\\znas\\Main\\futures\\2024-03-01\\2024-03-01_SHELLUSDT_USDT_1m.csv\n",
      "文件不存在: \\\\znas\\Main\\futures\\2024-03-02\\2024-03-02_SHELLUSDT_USDT_1m.csv\n",
      "文件不存在: \\\\znas\\Main\\futures\\2024-03-03\\2024-03-03_SHELLUSDT_USDT_1m.csv\n",
      "文件不存在: \\\\znas\\Main\\futures\\2024-03-04\\2024-03-04_SHELLUSDT_USDT_1m.csv\n",
      "文件不存在: \\\\znas\\Main\\futures\\2024-03-05\\2024-03-05_SHELLUSDT_USDT_1m.csv\n",
      "文件不存在: \\\\znas\\Main\\futures\\2024-03-06\\2024-03-06_SHELLUSDT_USDT_1m.csv\n",
      "文件不存在: \\\\znas\\Main\\futures\\2024-03-07\\2024-03-07_SHELLUSDT_USDT_1m.csv\n",
      "文件不存在: \\\\znas\\Main\\futures\\2024-03-08\\2024-03-08_SHELLUSDT_USDT_1m.csv\n",
      "文件不存在: \\\\znas\\Main\\futures\\2024-03-09\\2024-03-09_SHELLUSDT_USDT_1m.csv\n",
      "文件不存在: \\\\znas\\Main\\futures\\2024-03-10\\2024-03-10_SHELLUSDT_USDT_1m.csv\n",
      "文件不存在: \\\\znas\\Main\\futures\\2024-03-11\\2024-03-11_SHELLUSDT_USDT_1m.csv\n",
      "文件不存在: \\\\znas\\Main\\futures\\2024-03-12\\2024-03-12_SHELLUSDT_USDT_1m.csv\n",
      "文件不存在: \\\\znas\\Main\\futures\\2024-03-13\\2024-03-13_SHELLUSDT_USDT_1m.csv\n",
      "文件不存在: \\\\znas\\Main\\futures\\2024-03-14\\2024-03-14_SHELLUSDT_USDT_1m.csv\n",
      "文件不存在: \\\\znas\\Main\\futures\\2024-03-15\\2024-03-15_SHELLUSDT_USDT_1m.csv\n",
      "文件不存在: \\\\znas\\Main\\futures\\2024-03-16\\2024-03-16_SHELLUSDT_USDT_1m.csv\n",
      "文件不存在: \\\\znas\\Main\\futures\\2024-03-17\\2024-03-17_SHELLUSDT_USDT_1m.csv\n",
      "文件不存在: \\\\znas\\Main\\futures\\2024-03-18\\2024-03-18_SHELLUSDT_USDT_1m.csv\n",
      "文件不存在: \\\\znas\\Main\\futures\\2024-03-19\\2024-03-19_SHELLUSDT_USDT_1m.csv\n",
      "文件不存在: \\\\znas\\Main\\futures\\2024-03-20\\2024-03-20_SHELLUSDT_USDT_1m.csv\n",
      "文件不存在: \\\\znas\\Main\\futures\\2024-03-21\\2024-03-21_SHELLUSDT_USDT_1m.csv\n",
      "文件不存在: \\\\znas\\Main\\futures\\2024-03-22\\2024-03-22_SHELLUSDT_USDT_1m.csv\n",
      "文件不存在: \\\\znas\\Main\\futures\\2024-03-23\\2024-03-23_SHELLUSDT_USDT_1m.csv\n",
      "文件不存在: \\\\znas\\Main\\futures\\2024-03-24\\2024-03-24_SHELLUSDT_USDT_1m.csv\n",
      "文件不存在: \\\\znas\\Main\\futures\\2024-03-25\\2024-03-25_SHELLUSDT_USDT_1m.csv\n",
      "文件不存在: \\\\znas\\Main\\futures\\2024-03-26\\2024-03-26_SHELLUSDT_USDT_1m.csv\n",
      "文件不存在: \\\\znas\\Main\\futures\\2024-03-27\\2024-03-27_SHELLUSDT_USDT_1m.csv\n",
      "文件不存在: \\\\znas\\Main\\futures\\2024-03-28\\2024-03-28_SHELLUSDT_USDT_1m.csv\n",
      "文件不存在: \\\\znas\\Main\\futures\\2024-03-29\\2024-03-29_SHELLUSDT_USDT_1m.csv\n",
      "文件不存在: \\\\znas\\Main\\futures\\2024-03-30\\2024-03-30_SHELLUSDT_USDT_1m.csv\n",
      "文件不存在: \\\\znas\\Main\\futures\\2024-03-31\\2024-03-31_SHELLUSDT_USDT_1m.csv\n",
      "文件不存在: \\\\znas\\Main\\futures\\2024-04-01\\2024-04-01_SHELLUSDT_USDT_1m.csv\n",
      "文件不存在: \\\\znas\\Main\\futures\\2024-04-02\\2024-04-02_SHELLUSDT_USDT_1m.csv\n",
      "文件不存在: \\\\znas\\Main\\futures\\2024-04-03\\2024-04-03_SHELLUSDT_USDT_1m.csv\n",
      "文件不存在: \\\\znas\\Main\\futures\\2024-04-04\\2024-04-04_SHELLUSDT_USDT_1m.csv\n",
      "文件不存在: \\\\znas\\Main\\futures\\2024-04-05\\2024-04-05_SHELLUSDT_USDT_1m.csv\n",
      "文件不存在: \\\\znas\\Main\\futures\\2024-04-06\\2024-04-06_SHELLUSDT_USDT_1m.csv\n",
      "文件不存在: \\\\znas\\Main\\futures\\2024-04-07\\2024-04-07_SHELLUSDT_USDT_1m.csv\n",
      "文件不存在: \\\\znas\\Main\\futures\\2024-04-08\\2024-04-08_SHELLUSDT_USDT_1m.csv\n",
      "文件不存在: \\\\znas\\Main\\futures\\2024-04-09\\2024-04-09_SHELLUSDT_USDT_1m.csv\n",
      "文件不存在: \\\\znas\\Main\\futures\\2024-04-10\\2024-04-10_SHELLUSDT_USDT_1m.csv\n",
      "文件不存在: \\\\znas\\Main\\futures\\2024-04-11\\2024-04-11_SHELLUSDT_USDT_1m.csv\n",
      "文件不存在: \\\\znas\\Main\\futures\\2024-04-12\\2024-04-12_SHELLUSDT_USDT_1m.csv\n",
      "文件不存在: \\\\znas\\Main\\futures\\2024-04-13\\2024-04-13_SHELLUSDT_USDT_1m.csv\n",
      "文件不存在: \\\\znas\\Main\\futures\\2024-04-14\\2024-04-14_SHELLUSDT_USDT_1m.csv\n",
      "文件不存在: \\\\znas\\Main\\futures\\2024-04-15\\2024-04-15_SHELLUSDT_USDT_1m.csv\n",
      "文件不存在: \\\\znas\\Main\\futures\\2024-04-16\\2024-04-16_SHELLUSDT_USDT_1m.csv\n",
      "文件不存在: \\\\znas\\Main\\futures\\2024-04-17\\2024-04-17_SHELLUSDT_USDT_1m.csv\n",
      "文件不存在: \\\\znas\\Main\\futures\\2024-04-18\\2024-04-18_SHELLUSDT_USDT_1m.csv\n",
      "文件不存在: \\\\znas\\Main\\futures\\2024-04-19\\2024-04-19_SHELLUSDT_USDT_1m.csv\n",
      "文件不存在: \\\\znas\\Main\\futures\\2024-04-20\\2024-04-20_SHELLUSDT_USDT_1m.csv\n",
      "文件不存在: \\\\znas\\Main\\futures\\2024-04-21\\2024-04-21_SHELLUSDT_USDT_1m.csv\n",
      "文件不存在: \\\\znas\\Main\\futures\\2024-04-22\\2024-04-22_SHELLUSDT_USDT_1m.csv\n",
      "文件不存在: \\\\znas\\Main\\futures\\2024-04-23\\2024-04-23_SHELLUSDT_USDT_1m.csv\n",
      "文件不存在: \\\\znas\\Main\\futures\\2024-04-24\\2024-04-24_SHELLUSDT_USDT_1m.csv\n",
      "文件不存在: \\\\znas\\Main\\futures\\2024-04-25\\2024-04-25_SHELLUSDT_USDT_1m.csv\n",
      "文件不存在: \\\\znas\\Main\\futures\\2024-04-26\\2024-04-26_SHELLUSDT_USDT_1m.csv\n",
      "文件不存在: \\\\znas\\Main\\futures\\2024-04-27\\2024-04-27_SHELLUSDT_USDT_1m.csv\n",
      "文件不存在: \\\\znas\\Main\\futures\\2024-04-28\\2024-04-28_SHELLUSDT_USDT_1m.csv\n",
      "文件不存在: \\\\znas\\Main\\futures\\2024-04-29\\2024-04-29_SHELLUSDT_USDT_1m.csv\n",
      "文件不存在: \\\\znas\\Main\\futures\\2024-04-30\\2024-04-30_SHELLUSDT_USDT_1m.csv\n",
      "文件不存在: \\\\znas\\Main\\futures\\2024-05-01\\2024-05-01_SHELLUSDT_USDT_1m.csv\n",
      "文件不存在: \\\\znas\\Main\\futures\\2024-05-02\\2024-05-02_SHELLUSDT_USDT_1m.csv\n",
      "文件不存在: \\\\znas\\Main\\futures\\2024-05-03\\2024-05-03_SHELLUSDT_USDT_1m.csv\n",
      "文件不存在: \\\\znas\\Main\\futures\\2024-05-04\\2024-05-04_SHELLUSDT_USDT_1m.csv\n",
      "文件不存在: \\\\znas\\Main\\futures\\2024-05-05\\2024-05-05_SHELLUSDT_USDT_1m.csv\n",
      "文件不存在: \\\\znas\\Main\\futures\\2024-05-06\\2024-05-06_SHELLUSDT_USDT_1m.csv\n",
      "文件不存在: \\\\znas\\Main\\futures\\2024-05-07\\2024-05-07_SHELLUSDT_USDT_1m.csv\n",
      "文件不存在: \\\\znas\\Main\\futures\\2024-05-08\\2024-05-08_SHELLUSDT_USDT_1m.csv\n",
      "文件不存在: \\\\znas\\Main\\futures\\2024-05-09\\2024-05-09_SHELLUSDT_USDT_1m.csv\n",
      "文件不存在: \\\\znas\\Main\\futures\\2024-05-10\\2024-05-10_SHELLUSDT_USDT_1m.csv\n",
      "文件不存在: \\\\znas\\Main\\futures\\2024-05-11\\2024-05-11_SHELLUSDT_USDT_1m.csv\n",
      "文件不存在: \\\\znas\\Main\\futures\\2024-05-12\\2024-05-12_SHELLUSDT_USDT_1m.csv\n",
      "文件不存在: \\\\znas\\Main\\futures\\2024-05-13\\2024-05-13_SHELLUSDT_USDT_1m.csv\n",
      "文件不存在: \\\\znas\\Main\\futures\\2024-05-14\\2024-05-14_SHELLUSDT_USDT_1m.csv\n",
      "文件不存在: \\\\znas\\Main\\futures\\2024-05-15\\2024-05-15_SHELLUSDT_USDT_1m.csv\n",
      "文件不存在: \\\\znas\\Main\\futures\\2024-05-16\\2024-05-16_SHELLUSDT_USDT_1m.csv\n",
      "文件不存在: \\\\znas\\Main\\futures\\2024-05-17\\2024-05-17_SHELLUSDT_USDT_1m.csv\n",
      "文件不存在: \\\\znas\\Main\\futures\\2024-05-18\\2024-05-18_SHELLUSDT_USDT_1m.csv\n",
      "文件不存在: \\\\znas\\Main\\futures\\2024-05-19\\2024-05-19_SHELLUSDT_USDT_1m.csv\n",
      "文件不存在: \\\\znas\\Main\\futures\\2024-05-20\\2024-05-20_SHELLUSDT_USDT_1m.csv\n",
      "文件不存在: \\\\znas\\Main\\futures\\2024-05-21\\2024-05-21_SHELLUSDT_USDT_1m.csv\n",
      "文件不存在: \\\\znas\\Main\\futures\\2024-05-22\\2024-05-22_SHELLUSDT_USDT_1m.csv\n",
      "文件不存在: \\\\znas\\Main\\futures\\2024-05-23\\2024-05-23_SHELLUSDT_USDT_1m.csv\n",
      "文件不存在: \\\\znas\\Main\\futures\\2024-05-24\\2024-05-24_SHELLUSDT_USDT_1m.csv\n",
      "文件不存在: \\\\znas\\Main\\futures\\2024-05-25\\2024-05-25_SHELLUSDT_USDT_1m.csv\n",
      "文件不存在: \\\\znas\\Main\\futures\\2024-05-26\\2024-05-26_SHELLUSDT_USDT_1m.csv\n",
      "文件不存在: \\\\znas\\Main\\futures\\2024-05-27\\2024-05-27_SHELLUSDT_USDT_1m.csv\n",
      "文件不存在: \\\\znas\\Main\\futures\\2024-05-28\\2024-05-28_SHELLUSDT_USDT_1m.csv\n",
      "文件不存在: \\\\znas\\Main\\futures\\2024-05-29\\2024-05-29_SHELLUSDT_USDT_1m.csv\n",
      "文件不存在: \\\\znas\\Main\\futures\\2024-05-30\\2024-05-30_SHELLUSDT_USDT_1m.csv\n",
      "文件不存在: \\\\znas\\Main\\futures\\2024-05-31\\2024-05-31_SHELLUSDT_USDT_1m.csv\n",
      "文件不存在: \\\\znas\\Main\\futures\\2024-06-01\\2024-06-01_SHELLUSDT_USDT_1m.csv\n",
      "文件不存在: \\\\znas\\Main\\futures\\2024-06-02\\2024-06-02_SHELLUSDT_USDT_1m.csv\n",
      "文件不存在: \\\\znas\\Main\\futures\\2024-06-03\\2024-06-03_SHELLUSDT_USDT_1m.csv\n",
      "文件不存在: \\\\znas\\Main\\futures\\2024-06-04\\2024-06-04_SHELLUSDT_USDT_1m.csv\n",
      "文件不存在: \\\\znas\\Main\\futures\\2024-06-05\\2024-06-05_SHELLUSDT_USDT_1m.csv\n",
      "文件不存在: \\\\znas\\Main\\futures\\2024-06-06\\2024-06-06_SHELLUSDT_USDT_1m.csv\n",
      "文件不存在: \\\\znas\\Main\\futures\\2024-06-07\\2024-06-07_SHELLUSDT_USDT_1m.csv\n",
      "文件不存在: \\\\znas\\Main\\futures\\2024-06-08\\2024-06-08_SHELLUSDT_USDT_1m.csv\n",
      "文件不存在: \\\\znas\\Main\\futures\\2024-06-09\\2024-06-09_SHELLUSDT_USDT_1m.csv\n",
      "文件不存在: \\\\znas\\Main\\futures\\2024-06-10\\2024-06-10_SHELLUSDT_USDT_1m.csv\n",
      "文件不存在: \\\\znas\\Main\\futures\\2024-06-11\\2024-06-11_SHELLUSDT_USDT_1m.csv\n",
      "文件不存在: \\\\znas\\Main\\futures\\2024-06-12\\2024-06-12_SHELLUSDT_USDT_1m.csv\n",
      "文件不存在: \\\\znas\\Main\\futures\\2024-06-13\\2024-06-13_SHELLUSDT_USDT_1m.csv\n",
      "文件不存在: \\\\znas\\Main\\futures\\2024-06-14\\2024-06-14_SHELLUSDT_USDT_1m.csv\n",
      "文件不存在: \\\\znas\\Main\\futures\\2024-06-15\\2024-06-15_SHELLUSDT_USDT_1m.csv\n",
      "文件不存在: \\\\znas\\Main\\futures\\2024-06-16\\2024-06-16_SHELLUSDT_USDT_1m.csv\n",
      "文件不存在: \\\\znas\\Main\\futures\\2024-06-17\\2024-06-17_SHELLUSDT_USDT_1m.csv\n",
      "文件不存在: \\\\znas\\Main\\futures\\2024-06-18\\2024-06-18_SHELLUSDT_USDT_1m.csv\n",
      "文件不存在: \\\\znas\\Main\\futures\\2024-06-19\\2024-06-19_SHELLUSDT_USDT_1m.csv\n",
      "文件不存在: \\\\znas\\Main\\futures\\2024-06-20\\2024-06-20_SHELLUSDT_USDT_1m.csv\n",
      "文件不存在: \\\\znas\\Main\\futures\\2024-06-21\\2024-06-21_SHELLUSDT_USDT_1m.csv\n",
      "文件不存在: \\\\znas\\Main\\futures\\2024-06-22\\2024-06-22_SHELLUSDT_USDT_1m.csv\n",
      "文件不存在: \\\\znas\\Main\\futures\\2024-06-23\\2024-06-23_SHELLUSDT_USDT_1m.csv\n",
      "文件不存在: \\\\znas\\Main\\futures\\2024-06-24\\2024-06-24_SHELLUSDT_USDT_1m.csv\n",
      "文件不存在: \\\\znas\\Main\\futures\\2024-06-25\\2024-06-25_SHELLUSDT_USDT_1m.csv\n",
      "文件不存在: \\\\znas\\Main\\futures\\2024-06-26\\2024-06-26_SHELLUSDT_USDT_1m.csv\n",
      "文件不存在: \\\\znas\\Main\\futures\\2024-06-27\\2024-06-27_SHELLUSDT_USDT_1m.csv\n",
      "文件不存在: \\\\znas\\Main\\futures\\2024-06-28\\2024-06-28_SHELLUSDT_USDT_1m.csv\n",
      "文件不存在: \\\\znas\\Main\\futures\\2024-06-29\\2024-06-29_SHELLUSDT_USDT_1m.csv\n",
      "文件不存在: \\\\znas\\Main\\futures\\2024-06-30\\2024-06-30_SHELLUSDT_USDT_1m.csv\n",
      "文件不存在: \\\\znas\\Main\\futures\\2024-07-01\\2024-07-01_SHELLUSDT_USDT_1m.csv\n",
      "文件不存在: \\\\znas\\Main\\futures\\2024-07-02\\2024-07-02_SHELLUSDT_USDT_1m.csv\n",
      "文件不存在: \\\\znas\\Main\\futures\\2024-07-03\\2024-07-03_SHELLUSDT_USDT_1m.csv\n",
      "文件不存在: \\\\znas\\Main\\futures\\2024-07-04\\2024-07-04_SHELLUSDT_USDT_1m.csv\n",
      "文件不存在: \\\\znas\\Main\\futures\\2024-07-05\\2024-07-05_SHELLUSDT_USDT_1m.csv\n",
      "文件不存在: \\\\znas\\Main\\futures\\2024-07-06\\2024-07-06_SHELLUSDT_USDT_1m.csv\n",
      "文件不存在: \\\\znas\\Main\\futures\\2024-07-07\\2024-07-07_SHELLUSDT_USDT_1m.csv\n",
      "文件不存在: \\\\znas\\Main\\futures\\2024-07-08\\2024-07-08_SHELLUSDT_USDT_1m.csv\n",
      "文件不存在: \\\\znas\\Main\\futures\\2024-07-09\\2024-07-09_SHELLUSDT_USDT_1m.csv\n",
      "文件不存在: \\\\znas\\Main\\futures\\2024-07-10\\2024-07-10_SHELLUSDT_USDT_1m.csv\n",
      "文件不存在: \\\\znas\\Main\\futures\\2024-07-11\\2024-07-11_SHELLUSDT_USDT_1m.csv\n",
      "文件不存在: \\\\znas\\Main\\futures\\2024-07-12\\2024-07-12_SHELLUSDT_USDT_1m.csv\n",
      "文件不存在: \\\\znas\\Main\\futures\\2024-07-13\\2024-07-13_SHELLUSDT_USDT_1m.csv\n",
      "文件不存在: \\\\znas\\Main\\futures\\2024-07-14\\2024-07-14_SHELLUSDT_USDT_1m.csv\n",
      "文件不存在: \\\\znas\\Main\\futures\\2024-07-15\\2024-07-15_SHELLUSDT_USDT_1m.csv\n",
      "文件不存在: \\\\znas\\Main\\futures\\2024-07-16\\2024-07-16_SHELLUSDT_USDT_1m.csv\n",
      "文件不存在: \\\\znas\\Main\\futures\\2024-07-17\\2024-07-17_SHELLUSDT_USDT_1m.csv\n",
      "文件不存在: \\\\znas\\Main\\futures\\2024-07-18\\2024-07-18_SHELLUSDT_USDT_1m.csv\n",
      "文件不存在: \\\\znas\\Main\\futures\\2024-07-19\\2024-07-19_SHELLUSDT_USDT_1m.csv\n",
      "文件不存在: \\\\znas\\Main\\futures\\2024-07-20\\2024-07-20_SHELLUSDT_USDT_1m.csv\n",
      "文件不存在: \\\\znas\\Main\\futures\\2024-07-21\\2024-07-21_SHELLUSDT_USDT_1m.csv\n",
      "文件不存在: \\\\znas\\Main\\futures\\2024-07-22\\2024-07-22_SHELLUSDT_USDT_1m.csv\n",
      "文件不存在: \\\\znas\\Main\\futures\\2024-07-23\\2024-07-23_SHELLUSDT_USDT_1m.csv\n",
      "文件不存在: \\\\znas\\Main\\futures\\2024-07-24\\2024-07-24_SHELLUSDT_USDT_1m.csv\n",
      "文件不存在: \\\\znas\\Main\\futures\\2024-07-25\\2024-07-25_SHELLUSDT_USDT_1m.csv\n",
      "文件不存在: \\\\znas\\Main\\futures\\2024-07-26\\2024-07-26_SHELLUSDT_USDT_1m.csv\n",
      "文件不存在: \\\\znas\\Main\\futures\\2024-07-27\\2024-07-27_SHELLUSDT_USDT_1m.csv\n",
      "文件不存在: \\\\znas\\Main\\futures\\2024-07-28\\2024-07-28_SHELLUSDT_USDT_1m.csv\n",
      "文件不存在: \\\\znas\\Main\\futures\\2024-07-29\\2024-07-29_SHELLUSDT_USDT_1m.csv\n",
      "文件不存在: \\\\znas\\Main\\futures\\2024-07-30\\2024-07-30_SHELLUSDT_USDT_1m.csv\n",
      "文件不存在: \\\\znas\\Main\\futures\\2024-07-31\\2024-07-31_SHELLUSDT_USDT_1m.csv\n",
      "文件不存在: \\\\znas\\Main\\futures\\2024-08-01\\2024-08-01_SHELLUSDT_USDT_1m.csv\n",
      "文件不存在: \\\\znas\\Main\\futures\\2024-08-02\\2024-08-02_SHELLUSDT_USDT_1m.csv\n",
      "文件不存在: \\\\znas\\Main\\futures\\2024-08-03\\2024-08-03_SHELLUSDT_USDT_1m.csv\n",
      "文件不存在: \\\\znas\\Main\\futures\\2024-08-04\\2024-08-04_SHELLUSDT_USDT_1m.csv\n",
      "文件不存在: \\\\znas\\Main\\futures\\2024-08-05\\2024-08-05_SHELLUSDT_USDT_1m.csv\n",
      "文件不存在: \\\\znas\\Main\\futures\\2024-08-06\\2024-08-06_SHELLUSDT_USDT_1m.csv\n",
      "文件不存在: \\\\znas\\Main\\futures\\2024-08-07\\2024-08-07_SHELLUSDT_USDT_1m.csv\n",
      "文件不存在: \\\\znas\\Main\\futures\\2024-08-08\\2024-08-08_SHELLUSDT_USDT_1m.csv\n",
      "文件不存在: \\\\znas\\Main\\futures\\2024-08-09\\2024-08-09_SHELLUSDT_USDT_1m.csv\n",
      "文件不存在: \\\\znas\\Main\\futures\\2024-08-10\\2024-08-10_SHELLUSDT_USDT_1m.csv\n",
      "文件不存在: \\\\znas\\Main\\futures\\2024-08-11\\2024-08-11_SHELLUSDT_USDT_1m.csv\n",
      "文件不存在: \\\\znas\\Main\\futures\\2024-08-12\\2024-08-12_SHELLUSDT_USDT_1m.csv\n",
      "文件不存在: \\\\znas\\Main\\futures\\2024-08-13\\2024-08-13_SHELLUSDT_USDT_1m.csv\n",
      "文件不存在: \\\\znas\\Main\\futures\\2024-08-14\\2024-08-14_SHELLUSDT_USDT_1m.csv\n",
      "文件不存在: \\\\znas\\Main\\futures\\2024-08-15\\2024-08-15_SHELLUSDT_USDT_1m.csv\n",
      "文件不存在: \\\\znas\\Main\\futures\\2024-08-16\\2024-08-16_SHELLUSDT_USDT_1m.csv\n",
      "文件不存在: \\\\znas\\Main\\futures\\2024-08-17\\2024-08-17_SHELLUSDT_USDT_1m.csv\n",
      "文件不存在: \\\\znas\\Main\\futures\\2024-08-18\\2024-08-18_SHELLUSDT_USDT_1m.csv\n",
      "文件不存在: \\\\znas\\Main\\futures\\2024-08-19\\2024-08-19_SHELLUSDT_USDT_1m.csv\n",
      "文件不存在: \\\\znas\\Main\\futures\\2024-08-20\\2024-08-20_SHELLUSDT_USDT_1m.csv\n",
      "文件不存在: \\\\znas\\Main\\futures\\2024-08-21\\2024-08-21_SHELLUSDT_USDT_1m.csv\n",
      "文件不存在: \\\\znas\\Main\\futures\\2024-08-22\\2024-08-22_SHELLUSDT_USDT_1m.csv\n",
      "文件不存在: \\\\znas\\Main\\futures\\2024-08-23\\2024-08-23_SHELLUSDT_USDT_1m.csv\n",
      "文件不存在: \\\\znas\\Main\\futures\\2024-08-24\\2024-08-24_SHELLUSDT_USDT_1m.csv\n",
      "文件不存在: \\\\znas\\Main\\futures\\2024-08-25\\2024-08-25_SHELLUSDT_USDT_1m.csv\n",
      "文件不存在: \\\\znas\\Main\\futures\\2024-08-26\\2024-08-26_SHELLUSDT_USDT_1m.csv\n",
      "文件不存在: \\\\znas\\Main\\futures\\2024-08-27\\2024-08-27_SHELLUSDT_USDT_1m.csv\n",
      "文件不存在: \\\\znas\\Main\\futures\\2024-08-28\\2024-08-28_SHELLUSDT_USDT_1m.csv\n",
      "文件不存在: \\\\znas\\Main\\futures\\2024-08-29\\2024-08-29_SHELLUSDT_USDT_1m.csv\n",
      "文件不存在: \\\\znas\\Main\\futures\\2024-08-30\\2024-08-30_SHELLUSDT_USDT_1m.csv\n",
      "文件不存在: \\\\znas\\Main\\futures\\2024-08-31\\2024-08-31_SHELLUSDT_USDT_1m.csv\n",
      "文件不存在: \\\\znas\\Main\\futures\\2024-09-01\\2024-09-01_SHELLUSDT_USDT_1m.csv\n",
      "文件不存在: \\\\znas\\Main\\futures\\2024-09-02\\2024-09-02_SHELLUSDT_USDT_1m.csv\n",
      "文件不存在: \\\\znas\\Main\\futures\\2024-09-03\\2024-09-03_SHELLUSDT_USDT_1m.csv\n",
      "文件不存在: \\\\znas\\Main\\futures\\2024-09-04\\2024-09-04_SHELLUSDT_USDT_1m.csv\n",
      "文件不存在: \\\\znas\\Main\\futures\\2024-09-05\\2024-09-05_SHELLUSDT_USDT_1m.csv\n",
      "文件不存在: \\\\znas\\Main\\futures\\2024-09-06\\2024-09-06_SHELLUSDT_USDT_1m.csv\n",
      "文件不存在: \\\\znas\\Main\\futures\\2024-09-07\\2024-09-07_SHELLUSDT_USDT_1m.csv\n",
      "文件不存在: \\\\znas\\Main\\futures\\2024-09-08\\2024-09-08_SHELLUSDT_USDT_1m.csv\n",
      "文件不存在: \\\\znas\\Main\\futures\\2024-09-09\\2024-09-09_SHELLUSDT_USDT_1m.csv\n",
      "文件不存在: \\\\znas\\Main\\futures\\2024-09-10\\2024-09-10_SHELLUSDT_USDT_1m.csv\n",
      "文件不存在: \\\\znas\\Main\\futures\\2024-09-11\\2024-09-11_SHELLUSDT_USDT_1m.csv\n",
      "文件不存在: \\\\znas\\Main\\futures\\2024-09-12\\2024-09-12_SHELLUSDT_USDT_1m.csv\n",
      "文件不存在: \\\\znas\\Main\\futures\\2024-09-13\\2024-09-13_SHELLUSDT_USDT_1m.csv\n",
      "文件不存在: \\\\znas\\Main\\futures\\2024-09-14\\2024-09-14_SHELLUSDT_USDT_1m.csv\n",
      "文件不存在: \\\\znas\\Main\\futures\\2024-09-15\\2024-09-15_SHELLUSDT_USDT_1m.csv\n",
      "文件不存在: \\\\znas\\Main\\futures\\2024-09-16\\2024-09-16_SHELLUSDT_USDT_1m.csv\n",
      "文件不存在: \\\\znas\\Main\\futures\\2024-09-17\\2024-09-17_SHELLUSDT_USDT_1m.csv\n",
      "文件不存在: \\\\znas\\Main\\futures\\2024-09-18\\2024-09-18_SHELLUSDT_USDT_1m.csv\n",
      "文件不存在: \\\\znas\\Main\\futures\\2024-09-19\\2024-09-19_SHELLUSDT_USDT_1m.csv\n",
      "文件不存在: \\\\znas\\Main\\futures\\2024-09-20\\2024-09-20_SHELLUSDT_USDT_1m.csv\n",
      "文件不存在: \\\\znas\\Main\\futures\\2024-09-21\\2024-09-21_SHELLUSDT_USDT_1m.csv\n",
      "文件不存在: \\\\znas\\Main\\futures\\2024-09-22\\2024-09-22_SHELLUSDT_USDT_1m.csv\n",
      "文件不存在: \\\\znas\\Main\\futures\\2024-09-23\\2024-09-23_SHELLUSDT_USDT_1m.csv\n",
      "文件不存在: \\\\znas\\Main\\futures\\2024-09-24\\2024-09-24_SHELLUSDT_USDT_1m.csv\n",
      "文件不存在: \\\\znas\\Main\\futures\\2024-09-25\\2024-09-25_SHELLUSDT_USDT_1m.csv\n",
      "文件不存在: \\\\znas\\Main\\futures\\2024-09-26\\2024-09-26_SHELLUSDT_USDT_1m.csv\n",
      "文件不存在: \\\\znas\\Main\\futures\\2024-09-27\\2024-09-27_SHELLUSDT_USDT_1m.csv\n",
      "文件不存在: \\\\znas\\Main\\futures\\2024-09-28\\2024-09-28_SHELLUSDT_USDT_1m.csv\n",
      "文件不存在: \\\\znas\\Main\\futures\\2024-09-29\\2024-09-29_SHELLUSDT_USDT_1m.csv\n",
      "文件不存在: \\\\znas\\Main\\futures\\2024-09-30\\2024-09-30_SHELLUSDT_USDT_1m.csv\n",
      "文件不存在: \\\\znas\\Main\\futures\\2024-10-01\\2024-10-01_SHELLUSDT_USDT_1m.csv\n",
      "文件不存在: \\\\znas\\Main\\futures\\2024-10-02\\2024-10-02_SHELLUSDT_USDT_1m.csv\n",
      "文件不存在: \\\\znas\\Main\\futures\\2024-10-03\\2024-10-03_SHELLUSDT_USDT_1m.csv\n",
      "文件不存在: \\\\znas\\Main\\futures\\2024-10-04\\2024-10-04_SHELLUSDT_USDT_1m.csv\n",
      "文件不存在: \\\\znas\\Main\\futures\\2024-10-05\\2024-10-05_SHELLUSDT_USDT_1m.csv\n",
      "文件不存在: \\\\znas\\Main\\futures\\2024-10-06\\2024-10-06_SHELLUSDT_USDT_1m.csv\n",
      "文件不存在: \\\\znas\\Main\\futures\\2024-10-07\\2024-10-07_SHELLUSDT_USDT_1m.csv\n",
      "文件不存在: \\\\znas\\Main\\futures\\2024-10-08\\2024-10-08_SHELLUSDT_USDT_1m.csv\n",
      "文件不存在: \\\\znas\\Main\\futures\\2024-10-09\\2024-10-09_SHELLUSDT_USDT_1m.csv\n",
      "文件不存在: \\\\znas\\Main\\futures\\2024-10-10\\2024-10-10_SHELLUSDT_USDT_1m.csv\n",
      "文件不存在: \\\\znas\\Main\\futures\\2024-10-11\\2024-10-11_SHELLUSDT_USDT_1m.csv\n",
      "文件不存在: \\\\znas\\Main\\futures\\2024-10-12\\2024-10-12_SHELLUSDT_USDT_1m.csv\n",
      "文件不存在: \\\\znas\\Main\\futures\\2024-10-13\\2024-10-13_SHELLUSDT_USDT_1m.csv\n",
      "文件不存在: \\\\znas\\Main\\futures\\2024-10-14\\2024-10-14_SHELLUSDT_USDT_1m.csv\n",
      "文件不存在: \\\\znas\\Main\\futures\\2024-10-15\\2024-10-15_SHELLUSDT_USDT_1m.csv\n",
      "文件不存在: \\\\znas\\Main\\futures\\2024-10-16\\2024-10-16_SHELLUSDT_USDT_1m.csv\n",
      "文件不存在: \\\\znas\\Main\\futures\\2024-10-17\\2024-10-17_SHELLUSDT_USDT_1m.csv\n",
      "文件不存在: \\\\znas\\Main\\futures\\2024-10-18\\2024-10-18_SHELLUSDT_USDT_1m.csv\n",
      "文件不存在: \\\\znas\\Main\\futures\\2024-10-19\\2024-10-19_SHELLUSDT_USDT_1m.csv\n",
      "文件不存在: \\\\znas\\Main\\futures\\2024-10-20\\2024-10-20_SHELLUSDT_USDT_1m.csv\n",
      "文件不存在: \\\\znas\\Main\\futures\\2024-10-21\\2024-10-21_SHELLUSDT_USDT_1m.csv\n",
      "文件不存在: \\\\znas\\Main\\futures\\2024-10-22\\2024-10-22_SHELLUSDT_USDT_1m.csv\n",
      "文件不存在: \\\\znas\\Main\\futures\\2024-10-23\\2024-10-23_SHELLUSDT_USDT_1m.csv\n",
      "文件不存在: \\\\znas\\Main\\futures\\2024-10-24\\2024-10-24_SHELLUSDT_USDT_1m.csv\n",
      "文件不存在: \\\\znas\\Main\\futures\\2024-10-25\\2024-10-25_SHELLUSDT_USDT_1m.csv\n",
      "文件不存在: \\\\znas\\Main\\futures\\2024-10-26\\2024-10-26_SHELLUSDT_USDT_1m.csv\n",
      "文件不存在: \\\\znas\\Main\\futures\\2024-10-27\\2024-10-27_SHELLUSDT_USDT_1m.csv\n",
      "文件不存在: \\\\znas\\Main\\futures\\2024-10-28\\2024-10-28_SHELLUSDT_USDT_1m.csv\n",
      "文件不存在: \\\\znas\\Main\\futures\\2024-10-29\\2024-10-29_SHELLUSDT_USDT_1m.csv\n",
      "文件不存在: \\\\znas\\Main\\futures\\2024-10-30\\2024-10-30_SHELLUSDT_USDT_1m.csv\n",
      "文件不存在: \\\\znas\\Main\\futures\\2024-10-31\\2024-10-31_SHELLUSDT_USDT_1m.csv\n",
      "文件不存在: \\\\znas\\Main\\futures\\2024-11-01\\2024-11-01_SHELLUSDT_USDT_1m.csv\n",
      "文件不存在: \\\\znas\\Main\\futures\\2024-11-02\\2024-11-02_SHELLUSDT_USDT_1m.csv\n",
      "文件不存在: \\\\znas\\Main\\futures\\2024-11-03\\2024-11-03_SHELLUSDT_USDT_1m.csv\n",
      "文件不存在: \\\\znas\\Main\\futures\\2024-11-04\\2024-11-04_SHELLUSDT_USDT_1m.csv\n",
      "文件不存在: \\\\znas\\Main\\futures\\2024-11-05\\2024-11-05_SHELLUSDT_USDT_1m.csv\n",
      "文件不存在: \\\\znas\\Main\\futures\\2024-11-06\\2024-11-06_SHELLUSDT_USDT_1m.csv\n",
      "文件不存在: \\\\znas\\Main\\futures\\2024-11-07\\2024-11-07_SHELLUSDT_USDT_1m.csv\n",
      "文件不存在: \\\\znas\\Main\\futures\\2024-11-08\\2024-11-08_SHELLUSDT_USDT_1m.csv\n",
      "文件不存在: \\\\znas\\Main\\futures\\2024-11-09\\2024-11-09_SHELLUSDT_USDT_1m.csv\n",
      "文件不存在: \\\\znas\\Main\\futures\\2024-11-10\\2024-11-10_SHELLUSDT_USDT_1m.csv\n",
      "文件不存在: \\\\znas\\Main\\futures\\2024-11-11\\2024-11-11_SHELLUSDT_USDT_1m.csv\n",
      "文件不存在: \\\\znas\\Main\\futures\\2024-11-12\\2024-11-12_SHELLUSDT_USDT_1m.csv\n",
      "文件不存在: \\\\znas\\Main\\futures\\2024-11-13\\2024-11-13_SHELLUSDT_USDT_1m.csv\n",
      "文件不存在: \\\\znas\\Main\\futures\\2024-11-14\\2024-11-14_SHELLUSDT_USDT_1m.csv\n",
      "文件不存在: \\\\znas\\Main\\futures\\2024-11-15\\2024-11-15_SHELLUSDT_USDT_1m.csv\n",
      "文件不存在: \\\\znas\\Main\\futures\\2024-11-16\\2024-11-16_SHELLUSDT_USDT_1m.csv\n",
      "文件不存在: \\\\znas\\Main\\futures\\2024-11-17\\2024-11-17_SHELLUSDT_USDT_1m.csv\n",
      "文件不存在: \\\\znas\\Main\\futures\\2024-11-18\\2024-11-18_SHELLUSDT_USDT_1m.csv\n",
      "文件不存在: \\\\znas\\Main\\futures\\2024-11-19\\2024-11-19_SHELLUSDT_USDT_1m.csv\n",
      "文件不存在: \\\\znas\\Main\\futures\\2024-11-20\\2024-11-20_SHELLUSDT_USDT_1m.csv\n",
      "文件不存在: \\\\znas\\Main\\futures\\2024-11-21\\2024-11-21_SHELLUSDT_USDT_1m.csv\n",
      "文件不存在: \\\\znas\\Main\\futures\\2024-11-22\\2024-11-22_SHELLUSDT_USDT_1m.csv\n",
      "文件不存在: \\\\znas\\Main\\futures\\2024-11-23\\2024-11-23_SHELLUSDT_USDT_1m.csv\n",
      "文件不存在: \\\\znas\\Main\\futures\\2024-11-24\\2024-11-24_SHELLUSDT_USDT_1m.csv\n",
      "文件不存在: \\\\znas\\Main\\futures\\2024-11-25\\2024-11-25_SHELLUSDT_USDT_1m.csv\n",
      "文件不存在: \\\\znas\\Main\\futures\\2024-11-26\\2024-11-26_SHELLUSDT_USDT_1m.csv\n",
      "文件不存在: \\\\znas\\Main\\futures\\2024-11-27\\2024-11-27_SHELLUSDT_USDT_1m.csv\n",
      "文件不存在: \\\\znas\\Main\\futures\\2024-11-28\\2024-11-28_SHELLUSDT_USDT_1m.csv\n",
      "文件不存在: \\\\znas\\Main\\futures\\2024-11-29\\2024-11-29_SHELLUSDT_USDT_1m.csv\n",
      "文件不存在: \\\\znas\\Main\\futures\\2024-11-30\\2024-11-30_SHELLUSDT_USDT_1m.csv\n",
      "文件不存在: \\\\znas\\Main\\futures\\2024-12-01\\2024-12-01_SHELLUSDT_USDT_1m.csv\n",
      "文件不存在: \\\\znas\\Main\\futures\\2024-12-02\\2024-12-02_SHELLUSDT_USDT_1m.csv\n",
      "文件不存在: \\\\znas\\Main\\futures\\2024-12-03\\2024-12-03_SHELLUSDT_USDT_1m.csv\n",
      "文件不存在: \\\\znas\\Main\\futures\\2024-12-04\\2024-12-04_SHELLUSDT_USDT_1m.csv\n",
      "文件不存在: \\\\znas\\Main\\futures\\2024-12-05\\2024-12-05_SHELLUSDT_USDT_1m.csv\n",
      "文件不存在: \\\\znas\\Main\\futures\\2024-12-06\\2024-12-06_SHELLUSDT_USDT_1m.csv\n",
      "文件不存在: \\\\znas\\Main\\futures\\2024-12-07\\2024-12-07_SHELLUSDT_USDT_1m.csv\n",
      "文件不存在: \\\\znas\\Main\\futures\\2024-12-08\\2024-12-08_SHELLUSDT_USDT_1m.csv\n",
      "文件不存在: \\\\znas\\Main\\futures\\2024-12-09\\2024-12-09_SHELLUSDT_USDT_1m.csv\n",
      "文件不存在: \\\\znas\\Main\\futures\\2024-12-10\\2024-12-10_SHELLUSDT_USDT_1m.csv\n",
      "文件不存在: \\\\znas\\Main\\futures\\2024-12-11\\2024-12-11_SHELLUSDT_USDT_1m.csv\n",
      "文件不存在: \\\\znas\\Main\\futures\\2024-12-12\\2024-12-12_SHELLUSDT_USDT_1m.csv\n",
      "文件不存在: \\\\znas\\Main\\futures\\2024-12-13\\2024-12-13_SHELLUSDT_USDT_1m.csv\n",
      "文件不存在: \\\\znas\\Main\\futures\\2024-12-14\\2024-12-14_SHELLUSDT_USDT_1m.csv\n",
      "文件不存在: \\\\znas\\Main\\futures\\2024-12-15\\2024-12-15_SHELLUSDT_USDT_1m.csv\n",
      "文件不存在: \\\\znas\\Main\\futures\\2024-12-16\\2024-12-16_SHELLUSDT_USDT_1m.csv\n",
      "文件不存在: \\\\znas\\Main\\futures\\2024-12-17\\2024-12-17_SHELLUSDT_USDT_1m.csv\n",
      "文件不存在: \\\\znas\\Main\\futures\\2024-12-18\\2024-12-18_SHELLUSDT_USDT_1m.csv\n",
      "文件不存在: \\\\znas\\Main\\futures\\2024-12-19\\2024-12-19_SHELLUSDT_USDT_1m.csv\n",
      "文件不存在: \\\\znas\\Main\\futures\\2024-12-20\\2024-12-20_SHELLUSDT_USDT_1m.csv\n",
      "文件不存在: \\\\znas\\Main\\futures\\2024-12-21\\2024-12-21_SHELLUSDT_USDT_1m.csv\n",
      "文件不存在: \\\\znas\\Main\\futures\\2024-12-22\\2024-12-22_SHELLUSDT_USDT_1m.csv\n",
      "文件不存在: \\\\znas\\Main\\futures\\2024-12-23\\2024-12-23_SHELLUSDT_USDT_1m.csv\n",
      "文件不存在: \\\\znas\\Main\\futures\\2024-12-24\\2024-12-24_SHELLUSDT_USDT_1m.csv\n",
      "文件不存在: \\\\znas\\Main\\futures\\2024-12-25\\2024-12-25_SHELLUSDT_USDT_1m.csv\n",
      "文件不存在: \\\\znas\\Main\\futures\\2024-12-26\\2024-12-26_SHELLUSDT_USDT_1m.csv\n",
      "文件不存在: \\\\znas\\Main\\futures\\2024-12-27\\2024-12-27_SHELLUSDT_USDT_1m.csv\n",
      "文件不存在: \\\\znas\\Main\\futures\\2024-12-28\\2024-12-28_SHELLUSDT_USDT_1m.csv\n",
      "文件不存在: \\\\znas\\Main\\futures\\2024-12-29\\2024-12-29_SHELLUSDT_USDT_1m.csv\n",
      "文件不存在: \\\\znas\\Main\\futures\\2024-12-30\\2024-12-30_SHELLUSDT_USDT_1m.csv\n",
      "文件不存在: \\\\znas\\Main\\futures\\2024-12-31\\2024-12-31_SHELLUSDT_USDT_1m.csv\n",
      "文件不存在: \\\\znas\\Main\\futures\\2025-01-01\\2025-01-01_SHELLUSDT_USDT_1m.csv\n",
      "文件不存在: \\\\znas\\Main\\futures\\2025-01-02\\2025-01-02_SHELLUSDT_USDT_1m.csv\n",
      "文件不存在: \\\\znas\\Main\\futures\\2025-01-03\\2025-01-03_SHELLUSDT_USDT_1m.csv\n",
      "文件不存在: \\\\znas\\Main\\futures\\2025-01-04\\2025-01-04_SHELLUSDT_USDT_1m.csv\n",
      "文件不存在: \\\\znas\\Main\\futures\\2025-01-05\\2025-01-05_SHELLUSDT_USDT_1m.csv\n",
      "文件不存在: \\\\znas\\Main\\futures\\2025-01-06\\2025-01-06_SHELLUSDT_USDT_1m.csv\n",
      "文件不存在: \\\\znas\\Main\\futures\\2025-01-07\\2025-01-07_SHELLUSDT_USDT_1m.csv\n",
      "文件不存在: \\\\znas\\Main\\futures\\2025-01-08\\2025-01-08_SHELLUSDT_USDT_1m.csv\n",
      "文件不存在: \\\\znas\\Main\\futures\\2025-01-09\\2025-01-09_SHELLUSDT_USDT_1m.csv\n",
      "文件不存在: \\\\znas\\Main\\futures\\2025-01-10\\2025-01-10_SHELLUSDT_USDT_1m.csv\n",
      "文件不存在: \\\\znas\\Main\\futures\\2025-01-11\\2025-01-11_SHELLUSDT_USDT_1m.csv\n",
      "文件不存在: \\\\znas\\Main\\futures\\2025-01-12\\2025-01-12_SHELLUSDT_USDT_1m.csv\n",
      "文件不存在: \\\\znas\\Main\\futures\\2025-01-13\\2025-01-13_SHELLUSDT_USDT_1m.csv\n",
      "文件不存在: \\\\znas\\Main\\futures\\2025-01-14\\2025-01-14_SHELLUSDT_USDT_1m.csv\n",
      "文件不存在: \\\\znas\\Main\\futures\\2025-01-15\\2025-01-15_SHELLUSDT_USDT_1m.csv\n",
      "文件不存在: \\\\znas\\Main\\futures\\2025-01-16\\2025-01-16_SHELLUSDT_USDT_1m.csv\n",
      "文件不存在: \\\\znas\\Main\\futures\\2025-01-17\\2025-01-17_SHELLUSDT_USDT_1m.csv\n",
      "文件不存在: \\\\znas\\Main\\futures\\2025-01-18\\2025-01-18_SHELLUSDT_USDT_1m.csv\n",
      "文件不存在: \\\\znas\\Main\\futures\\2025-01-19\\2025-01-19_SHELLUSDT_USDT_1m.csv\n",
      "文件不存在: \\\\znas\\Main\\futures\\2025-01-20\\2025-01-20_SHELLUSDT_USDT_1m.csv\n",
      "文件不存在: \\\\znas\\Main\\futures\\2025-01-21\\2025-01-21_SHELLUSDT_USDT_1m.csv\n",
      "文件不存在: \\\\znas\\Main\\futures\\2025-01-22\\2025-01-22_SHELLUSDT_USDT_1m.csv\n",
      "文件不存在: \\\\znas\\Main\\futures\\2025-01-23\\2025-01-23_SHELLUSDT_USDT_1m.csv\n",
      "文件不存在: \\\\znas\\Main\\futures\\2025-01-24\\2025-01-24_SHELLUSDT_USDT_1m.csv\n",
      "文件不存在: \\\\znas\\Main\\futures\\2025-01-25\\2025-01-25_SHELLUSDT_USDT_1m.csv\n",
      "文件不存在: \\\\znas\\Main\\futures\\2025-01-26\\2025-01-26_SHELLUSDT_USDT_1m.csv\n",
      "文件不存在: \\\\znas\\Main\\futures\\2025-01-27\\2025-01-27_SHELLUSDT_USDT_1m.csv\n",
      "文件不存在: \\\\znas\\Main\\futures\\2025-01-28\\2025-01-28_SHELLUSDT_USDT_1m.csv\n",
      "文件不存在: \\\\znas\\Main\\futures\\2025-01-29\\2025-01-29_SHELLUSDT_USDT_1m.csv\n",
      "文件不存在: \\\\znas\\Main\\futures\\2025-01-30\\2025-01-30_SHELLUSDT_USDT_1m.csv\n",
      "文件不存在: \\\\znas\\Main\\futures\\2025-01-31\\2025-01-31_SHELLUSDT_USDT_1m.csv\n",
      "文件不存在: \\\\znas\\Main\\futures\\2025-02-01\\2025-02-01_SHELLUSDT_USDT_1m.csv\n",
      "文件不存在: \\\\znas\\Main\\futures\\2025-02-02\\2025-02-02_SHELLUSDT_USDT_1m.csv\n",
      "文件不存在: \\\\znas\\Main\\futures\\2025-02-03\\2025-02-03_SHELLUSDT_USDT_1m.csv\n",
      "文件不存在: \\\\znas\\Main\\futures\\2025-02-04\\2025-02-04_SHELLUSDT_USDT_1m.csv\n",
      "文件不存在: \\\\znas\\Main\\futures\\2025-02-05\\2025-02-05_SHELLUSDT_USDT_1m.csv\n",
      "文件不存在: \\\\znas\\Main\\futures\\2025-02-06\\2025-02-06_SHELLUSDT_USDT_1m.csv\n",
      "文件不存在: \\\\znas\\Main\\futures\\2025-02-07\\2025-02-07_SHELLUSDT_USDT_1m.csv\n",
      "文件不存在: \\\\znas\\Main\\futures\\2025-02-08\\2025-02-08_SHELLUSDT_USDT_1m.csv\n",
      "处理任务出错: 未找到 SHELLUSDT 在指定日期范围内的数据\n",
      "文件不存在: \\\\znas\\Main\\futures\\2024-01-01\\2024-01-01_GPSUSDT_USDT_1m.csv\n",
      "文件不存在: \\\\znas\\Main\\futures\\2024-01-02\\2024-01-02_GPSUSDT_USDT_1m.csv\n",
      "文件不存在: \\\\znas\\Main\\futures\\2024-01-03\\2024-01-03_GPSUSDT_USDT_1m.csv\n",
      "文件不存在: \\\\znas\\Main\\futures\\2024-01-04\\2024-01-04_GPSUSDT_USDT_1m.csv\n",
      "文件不存在: \\\\znas\\Main\\futures\\2024-01-05\\2024-01-05_GPSUSDT_USDT_1m.csv\n",
      "文件不存在: \\\\znas\\Main\\futures\\2024-01-06\\2024-01-06_GPSUSDT_USDT_1m.csv\n",
      "文件不存在: \\\\znas\\Main\\futures\\2024-01-07\\2024-01-07_GPSUSDT_USDT_1m.csv\n",
      "文件不存在: \\\\znas\\Main\\futures\\2024-01-08\\2024-01-08_GPSUSDT_USDT_1m.csv\n",
      "文件不存在: \\\\znas\\Main\\futures\\2024-01-09\\2024-01-09_GPSUSDT_USDT_1m.csv\n",
      "文件不存在: \\\\znas\\Main\\futures\\2024-01-10\\2024-01-10_GPSUSDT_USDT_1m.csv\n",
      "文件不存在: \\\\znas\\Main\\futures\\2024-01-11\\2024-01-11_GPSUSDT_USDT_1m.csv\n",
      "文件不存在: \\\\znas\\Main\\futures\\2024-01-12\\2024-01-12_GPSUSDT_USDT_1m.csv\n",
      "文件不存在: \\\\znas\\Main\\futures\\2024-01-13\\2024-01-13_GPSUSDT_USDT_1m.csv\n",
      "文件不存在: \\\\znas\\Main\\futures\\2024-01-14\\2024-01-14_GPSUSDT_USDT_1m.csv\n",
      "文件不存在: \\\\znas\\Main\\futures\\2024-01-15\\2024-01-15_GPSUSDT_USDT_1m.csv\n",
      "文件不存在: \\\\znas\\Main\\futures\\2024-01-16\\2024-01-16_GPSUSDT_USDT_1m.csv\n",
      "文件不存在: \\\\znas\\Main\\futures\\2024-01-17\\2024-01-17_GPSUSDT_USDT_1m.csv\n",
      "文件不存在: \\\\znas\\Main\\futures\\2024-01-18\\2024-01-18_GPSUSDT_USDT_1m.csv\n",
      "文件不存在: \\\\znas\\Main\\futures\\2024-01-19\\2024-01-19_GPSUSDT_USDT_1m.csv\n",
      "文件不存在: \\\\znas\\Main\\futures\\2024-01-20\\2024-01-20_GPSUSDT_USDT_1m.csv\n",
      "文件不存在: \\\\znas\\Main\\futures\\2024-01-21\\2024-01-21_GPSUSDT_USDT_1m.csv\n",
      "文件不存在: \\\\znas\\Main\\futures\\2024-01-22\\2024-01-22_GPSUSDT_USDT_1m.csv\n",
      "文件不存在: \\\\znas\\Main\\futures\\2024-01-23\\2024-01-23_GPSUSDT_USDT_1m.csv\n",
      "文件不存在: \\\\znas\\Main\\futures\\2024-01-24\\2024-01-24_GPSUSDT_USDT_1m.csv\n",
      "文件不存在: \\\\znas\\Main\\futures\\2024-01-25\\2024-01-25_GPSUSDT_USDT_1m.csv\n",
      "文件不存在: \\\\znas\\Main\\futures\\2024-01-26\\2024-01-26_GPSUSDT_USDT_1m.csv\n",
      "文件不存在: \\\\znas\\Main\\futures\\2024-01-27\\2024-01-27_GPSUSDT_USDT_1m.csv\n",
      "文件不存在: \\\\znas\\Main\\futures\\2024-01-28\\2024-01-28_GPSUSDT_USDT_1m.csv\n",
      "文件不存在: \\\\znas\\Main\\futures\\2024-01-29\\2024-01-29_GPSUSDT_USDT_1m.csv\n",
      "文件不存在: \\\\znas\\Main\\futures\\2024-01-30\\2024-01-30_GPSUSDT_USDT_1m.csv\n",
      "文件不存在: \\\\znas\\Main\\futures\\2024-01-31\\2024-01-31_GPSUSDT_USDT_1m.csv\n",
      "文件不存在: \\\\znas\\Main\\futures\\2024-02-01\\2024-02-01_GPSUSDT_USDT_1m.csv\n",
      "文件不存在: \\\\znas\\Main\\futures\\2024-02-02\\2024-02-02_GPSUSDT_USDT_1m.csv\n",
      "文件不存在: \\\\znas\\Main\\futures\\2024-02-03\\2024-02-03_GPSUSDT_USDT_1m.csv\n",
      "文件不存在: \\\\znas\\Main\\futures\\2024-02-04\\2024-02-04_GPSUSDT_USDT_1m.csv\n",
      "文件不存在: \\\\znas\\Main\\futures\\2024-02-05\\2024-02-05_GPSUSDT_USDT_1m.csv\n",
      "文件不存在: \\\\znas\\Main\\futures\\2024-02-06\\2024-02-06_GPSUSDT_USDT_1m.csv\n",
      "文件不存在: \\\\znas\\Main\\futures\\2024-02-07\\2024-02-07_GPSUSDT_USDT_1m.csv\n",
      "文件不存在: \\\\znas\\Main\\futures\\2024-02-08\\2024-02-08_GPSUSDT_USDT_1m.csv\n",
      "文件不存在: \\\\znas\\Main\\futures\\2024-02-09\\2024-02-09_GPSUSDT_USDT_1m.csv\n",
      "文件不存在: \\\\znas\\Main\\futures\\2024-02-10\\2024-02-10_GPSUSDT_USDT_1m.csv\n",
      "文件不存在: \\\\znas\\Main\\futures\\2024-02-11\\2024-02-11_GPSUSDT_USDT_1m.csv\n",
      "文件不存在: \\\\znas\\Main\\futures\\2024-02-12\\2024-02-12_GPSUSDT_USDT_1m.csv\n",
      "文件不存在: \\\\znas\\Main\\futures\\2024-02-13\\2024-02-13_GPSUSDT_USDT_1m.csv\n",
      "文件不存在: \\\\znas\\Main\\futures\\2024-02-14\\2024-02-14_GPSUSDT_USDT_1m.csv\n",
      "文件不存在: \\\\znas\\Main\\futures\\2024-02-15\\2024-02-15_GPSUSDT_USDT_1m.csv\n",
      "文件不存在: \\\\znas\\Main\\futures\\2024-02-16\\2024-02-16_GPSUSDT_USDT_1m.csv\n",
      "文件不存在: \\\\znas\\Main\\futures\\2024-02-17\\2024-02-17_GPSUSDT_USDT_1m.csv\n",
      "文件不存在: \\\\znas\\Main\\futures\\2024-02-18\\2024-02-18_GPSUSDT_USDT_1m.csv\n",
      "文件不存在: \\\\znas\\Main\\futures\\2024-02-19\\2024-02-19_GPSUSDT_USDT_1m.csv\n",
      "文件不存在: \\\\znas\\Main\\futures\\2024-02-20\\2024-02-20_GPSUSDT_USDT_1m.csv\n",
      "文件不存在: \\\\znas\\Main\\futures\\2024-02-21\\2024-02-21_GPSUSDT_USDT_1m.csv\n",
      "文件不存在: \\\\znas\\Main\\futures\\2024-02-22\\2024-02-22_GPSUSDT_USDT_1m.csv\n",
      "文件不存在: \\\\znas\\Main\\futures\\2024-02-23\\2024-02-23_GPSUSDT_USDT_1m.csv\n",
      "文件不存在: \\\\znas\\Main\\futures\\2024-02-24\\2024-02-24_GPSUSDT_USDT_1m.csv\n",
      "文件不存在: \\\\znas\\Main\\futures\\2024-02-25\\2024-02-25_GPSUSDT_USDT_1m.csv\n",
      "文件不存在: \\\\znas\\Main\\futures\\2024-02-26\\2024-02-26_GPSUSDT_USDT_1m.csv\n",
      "文件不存在: \\\\znas\\Main\\futures\\2024-02-27\\2024-02-27_GPSUSDT_USDT_1m.csv\n",
      "文件不存在: \\\\znas\\Main\\futures\\2024-02-28\\2024-02-28_GPSUSDT_USDT_1m.csv\n",
      "文件不存在: \\\\znas\\Main\\futures\\2024-02-29\\2024-02-29_GPSUSDT_USDT_1m.csv\n",
      "文件不存在: \\\\znas\\Main\\futures\\2024-03-01\\2024-03-01_GPSUSDT_USDT_1m.csv\n",
      "文件不存在: \\\\znas\\Main\\futures\\2024-03-02\\2024-03-02_GPSUSDT_USDT_1m.csv\n",
      "文件不存在: \\\\znas\\Main\\futures\\2024-03-03\\2024-03-03_GPSUSDT_USDT_1m.csv\n",
      "文件不存在: \\\\znas\\Main\\futures\\2024-03-04\\2024-03-04_GPSUSDT_USDT_1m.csv\n",
      "文件不存在: \\\\znas\\Main\\futures\\2024-03-05\\2024-03-05_GPSUSDT_USDT_1m.csv\n",
      "文件不存在: \\\\znas\\Main\\futures\\2024-03-06\\2024-03-06_GPSUSDT_USDT_1m.csv\n",
      "文件不存在: \\\\znas\\Main\\futures\\2024-03-07\\2024-03-07_GPSUSDT_USDT_1m.csv\n",
      "文件不存在: \\\\znas\\Main\\futures\\2024-03-08\\2024-03-08_GPSUSDT_USDT_1m.csv\n",
      "文件不存在: \\\\znas\\Main\\futures\\2024-03-09\\2024-03-09_GPSUSDT_USDT_1m.csv\n",
      "文件不存在: \\\\znas\\Main\\futures\\2024-03-10\\2024-03-10_GPSUSDT_USDT_1m.csv\n",
      "文件不存在: \\\\znas\\Main\\futures\\2024-03-11\\2024-03-11_GPSUSDT_USDT_1m.csv\n",
      "文件不存在: \\\\znas\\Main\\futures\\2024-03-12\\2024-03-12_GPSUSDT_USDT_1m.csv\n",
      "文件不存在: \\\\znas\\Main\\futures\\2024-03-13\\2024-03-13_GPSUSDT_USDT_1m.csv\n",
      "文件不存在: \\\\znas\\Main\\futures\\2024-03-14\\2024-03-14_GPSUSDT_USDT_1m.csv\n",
      "文件不存在: \\\\znas\\Main\\futures\\2024-03-15\\2024-03-15_GPSUSDT_USDT_1m.csv\n",
      "文件不存在: \\\\znas\\Main\\futures\\2024-03-16\\2024-03-16_GPSUSDT_USDT_1m.csv\n",
      "文件不存在: \\\\znas\\Main\\futures\\2024-03-17\\2024-03-17_GPSUSDT_USDT_1m.csv\n",
      "文件不存在: \\\\znas\\Main\\futures\\2024-03-18\\2024-03-18_GPSUSDT_USDT_1m.csv\n",
      "文件不存在: \\\\znas\\Main\\futures\\2024-03-19\\2024-03-19_GPSUSDT_USDT_1m.csv\n",
      "文件不存在: \\\\znas\\Main\\futures\\2024-03-20\\2024-03-20_GPSUSDT_USDT_1m.csv\n",
      "文件不存在: \\\\znas\\Main\\futures\\2024-03-21\\2024-03-21_GPSUSDT_USDT_1m.csv\n",
      "文件不存在: \\\\znas\\Main\\futures\\2024-03-22\\2024-03-22_GPSUSDT_USDT_1m.csv\n",
      "文件不存在: \\\\znas\\Main\\futures\\2024-03-23\\2024-03-23_GPSUSDT_USDT_1m.csv\n",
      "文件不存在: \\\\znas\\Main\\futures\\2024-03-24\\2024-03-24_GPSUSDT_USDT_1m.csv\n",
      "文件不存在: \\\\znas\\Main\\futures\\2024-03-25\\2024-03-25_GPSUSDT_USDT_1m.csv\n",
      "文件不存在: \\\\znas\\Main\\futures\\2024-03-26\\2024-03-26_GPSUSDT_USDT_1m.csv\n",
      "文件不存在: \\\\znas\\Main\\futures\\2024-03-27\\2024-03-27_GPSUSDT_USDT_1m.csv\n",
      "文件不存在: \\\\znas\\Main\\futures\\2024-03-28\\2024-03-28_GPSUSDT_USDT_1m.csv\n",
      "文件不存在: \\\\znas\\Main\\futures\\2024-03-29\\2024-03-29_GPSUSDT_USDT_1m.csv\n",
      "文件不存在: \\\\znas\\Main\\futures\\2024-03-30\\2024-03-30_GPSUSDT_USDT_1m.csv\n",
      "文件不存在: \\\\znas\\Main\\futures\\2024-03-31\\2024-03-31_GPSUSDT_USDT_1m.csv\n",
      "文件不存在: \\\\znas\\Main\\futures\\2024-04-01\\2024-04-01_GPSUSDT_USDT_1m.csv\n",
      "文件不存在: \\\\znas\\Main\\futures\\2024-04-02\\2024-04-02_GPSUSDT_USDT_1m.csv\n",
      "文件不存在: \\\\znas\\Main\\futures\\2024-04-03\\2024-04-03_GPSUSDT_USDT_1m.csv\n",
      "文件不存在: \\\\znas\\Main\\futures\\2024-04-04\\2024-04-04_GPSUSDT_USDT_1m.csv\n",
      "文件不存在: \\\\znas\\Main\\futures\\2024-04-05\\2024-04-05_GPSUSDT_USDT_1m.csv\n",
      "文件不存在: \\\\znas\\Main\\futures\\2024-04-06\\2024-04-06_GPSUSDT_USDT_1m.csv\n",
      "文件不存在: \\\\znas\\Main\\futures\\2024-04-07\\2024-04-07_GPSUSDT_USDT_1m.csv\n",
      "文件不存在: \\\\znas\\Main\\futures\\2024-04-08\\2024-04-08_GPSUSDT_USDT_1m.csv\n",
      "文件不存在: \\\\znas\\Main\\futures\\2024-04-09\\2024-04-09_GPSUSDT_USDT_1m.csv\n",
      "文件不存在: \\\\znas\\Main\\futures\\2024-04-10\\2024-04-10_GPSUSDT_USDT_1m.csv\n",
      "文件不存在: \\\\znas\\Main\\futures\\2024-04-11\\2024-04-11_GPSUSDT_USDT_1m.csv\n",
      "文件不存在: \\\\znas\\Main\\futures\\2024-04-12\\2024-04-12_GPSUSDT_USDT_1m.csv\n",
      "文件不存在: \\\\znas\\Main\\futures\\2024-04-13\\2024-04-13_GPSUSDT_USDT_1m.csv\n",
      "文件不存在: \\\\znas\\Main\\futures\\2024-04-14\\2024-04-14_GPSUSDT_USDT_1m.csv\n",
      "文件不存在: \\\\znas\\Main\\futures\\2024-04-15\\2024-04-15_GPSUSDT_USDT_1m.csv\n",
      "文件不存在: \\\\znas\\Main\\futures\\2024-04-16\\2024-04-16_GPSUSDT_USDT_1m.csv\n",
      "文件不存在: \\\\znas\\Main\\futures\\2024-04-17\\2024-04-17_GPSUSDT_USDT_1m.csv\n",
      "文件不存在: \\\\znas\\Main\\futures\\2024-04-18\\2024-04-18_GPSUSDT_USDT_1m.csv\n",
      "文件不存在: \\\\znas\\Main\\futures\\2024-04-19\\2024-04-19_GPSUSDT_USDT_1m.csv\n",
      "文件不存在: \\\\znas\\Main\\futures\\2024-04-20\\2024-04-20_GPSUSDT_USDT_1m.csv\n",
      "文件不存在: \\\\znas\\Main\\futures\\2024-04-21\\2024-04-21_GPSUSDT_USDT_1m.csv\n",
      "文件不存在: \\\\znas\\Main\\futures\\2024-04-22\\2024-04-22_GPSUSDT_USDT_1m.csv\n",
      "文件不存在: \\\\znas\\Main\\futures\\2024-04-23\\2024-04-23_GPSUSDT_USDT_1m.csv\n",
      "文件不存在: \\\\znas\\Main\\futures\\2024-04-24\\2024-04-24_GPSUSDT_USDT_1m.csv\n",
      "文件不存在: \\\\znas\\Main\\futures\\2024-04-25\\2024-04-25_GPSUSDT_USDT_1m.csv\n",
      "文件不存在: \\\\znas\\Main\\futures\\2024-04-26\\2024-04-26_GPSUSDT_USDT_1m.csv\n",
      "文件不存在: \\\\znas\\Main\\futures\\2024-04-27\\2024-04-27_GPSUSDT_USDT_1m.csv\n",
      "文件不存在: \\\\znas\\Main\\futures\\2024-04-28\\2024-04-28_GPSUSDT_USDT_1m.csv\n",
      "文件不存在: \\\\znas\\Main\\futures\\2024-04-29\\2024-04-29_GPSUSDT_USDT_1m.csv\n",
      "文件不存在: \\\\znas\\Main\\futures\\2024-04-30\\2024-04-30_GPSUSDT_USDT_1m.csv\n",
      "文件不存在: \\\\znas\\Main\\futures\\2024-05-01\\2024-05-01_GPSUSDT_USDT_1m.csv\n",
      "文件不存在: \\\\znas\\Main\\futures\\2024-05-02\\2024-05-02_GPSUSDT_USDT_1m.csv\n",
      "文件不存在: \\\\znas\\Main\\futures\\2024-05-03\\2024-05-03_GPSUSDT_USDT_1m.csv\n",
      "文件不存在: \\\\znas\\Main\\futures\\2024-05-04\\2024-05-04_GPSUSDT_USDT_1m.csv\n",
      "文件不存在: \\\\znas\\Main\\futures\\2024-05-05\\2024-05-05_GPSUSDT_USDT_1m.csv\n",
      "文件不存在: \\\\znas\\Main\\futures\\2024-05-06\\2024-05-06_GPSUSDT_USDT_1m.csv\n",
      "文件不存在: \\\\znas\\Main\\futures\\2024-05-07\\2024-05-07_GPSUSDT_USDT_1m.csv\n",
      "文件不存在: \\\\znas\\Main\\futures\\2024-05-08\\2024-05-08_GPSUSDT_USDT_1m.csv\n",
      "文件不存在: \\\\znas\\Main\\futures\\2024-05-09\\2024-05-09_GPSUSDT_USDT_1m.csv\n",
      "文件不存在: \\\\znas\\Main\\futures\\2024-05-10\\2024-05-10_GPSUSDT_USDT_1m.csv\n",
      "文件不存在: \\\\znas\\Main\\futures\\2024-05-11\\2024-05-11_GPSUSDT_USDT_1m.csv\n",
      "文件不存在: \\\\znas\\Main\\futures\\2024-05-12\\2024-05-12_GPSUSDT_USDT_1m.csv\n",
      "文件不存在: \\\\znas\\Main\\futures\\2024-05-13\\2024-05-13_GPSUSDT_USDT_1m.csv\n",
      "文件不存在: \\\\znas\\Main\\futures\\2024-05-14\\2024-05-14_GPSUSDT_USDT_1m.csv\n",
      "文件不存在: \\\\znas\\Main\\futures\\2024-05-15\\2024-05-15_GPSUSDT_USDT_1m.csv\n",
      "文件不存在: \\\\znas\\Main\\futures\\2024-05-16\\2024-05-16_GPSUSDT_USDT_1m.csv\n",
      "文件不存在: \\\\znas\\Main\\futures\\2024-05-17\\2024-05-17_GPSUSDT_USDT_1m.csv\n",
      "文件不存在: \\\\znas\\Main\\futures\\2024-05-18\\2024-05-18_GPSUSDT_USDT_1m.csv\n",
      "文件不存在: \\\\znas\\Main\\futures\\2024-05-19\\2024-05-19_GPSUSDT_USDT_1m.csv\n",
      "文件不存在: \\\\znas\\Main\\futures\\2024-05-20\\2024-05-20_GPSUSDT_USDT_1m.csv\n",
      "文件不存在: \\\\znas\\Main\\futures\\2024-05-21\\2024-05-21_GPSUSDT_USDT_1m.csv\n",
      "文件不存在: \\\\znas\\Main\\futures\\2024-05-22\\2024-05-22_GPSUSDT_USDT_1m.csv\n",
      "文件不存在: \\\\znas\\Main\\futures\\2024-05-23\\2024-05-23_GPSUSDT_USDT_1m.csv\n",
      "文件不存在: \\\\znas\\Main\\futures\\2024-05-24\\2024-05-24_GPSUSDT_USDT_1m.csv\n",
      "文件不存在: \\\\znas\\Main\\futures\\2024-05-25\\2024-05-25_GPSUSDT_USDT_1m.csv\n",
      "文件不存在: \\\\znas\\Main\\futures\\2024-05-26\\2024-05-26_GPSUSDT_USDT_1m.csv\n",
      "文件不存在: \\\\znas\\Main\\futures\\2024-05-27\\2024-05-27_GPSUSDT_USDT_1m.csv\n",
      "文件不存在: \\\\znas\\Main\\futures\\2024-05-28\\2024-05-28_GPSUSDT_USDT_1m.csv\n",
      "文件不存在: \\\\znas\\Main\\futures\\2024-05-29\\2024-05-29_GPSUSDT_USDT_1m.csv\n",
      "文件不存在: \\\\znas\\Main\\futures\\2024-05-30\\2024-05-30_GPSUSDT_USDT_1m.csv\n",
      "文件不存在: \\\\znas\\Main\\futures\\2024-05-31\\2024-05-31_GPSUSDT_USDT_1m.csv\n",
      "文件不存在: \\\\znas\\Main\\futures\\2024-06-01\\2024-06-01_GPSUSDT_USDT_1m.csv\n",
      "文件不存在: \\\\znas\\Main\\futures\\2024-06-02\\2024-06-02_GPSUSDT_USDT_1m.csv\n",
      "文件不存在: \\\\znas\\Main\\futures\\2024-06-03\\2024-06-03_GPSUSDT_USDT_1m.csv\n",
      "文件不存在: \\\\znas\\Main\\futures\\2024-06-04\\2024-06-04_GPSUSDT_USDT_1m.csv\n",
      "文件不存在: \\\\znas\\Main\\futures\\2024-06-05\\2024-06-05_GPSUSDT_USDT_1m.csv\n",
      "文件不存在: \\\\znas\\Main\\futures\\2024-06-06\\2024-06-06_GPSUSDT_USDT_1m.csv\n",
      "文件不存在: \\\\znas\\Main\\futures\\2024-06-07\\2024-06-07_GPSUSDT_USDT_1m.csv\n",
      "文件不存在: \\\\znas\\Main\\futures\\2024-06-08\\2024-06-08_GPSUSDT_USDT_1m.csv\n",
      "文件不存在: \\\\znas\\Main\\futures\\2024-06-09\\2024-06-09_GPSUSDT_USDT_1m.csv\n",
      "文件不存在: \\\\znas\\Main\\futures\\2024-06-10\\2024-06-10_GPSUSDT_USDT_1m.csv\n",
      "文件不存在: \\\\znas\\Main\\futures\\2024-06-11\\2024-06-11_GPSUSDT_USDT_1m.csv\n",
      "文件不存在: \\\\znas\\Main\\futures\\2024-06-12\\2024-06-12_GPSUSDT_USDT_1m.csv\n",
      "文件不存在: \\\\znas\\Main\\futures\\2024-06-13\\2024-06-13_GPSUSDT_USDT_1m.csv\n",
      "文件不存在: \\\\znas\\Main\\futures\\2024-06-14\\2024-06-14_GPSUSDT_USDT_1m.csv\n",
      "文件不存在: \\\\znas\\Main\\futures\\2024-06-15\\2024-06-15_GPSUSDT_USDT_1m.csv\n",
      "文件不存在: \\\\znas\\Main\\futures\\2024-06-16\\2024-06-16_GPSUSDT_USDT_1m.csv\n",
      "文件不存在: \\\\znas\\Main\\futures\\2024-06-17\\2024-06-17_GPSUSDT_USDT_1m.csv\n",
      "文件不存在: \\\\znas\\Main\\futures\\2024-06-18\\2024-06-18_GPSUSDT_USDT_1m.csv\n",
      "文件不存在: \\\\znas\\Main\\futures\\2024-06-19\\2024-06-19_GPSUSDT_USDT_1m.csv\n",
      "文件不存在: \\\\znas\\Main\\futures\\2024-06-20\\2024-06-20_GPSUSDT_USDT_1m.csv\n",
      "文件不存在: \\\\znas\\Main\\futures\\2024-06-21\\2024-06-21_GPSUSDT_USDT_1m.csv\n",
      "文件不存在: \\\\znas\\Main\\futures\\2024-06-22\\2024-06-22_GPSUSDT_USDT_1m.csv\n",
      "文件不存在: \\\\znas\\Main\\futures\\2024-06-23\\2024-06-23_GPSUSDT_USDT_1m.csv\n",
      "文件不存在: \\\\znas\\Main\\futures\\2024-06-24\\2024-06-24_GPSUSDT_USDT_1m.csv\n",
      "文件不存在: \\\\znas\\Main\\futures\\2024-06-25\\2024-06-25_GPSUSDT_USDT_1m.csv\n",
      "文件不存在: \\\\znas\\Main\\futures\\2024-06-26\\2024-06-26_GPSUSDT_USDT_1m.csv\n",
      "文件不存在: \\\\znas\\Main\\futures\\2024-06-27\\2024-06-27_GPSUSDT_USDT_1m.csv\n",
      "文件不存在: \\\\znas\\Main\\futures\\2024-06-28\\2024-06-28_GPSUSDT_USDT_1m.csv\n",
      "文件不存在: \\\\znas\\Main\\futures\\2024-06-29\\2024-06-29_GPSUSDT_USDT_1m.csv\n",
      "文件不存在: \\\\znas\\Main\\futures\\2024-06-30\\2024-06-30_GPSUSDT_USDT_1m.csv\n",
      "文件不存在: \\\\znas\\Main\\futures\\2024-07-01\\2024-07-01_GPSUSDT_USDT_1m.csv\n",
      "文件不存在: \\\\znas\\Main\\futures\\2024-07-02\\2024-07-02_GPSUSDT_USDT_1m.csv\n",
      "文件不存在: \\\\znas\\Main\\futures\\2024-07-03\\2024-07-03_GPSUSDT_USDT_1m.csv\n",
      "文件不存在: \\\\znas\\Main\\futures\\2024-07-04\\2024-07-04_GPSUSDT_USDT_1m.csv\n",
      "文件不存在: \\\\znas\\Main\\futures\\2024-07-05\\2024-07-05_GPSUSDT_USDT_1m.csv\n",
      "文件不存在: \\\\znas\\Main\\futures\\2024-07-06\\2024-07-06_GPSUSDT_USDT_1m.csv\n",
      "文件不存在: \\\\znas\\Main\\futures\\2024-07-07\\2024-07-07_GPSUSDT_USDT_1m.csv\n",
      "文件不存在: \\\\znas\\Main\\futures\\2024-07-08\\2024-07-08_GPSUSDT_USDT_1m.csv\n",
      "文件不存在: \\\\znas\\Main\\futures\\2024-07-09\\2024-07-09_GPSUSDT_USDT_1m.csv\n",
      "文件不存在: \\\\znas\\Main\\futures\\2024-07-10\\2024-07-10_GPSUSDT_USDT_1m.csv\n",
      "文件不存在: \\\\znas\\Main\\futures\\2024-07-11\\2024-07-11_GPSUSDT_USDT_1m.csv\n",
      "文件不存在: \\\\znas\\Main\\futures\\2024-07-12\\2024-07-12_GPSUSDT_USDT_1m.csv\n",
      "文件不存在: \\\\znas\\Main\\futures\\2024-07-13\\2024-07-13_GPSUSDT_USDT_1m.csv\n",
      "文件不存在: \\\\znas\\Main\\futures\\2024-07-14\\2024-07-14_GPSUSDT_USDT_1m.csv\n",
      "文件不存在: \\\\znas\\Main\\futures\\2024-07-15\\2024-07-15_GPSUSDT_USDT_1m.csv\n",
      "文件不存在: \\\\znas\\Main\\futures\\2024-07-16\\2024-07-16_GPSUSDT_USDT_1m.csv\n",
      "文件不存在: \\\\znas\\Main\\futures\\2024-07-17\\2024-07-17_GPSUSDT_USDT_1m.csv\n",
      "文件不存在: \\\\znas\\Main\\futures\\2024-07-18\\2024-07-18_GPSUSDT_USDT_1m.csv\n",
      "文件不存在: \\\\znas\\Main\\futures\\2024-07-19\\2024-07-19_GPSUSDT_USDT_1m.csv\n",
      "文件不存在: \\\\znas\\Main\\futures\\2024-07-20\\2024-07-20_GPSUSDT_USDT_1m.csv\n",
      "文件不存在: \\\\znas\\Main\\futures\\2024-07-21\\2024-07-21_GPSUSDT_USDT_1m.csv\n",
      "文件不存在: \\\\znas\\Main\\futures\\2024-07-22\\2024-07-22_GPSUSDT_USDT_1m.csv\n",
      "文件不存在: \\\\znas\\Main\\futures\\2024-07-23\\2024-07-23_GPSUSDT_USDT_1m.csv\n",
      "文件不存在: \\\\znas\\Main\\futures\\2024-07-24\\2024-07-24_GPSUSDT_USDT_1m.csv\n",
      "文件不存在: \\\\znas\\Main\\futures\\2024-07-25\\2024-07-25_GPSUSDT_USDT_1m.csv\n",
      "文件不存在: \\\\znas\\Main\\futures\\2024-07-26\\2024-07-26_GPSUSDT_USDT_1m.csv\n",
      "文件不存在: \\\\znas\\Main\\futures\\2024-07-27\\2024-07-27_GPSUSDT_USDT_1m.csv\n",
      "文件不存在: \\\\znas\\Main\\futures\\2024-07-28\\2024-07-28_GPSUSDT_USDT_1m.csv\n",
      "文件不存在: \\\\znas\\Main\\futures\\2024-07-29\\2024-07-29_GPSUSDT_USDT_1m.csv\n",
      "文件不存在: \\\\znas\\Main\\futures\\2024-07-30\\2024-07-30_GPSUSDT_USDT_1m.csv\n",
      "文件不存在: \\\\znas\\Main\\futures\\2024-07-31\\2024-07-31_GPSUSDT_USDT_1m.csv\n",
      "文件不存在: \\\\znas\\Main\\futures\\2024-08-01\\2024-08-01_GPSUSDT_USDT_1m.csv\n",
      "文件不存在: \\\\znas\\Main\\futures\\2024-08-02\\2024-08-02_GPSUSDT_USDT_1m.csv\n",
      "文件不存在: \\\\znas\\Main\\futures\\2024-08-03\\2024-08-03_GPSUSDT_USDT_1m.csv\n",
      "文件不存在: \\\\znas\\Main\\futures\\2024-08-04\\2024-08-04_GPSUSDT_USDT_1m.csv\n",
      "文件不存在: \\\\znas\\Main\\futures\\2024-08-05\\2024-08-05_GPSUSDT_USDT_1m.csv\n",
      "文件不存在: \\\\znas\\Main\\futures\\2024-08-06\\2024-08-06_GPSUSDT_USDT_1m.csv\n",
      "文件不存在: \\\\znas\\Main\\futures\\2024-08-07\\2024-08-07_GPSUSDT_USDT_1m.csv\n",
      "文件不存在: \\\\znas\\Main\\futures\\2024-08-08\\2024-08-08_GPSUSDT_USDT_1m.csv\n",
      "文件不存在: \\\\znas\\Main\\futures\\2024-08-09\\2024-08-09_GPSUSDT_USDT_1m.csv\n",
      "文件不存在: \\\\znas\\Main\\futures\\2024-08-10\\2024-08-10_GPSUSDT_USDT_1m.csv\n",
      "文件不存在: \\\\znas\\Main\\futures\\2024-08-11\\2024-08-11_GPSUSDT_USDT_1m.csv\n",
      "文件不存在: \\\\znas\\Main\\futures\\2024-08-12\\2024-08-12_GPSUSDT_USDT_1m.csv\n",
      "文件不存在: \\\\znas\\Main\\futures\\2024-08-13\\2024-08-13_GPSUSDT_USDT_1m.csv\n",
      "文件不存在: \\\\znas\\Main\\futures\\2024-08-14\\2024-08-14_GPSUSDT_USDT_1m.csv\n",
      "文件不存在: \\\\znas\\Main\\futures\\2024-08-15\\2024-08-15_GPSUSDT_USDT_1m.csv\n",
      "文件不存在: \\\\znas\\Main\\futures\\2024-08-16\\2024-08-16_GPSUSDT_USDT_1m.csv\n",
      "文件不存在: \\\\znas\\Main\\futures\\2024-08-17\\2024-08-17_GPSUSDT_USDT_1m.csv\n",
      "文件不存在: \\\\znas\\Main\\futures\\2024-08-18\\2024-08-18_GPSUSDT_USDT_1m.csv\n",
      "文件不存在: \\\\znas\\Main\\futures\\2024-08-19\\2024-08-19_GPSUSDT_USDT_1m.csv\n",
      "文件不存在: \\\\znas\\Main\\futures\\2024-08-20\\2024-08-20_GPSUSDT_USDT_1m.csv\n",
      "文件不存在: \\\\znas\\Main\\futures\\2024-08-21\\2024-08-21_GPSUSDT_USDT_1m.csv\n",
      "文件不存在: \\\\znas\\Main\\futures\\2024-08-22\\2024-08-22_GPSUSDT_USDT_1m.csv\n",
      "文件不存在: \\\\znas\\Main\\futures\\2024-08-23\\2024-08-23_GPSUSDT_USDT_1m.csv\n",
      "文件不存在: \\\\znas\\Main\\futures\\2024-08-24\\2024-08-24_GPSUSDT_USDT_1m.csv\n",
      "文件不存在: \\\\znas\\Main\\futures\\2024-08-25\\2024-08-25_GPSUSDT_USDT_1m.csv\n",
      "文件不存在: \\\\znas\\Main\\futures\\2024-08-26\\2024-08-26_GPSUSDT_USDT_1m.csv\n",
      "文件不存在: \\\\znas\\Main\\futures\\2024-08-27\\2024-08-27_GPSUSDT_USDT_1m.csv\n",
      "文件不存在: \\\\znas\\Main\\futures\\2024-08-28\\2024-08-28_GPSUSDT_USDT_1m.csv\n",
      "文件不存在: \\\\znas\\Main\\futures\\2024-08-29\\2024-08-29_GPSUSDT_USDT_1m.csv\n",
      "文件不存在: \\\\znas\\Main\\futures\\2024-08-30\\2024-08-30_GPSUSDT_USDT_1m.csv\n",
      "文件不存在: \\\\znas\\Main\\futures\\2024-08-31\\2024-08-31_GPSUSDT_USDT_1m.csv\n",
      "文件不存在: \\\\znas\\Main\\futures\\2024-09-01\\2024-09-01_GPSUSDT_USDT_1m.csv\n",
      "文件不存在: \\\\znas\\Main\\futures\\2024-09-02\\2024-09-02_GPSUSDT_USDT_1m.csv\n",
      "文件不存在: \\\\znas\\Main\\futures\\2024-09-03\\2024-09-03_GPSUSDT_USDT_1m.csv\n",
      "文件不存在: \\\\znas\\Main\\futures\\2024-09-04\\2024-09-04_GPSUSDT_USDT_1m.csv\n",
      "文件不存在: \\\\znas\\Main\\futures\\2024-09-05\\2024-09-05_GPSUSDT_USDT_1m.csv\n",
      "文件不存在: \\\\znas\\Main\\futures\\2024-09-06\\2024-09-06_GPSUSDT_USDT_1m.csv\n",
      "文件不存在: \\\\znas\\Main\\futures\\2024-09-07\\2024-09-07_GPSUSDT_USDT_1m.csv\n",
      "文件不存在: \\\\znas\\Main\\futures\\2024-09-08\\2024-09-08_GPSUSDT_USDT_1m.csv\n",
      "文件不存在: \\\\znas\\Main\\futures\\2024-09-09\\2024-09-09_GPSUSDT_USDT_1m.csv\n",
      "文件不存在: \\\\znas\\Main\\futures\\2024-09-10\\2024-09-10_GPSUSDT_USDT_1m.csv\n",
      "文件不存在: \\\\znas\\Main\\futures\\2024-09-11\\2024-09-11_GPSUSDT_USDT_1m.csv\n",
      "文件不存在: \\\\znas\\Main\\futures\\2024-09-12\\2024-09-12_GPSUSDT_USDT_1m.csv\n",
      "文件不存在: \\\\znas\\Main\\futures\\2024-09-13\\2024-09-13_GPSUSDT_USDT_1m.csv\n",
      "文件不存在: \\\\znas\\Main\\futures\\2024-09-14\\2024-09-14_GPSUSDT_USDT_1m.csv\n",
      "文件不存在: \\\\znas\\Main\\futures\\2024-09-15\\2024-09-15_GPSUSDT_USDT_1m.csv\n",
      "文件不存在: \\\\znas\\Main\\futures\\2024-09-16\\2024-09-16_GPSUSDT_USDT_1m.csv\n",
      "文件不存在: \\\\znas\\Main\\futures\\2024-09-17\\2024-09-17_GPSUSDT_USDT_1m.csv\n",
      "文件不存在: \\\\znas\\Main\\futures\\2024-09-18\\2024-09-18_GPSUSDT_USDT_1m.csv\n",
      "文件不存在: \\\\znas\\Main\\futures\\2024-09-19\\2024-09-19_GPSUSDT_USDT_1m.csv\n",
      "文件不存在: \\\\znas\\Main\\futures\\2024-09-20\\2024-09-20_GPSUSDT_USDT_1m.csv\n",
      "文件不存在: \\\\znas\\Main\\futures\\2024-09-21\\2024-09-21_GPSUSDT_USDT_1m.csv\n",
      "文件不存在: \\\\znas\\Main\\futures\\2024-09-22\\2024-09-22_GPSUSDT_USDT_1m.csv\n",
      "文件不存在: \\\\znas\\Main\\futures\\2024-09-23\\2024-09-23_GPSUSDT_USDT_1m.csv\n",
      "文件不存在: \\\\znas\\Main\\futures\\2024-09-24\\2024-09-24_GPSUSDT_USDT_1m.csv\n",
      "文件不存在: \\\\znas\\Main\\futures\\2024-09-25\\2024-09-25_GPSUSDT_USDT_1m.csv\n",
      "文件不存在: \\\\znas\\Main\\futures\\2024-09-26\\2024-09-26_GPSUSDT_USDT_1m.csv\n",
      "文件不存在: \\\\znas\\Main\\futures\\2024-09-27\\2024-09-27_GPSUSDT_USDT_1m.csv\n",
      "文件不存在: \\\\znas\\Main\\futures\\2024-09-28\\2024-09-28_GPSUSDT_USDT_1m.csv\n",
      "文件不存在: \\\\znas\\Main\\futures\\2024-09-29\\2024-09-29_GPSUSDT_USDT_1m.csv\n",
      "文件不存在: \\\\znas\\Main\\futures\\2024-09-30\\2024-09-30_GPSUSDT_USDT_1m.csv\n",
      "文件不存在: \\\\znas\\Main\\futures\\2024-10-01\\2024-10-01_GPSUSDT_USDT_1m.csv\n",
      "文件不存在: \\\\znas\\Main\\futures\\2024-10-02\\2024-10-02_GPSUSDT_USDT_1m.csv\n",
      "文件不存在: \\\\znas\\Main\\futures\\2024-10-03\\2024-10-03_GPSUSDT_USDT_1m.csv\n",
      "文件不存在: \\\\znas\\Main\\futures\\2024-10-04\\2024-10-04_GPSUSDT_USDT_1m.csv\n",
      "文件不存在: \\\\znas\\Main\\futures\\2024-10-05\\2024-10-05_GPSUSDT_USDT_1m.csv\n",
      "文件不存在: \\\\znas\\Main\\futures\\2024-10-06\\2024-10-06_GPSUSDT_USDT_1m.csv\n",
      "文件不存在: \\\\znas\\Main\\futures\\2024-10-07\\2024-10-07_GPSUSDT_USDT_1m.csv\n",
      "文件不存在: \\\\znas\\Main\\futures\\2024-10-08\\2024-10-08_GPSUSDT_USDT_1m.csv\n",
      "文件不存在: \\\\znas\\Main\\futures\\2024-10-09\\2024-10-09_GPSUSDT_USDT_1m.csv\n",
      "文件不存在: \\\\znas\\Main\\futures\\2024-10-10\\2024-10-10_GPSUSDT_USDT_1m.csv\n",
      "文件不存在: \\\\znas\\Main\\futures\\2024-10-11\\2024-10-11_GPSUSDT_USDT_1m.csv\n",
      "文件不存在: \\\\znas\\Main\\futures\\2024-10-12\\2024-10-12_GPSUSDT_USDT_1m.csv\n",
      "文件不存在: \\\\znas\\Main\\futures\\2024-10-13\\2024-10-13_GPSUSDT_USDT_1m.csv\n",
      "文件不存在: \\\\znas\\Main\\futures\\2024-10-14\\2024-10-14_GPSUSDT_USDT_1m.csv\n",
      "文件不存在: \\\\znas\\Main\\futures\\2024-10-15\\2024-10-15_GPSUSDT_USDT_1m.csv\n",
      "文件不存在: \\\\znas\\Main\\futures\\2024-10-16\\2024-10-16_GPSUSDT_USDT_1m.csv\n",
      "文件不存在: \\\\znas\\Main\\futures\\2024-10-17\\2024-10-17_GPSUSDT_USDT_1m.csv\n",
      "文件不存在: \\\\znas\\Main\\futures\\2024-10-18\\2024-10-18_GPSUSDT_USDT_1m.csv\n",
      "文件不存在: \\\\znas\\Main\\futures\\2024-10-19\\2024-10-19_GPSUSDT_USDT_1m.csv\n",
      "文件不存在: \\\\znas\\Main\\futures\\2024-10-20\\2024-10-20_GPSUSDT_USDT_1m.csv\n",
      "文件不存在: \\\\znas\\Main\\futures\\2024-10-21\\2024-10-21_GPSUSDT_USDT_1m.csv\n",
      "文件不存在: \\\\znas\\Main\\futures\\2024-10-22\\2024-10-22_GPSUSDT_USDT_1m.csv\n",
      "文件不存在: \\\\znas\\Main\\futures\\2024-10-23\\2024-10-23_GPSUSDT_USDT_1m.csv\n",
      "文件不存在: \\\\znas\\Main\\futures\\2024-10-24\\2024-10-24_GPSUSDT_USDT_1m.csv\n",
      "文件不存在: \\\\znas\\Main\\futures\\2024-10-25\\2024-10-25_GPSUSDT_USDT_1m.csv\n",
      "文件不存在: \\\\znas\\Main\\futures\\2024-10-26\\2024-10-26_GPSUSDT_USDT_1m.csv\n",
      "文件不存在: \\\\znas\\Main\\futures\\2024-10-27\\2024-10-27_GPSUSDT_USDT_1m.csv\n",
      "文件不存在: \\\\znas\\Main\\futures\\2024-10-28\\2024-10-28_GPSUSDT_USDT_1m.csv\n",
      "文件不存在: \\\\znas\\Main\\futures\\2024-10-29\\2024-10-29_GPSUSDT_USDT_1m.csv\n",
      "文件不存在: \\\\znas\\Main\\futures\\2024-10-30\\2024-10-30_GPSUSDT_USDT_1m.csv\n",
      "文件不存在: \\\\znas\\Main\\futures\\2024-10-31\\2024-10-31_GPSUSDT_USDT_1m.csv\n",
      "文件不存在: \\\\znas\\Main\\futures\\2024-11-01\\2024-11-01_GPSUSDT_USDT_1m.csv\n",
      "文件不存在: \\\\znas\\Main\\futures\\2024-11-02\\2024-11-02_GPSUSDT_USDT_1m.csv\n",
      "文件不存在: \\\\znas\\Main\\futures\\2024-11-03\\2024-11-03_GPSUSDT_USDT_1m.csv\n",
      "文件不存在: \\\\znas\\Main\\futures\\2024-11-04\\2024-11-04_GPSUSDT_USDT_1m.csv\n",
      "文件不存在: \\\\znas\\Main\\futures\\2024-11-05\\2024-11-05_GPSUSDT_USDT_1m.csv\n",
      "文件不存在: \\\\znas\\Main\\futures\\2024-11-06\\2024-11-06_GPSUSDT_USDT_1m.csv\n",
      "文件不存在: \\\\znas\\Main\\futures\\2024-11-07\\2024-11-07_GPSUSDT_USDT_1m.csv\n",
      "文件不存在: \\\\znas\\Main\\futures\\2024-11-08\\2024-11-08_GPSUSDT_USDT_1m.csv\n",
      "文件不存在: \\\\znas\\Main\\futures\\2024-11-09\\2024-11-09_GPSUSDT_USDT_1m.csv\n",
      "文件不存在: \\\\znas\\Main\\futures\\2024-11-10\\2024-11-10_GPSUSDT_USDT_1m.csv\n",
      "文件不存在: \\\\znas\\Main\\futures\\2024-11-11\\2024-11-11_GPSUSDT_USDT_1m.csv\n",
      "文件不存在: \\\\znas\\Main\\futures\\2024-11-12\\2024-11-12_GPSUSDT_USDT_1m.csv\n",
      "文件不存在: \\\\znas\\Main\\futures\\2024-11-13\\2024-11-13_GPSUSDT_USDT_1m.csv\n",
      "文件不存在: \\\\znas\\Main\\futures\\2024-11-14\\2024-11-14_GPSUSDT_USDT_1m.csv\n",
      "文件不存在: \\\\znas\\Main\\futures\\2024-11-15\\2024-11-15_GPSUSDT_USDT_1m.csv\n",
      "文件不存在: \\\\znas\\Main\\futures\\2024-11-16\\2024-11-16_GPSUSDT_USDT_1m.csv\n",
      "文件不存在: \\\\znas\\Main\\futures\\2024-11-17\\2024-11-17_GPSUSDT_USDT_1m.csv\n",
      "文件不存在: \\\\znas\\Main\\futures\\2024-11-18\\2024-11-18_GPSUSDT_USDT_1m.csv\n",
      "文件不存在: \\\\znas\\Main\\futures\\2024-11-19\\2024-11-19_GPSUSDT_USDT_1m.csv\n",
      "文件不存在: \\\\znas\\Main\\futures\\2024-11-20\\2024-11-20_GPSUSDT_USDT_1m.csv\n",
      "文件不存在: \\\\znas\\Main\\futures\\2024-11-21\\2024-11-21_GPSUSDT_USDT_1m.csv\n",
      "文件不存在: \\\\znas\\Main\\futures\\2024-11-22\\2024-11-22_GPSUSDT_USDT_1m.csv\n",
      "文件不存在: \\\\znas\\Main\\futures\\2024-11-23\\2024-11-23_GPSUSDT_USDT_1m.csv\n",
      "文件不存在: \\\\znas\\Main\\futures\\2024-11-24\\2024-11-24_GPSUSDT_USDT_1m.csv\n",
      "文件不存在: \\\\znas\\Main\\futures\\2024-11-25\\2024-11-25_GPSUSDT_USDT_1m.csv\n",
      "文件不存在: \\\\znas\\Main\\futures\\2024-11-26\\2024-11-26_GPSUSDT_USDT_1m.csv\n",
      "文件不存在: \\\\znas\\Main\\futures\\2024-11-27\\2024-11-27_GPSUSDT_USDT_1m.csv\n",
      "文件不存在: \\\\znas\\Main\\futures\\2024-11-28\\2024-11-28_GPSUSDT_USDT_1m.csv\n",
      "文件不存在: \\\\znas\\Main\\futures\\2024-11-29\\2024-11-29_GPSUSDT_USDT_1m.csv\n",
      "文件不存在: \\\\znas\\Main\\futures\\2024-11-30\\2024-11-30_GPSUSDT_USDT_1m.csv\n",
      "文件不存在: \\\\znas\\Main\\futures\\2024-12-01\\2024-12-01_GPSUSDT_USDT_1m.csv\n",
      "文件不存在: \\\\znas\\Main\\futures\\2024-12-02\\2024-12-02_GPSUSDT_USDT_1m.csv\n",
      "文件不存在: \\\\znas\\Main\\futures\\2024-12-03\\2024-12-03_GPSUSDT_USDT_1m.csv\n",
      "文件不存在: \\\\znas\\Main\\futures\\2024-12-04\\2024-12-04_GPSUSDT_USDT_1m.csv\n",
      "文件不存在: \\\\znas\\Main\\futures\\2024-12-05\\2024-12-05_GPSUSDT_USDT_1m.csv\n",
      "文件不存在: \\\\znas\\Main\\futures\\2024-12-06\\2024-12-06_GPSUSDT_USDT_1m.csv\n",
      "文件不存在: \\\\znas\\Main\\futures\\2024-12-07\\2024-12-07_GPSUSDT_USDT_1m.csv\n",
      "文件不存在: \\\\znas\\Main\\futures\\2024-12-08\\2024-12-08_GPSUSDT_USDT_1m.csv\n",
      "文件不存在: \\\\znas\\Main\\futures\\2024-12-09\\2024-12-09_GPSUSDT_USDT_1m.csv\n",
      "文件不存在: \\\\znas\\Main\\futures\\2024-12-10\\2024-12-10_GPSUSDT_USDT_1m.csv\n",
      "文件不存在: \\\\znas\\Main\\futures\\2024-12-11\\2024-12-11_GPSUSDT_USDT_1m.csv\n",
      "文件不存在: \\\\znas\\Main\\futures\\2024-12-12\\2024-12-12_GPSUSDT_USDT_1m.csv\n",
      "文件不存在: \\\\znas\\Main\\futures\\2024-12-13\\2024-12-13_GPSUSDT_USDT_1m.csv\n",
      "文件不存在: \\\\znas\\Main\\futures\\2024-12-14\\2024-12-14_GPSUSDT_USDT_1m.csv\n",
      "文件不存在: \\\\znas\\Main\\futures\\2024-12-15\\2024-12-15_GPSUSDT_USDT_1m.csv\n",
      "文件不存在: \\\\znas\\Main\\futures\\2024-12-16\\2024-12-16_GPSUSDT_USDT_1m.csv\n",
      "文件不存在: \\\\znas\\Main\\futures\\2024-12-17\\2024-12-17_GPSUSDT_USDT_1m.csv\n",
      "文件不存在: \\\\znas\\Main\\futures\\2024-12-18\\2024-12-18_GPSUSDT_USDT_1m.csv\n",
      "文件不存在: \\\\znas\\Main\\futures\\2024-12-19\\2024-12-19_GPSUSDT_USDT_1m.csv\n",
      "文件不存在: \\\\znas\\Main\\futures\\2024-12-20\\2024-12-20_GPSUSDT_USDT_1m.csv\n",
      "文件不存在: \\\\znas\\Main\\futures\\2024-12-21\\2024-12-21_GPSUSDT_USDT_1m.csv\n",
      "文件不存在: \\\\znas\\Main\\futures\\2024-12-22\\2024-12-22_GPSUSDT_USDT_1m.csv\n",
      "文件不存在: \\\\znas\\Main\\futures\\2024-12-23\\2024-12-23_GPSUSDT_USDT_1m.csv\n",
      "文件不存在: \\\\znas\\Main\\futures\\2024-12-24\\2024-12-24_GPSUSDT_USDT_1m.csv\n",
      "文件不存在: \\\\znas\\Main\\futures\\2024-12-25\\2024-12-25_GPSUSDT_USDT_1m.csv\n",
      "文件不存在: \\\\znas\\Main\\futures\\2024-12-26\\2024-12-26_GPSUSDT_USDT_1m.csv\n",
      "文件不存在: \\\\znas\\Main\\futures\\2024-12-27\\2024-12-27_GPSUSDT_USDT_1m.csv\n",
      "文件不存在: \\\\znas\\Main\\futures\\2024-12-28\\2024-12-28_GPSUSDT_USDT_1m.csv\n",
      "文件不存在: \\\\znas\\Main\\futures\\2024-12-29\\2024-12-29_GPSUSDT_USDT_1m.csv\n",
      "文件不存在: \\\\znas\\Main\\futures\\2024-12-30\\2024-12-30_GPSUSDT_USDT_1m.csv\n",
      "文件不存在: \\\\znas\\Main\\futures\\2024-12-31\\2024-12-31_GPSUSDT_USDT_1m.csv\n",
      "文件不存在: \\\\znas\\Main\\futures\\2025-01-01\\2025-01-01_GPSUSDT_USDT_1m.csv\n",
      "文件不存在: \\\\znas\\Main\\futures\\2025-01-02\\2025-01-02_GPSUSDT_USDT_1m.csv\n",
      "文件不存在: \\\\znas\\Main\\futures\\2025-01-03\\2025-01-03_GPSUSDT_USDT_1m.csv\n",
      "文件不存在: \\\\znas\\Main\\futures\\2025-01-04\\2025-01-04_GPSUSDT_USDT_1m.csv\n",
      "文件不存在: \\\\znas\\Main\\futures\\2025-01-05\\2025-01-05_GPSUSDT_USDT_1m.csv\n",
      "文件不存在: \\\\znas\\Main\\futures\\2025-01-06\\2025-01-06_GPSUSDT_USDT_1m.csv\n",
      "文件不存在: \\\\znas\\Main\\futures\\2025-01-07\\2025-01-07_GPSUSDT_USDT_1m.csv\n",
      "文件不存在: \\\\znas\\Main\\futures\\2025-01-08\\2025-01-08_GPSUSDT_USDT_1m.csv\n",
      "文件不存在: \\\\znas\\Main\\futures\\2025-01-09\\2025-01-09_GPSUSDT_USDT_1m.csv\n",
      "文件不存在: \\\\znas\\Main\\futures\\2025-01-10\\2025-01-10_GPSUSDT_USDT_1m.csv\n",
      "文件不存在: \\\\znas\\Main\\futures\\2025-01-11\\2025-01-11_GPSUSDT_USDT_1m.csv\n",
      "文件不存在: \\\\znas\\Main\\futures\\2025-01-12\\2025-01-12_GPSUSDT_USDT_1m.csv\n",
      "文件不存在: \\\\znas\\Main\\futures\\2025-01-13\\2025-01-13_GPSUSDT_USDT_1m.csv\n",
      "文件不存在: \\\\znas\\Main\\futures\\2025-01-14\\2025-01-14_GPSUSDT_USDT_1m.csv\n",
      "文件不存在: \\\\znas\\Main\\futures\\2025-01-15\\2025-01-15_GPSUSDT_USDT_1m.csv\n",
      "文件不存在: \\\\znas\\Main\\futures\\2025-01-16\\2025-01-16_GPSUSDT_USDT_1m.csv\n",
      "文件不存在: \\\\znas\\Main\\futures\\2025-01-17\\2025-01-17_GPSUSDT_USDT_1m.csv\n",
      "文件不存在: \\\\znas\\Main\\futures\\2025-01-18\\2025-01-18_GPSUSDT_USDT_1m.csv\n",
      "文件不存在: \\\\znas\\Main\\futures\\2025-01-19\\2025-01-19_GPSUSDT_USDT_1m.csv\n",
      "文件不存在: \\\\znas\\Main\\futures\\2025-01-20\\2025-01-20_GPSUSDT_USDT_1m.csv\n",
      "文件不存在: \\\\znas\\Main\\futures\\2025-01-21\\2025-01-21_GPSUSDT_USDT_1m.csv\n",
      "文件不存在: \\\\znas\\Main\\futures\\2025-01-22\\2025-01-22_GPSUSDT_USDT_1m.csv\n",
      "文件不存在: \\\\znas\\Main\\futures\\2025-01-23\\2025-01-23_GPSUSDT_USDT_1m.csv\n",
      "文件不存在: \\\\znas\\Main\\futures\\2025-01-24\\2025-01-24_GPSUSDT_USDT_1m.csv\n",
      "文件不存在: \\\\znas\\Main\\futures\\2025-01-25\\2025-01-25_GPSUSDT_USDT_1m.csv\n",
      "文件不存在: \\\\znas\\Main\\futures\\2025-01-26\\2025-01-26_GPSUSDT_USDT_1m.csv\n",
      "文件不存在: \\\\znas\\Main\\futures\\2025-01-27\\2025-01-27_GPSUSDT_USDT_1m.csv\n",
      "文件不存在: \\\\znas\\Main\\futures\\2025-01-28\\2025-01-28_GPSUSDT_USDT_1m.csv\n",
      "文件不存在: \\\\znas\\Main\\futures\\2025-01-29\\2025-01-29_GPSUSDT_USDT_1m.csv\n",
      "文件不存在: \\\\znas\\Main\\futures\\2025-01-30\\2025-01-30_GPSUSDT_USDT_1m.csv\n",
      "文件不存在: \\\\znas\\Main\\futures\\2025-01-31\\2025-01-31_GPSUSDT_USDT_1m.csv\n",
      "文件不存在: \\\\znas\\Main\\futures\\2025-02-01\\2025-02-01_GPSUSDT_USDT_1m.csv\n",
      "文件不存在: \\\\znas\\Main\\futures\\2025-02-02\\2025-02-02_GPSUSDT_USDT_1m.csv\n",
      "文件不存在: \\\\znas\\Main\\futures\\2025-02-03\\2025-02-03_GPSUSDT_USDT_1m.csv\n",
      "文件不存在: \\\\znas\\Main\\futures\\2025-02-04\\2025-02-04_GPSUSDT_USDT_1m.csv\n",
      "文件不存在: \\\\znas\\Main\\futures\\2025-02-05\\2025-02-05_GPSUSDT_USDT_1m.csv\n",
      "文件不存在: \\\\znas\\Main\\futures\\2025-02-06\\2025-02-06_GPSUSDT_USDT_1m.csv\n",
      "文件不存在: \\\\znas\\Main\\futures\\2025-02-07\\2025-02-07_GPSUSDT_USDT_1m.csv\n",
      "文件不存在: \\\\znas\\Main\\futures\\2025-02-08\\2025-02-08_GPSUSDT_USDT_1m.csv\n",
      "处理任务出错: 未找到 GPSUSDT 在指定日期范围内的数据\n"
     ]
    },
    {
     "name": "stderr",
     "output_type": "stream",
     "text": [
      "[I 2025-03-09 05:19:19,974] A new study created in memory with name: ARKMUSDT_30min\n"
     ]
    },
    {
     "name": "stdout",
     "output_type": "stream",
     "text": [
      "开始优化 ARKMUSDT-30min...\n"
     ]
    },
    {
     "name": "stderr",
     "output_type": "stream",
     "text": [
      "[I 2025-03-09 05:23:36,443] Trial 4 finished with value: -5.812423538957981 and parameters: {'frequency': 14, 'rsiFrequency': 44, 'sellZoneDistance': 7, 'avgUpATRSum': 4, 'useAbsoluteRSIBarrier': False, 'barrierLevel': 48, 'pyramiding': 9}. Best is trial 4 with value: -5.812423538957981.\n"
     ]
    },
    {
     "name": "stdout",
     "output_type": "stream",
     "text": [
      "[ARKMUSDT-30min] Trial 4: 参数 {'frequency': 14, 'rsiFrequency': 44, 'sellZoneDistance': 7, 'avgUpATRSum': 4, 'useAbsoluteRSIBarrier': False, 'barrierLevel': 48, 'pyramiding': 9} -> 得分 -5.81\n",
      "[ARKMUSDT-30min] Trial 8: 参数 {'frequency': 8, 'rsiFrequency': 38, 'sellZoneDistance': 5, 'avgUpATRSum': 7, 'useAbsoluteRSIBarrier': False, 'barrierLevel': 56, 'pyramiding': 7} -> 得分 -1.38\n"
     ]
    },
    {
     "name": "stderr",
     "output_type": "stream",
     "text": [
      "[I 2025-03-09 05:23:37,378] Trial 8 finished with value: -1.3834618540577743 and parameters: {'frequency': 8, 'rsiFrequency': 38, 'sellZoneDistance': 5, 'avgUpATRSum': 7, 'useAbsoluteRSIBarrier': False, 'barrierLevel': 56, 'pyramiding': 7}. Best is trial 8 with value: -1.3834618540577743.\n",
      "[I 2025-03-09 05:23:43,050] Trial 0 finished with value: -127.9465072637159 and parameters: {'frequency': 14, 'rsiFrequency': 44, 'sellZoneDistance': 3, 'avgUpATRSum': 4, 'useAbsoluteRSIBarrier': True, 'barrierLevel': 44, 'pyramiding': 10}. Best is trial 8 with value: -1.3834618540577743.\n"
     ]
    },
    {
     "name": "stdout",
     "output_type": "stream",
     "text": [
      "[ARKMUSDT-30min] Trial 0: 参数 {'frequency': 14, 'rsiFrequency': 44, 'sellZoneDistance': 3, 'avgUpATRSum': 4, 'useAbsoluteRSIBarrier': True, 'barrierLevel': 44, 'pyramiding': 10} -> 得分 -127.95\n"
     ]
    },
    {
     "name": "stderr",
     "output_type": "stream",
     "text": [
      "[I 2025-03-09 05:23:44,084] Trial 9 finished with value: -27.305859855243785 and parameters: {'frequency': 14, 'rsiFrequency': 38, 'sellZoneDistance': 5, 'avgUpATRSum': 5, 'useAbsoluteRSIBarrier': True, 'barrierLevel': 46, 'pyramiding': 6}. Best is trial 8 with value: -1.3834618540577743.\n",
      "[I 2025-03-09 05:23:44,626] Trial 11 finished with value: -6.9482058976786165 and parameters: {'frequency': 14, 'rsiFrequency': 44, 'sellZoneDistance': 7, 'avgUpATRSum': 5, 'useAbsoluteRSIBarrier': False, 'barrierLevel': 44, 'pyramiding': 8}. Best is trial 8 with value: -1.3834618540577743.\n"
     ]
    },
    {
     "name": "stdout",
     "output_type": "stream",
     "text": [
      "[ARKMUSDT-30min] Trial 9: 参数 {'frequency': 14, 'rsiFrequency': 38, 'sellZoneDistance': 5, 'avgUpATRSum': 5, 'useAbsoluteRSIBarrier': True, 'barrierLevel': 46, 'pyramiding': 6} -> 得分 -27.31\n",
      "[ARKMUSDT-30min] Trial 11: 参数 {'frequency': 14, 'rsiFrequency': 44, 'sellZoneDistance': 7, 'avgUpATRSum': 5, 'useAbsoluteRSIBarrier': False, 'barrierLevel': 44, 'pyramiding': 8} -> 得分 -6.95\n",
      "[ARKMUSDT-30min] Trial 3: 参数 {'frequency': 8, 'rsiFrequency': 44, 'sellZoneDistance': 7, 'avgUpATRSum': 5, 'useAbsoluteRSIBarrier': False, 'barrierLevel': 46, 'pyramiding': 7} -> 得分 -7.37"
     ]
    },
    {
     "name": "stderr",
     "output_type": "stream",
     "text": [
      "[I 2025-03-09 05:23:46,277] Trial 10 finished with value: -17.558181993089725 and parameters: {'frequency': 12, 'rsiFrequency': 40, 'sellZoneDistance': 7, 'avgUpATRSum': 5, 'useAbsoluteRSIBarrier': True, 'barrierLevel': 52, 'pyramiding': 8}. Best is trial 8 with value: -1.3834618540577743.\n",
      "[I 2025-03-09 05:23:46,318] Trial 3 finished with value: -7.365560371851994 and parameters: {'frequency': 8, 'rsiFrequency': 44, 'sellZoneDistance': 7, 'avgUpATRSum': 5, 'useAbsoluteRSIBarrier': False, 'barrierLevel': 46, 'pyramiding': 7}. Best is trial 8 with value: -1.3834618540577743.\n"
     ]
    },
    {
     "name": "stdout",
     "output_type": "stream",
     "text": [
      "[ARKMUSDT-30min] Trial 10: 参数 {'frequency': 12, 'rsiFrequency': 40, 'sellZoneDistance': 7, 'avgUpATRSum': 5, 'useAbsoluteRSIBarrier': True, 'barrierLevel': 52, 'pyramiding': 8} -> 得分 -17.56\n",
      "\n"
     ]
    },
    {
     "name": "stderr",
     "output_type": "stream",
     "text": [
      "[I 2025-03-09 05:23:48,100] Trial 2 finished with value: -12.315018431534963 and parameters: {'frequency': 8, 'rsiFrequency': 42, 'sellZoneDistance': 7, 'avgUpATRSum': 7, 'useAbsoluteRSIBarrier': True, 'barrierLevel': 48, 'pyramiding': 8}. Best is trial 8 with value: -1.3834618540577743.\n"
     ]
    },
    {
     "name": "stdout",
     "output_type": "stream",
     "text": [
      "[ARKMUSDT-30min] Trial 2: 参数 {'frequency': 8, 'rsiFrequency': 42, 'sellZoneDistance': 7, 'avgUpATRSum': 7, 'useAbsoluteRSIBarrier': True, 'barrierLevel': 48, 'pyramiding': 8} -> 得分 -12.32\n",
      "[ARKMUSDT-30min] Trial 27: 参数 {'frequency': 14, 'rsiFrequency': 40, 'sellZoneDistance': 7, 'avgUpATRSum': 6, 'useAbsoluteRSIBarrier': False, 'barrierLevel': 56, 'pyramiding': 10} -> 得分 -1.79\n"
     ]
    },
    {
     "name": "stderr",
     "output_type": "stream",
     "text": [
      "[I 2025-03-09 05:23:50,225] Trial 27 finished with value: -1.786850511693647 and parameters: {'frequency': 14, 'rsiFrequency': 40, 'sellZoneDistance': 7, 'avgUpATRSum': 6, 'useAbsoluteRSIBarrier': False, 'barrierLevel': 56, 'pyramiding': 10}. Best is trial 8 with value: -1.3834618540577743.\n",
      "[I 2025-03-09 05:23:51,832] Trial 1 finished with value: 3.094522905709006 and parameters: {'frequency': 10, 'rsiFrequency': 38, 'sellZoneDistance': 4, 'avgUpATRSum': 3, 'useAbsoluteRSIBarrier': False, 'barrierLevel': 48, 'pyramiding': 6}. Best is trial 1 with value: 3.094522905709006.\n",
      "[I 2025-03-09 05:23:52,163] Trial 6 finished with value: 2.5772448869455515 and parameters: {'frequency': 8, 'rsiFrequency': 40, 'sellZoneDistance': 6, 'avgUpATRSum': 4, 'useAbsoluteRSIBarrier': False, 'barrierLevel': 56, 'pyramiding': 6}. Best is trial 1 with value: 3.094522905709006.\n"
     ]
    },
    {
     "name": "stdout",
     "output_type": "stream",
     "text": [
      "[ARKMUSDT-30min] Trial 1: 参数 {'frequency': 10, 'rsiFrequency': 38, 'sellZoneDistance': 4, 'avgUpATRSum': 3, 'useAbsoluteRSIBarrier': False, 'barrierLevel': 48, 'pyramiding': 6} -> 得分 3.09\n",
      "[ARKMUSDT-30min] Trial 6: 参数 {'frequency': 8, 'rsiFrequency': 40, 'sellZoneDistance': 6, 'avgUpATRSum': 4, 'useAbsoluteRSIBarrier': False, 'barrierLevel': 56, 'pyramiding': 6} -> 得分 2.58\n"
     ]
    },
    {
     "name": "stderr",
     "output_type": "stream",
     "text": [
      "[I 2025-03-09 05:23:53,899] Trial 24 finished with value: 2.6762352127827134 and parameters: {'frequency': 14, 'rsiFrequency': 40, 'sellZoneDistance': 5, 'avgUpATRSum': 3, 'useAbsoluteRSIBarrier': False, 'barrierLevel': 52, 'pyramiding': 9}. Best is trial 1 with value: 3.094522905709006.\n",
      "[I 2025-03-09 05:23:53,997] Trial 12 finished with value: -21.23120864963881 and parameters: {'frequency': 10, 'rsiFrequency': 44, 'sellZoneDistance': 7, 'avgUpATRSum': 7, 'useAbsoluteRSIBarrier': True, 'barrierLevel': 54, 'pyramiding': 6}. Best is trial 1 with value: 3.094522905709006.\n"
     ]
    },
    {
     "name": "stdout",
     "output_type": "stream",
     "text": [
      "[ARKMUSDT-30min] Trial 24: 参数 {'frequency': 14, 'rsiFrequency': 40, 'sellZoneDistance': 5, 'avgUpATRSum': 3, 'useAbsoluteRSIBarrier': False, 'barrierLevel': 52, 'pyramiding': 9} -> 得分 2.68\n",
      "[ARKMUSDT-30min] Trial 12: 参数 {'frequency': 10, 'rsiFrequency': 44, 'sellZoneDistance': 7, 'avgUpATRSum': 7, 'useAbsoluteRSIBarrier': True, 'barrierLevel': 54, 'pyramiding': 6} -> 得分 -21.23\n"
     ]
    },
    {
     "name": "stderr",
     "output_type": "stream",
     "text": [
      "[I 2025-03-09 05:23:58,602] Trial 26 finished with value: -58.931743192836386 and parameters: {'frequency': 8, 'rsiFrequency': 42, 'sellZoneDistance': 4, 'avgUpATRSum': 3, 'useAbsoluteRSIBarrier': True, 'barrierLevel': 44, 'pyramiding': 9}. Best is trial 1 with value: 3.094522905709006.\n",
      "[I 2025-03-09 05:23:58,733] Trial 25 finished with value: -3.906635946642287 and parameters: {'frequency': 12, 'rsiFrequency': 38, 'sellZoneDistance': 4, 'avgUpATRSum': 6, 'useAbsoluteRSIBarrier': False, 'barrierLevel': 54, 'pyramiding': 9}. Best is trial 1 with value: 3.094522905709006.\n"
     ]
    },
    {
     "name": "stdout",
     "output_type": "stream",
     "text": [
      "[ARKMUSDT-30min] Trial 25: 参数 {'frequency': 12, 'rsiFrequency': 38, 'sellZoneDistance': 4, 'avgUpATRSum': 6, 'useAbsoluteRSIBarrier': False, 'barrierLevel': 54, 'pyramiding': 9} -> 得分 -3.91[ARKMUSDT-30min] Trial 26: 参数 {'frequency': 8, 'rsiFrequency': 42, 'sellZoneDistance': 4, 'avgUpATRSum': 3, 'useAbsoluteRSIBarrier': True, 'barrierLevel': 44, 'pyramiding': 9} -> 得分 -58.93\n",
      "\n",
      "[ARKMUSDT-30min] Trial 13: 参数 {'frequency': 12, 'rsiFrequency': 38, 'sellZoneDistance': 5, 'avgUpATRSum': 5, 'useAbsoluteRSIBarrier': False, 'barrierLevel': 44, 'pyramiding': 6} -> 得分 -7.48\n"
     ]
    },
    {
     "name": "stderr",
     "output_type": "stream",
     "text": [
      "[I 2025-03-09 05:23:58,826] Trial 13 finished with value: -7.477373064480888 and parameters: {'frequency': 12, 'rsiFrequency': 38, 'sellZoneDistance': 5, 'avgUpATRSum': 5, 'useAbsoluteRSIBarrier': False, 'barrierLevel': 44, 'pyramiding': 6}. Best is trial 1 with value: 3.094522905709006.\n",
      "[I 2025-03-09 05:23:59,107] Trial 14 finished with value: -9.796051885211883 and parameters: {'frequency': 8, 'rsiFrequency': 40, 'sellZoneDistance': 7, 'avgUpATRSum': 7, 'useAbsoluteRSIBarrier': True, 'barrierLevel': 56, 'pyramiding': 10}. Best is trial 1 with value: 3.094522905709006.\n"
     ]
    },
    {
     "name": "stdout",
     "output_type": "stream",
     "text": [
      "[ARKMUSDT-30min] Trial 14: 参数 {'frequency': 8, 'rsiFrequency': 40, 'sellZoneDistance': 7, 'avgUpATRSum': 7, 'useAbsoluteRSIBarrier': True, 'barrierLevel': 56, 'pyramiding': 10} -> 得分 -9.80\n"
     ]
    },
    {
     "name": "stderr",
     "output_type": "stream",
     "text": [
      "[I 2025-03-09 05:24:03,426] Trial 5 finished with value: -8.64439670879889 and parameters: {'frequency': 14, 'rsiFrequency': 40, 'sellZoneDistance': 7, 'avgUpATRSum': 3, 'useAbsoluteRSIBarrier': True, 'barrierLevel': 46, 'pyramiding': 9}. Best is trial 1 with value: 3.094522905709006.\n"
     ]
    },
    {
     "name": "stdout",
     "output_type": "stream",
     "text": [
      "[ARKMUSDT-30min] Trial 5: 参数 {'frequency': 14, 'rsiFrequency': 40, 'sellZoneDistance': 7, 'avgUpATRSum': 3, 'useAbsoluteRSIBarrier': True, 'barrierLevel': 46, 'pyramiding': 9} -> 得分 -8.64\n"
     ]
    },
    {
     "name": "stderr",
     "output_type": "stream",
     "text": [
      "[I 2025-03-09 05:24:04,321] Trial 29 finished with value: -4.1278682119499885 and parameters: {'frequency': 14, 'rsiFrequency': 44, 'sellZoneDistance': 6, 'avgUpATRSum': 7, 'useAbsoluteRSIBarrier': False, 'barrierLevel': 48, 'pyramiding': 8}. Best is trial 1 with value: 3.094522905709006.\n"
     ]
    },
    {
     "name": "stdout",
     "output_type": "stream",
     "text": [
      "[ARKMUSDT-30min] Trial 29: 参数 {'frequency': 14, 'rsiFrequency': 44, 'sellZoneDistance': 6, 'avgUpATRSum': 7, 'useAbsoluteRSIBarrier': False, 'barrierLevel': 48, 'pyramiding': 8} -> 得分 -4.13\n"
     ]
    },
    {
     "name": "stderr",
     "output_type": "stream",
     "text": [
      "[I 2025-03-09 05:24:05,459] Trial 7 finished with value: -18.2648374192941 and parameters: {'frequency': 14, 'rsiFrequency': 40, 'sellZoneDistance': 6, 'avgUpATRSum': 5, 'useAbsoluteRSIBarrier': True, 'barrierLevel': 44, 'pyramiding': 7}. Best is trial 1 with value: 3.094522905709006.\n"
     ]
    },
    {
     "name": "stdout",
     "output_type": "stream",
     "text": [
      "[ARKMUSDT-30min] Trial 7: 参数 {'frequency': 14, 'rsiFrequency': 40, 'sellZoneDistance': 6, 'avgUpATRSum': 5, 'useAbsoluteRSIBarrier': True, 'barrierLevel': 44, 'pyramiding': 7} -> 得分 -18.26\n"
     ]
    },
    {
     "name": "stderr",
     "output_type": "stream",
     "text": [
      "[I 2025-03-09 05:24:08,744] Trial 28 finished with value: -14.116905689662095 and parameters: {'frequency': 8, 'rsiFrequency': 40, 'sellZoneDistance': 5, 'avgUpATRSum': 7, 'useAbsoluteRSIBarrier': True, 'barrierLevel': 54, 'pyramiding': 7}. Best is trial 1 with value: 3.094522905709006.\n"
     ]
    },
    {
     "name": "stdout",
     "output_type": "stream",
     "text": [
      "[ARKMUSDT-30min] Trial 28: 参数 {'frequency': 8, 'rsiFrequency': 40, 'sellZoneDistance': 5, 'avgUpATRSum': 7, 'useAbsoluteRSIBarrier': True, 'barrierLevel': 54, 'pyramiding': 7} -> 得分 -14.12\n"
     ]
    },
    {
     "name": "stderr",
     "output_type": "stream",
     "text": [
      "[I 2025-03-09 05:24:10,327] Trial 15 finished with value: -15.590638183710748 and parameters: {'frequency': 12, 'rsiFrequency': 42, 'sellZoneDistance': 3, 'avgUpATRSum': 6, 'useAbsoluteRSIBarrier': True, 'barrierLevel': 56, 'pyramiding': 7}. Best is trial 1 with value: 3.094522905709006.\n"
     ]
    },
    {
     "name": "stdout",
     "output_type": "stream",
     "text": [
      "[ARKMUSDT-30min] Trial 15: 参数 {'frequency': 12, 'rsiFrequency': 42, 'sellZoneDistance': 3, 'avgUpATRSum': 6, 'useAbsoluteRSIBarrier': True, 'barrierLevel': 56, 'pyramiding': 7} -> 得分 -15.59\n"
     ]
    },
    {
     "name": "stderr",
     "output_type": "stream",
     "text": [
      "[I 2025-03-09 05:24:19,390] Trial 16 finished with value: -2.807310803195066 and parameters: {'frequency': 14, 'rsiFrequency': 38, 'sellZoneDistance': 7, 'avgUpATRSum': 5, 'useAbsoluteRSIBarrier': False, 'barrierLevel': 56, 'pyramiding': 10}. Best is trial 1 with value: 3.094522905709006.\n"
     ]
    },
    {
     "name": "stdout",
     "output_type": "stream",
     "text": [
      "[ARKMUSDT-30min] Trial 16: 参数 {'frequency': 14, 'rsiFrequency': 38, 'sellZoneDistance': 7, 'avgUpATRSum': 5, 'useAbsoluteRSIBarrier': False, 'barrierLevel': 56, 'pyramiding': 10} -> 得分 -2.81\n"
     ]
    },
    {
     "name": "stderr",
     "output_type": "stream",
     "text": [
      "[I 2025-03-09 05:24:20,990] Trial 21 finished with value: -3.5097359472365546 and parameters: {'frequency': 8, 'rsiFrequency': 44, 'sellZoneDistance': 6, 'avgUpATRSum': 3, 'useAbsoluteRSIBarrier': False, 'barrierLevel': 54, 'pyramiding': 6}. Best is trial 1 with value: 3.094522905709006.\n"
     ]
    },
    {
     "name": "stdout",
     "output_type": "stream",
     "text": [
      "[ARKMUSDT-30min] Trial 21: 参数 {'frequency': 8, 'rsiFrequency': 44, 'sellZoneDistance': 6, 'avgUpATRSum': 3, 'useAbsoluteRSIBarrier': False, 'barrierLevel': 54, 'pyramiding': 6} -> 得分 -3.51\n"
     ]
    },
    {
     "name": "stderr",
     "output_type": "stream",
     "text": [
      "[I 2025-03-09 05:24:27,688] Trial 22 finished with value: 2.308148126869568 and parameters: {'frequency': 10, 'rsiFrequency': 38, 'sellZoneDistance': 7, 'avgUpATRSum': 7, 'useAbsoluteRSIBarrier': False, 'barrierLevel': 46, 'pyramiding': 7}. Best is trial 1 with value: 3.094522905709006.\n"
     ]
    },
    {
     "name": "stdout",
     "output_type": "stream",
     "text": [
      "[ARKMUSDT-30min] Trial 22: 参数 {'frequency': 10, 'rsiFrequency': 38, 'sellZoneDistance': 7, 'avgUpATRSum': 7, 'useAbsoluteRSIBarrier': False, 'barrierLevel': 46, 'pyramiding': 7} -> 得分 2.31\n"
     ]
    },
    {
     "name": "stderr",
     "output_type": "stream",
     "text": [
      "[I 2025-03-09 05:24:33,832] Trial 18 finished with value: -11.688764289016058 and parameters: {'frequency': 8, 'rsiFrequency': 44, 'sellZoneDistance': 4, 'avgUpATRSum': 7, 'useAbsoluteRSIBarrier': True, 'barrierLevel': 50, 'pyramiding': 8}. Best is trial 1 with value: 3.094522905709006.\n"
     ]
    },
    {
     "name": "stdout",
     "output_type": "stream",
     "text": [
      "[ARKMUSDT-30min] Trial 18: 参数 {'frequency': 8, 'rsiFrequency': 44, 'sellZoneDistance': 4, 'avgUpATRSum': 7, 'useAbsoluteRSIBarrier': True, 'barrierLevel': 50, 'pyramiding': 8} -> 得分 -11.69\n"
     ]
    },
    {
     "name": "stderr",
     "output_type": "stream",
     "text": [
      "[I 2025-03-09 05:24:35,268] Trial 17 finished with value: -7.390355920131954 and parameters: {'frequency': 10, 'rsiFrequency': 42, 'sellZoneDistance': 4, 'avgUpATRSum': 3, 'useAbsoluteRSIBarrier': True, 'barrierLevel': 48, 'pyramiding': 7}. Best is trial 1 with value: 3.094522905709006.\n"
     ]
    },
    {
     "name": "stdout",
     "output_type": "stream",
     "text": [
      "[ARKMUSDT-30min] Trial 17: 参数 {'frequency': 10, 'rsiFrequency': 42, 'sellZoneDistance': 4, 'avgUpATRSum': 3, 'useAbsoluteRSIBarrier': True, 'barrierLevel': 48, 'pyramiding': 7} -> 得分 -7.39\n"
     ]
    },
    {
     "name": "stderr",
     "output_type": "stream",
     "text": [
      "[I 2025-03-09 05:24:36,229] Trial 19 finished with value: -1.9915289442321116 and parameters: {'frequency': 14, 'rsiFrequency': 42, 'sellZoneDistance': 6, 'avgUpATRSum': 7, 'useAbsoluteRSIBarrier': False, 'barrierLevel': 52, 'pyramiding': 8}. Best is trial 1 with value: 3.094522905709006.\n",
      "[I 2025-03-09 05:24:36,773] Trial 23 finished with value: -8.03733231541452 and parameters: {'frequency': 14, 'rsiFrequency': 40, 'sellZoneDistance': 5, 'avgUpATRSum': 3, 'useAbsoluteRSIBarrier': True, 'barrierLevel': 54, 'pyramiding': 10}. Best is trial 1 with value: 3.094522905709006.\n"
     ]
    },
    {
     "name": "stdout",
     "output_type": "stream",
     "text": [
      "[ARKMUSDT-30min] Trial 19: 参数 {'frequency': 14, 'rsiFrequency': 42, 'sellZoneDistance': 6, 'avgUpATRSum': 7, 'useAbsoluteRSIBarrier': False, 'barrierLevel': 52, 'pyramiding': 8} -> 得分 -1.99\n",
      "[ARKMUSDT-30min] Trial 23: 参数 {'frequency': 14, 'rsiFrequency': 40, 'sellZoneDistance': 5, 'avgUpATRSum': 3, 'useAbsoluteRSIBarrier': True, 'barrierLevel': 54, 'pyramiding': 10} -> 得分 -8.04\n"
     ]
    },
    {
     "name": "stderr",
     "output_type": "stream",
     "text": [
      "[I 2025-03-09 05:24:41,880] Trial 20 finished with value: 1.7784366487132681 and parameters: {'frequency': 14, 'rsiFrequency': 42, 'sellZoneDistance': 4, 'avgUpATRSum': 4, 'useAbsoluteRSIBarrier': False, 'barrierLevel': 48, 'pyramiding': 6}. Best is trial 1 with value: 3.094522905709006.\n"
     ]
    },
    {
     "name": "stdout",
     "output_type": "stream",
     "text": [
      "[ARKMUSDT-30min] Trial 20: 参数 {'frequency': 14, 'rsiFrequency': 42, 'sellZoneDistance': 4, 'avgUpATRSum': 4, 'useAbsoluteRSIBarrier': False, 'barrierLevel': 48, 'pyramiding': 6} -> 得分 1.78\n"
     ]
    },
    {
     "name": "stderr",
     "output_type": "stream",
     "text": [
      "[I 2025-03-09 05:27:47,559] Trial 31 finished with value: 3.603342761246158 and parameters: {'frequency': 8, 'rsiFrequency': 38, 'sellZoneDistance': 3, 'avgUpATRSum': 7, 'useAbsoluteRSIBarrier': False, 'barrierLevel': 52, 'pyramiding': 6}. Best is trial 31 with value: 3.603342761246158.\n"
     ]
    },
    {
     "name": "stdout",
     "output_type": "stream",
     "text": [
      "[ARKMUSDT-30min] Trial 31: 参数 {'frequency': 8, 'rsiFrequency': 38, 'sellZoneDistance': 3, 'avgUpATRSum': 7, 'useAbsoluteRSIBarrier': False, 'barrierLevel': 52, 'pyramiding': 6} -> 得分 3.60\n"
     ]
    },
    {
     "name": "stderr",
     "output_type": "stream",
     "text": [
      "[I 2025-03-09 05:27:49,962] Trial 34 finished with value: 0.741679743335194 and parameters: {'frequency': 8, 'rsiFrequency': 38, 'sellZoneDistance': 6, 'avgUpATRSum': 7, 'useAbsoluteRSIBarrier': False, 'barrierLevel': 56, 'pyramiding': 8}. Best is trial 31 with value: 3.603342761246158.\n"
     ]
    },
    {
     "name": "stdout",
     "output_type": "stream",
     "text": [
      "[ARKMUSDT-30min] Trial 34: 参数 {'frequency': 8, 'rsiFrequency': 38, 'sellZoneDistance': 6, 'avgUpATRSum': 7, 'useAbsoluteRSIBarrier': False, 'barrierLevel': 56, 'pyramiding': 8} -> 得分 0.74\n"
     ]
    },
    {
     "name": "stderr",
     "output_type": "stream",
     "text": [
      "[I 2025-03-09 05:27:53,928] Trial 33 finished with value: -8.518526716173767 and parameters: {'frequency': 12, 'rsiFrequency': 38, 'sellZoneDistance': 5, 'avgUpATRSum': 7, 'useAbsoluteRSIBarrier': False, 'barrierLevel': 50, 'pyramiding': 6}. Best is trial 31 with value: 3.603342761246158.\n"
     ]
    },
    {
     "name": "stdout",
     "output_type": "stream",
     "text": [
      "[ARKMUSDT-30min] Trial 33: 参数 {'frequency': 12, 'rsiFrequency': 38, 'sellZoneDistance': 5, 'avgUpATRSum': 7, 'useAbsoluteRSIBarrier': False, 'barrierLevel': 50, 'pyramiding': 6} -> 得分 -8.52\n"
     ]
    },
    {
     "name": "stderr",
     "output_type": "stream",
     "text": [
      "[I 2025-03-09 05:28:08,329] Trial 36 finished with value: -21.03432878548828 and parameters: {'frequency': 10, 'rsiFrequency': 44, 'sellZoneDistance': 4, 'avgUpATRSum': 4, 'useAbsoluteRSIBarrier': True, 'barrierLevel': 46, 'pyramiding': 6}. Best is trial 31 with value: 3.603342761246158.\n"
     ]
    },
    {
     "name": "stdout",
     "output_type": "stream",
     "text": [
      "[ARKMUSDT-30min] Trial 36: 参数 {'frequency': 10, 'rsiFrequency': 44, 'sellZoneDistance': 4, 'avgUpATRSum': 4, 'useAbsoluteRSIBarrier': True, 'barrierLevel': 46, 'pyramiding': 6} -> 得分 -21.03\n"
     ]
    },
    {
     "name": "stderr",
     "output_type": "stream",
     "text": [
      "[I 2025-03-09 05:28:10,808] Trial 41 finished with value: 2.454205491566975 and parameters: {'frequency': 10, 'rsiFrequency': 38, 'sellZoneDistance': 4, 'avgUpATRSum': 3, 'useAbsoluteRSIBarrier': False, 'barrierLevel': 52, 'pyramiding': 9}. Best is trial 31 with value: 3.603342761246158.\n"
     ]
    },
    {
     "name": "stdout",
     "output_type": "stream",
     "text": [
      "[ARKMUSDT-30min] Trial 41: 参数 {'frequency': 10, 'rsiFrequency': 38, 'sellZoneDistance': 4, 'avgUpATRSum': 3, 'useAbsoluteRSIBarrier': False, 'barrierLevel': 52, 'pyramiding': 9} -> 得分 2.45\n"
     ]
    },
    {
     "name": "stderr",
     "output_type": "stream",
     "text": [
      "[I 2025-03-09 05:28:12,484] Trial 38 finished with value: -0.14244740816389606 and parameters: {'frequency': 14, 'rsiFrequency': 44, 'sellZoneDistance': 4, 'avgUpATRSum': 7, 'useAbsoluteRSIBarrier': False, 'barrierLevel': 46, 'pyramiding': 6}. Best is trial 31 with value: 3.603342761246158.\n"
     ]
    },
    {
     "name": "stdout",
     "output_type": "stream",
     "text": [
      "[ARKMUSDT-30min] Trial 38: 参数 {'frequency': 14, 'rsiFrequency': 44, 'sellZoneDistance': 4, 'avgUpATRSum': 7, 'useAbsoluteRSIBarrier': False, 'barrierLevel': 46, 'pyramiding': 6} -> 得分 -0.14\n"
     ]
    },
    {
     "name": "stderr",
     "output_type": "stream",
     "text": [
      "[I 2025-03-09 05:28:14,938] Trial 43 finished with value: 5.233160016150158 and parameters: {'frequency': 10, 'rsiFrequency': 40, 'sellZoneDistance': 4, 'avgUpATRSum': 3, 'useAbsoluteRSIBarrier': False, 'barrierLevel': 50, 'pyramiding': 7}. Best is trial 43 with value: 5.233160016150158.\n"
     ]
    },
    {
     "name": "stdout",
     "output_type": "stream",
     "text": [
      "[ARKMUSDT-30min] Trial 43: 参数 {'frequency': 10, 'rsiFrequency': 40, 'sellZoneDistance': 4, 'avgUpATRSum': 3, 'useAbsoluteRSIBarrier': False, 'barrierLevel': 50, 'pyramiding': 7} -> 得分 5.23\n"
     ]
    },
    {
     "name": "stderr",
     "output_type": "stream",
     "text": [
      "[I 2025-03-09 05:28:18,605] Trial 44 finished with value: 5.887907099335167 and parameters: {'frequency': 10, 'rsiFrequency': 42, 'sellZoneDistance': 4, 'avgUpATRSum': 3, 'useAbsoluteRSIBarrier': False, 'barrierLevel': 50, 'pyramiding': 7}. Best is trial 44 with value: 5.887907099335167.\n"
     ]
    },
    {
     "name": "stdout",
     "output_type": "stream",
     "text": [
      "[ARKMUSDT-30min] Trial 44: 参数 {'frequency': 10, 'rsiFrequency': 42, 'sellZoneDistance': 4, 'avgUpATRSum': 3, 'useAbsoluteRSIBarrier': False, 'barrierLevel': 50, 'pyramiding': 7} -> 得分 5.89\n"
     ]
    },
    {
     "name": "stderr",
     "output_type": "stream",
     "text": [
      "[I 2025-03-09 05:28:22,158] Trial 30 finished with value: -2.9700062718334994 and parameters: {'frequency': 14, 'rsiFrequency': 44, 'sellZoneDistance': 6, 'avgUpATRSum': 3, 'useAbsoluteRSIBarrier': False, 'barrierLevel': 46, 'pyramiding': 10}. Best is trial 44 with value: 5.887907099335167.\n"
     ]
    },
    {
     "name": "stdout",
     "output_type": "stream",
     "text": [
      "[ARKMUSDT-30min] Trial 30: 参数 {'frequency': 14, 'rsiFrequency': 44, 'sellZoneDistance': 6, 'avgUpATRSum': 3, 'useAbsoluteRSIBarrier': False, 'barrierLevel': 46, 'pyramiding': 10} -> 得分 -2.97\n"
     ]
    },
    {
     "name": "stderr",
     "output_type": "stream",
     "text": [
      "[I 2025-03-09 05:28:28,250] Trial 32 finished with value: 2.9012177141107003 and parameters: {'frequency': 10, 'rsiFrequency': 38, 'sellZoneDistance': 6, 'avgUpATRSum': 3, 'useAbsoluteRSIBarrier': False, 'barrierLevel': 46, 'pyramiding': 8}. Best is trial 44 with value: 5.887907099335167.\n"
     ]
    },
    {
     "name": "stdout",
     "output_type": "stream",
     "text": [
      "[ARKMUSDT-30min] Trial 32: 参数 {'frequency': 10, 'rsiFrequency': 38, 'sellZoneDistance': 6, 'avgUpATRSum': 3, 'useAbsoluteRSIBarrier': False, 'barrierLevel': 46, 'pyramiding': 8} -> 得分 2.90\n"
     ]
    },
    {
     "name": "stderr",
     "output_type": "stream",
     "text": [
      "[I 2025-03-09 05:28:31,201] Trial 42 finished with value: 2.454205491566975 and parameters: {'frequency': 10, 'rsiFrequency': 38, 'sellZoneDistance': 4, 'avgUpATRSum': 3, 'useAbsoluteRSIBarrier': False, 'barrierLevel': 50, 'pyramiding': 9}. Best is trial 44 with value: 5.887907099335167.\n"
     ]
    },
    {
     "name": "stdout",
     "output_type": "stream",
     "text": [
      "[ARKMUSDT-30min] Trial 42: 参数 {'frequency': 10, 'rsiFrequency': 38, 'sellZoneDistance': 4, 'avgUpATRSum': 3, 'useAbsoluteRSIBarrier': False, 'barrierLevel': 50, 'pyramiding': 9} -> 得分 2.45\n"
     ]
    },
    {
     "name": "stderr",
     "output_type": "stream",
     "text": [
      "[I 2025-03-09 05:28:42,789] Trial 35 finished with value: -5.2981360475000505 and parameters: {'frequency': 8, 'rsiFrequency': 44, 'sellZoneDistance': 4, 'avgUpATRSum': 4, 'useAbsoluteRSIBarrier': True, 'barrierLevel': 46, 'pyramiding': 10}. Best is trial 44 with value: 5.887907099335167.\n"
     ]
    },
    {
     "name": "stdout",
     "output_type": "stream",
     "text": [
      "[ARKMUSDT-30min] Trial 35: 参数 {'frequency': 8, 'rsiFrequency': 44, 'sellZoneDistance': 4, 'avgUpATRSum': 4, 'useAbsoluteRSIBarrier': True, 'barrierLevel': 46, 'pyramiding': 10} -> 得分 -5.30\n"
     ]
    },
    {
     "name": "stderr",
     "output_type": "stream",
     "text": [
      "[I 2025-03-09 05:28:44,988] Trial 50 finished with value: 3.346078155080054 and parameters: {'frequency': 10, 'rsiFrequency': 42, 'sellZoneDistance': 4, 'avgUpATRSum': 4, 'useAbsoluteRSIBarrier': False, 'barrierLevel': 50, 'pyramiding': 6}. Best is trial 44 with value: 5.887907099335167.\n"
     ]
    },
    {
     "name": "stdout",
     "output_type": "stream",
     "text": [
      "[ARKMUSDT-30min] Trial 50: 参数 {'frequency': 10, 'rsiFrequency': 42, 'sellZoneDistance': 4, 'avgUpATRSum': 4, 'useAbsoluteRSIBarrier': False, 'barrierLevel': 50, 'pyramiding': 6} -> 得分 3.35\n",
      "[ARKMUSDT-30min] Trial 46: 参数 {'frequency': 10, 'rsiFrequency': 42, 'sellZoneDistance': 4, 'avgUpATRSum': 3, 'useAbsoluteRSIBarrier': False, 'barrierLevel': 50, 'pyramiding': 7} -> 得分 5.89\n"
     ]
    },
    {
     "name": "stderr",
     "output_type": "stream",
     "text": [
      "[I 2025-03-09 05:28:45,213] Trial 46 finished with value: 5.887907099335167 and parameters: {'frequency': 10, 'rsiFrequency': 42, 'sellZoneDistance': 4, 'avgUpATRSum': 3, 'useAbsoluteRSIBarrier': False, 'barrierLevel': 50, 'pyramiding': 7}. Best is trial 44 with value: 5.887907099335167.\n",
      "[I 2025-03-09 05:28:46,858] Trial 48 finished with value: 5.887907099335167 and parameters: {'frequency': 10, 'rsiFrequency': 42, 'sellZoneDistance': 4, 'avgUpATRSum': 3, 'useAbsoluteRSIBarrier': False, 'barrierLevel': 50, 'pyramiding': 7}. Best is trial 44 with value: 5.887907099335167.\n",
      "[I 2025-03-09 05:28:47,106] Trial 45 finished with value: 5.887907099335167 and parameters: {'frequency': 10, 'rsiFrequency': 42, 'sellZoneDistance': 4, 'avgUpATRSum': 3, 'useAbsoluteRSIBarrier': False, 'barrierLevel': 50, 'pyramiding': 7}. Best is trial 44 with value: 5.887907099335167.\n"
     ]
    },
    {
     "name": "stdout",
     "output_type": "stream",
     "text": [
      "[ARKMUSDT-30min] Trial 48: 参数 {'frequency': 10, 'rsiFrequency': 42, 'sellZoneDistance': 4, 'avgUpATRSum': 3, 'useAbsoluteRSIBarrier': False, 'barrierLevel': 50, 'pyramiding': 7} -> 得分 5.89\n",
      "[ARKMUSDT-30min] Trial 45: 参数 {'frequency': 10, 'rsiFrequency': 42, 'sellZoneDistance': 4, 'avgUpATRSum': 3, 'useAbsoluteRSIBarrier': False, 'barrierLevel': 50, 'pyramiding': 7} -> 得分 5.89\n"
     ]
    },
    {
     "name": "stderr",
     "output_type": "stream",
     "text": [
      "[I 2025-03-09 05:28:49,502] Trial 37 finished with value: -0.11151014946384816 and parameters: {'frequency': 10, 'rsiFrequency': 42, 'sellZoneDistance': 3, 'avgUpATRSum': 6, 'useAbsoluteRSIBarrier': False, 'barrierLevel': 54, 'pyramiding': 9}. Best is trial 44 with value: 5.887907099335167.\n"
     ]
    },
    {
     "name": "stdout",
     "output_type": "stream",
     "text": [
      "[ARKMUSDT-30min] Trial 37: 参数 {'frequency': 10, 'rsiFrequency': 42, 'sellZoneDistance': 3, 'avgUpATRSum': 6, 'useAbsoluteRSIBarrier': False, 'barrierLevel': 54, 'pyramiding': 9} -> 得分 -0.11\n",
      "[ARKMUSDT-30min] Trial 39: 参数 {'frequency': 10, 'rsiFrequency': 38, 'sellZoneDistance': 4, 'avgUpATRSum': 3, 'useAbsoluteRSIBarrier': False, 'barrierLevel': 52, 'pyramiding': 6} -> 得分 3.09\n"
     ]
    },
    {
     "name": "stderr",
     "output_type": "stream",
     "text": [
      "[I 2025-03-09 05:28:49,854] Trial 39 finished with value: 3.094522905709006 and parameters: {'frequency': 10, 'rsiFrequency': 38, 'sellZoneDistance': 4, 'avgUpATRSum': 3, 'useAbsoluteRSIBarrier': False, 'barrierLevel': 52, 'pyramiding': 6}. Best is trial 44 with value: 5.887907099335167.\n",
      "[I 2025-03-09 05:28:53,807] Trial 40 finished with value: 3.094522905709006 and parameters: {'frequency': 10, 'rsiFrequency': 38, 'sellZoneDistance': 4, 'avgUpATRSum': 3, 'useAbsoluteRSIBarrier': False, 'barrierLevel': 52, 'pyramiding': 6}. Best is trial 44 with value: 5.887907099335167.\n"
     ]
    },
    {
     "name": "stdout",
     "output_type": "stream",
     "text": [
      "[ARKMUSDT-30min] Trial 40: 参数 {'frequency': 10, 'rsiFrequency': 38, 'sellZoneDistance': 4, 'avgUpATRSum': 3, 'useAbsoluteRSIBarrier': False, 'barrierLevel': 52, 'pyramiding': 6} -> 得分 3.09\n"
     ]
    },
    {
     "name": "stderr",
     "output_type": "stream",
     "text": [
      "[I 2025-03-09 05:28:55,541] Trial 51 finished with value: -1.5223643860492542 and parameters: {'frequency': 10, 'rsiFrequency': 38, 'sellZoneDistance': 4, 'avgUpATRSum': 4, 'useAbsoluteRSIBarrier': False, 'barrierLevel': 50, 'pyramiding': 6}. Best is trial 44 with value: 5.887907099335167.\n"
     ]
    },
    {
     "name": "stdout",
     "output_type": "stream",
     "text": [
      "[ARKMUSDT-30min] Trial 51: 参数 {'frequency': 10, 'rsiFrequency': 38, 'sellZoneDistance': 4, 'avgUpATRSum': 4, 'useAbsoluteRSIBarrier': False, 'barrierLevel': 50, 'pyramiding': 6} -> 得分 -1.52\n"
     ]
    },
    {
     "name": "stderr",
     "output_type": "stream",
     "text": [
      "[I 2025-03-09 05:29:00,550] Trial 49 finished with value: 5.887907099335167 and parameters: {'frequency': 10, 'rsiFrequency': 42, 'sellZoneDistance': 4, 'avgUpATRSum': 3, 'useAbsoluteRSIBarrier': False, 'barrierLevel': 50, 'pyramiding': 7}. Best is trial 44 with value: 5.887907099335167.\n"
     ]
    },
    {
     "name": "stdout",
     "output_type": "stream",
     "text": [
      "[ARKMUSDT-30min] Trial 47: 参数 {'frequency': 10, 'rsiFrequency': 42, 'sellZoneDistance': 4, 'avgUpATRSum': 3, 'useAbsoluteRSIBarrier': False, 'barrierLevel': 50, 'pyramiding': 7} -> 得分 5.89\n",
      "[ARKMUSDT-30min] Trial 49: 参数 {'frequency': 10, 'rsiFrequency': 42, 'sellZoneDistance': 4, 'avgUpATRSum': 3, 'useAbsoluteRSIBarrier': False, 'barrierLevel': 50, 'pyramiding': 7} -> 得分 5.89\n"
     ]
    },
    {
     "name": "stderr",
     "output_type": "stream",
     "text": [
      "[I 2025-03-09 05:29:00,900] Trial 47 finished with value: 5.887907099335167 and parameters: {'frequency': 10, 'rsiFrequency': 42, 'sellZoneDistance': 4, 'avgUpATRSum': 3, 'useAbsoluteRSIBarrier': False, 'barrierLevel': 50, 'pyramiding': 7}. Best is trial 44 with value: 5.887907099335167.\n",
      "[I 2025-03-09 05:29:27,244] Trial 53 finished with value: 3.346078155080054 and parameters: {'frequency': 10, 'rsiFrequency': 42, 'sellZoneDistance': 4, 'avgUpATRSum': 4, 'useAbsoluteRSIBarrier': False, 'barrierLevel': 50, 'pyramiding': 6}. Best is trial 44 with value: 5.887907099335167.\n"
     ]
    },
    {
     "name": "stdout",
     "output_type": "stream",
     "text": [
      "[ARKMUSDT-30min] Trial 53: 参数 {'frequency': 10, 'rsiFrequency': 42, 'sellZoneDistance': 4, 'avgUpATRSum': 4, 'useAbsoluteRSIBarrier': False, 'barrierLevel': 50, 'pyramiding': 6} -> 得分 3.35\n"
     ]
    },
    {
     "name": "stderr",
     "output_type": "stream",
     "text": [
      "[I 2025-03-09 05:29:35,498] Trial 56 finished with value: 3.4775636885210606 and parameters: {'frequency': 10, 'rsiFrequency': 40, 'sellZoneDistance': 6, 'avgUpATRSum': 4, 'useAbsoluteRSIBarrier': False, 'barrierLevel': 52, 'pyramiding': 6}. Best is trial 44 with value: 5.887907099335167.\n"
     ]
    },
    {
     "name": "stdout",
     "output_type": "stream",
     "text": [
      "[ARKMUSDT-30min] Trial 56: 参数 {'frequency': 10, 'rsiFrequency': 40, 'sellZoneDistance': 6, 'avgUpATRSum': 4, 'useAbsoluteRSIBarrier': False, 'barrierLevel': 52, 'pyramiding': 6} -> 得分 3.48\n"
     ]
    },
    {
     "name": "stderr",
     "output_type": "stream",
     "text": [
      "[I 2025-03-09 05:29:37,340] Trial 54 finished with value: 3.346078155080054 and parameters: {'frequency': 10, 'rsiFrequency': 42, 'sellZoneDistance': 4, 'avgUpATRSum': 4, 'useAbsoluteRSIBarrier': False, 'barrierLevel': 50, 'pyramiding': 6}. Best is trial 44 with value: 5.887907099335167.\n"
     ]
    },
    {
     "name": "stdout",
     "output_type": "stream",
     "text": [
      "[ARKMUSDT-30min] Trial 54: 参数 {'frequency': 10, 'rsiFrequency': 42, 'sellZoneDistance': 4, 'avgUpATRSum': 4, 'useAbsoluteRSIBarrier': False, 'barrierLevel': 50, 'pyramiding': 6} -> 得分 3.35\n"
     ]
    },
    {
     "name": "stderr",
     "output_type": "stream",
     "text": [
      "[I 2025-03-09 05:29:42,564] Trial 52 finished with value: 6.62971987571056 and parameters: {'frequency': 10, 'rsiFrequency': 42, 'sellZoneDistance': 4, 'avgUpATRSum': 3, 'useAbsoluteRSIBarrier': False, 'barrierLevel': 50, 'pyramiding': 6}. Best is trial 52 with value: 6.62971987571056.\n"
     ]
    },
    {
     "name": "stdout",
     "output_type": "stream",
     "text": [
      "[ARKMUSDT-30min] Trial 52: 参数 {'frequency': 10, 'rsiFrequency': 42, 'sellZoneDistance': 4, 'avgUpATRSum': 3, 'useAbsoluteRSIBarrier': False, 'barrierLevel': 50, 'pyramiding': 6} -> 得分 6.63\n"
     ]
    },
    {
     "name": "stderr",
     "output_type": "stream",
     "text": [
      "[I 2025-03-09 05:29:47,853] Trial 58 finished with value: 1.3674881145874787 and parameters: {'frequency': 10, 'rsiFrequency': 40, 'sellZoneDistance': 3, 'avgUpATRSum': 4, 'useAbsoluteRSIBarrier': False, 'barrierLevel': 50, 'pyramiding': 6}. Best is trial 52 with value: 6.62971987571056.\n"
     ]
    },
    {
     "name": "stdout",
     "output_type": "stream",
     "text": [
      "[ARKMUSDT-30min] Trial 58: 参数 {'frequency': 10, 'rsiFrequency': 40, 'sellZoneDistance': 3, 'avgUpATRSum': 4, 'useAbsoluteRSIBarrier': False, 'barrierLevel': 50, 'pyramiding': 6} -> 得分 1.37\n"
     ]
    },
    {
     "name": "stderr",
     "output_type": "stream",
     "text": [
      "[I 2025-03-09 05:29:49,762] Trial 55 finished with value: 3.346078155080054 and parameters: {'frequency': 10, 'rsiFrequency': 42, 'sellZoneDistance': 4, 'avgUpATRSum': 4, 'useAbsoluteRSIBarrier': False, 'barrierLevel': 50, 'pyramiding': 6}. Best is trial 52 with value: 6.62971987571056.\n"
     ]
    },
    {
     "name": "stdout",
     "output_type": "stream",
     "text": [
      "[ARKMUSDT-30min] Trial 55: 参数 {'frequency': 10, 'rsiFrequency': 42, 'sellZoneDistance': 4, 'avgUpATRSum': 4, 'useAbsoluteRSIBarrier': False, 'barrierLevel': 50, 'pyramiding': 6} -> 得分 3.35\n"
     ]
    },
    {
     "name": "stderr",
     "output_type": "stream",
     "text": [
      "[I 2025-03-09 05:29:56,329] Trial 59 finished with value: 1.3674881145874787 and parameters: {'frequency': 10, 'rsiFrequency': 40, 'sellZoneDistance': 3, 'avgUpATRSum': 4, 'useAbsoluteRSIBarrier': False, 'barrierLevel': 50, 'pyramiding': 6}. Best is trial 52 with value: 6.62971987571056.\n"
     ]
    },
    {
     "name": "stdout",
     "output_type": "stream",
     "text": [
      "[ARKMUSDT-30min] Trial 59: 参数 {'frequency': 10, 'rsiFrequency': 40, 'sellZoneDistance': 3, 'avgUpATRSum': 4, 'useAbsoluteRSIBarrier': False, 'barrierLevel': 50, 'pyramiding': 6} -> 得分 1.37\n"
     ]
    },
    {
     "name": "stderr",
     "output_type": "stream",
     "text": [
      "[I 2025-03-09 05:30:00,568] Trial 57 finished with value: 1.3674881145874787 and parameters: {'frequency': 10, 'rsiFrequency': 40, 'sellZoneDistance': 3, 'avgUpATRSum': 4, 'useAbsoluteRSIBarrier': False, 'barrierLevel': 50, 'pyramiding': 6}. Best is trial 52 with value: 6.62971987571056.\n"
     ]
    },
    {
     "name": "stdout",
     "output_type": "stream",
     "text": [
      "[ARKMUSDT-30min] Trial 57: 参数 {'frequency': 10, 'rsiFrequency': 40, 'sellZoneDistance': 3, 'avgUpATRSum': 4, 'useAbsoluteRSIBarrier': False, 'barrierLevel': 50, 'pyramiding': 6} -> 得分 1.37\n"
     ]
    },
    {
     "name": "stderr",
     "output_type": "stream",
     "text": [
      "[I 2025-03-09 05:32:17,303] Trial 60 finished with value: 1.505238233396991 and parameters: {'frequency': 10, 'rsiFrequency': 38, 'sellZoneDistance': 3, 'avgUpATRSum': 4, 'useAbsoluteRSIBarrier': False, 'barrierLevel': 52, 'pyramiding': 6}. Best is trial 52 with value: 6.62971987571056.\n"
     ]
    },
    {
     "name": "stdout",
     "output_type": "stream",
     "text": [
      "[ARKMUSDT-30min] Trial 60: 参数 {'frequency': 10, 'rsiFrequency': 38, 'sellZoneDistance': 3, 'avgUpATRSum': 4, 'useAbsoluteRSIBarrier': False, 'barrierLevel': 52, 'pyramiding': 6} -> 得分 1.51\n"
     ]
    },
    {
     "name": "stderr",
     "output_type": "stream",
     "text": [
      "[I 2025-03-09 05:32:32,893] Trial 61 finished with value: 1.505238233396991 and parameters: {'frequency': 10, 'rsiFrequency': 38, 'sellZoneDistance': 3, 'avgUpATRSum': 4, 'useAbsoluteRSIBarrier': False, 'barrierLevel': 50, 'pyramiding': 6}. Best is trial 52 with value: 6.62971987571056.\n"
     ]
    },
    {
     "name": "stdout",
     "output_type": "stream",
     "text": [
      "[ARKMUSDT-30min] Trial 61: 参数 {'frequency': 10, 'rsiFrequency': 38, 'sellZoneDistance': 3, 'avgUpATRSum': 4, 'useAbsoluteRSIBarrier': False, 'barrierLevel': 50, 'pyramiding': 6} -> 得分 1.51\n"
     ]
    },
    {
     "name": "stderr",
     "output_type": "stream",
     "text": [
      "[I 2025-03-09 05:32:40,143] Trial 64 finished with value: 1.3674881145874787 and parameters: {'frequency': 10, 'rsiFrequency': 40, 'sellZoneDistance': 3, 'avgUpATRSum': 4, 'useAbsoluteRSIBarrier': False, 'barrierLevel': 50, 'pyramiding': 6}. Best is trial 52 with value: 6.62971987571056.\n"
     ]
    },
    {
     "name": "stdout",
     "output_type": "stream",
     "text": [
      "[ARKMUSDT-30min] Trial 64: 参数 {'frequency': 10, 'rsiFrequency': 40, 'sellZoneDistance': 3, 'avgUpATRSum': 4, 'useAbsoluteRSIBarrier': False, 'barrierLevel': 50, 'pyramiding': 6} -> 得分 1.37\n"
     ]
    },
    {
     "name": "stderr",
     "output_type": "stream",
     "text": [
      "[I 2025-03-09 05:32:48,738] Trial 62 finished with value: 1.3674881145874787 and parameters: {'frequency': 10, 'rsiFrequency': 40, 'sellZoneDistance': 3, 'avgUpATRSum': 4, 'useAbsoluteRSIBarrier': False, 'barrierLevel': 52, 'pyramiding': 6}. Best is trial 52 with value: 6.62971987571056.\n"
     ]
    },
    {
     "name": "stdout",
     "output_type": "stream",
     "text": [
      "[ARKMUSDT-30min] Trial 62: 参数 {'frequency': 10, 'rsiFrequency': 40, 'sellZoneDistance': 3, 'avgUpATRSum': 4, 'useAbsoluteRSIBarrier': False, 'barrierLevel': 52, 'pyramiding': 6} -> 得分 1.37\n"
     ]
    },
    {
     "name": "stderr",
     "output_type": "stream",
     "text": [
      "[I 2025-03-09 05:32:50,921] Trial 63 finished with value: 1.3674881145874787 and parameters: {'frequency': 10, 'rsiFrequency': 40, 'sellZoneDistance': 3, 'avgUpATRSum': 4, 'useAbsoluteRSIBarrier': False, 'barrierLevel': 52, 'pyramiding': 6}. Best is trial 52 with value: 6.62971987571056.\n"
     ]
    },
    {
     "name": "stdout",
     "output_type": "stream",
     "text": [
      "[ARKMUSDT-30min] Trial 63: 参数 {'frequency': 10, 'rsiFrequency': 40, 'sellZoneDistance': 3, 'avgUpATRSum': 4, 'useAbsoluteRSIBarrier': False, 'barrierLevel': 52, 'pyramiding': 6} -> 得分 1.37\n",
      "[ARKMUSDT-30min] Trial 66: 参数 {'frequency': 10, 'rsiFrequency': 40, 'sellZoneDistance': 3, 'avgUpATRSum': 4, 'useAbsoluteRSIBarrier': False, 'barrierLevel': 50, 'pyramiding': 7} -> 得分 1.34\n"
     ]
    },
    {
     "name": "stderr",
     "output_type": "stream",
     "text": [
      "[I 2025-03-09 05:32:53,693] Trial 66 finished with value: 1.338368755861587 and parameters: {'frequency': 10, 'rsiFrequency': 40, 'sellZoneDistance': 3, 'avgUpATRSum': 4, 'useAbsoluteRSIBarrier': False, 'barrierLevel': 50, 'pyramiding': 7}. Best is trial 52 with value: 6.62971987571056.\n",
      "[I 2025-03-09 05:32:54,278] Trial 65 finished with value: 1.3674881145874787 and parameters: {'frequency': 10, 'rsiFrequency': 40, 'sellZoneDistance': 3, 'avgUpATRSum': 4, 'useAbsoluteRSIBarrier': False, 'barrierLevel': 52, 'pyramiding': 6}. Best is trial 52 with value: 6.62971987571056.\n"
     ]
    },
    {
     "name": "stdout",
     "output_type": "stream",
     "text": [
      "[ARKMUSDT-30min] Trial 65: 参数 {'frequency': 10, 'rsiFrequency': 40, 'sellZoneDistance': 3, 'avgUpATRSum': 4, 'useAbsoluteRSIBarrier': False, 'barrierLevel': 52, 'pyramiding': 6} -> 得分 1.37\n",
      "[ARKMUSDT-30min] Trial 67: 参数 {'frequency': 10, 'rsiFrequency': 42, 'sellZoneDistance': 3, 'avgUpATRSum': 4, 'useAbsoluteRSIBarrier': False, 'barrierLevel': 50, 'pyramiding': 7} -> 得分 0.61\n"
     ]
    },
    {
     "name": "stderr",
     "output_type": "stream",
     "text": [
      "[I 2025-03-09 05:33:07,835] Trial 67 finished with value: 0.6117957076908128 and parameters: {'frequency': 10, 'rsiFrequency': 42, 'sellZoneDistance': 3, 'avgUpATRSum': 4, 'useAbsoluteRSIBarrier': False, 'barrierLevel': 50, 'pyramiding': 7}. Best is trial 52 with value: 6.62971987571056.\n",
      "[I 2025-03-09 05:33:34,381] Trial 68 finished with value: 0.6117957076908128 and parameters: {'frequency': 10, 'rsiFrequency': 42, 'sellZoneDistance': 3, 'avgUpATRSum': 4, 'useAbsoluteRSIBarrier': False, 'barrierLevel': 50, 'pyramiding': 7}. Best is trial 52 with value: 6.62971987571056.\n"
     ]
    },
    {
     "name": "stdout",
     "output_type": "stream",
     "text": [
      "[ARKMUSDT-30min] Trial 68: 参数 {'frequency': 10, 'rsiFrequency': 42, 'sellZoneDistance': 3, 'avgUpATRSum': 4, 'useAbsoluteRSIBarrier': False, 'barrierLevel': 50, 'pyramiding': 7} -> 得分 0.61\n"
     ]
    },
    {
     "name": "stderr",
     "output_type": "stream",
     "text": [
      "[I 2025-03-09 05:33:40,001] Trial 69 finished with value: 1.338368755861587 and parameters: {'frequency': 10, 'rsiFrequency': 40, 'sellZoneDistance': 3, 'avgUpATRSum': 4, 'useAbsoluteRSIBarrier': False, 'barrierLevel': 50, 'pyramiding': 7}. Best is trial 52 with value: 6.62971987571056.\n"
     ]
    },
    {
     "name": "stdout",
     "output_type": "stream",
     "text": [
      "[ARKMUSDT-30min] Trial 69: 参数 {'frequency': 10, 'rsiFrequency': 40, 'sellZoneDistance': 3, 'avgUpATRSum': 4, 'useAbsoluteRSIBarrier': False, 'barrierLevel': 50, 'pyramiding': 7} -> 得分 1.34\n"
     ]
    },
    {
     "name": "stderr",
     "output_type": "stream",
     "text": [
      "[I 2025-03-09 05:33:46,068] Trial 72 finished with value: 0.6117957076908128 and parameters: {'frequency': 10, 'rsiFrequency': 42, 'sellZoneDistance': 3, 'avgUpATRSum': 4, 'useAbsoluteRSIBarrier': False, 'barrierLevel': 50, 'pyramiding': 7}. Best is trial 52 with value: 6.62971987571056.\n",
      "[I 2025-03-09 05:33:46,190] Trial 70 finished with value: 1.4800086407945492 and parameters: {'frequency': 10, 'rsiFrequency': 38, 'sellZoneDistance': 3, 'avgUpATRSum': 4, 'useAbsoluteRSIBarrier': False, 'barrierLevel': 50, 'pyramiding': 7}. Best is trial 52 with value: 6.62971987571056.\n"
     ]
    },
    {
     "name": "stdout",
     "output_type": "stream",
     "text": [
      "[ARKMUSDT-30min] Trial 72: 参数 {'frequency': 10, 'rsiFrequency': 42, 'sellZoneDistance': 3, 'avgUpATRSum': 4, 'useAbsoluteRSIBarrier': False, 'barrierLevel': 50, 'pyramiding': 7} -> 得分 0.61\n",
      "[ARKMUSDT-30min] Trial 70: 参数 {'frequency': 10, 'rsiFrequency': 38, 'sellZoneDistance': 3, 'avgUpATRSum': 4, 'useAbsoluteRSIBarrier': False, 'barrierLevel': 50, 'pyramiding': 7} -> 得分 1.48\n"
     ]
    },
    {
     "name": "stderr",
     "output_type": "stream",
     "text": [
      "[I 2025-03-09 05:33:48,767] Trial 73 finished with value: 0.6117957076908128 and parameters: {'frequency': 10, 'rsiFrequency': 42, 'sellZoneDistance': 3, 'avgUpATRSum': 4, 'useAbsoluteRSIBarrier': False, 'barrierLevel': 50, 'pyramiding': 7}. Best is trial 52 with value: 6.62971987571056.\n"
     ]
    },
    {
     "name": "stdout",
     "output_type": "stream",
     "text": [
      "[ARKMUSDT-30min] Trial 73: 参数 {'frequency': 10, 'rsiFrequency': 42, 'sellZoneDistance': 3, 'avgUpATRSum': 4, 'useAbsoluteRSIBarrier': False, 'barrierLevel': 50, 'pyramiding': 7} -> 得分 0.61\n",
      "[ARKMUSDT-30min] Trial 71: 参数 {'frequency': 10, 'rsiFrequency': 38, 'sellZoneDistance': 3, 'avgUpATRSum': 4, 'useAbsoluteRSIBarrier': False, 'barrierLevel': 50, 'pyramiding': 7} -> 得分 1.48\n"
     ]
    },
    {
     "name": "stderr",
     "output_type": "stream",
     "text": [
      "[I 2025-03-09 05:33:48,905] Trial 71 finished with value: 1.4800086407945492 and parameters: {'frequency': 10, 'rsiFrequency': 38, 'sellZoneDistance': 3, 'avgUpATRSum': 4, 'useAbsoluteRSIBarrier': False, 'barrierLevel': 50, 'pyramiding': 7}. Best is trial 52 with value: 6.62971987571056.\n",
      "[I 2025-03-09 05:33:51,730] Trial 76 finished with value: 0.6117957076908128 and parameters: {'frequency': 10, 'rsiFrequency': 42, 'sellZoneDistance': 3, 'avgUpATRSum': 4, 'useAbsoluteRSIBarrier': False, 'barrierLevel': 50, 'pyramiding': 7}. Best is trial 52 with value: 6.62971987571056.\n"
     ]
    },
    {
     "name": "stdout",
     "output_type": "stream",
     "text": [
      "[ARKMUSDT-30min] Trial 76: 参数 {'frequency': 10, 'rsiFrequency': 42, 'sellZoneDistance': 3, 'avgUpATRSum': 4, 'useAbsoluteRSIBarrier': False, 'barrierLevel': 50, 'pyramiding': 7} -> 得分 0.61\n"
     ]
    },
    {
     "name": "stderr",
     "output_type": "stream",
     "text": [
      "[I 2025-03-09 05:33:54,365] Trial 78 finished with value: 0.6117957076908128 and parameters: {'frequency': 10, 'rsiFrequency': 42, 'sellZoneDistance': 3, 'avgUpATRSum': 4, 'useAbsoluteRSIBarrier': False, 'barrierLevel': 50, 'pyramiding': 7}. Best is trial 52 with value: 6.62971987571056.\n"
     ]
    },
    {
     "name": "stdout",
     "output_type": "stream",
     "text": [
      "[ARKMUSDT-30min] Trial 78: 参数 {'frequency': 10, 'rsiFrequency': 42, 'sellZoneDistance': 3, 'avgUpATRSum': 4, 'useAbsoluteRSIBarrier': False, 'barrierLevel': 50, 'pyramiding': 7} -> 得分 0.61\n"
     ]
    },
    {
     "name": "stderr",
     "output_type": "stream",
     "text": [
      "[I 2025-03-09 05:33:54,960] Trial 79 finished with value: -3.632037121418667 and parameters: {'frequency': 12, 'rsiFrequency': 42, 'sellZoneDistance': 3, 'avgUpATRSum': 4, 'useAbsoluteRSIBarrier': False, 'barrierLevel': 50, 'pyramiding': 7}. Best is trial 52 with value: 6.62971987571056.\n"
     ]
    },
    {
     "name": "stdout",
     "output_type": "stream",
     "text": [
      "[ARKMUSDT-30min] Trial 79: 参数 {'frequency': 12, 'rsiFrequency': 42, 'sellZoneDistance': 3, 'avgUpATRSum': 4, 'useAbsoluteRSIBarrier': False, 'barrierLevel': 50, 'pyramiding': 7} -> 得分 -3.63\n"
     ]
    },
    {
     "name": "stderr",
     "output_type": "stream",
     "text": [
      "[I 2025-03-09 05:33:58,737] Trial 74 finished with value: 6.588253941523344 and parameters: {'frequency': 10, 'rsiFrequency': 42, 'sellZoneDistance': 3, 'avgUpATRSum': 3, 'useAbsoluteRSIBarrier': False, 'barrierLevel': 50, 'pyramiding': 7}. Best is trial 52 with value: 6.62971987571056.\n"
     ]
    },
    {
     "name": "stdout",
     "output_type": "stream",
     "text": [
      "[ARKMUSDT-30min] Trial 74: 参数 {'frequency': 10, 'rsiFrequency': 42, 'sellZoneDistance': 3, 'avgUpATRSum': 3, 'useAbsoluteRSIBarrier': False, 'barrierLevel': 50, 'pyramiding': 7} -> 得分 6.59\n"
     ]
    },
    {
     "name": "stderr",
     "output_type": "stream",
     "text": [
      "[I 2025-03-09 05:34:02,259] Trial 81 finished with value: 6.588253941523344 and parameters: {'frequency': 10, 'rsiFrequency': 42, 'sellZoneDistance': 3, 'avgUpATRSum': 3, 'useAbsoluteRSIBarrier': False, 'barrierLevel': 50, 'pyramiding': 7}. Best is trial 52 with value: 6.62971987571056.\n",
      "[I 2025-03-09 05:34:02,373] Trial 77 finished with value: 0.6117957076908128 and parameters: {'frequency': 10, 'rsiFrequency': 42, 'sellZoneDistance': 3, 'avgUpATRSum': 4, 'useAbsoluteRSIBarrier': False, 'barrierLevel': 50, 'pyramiding': 7}. Best is trial 52 with value: 6.62971987571056.\n"
     ]
    },
    {
     "name": "stdout",
     "output_type": "stream",
     "text": [
      "[ARKMUSDT-30min] Trial 81: 参数 {'frequency': 10, 'rsiFrequency': 42, 'sellZoneDistance': 3, 'avgUpATRSum': 3, 'useAbsoluteRSIBarrier': False, 'barrierLevel': 50, 'pyramiding': 7} -> 得分 6.59\n",
      "[ARKMUSDT-30min] Trial 77: 参数 {'frequency': 10, 'rsiFrequency': 42, 'sellZoneDistance': 3, 'avgUpATRSum': 4, 'useAbsoluteRSIBarrier': False, 'barrierLevel': 50, 'pyramiding': 7} -> 得分 0.61\n"
     ]
    },
    {
     "name": "stderr",
     "output_type": "stream",
     "text": [
      "[I 2025-03-09 05:34:03,654] Trial 75 finished with value: 6.588253941523344 and parameters: {'frequency': 10, 'rsiFrequency': 42, 'sellZoneDistance': 3, 'avgUpATRSum': 3, 'useAbsoluteRSIBarrier': False, 'barrierLevel': 50, 'pyramiding': 7}. Best is trial 52 with value: 6.62971987571056.\n"
     ]
    },
    {
     "name": "stdout",
     "output_type": "stream",
     "text": [
      "[ARKMUSDT-30min] Trial 75: 参数 {'frequency': 10, 'rsiFrequency': 42, 'sellZoneDistance': 3, 'avgUpATRSum': 3, 'useAbsoluteRSIBarrier': False, 'barrierLevel': 50, 'pyramiding': 7} -> 得分 6.59\n"
     ]
    },
    {
     "name": "stderr",
     "output_type": "stream",
     "text": [
      "[I 2025-03-09 05:34:12,592] Trial 80 finished with value: 6.588253941523344 and parameters: {'frequency': 10, 'rsiFrequency': 42, 'sellZoneDistance': 3, 'avgUpATRSum': 3, 'useAbsoluteRSIBarrier': False, 'barrierLevel': 50, 'pyramiding': 7}. Best is trial 52 with value: 6.62971987571056.\n"
     ]
    },
    {
     "name": "stdout",
     "output_type": "stream",
     "text": [
      "[ARKMUSDT-30min] Trial 80: 参数 {'frequency': 10, 'rsiFrequency': 42, 'sellZoneDistance': 3, 'avgUpATRSum': 3, 'useAbsoluteRSIBarrier': False, 'barrierLevel': 50, 'pyramiding': 7} -> 得分 6.59\n"
     ]
    },
    {
     "name": "stderr",
     "output_type": "stream",
     "text": [
      "[I 2025-03-09 05:34:24,948] Trial 83 finished with value: -1.1276703696850316 and parameters: {'frequency': 12, 'rsiFrequency': 42, 'sellZoneDistance': 3, 'avgUpATRSum': 3, 'useAbsoluteRSIBarrier': False, 'barrierLevel': 48, 'pyramiding': 7}. Best is trial 52 with value: 6.62971987571056.\n"
     ]
    },
    {
     "name": "stdout",
     "output_type": "stream",
     "text": [
      "[ARKMUSDT-30min] Trial 83: 参数 {'frequency': 12, 'rsiFrequency': 42, 'sellZoneDistance': 3, 'avgUpATRSum': 3, 'useAbsoluteRSIBarrier': False, 'barrierLevel': 48, 'pyramiding': 7} -> 得分 -1.13\n"
     ]
    },
    {
     "name": "stderr",
     "output_type": "stream",
     "text": [
      "[I 2025-03-09 05:34:27,769] Trial 82 finished with value: 6.588253941523344 and parameters: {'frequency': 10, 'rsiFrequency': 42, 'sellZoneDistance': 3, 'avgUpATRSum': 3, 'useAbsoluteRSIBarrier': False, 'barrierLevel': 48, 'pyramiding': 7}. Best is trial 52 with value: 6.62971987571056.\n"
     ]
    },
    {
     "name": "stdout",
     "output_type": "stream",
     "text": [
      "[ARKMUSDT-30min] Trial 82: 参数 {'frequency': 10, 'rsiFrequency': 42, 'sellZoneDistance': 3, 'avgUpATRSum': 3, 'useAbsoluteRSIBarrier': False, 'barrierLevel': 48, 'pyramiding': 7} -> 得分 6.59\n"
     ]
    },
    {
     "name": "stderr",
     "output_type": "stream",
     "text": [
      "[I 2025-03-09 05:34:33,677] Trial 84 finished with value: -1.1276703696850316 and parameters: {'frequency': 12, 'rsiFrequency': 42, 'sellZoneDistance': 3, 'avgUpATRSum': 3, 'useAbsoluteRSIBarrier': False, 'barrierLevel': 48, 'pyramiding': 7}. Best is trial 52 with value: 6.62971987571056.\n"
     ]
    },
    {
     "name": "stdout",
     "output_type": "stream",
     "text": [
      "[ARKMUSDT-30min] Trial 84: 参数 {'frequency': 12, 'rsiFrequency': 42, 'sellZoneDistance': 3, 'avgUpATRSum': 3, 'useAbsoluteRSIBarrier': False, 'barrierLevel': 48, 'pyramiding': 7} -> 得分 -1.13\n"
     ]
    },
    {
     "name": "stderr",
     "output_type": "stream",
     "text": [
      "[I 2025-03-09 05:34:34,732] Trial 85 finished with value: -1.1276703696850316 and parameters: {'frequency': 12, 'rsiFrequency': 42, 'sellZoneDistance': 3, 'avgUpATRSum': 3, 'useAbsoluteRSIBarrier': False, 'barrierLevel': 48, 'pyramiding': 7}. Best is trial 52 with value: 6.62971987571056.\n"
     ]
    },
    {
     "name": "stdout",
     "output_type": "stream",
     "text": [
      "[ARKMUSDT-30min] Trial 85: 参数 {'frequency': 12, 'rsiFrequency': 42, 'sellZoneDistance': 3, 'avgUpATRSum': 3, 'useAbsoluteRSIBarrier': False, 'barrierLevel': 48, 'pyramiding': 7} -> 得分 -1.13\n"
     ]
    },
    {
     "name": "stderr",
     "output_type": "stream",
     "text": [
      "[I 2025-03-09 05:34:43,877] Trial 87 finished with value: -1.1276703696850316 and parameters: {'frequency': 12, 'rsiFrequency': 42, 'sellZoneDistance': 3, 'avgUpATRSum': 3, 'useAbsoluteRSIBarrier': False, 'barrierLevel': 48, 'pyramiding': 7}. Best is trial 52 with value: 6.62971987571056.\n",
      "[I 2025-03-09 05:34:44,528] Trial 89 finished with value: -4.541609375235852 and parameters: {'frequency': 12, 'rsiFrequency': 42, 'sellZoneDistance': 5, 'avgUpATRSum': 3, 'useAbsoluteRSIBarrier': False, 'barrierLevel': 48, 'pyramiding': 7}. Best is trial 52 with value: 6.62971987571056.\n"
     ]
    },
    {
     "name": "stdout",
     "output_type": "stream",
     "text": [
      "[ARKMUSDT-30min] Trial 87: 参数 {'frequency': 12, 'rsiFrequency': 42, 'sellZoneDistance': 3, 'avgUpATRSum': 3, 'useAbsoluteRSIBarrier': False, 'barrierLevel': 48, 'pyramiding': 7} -> 得分 -1.13\n",
      "[ARKMUSDT-30min] Trial 89: 参数 {'frequency': 12, 'rsiFrequency': 42, 'sellZoneDistance': 5, 'avgUpATRSum': 3, 'useAbsoluteRSIBarrier': False, 'barrierLevel': 48, 'pyramiding': 7} -> 得分 -4.54\n"
     ]
    },
    {
     "name": "stderr",
     "output_type": "stream",
     "text": [
      "[I 2025-03-09 05:34:49,194] Trial 88 finished with value: -1.1276703696850316 and parameters: {'frequency': 12, 'rsiFrequency': 42, 'sellZoneDistance': 3, 'avgUpATRSum': 3, 'useAbsoluteRSIBarrier': False, 'barrierLevel': 48, 'pyramiding': 7}. Best is trial 52 with value: 6.62971987571056.\n"
     ]
    },
    {
     "name": "stdout",
     "output_type": "stream",
     "text": [
      "[ARKMUSDT-30min] Trial 88: 参数 {'frequency': 12, 'rsiFrequency': 42, 'sellZoneDistance': 3, 'avgUpATRSum': 3, 'useAbsoluteRSIBarrier': False, 'barrierLevel': 48, 'pyramiding': 7} -> 得分 -1.13\n"
     ]
    },
    {
     "name": "stderr",
     "output_type": "stream",
     "text": [
      "[I 2025-03-09 05:34:55,117] Trial 86 finished with value: -1.1276703696850316 and parameters: {'frequency': 12, 'rsiFrequency': 42, 'sellZoneDistance': 3, 'avgUpATRSum': 3, 'useAbsoluteRSIBarrier': False, 'barrierLevel': 48, 'pyramiding': 7}. Best is trial 52 with value: 6.62971987571056.\n"
     ]
    },
    {
     "name": "stdout",
     "output_type": "stream",
     "text": [
      "[ARKMUSDT-30min] Trial 86: 参数 {'frequency': 12, 'rsiFrequency': 42, 'sellZoneDistance': 3, 'avgUpATRSum': 3, 'useAbsoluteRSIBarrier': False, 'barrierLevel': 48, 'pyramiding': 7} -> 得分 -1.13\n"
     ]
    },
    {
     "name": "stderr",
     "output_type": "stream",
     "text": [
      "[I 2025-03-09 05:36:33,546] Trial 90 finished with value: -4.541609375235852 and parameters: {'frequency': 12, 'rsiFrequency': 42, 'sellZoneDistance': 5, 'avgUpATRSum': 3, 'useAbsoluteRSIBarrier': False, 'barrierLevel': 48, 'pyramiding': 7}. Best is trial 52 with value: 6.62971987571056.\n"
     ]
    },
    {
     "name": "stdout",
     "output_type": "stream",
     "text": [
      "[ARKMUSDT-30min] Trial 90: 参数 {'frequency': 12, 'rsiFrequency': 42, 'sellZoneDistance': 5, 'avgUpATRSum': 3, 'useAbsoluteRSIBarrier': False, 'barrierLevel': 48, 'pyramiding': 7} -> 得分 -4.54\n"
     ]
    },
    {
     "name": "stderr",
     "output_type": "stream",
     "text": [
      "[I 2025-03-09 05:36:46,325] Trial 92 finished with value: -4.541609375235852 and parameters: {'frequency': 12, 'rsiFrequency': 42, 'sellZoneDistance': 5, 'avgUpATRSum': 3, 'useAbsoluteRSIBarrier': False, 'barrierLevel': 48, 'pyramiding': 7}. Best is trial 52 with value: 6.62971987571056.\n"
     ]
    },
    {
     "name": "stdout",
     "output_type": "stream",
     "text": [
      "[ARKMUSDT-30min] Trial 92: 参数 {'frequency': 12, 'rsiFrequency': 42, 'sellZoneDistance': 5, 'avgUpATRSum': 3, 'useAbsoluteRSIBarrier': False, 'barrierLevel': 48, 'pyramiding': 7} -> 得分 -4.54\n"
     ]
    },
    {
     "name": "stderr",
     "output_type": "stream",
     "text": [
      "[I 2025-03-09 05:36:51,352] Trial 91 finished with value: -4.541609375235852 and parameters: {'frequency': 12, 'rsiFrequency': 42, 'sellZoneDistance': 5, 'avgUpATRSum': 3, 'useAbsoluteRSIBarrier': False, 'barrierLevel': 48, 'pyramiding': 7}. Best is trial 52 with value: 6.62971987571056.\n"
     ]
    },
    {
     "name": "stdout",
     "output_type": "stream",
     "text": [
      "[ARKMUSDT-30min] Trial 91: 参数 {'frequency': 12, 'rsiFrequency': 42, 'sellZoneDistance': 5, 'avgUpATRSum': 3, 'useAbsoluteRSIBarrier': False, 'barrierLevel': 48, 'pyramiding': 7} -> 得分 -4.54\n"
     ]
    },
    {
     "name": "stderr",
     "output_type": "stream",
     "text": [
      "[I 2025-03-09 05:37:12,122] Trial 94 finished with value: -4.541609375235852 and parameters: {'frequency': 12, 'rsiFrequency': 42, 'sellZoneDistance': 5, 'avgUpATRSum': 3, 'useAbsoluteRSIBarrier': False, 'barrierLevel': 48, 'pyramiding': 7}. Best is trial 52 with value: 6.62971987571056.\n"
     ]
    },
    {
     "name": "stdout",
     "output_type": "stream",
     "text": [
      "[ARKMUSDT-30min] Trial 94: 参数 {'frequency': 12, 'rsiFrequency': 42, 'sellZoneDistance': 5, 'avgUpATRSum': 3, 'useAbsoluteRSIBarrier': False, 'barrierLevel': 48, 'pyramiding': 7} -> 得分 -4.54\n"
     ]
    },
    {
     "name": "stderr",
     "output_type": "stream",
     "text": [
      "[I 2025-03-09 05:37:15,925] Trial 95 finished with value: -4.541609375235852 and parameters: {'frequency': 12, 'rsiFrequency': 42, 'sellZoneDistance': 5, 'avgUpATRSum': 3, 'useAbsoluteRSIBarrier': False, 'barrierLevel': 48, 'pyramiding': 7}. Best is trial 52 with value: 6.62971987571056.\n"
     ]
    },
    {
     "name": "stdout",
     "output_type": "stream",
     "text": [
      "[ARKMUSDT-30min] Trial 95: 参数 {'frequency': 12, 'rsiFrequency': 42, 'sellZoneDistance': 5, 'avgUpATRSum': 3, 'useAbsoluteRSIBarrier': False, 'barrierLevel': 48, 'pyramiding': 7} -> 得分 -4.54\n",
      "[ARKMUSDT-30min] Trial 96: 参数 {'frequency': 12, 'rsiFrequency': 42, 'sellZoneDistance': 5, 'avgUpATRSum': 3, 'useAbsoluteRSIBarrier': False, 'barrierLevel': 48, 'pyramiding': 7} -> 得分 -4.54\n"
     ]
    },
    {
     "name": "stderr",
     "output_type": "stream",
     "text": [
      "[I 2025-03-09 05:37:16,142] Trial 96 finished with value: -4.541609375235852 and parameters: {'frequency': 12, 'rsiFrequency': 42, 'sellZoneDistance': 5, 'avgUpATRSum': 3, 'useAbsoluteRSIBarrier': False, 'barrierLevel': 48, 'pyramiding': 7}. Best is trial 52 with value: 6.62971987571056.\n",
      "[I 2025-03-09 05:37:18,177] Trial 93 finished with value: -4.541609375235852 and parameters: {'frequency': 12, 'rsiFrequency': 42, 'sellZoneDistance': 5, 'avgUpATRSum': 3, 'useAbsoluteRSIBarrier': False, 'barrierLevel': 48, 'pyramiding': 7}. Best is trial 52 with value: 6.62971987571056.\n"
     ]
    },
    {
     "name": "stdout",
     "output_type": "stream",
     "text": [
      "[ARKMUSDT-30min] Trial 93: 参数 {'frequency': 12, 'rsiFrequency': 42, 'sellZoneDistance': 5, 'avgUpATRSum': 3, 'useAbsoluteRSIBarrier': False, 'barrierLevel': 48, 'pyramiding': 7} -> 得分 -4.54\n"
     ]
    },
    {
     "name": "stderr",
     "output_type": "stream",
     "text": [
      "[I 2025-03-09 05:37:26,722] Trial 97 finished with value: -4.541609375235852 and parameters: {'frequency': 12, 'rsiFrequency': 42, 'sellZoneDistance': 5, 'avgUpATRSum': 3, 'useAbsoluteRSIBarrier': False, 'barrierLevel': 48, 'pyramiding': 7}. Best is trial 52 with value: 6.62971987571056.\n"
     ]
    },
    {
     "name": "stdout",
     "output_type": "stream",
     "text": [
      "[ARKMUSDT-30min] Trial 97: 参数 {'frequency': 12, 'rsiFrequency': 42, 'sellZoneDistance': 5, 'avgUpATRSum': 3, 'useAbsoluteRSIBarrier': False, 'barrierLevel': 48, 'pyramiding': 7} -> 得分 -4.54\n"
     ]
    },
    {
     "name": "stderr",
     "output_type": "stream",
     "text": [
      "[I 2025-03-09 05:38:23,537] Trial 106 finished with value: -3.803102830901866 and parameters: {'frequency': 12, 'rsiFrequency': 42, 'sellZoneDistance': 5, 'avgUpATRSum': 3, 'useAbsoluteRSIBarrier': False, 'barrierLevel': 48, 'pyramiding': 8}. Best is trial 52 with value: 6.62971987571056.\n"
     ]
    },
    {
     "name": "stdout",
     "output_type": "stream",
     "text": [
      "[ARKMUSDT-30min] Trial 106: 参数 {'frequency': 12, 'rsiFrequency': 42, 'sellZoneDistance': 5, 'avgUpATRSum': 3, 'useAbsoluteRSIBarrier': False, 'barrierLevel': 48, 'pyramiding': 8} -> 得分 -3.80\n"
     ]
    },
    {
     "name": "stderr",
     "output_type": "stream",
     "text": [
      "[I 2025-03-09 05:38:29,349] Trial 102 finished with value: 0.11115420082298264 and parameters: {'frequency': 10, 'rsiFrequency': 42, 'sellZoneDistance': 5, 'avgUpATRSum': 3, 'useAbsoluteRSIBarrier': False, 'barrierLevel': 48, 'pyramiding': 7}. Best is trial 52 with value: 6.62971987571056.\n"
     ]
    },
    {
     "name": "stdout",
     "output_type": "stream",
     "text": [
      "[ARKMUSDT-30min] Trial 102: 参数 {'frequency': 10, 'rsiFrequency': 42, 'sellZoneDistance': 5, 'avgUpATRSum': 3, 'useAbsoluteRSIBarrier': False, 'barrierLevel': 48, 'pyramiding': 7} -> 得分 0.11\n"
     ]
    },
    {
     "name": "stderr",
     "output_type": "stream",
     "text": [
      "[I 2025-03-09 05:38:30,453] Trial 100 finished with value: 0.3848704227232617 and parameters: {'frequency': 12, 'rsiFrequency': 42, 'sellZoneDistance': 4, 'avgUpATRSum': 3, 'useAbsoluteRSIBarrier': False, 'barrierLevel': 48, 'pyramiding': 7}. Best is trial 52 with value: 6.62971987571056.\n"
     ]
    },
    {
     "name": "stdout",
     "output_type": "stream",
     "text": [
      "[ARKMUSDT-30min] Trial 100: 参数 {'frequency': 12, 'rsiFrequency': 42, 'sellZoneDistance': 4, 'avgUpATRSum': 3, 'useAbsoluteRSIBarrier': False, 'barrierLevel': 48, 'pyramiding': 7} -> 得分 0.38\n"
     ]
    },
    {
     "name": "stderr",
     "output_type": "stream",
     "text": [
      "[I 2025-03-09 05:38:32,427] Trial 98 finished with value: -4.541609375235852 and parameters: {'frequency': 12, 'rsiFrequency': 42, 'sellZoneDistance': 5, 'avgUpATRSum': 3, 'useAbsoluteRSIBarrier': False, 'barrierLevel': 48, 'pyramiding': 7}. Best is trial 52 with value: 6.62971987571056.\n"
     ]
    },
    {
     "name": "stdout",
     "output_type": "stream",
     "text": [
      "[ARKMUSDT-30min] Trial 98: 参数 {'frequency': 12, 'rsiFrequency': 42, 'sellZoneDistance': 5, 'avgUpATRSum': 3, 'useAbsoluteRSIBarrier': False, 'barrierLevel': 48, 'pyramiding': 7} -> 得分 -4.54\n",
      "[ARKMUSDT-30min] Trial 101: 参数 {'frequency': 12, 'rsiFrequency': 42, 'sellZoneDistance': 4, 'avgUpATRSum': 3, 'useAbsoluteRSIBarrier': False, 'barrierLevel': 48, 'pyramiding': 7} -> 得分 0.38\n",
      "[ARKMUSDT-30min] Trial 103: 参数 {'frequency': 12, 'rsiFrequency': 42, 'sellZoneDistance': 5, 'avgUpATRSum': 3, 'useAbsoluteRSIBarrier': False, 'barrierLevel': 48, 'pyramiding': 7} -> 得分 -4.54\n"
     ]
    },
    {
     "name": "stderr",
     "output_type": "stream",
     "text": [
      "[I 2025-03-09 05:38:32,933] Trial 101 finished with value: 0.3848704227232617 and parameters: {'frequency': 12, 'rsiFrequency': 42, 'sellZoneDistance': 4, 'avgUpATRSum': 3, 'useAbsoluteRSIBarrier': False, 'barrierLevel': 48, 'pyramiding': 7}. Best is trial 52 with value: 6.62971987571056.\n",
      "[I 2025-03-09 05:38:33,177] Trial 103 finished with value: -4.541609375235852 and parameters: {'frequency': 12, 'rsiFrequency': 42, 'sellZoneDistance': 5, 'avgUpATRSum': 3, 'useAbsoluteRSIBarrier': False, 'barrierLevel': 48, 'pyramiding': 7}. Best is trial 52 with value: 6.62971987571056.\n"
     ]
    },
    {
     "name": "stdout",
     "output_type": "stream",
     "text": [
      "[ARKMUSDT-30min] Trial 105: 参数 {'frequency': 12, 'rsiFrequency': 42, 'sellZoneDistance': 5, 'avgUpATRSum': 3, 'useAbsoluteRSIBarrier': False, 'barrierLevel': 48, 'pyramiding': 8} -> 得分 -3.80\n"
     ]
    },
    {
     "name": "stderr",
     "output_type": "stream",
     "text": [
      "[I 2025-03-09 05:38:34,244] Trial 105 finished with value: -3.803102830901866 and parameters: {'frequency': 12, 'rsiFrequency': 42, 'sellZoneDistance': 5, 'avgUpATRSum': 3, 'useAbsoluteRSIBarrier': False, 'barrierLevel': 48, 'pyramiding': 8}. Best is trial 52 with value: 6.62971987571056.\n",
      "[I 2025-03-09 05:38:36,054] Trial 107 finished with value: -4.541609375235852 and parameters: {'frequency': 12, 'rsiFrequency': 42, 'sellZoneDistance': 5, 'avgUpATRSum': 3, 'useAbsoluteRSIBarrier': False, 'barrierLevel': 48, 'pyramiding': 7}. Best is trial 52 with value: 6.62971987571056.\n"
     ]
    },
    {
     "name": "stdout",
     "output_type": "stream",
     "text": [
      "[ARKMUSDT-30min] Trial 107: 参数 {'frequency': 12, 'rsiFrequency': 42, 'sellZoneDistance': 5, 'avgUpATRSum': 3, 'useAbsoluteRSIBarrier': False, 'barrierLevel': 48, 'pyramiding': 7} -> 得分 -4.54\n"
     ]
    },
    {
     "name": "stderr",
     "output_type": "stream",
     "text": [
      "[I 2025-03-09 05:38:39,851] Trial 99 finished with value: -4.541609375235852 and parameters: {'frequency': 12, 'rsiFrequency': 42, 'sellZoneDistance': 5, 'avgUpATRSum': 3, 'useAbsoluteRSIBarrier': False, 'barrierLevel': 48, 'pyramiding': 7}. Best is trial 52 with value: 6.62971987571056.\n"
     ]
    },
    {
     "name": "stdout",
     "output_type": "stream",
     "text": [
      "[ARKMUSDT-30min] Trial 99: 参数 {'frequency': 12, 'rsiFrequency': 42, 'sellZoneDistance': 5, 'avgUpATRSum': 3, 'useAbsoluteRSIBarrier': False, 'barrierLevel': 48, 'pyramiding': 7} -> 得分 -4.54\n"
     ]
    },
    {
     "name": "stderr",
     "output_type": "stream",
     "text": [
      "[I 2025-03-09 05:38:41,541] Trial 104 finished with value: -4.541609375235852 and parameters: {'frequency': 12, 'rsiFrequency': 42, 'sellZoneDistance': 5, 'avgUpATRSum': 3, 'useAbsoluteRSIBarrier': False, 'barrierLevel': 48, 'pyramiding': 7}. Best is trial 52 with value: 6.62971987571056.\n"
     ]
    },
    {
     "name": "stdout",
     "output_type": "stream",
     "text": [
      "[ARKMUSDT-30min] Trial 104: 参数 {'frequency': 12, 'rsiFrequency': 42, 'sellZoneDistance': 5, 'avgUpATRSum': 3, 'useAbsoluteRSIBarrier': False, 'barrierLevel': 48, 'pyramiding': 7} -> 得分 -4.54\n"
     ]
    },
    {
     "name": "stderr",
     "output_type": "stream",
     "text": [
      "[I 2025-03-09 05:38:45,560] Trial 110 finished with value: -4.541609375235852 and parameters: {'frequency': 12, 'rsiFrequency': 42, 'sellZoneDistance': 5, 'avgUpATRSum': 3, 'useAbsoluteRSIBarrier': False, 'barrierLevel': 48, 'pyramiding': 7}. Best is trial 52 with value: 6.62971987571056.\n"
     ]
    },
    {
     "name": "stdout",
     "output_type": "stream",
     "text": [
      "[ARKMUSDT-30min] Trial 110: 参数 {'frequency': 12, 'rsiFrequency': 42, 'sellZoneDistance': 5, 'avgUpATRSum': 3, 'useAbsoluteRSIBarrier': False, 'barrierLevel': 48, 'pyramiding': 7} -> 得分 -4.54\n"
     ]
    },
    {
     "name": "stderr",
     "output_type": "stream",
     "text": [
      "[I 2025-03-09 05:38:51,046] Trial 109 finished with value: -5.064497827407365 and parameters: {'frequency': 12, 'rsiFrequency': 42, 'sellZoneDistance': 5, 'avgUpATRSum': 3, 'useAbsoluteRSIBarrier': True, 'barrierLevel': 48, 'pyramiding': 8}. Best is trial 52 with value: 6.62971987571056.\n"
     ]
    },
    {
     "name": "stdout",
     "output_type": "stream",
     "text": [
      "[ARKMUSDT-30min] Trial 109: 参数 {'frequency': 12, 'rsiFrequency': 42, 'sellZoneDistance': 5, 'avgUpATRSum': 3, 'useAbsoluteRSIBarrier': True, 'barrierLevel': 48, 'pyramiding': 8} -> 得分 -5.06\n"
     ]
    },
    {
     "name": "stderr",
     "output_type": "stream",
     "text": [
      "[I 2025-03-09 05:38:52,283] Trial 108 finished with value: -5.064497827407365 and parameters: {'frequency': 12, 'rsiFrequency': 42, 'sellZoneDistance': 5, 'avgUpATRSum': 3, 'useAbsoluteRSIBarrier': True, 'barrierLevel': 48, 'pyramiding': 8}. Best is trial 52 with value: 6.62971987571056.\n"
     ]
    },
    {
     "name": "stdout",
     "output_type": "stream",
     "text": [
      "[ARKMUSDT-30min] Trial 108: 参数 {'frequency': 12, 'rsiFrequency': 42, 'sellZoneDistance': 5, 'avgUpATRSum': 3, 'useAbsoluteRSIBarrier': True, 'barrierLevel': 48, 'pyramiding': 8} -> 得分 -5.06\n"
     ]
    },
    {
     "name": "stderr",
     "output_type": "stream",
     "text": [
      "[I 2025-03-09 05:39:00,109] Trial 111 finished with value: -3.803102830901866 and parameters: {'frequency': 12, 'rsiFrequency': 42, 'sellZoneDistance': 5, 'avgUpATRSum': 3, 'useAbsoluteRSIBarrier': False, 'barrierLevel': 48, 'pyramiding': 8}. Best is trial 52 with value: 6.62971987571056.\n"
     ]
    },
    {
     "name": "stdout",
     "output_type": "stream",
     "text": [
      "[ARKMUSDT-30min] Trial 111: 参数 {'frequency': 12, 'rsiFrequency': 42, 'sellZoneDistance': 5, 'avgUpATRSum': 3, 'useAbsoluteRSIBarrier': False, 'barrierLevel': 48, 'pyramiding': 8} -> 得分 -3.80\n"
     ]
    },
    {
     "name": "stderr",
     "output_type": "stream",
     "text": [
      "[I 2025-03-09 05:39:02,782] Trial 112 finished with value: -3.803102830901866 and parameters: {'frequency': 12, 'rsiFrequency': 42, 'sellZoneDistance': 5, 'avgUpATRSum': 3, 'useAbsoluteRSIBarrier': False, 'barrierLevel': 48, 'pyramiding': 8}. Best is trial 52 with value: 6.62971987571056.\n"
     ]
    },
    {
     "name": "stdout",
     "output_type": "stream",
     "text": [
      "[ARKMUSDT-30min] Trial 112: 参数 {'frequency': 12, 'rsiFrequency': 42, 'sellZoneDistance': 5, 'avgUpATRSum': 3, 'useAbsoluteRSIBarrier': False, 'barrierLevel': 48, 'pyramiding': 8} -> 得分 -3.80\n"
     ]
    },
    {
     "name": "stderr",
     "output_type": "stream",
     "text": [
      "[I 2025-03-09 05:39:35,783] Trial 114 finished with value: -2.843768512825896 and parameters: {'frequency': 12, 'rsiFrequency': 42, 'sellZoneDistance': 4, 'avgUpATRSum': 3, 'useAbsoluteRSIBarrier': True, 'barrierLevel': 48, 'pyramiding': 8}. Best is trial 52 with value: 6.62971987571056.\n"
     ]
    },
    {
     "name": "stdout",
     "output_type": "stream",
     "text": [
      "[ARKMUSDT-30min] Trial 114: 参数 {'frequency': 12, 'rsiFrequency': 42, 'sellZoneDistance': 4, 'avgUpATRSum': 3, 'useAbsoluteRSIBarrier': True, 'barrierLevel': 48, 'pyramiding': 8} -> 得分 -2.84\n"
     ]
    },
    {
     "name": "stderr",
     "output_type": "stream",
     "text": [
      "[I 2025-03-09 05:39:36,709] Trial 115 finished with value: -6.975774964597015 and parameters: {'frequency': 10, 'rsiFrequency': 42, 'sellZoneDistance': 5, 'avgUpATRSum': 3, 'useAbsoluteRSIBarrier': True, 'barrierLevel': 48, 'pyramiding': 8}. Best is trial 52 with value: 6.62971987571056.\n"
     ]
    },
    {
     "name": "stdout",
     "output_type": "stream",
     "text": [
      "[ARKMUSDT-30min] Trial 115: 参数 {'frequency': 10, 'rsiFrequency': 42, 'sellZoneDistance': 5, 'avgUpATRSum': 3, 'useAbsoluteRSIBarrier': True, 'barrierLevel': 48, 'pyramiding': 8} -> 得分 -6.98\n"
     ]
    },
    {
     "name": "stderr",
     "output_type": "stream",
     "text": [
      "[I 2025-03-09 05:39:37,246] Trial 113 finished with value: -5.064497827407365 and parameters: {'frequency': 12, 'rsiFrequency': 42, 'sellZoneDistance': 5, 'avgUpATRSum': 3, 'useAbsoluteRSIBarrier': True, 'barrierLevel': 48, 'pyramiding': 8}. Best is trial 52 with value: 6.62971987571056.\n"
     ]
    },
    {
     "name": "stdout",
     "output_type": "stream",
     "text": [
      "[ARKMUSDT-30min] Trial 113: 参数 {'frequency': 12, 'rsiFrequency': 42, 'sellZoneDistance': 5, 'avgUpATRSum': 3, 'useAbsoluteRSIBarrier': True, 'barrierLevel': 48, 'pyramiding': 8} -> 得分 -5.06\n"
     ]
    },
    {
     "name": "stderr",
     "output_type": "stream",
     "text": [
      "[I 2025-03-09 05:39:58,213] Trial 118 finished with value: -6.975774964597015 and parameters: {'frequency': 10, 'rsiFrequency': 42, 'sellZoneDistance': 5, 'avgUpATRSum': 3, 'useAbsoluteRSIBarrier': True, 'barrierLevel': 48, 'pyramiding': 8}. Best is trial 52 with value: 6.62971987571056.\n"
     ]
    },
    {
     "name": "stdout",
     "output_type": "stream",
     "text": [
      "[ARKMUSDT-30min] Trial 118: 参数 {'frequency': 10, 'rsiFrequency': 42, 'sellZoneDistance': 5, 'avgUpATRSum': 3, 'useAbsoluteRSIBarrier': True, 'barrierLevel': 48, 'pyramiding': 8} -> 得分 -6.98\n"
     ]
    },
    {
     "name": "stderr",
     "output_type": "stream",
     "text": [
      "[I 2025-03-09 05:40:08,029] Trial 116 finished with value: -6.975774964597015 and parameters: {'frequency': 10, 'rsiFrequency': 42, 'sellZoneDistance': 5, 'avgUpATRSum': 3, 'useAbsoluteRSIBarrier': True, 'barrierLevel': 48, 'pyramiding': 8}. Best is trial 52 with value: 6.62971987571056.\n"
     ]
    },
    {
     "name": "stdout",
     "output_type": "stream",
     "text": [
      "[ARKMUSDT-30min] Trial 116: 参数 {'frequency': 10, 'rsiFrequency': 42, 'sellZoneDistance': 5, 'avgUpATRSum': 3, 'useAbsoluteRSIBarrier': True, 'barrierLevel': 48, 'pyramiding': 8} -> 得分 -6.98\n"
     ]
    },
    {
     "name": "stderr",
     "output_type": "stream",
     "text": [
      "[I 2025-03-09 05:40:18,013] Trial 119 finished with value: -10.404016548165902 and parameters: {'frequency': 8, 'rsiFrequency': 42, 'sellZoneDistance': 5, 'avgUpATRSum': 3, 'useAbsoluteRSIBarrier': True, 'barrierLevel': 48, 'pyramiding': 8}. Best is trial 52 with value: 6.62971987571056.\n"
     ]
    },
    {
     "name": "stdout",
     "output_type": "stream",
     "text": [
      "[ARKMUSDT-30min] Trial 119: 参数 {'frequency': 8, 'rsiFrequency': 42, 'sellZoneDistance': 5, 'avgUpATRSum': 3, 'useAbsoluteRSIBarrier': True, 'barrierLevel': 48, 'pyramiding': 8} -> 得分 -10.40\n"
     ]
    },
    {
     "name": "stderr",
     "output_type": "stream",
     "text": [
      "[I 2025-03-09 05:40:19,683] Trial 117 finished with value: -6.975774964597015 and parameters: {'frequency': 10, 'rsiFrequency': 42, 'sellZoneDistance': 5, 'avgUpATRSum': 3, 'useAbsoluteRSIBarrier': True, 'barrierLevel': 48, 'pyramiding': 8}. Best is trial 52 with value: 6.62971987571056.\n"
     ]
    },
    {
     "name": "stdout",
     "output_type": "stream",
     "text": [
      "[ARKMUSDT-30min] Trial 117: 参数 {'frequency': 10, 'rsiFrequency': 42, 'sellZoneDistance': 5, 'avgUpATRSum': 3, 'useAbsoluteRSIBarrier': True, 'barrierLevel': 48, 'pyramiding': 8} -> 得分 -6.98\n"
     ]
    },
    {
     "name": "stderr",
     "output_type": "stream",
     "text": [
      "[I 2025-03-09 05:41:00,421] Trial 120 finished with value: -5.432992132847089 and parameters: {'frequency': 10, 'rsiFrequency': 42, 'sellZoneDistance': 4, 'avgUpATRSum': 3, 'useAbsoluteRSIBarrier': True, 'barrierLevel': 48, 'pyramiding': 8}. Best is trial 52 with value: 6.62971987571056.\n"
     ]
    },
    {
     "name": "stdout",
     "output_type": "stream",
     "text": [
      "[ARKMUSDT-30min] Trial 120: 参数 {'frequency': 10, 'rsiFrequency': 42, 'sellZoneDistance': 4, 'avgUpATRSum': 3, 'useAbsoluteRSIBarrier': True, 'barrierLevel': 48, 'pyramiding': 8} -> 得分 -5.43\n"
     ]
    },
    {
     "name": "stderr",
     "output_type": "stream",
     "text": [
      "[I 2025-03-09 05:41:17,147] Trial 122 finished with value: -20.548641020292173 and parameters: {'frequency': 10, 'rsiFrequency': 42, 'sellZoneDistance': 4, 'avgUpATRSum': 3, 'useAbsoluteRSIBarrier': True, 'barrierLevel': 50, 'pyramiding': 8}. Best is trial 52 with value: 6.62971987571056.\n"
     ]
    },
    {
     "name": "stdout",
     "output_type": "stream",
     "text": [
      "[ARKMUSDT-30min] Trial 122: 参数 {'frequency': 10, 'rsiFrequency': 42, 'sellZoneDistance': 4, 'avgUpATRSum': 3, 'useAbsoluteRSIBarrier': True, 'barrierLevel': 50, 'pyramiding': 8} -> 得分 -20.55\n"
     ]
    },
    {
     "name": "stderr",
     "output_type": "stream",
     "text": [
      "[I 2025-03-09 05:41:33,239] Trial 121 finished with value: -20.548641020292173 and parameters: {'frequency': 10, 'rsiFrequency': 42, 'sellZoneDistance': 4, 'avgUpATRSum': 3, 'useAbsoluteRSIBarrier': True, 'barrierLevel': 50, 'pyramiding': 8}. Best is trial 52 with value: 6.62971987571056.\n"
     ]
    },
    {
     "name": "stdout",
     "output_type": "stream",
     "text": [
      "[ARKMUSDT-30min] Trial 121: 参数 {'frequency': 10, 'rsiFrequency': 42, 'sellZoneDistance': 4, 'avgUpATRSum': 3, 'useAbsoluteRSIBarrier': True, 'barrierLevel': 50, 'pyramiding': 8} -> 得分 -20.55\n"
     ]
    },
    {
     "name": "stderr",
     "output_type": "stream",
     "text": [
      "[I 2025-03-09 05:41:41,275] Trial 125 finished with value: -31.62568161045069 and parameters: {'frequency': 10, 'rsiFrequency': 42, 'sellZoneDistance': 4, 'avgUpATRSum': 3, 'useAbsoluteRSIBarrier': True, 'barrierLevel': 52, 'pyramiding': 7}. Best is trial 52 with value: 6.62971987571056.\n"
     ]
    },
    {
     "name": "stdout",
     "output_type": "stream",
     "text": [
      "[ARKMUSDT-30min] Trial 125: 参数 {'frequency': 10, 'rsiFrequency': 42, 'sellZoneDistance': 4, 'avgUpATRSum': 3, 'useAbsoluteRSIBarrier': True, 'barrierLevel': 52, 'pyramiding': 7} -> 得分 -31.63\n"
     ]
    },
    {
     "name": "stderr",
     "output_type": "stream",
     "text": [
      "[I 2025-03-09 05:41:45,223] Trial 123 finished with value: -26.982022921999558 and parameters: {'frequency': 10, 'rsiFrequency': 42, 'sellZoneDistance': 4, 'avgUpATRSum': 3, 'useAbsoluteRSIBarrier': True, 'barrierLevel': 52, 'pyramiding': 8}. Best is trial 52 with value: 6.62971987571056.\n"
     ]
    },
    {
     "name": "stdout",
     "output_type": "stream",
     "text": [
      "[ARKMUSDT-30min] Trial 123: 参数 {'frequency': 10, 'rsiFrequency': 42, 'sellZoneDistance': 4, 'avgUpATRSum': 3, 'useAbsoluteRSIBarrier': True, 'barrierLevel': 52, 'pyramiding': 8} -> 得分 -26.98\n"
     ]
    },
    {
     "name": "stderr",
     "output_type": "stream",
     "text": [
      "[I 2025-03-09 05:41:52,116] Trial 126 finished with value: -20.548641020292173 and parameters: {'frequency': 10, 'rsiFrequency': 42, 'sellZoneDistance': 4, 'avgUpATRSum': 3, 'useAbsoluteRSIBarrier': True, 'barrierLevel': 50, 'pyramiding': 8}. Best is trial 52 with value: 6.62971987571056.\n",
      "[I 2025-03-09 05:41:52,371] Trial 124 finished with value: -26.982022921999558 and parameters: {'frequency': 10, 'rsiFrequency': 42, 'sellZoneDistance': 4, 'avgUpATRSum': 3, 'useAbsoluteRSIBarrier': True, 'barrierLevel': 52, 'pyramiding': 8}. Best is trial 52 with value: 6.62971987571056.\n"
     ]
    },
    {
     "name": "stdout",
     "output_type": "stream",
     "text": [
      "[ARKMUSDT-30min] Trial 126: 参数 {'frequency': 10, 'rsiFrequency': 42, 'sellZoneDistance': 4, 'avgUpATRSum': 3, 'useAbsoluteRSIBarrier': True, 'barrierLevel': 50, 'pyramiding': 8} -> 得分 -20.55\n",
      "[ARKMUSDT-30min] Trial 124: 参数 {'frequency': 10, 'rsiFrequency': 42, 'sellZoneDistance': 4, 'avgUpATRSum': 3, 'useAbsoluteRSIBarrier': True, 'barrierLevel': 52, 'pyramiding': 8} -> 得分 -26.98\n"
     ]
    },
    {
     "name": "stderr",
     "output_type": "stream",
     "text": [
      "[I 2025-03-09 05:42:22,049] Trial 127 finished with value: -26.982022921999558 and parameters: {'frequency': 10, 'rsiFrequency': 42, 'sellZoneDistance': 4, 'avgUpATRSum': 3, 'useAbsoluteRSIBarrier': True, 'barrierLevel': 52, 'pyramiding': 8}. Best is trial 52 with value: 6.62971987571056.\n"
     ]
    },
    {
     "name": "stdout",
     "output_type": "stream",
     "text": [
      "[ARKMUSDT-30min] Trial 127: 参数 {'frequency': 10, 'rsiFrequency': 42, 'sellZoneDistance': 4, 'avgUpATRSum': 3, 'useAbsoluteRSIBarrier': True, 'barrierLevel': 52, 'pyramiding': 8} -> 得分 -26.98\n"
     ]
    },
    {
     "name": "stderr",
     "output_type": "stream",
     "text": [
      "[I 2025-03-09 05:43:03,707] Trial 128 finished with value: -26.982022921999558 and parameters: {'frequency': 10, 'rsiFrequency': 42, 'sellZoneDistance': 4, 'avgUpATRSum': 3, 'useAbsoluteRSIBarrier': True, 'barrierLevel': 52, 'pyramiding': 8}. Best is trial 52 with value: 6.62971987571056.\n"
     ]
    },
    {
     "name": "stdout",
     "output_type": "stream",
     "text": [
      "[ARKMUSDT-30min] Trial 128: 参数 {'frequency': 10, 'rsiFrequency': 42, 'sellZoneDistance': 4, 'avgUpATRSum': 3, 'useAbsoluteRSIBarrier': True, 'barrierLevel': 52, 'pyramiding': 8} -> 得分 -26.98\n"
     ]
    },
    {
     "name": "stderr",
     "output_type": "stream",
     "text": [
      "[I 2025-03-09 05:43:14,590] Trial 130 finished with value: -20.548641020292173 and parameters: {'frequency': 10, 'rsiFrequency': 42, 'sellZoneDistance': 4, 'avgUpATRSum': 3, 'useAbsoluteRSIBarrier': True, 'barrierLevel': 50, 'pyramiding': 8}. Best is trial 52 with value: 6.62971987571056.\n"
     ]
    },
    {
     "name": "stdout",
     "output_type": "stream",
     "text": [
      "[ARKMUSDT-30min] Trial 130: 参数 {'frequency': 10, 'rsiFrequency': 42, 'sellZoneDistance': 4, 'avgUpATRSum': 3, 'useAbsoluteRSIBarrier': True, 'barrierLevel': 50, 'pyramiding': 8} -> 得分 -20.55\n"
     ]
    },
    {
     "name": "stderr",
     "output_type": "stream",
     "text": [
      "[I 2025-03-09 05:43:25,009] Trial 129 finished with value: -26.982022921999558 and parameters: {'frequency': 10, 'rsiFrequency': 42, 'sellZoneDistance': 4, 'avgUpATRSum': 3, 'useAbsoluteRSIBarrier': True, 'barrierLevel': 52, 'pyramiding': 8}. Best is trial 52 with value: 6.62971987571056.\n"
     ]
    },
    {
     "name": "stdout",
     "output_type": "stream",
     "text": [
      "[ARKMUSDT-30min] Trial 129: 参数 {'frequency': 10, 'rsiFrequency': 42, 'sellZoneDistance': 4, 'avgUpATRSum': 3, 'useAbsoluteRSIBarrier': True, 'barrierLevel': 52, 'pyramiding': 8} -> 得分 -26.98\n"
     ]
    },
    {
     "name": "stderr",
     "output_type": "stream",
     "text": [
      "[I 2025-03-09 05:43:26,788] Trial 131 finished with value: -24.430107657022944 and parameters: {'frequency': 10, 'rsiFrequency': 42, 'sellZoneDistance': 4, 'avgUpATRSum': 3, 'useAbsoluteRSIBarrier': True, 'barrierLevel': 50, 'pyramiding': 7}. Best is trial 52 with value: 6.62971987571056.\n"
     ]
    },
    {
     "name": "stdout",
     "output_type": "stream",
     "text": [
      "[ARKMUSDT-30min] Trial 131: 参数 {'frequency': 10, 'rsiFrequency': 42, 'sellZoneDistance': 4, 'avgUpATRSum': 3, 'useAbsoluteRSIBarrier': True, 'barrierLevel': 50, 'pyramiding': 7} -> 得分 -24.43\n"
     ]
    },
    {
     "name": "stderr",
     "output_type": "stream",
     "text": [
      "[I 2025-03-09 05:43:27,462] Trial 134 finished with value: -20.548641020292173 and parameters: {'frequency': 10, 'rsiFrequency': 42, 'sellZoneDistance': 4, 'avgUpATRSum': 3, 'useAbsoluteRSIBarrier': True, 'barrierLevel': 50, 'pyramiding': 8}. Best is trial 52 with value: 6.62971987571056.\n"
     ]
    },
    {
     "name": "stdout",
     "output_type": "stream",
     "text": [
      "[ARKMUSDT-30min] Trial 134: 参数 {'frequency': 10, 'rsiFrequency': 42, 'sellZoneDistance': 4, 'avgUpATRSum': 3, 'useAbsoluteRSIBarrier': True, 'barrierLevel': 50, 'pyramiding': 8} -> 得分 -20.55\n"
     ]
    },
    {
     "name": "stderr",
     "output_type": "stream",
     "text": [
      "[I 2025-03-09 05:43:28,923] Trial 132 finished with value: 5.29182414456897 and parameters: {'frequency': 10, 'rsiFrequency': 42, 'sellZoneDistance': 4, 'avgUpATRSum': 3, 'useAbsoluteRSIBarrier': False, 'barrierLevel': 50, 'pyramiding': 8}. Best is trial 52 with value: 6.62971987571056.\n"
     ]
    },
    {
     "name": "stdout",
     "output_type": "stream",
     "text": [
      "[ARKMUSDT-30min] Trial 132: 参数 {'frequency': 10, 'rsiFrequency': 42, 'sellZoneDistance': 4, 'avgUpATRSum': 3, 'useAbsoluteRSIBarrier': False, 'barrierLevel': 50, 'pyramiding': 8} -> 得分 5.29\n"
     ]
    },
    {
     "name": "stderr",
     "output_type": "stream",
     "text": [
      "[I 2025-03-09 05:43:31,164] Trial 135 finished with value: -20.548641020292173 and parameters: {'frequency': 10, 'rsiFrequency': 42, 'sellZoneDistance': 4, 'avgUpATRSum': 3, 'useAbsoluteRSIBarrier': True, 'barrierLevel': 50, 'pyramiding': 8}. Best is trial 52 with value: 6.62971987571056.\n"
     ]
    },
    {
     "name": "stdout",
     "output_type": "stream",
     "text": [
      "[ARKMUSDT-30min] Trial 135: 参数 {'frequency': 10, 'rsiFrequency': 42, 'sellZoneDistance': 4, 'avgUpATRSum': 3, 'useAbsoluteRSIBarrier': True, 'barrierLevel': 50, 'pyramiding': 8} -> 得分 -20.55\n"
     ]
    },
    {
     "name": "stderr",
     "output_type": "stream",
     "text": [
      "[I 2025-03-09 05:43:41,690] Trial 138 finished with value: -20.548641020292173 and parameters: {'frequency': 10, 'rsiFrequency': 42, 'sellZoneDistance': 4, 'avgUpATRSum': 3, 'useAbsoluteRSIBarrier': True, 'barrierLevel': 50, 'pyramiding': 8}. Best is trial 52 with value: 6.62971987571056.\n"
     ]
    },
    {
     "name": "stdout",
     "output_type": "stream",
     "text": [
      "[ARKMUSDT-30min] Trial 138: 参数 {'frequency': 10, 'rsiFrequency': 42, 'sellZoneDistance': 4, 'avgUpATRSum': 3, 'useAbsoluteRSIBarrier': True, 'barrierLevel': 50, 'pyramiding': 8} -> 得分 -20.55\n"
     ]
    },
    {
     "name": "stderr",
     "output_type": "stream",
     "text": [
      "[I 2025-03-09 05:43:43,578] Trial 136 finished with value: -20.548641020292173 and parameters: {'frequency': 10, 'rsiFrequency': 42, 'sellZoneDistance': 4, 'avgUpATRSum': 3, 'useAbsoluteRSIBarrier': True, 'barrierLevel': 50, 'pyramiding': 8}. Best is trial 52 with value: 6.62971987571056.\n"
     ]
    },
    {
     "name": "stdout",
     "output_type": "stream",
     "text": [
      "[ARKMUSDT-30min] Trial 136: 参数 {'frequency': 10, 'rsiFrequency': 42, 'sellZoneDistance': 4, 'avgUpATRSum': 3, 'useAbsoluteRSIBarrier': True, 'barrierLevel': 50, 'pyramiding': 8} -> 得分 -20.55\n"
     ]
    },
    {
     "name": "stderr",
     "output_type": "stream",
     "text": [
      "[I 2025-03-09 05:43:44,126] Trial 137 finished with value: 5.29182414456897 and parameters: {'frequency': 10, 'rsiFrequency': 42, 'sellZoneDistance': 4, 'avgUpATRSum': 3, 'useAbsoluteRSIBarrier': False, 'barrierLevel': 50, 'pyramiding': 8}. Best is trial 52 with value: 6.62971987571056.\n"
     ]
    },
    {
     "name": "stdout",
     "output_type": "stream",
     "text": [
      "[ARKMUSDT-30min] Trial 137: 参数 {'frequency': 10, 'rsiFrequency': 42, 'sellZoneDistance': 4, 'avgUpATRSum': 3, 'useAbsoluteRSIBarrier': False, 'barrierLevel': 50, 'pyramiding': 8} -> 得分 5.29\n"
     ]
    },
    {
     "name": "stderr",
     "output_type": "stream",
     "text": [
      "[I 2025-03-09 05:43:46,662] Trial 133 finished with value: 5.29182414456897 and parameters: {'frequency': 10, 'rsiFrequency': 42, 'sellZoneDistance': 4, 'avgUpATRSum': 3, 'useAbsoluteRSIBarrier': False, 'barrierLevel': 50, 'pyramiding': 8}. Best is trial 52 with value: 6.62971987571056.\n"
     ]
    },
    {
     "name": "stdout",
     "output_type": "stream",
     "text": [
      "[ARKMUSDT-30min] Trial 133: 参数 {'frequency': 10, 'rsiFrequency': 42, 'sellZoneDistance': 4, 'avgUpATRSum': 3, 'useAbsoluteRSIBarrier': False, 'barrierLevel': 50, 'pyramiding': 8} -> 得分 5.29\n"
     ]
    },
    {
     "name": "stderr",
     "output_type": "stream",
     "text": [
      "[I 2025-03-09 05:43:49,871] Trial 139 finished with value: 5.29182414456897 and parameters: {'frequency': 10, 'rsiFrequency': 42, 'sellZoneDistance': 4, 'avgUpATRSum': 3, 'useAbsoluteRSIBarrier': False, 'barrierLevel': 50, 'pyramiding': 8}. Best is trial 52 with value: 6.62971987571056.\n"
     ]
    },
    {
     "name": "stdout",
     "output_type": "stream",
     "text": [
      "[ARKMUSDT-30min] Trial 139: 参数 {'frequency': 10, 'rsiFrequency': 42, 'sellZoneDistance': 4, 'avgUpATRSum': 3, 'useAbsoluteRSIBarrier': False, 'barrierLevel': 50, 'pyramiding': 8} -> 得分 5.29\n"
     ]
    },
    {
     "name": "stderr",
     "output_type": "stream",
     "text": [
      "[I 2025-03-09 05:43:55,575] Trial 140 finished with value: 5.887907099335167 and parameters: {'frequency': 10, 'rsiFrequency': 42, 'sellZoneDistance': 4, 'avgUpATRSum': 3, 'useAbsoluteRSIBarrier': False, 'barrierLevel': 50, 'pyramiding': 7}. Best is trial 52 with value: 6.62971987571056.\n"
     ]
    },
    {
     "name": "stdout",
     "output_type": "stream",
     "text": [
      "[ARKMUSDT-30min] Trial 140: 参数 {'frequency': 10, 'rsiFrequency': 42, 'sellZoneDistance': 4, 'avgUpATRSum': 3, 'useAbsoluteRSIBarrier': False, 'barrierLevel': 50, 'pyramiding': 7} -> 得分 5.89\n"
     ]
    },
    {
     "name": "stderr",
     "output_type": "stream",
     "text": [
      "[I 2025-03-09 05:44:00,060] Trial 141 finished with value: 5.887907099335167 and parameters: {'frequency': 10, 'rsiFrequency': 42, 'sellZoneDistance': 4, 'avgUpATRSum': 3, 'useAbsoluteRSIBarrier': False, 'barrierLevel': 50, 'pyramiding': 7}. Best is trial 52 with value: 6.62971987571056.\n"
     ]
    },
    {
     "name": "stdout",
     "output_type": "stream",
     "text": [
      "[ARKMUSDT-30min] Trial 141: 参数 {'frequency': 10, 'rsiFrequency': 42, 'sellZoneDistance': 4, 'avgUpATRSum': 3, 'useAbsoluteRSIBarrier': False, 'barrierLevel': 50, 'pyramiding': 7} -> 得分 5.89\n"
     ]
    },
    {
     "name": "stderr",
     "output_type": "stream",
     "text": [
      "[I 2025-03-09 05:44:09,794] Trial 142 finished with value: 5.887907099335167 and parameters: {'frequency': 10, 'rsiFrequency': 42, 'sellZoneDistance': 4, 'avgUpATRSum': 3, 'useAbsoluteRSIBarrier': False, 'barrierLevel': 50, 'pyramiding': 7}. Best is trial 52 with value: 6.62971987571056.\n"
     ]
    },
    {
     "name": "stdout",
     "output_type": "stream",
     "text": [
      "[ARKMUSDT-30min] Trial 142: 参数 {'frequency': 10, 'rsiFrequency': 42, 'sellZoneDistance': 4, 'avgUpATRSum': 3, 'useAbsoluteRSIBarrier': False, 'barrierLevel': 50, 'pyramiding': 7} -> 得分 5.89\n"
     ]
    },
    {
     "name": "stderr",
     "output_type": "stream",
     "text": [
      "[I 2025-03-09 05:44:22,871] Trial 144 finished with value: 5.887907099335167 and parameters: {'frequency': 10, 'rsiFrequency': 42, 'sellZoneDistance': 4, 'avgUpATRSum': 3, 'useAbsoluteRSIBarrier': False, 'barrierLevel': 50, 'pyramiding': 7}. Best is trial 52 with value: 6.62971987571056.\n"
     ]
    },
    {
     "name": "stdout",
     "output_type": "stream",
     "text": [
      "[ARKMUSDT-30min] Trial 144: 参数 {'frequency': 10, 'rsiFrequency': 42, 'sellZoneDistance': 4, 'avgUpATRSum': 3, 'useAbsoluteRSIBarrier': False, 'barrierLevel': 50, 'pyramiding': 7} -> 得分 5.89\n"
     ]
    },
    {
     "name": "stderr",
     "output_type": "stream",
     "text": [
      "[I 2025-03-09 05:44:30,988] Trial 143 finished with value: 5.887907099335167 and parameters: {'frequency': 10, 'rsiFrequency': 42, 'sellZoneDistance': 4, 'avgUpATRSum': 3, 'useAbsoluteRSIBarrier': False, 'barrierLevel': 50, 'pyramiding': 7}. Best is trial 52 with value: 6.62971987571056.\n"
     ]
    },
    {
     "name": "stdout",
     "output_type": "stream",
     "text": [
      "[ARKMUSDT-30min] Trial 143: 参数 {'frequency': 10, 'rsiFrequency': 42, 'sellZoneDistance': 4, 'avgUpATRSum': 3, 'useAbsoluteRSIBarrier': False, 'barrierLevel': 50, 'pyramiding': 7} -> 得分 5.89\n"
     ]
    },
    {
     "name": "stderr",
     "output_type": "stream",
     "text": [
      "[I 2025-03-09 05:44:32,331] Trial 145 finished with value: 5.887907099335167 and parameters: {'frequency': 10, 'rsiFrequency': 42, 'sellZoneDistance': 4, 'avgUpATRSum': 3, 'useAbsoluteRSIBarrier': False, 'barrierLevel': 50, 'pyramiding': 7}. Best is trial 52 with value: 6.62971987571056.\n"
     ]
    },
    {
     "name": "stdout",
     "output_type": "stream",
     "text": [
      "[ARKMUSDT-30min] Trial 145: 参数 {'frequency': 10, 'rsiFrequency': 42, 'sellZoneDistance': 4, 'avgUpATRSum': 3, 'useAbsoluteRSIBarrier': False, 'barrierLevel': 50, 'pyramiding': 7} -> 得分 5.89\n"
     ]
    },
    {
     "name": "stderr",
     "output_type": "stream",
     "text": [
      "[I 2025-03-09 05:44:39,552] Trial 146 finished with value: 5.887907099335167 and parameters: {'frequency': 10, 'rsiFrequency': 42, 'sellZoneDistance': 4, 'avgUpATRSum': 3, 'useAbsoluteRSIBarrier': False, 'barrierLevel': 50, 'pyramiding': 7}. Best is trial 52 with value: 6.62971987571056.\n"
     ]
    },
    {
     "name": "stdout",
     "output_type": "stream",
     "text": [
      "[ARKMUSDT-30min] Trial 146: 参数 {'frequency': 10, 'rsiFrequency': 42, 'sellZoneDistance': 4, 'avgUpATRSum': 3, 'useAbsoluteRSIBarrier': False, 'barrierLevel': 50, 'pyramiding': 7} -> 得分 5.89\n"
     ]
    },
    {
     "name": "stderr",
     "output_type": "stream",
     "text": [
      "[I 2025-03-09 05:44:42,138] Trial 147 finished with value: 4.035806612211716 and parameters: {'frequency': 10, 'rsiFrequency': 44, 'sellZoneDistance': 4, 'avgUpATRSum': 3, 'useAbsoluteRSIBarrier': False, 'barrierLevel': 50, 'pyramiding': 7}. Best is trial 52 with value: 6.62971987571056.\n"
     ]
    },
    {
     "name": "stdout",
     "output_type": "stream",
     "text": [
      "[ARKMUSDT-30min] Trial 147: 参数 {'frequency': 10, 'rsiFrequency': 44, 'sellZoneDistance': 4, 'avgUpATRSum': 3, 'useAbsoluteRSIBarrier': False, 'barrierLevel': 50, 'pyramiding': 7} -> 得分 4.04\n"
     ]
    },
    {
     "name": "stderr",
     "output_type": "stream",
     "text": [
      "[I 2025-03-09 05:44:44,199] Trial 148 finished with value: 4.035806612211716 and parameters: {'frequency': 10, 'rsiFrequency': 44, 'sellZoneDistance': 4, 'avgUpATRSum': 3, 'useAbsoluteRSIBarrier': False, 'barrierLevel': 50, 'pyramiding': 7}. Best is trial 52 with value: 6.62971987571056.\n"
     ]
    },
    {
     "name": "stdout",
     "output_type": "stream",
     "text": [
      "[ARKMUSDT-30min] Trial 148: 参数 {'frequency': 10, 'rsiFrequency': 44, 'sellZoneDistance': 4, 'avgUpATRSum': 3, 'useAbsoluteRSIBarrier': False, 'barrierLevel': 50, 'pyramiding': 7} -> 得分 4.04\n"
     ]
    },
    {
     "name": "stderr",
     "output_type": "stream",
     "text": [
      "[I 2025-03-09 05:44:45,602] Trial 149 finished with value: 2.296959734446239 and parameters: {'frequency': 10, 'rsiFrequency': 42, 'sellZoneDistance': 4, 'avgUpATRSum': 5, 'useAbsoluteRSIBarrier': False, 'barrierLevel': 50, 'pyramiding': 7}. Best is trial 52 with value: 6.62971987571056.\n"
     ]
    },
    {
     "name": "stdout",
     "output_type": "stream",
     "text": [
      "[ARKMUSDT-30min] Trial 149: 参数 {'frequency': 10, 'rsiFrequency': 42, 'sellZoneDistance': 4, 'avgUpATRSum': 5, 'useAbsoluteRSIBarrier': False, 'barrierLevel': 50, 'pyramiding': 7} -> 得分 2.30\n"
     ]
    },
    {
     "name": "stderr",
     "output_type": "stream",
     "text": [
      "[I 2025-03-09 05:45:05,229] Trial 150 finished with value: 5.887907099335167 and parameters: {'frequency': 10, 'rsiFrequency': 42, 'sellZoneDistance': 4, 'avgUpATRSum': 3, 'useAbsoluteRSIBarrier': False, 'barrierLevel': 50, 'pyramiding': 7}. Best is trial 52 with value: 6.62971987571056.\n"
     ]
    },
    {
     "name": "stdout",
     "output_type": "stream",
     "text": [
      "[ARKMUSDT-30min] Trial 150: 参数 {'frequency': 10, 'rsiFrequency': 42, 'sellZoneDistance': 4, 'avgUpATRSum': 3, 'useAbsoluteRSIBarrier': False, 'barrierLevel': 50, 'pyramiding': 7} -> 得分 5.89\n"
     ]
    },
    {
     "name": "stderr",
     "output_type": "stream",
     "text": [
      "[I 2025-03-09 05:45:10,069] Trial 151 finished with value: 2.296959734446239 and parameters: {'frequency': 10, 'rsiFrequency': 42, 'sellZoneDistance': 4, 'avgUpATRSum': 5, 'useAbsoluteRSIBarrier': False, 'barrierLevel': 50, 'pyramiding': 7}. Best is trial 52 with value: 6.62971987571056.\n"
     ]
    },
    {
     "name": "stdout",
     "output_type": "stream",
     "text": [
      "[ARKMUSDT-30min] Trial 151: 参数 {'frequency': 10, 'rsiFrequency': 42, 'sellZoneDistance': 4, 'avgUpATRSum': 5, 'useAbsoluteRSIBarrier': False, 'barrierLevel': 50, 'pyramiding': 7} -> 得分 2.30\n"
     ]
    },
    {
     "name": "stderr",
     "output_type": "stream",
     "text": [
      "[I 2025-03-09 05:45:13,234] Trial 152 finished with value: 4.035806612211716 and parameters: {'frequency': 10, 'rsiFrequency': 44, 'sellZoneDistance': 4, 'avgUpATRSum': 3, 'useAbsoluteRSIBarrier': False, 'barrierLevel': 50, 'pyramiding': 7}. Best is trial 52 with value: 6.62971987571056.\n"
     ]
    },
    {
     "name": "stdout",
     "output_type": "stream",
     "text": [
      "[ARKMUSDT-30min] Trial 152: 参数 {'frequency': 10, 'rsiFrequency': 44, 'sellZoneDistance': 4, 'avgUpATRSum': 3, 'useAbsoluteRSIBarrier': False, 'barrierLevel': 50, 'pyramiding': 7} -> 得分 4.04\n"
     ]
    },
    {
     "name": "stderr",
     "output_type": "stream",
     "text": [
      "[I 2025-03-09 05:45:15,706] Trial 153 finished with value: 2.296959734446239 and parameters: {'frequency': 10, 'rsiFrequency': 42, 'sellZoneDistance': 4, 'avgUpATRSum': 5, 'useAbsoluteRSIBarrier': False, 'barrierLevel': 50, 'pyramiding': 7}. Best is trial 52 with value: 6.62971987571056.\n"
     ]
    },
    {
     "name": "stdout",
     "output_type": "stream",
     "text": [
      "[ARKMUSDT-30min] Trial 153: 参数 {'frequency': 10, 'rsiFrequency': 42, 'sellZoneDistance': 4, 'avgUpATRSum': 5, 'useAbsoluteRSIBarrier': False, 'barrierLevel': 50, 'pyramiding': 7} -> 得分 2.30\n"
     ]
    },
    {
     "name": "stderr",
     "output_type": "stream",
     "text": [
      "[I 2025-03-09 05:45:21,607] Trial 155 finished with value: 5.887907099335167 and parameters: {'frequency': 10, 'rsiFrequency': 42, 'sellZoneDistance': 4, 'avgUpATRSum': 3, 'useAbsoluteRSIBarrier': False, 'barrierLevel': 50, 'pyramiding': 7}. Best is trial 52 with value: 6.62971987571056.\n",
      "[I 2025-03-09 05:45:21,673] Trial 154 finished with value: 4.035806612211716 and parameters: {'frequency': 10, 'rsiFrequency': 44, 'sellZoneDistance': 4, 'avgUpATRSum': 3, 'useAbsoluteRSIBarrier': False, 'barrierLevel': 50, 'pyramiding': 7}. Best is trial 52 with value: 6.62971987571056.\n"
     ]
    },
    {
     "name": "stdout",
     "output_type": "stream",
     "text": [
      "[ARKMUSDT-30min] Trial 155: 参数 {'frequency': 10, 'rsiFrequency': 42, 'sellZoneDistance': 4, 'avgUpATRSum': 3, 'useAbsoluteRSIBarrier': False, 'barrierLevel': 50, 'pyramiding': 7} -> 得分 5.89\n",
      "[ARKMUSDT-30min] Trial 154: 参数 {'frequency': 10, 'rsiFrequency': 44, 'sellZoneDistance': 4, 'avgUpATRSum': 3, 'useAbsoluteRSIBarrier': False, 'barrierLevel': 50, 'pyramiding': 7} -> 得分 4.04\n"
     ]
    },
    {
     "name": "stderr",
     "output_type": "stream",
     "text": [
      "[I 2025-03-09 05:45:22,588] Trial 156 finished with value: 0.07190913918023072 and parameters: {'frequency': 10, 'rsiFrequency': 44, 'sellZoneDistance': 4, 'avgUpATRSum': 5, 'useAbsoluteRSIBarrier': False, 'barrierLevel': 50, 'pyramiding': 7}. Best is trial 52 with value: 6.62971987571056.\n"
     ]
    },
    {
     "name": "stdout",
     "output_type": "stream",
     "text": [
      "[ARKMUSDT-30min] Trial 156: 参数 {'frequency': 10, 'rsiFrequency': 44, 'sellZoneDistance': 4, 'avgUpATRSum': 5, 'useAbsoluteRSIBarrier': False, 'barrierLevel': 50, 'pyramiding': 7} -> 得分 0.07\n"
     ]
    },
    {
     "name": "stderr",
     "output_type": "stream",
     "text": [
      "[I 2025-03-09 05:45:24,454] Trial 157 finished with value: 4.035806612211716 and parameters: {'frequency': 10, 'rsiFrequency': 44, 'sellZoneDistance': 4, 'avgUpATRSum': 3, 'useAbsoluteRSIBarrier': False, 'barrierLevel': 50, 'pyramiding': 7}. Best is trial 52 with value: 6.62971987571056.\n"
     ]
    },
    {
     "name": "stdout",
     "output_type": "stream",
     "text": [
      "[ARKMUSDT-30min] Trial 157: 参数 {'frequency': 10, 'rsiFrequency': 44, 'sellZoneDistance': 4, 'avgUpATRSum': 3, 'useAbsoluteRSIBarrier': False, 'barrierLevel': 50, 'pyramiding': 7} -> 得分 4.04\n"
     ]
    },
    {
     "name": "stderr",
     "output_type": "stream",
     "text": [
      "[I 2025-03-09 05:45:28,921] Trial 159 finished with value: 0.5250163739221336 and parameters: {'frequency': 10, 'rsiFrequency': 44, 'sellZoneDistance': 4, 'avgUpATRSum': 6, 'useAbsoluteRSIBarrier': False, 'barrierLevel': 50, 'pyramiding': 7}. Best is trial 52 with value: 6.62971987571056.\n"
     ]
    },
    {
     "name": "stdout",
     "output_type": "stream",
     "text": [
      "[ARKMUSDT-30min] Trial 159: 参数 {'frequency': 10, 'rsiFrequency': 44, 'sellZoneDistance': 4, 'avgUpATRSum': 6, 'useAbsoluteRSIBarrier': False, 'barrierLevel': 50, 'pyramiding': 7} -> 得分 0.53\n"
     ]
    },
    {
     "name": "stderr",
     "output_type": "stream",
     "text": [
      "[I 2025-03-09 05:45:29,210] Trial 158 finished with value: 0.5250163739221336 and parameters: {'frequency': 10, 'rsiFrequency': 44, 'sellZoneDistance': 4, 'avgUpATRSum': 6, 'useAbsoluteRSIBarrier': False, 'barrierLevel': 50, 'pyramiding': 7}. Best is trial 52 with value: 6.62971987571056.\n"
     ]
    },
    {
     "name": "stdout",
     "output_type": "stream",
     "text": [
      "[ARKMUSDT-30min] Trial 158: 参数 {'frequency': 10, 'rsiFrequency': 44, 'sellZoneDistance': 4, 'avgUpATRSum': 6, 'useAbsoluteRSIBarrier': False, 'barrierLevel': 50, 'pyramiding': 7} -> 得分 0.53\n",
      "成功追加 5 条新记录（过滤掉 0 条重复记录）\n",
      "当前文件总共包含 2165 条记录\n",
      "[ARKMUSDT-30min] 已保存最佳参数组合\n",
      "已自动创建备份: backups_final\\optimization_results_MeanReverterShort_20240101-20250208.csv.20250309_054529.bak\n",
      "批量优化完成\n"
     ]
    }
   ],
   "source": [
    "if __name__ == '__main__':\n",
    "    # 先清理不完整的 Optuna 数据库文件（不在最终结果 CSV 中的组合）\n",
    "    # clean_incomplete_optuna_db_files(CONFIG)\n",
    "    batch_optimize(CONFIG)"
   ]
  },
  {
   "cell_type": "code",
   "execution_count": 14,
   "metadata": {},
   "outputs": [],
   "source": [
    "# # 数据恢复工具 - 如果发现结果文件数据被意外清空，运行此单元格恢复数据\n",
    "\n",
    "# # 构造结果文件路径\n",
    "# start_clean = CONFIG['start_date'].replace(\"-\", \"\")\n",
    "# end_clean = CONFIG['end_date'].replace(\"-\", \"\")\n",
    "# results_file = os.path.join(\n",
    "#     CONFIG['reports_path'], \n",
    "#     CONFIG['results_filename_template'].format(\n",
    "#         strategy_name=CONFIG['strategy']['name'],\n",
    "#         start_date=start_clean,\n",
    "#         end_date=end_clean\n",
    "#     )\n",
    "# )\n",
    "\n",
    "# # 检查当前文件状态\n",
    "# current_records = 0\n",
    "# if os.path.exists(results_file):\n",
    "#     try:\n",
    "#         current_df = pd.read_csv(results_file)\n",
    "#         current_records = len(current_df)\n",
    "#     except:\n",
    "#         print(f\"无法读取当前结果文件: {results_file}\")\n",
    "# print(f\"当前结果文件状态: {'存在' if os.path.exists(results_file) else '不存在'}, 包含 {current_records} 条记录\")\n",
    "\n",
    "# # 从最新备份恢复\n",
    "# if current_records == 0 or input(\"是否要从备份恢复数据？(y/n): \").lower() == 'y':\n",
    "#     if restore_from_backup(results_file):\n",
    "#         print(\"数据恢复成功！\")\n",
    "#     else:\n",
    "#         print(\"数据恢复失败。尝试从另一个备份文件夹恢复...\")\n",
    "#         if restore_from_backup(results_file, backup_folder='backups_final'):\n",
    "#             print(\"数据从final备份成功恢复！\")\n",
    "#         else:\n",
    "#             print(\"所有恢复尝试均失败，请手动处理。\")"
   ]
  }
 ],
 "metadata": {
  "kernelspec": {
   "display_name": "backtrader",
   "language": "python",
   "name": "python3"
  },
  "language_info": {
   "codemirror_mode": {
    "name": "ipython",
    "version": 3
   },
   "file_extension": ".py",
   "mimetype": "text/x-python",
   "name": "python",
   "nbconvert_exporter": "python",
   "pygments_lexer": "ipython3",
   "version": "3.11.10"
  }
 },
 "nbformat": 4,
 "nbformat_minor": 4
}
