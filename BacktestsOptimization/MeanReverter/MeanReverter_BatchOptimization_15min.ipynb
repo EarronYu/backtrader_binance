{
 "cells": [
  {
   "cell_type": "markdown",
   "metadata": {},
   "source": [
    "# MeanReverter Strategy Batch Optimization\n",
    "\n",
    "这个notebook用于对多个交易对进行MeanReverter策略的批量优化。"
   ]
  },
  {
   "cell_type": "code",
   "execution_count": 28,
   "metadata": {},
   "outputs": [],
   "source": [
    "# 导入必要的库...\n",
    "import os\n",
    "import pandas as pd\n",
    "from datetime import datetime\n",
    "from glob import glob\n",
    "import backtrader as bt \n",
    "import optuna\n",
    "import warnings\n",
    "import quantstats as qs\n",
    "warnings.filterwarnings('ignore')\n",
    "from IPython.display import clear_output\n",
    "from pathlib import Path  # 使用pathlib代替os\n",
    "# 添加必要的导入\n",
    "from concurrent.futures import ThreadPoolExecutor\n",
    "# _data_loading_executor = ThreadPoolExecutor(max_workers=10)  # 用于数据加载的线程池\n",
    "\n",
    "# 遍历每个交易对，但使用多进程方式\n",
    "from joblib import Parallel, delayed\n",
    "import numpy as np\n",
    "\n",
    "# 在此处添加全局缓存字典，用于缓存数据加载结果和数据完整性检查结果\n",
    "_data_feed_cache = {}\n",
    "_data_completeness_cache = {}"
   ]
  },
  {
   "cell_type": "code",
   "execution_count": 29,
   "metadata": {},
   "outputs": [],
   "source": [
    "from MeanReverter import MeanReverter\n",
    "\n",
    "# 在 CONFIG 中添加所有需要动态配置的参数\n",
    "CONFIG = {\n",
    "    # 策略相关配置\n",
    "    'strategy': {\n",
    "        'class': MeanReverter,\n",
    "        'name': MeanReverter.__name__\n",
    "    },\n",
    "    \n",
    "    # 数据相关配置\n",
    "    'selected_symbols': [\n",
    "        \"1000PEPEUSDT\",\n",
    "    ],\n",
    "    'data_path': r'\\\\znas\\Main\\futures',  # 主数据路径\n",
    "    'start_date': '2024-12-28',\n",
    "    'end_date': '2025-03-23',\n",
    "    'source_timeframe': '1m',\n",
    "    'target_timeframes': ['15min'],\n",
    "    \n",
    "    # 文件路径配置\n",
    "    'reports_path': 'reports',  # 报告输出目录\n",
    "    'backup_path': 'backups',   # 常规备份目录\n",
    "    'final_backup_path': 'backups_final',  # 最终备份目录\n",
    "    'results_filename_template': 'optimization_results_{strategy_name}_{start_date}-{end_date}.csv',\n",
    "    \n",
    "    # 回测参数配置\n",
    "    'commission': 0.0004,\n",
    "    'initial_capital': 10000,\n",
    "    # 如果需要可以添加：\n",
    "    # 'trade_on_close': True,\n",
    "    # 'exclusive_orders': True,\n",
    "    # 'hedging': False,\n",
    "    \n",
    "    # 优化参数配置，根据 MeanReverter 策略的参数进行优化\n",
    "    'optimization_params': {\n",
    "        'frequency': range(4, 40, 2),            # 用于计算慢速 RSI 均线的周期，步长为2\n",
    "        'rsiFrequency': range(4, 80, 2),           # 计算 RSI 的周期，步长为2\n",
    "        'buyZoneDistance': range(1, 12, 1),        # RSI 相对于慢速 RSI 均线的折扣比例，步长为1\n",
    "        'avgDownATRSum': range(1, 12, 1),          # 用于计算 ATR 累积值的周期数，步长为1\n",
    "        'useAbsoluteRSIBarrier': [True, False],    # 是否使用绝对 RSI 阈值进行平仓\n",
    "        'barrierLevel': range(24, 86, 2),           # RSI 阻力水平，步长为2\n",
    "        'pyramiding': range(1, 10, 1)               # 最大允许加仓次数，步长为1\n",
    "    },\n",
    "    \n",
    "    # 优化设置\n",
    "    'optimization_settings': {\n",
    "        'n_trials': 1000,       # 可根据需要调整试验次数\n",
    "        'min_trades': 10,\n",
    "        'timeout': 3600,\n",
    "        'n_jobs': 30           # -1 表示使用所有 CPU 核心; 也可以设置为具体的数量\n",
    "    },\n",
    "}"
   ]
  },
  {
   "cell_type": "code",
   "execution_count": 30,
   "metadata": {},
   "outputs": [],
   "source": [
    "def get_timeframe_params(timeframe_str):\n",
    "    \"\"\"\n",
    "    将时间周期字符串转换为 backtrader 的 timeframe 和 compression 参数\n",
    "    \"\"\"\n",
    "    if timeframe_str.endswith('min'):\n",
    "        return (bt.TimeFrame.Minutes, int(timeframe_str.replace('min', '')))\n",
    "    elif timeframe_str.endswith('H'):\n",
    "        return (bt.TimeFrame.Minutes, int(timeframe_str.replace('H', '')) * 60)\n",
    "    elif timeframe_str.endswith('D'):\n",
    "        return (bt.TimeFrame.Days, 1)\n",
    "    elif timeframe_str == '1m':\n",
    "        return (bt.TimeFrame.Minutes, 1)\n",
    "    else:\n",
    "        raise ValueError(f\"不支持的时间周期格式: {timeframe_str}\")\n",
    "\n",
    "\n",
    "\n",
    "def load_and_resample_data(symbol, start_date, end_date, source_timeframe='1m', target_timeframe='30min', data_path=r'\\\\znas\\Main\\futures'):\n",
    "    \"\"\"\n",
    "    加载并重采样期货数据，并缓存已经重采样后的 DataFrame 以避免重复 I/O 操作\n",
    "    \"\"\"\n",
    "    # 构造缓存键\n",
    "    key = (symbol, start_date, end_date, source_timeframe, target_timeframe, data_path)\n",
    "    if key in _data_feed_cache:\n",
    "        # 如果缓存中有，返回新的数据馈送对象（注意拷贝，防止被修改）\n",
    "        cached_df = _data_feed_cache[key]\n",
    "        timeframe, compression = get_timeframe_params(target_timeframe)\n",
    "        data_feed = bt.feeds.PandasData(\n",
    "            dataname=cached_df.copy(),\n",
    "            open='Open',\n",
    "            high='High',\n",
    "            low='Low',\n",
    "            close='Close',\n",
    "            volume='Volume',\n",
    "            openinterest=-1,\n",
    "            timeframe=timeframe,\n",
    "            compression=compression,\n",
    "            fromdate=pd.to_datetime(start_date),\n",
    "            todate=pd.to_datetime(end_date)\n",
    "        )\n",
    "        \n",
    "        # 添加clone方法，这样可以快速创建数据副本而不需要重新执行IO\n",
    "        data_feed.clone = lambda: bt.feeds.PandasData(\n",
    "            dataname=cached_df.copy(),\n",
    "            open='Open',\n",
    "            high='High',\n",
    "            low='Low',\n",
    "            close='Close',\n",
    "            volume='Volume',\n",
    "            openinterest=-1,\n",
    "            timeframe=timeframe,\n",
    "            compression=compression,\n",
    "            fromdate=pd.to_datetime(start_date),\n",
    "            todate=pd.to_datetime(end_date)\n",
    "        )\n",
    "        \n",
    "        return data_feed\n",
    "    \n",
    "    # 生成日期范围\n",
    "    date_range = pd.date_range(start=start_date, end=end_date, freq='D')\n",
    "    all_data = []\n",
    "    \n",
    "    # 标准化交易对名称\n",
    "    formatted_symbol = symbol.replace('/', '_').replace(':', '_')\n",
    "    if not formatted_symbol.endswith('USDT'):\n",
    "        formatted_symbol = f\"{formatted_symbol}USDT\"\n",
    "    \n",
    "    # 顺序读取文件，不使用线程池\n",
    "    for date in date_range:\n",
    "        date_str = date.strftime('%Y-%m-%d')\n",
    "        # 构建文件路径\n",
    "        file_path = os.path.join(data_path, date_str, f\"{date_str}_{formatted_symbol}_USDT_{source_timeframe}.csv\")\n",
    "        \n",
    "        try:\n",
    "            if os.path.exists(file_path):\n",
    "                # 读取数据\n",
    "                df = pd.read_csv(file_path)\n",
    "                df['datetime'] = pd.to_datetime(df['datetime'])\n",
    "                all_data.append(df)\n",
    "            else:\n",
    "                print(f\"文件不存在: {file_path}\")\n",
    "        except Exception as e:\n",
    "            print(f\"读取文件出错 {file_path}: {str(e)}\")\n",
    "            continue\n",
    "    \n",
    "    if not all_data:\n",
    "        raise ValueError(f\"未找到 {symbol} 在指定日期范围内的数据\")\n",
    "    \n",
    "    # 合并、排序，以及重采样数据\n",
    "    combined_df = pd.concat(all_data, ignore_index=True)\n",
    "    combined_df = combined_df.sort_values('datetime')\n",
    "    combined_df.set_index('datetime', inplace=True)\n",
    "    \n",
    "    resampled = combined_df.resample(target_timeframe).agg({\n",
    "        'open': 'first',\n",
    "        'high': 'max',\n",
    "        'low': 'min',\n",
    "        'close': 'last',\n",
    "        'volume': 'sum'\n",
    "    }).dropna()  # 立即删除NaN值\n",
    "    \n",
    "    backtesting_df = pd.DataFrame({\n",
    "        'Open': resampled['open'],\n",
    "        'High': resampled['high'],\n",
    "        'Low': resampled['low'],\n",
    "        'Close': resampled['close'],\n",
    "        'Volume': resampled['volume']\n",
    "    })\n",
    "    \n",
    "    # 确保所有数据都是数值类型并删除任何无效值\n",
    "    for col in ['Open', 'High', 'Low', 'Close', 'Volume']:\n",
    "        backtesting_df[col] = pd.to_numeric(backtesting_df[col], errors='coerce')\n",
    "    backtesting_df = backtesting_df.dropna()\n",
    "    \n",
    "    # 将结果缓存在全局变量中（使用拷贝，以免后续被修改）\n",
    "    _data_feed_cache[key] = backtesting_df.copy()\n",
    "    \n",
    "    timeframe, compression = get_timeframe_params(target_timeframe)\n",
    "    data_feed = bt.feeds.PandasData(\n",
    "        dataname=backtesting_df,\n",
    "        open='Open',\n",
    "        high='High',\n",
    "        low='Low',\n",
    "        close='Close',\n",
    "        volume='Volume',\n",
    "        openinterest=-1,\n",
    "        timeframe=timeframe,\n",
    "        compression=compression,\n",
    "        fromdate=pd.to_datetime(start_date),\n",
    "        todate=pd.to_datetime(end_date)\n",
    "    )\n",
    "    \n",
    "    # 添加clone方法\n",
    "    data_feed.clone = lambda: bt.feeds.PandasData(\n",
    "        dataname=backtesting_df.copy(),\n",
    "        open='Open',\n",
    "        high='High',\n",
    "        low='Low',\n",
    "        close='Close',\n",
    "        volume='Volume',\n",
    "        openinterest=-1,\n",
    "        timeframe=timeframe,\n",
    "        compression=compression,\n",
    "        fromdate=pd.to_datetime(start_date),\n",
    "        todate=pd.to_datetime(end_date)\n",
    "    )\n",
    "    \n",
    "    return data_feed"
   ]
  },
  {
   "cell_type": "code",
   "execution_count": 31,
   "metadata": {},
   "outputs": [],
   "source": [
    "def get_all_symbols(data_path, date_str):\n",
    "    \"\"\"获取指定日期目录下的所有交易对\"\"\"\n",
    "    daily_path = os.path.join(data_path, date_str)\n",
    "    if not os.path.exists(daily_path):\n",
    "        return []\n",
    "    \n",
    "    files = glob(os.path.join(daily_path, f\"{date_str}_*_USDT_1m.csv\"))\n",
    "    symbols = set()  # 使用 set 进行去重\n",
    "    for file in files:\n",
    "        filename = os.path.basename(file)\n",
    "        symbol = filename.split('_')[1]\n",
    "        symbols.add(symbol)\n",
    "    return list(symbols)\n",
    "\n",
    "def verify_data_completeness(symbol, start_date, end_date, data_path):\n",
    "    \"\"\"验证数据完整性\"\"\"\n",
    "    # 构造缓存键\n",
    "    key = (symbol, start_date, end_date, data_path)\n",
    "    if key in _data_completeness_cache:\n",
    "        return _data_completeness_cache[key]\n",
    "    \n",
    "    date_range = pd.date_range(start=start_date, end=end_date, freq='D')\n",
    "    \n",
    "    # 标准化交易对名称\n",
    "    formatted_symbol = symbol.replace('/', '_').replace(':', '_')\n",
    "    if not formatted_symbol.endswith('USDT'):\n",
    "        formatted_symbol = f\"{formatted_symbol}USDT\"\n",
    "    \n",
    "    for date in date_range:\n",
    "        date_str = date.strftime('%Y-%m-%d')\n",
    "        file_path = os.path.join(\n",
    "            data_path,\n",
    "            date_str,\n",
    "            f\"{date_str}_{formatted_symbol}_USDT_1m.csv\"  # 文件名格式保持不变\n",
    "        )\n",
    "        if not os.path.exists(file_path):\n",
    "            print(f\"文件不存在: {file_path}\")\n",
    "            _data_completeness_cache[key] = False\n",
    "            return False\n",
    "    _data_completeness_cache[key] = True\n",
    "    return True"
   ]
  },
  {
   "cell_type": "code",
   "execution_count": 32,
   "metadata": {},
   "outputs": [],
   "source": [
    "# 添加自定义评分函数\n",
    "def custom_score(strat):\n",
    "    \"\"\"\n",
    "    自定义评分函数 - 以最大化回报率为主要目标\n",
    "    保留最低交易次数要求作为基本约束\n",
    "    \"\"\"\n",
    "    # 获取交易次数\n",
    "    trades = strat.analyzers.trades.get_analysis()\n",
    "    total_trades = trades.get('total', {}).get('total', 0)\n",
    "    \n",
    "    # 从returns分析器获取总回报率\n",
    "    returns = strat.analyzers.returns.get_analysis()\n",
    "    total_return = returns.get('rtot', 0) * 100  # 转为百分比\n",
    "    \n",
    "    # 交易次数惩罚 - 确保策略至少有足够的交易\n",
    "    min_trades = CONFIG['optimization_settings'].get('min_trades', 50)\n",
    "    trade_penalty = 1.0 if total_trades >= min_trades else (total_trades / min_trades) ** 2\n",
    "    \n",
    "    # 最终得分简单地使用调整后的回报率\n",
    "    # 交易次数不足的策略会受到严厉惩罚\n",
    "    score = total_return * trade_penalty\n",
    "    \n",
    "    return score"
   ]
  },
  {
   "cell_type": "code",
   "execution_count": 33,
   "metadata": {},
   "outputs": [],
   "source": [
    "def load_master_results(config):\n",
    "    \"\"\"\n",
    "    加载全局优化结果文件，并提取已完成优化的组合（基于 'Symbol', 'Target Timeframe', 'Rank' 列）。\n",
    "    \"\"\"\n",
    "    # 构造 master 文件路径\n",
    "    start_clean = config['start_date'].replace(\"-\", \"\")\n",
    "    end_clean = config['end_date'].replace(\"-\", \"\")\n",
    "    master_file = os.path.join(\n",
    "        config['reports_path'], \n",
    "        config['results_filename_template'].format(\n",
    "            strategy_name=config['strategy']['name'],\n",
    "            start_date=start_clean,\n",
    "            end_date=end_clean\n",
    "        )\n",
    "    )\n",
    "    \n",
    "    if os.path.exists(master_file):\n",
    "        try:\n",
    "            master_df = pd.read_csv(master_file)\n",
    "        except Exception as e:\n",
    "            try:\n",
    "                master_df = pd.read_excel(master_file)\n",
    "            except Exception as e2:\n",
    "                print(f\"无法读取文件: {e}, {e2}\")\n",
    "                master_df = pd.DataFrame()\n",
    "    else:\n",
    "        master_df = pd.DataFrame()\n",
    "    \n",
    "    optimized_combinations = set()\n",
    "    if not master_df.empty:\n",
    "        if {'Target Timeframe', 'Symbol', 'Rank'}.issubset(master_df.columns):\n",
    "            for symbol in master_df['Symbol'].unique():\n",
    "                for tf in master_df['Target Timeframe'].unique():\n",
    "                    rows = master_df[(master_df['Symbol'] == symbol) & (master_df['Target Timeframe'] == tf)]\n",
    "                    ranks = rows['Rank'].tolist()\n",
    "                    # 当存在 5 个排名且排名为 1 到 5 时认为该组合已完成优化\n",
    "                    if len(ranks) == 5 and set(ranks) == set(range(1, 6)):\n",
    "                        optimized_combinations.add((symbol, tf))\n",
    "        else:\n",
    "            print(\"警告: 结果文件缺少必要的列，将重新开始优化\")\n",
    "    else:\n",
    "        print(\"优化结果文件为空\")\n",
    "        \n",
    "    return master_file, master_df, optimized_combinations\n",
    "\n",
    "def save_master_results(new_results, master_file):\n",
    "    \"\"\"\n",
    "    将新的优化结果追加到全局结果文件中，只进行追加操作，并避免重复数据。\n",
    "    \"\"\"\n",
    "    if not new_results:\n",
    "        print(\"警告: 没有新的结果需要保存\")\n",
    "        return\n",
    "\n",
    "    new_df = pd.DataFrame(new_results)\n",
    "    \n",
    "    try:\n",
    "        # 如果文件不存在或为空，直接写入\n",
    "        if not os.path.exists(master_file) or os.path.getsize(master_file) == 0:\n",
    "            # 确保目录存在\n",
    "            os.makedirs(os.path.dirname(master_file), exist_ok=True)\n",
    "            new_df.to_csv(master_file, index=False)\n",
    "            print(f\"创建新文件并写入 {len(new_df)} 条记录\")\n",
    "            return\n",
    "        \n",
    "        # 读取现有数据\n",
    "        try:\n",
    "            existing_df = pd.read_csv(master_file)\n",
    "            if existing_df.empty:\n",
    "                # 如果文件存在但为空，直接写入新数据\n",
    "                new_df.to_csv(master_file, index=False)\n",
    "                print(f\"文件为空，写入 {len(new_df)} 条新记录\")\n",
    "                return\n",
    "        except pd.errors.EmptyDataError:\n",
    "            # 如果文件存在但为空，直接写入新数据\n",
    "            new_df.to_csv(master_file, index=False)\n",
    "            print(f\"文件为空，写入 {len(new_df)} 条新记录\")\n",
    "            return\n",
    "        \n",
    "        # 创建用于检查重复的键\n",
    "        def create_key(row):\n",
    "            return f\"{row['Symbol']}_{row['Target Timeframe']}_{row['Rank']}\"\n",
    "        \n",
    "        existing_keys = set(existing_df.apply(create_key, axis=1))\n",
    "        new_df['_temp_key'] = new_df.apply(create_key, axis=1)\n",
    "        \n",
    "        # 过滤掉重复的记录\n",
    "        truly_new_df = new_df[~new_df['_temp_key'].isin(existing_keys)]\n",
    "        truly_new_df = truly_new_df.drop('_temp_key', axis=1)\n",
    "        \n",
    "        if len(truly_new_df) > 0:\n",
    "            # 追加非重复的新数据\n",
    "            truly_new_df.to_csv(master_file, mode='a', header=False, index=False)\n",
    "            print(f\"成功追加 {len(truly_new_df)} 条新记录（过滤掉 {len(new_df) - len(truly_new_df)} 条重复记录）\")\n",
    "        else:\n",
    "            print(\"所有记录都已存在，无需追加\")\n",
    "            \n",
    "    except Exception as e:\n",
    "        print(f\"处理数据时出错: {str(e)}\")\n",
    "        # 如果出错，尝试直接写入新文件\n",
    "        try:\n",
    "            backup_file = f\"{master_file}.backup_{datetime.now().strftime('%Y%m%d_%H%M%S')}.csv\"\n",
    "            if os.path.exists(master_file):\n",
    "                os.rename(master_file, backup_file)\n",
    "                print(f\"已将问题文件备份为: {backup_file}\")\n",
    "            new_df.to_csv(master_file, index=False)\n",
    "            print(f\"已创建新文件并写入 {len(new_df)} 条记录\")\n",
    "        except Exception as e2:\n",
    "            print(f\"备份和重写文件时出错: {str(e2)}\")\n",
    "        return\n",
    "\n",
    "    # 验证最终结果\n",
    "    try:\n",
    "        full_df = pd.read_csv(master_file)\n",
    "        print(f\"当前文件总共包含 {len(full_df)} 条记录\")\n",
    "    except Exception as e:\n",
    "        print(f\"验证追加结果时出错: {str(e)}\")"
   ]
  },
  {
   "cell_type": "code",
   "execution_count": 34,
   "metadata": {},
   "outputs": [],
   "source": [
    "def optimize_strategy(symbol, timeframe, master_file):\n",
    "    \"\"\"\n",
    "    使用 Optuna 优化策略参数，直接保存最优的前 5 个参数组合\n",
    "    \"\"\"\n",
    "    if not master_file:\n",
    "        raise ValueError(\"master_file 参数不能为空\")\n",
    "    \n",
    "    # ... 其余代码保持不变 ...\n",
    "    # ... 其他代码保持不变 ...\n",
    "    # 1. 预加载数据，只执行一次IO操作\n",
    "    preloaded_data = load_and_resample_data(\n",
    "        symbol, CONFIG['start_date'], CONFIG['end_date'],\n",
    "        target_timeframe=timeframe,\n",
    "        data_path=CONFIG['data_path']\n",
    "    )\n",
    "    \n",
    "    study = optuna.create_study(\n",
    "        study_name=f\"{symbol}_{timeframe}\",\n",
    "        direction=\"maximize\",\n",
    "        storage=None  # 使用内存存储\n",
    "    )\n",
    "    \n",
    "    print(f\"开始优化 {symbol}-{timeframe}...\")\n",
    "    \n",
    "    def objective(trial):\n",
    "        try:\n",
    "            params = {}\n",
    "            for param_name, param_range in CONFIG['optimization_params'].items():\n",
    "                if isinstance(param_range, range):\n",
    "                    params[param_name] = trial.suggest_int(\n",
    "                        param_name,\n",
    "                        param_range.start,\n",
    "                        param_range.stop - 1,\n",
    "                        param_range.step\n",
    "                    )\n",
    "                else:\n",
    "                    params[param_name] = trial.suggest_categorical(param_name, param_range)\n",
    "            \n",
    "            cerebro = bt.Cerebro(\n",
    "                        optdatas=True,    \n",
    "                        optreturn=True,   \n",
    "                        runonce=True,     \n",
    "                        preload=True      \n",
    "            )\n",
    "            data = preloaded_data.clone()\n",
    "            cerebro.adddata(data)\n",
    "            cerebro.addstrategy(CONFIG['strategy']['class'], **params)\n",
    "            \n",
    "            cerebro.addanalyzer(bt.analyzers.TradeAnalyzer, _name='trades')\n",
    "            cerebro.addanalyzer(bt.analyzers.Returns, _name='returns')\n",
    "            \n",
    "            results = cerebro.run()\n",
    "            strat = results[0]\n",
    "            score = custom_score(strat)\n",
    "            \n",
    "            print(f\"[{symbol}-{timeframe}] Trial {trial.number}: 参数 {params} -> 得分 {score:.2f}\")\n",
    "            \n",
    "            return score\n",
    "        except Exception as e:\n",
    "            print(f\"[{symbol}-{timeframe}] Trial {trial.number} 出错: {e}\")\n",
    "            return float('-inf')\n",
    "    \n",
    "    study.optimize(\n",
    "        objective,\n",
    "        n_trials=CONFIG['optimization_settings']['n_trials'],\n",
    "        timeout=CONFIG['optimization_settings']['timeout'],\n",
    "        n_jobs=CONFIG['optimization_settings'].get('n_jobs', 1),\n",
    "        catch=(Exception,)\n",
    "    )\n",
    "    \n",
    "    # 提取前 5 个最佳试验并直接保存\n",
    "    completed_trials = [\n",
    "        t for t in study.trials\n",
    "        if t.state == optuna.trial.TrialState.COMPLETE and t.value is not None and t.value > float('-inf')\n",
    "    ]\n",
    "    \n",
    "    if not completed_trials:\n",
    "        print(f\"警告: {symbol}-{timeframe} 没有有效的完成试验\")\n",
    "        return []\n",
    "    \n",
    "    top_trials = sorted(completed_trials, key=lambda t: t.value, reverse=True)[:5]\n",
    "    \n",
    "    # 准备保存结果\n",
    "    results_to_save = []\n",
    "    for rank, trial in enumerate(top_trials, 1):\n",
    "        result = {\n",
    "            'Symbol': symbol,\n",
    "            'Target Timeframe': timeframe,\n",
    "            'Rank': rank,\n",
    "            'Score': trial.value,\n",
    "            **trial.params  # 展开参数\n",
    "        }\n",
    "        results_to_save.append(result)\n",
    "    \n",
    "    # 直接保存结果\n",
    "    save_master_results(results_to_save, master_file)\n",
    "    \n",
    "    print(f\"[{symbol}-{timeframe}] 已保存最佳参数组合\")\n",
    "    return results_to_save"
   ]
  },
  {
   "cell_type": "code",
   "execution_count": 35,
   "metadata": {},
   "outputs": [],
   "source": [
    "\n",
    "\n",
    "# def process_symbol_tf(symbol, tf, config):\n",
    "#     \"\"\"\n",
    "#     针对单个交易对和指定时间周期执行策略参数优化与回测，并赋予 1~5 的排名。\n",
    "#     \"\"\"\n",
    "#     print(f\"\\n开始针对 {symbol} 时间周期 {tf} 优化...\")\n",
    "#     # 使用已有的 optimize_strategy 函数\n",
    "#     top_results = optimize_strategy(symbol, tf)\n",
    "#     if not top_results:\n",
    "#         print(f\"警告: {symbol} 在 {tf} 时间周期下优化失败\")\n",
    "#         return []\n",
    "    \n",
    "#     processed_results = []\n",
    "#     # 为每个参数组合运行回测并获取量化指标，同时赋予排名\n",
    "#     for idx, res in enumerate(top_results, start=1):\n",
    "#         res['Symbol'] = symbol\n",
    "#         res['Target Timeframe'] = tf\n",
    "#         res['Rank'] = idx\n",
    "#         metrics = run_backtest_with_params(res, symbol, tf)\n",
    "#         res.update(metrics)\n",
    "#         processed_results.append(res)\n",
    "        \n",
    "#     print(f\"完成 {symbol} 在 {tf} 时间周期下的优化，获得 {len(processed_results)} 个结果\")\n",
    "#     return processed_results\n",
    "\n",
    "\n",
    "\n",
    "def auto_backup_results(master_file, backup_folder='backups'):\n",
    "    \"\"\"\n",
    "    创建优化结果文件的自动备份\n",
    "    \"\"\"\n",
    "    if not os.path.exists(master_file):\n",
    "        print(f\"文件不存在，无需备份: {master_file}\")\n",
    "        return\n",
    "    \n",
    "    # 创建备份目录\n",
    "    os.makedirs(backup_folder, exist_ok=True)\n",
    "    \n",
    "    # 创建带时间戳的备份文件名\n",
    "    timestamp = datetime.now().strftime(\"%Y%m%d_%H%M%S\")\n",
    "    filename = os.path.basename(master_file)\n",
    "    backup_file = os.path.join(backup_folder, f\"{filename}.{timestamp}.bak\")\n",
    "    \n",
    "    try:\n",
    "        import shutil\n",
    "        shutil.copy2(master_file, backup_file)\n",
    "        print(f\"已自动创建备份: {backup_file}\")\n",
    "    except Exception as e:\n",
    "        print(f\"自动备份失败: {str(e)}\")\n",
    "\n",
    "def batch_optimize(config):\n",
    "    \"\"\"\n",
    "    批量优化所有交易对和指定多个时间周期\n",
    "    \"\"\"\n",
    "\n",
    "    # 使用多线程并行处理\n",
    "    import threading\n",
    "    from queue import Queue\n",
    "\n",
    "    os.makedirs(config['reports_path'], exist_ok=True)\n",
    "    \n",
    "    master_file, master_df, optimized_combinations = load_master_results(config)\n",
    "    \n",
    "    # 获取交易对列表\n",
    "    if config.get('selected_symbols'):\n",
    "        symbols = config['selected_symbols']\n",
    "    else:\n",
    "        symbols = get_all_symbols(config['data_path'], config['start_date'])\n",
    "    \n",
    "    # 创建备份\n",
    "    auto_backup_results(master_file)\n",
    "    \n",
    "    # 准备未完成的组合\n",
    "    remaining_combinations = []\n",
    "    for symbol in symbols:\n",
    "        for tf in config['target_timeframes']:\n",
    "            if (symbol, tf) not in optimized_combinations:\n",
    "                remaining_combinations.append((symbol, tf))\n",
    "    \n",
    "    print(f\"剩余需要优化的组合数量: {len(remaining_combinations)} 个\")\n",
    "    \n",
    "    # 使用多线程处理\n",
    "    task_queue = Queue()\n",
    "    for combo in remaining_combinations:\n",
    "        task_queue.put(combo)\n",
    "    \n",
    "    file_lock = threading.Lock()\n",
    "    \n",
    "    def worker():\n",
    "        while not task_queue.empty():\n",
    "            try:\n",
    "                symbol, tf = task_queue.get(block=False)\n",
    "                print(f\"开始处理组合: {symbol}-{tf}\")\n",
    "                with file_lock:\n",
    "                    optimize_strategy(symbol, tf, master_file)  # 传入 master_file\n",
    "                task_queue.task_done()\n",
    "            except Exception as e:\n",
    "                print(f\"处理任务出错: {e}\")\n",
    "                try:\n",
    "                    task_queue.task_done()\n",
    "                except:\n",
    "                    pass\n",
    "    \n",
    "    # 创建并启动线程\n",
    "    n_threads = min(30, len(remaining_combinations))\n",
    "    threads = []\n",
    "    for _ in range(n_threads):\n",
    "        t = threading.Thread(target=worker)\n",
    "        t.daemon = True\n",
    "        threads.append(t)\n",
    "        t.start()\n",
    "    \n",
    "    # 等待所有线程完成\n",
    "    for t in threads:\n",
    "        t.join()\n",
    "    \n",
    "    # 最终备份\n",
    "    auto_backup_results(master_file, backup_folder='backups_final')\n",
    "    print(\"批量优化完成\")\n"
   ]
  },
  {
   "cell_type": "code",
   "execution_count": 36,
   "metadata": {},
   "outputs": [
    {
     "name": "stderr",
     "output_type": "stream",
     "text": [
      "[I 2025-03-28 02:10:56,690] Trial 958 finished with value: 0.0 and parameters: {'frequency': 28, 'rsiFrequency': 26, 'buyZoneDistance': 1, 'avgDownATRSum': 9, 'useAbsoluteRSIBarrier': False, 'barrierLevel': 74, 'pyramiding': 1}. Best is trial 194 with value: 3.035131444116313.\n"
     ]
    },
    {
     "name": "stdout",
     "output_type": "stream",
     "text": [
      "[1000PEPEUSDT-15min] Trial 958: 参数 {'frequency': 28, 'rsiFrequency': 26, 'buyZoneDistance': 1, 'avgDownATRSum': 9, 'useAbsoluteRSIBarrier': False, 'barrierLevel': 74, 'pyramiding': 1} -> 得分 0.00\n"
     ]
    },
    {
     "name": "stderr",
     "output_type": "stream",
     "text": [
      "[I 2025-03-28 02:10:59,587] Trial 959 finished with value: 3.035131444116313 and parameters: {'frequency': 4, 'rsiFrequency': 26, 'buyZoneDistance': 1, 'avgDownATRSum': 10, 'useAbsoluteRSIBarrier': False, 'barrierLevel': 58, 'pyramiding': 1}. Best is trial 194 with value: 3.035131444116313.\n"
     ]
    },
    {
     "name": "stdout",
     "output_type": "stream",
     "text": [
      "[1000PEPEUSDT-15min] Trial 959: 参数 {'frequency': 4, 'rsiFrequency': 26, 'buyZoneDistance': 1, 'avgDownATRSum': 10, 'useAbsoluteRSIBarrier': False, 'barrierLevel': 58, 'pyramiding': 1} -> 得分 3.04\n"
     ]
    },
    {
     "name": "stderr",
     "output_type": "stream",
     "text": [
      "[I 2025-03-28 02:11:04,257] Trial 961 finished with value: 3.035131444116313 and parameters: {'frequency': 4, 'rsiFrequency': 26, 'buyZoneDistance': 1, 'avgDownATRSum': 9, 'useAbsoluteRSIBarrier': False, 'barrierLevel': 58, 'pyramiding': 1}. Best is trial 194 with value: 3.035131444116313.\n"
     ]
    },
    {
     "name": "stdout",
     "output_type": "stream",
     "text": [
      "[1000PEPEUSDT-15min] Trial 961: 参数 {'frequency': 4, 'rsiFrequency': 26, 'buyZoneDistance': 1, 'avgDownATRSum': 9, 'useAbsoluteRSIBarrier': False, 'barrierLevel': 58, 'pyramiding': 1} -> 得分 3.04\n"
     ]
    },
    {
     "name": "stderr",
     "output_type": "stream",
     "text": [
      "[I 2025-03-28 02:11:11,787] Trial 960 finished with value: 3.035131444116313 and parameters: {'frequency': 4, 'rsiFrequency': 26, 'buyZoneDistance': 1, 'avgDownATRSum': 9, 'useAbsoluteRSIBarrier': False, 'barrierLevel': 56, 'pyramiding': 1}. Best is trial 194 with value: 3.035131444116313.\n"
     ]
    },
    {
     "name": "stdout",
     "output_type": "stream",
     "text": [
      "[1000PEPEUSDT-15min] Trial 960: 参数 {'frequency': 4, 'rsiFrequency': 26, 'buyZoneDistance': 1, 'avgDownATRSum': 9, 'useAbsoluteRSIBarrier': False, 'barrierLevel': 56, 'pyramiding': 1} -> 得分 3.04\n"
     ]
    },
    {
     "name": "stderr",
     "output_type": "stream",
     "text": [
      "[I 2025-03-28 02:11:17,710] Trial 963 finished with value: 0.24591508688910668 and parameters: {'frequency': 4, 'rsiFrequency': 26, 'buyZoneDistance': 6, 'avgDownATRSum': 9, 'useAbsoluteRSIBarrier': False, 'barrierLevel': 56, 'pyramiding': 1}. Best is trial 194 with value: 3.035131444116313.\n"
     ]
    },
    {
     "name": "stdout",
     "output_type": "stream",
     "text": [
      "[1000PEPEUSDT-15min] Trial 963: 参数 {'frequency': 4, 'rsiFrequency': 26, 'buyZoneDistance': 6, 'avgDownATRSum': 9, 'useAbsoluteRSIBarrier': False, 'barrierLevel': 56, 'pyramiding': 1} -> 得分 0.25\n"
     ]
    },
    {
     "name": "stderr",
     "output_type": "stream",
     "text": [
      "[I 2025-03-28 02:11:22,199] Trial 962 finished with value: 0.0 and parameters: {'frequency': 4, 'rsiFrequency': 22, 'buyZoneDistance': 1, 'avgDownATRSum': 9, 'useAbsoluteRSIBarrier': False, 'barrierLevel': 58, 'pyramiding': 1}. Best is trial 194 with value: 3.035131444116313.\n"
     ]
    },
    {
     "name": "stdout",
     "output_type": "stream",
     "text": [
      "[1000PEPEUSDT-15min] Trial 962: 参数 {'frequency': 4, 'rsiFrequency': 22, 'buyZoneDistance': 1, 'avgDownATRSum': 9, 'useAbsoluteRSIBarrier': False, 'barrierLevel': 58, 'pyramiding': 1} -> 得分 0.00\n",
      "[1000PEPEUSDT-15min] Trial 966: 参数 {'frequency': 4, 'rsiFrequency': 22, 'buyZoneDistance': 1, 'avgDownATRSum': 9, 'useAbsoluteRSIBarrier': False, 'barrierLevel': 58, 'pyramiding': 1} -> 得分 0.00"
     ]
    },
    {
     "name": "stderr",
     "output_type": "stream",
     "text": [
      "[I 2025-03-28 02:11:52,604] Trial 966 finished with value: 0.0 and parameters: {'frequency': 4, 'rsiFrequency': 22, 'buyZoneDistance': 1, 'avgDownATRSum': 9, 'useAbsoluteRSIBarrier': False, 'barrierLevel': 58, 'pyramiding': 1}. Best is trial 194 with value: 3.035131444116313.\n"
     ]
    },
    {
     "name": "stdout",
     "output_type": "stream",
     "text": [
      "\n"
     ]
    },
    {
     "name": "stderr",
     "output_type": "stream",
     "text": [
      "[I 2025-03-28 02:12:05,662] Trial 964 finished with value: 0.0 and parameters: {'frequency': 4, 'rsiFrequency': 22, 'buyZoneDistance': 1, 'avgDownATRSum': 9, 'useAbsoluteRSIBarrier': False, 'barrierLevel': 56, 'pyramiding': 1}. Best is trial 194 with value: 3.035131444116313.\n"
     ]
    },
    {
     "name": "stdout",
     "output_type": "stream",
     "text": [
      "[1000PEPEUSDT-15min] Trial 964: 参数 {'frequency': 4, 'rsiFrequency': 22, 'buyZoneDistance': 1, 'avgDownATRSum': 9, 'useAbsoluteRSIBarrier': False, 'barrierLevel': 56, 'pyramiding': 1} -> 得分 0.00\n"
     ]
    },
    {
     "name": "stderr",
     "output_type": "stream",
     "text": [
      "[I 2025-03-28 02:12:11,205] Trial 965 finished with value: -7.563012553853935 and parameters: {'frequency': 4, 'rsiFrequency': 22, 'buyZoneDistance': 6, 'avgDownATRSum': 9, 'useAbsoluteRSIBarrier': False, 'barrierLevel': 58, 'pyramiding': 4}. Best is trial 194 with value: 3.035131444116313.\n"
     ]
    },
    {
     "name": "stdout",
     "output_type": "stream",
     "text": [
      "[1000PEPEUSDT-15min] Trial 965: 参数 {'frequency': 4, 'rsiFrequency': 22, 'buyZoneDistance': 6, 'avgDownATRSum': 9, 'useAbsoluteRSIBarrier': False, 'barrierLevel': 58, 'pyramiding': 4} -> 得分 -7.56\n",
      "[1000PEPEUSDT-15min] Trial 969: 参数 {'frequency': 4, 'rsiFrequency': 22, 'buyZoneDistance': 6, 'avgDownATRSum': 9, 'useAbsoluteRSIBarrier': False, 'barrierLevel': 56, 'pyramiding': 1} -> 得分 0.00\n"
     ]
    },
    {
     "name": "stderr",
     "output_type": "stream",
     "text": [
      "[I 2025-03-28 02:12:13,838] Trial 969 finished with value: 0.0 and parameters: {'frequency': 4, 'rsiFrequency': 22, 'buyZoneDistance': 6, 'avgDownATRSum': 9, 'useAbsoluteRSIBarrier': False, 'barrierLevel': 56, 'pyramiding': 1}. Best is trial 194 with value: 3.035131444116313.\n",
      "[I 2025-03-28 02:12:17,692] Trial 974 finished with value: 0.0 and parameters: {'frequency': 4, 'rsiFrequency': 22, 'buyZoneDistance': 1, 'avgDownATRSum': 9, 'useAbsoluteRSIBarrier': False, 'barrierLevel': 56, 'pyramiding': 1}. Best is trial 194 with value: 3.035131444116313.\n"
     ]
    },
    {
     "name": "stdout",
     "output_type": "stream",
     "text": [
      "[1000PEPEUSDT-15min] Trial 974: 参数 {'frequency': 4, 'rsiFrequency': 22, 'buyZoneDistance': 1, 'avgDownATRSum': 9, 'useAbsoluteRSIBarrier': False, 'barrierLevel': 56, 'pyramiding': 1} -> 得分 0.00\n"
     ]
    },
    {
     "name": "stderr",
     "output_type": "stream",
     "text": [
      "[I 2025-03-28 02:12:21,874] Trial 967 finished with value: 0.0 and parameters: {'frequency': 4, 'rsiFrequency': 22, 'buyZoneDistance': 6, 'avgDownATRSum': 9, 'useAbsoluteRSIBarrier': False, 'barrierLevel': 56, 'pyramiding': 1}. Best is trial 194 with value: 3.035131444116313.\n"
     ]
    },
    {
     "name": "stdout",
     "output_type": "stream",
     "text": [
      "[1000PEPEUSDT-15min] Trial 967: 参数 {'frequency': 4, 'rsiFrequency': 22, 'buyZoneDistance': 6, 'avgDownATRSum': 9, 'useAbsoluteRSIBarrier': False, 'barrierLevel': 56, 'pyramiding': 1} -> 得分 0.00\n"
     ]
    },
    {
     "name": "stderr",
     "output_type": "stream",
     "text": [
      "[I 2025-03-28 02:12:30,822] Trial 968 finished with value: 0.0 and parameters: {'frequency': 4, 'rsiFrequency': 22, 'buyZoneDistance': 1, 'avgDownATRSum': 9, 'useAbsoluteRSIBarrier': False, 'barrierLevel': 56, 'pyramiding': 1}. Best is trial 194 with value: 3.035131444116313.\n"
     ]
    },
    {
     "name": "stdout",
     "output_type": "stream",
     "text": [
      "[1000PEPEUSDT-15min] Trial 968: 参数 {'frequency': 4, 'rsiFrequency': 22, 'buyZoneDistance': 1, 'avgDownATRSum': 9, 'useAbsoluteRSIBarrier': False, 'barrierLevel': 56, 'pyramiding': 1} -> 得分 0.00\n"
     ]
    },
    {
     "name": "stderr",
     "output_type": "stream",
     "text": [
      "[I 2025-03-28 02:12:37,606] Trial 971 finished with value: 0.0 and parameters: {'frequency': 4, 'rsiFrequency': 22, 'buyZoneDistance': 1, 'avgDownATRSum': 9, 'useAbsoluteRSIBarrier': False, 'barrierLevel': 56, 'pyramiding': 1}. Best is trial 194 with value: 3.035131444116313.\n"
     ]
    },
    {
     "name": "stdout",
     "output_type": "stream",
     "text": [
      "[1000PEPEUSDT-15min] Trial 971: 参数 {'frequency': 4, 'rsiFrequency': 22, 'buyZoneDistance': 1, 'avgDownATRSum': 9, 'useAbsoluteRSIBarrier': False, 'barrierLevel': 56, 'pyramiding': 1} -> 得分 0.00\n"
     ]
    },
    {
     "name": "stderr",
     "output_type": "stream",
     "text": [
      "[I 2025-03-28 02:12:39,979] Trial 970 finished with value: 0.0 and parameters: {'frequency': 4, 'rsiFrequency': 22, 'buyZoneDistance': 6, 'avgDownATRSum': 9, 'useAbsoluteRSIBarrier': False, 'barrierLevel': 56, 'pyramiding': 1}. Best is trial 194 with value: 3.035131444116313.\n"
     ]
    },
    {
     "name": "stdout",
     "output_type": "stream",
     "text": [
      "[1000PEPEUSDT-15min] Trial 970: 参数 {'frequency': 4, 'rsiFrequency': 22, 'buyZoneDistance': 6, 'avgDownATRSum': 9, 'useAbsoluteRSIBarrier': False, 'barrierLevel': 56, 'pyramiding': 1} -> 得分 0.00\n",
      "[1000PEPEUSDT-15min] Trial 973: 参数 {'frequency': 4, 'rsiFrequency': 22, 'buyZoneDistance': 1, 'avgDownATRSum': 9, 'useAbsoluteRSIBarrier': False, 'barrierLevel': 58, 'pyramiding': 1} -> 得分 0.00\n"
     ]
    },
    {
     "name": "stderr",
     "output_type": "stream",
     "text": [
      "[I 2025-03-28 02:12:40,630] Trial 973 finished with value: 0.0 and parameters: {'frequency': 4, 'rsiFrequency': 22, 'buyZoneDistance': 1, 'avgDownATRSum': 9, 'useAbsoluteRSIBarrier': False, 'barrierLevel': 58, 'pyramiding': 1}. Best is trial 194 with value: 3.035131444116313.\n",
      "[I 2025-03-28 02:12:41,402] Trial 972 finished with value: 0.0 and parameters: {'frequency': 4, 'rsiFrequency': 22, 'buyZoneDistance': 1, 'avgDownATRSum': 10, 'useAbsoluteRSIBarrier': False, 'barrierLevel': 58, 'pyramiding': 1}. Best is trial 194 with value: 3.035131444116313.\n"
     ]
    },
    {
     "name": "stdout",
     "output_type": "stream",
     "text": [
      "[1000PEPEUSDT-15min] Trial 972: 参数 {'frequency': 4, 'rsiFrequency': 22, 'buyZoneDistance': 1, 'avgDownATRSum': 10, 'useAbsoluteRSIBarrier': False, 'barrierLevel': 58, 'pyramiding': 1} -> 得分 0.00\n"
     ]
    },
    {
     "name": "stderr",
     "output_type": "stream",
     "text": [
      "[I 2025-03-28 02:12:50,382] Trial 976 finished with value: 0.0 and parameters: {'frequency': 4, 'rsiFrequency': 22, 'buyZoneDistance': 1, 'avgDownATRSum': 9, 'useAbsoluteRSIBarrier': False, 'barrierLevel': 56, 'pyramiding': 1}. Best is trial 194 with value: 3.035131444116313.\n"
     ]
    },
    {
     "name": "stdout",
     "output_type": "stream",
     "text": [
      "[1000PEPEUSDT-15min] Trial 976: 参数 {'frequency': 4, 'rsiFrequency': 22, 'buyZoneDistance': 1, 'avgDownATRSum': 9, 'useAbsoluteRSIBarrier': False, 'barrierLevel': 56, 'pyramiding': 1} -> 得分 0.00\n"
     ]
    },
    {
     "name": "stderr",
     "output_type": "stream",
     "text": [
      "[I 2025-03-28 02:13:15,796] Trial 975 finished with value: 0.0 and parameters: {'frequency': 4, 'rsiFrequency': 22, 'buyZoneDistance': 1, 'avgDownATRSum': 11, 'useAbsoluteRSIBarrier': False, 'barrierLevel': 58, 'pyramiding': 1}. Best is trial 194 with value: 3.035131444116313.\n"
     ]
    },
    {
     "name": "stdout",
     "output_type": "stream",
     "text": [
      "[1000PEPEUSDT-15min] Trial 975: 参数 {'frequency': 4, 'rsiFrequency': 22, 'buyZoneDistance': 1, 'avgDownATRSum': 11, 'useAbsoluteRSIBarrier': False, 'barrierLevel': 58, 'pyramiding': 1} -> 得分 0.00\n"
     ]
    },
    {
     "name": "stderr",
     "output_type": "stream",
     "text": [
      "[I 2025-03-28 02:13:19,852] Trial 977 finished with value: 0.0 and parameters: {'frequency': 4, 'rsiFrequency': 22, 'buyZoneDistance': 1, 'avgDownATRSum': 9, 'useAbsoluteRSIBarrier': False, 'barrierLevel': 58, 'pyramiding': 1}. Best is trial 194 with value: 3.035131444116313.\n"
     ]
    },
    {
     "name": "stdout",
     "output_type": "stream",
     "text": [
      "[1000PEPEUSDT-15min] Trial 977: 参数 {'frequency': 4, 'rsiFrequency': 22, 'buyZoneDistance': 1, 'avgDownATRSum': 9, 'useAbsoluteRSIBarrier': False, 'barrierLevel': 58, 'pyramiding': 1} -> 得分 0.00\n"
     ]
    },
    {
     "name": "stderr",
     "output_type": "stream",
     "text": [
      "[I 2025-03-28 02:13:23,498] Trial 978 finished with value: 0.0 and parameters: {'frequency': 4, 'rsiFrequency': 22, 'buyZoneDistance': 1, 'avgDownATRSum': 9, 'useAbsoluteRSIBarrier': False, 'barrierLevel': 58, 'pyramiding': 1}. Best is trial 194 with value: 3.035131444116313.\n",
      "[I 2025-03-28 02:13:24,600] Trial 979 finished with value: 0.0 and parameters: {'frequency': 4, 'rsiFrequency': 22, 'buyZoneDistance': 1, 'avgDownATRSum': 9, 'useAbsoluteRSIBarrier': False, 'barrierLevel': 58, 'pyramiding': 1}. Best is trial 194 with value: 3.035131444116313.\n"
     ]
    },
    {
     "name": "stdout",
     "output_type": "stream",
     "text": [
      "[1000PEPEUSDT-15min] Trial 978: 参数 {'frequency': 4, 'rsiFrequency': 22, 'buyZoneDistance': 1, 'avgDownATRSum': 9, 'useAbsoluteRSIBarrier': False, 'barrierLevel': 58, 'pyramiding': 1} -> 得分 0.00\n",
      "[1000PEPEUSDT-15min] Trial 979: 参数 {'frequency': 4, 'rsiFrequency': 22, 'buyZoneDistance': 1, 'avgDownATRSum': 9, 'useAbsoluteRSIBarrier': False, 'barrierLevel': 58, 'pyramiding': 1} -> 得分 0.00\n"
     ]
    },
    {
     "name": "stderr",
     "output_type": "stream",
     "text": [
      "[I 2025-03-28 02:13:26,987] Trial 983 finished with value: 0.0 and parameters: {'frequency': 4, 'rsiFrequency': 28, 'buyZoneDistance': 1, 'avgDownATRSum': 9, 'useAbsoluteRSIBarrier': False, 'barrierLevel': 58, 'pyramiding': 1}. Best is trial 194 with value: 3.035131444116313.\n"
     ]
    },
    {
     "name": "stdout",
     "output_type": "stream",
     "text": [
      "[1000PEPEUSDT-15min] Trial 983: 参数 {'frequency': 4, 'rsiFrequency': 28, 'buyZoneDistance': 1, 'avgDownATRSum': 9, 'useAbsoluteRSIBarrier': False, 'barrierLevel': 58, 'pyramiding': 1} -> 得分 0.00\n"
     ]
    },
    {
     "name": "stderr",
     "output_type": "stream",
     "text": [
      "[I 2025-03-28 02:13:27,441] Trial 985 finished with value: 0.0 and parameters: {'frequency': 4, 'rsiFrequency': 22, 'buyZoneDistance': 1, 'avgDownATRSum': 9, 'useAbsoluteRSIBarrier': False, 'barrierLevel': 58, 'pyramiding': 1}. Best is trial 194 with value: 3.035131444116313.\n"
     ]
    },
    {
     "name": "stdout",
     "output_type": "stream",
     "text": [
      "[1000PEPEUSDT-15min] Trial 985: 参数 {'frequency': 4, 'rsiFrequency': 22, 'buyZoneDistance': 1, 'avgDownATRSum': 9, 'useAbsoluteRSIBarrier': False, 'barrierLevel': 58, 'pyramiding': 1} -> 得分 0.00\n"
     ]
    },
    {
     "name": "stderr",
     "output_type": "stream",
     "text": [
      "[I 2025-03-28 02:13:33,047] Trial 984 finished with value: 0.0 and parameters: {'frequency': 4, 'rsiFrequency': 22, 'buyZoneDistance': 1, 'avgDownATRSum': 9, 'useAbsoluteRSIBarrier': False, 'barrierLevel': 58, 'pyramiding': 1}. Best is trial 194 with value: 3.035131444116313.\n"
     ]
    },
    {
     "name": "stdout",
     "output_type": "stream",
     "text": [
      "[1000PEPEUSDT-15min] Trial 984: 参数 {'frequency': 4, 'rsiFrequency': 22, 'buyZoneDistance': 1, 'avgDownATRSum': 9, 'useAbsoluteRSIBarrier': False, 'barrierLevel': 58, 'pyramiding': 1} -> 得分 0.00\n"
     ]
    },
    {
     "name": "stderr",
     "output_type": "stream",
     "text": [
      "[I 2025-03-28 02:13:38,454] Trial 980 finished with value: 0.0 and parameters: {'frequency': 4, 'rsiFrequency': 22, 'buyZoneDistance': 1, 'avgDownATRSum': 9, 'useAbsoluteRSIBarrier': False, 'barrierLevel': 56, 'pyramiding': 1}. Best is trial 194 with value: 3.035131444116313.\n"
     ]
    },
    {
     "name": "stdout",
     "output_type": "stream",
     "text": [
      "[1000PEPEUSDT-15min] Trial 980: 参数 {'frequency': 4, 'rsiFrequency': 22, 'buyZoneDistance': 1, 'avgDownATRSum': 9, 'useAbsoluteRSIBarrier': False, 'barrierLevel': 56, 'pyramiding': 1} -> 得分 0.00\n"
     ]
    },
    {
     "name": "stderr",
     "output_type": "stream",
     "text": [
      "[I 2025-03-28 02:13:42,725] Trial 986 finished with value: 0.0 and parameters: {'frequency': 4, 'rsiFrequency': 22, 'buyZoneDistance': 1, 'avgDownATRSum': 9, 'useAbsoluteRSIBarrier': False, 'barrierLevel': 58, 'pyramiding': 1}. Best is trial 194 with value: 3.035131444116313.\n"
     ]
    },
    {
     "name": "stdout",
     "output_type": "stream",
     "text": [
      "[1000PEPEUSDT-15min] Trial 986: 参数 {'frequency': 4, 'rsiFrequency': 22, 'buyZoneDistance': 1, 'avgDownATRSum': 9, 'useAbsoluteRSIBarrier': False, 'barrierLevel': 58, 'pyramiding': 1} -> 得分 0.00\n"
     ]
    },
    {
     "name": "stderr",
     "output_type": "stream",
     "text": [
      "[I 2025-03-28 02:13:43,632] Trial 987 finished with value: 0.0 and parameters: {'frequency': 4, 'rsiFrequency': 22, 'buyZoneDistance': 1, 'avgDownATRSum': 10, 'useAbsoluteRSIBarrier': False, 'barrierLevel': 58, 'pyramiding': 1}. Best is trial 194 with value: 3.035131444116313.\n"
     ]
    },
    {
     "name": "stdout",
     "output_type": "stream",
     "text": [
      "[1000PEPEUSDT-15min] Trial 987: 参数 {'frequency': 4, 'rsiFrequency': 22, 'buyZoneDistance': 1, 'avgDownATRSum': 10, 'useAbsoluteRSIBarrier': False, 'barrierLevel': 58, 'pyramiding': 1} -> 得分 0.00\n"
     ]
    },
    {
     "name": "stderr",
     "output_type": "stream",
     "text": [
      "[I 2025-03-28 02:13:46,917] Trial 981 finished with value: 0.0 and parameters: {'frequency': 4, 'rsiFrequency': 22, 'buyZoneDistance': 1, 'avgDownATRSum': 9, 'useAbsoluteRSIBarrier': False, 'barrierLevel': 58, 'pyramiding': 1}. Best is trial 194 with value: 3.035131444116313.\n"
     ]
    },
    {
     "name": "stdout",
     "output_type": "stream",
     "text": [
      "[1000PEPEUSDT-15min] Trial 981: 参数 {'frequency': 4, 'rsiFrequency': 22, 'buyZoneDistance': 1, 'avgDownATRSum': 9, 'useAbsoluteRSIBarrier': False, 'barrierLevel': 58, 'pyramiding': 1} -> 得分 0.00\n",
      "[1000PEPEUSDT-15min] Trial 982: 参数 {'frequency': 4, 'rsiFrequency': 22, 'buyZoneDistance': 1, 'avgDownATRSum': 9, 'useAbsoluteRSIBarrier': False, 'barrierLevel': 56, 'pyramiding': 1} -> 得分 0.00\n"
     ]
    },
    {
     "name": "stderr",
     "output_type": "stream",
     "text": [
      "[I 2025-03-28 02:13:47,393] Trial 982 finished with value: 0.0 and parameters: {'frequency': 4, 'rsiFrequency': 22, 'buyZoneDistance': 1, 'avgDownATRSum': 9, 'useAbsoluteRSIBarrier': False, 'barrierLevel': 56, 'pyramiding': 1}. Best is trial 194 with value: 3.035131444116313.\n",
      "[I 2025-03-28 02:14:19,247] Trial 989 finished with value: 0.0 and parameters: {'frequency': 4, 'rsiFrequency': 22, 'buyZoneDistance': 1, 'avgDownATRSum': 9, 'useAbsoluteRSIBarrier': False, 'barrierLevel': 58, 'pyramiding': 1}. Best is trial 194 with value: 3.035131444116313.\n"
     ]
    },
    {
     "name": "stdout",
     "output_type": "stream",
     "text": [
      "[1000PEPEUSDT-15min] Trial 989: 参数 {'frequency': 4, 'rsiFrequency': 22, 'buyZoneDistance': 1, 'avgDownATRSum': 9, 'useAbsoluteRSIBarrier': False, 'barrierLevel': 58, 'pyramiding': 1} -> 得分 0.00\n"
     ]
    },
    {
     "name": "stderr",
     "output_type": "stream",
     "text": [
      "[I 2025-03-28 02:14:25,677] Trial 990 finished with value: -18.695204801817642 and parameters: {'frequency': 4, 'rsiFrequency': 22, 'buyZoneDistance': 1, 'avgDownATRSum': 9, 'useAbsoluteRSIBarrier': False, 'barrierLevel': 58, 'pyramiding': 4}. Best is trial 194 with value: 3.035131444116313.\n"
     ]
    },
    {
     "name": "stdout",
     "output_type": "stream",
     "text": [
      "[1000PEPEUSDT-15min] Trial 990: 参数 {'frequency': 4, 'rsiFrequency': 22, 'buyZoneDistance': 1, 'avgDownATRSum': 9, 'useAbsoluteRSIBarrier': False, 'barrierLevel': 58, 'pyramiding': 4} -> 得分 -18.70\n"
     ]
    },
    {
     "name": "stderr",
     "output_type": "stream",
     "text": [
      "[I 2025-03-28 02:14:26,021] Trial 988 finished with value: -18.695204801817642 and parameters: {'frequency': 4, 'rsiFrequency': 22, 'buyZoneDistance': 1, 'avgDownATRSum': 9, 'useAbsoluteRSIBarrier': False, 'barrierLevel': 58, 'pyramiding': 4}. Best is trial 194 with value: 3.035131444116313.\n"
     ]
    },
    {
     "name": "stdout",
     "output_type": "stream",
     "text": [
      "[1000PEPEUSDT-15min] Trial 988: 参数 {'frequency': 4, 'rsiFrequency': 22, 'buyZoneDistance': 1, 'avgDownATRSum': 9, 'useAbsoluteRSIBarrier': False, 'barrierLevel': 58, 'pyramiding': 4} -> 得分 -18.70\n"
     ]
    },
    {
     "name": "stderr",
     "output_type": "stream",
     "text": [
      "[I 2025-03-28 02:14:26,510] Trial 991 finished with value: 0.0 and parameters: {'frequency': 4, 'rsiFrequency': 22, 'buyZoneDistance': 1, 'avgDownATRSum': 9, 'useAbsoluteRSIBarrier': False, 'barrierLevel': 58, 'pyramiding': 1}. Best is trial 194 with value: 3.035131444116313.\n"
     ]
    },
    {
     "name": "stdout",
     "output_type": "stream",
     "text": [
      "[1000PEPEUSDT-15min] Trial 991: 参数 {'frequency': 4, 'rsiFrequency': 22, 'buyZoneDistance': 1, 'avgDownATRSum': 9, 'useAbsoluteRSIBarrier': False, 'barrierLevel': 58, 'pyramiding': 1} -> 得分 0.00\n"
     ]
    },
    {
     "name": "stderr",
     "output_type": "stream",
     "text": [
      "[I 2025-03-28 02:14:32,953] Trial 992 finished with value: 0.0 and parameters: {'frequency': 4, 'rsiFrequency': 22, 'buyZoneDistance': 1, 'avgDownATRSum': 9, 'useAbsoluteRSIBarrier': False, 'barrierLevel': 58, 'pyramiding': 1}. Best is trial 194 with value: 3.035131444116313.\n"
     ]
    },
    {
     "name": "stdout",
     "output_type": "stream",
     "text": [
      "[1000PEPEUSDT-15min] Trial 992: 参数 {'frequency': 4, 'rsiFrequency': 22, 'buyZoneDistance': 1, 'avgDownATRSum': 9, 'useAbsoluteRSIBarrier': False, 'barrierLevel': 58, 'pyramiding': 1} -> 得分 0.00\n"
     ]
    },
    {
     "name": "stderr",
     "output_type": "stream",
     "text": [
      "[I 2025-03-28 02:14:36,277] Trial 993 finished with value: 0.0 and parameters: {'frequency': 4, 'rsiFrequency': 22, 'buyZoneDistance': 1, 'avgDownATRSum': 9, 'useAbsoluteRSIBarrier': False, 'barrierLevel': 58, 'pyramiding': 1}. Best is trial 194 with value: 3.035131444116313.\n"
     ]
    },
    {
     "name": "stdout",
     "output_type": "stream",
     "text": [
      "[1000PEPEUSDT-15min] Trial 993: 参数 {'frequency': 4, 'rsiFrequency': 22, 'buyZoneDistance': 1, 'avgDownATRSum': 9, 'useAbsoluteRSIBarrier': False, 'barrierLevel': 58, 'pyramiding': 1} -> 得分 0.00\n"
     ]
    },
    {
     "name": "stderr",
     "output_type": "stream",
     "text": [
      "[I 2025-03-28 02:14:55,847] Trial 994 finished with value: 0.0 and parameters: {'frequency': 4, 'rsiFrequency': 28, 'buyZoneDistance': 9, 'avgDownATRSum': 9, 'useAbsoluteRSIBarrier': False, 'barrierLevel': 80, 'pyramiding': 1}. Best is trial 194 with value: 3.035131444116313.\n"
     ]
    },
    {
     "name": "stdout",
     "output_type": "stream",
     "text": [
      "[1000PEPEUSDT-15min] Trial 994: 参数 {'frequency': 4, 'rsiFrequency': 28, 'buyZoneDistance': 9, 'avgDownATRSum': 9, 'useAbsoluteRSIBarrier': False, 'barrierLevel': 80, 'pyramiding': 1} -> 得分 0.00\n"
     ]
    },
    {
     "name": "stderr",
     "output_type": "stream",
     "text": [
      "[I 2025-03-28 02:15:00,762] Trial 998 finished with value: 0.0 and parameters: {'frequency': 4, 'rsiFrequency': 28, 'buyZoneDistance': 1, 'avgDownATRSum': 11, 'useAbsoluteRSIBarrier': False, 'barrierLevel': 80, 'pyramiding': 1}. Best is trial 194 with value: 3.035131444116313.\n"
     ]
    },
    {
     "name": "stdout",
     "output_type": "stream",
     "text": [
      "[1000PEPEUSDT-15min] Trial 998: 参数 {'frequency': 4, 'rsiFrequency': 28, 'buyZoneDistance': 1, 'avgDownATRSum': 11, 'useAbsoluteRSIBarrier': False, 'barrierLevel': 80, 'pyramiding': 1} -> 得分 0.00\n"
     ]
    },
    {
     "name": "stderr",
     "output_type": "stream",
     "text": [
      "[I 2025-03-28 02:15:03,004] Trial 997 finished with value: 0.0 and parameters: {'frequency': 4, 'rsiFrequency': 28, 'buyZoneDistance': 9, 'avgDownATRSum': 9, 'useAbsoluteRSIBarrier': True, 'barrierLevel': 58, 'pyramiding': 1}. Best is trial 194 with value: 3.035131444116313.\n"
     ]
    },
    {
     "name": "stdout",
     "output_type": "stream",
     "text": [
      "[1000PEPEUSDT-15min] Trial 997: 参数 {'frequency': 4, 'rsiFrequency': 28, 'buyZoneDistance': 9, 'avgDownATRSum': 9, 'useAbsoluteRSIBarrier': True, 'barrierLevel': 58, 'pyramiding': 1} -> 得分 0.00\n"
     ]
    },
    {
     "name": "stderr",
     "output_type": "stream",
     "text": [
      "[I 2025-03-28 02:15:03,316] Trial 999 finished with value: 0.0 and parameters: {'frequency': 4, 'rsiFrequency': 28, 'buyZoneDistance': 9, 'avgDownATRSum': 10, 'useAbsoluteRSIBarrier': True, 'barrierLevel': 58, 'pyramiding': 1}. Best is trial 194 with value: 3.035131444116313.\n"
     ]
    },
    {
     "name": "stdout",
     "output_type": "stream",
     "text": [
      "[1000PEPEUSDT-15min] Trial 999: 参数 {'frequency': 4, 'rsiFrequency': 28, 'buyZoneDistance': 9, 'avgDownATRSum': 10, 'useAbsoluteRSIBarrier': True, 'barrierLevel': 58, 'pyramiding': 1} -> 得分 0.00\n"
     ]
    },
    {
     "name": "stderr",
     "output_type": "stream",
     "text": [
      "[I 2025-03-28 02:15:04,201] Trial 995 finished with value: 0.0 and parameters: {'frequency': 4, 'rsiFrequency': 28, 'buyZoneDistance': 9, 'avgDownATRSum': 9, 'useAbsoluteRSIBarrier': True, 'barrierLevel': 58, 'pyramiding': 1}. Best is trial 194 with value: 3.035131444116313.\n"
     ]
    },
    {
     "name": "stdout",
     "output_type": "stream",
     "text": [
      "[1000PEPEUSDT-15min] Trial 995: 参数 {'frequency': 4, 'rsiFrequency': 28, 'buyZoneDistance': 9, 'avgDownATRSum': 9, 'useAbsoluteRSIBarrier': True, 'barrierLevel': 58, 'pyramiding': 1} -> 得分 0.00\n",
      "[1000PEPEUSDT-15min] Trial 996: 参数 {'frequency': 4, 'rsiFrequency': 28, 'buyZoneDistance': 1, 'avgDownATRSum': 9, 'useAbsoluteRSIBarrier': True, 'barrierLevel': 80, 'pyramiding': 1} -> 得分 0.00\n"
     ]
    },
    {
     "name": "stderr",
     "output_type": "stream",
     "text": [
      "[I 2025-03-28 02:15:04,434] Trial 996 finished with value: 0.0 and parameters: {'frequency': 4, 'rsiFrequency': 28, 'buyZoneDistance': 1, 'avgDownATRSum': 9, 'useAbsoluteRSIBarrier': True, 'barrierLevel': 80, 'pyramiding': 1}. Best is trial 194 with value: 3.035131444116313.\n"
     ]
    },
    {
     "name": "stdout",
     "output_type": "stream",
     "text": [
      "创建新文件并写入 5 条记录\n",
      "[1000PEPEUSDT-15min] 已保存最佳参数组合\n",
      "已自动创建备份: backups_final\\optimization_results_MeanReverter_20241228-20250323.csv.20250328_021504.bak\n",
      "批量优化完成\n"
     ]
    }
   ],
   "source": [
    "if __name__ == '__main__':\n",
    "    # 先清理不完整的 Optuna 数据库文件（不在最终结果 CSV 中的组合）\n",
    "    # clean_incomplete_optuna_db_files(CONFIG)\n",
    "    batch_optimize(CONFIG)"
   ]
  }
 ],
 "metadata": {
  "kernelspec": {
   "display_name": "backtrader",
   "language": "python",
   "name": "python3"
  },
  "language_info": {
   "codemirror_mode": {
    "name": "ipython",
    "version": 3
   },
   "file_extension": ".py",
   "mimetype": "text/x-python",
   "name": "python",
   "nbconvert_exporter": "python",
   "pygments_lexer": "ipython3",
   "version": "3.11.10"
  }
 },
 "nbformat": 4,
 "nbformat_minor": 4
}
