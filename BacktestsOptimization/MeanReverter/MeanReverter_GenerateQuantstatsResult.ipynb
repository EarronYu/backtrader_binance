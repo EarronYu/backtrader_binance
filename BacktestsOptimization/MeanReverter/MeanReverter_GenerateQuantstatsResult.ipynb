{
 "cells": [
  {
   "cell_type": "code",
   "execution_count": null,
   "metadata": {},
   "outputs": [],
   "source": [
    "import pandas as pd"
   ]
  },
  {
   "cell_type": "code",
   "execution_count": null,
   "metadata": {},
   "outputs": [],
   "source": [
    "\n",
    "\n",
    "# 读取CSV文件\n",
    "file_path = r\"C:\\Users\\x7498\\Downloads\\optimization_results_MeanReverter_20240101-20250208.csv\"\n",
    "df = pd.read_csv(file_path)\n",
    "\n",
    "# 创建一个标识字符串，将Symbol和Target Timeframe组合在一起作为唯一键\n",
    "df['组合'] = df['Symbol'] + '-' + df['Target Timeframe']\n",
    "\n",
    "# 对于每个组合，只保留Rank=1的行\n",
    "rank1_df = df[df['Rank'] == 1]\n",
    "\n",
    "# 按Score降序排序\n",
    "sorted_df = rank1_df.sort_values(by='Score', ascending=False)\n",
    "\n",
    "# 获取前25个最佳参数组合\n",
    "top25 = sorted_df.head(25)\n",
    "\n",
    "# 打印结果\n",
    "print(f\"找到了{len(top25)}个最佳参数组合，按Score排序如下：\\n\")\n",
    "pd.set_option('display.max_columns', None)  # 显示所有列\n",
    "pd.set_option('display.width', None)  # 确保所有列都能显示出来\n",
    "print(top25[['Symbol', 'Target Timeframe', 'Score', 'frequency', 'rsiFrequency', \n",
    "             'buyZoneDistance', 'avgDownATRSum', 'useAbsoluteRSIBarrier', \n",
    "             'barrierLevel', 'pyramiding']])\n",
    "\n",
    "# 保存结果到CSV\n",
    "output_file = \"top25_best_parameters.csv\"\n",
    "top25.to_csv(output_file, index=False)\n",
    "print(f\"\\n结果已保存到 {output_file}\")"
   ]
  }
 ],
 "metadata": {
  "language_info": {
   "name": "python"
  }
 },
 "nbformat": 4,
 "nbformat_minor": 2
}
